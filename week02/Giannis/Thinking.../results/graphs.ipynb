{
 "cells": [
  {
   "cell_type": "code",
   "execution_count": 94,
   "id": "3fcc6e98",
   "metadata": {},
   "outputs": [
    {
     "name": "stdout",
     "output_type": "stream",
     "text": [
      "     model  temperature     mean       std\n",
      "0   model1          0.0  0.17273  0.008320\n",
      "1   model1          0.1  0.16469  0.003110\n",
      "2   model1          0.2  0.16447  0.003224\n",
      "3   model1          0.3  0.16280  0.003045\n",
      "4   model1          0.4  0.16176  0.003169\n",
      "5   model1          0.5  0.15934  0.073394\n",
      "6   model1          0.6  0.14171  0.050179\n",
      "7   model1          0.7  0.15680  0.084430\n",
      "8   model1          0.8  0.14877  0.041362\n",
      "9   model1          0.9  0.14990  0.101106\n",
      "10  model1          1.0  0.14406  0.131194\n"
     ]
    },
    {
     "data": {
      "application/vnd.plotly.v1+json": {
       "config": {
        "plotlyServerURL": "https://plot.ly"
       },
       "data": [
        {
         "error_y": {
          "array": {
           "bdata": "zTOP6EsKgT9Xd3+Vo3lpP2nG0WzYaGo/2tPk1RHyaD8QnYSP9vVpP1GDx3HtybI/gU4zig2xqT/mZhNINJ21PwtJX2diLaU/53NwzBfiuT+B1UCy9srAPw==",
           "dtype": "f8"
          }
         },
         "hovertemplate": "model=model1<br>Temperature=%{x}<br>Mean Normalized Score=%{y}<extra></extra>",
         "legendgroup": "model1",
         "line": {
          "color": "#636efa",
          "dash": "solid"
         },
         "marker": {
          "symbol": "circle"
         },
         "mode": "lines+markers",
         "name": "model1",
         "orientation": "v",
         "showlegend": true,
         "type": "scatter",
         "x": {
          "bdata": "AAAAAAAAAACamZmZmZm5P5qZmZmZmck/MzMzMzMz0z+amZmZmZnZPwAAAAAAAOA/MzMzMzMz4z9mZmZmZmbmP5qZmZmZmek/zczMzMzM7D8AAAAAAADwPw==",
          "dtype": "f8"
         },
         "xaxis": "x",
         "y": {
          "bdata": "zt+EQgQcxj/4Nv3ZjxTFP8wolltaDcU/ZvfkYaHWxD/cheY6jbTEP/fpeMxAZcQ/iBHCo40jwj9uowG8BRLEPyYeUDblCsM/q8/VVuwvwz+NtFTejnDCPw==",
          "dtype": "f8"
         },
         "yaxis": "y"
        }
       ],
       "layout": {
        "legend": {
         "title": {
          "text": "model"
         },
         "tracegroupgap": 0
        },
        "template": {
         "data": {
          "bar": [
           {
            "error_x": {
             "color": "#2a3f5f"
            },
            "error_y": {
             "color": "#2a3f5f"
            },
            "marker": {
             "line": {
              "color": "#E5ECF6",
              "width": 0.5
             },
             "pattern": {
              "fillmode": "overlay",
              "size": 10,
              "solidity": 0.2
             }
            },
            "type": "bar"
           }
          ],
          "barpolar": [
           {
            "marker": {
             "line": {
              "color": "#E5ECF6",
              "width": 0.5
             },
             "pattern": {
              "fillmode": "overlay",
              "size": 10,
              "solidity": 0.2
             }
            },
            "type": "barpolar"
           }
          ],
          "carpet": [
           {
            "aaxis": {
             "endlinecolor": "#2a3f5f",
             "gridcolor": "white",
             "linecolor": "white",
             "minorgridcolor": "white",
             "startlinecolor": "#2a3f5f"
            },
            "baxis": {
             "endlinecolor": "#2a3f5f",
             "gridcolor": "white",
             "linecolor": "white",
             "minorgridcolor": "white",
             "startlinecolor": "#2a3f5f"
            },
            "type": "carpet"
           }
          ],
          "choropleth": [
           {
            "colorbar": {
             "outlinewidth": 0,
             "ticks": ""
            },
            "type": "choropleth"
           }
          ],
          "contour": [
           {
            "colorbar": {
             "outlinewidth": 0,
             "ticks": ""
            },
            "colorscale": [
             [
              0,
              "#0d0887"
             ],
             [
              0.1111111111111111,
              "#46039f"
             ],
             [
              0.2222222222222222,
              "#7201a8"
             ],
             [
              0.3333333333333333,
              "#9c179e"
             ],
             [
              0.4444444444444444,
              "#bd3786"
             ],
             [
              0.5555555555555556,
              "#d8576b"
             ],
             [
              0.6666666666666666,
              "#ed7953"
             ],
             [
              0.7777777777777778,
              "#fb9f3a"
             ],
             [
              0.8888888888888888,
              "#fdca26"
             ],
             [
              1,
              "#f0f921"
             ]
            ],
            "type": "contour"
           }
          ],
          "contourcarpet": [
           {
            "colorbar": {
             "outlinewidth": 0,
             "ticks": ""
            },
            "type": "contourcarpet"
           }
          ],
          "heatmap": [
           {
            "colorbar": {
             "outlinewidth": 0,
             "ticks": ""
            },
            "colorscale": [
             [
              0,
              "#0d0887"
             ],
             [
              0.1111111111111111,
              "#46039f"
             ],
             [
              0.2222222222222222,
              "#7201a8"
             ],
             [
              0.3333333333333333,
              "#9c179e"
             ],
             [
              0.4444444444444444,
              "#bd3786"
             ],
             [
              0.5555555555555556,
              "#d8576b"
             ],
             [
              0.6666666666666666,
              "#ed7953"
             ],
             [
              0.7777777777777778,
              "#fb9f3a"
             ],
             [
              0.8888888888888888,
              "#fdca26"
             ],
             [
              1,
              "#f0f921"
             ]
            ],
            "type": "heatmap"
           }
          ],
          "histogram": [
           {
            "marker": {
             "pattern": {
              "fillmode": "overlay",
              "size": 10,
              "solidity": 0.2
             }
            },
            "type": "histogram"
           }
          ],
          "histogram2d": [
           {
            "colorbar": {
             "outlinewidth": 0,
             "ticks": ""
            },
            "colorscale": [
             [
              0,
              "#0d0887"
             ],
             [
              0.1111111111111111,
              "#46039f"
             ],
             [
              0.2222222222222222,
              "#7201a8"
             ],
             [
              0.3333333333333333,
              "#9c179e"
             ],
             [
              0.4444444444444444,
              "#bd3786"
             ],
             [
              0.5555555555555556,
              "#d8576b"
             ],
             [
              0.6666666666666666,
              "#ed7953"
             ],
             [
              0.7777777777777778,
              "#fb9f3a"
             ],
             [
              0.8888888888888888,
              "#fdca26"
             ],
             [
              1,
              "#f0f921"
             ]
            ],
            "type": "histogram2d"
           }
          ],
          "histogram2dcontour": [
           {
            "colorbar": {
             "outlinewidth": 0,
             "ticks": ""
            },
            "colorscale": [
             [
              0,
              "#0d0887"
             ],
             [
              0.1111111111111111,
              "#46039f"
             ],
             [
              0.2222222222222222,
              "#7201a8"
             ],
             [
              0.3333333333333333,
              "#9c179e"
             ],
             [
              0.4444444444444444,
              "#bd3786"
             ],
             [
              0.5555555555555556,
              "#d8576b"
             ],
             [
              0.6666666666666666,
              "#ed7953"
             ],
             [
              0.7777777777777778,
              "#fb9f3a"
             ],
             [
              0.8888888888888888,
              "#fdca26"
             ],
             [
              1,
              "#f0f921"
             ]
            ],
            "type": "histogram2dcontour"
           }
          ],
          "mesh3d": [
           {
            "colorbar": {
             "outlinewidth": 0,
             "ticks": ""
            },
            "type": "mesh3d"
           }
          ],
          "parcoords": [
           {
            "line": {
             "colorbar": {
              "outlinewidth": 0,
              "ticks": ""
             }
            },
            "type": "parcoords"
           }
          ],
          "pie": [
           {
            "automargin": true,
            "type": "pie"
           }
          ],
          "scatter": [
           {
            "fillpattern": {
             "fillmode": "overlay",
             "size": 10,
             "solidity": 0.2
            },
            "type": "scatter"
           }
          ],
          "scatter3d": [
           {
            "line": {
             "colorbar": {
              "outlinewidth": 0,
              "ticks": ""
             }
            },
            "marker": {
             "colorbar": {
              "outlinewidth": 0,
              "ticks": ""
             }
            },
            "type": "scatter3d"
           }
          ],
          "scattercarpet": [
           {
            "marker": {
             "colorbar": {
              "outlinewidth": 0,
              "ticks": ""
             }
            },
            "type": "scattercarpet"
           }
          ],
          "scattergeo": [
           {
            "marker": {
             "colorbar": {
              "outlinewidth": 0,
              "ticks": ""
             }
            },
            "type": "scattergeo"
           }
          ],
          "scattergl": [
           {
            "marker": {
             "colorbar": {
              "outlinewidth": 0,
              "ticks": ""
             }
            },
            "type": "scattergl"
           }
          ],
          "scattermap": [
           {
            "marker": {
             "colorbar": {
              "outlinewidth": 0,
              "ticks": ""
             }
            },
            "type": "scattermap"
           }
          ],
          "scattermapbox": [
           {
            "marker": {
             "colorbar": {
              "outlinewidth": 0,
              "ticks": ""
             }
            },
            "type": "scattermapbox"
           }
          ],
          "scatterpolar": [
           {
            "marker": {
             "colorbar": {
              "outlinewidth": 0,
              "ticks": ""
             }
            },
            "type": "scatterpolar"
           }
          ],
          "scatterpolargl": [
           {
            "marker": {
             "colorbar": {
              "outlinewidth": 0,
              "ticks": ""
             }
            },
            "type": "scatterpolargl"
           }
          ],
          "scatterternary": [
           {
            "marker": {
             "colorbar": {
              "outlinewidth": 0,
              "ticks": ""
             }
            },
            "type": "scatterternary"
           }
          ],
          "surface": [
           {
            "colorbar": {
             "outlinewidth": 0,
             "ticks": ""
            },
            "colorscale": [
             [
              0,
              "#0d0887"
             ],
             [
              0.1111111111111111,
              "#46039f"
             ],
             [
              0.2222222222222222,
              "#7201a8"
             ],
             [
              0.3333333333333333,
              "#9c179e"
             ],
             [
              0.4444444444444444,
              "#bd3786"
             ],
             [
              0.5555555555555556,
              "#d8576b"
             ],
             [
              0.6666666666666666,
              "#ed7953"
             ],
             [
              0.7777777777777778,
              "#fb9f3a"
             ],
             [
              0.8888888888888888,
              "#fdca26"
             ],
             [
              1,
              "#f0f921"
             ]
            ],
            "type": "surface"
           }
          ],
          "table": [
           {
            "cells": {
             "fill": {
              "color": "#EBF0F8"
             },
             "line": {
              "color": "white"
             }
            },
            "header": {
             "fill": {
              "color": "#C8D4E3"
             },
             "line": {
              "color": "white"
             }
            },
            "type": "table"
           }
          ]
         },
         "layout": {
          "annotationdefaults": {
           "arrowcolor": "#2a3f5f",
           "arrowhead": 0,
           "arrowwidth": 1
          },
          "autotypenumbers": "strict",
          "coloraxis": {
           "colorbar": {
            "outlinewidth": 0,
            "ticks": ""
           }
          },
          "colorscale": {
           "diverging": [
            [
             0,
             "#8e0152"
            ],
            [
             0.1,
             "#c51b7d"
            ],
            [
             0.2,
             "#de77ae"
            ],
            [
             0.3,
             "#f1b6da"
            ],
            [
             0.4,
             "#fde0ef"
            ],
            [
             0.5,
             "#f7f7f7"
            ],
            [
             0.6,
             "#e6f5d0"
            ],
            [
             0.7,
             "#b8e186"
            ],
            [
             0.8,
             "#7fbc41"
            ],
            [
             0.9,
             "#4d9221"
            ],
            [
             1,
             "#276419"
            ]
           ],
           "sequential": [
            [
             0,
             "#0d0887"
            ],
            [
             0.1111111111111111,
             "#46039f"
            ],
            [
             0.2222222222222222,
             "#7201a8"
            ],
            [
             0.3333333333333333,
             "#9c179e"
            ],
            [
             0.4444444444444444,
             "#bd3786"
            ],
            [
             0.5555555555555556,
             "#d8576b"
            ],
            [
             0.6666666666666666,
             "#ed7953"
            ],
            [
             0.7777777777777778,
             "#fb9f3a"
            ],
            [
             0.8888888888888888,
             "#fdca26"
            ],
            [
             1,
             "#f0f921"
            ]
           ],
           "sequentialminus": [
            [
             0,
             "#0d0887"
            ],
            [
             0.1111111111111111,
             "#46039f"
            ],
            [
             0.2222222222222222,
             "#7201a8"
            ],
            [
             0.3333333333333333,
             "#9c179e"
            ],
            [
             0.4444444444444444,
             "#bd3786"
            ],
            [
             0.5555555555555556,
             "#d8576b"
            ],
            [
             0.6666666666666666,
             "#ed7953"
            ],
            [
             0.7777777777777778,
             "#fb9f3a"
            ],
            [
             0.8888888888888888,
             "#fdca26"
            ],
            [
             1,
             "#f0f921"
            ]
           ]
          },
          "colorway": [
           "#636efa",
           "#EF553B",
           "#00cc96",
           "#ab63fa",
           "#FFA15A",
           "#19d3f3",
           "#FF6692",
           "#B6E880",
           "#FF97FF",
           "#FECB52"
          ],
          "font": {
           "color": "#2a3f5f"
          },
          "geo": {
           "bgcolor": "white",
           "lakecolor": "white",
           "landcolor": "#E5ECF6",
           "showlakes": true,
           "showland": true,
           "subunitcolor": "white"
          },
          "hoverlabel": {
           "align": "left"
          },
          "hovermode": "closest",
          "mapbox": {
           "style": "light"
          },
          "paper_bgcolor": "white",
          "plot_bgcolor": "#E5ECF6",
          "polar": {
           "angularaxis": {
            "gridcolor": "white",
            "linecolor": "white",
            "ticks": ""
           },
           "bgcolor": "#E5ECF6",
           "radialaxis": {
            "gridcolor": "white",
            "linecolor": "white",
            "ticks": ""
           }
          },
          "scene": {
           "xaxis": {
            "backgroundcolor": "#E5ECF6",
            "gridcolor": "white",
            "gridwidth": 2,
            "linecolor": "white",
            "showbackground": true,
            "ticks": "",
            "zerolinecolor": "white"
           },
           "yaxis": {
            "backgroundcolor": "#E5ECF6",
            "gridcolor": "white",
            "gridwidth": 2,
            "linecolor": "white",
            "showbackground": true,
            "ticks": "",
            "zerolinecolor": "white"
           },
           "zaxis": {
            "backgroundcolor": "#E5ECF6",
            "gridcolor": "white",
            "gridwidth": 2,
            "linecolor": "white",
            "showbackground": true,
            "ticks": "",
            "zerolinecolor": "white"
           }
          },
          "shapedefaults": {
           "line": {
            "color": "#2a3f5f"
           }
          },
          "ternary": {
           "aaxis": {
            "gridcolor": "white",
            "linecolor": "white",
            "ticks": ""
           },
           "baxis": {
            "gridcolor": "white",
            "linecolor": "white",
            "ticks": ""
           },
           "bgcolor": "#E5ECF6",
           "caxis": {
            "gridcolor": "white",
            "linecolor": "white",
            "ticks": ""
           }
          },
          "title": {
           "x": 0.05
          },
          "xaxis": {
           "automargin": true,
           "gridcolor": "white",
           "linecolor": "white",
           "ticks": "",
           "title": {
            "standoff": 15
           },
           "zerolinecolor": "white",
           "zerolinewidth": 2
          },
          "yaxis": {
           "automargin": true,
           "gridcolor": "white",
           "linecolor": "white",
           "ticks": "",
           "title": {
            "standoff": 15
           },
           "zerolinecolor": "white",
           "zerolinewidth": 2
          }
         }
        },
        "title": {
         "text": "Mean Normalized Score ± Std per Temperature"
        },
        "xaxis": {
         "anchor": "y",
         "domain": [
          0,
          1
         ],
         "title": {
          "text": "Temperature"
         }
        },
        "yaxis": {
         "anchor": "x",
         "domain": [
          0,
          1
         ],
         "title": {
          "text": "Mean Normalized Score"
         }
        }
       }
      }
     },
     "metadata": {},
     "output_type": "display_data"
    }
   ],
   "source": [
    "import pandas as pd\n",
    "import plotly.express as px\n",
    "\n",
    "# List your files and corresponding temperatures\n",
    "files_with_temp = [\n",
    "    (\"Gemini_Temp/res_MdLike_week01Best_0.0.csv\", 0.0),\n",
    "    (\"Gemini_Temp/res_MdLike_week01Best_0.1.csv\", 0.1),\n",
    "    (\"Gemini_Temp/res_MdLike_week01Best_0.2.csv\", 0.2),\n",
    "    (\"Gemini_Temp/res_MdLike_week01Best_0.3.csv\", 0.3),\n",
    "    (\"Gemini_Temp/res_MdLike_week01Best_0.4.csv\", 0.4),\n",
    "    (\"Gemini_Temp/res_MdLike_week01Best_0.5.csv\", 0.5),\n",
    "    (\"Gemini_Temp/res_MdLike_week01Best_0.6.csv\", 0.6),\n",
    "    (\"Gemini_Temp/res_MdLike_week01Best_0.7.csv\", 0.7),\n",
    "    (\"Gemini_Temp/res_MdLike_week01Best_0.8.csv\", 0.8),\n",
    "    (\"Gemini_Temp/res_MdLike_week01Best_0.9.csv\", 0.9),\n",
    "    (\"Gemini_Temp/res_MdLike_week01Best_1.csv\", 1),\n",
    "]\n",
    "\n",
    "# We'll store all data in a single DataFrame\n",
    "all_data = []\n",
    "\n",
    "for file, temp in files_with_temp:\n",
    "    df = pd.read_csv(file)\n",
    "    df[\"temperature\"] = temp\n",
    "    df[\"model\"] = \"model1\"  # change according to which model this file is\n",
    "    all_data.append(df)\n",
    "\n",
    "combined_df = pd.concat(all_data, ignore_index=True)\n",
    "\n",
    "# Compute mean and std per temperature per model\n",
    "summary = combined_df.groupby([\"model\", \"temperature\"])[\"Normalized\"].agg([\"mean\", \"std\"]).reset_index()\n",
    "print(summary)\n",
    "\n",
    "# Plot mean ± std\n",
    "fig = px.line(\n",
    "    summary,\n",
    "    x=\"temperature\",\n",
    "    y=\"mean\",\n",
    "    color=\"model\",\n",
    "    error_y=\"std\",\n",
    "    markers=True,\n",
    "    title=\"Mean Normalized Score ± Std per Temperature\",\n",
    "    labels={\"mean\": \"Mean Normalized Score\", \"temperature\": \"Temperature\"}\n",
    ")\n",
    "\n",
    "fig.show()\n"
   ]
  },
  {
   "cell_type": "code",
   "execution_count": 93,
   "id": "7d815632",
   "metadata": {},
   "outputs": [
    {
     "name": "stdout",
     "output_type": "stream",
     "text": [
      "     model  temperature     mean       std\n",
      "0   model1          0.0  1.00000  0.000000\n",
      "1   model1          0.1  0.99000  0.100000\n",
      "2   model1          0.2  1.00000  0.000000\n",
      "3   model1          0.3  0.99000  0.070353\n",
      "4   model1          0.4  0.92288  0.217878\n",
      "5   model1          0.5  0.86988  0.269097\n",
      "6   model1          0.6  0.84734  0.315851\n",
      "7   model1          0.7  0.79022  0.359063\n",
      "8   model1          0.8  0.77191  0.332071\n",
      "9   model1          0.9  0.72309  0.396160\n",
      "10  model1          1.0  0.68766  0.379396\n"
     ]
    },
    {
     "data": {
      "application/vnd.plotly.v1+json": {
       "config": {
        "plotlyServerURL": "https://plot.ly"
       },
       "data": [
        {
         "error_y": {
          "array": {
           "bdata": "AAAAAAAAAACamZmZmZm5PwAAAAAAAAAAEj9YjqECsj+yd/rmbuPLPyiTJ0XjONE/MLAmGeY21D9RHR0e4/rWP6bwsT2mQNU/J3LktK9a2T8ipQivB0jYPw==",
           "dtype": "f8"
          }
         },
         "hovertemplate": "model=model1<br>Temperature=%{x}<br>Mean Normalized Score=%{y}<extra></extra>",
         "legendgroup": "model1",
         "line": {
          "color": "#636efa",
          "dash": "solid"
         },
         "marker": {
          "symbol": "circle"
         },
         "mode": "lines+markers",
         "name": "model1",
         "orientation": "v",
         "showlegend": true,
         "type": "scatter",
         "x": {
          "bdata": "AAAAAAAAAACamZmZmZm5P5qZmZmZmck/MzMzMzMz0z+amZmZmZnZPwAAAAAAAOA/MzMzMzMz4z9mZmZmZmbmP5qZmZmZmek/zczMzMzM7D8AAAAAAADwPw==",
          "dtype": "f8"
         },
         "xaxis": "x",
         "y": {
          "bdata": "AAAAAAAA8D+uR+F6FK7vPwAAAAAAAPA/rkfhehSu7z9GPUSjO4jtPy457pQO1us/6PaSxmgd6z/TpBR0e0npP0+Srpl8s+g/iBHCo40j5z83jliLTwHmPw==",
          "dtype": "f8"
         },
         "yaxis": "y"
        }
       ],
       "layout": {
        "legend": {
         "title": {
          "text": "model"
         },
         "tracegroupgap": 0
        },
        "template": {
         "data": {
          "bar": [
           {
            "error_x": {
             "color": "#2a3f5f"
            },
            "error_y": {
             "color": "#2a3f5f"
            },
            "marker": {
             "line": {
              "color": "#E5ECF6",
              "width": 0.5
             },
             "pattern": {
              "fillmode": "overlay",
              "size": 10,
              "solidity": 0.2
             }
            },
            "type": "bar"
           }
          ],
          "barpolar": [
           {
            "marker": {
             "line": {
              "color": "#E5ECF6",
              "width": 0.5
             },
             "pattern": {
              "fillmode": "overlay",
              "size": 10,
              "solidity": 0.2
             }
            },
            "type": "barpolar"
           }
          ],
          "carpet": [
           {
            "aaxis": {
             "endlinecolor": "#2a3f5f",
             "gridcolor": "white",
             "linecolor": "white",
             "minorgridcolor": "white",
             "startlinecolor": "#2a3f5f"
            },
            "baxis": {
             "endlinecolor": "#2a3f5f",
             "gridcolor": "white",
             "linecolor": "white",
             "minorgridcolor": "white",
             "startlinecolor": "#2a3f5f"
            },
            "type": "carpet"
           }
          ],
          "choropleth": [
           {
            "colorbar": {
             "outlinewidth": 0,
             "ticks": ""
            },
            "type": "choropleth"
           }
          ],
          "contour": [
           {
            "colorbar": {
             "outlinewidth": 0,
             "ticks": ""
            },
            "colorscale": [
             [
              0,
              "#0d0887"
             ],
             [
              0.1111111111111111,
              "#46039f"
             ],
             [
              0.2222222222222222,
              "#7201a8"
             ],
             [
              0.3333333333333333,
              "#9c179e"
             ],
             [
              0.4444444444444444,
              "#bd3786"
             ],
             [
              0.5555555555555556,
              "#d8576b"
             ],
             [
              0.6666666666666666,
              "#ed7953"
             ],
             [
              0.7777777777777778,
              "#fb9f3a"
             ],
             [
              0.8888888888888888,
              "#fdca26"
             ],
             [
              1,
              "#f0f921"
             ]
            ],
            "type": "contour"
           }
          ],
          "contourcarpet": [
           {
            "colorbar": {
             "outlinewidth": 0,
             "ticks": ""
            },
            "type": "contourcarpet"
           }
          ],
          "heatmap": [
           {
            "colorbar": {
             "outlinewidth": 0,
             "ticks": ""
            },
            "colorscale": [
             [
              0,
              "#0d0887"
             ],
             [
              0.1111111111111111,
              "#46039f"
             ],
             [
              0.2222222222222222,
              "#7201a8"
             ],
             [
              0.3333333333333333,
              "#9c179e"
             ],
             [
              0.4444444444444444,
              "#bd3786"
             ],
             [
              0.5555555555555556,
              "#d8576b"
             ],
             [
              0.6666666666666666,
              "#ed7953"
             ],
             [
              0.7777777777777778,
              "#fb9f3a"
             ],
             [
              0.8888888888888888,
              "#fdca26"
             ],
             [
              1,
              "#f0f921"
             ]
            ],
            "type": "heatmap"
           }
          ],
          "histogram": [
           {
            "marker": {
             "pattern": {
              "fillmode": "overlay",
              "size": 10,
              "solidity": 0.2
             }
            },
            "type": "histogram"
           }
          ],
          "histogram2d": [
           {
            "colorbar": {
             "outlinewidth": 0,
             "ticks": ""
            },
            "colorscale": [
             [
              0,
              "#0d0887"
             ],
             [
              0.1111111111111111,
              "#46039f"
             ],
             [
              0.2222222222222222,
              "#7201a8"
             ],
             [
              0.3333333333333333,
              "#9c179e"
             ],
             [
              0.4444444444444444,
              "#bd3786"
             ],
             [
              0.5555555555555556,
              "#d8576b"
             ],
             [
              0.6666666666666666,
              "#ed7953"
             ],
             [
              0.7777777777777778,
              "#fb9f3a"
             ],
             [
              0.8888888888888888,
              "#fdca26"
             ],
             [
              1,
              "#f0f921"
             ]
            ],
            "type": "histogram2d"
           }
          ],
          "histogram2dcontour": [
           {
            "colorbar": {
             "outlinewidth": 0,
             "ticks": ""
            },
            "colorscale": [
             [
              0,
              "#0d0887"
             ],
             [
              0.1111111111111111,
              "#46039f"
             ],
             [
              0.2222222222222222,
              "#7201a8"
             ],
             [
              0.3333333333333333,
              "#9c179e"
             ],
             [
              0.4444444444444444,
              "#bd3786"
             ],
             [
              0.5555555555555556,
              "#d8576b"
             ],
             [
              0.6666666666666666,
              "#ed7953"
             ],
             [
              0.7777777777777778,
              "#fb9f3a"
             ],
             [
              0.8888888888888888,
              "#fdca26"
             ],
             [
              1,
              "#f0f921"
             ]
            ],
            "type": "histogram2dcontour"
           }
          ],
          "mesh3d": [
           {
            "colorbar": {
             "outlinewidth": 0,
             "ticks": ""
            },
            "type": "mesh3d"
           }
          ],
          "parcoords": [
           {
            "line": {
             "colorbar": {
              "outlinewidth": 0,
              "ticks": ""
             }
            },
            "type": "parcoords"
           }
          ],
          "pie": [
           {
            "automargin": true,
            "type": "pie"
           }
          ],
          "scatter": [
           {
            "fillpattern": {
             "fillmode": "overlay",
             "size": 10,
             "solidity": 0.2
            },
            "type": "scatter"
           }
          ],
          "scatter3d": [
           {
            "line": {
             "colorbar": {
              "outlinewidth": 0,
              "ticks": ""
             }
            },
            "marker": {
             "colorbar": {
              "outlinewidth": 0,
              "ticks": ""
             }
            },
            "type": "scatter3d"
           }
          ],
          "scattercarpet": [
           {
            "marker": {
             "colorbar": {
              "outlinewidth": 0,
              "ticks": ""
             }
            },
            "type": "scattercarpet"
           }
          ],
          "scattergeo": [
           {
            "marker": {
             "colorbar": {
              "outlinewidth": 0,
              "ticks": ""
             }
            },
            "type": "scattergeo"
           }
          ],
          "scattergl": [
           {
            "marker": {
             "colorbar": {
              "outlinewidth": 0,
              "ticks": ""
             }
            },
            "type": "scattergl"
           }
          ],
          "scattermap": [
           {
            "marker": {
             "colorbar": {
              "outlinewidth": 0,
              "ticks": ""
             }
            },
            "type": "scattermap"
           }
          ],
          "scattermapbox": [
           {
            "marker": {
             "colorbar": {
              "outlinewidth": 0,
              "ticks": ""
             }
            },
            "type": "scattermapbox"
           }
          ],
          "scatterpolar": [
           {
            "marker": {
             "colorbar": {
              "outlinewidth": 0,
              "ticks": ""
             }
            },
            "type": "scatterpolar"
           }
          ],
          "scatterpolargl": [
           {
            "marker": {
             "colorbar": {
              "outlinewidth": 0,
              "ticks": ""
             }
            },
            "type": "scatterpolargl"
           }
          ],
          "scatterternary": [
           {
            "marker": {
             "colorbar": {
              "outlinewidth": 0,
              "ticks": ""
             }
            },
            "type": "scatterternary"
           }
          ],
          "surface": [
           {
            "colorbar": {
             "outlinewidth": 0,
             "ticks": ""
            },
            "colorscale": [
             [
              0,
              "#0d0887"
             ],
             [
              0.1111111111111111,
              "#46039f"
             ],
             [
              0.2222222222222222,
              "#7201a8"
             ],
             [
              0.3333333333333333,
              "#9c179e"
             ],
             [
              0.4444444444444444,
              "#bd3786"
             ],
             [
              0.5555555555555556,
              "#d8576b"
             ],
             [
              0.6666666666666666,
              "#ed7953"
             ],
             [
              0.7777777777777778,
              "#fb9f3a"
             ],
             [
              0.8888888888888888,
              "#fdca26"
             ],
             [
              1,
              "#f0f921"
             ]
            ],
            "type": "surface"
           }
          ],
          "table": [
           {
            "cells": {
             "fill": {
              "color": "#EBF0F8"
             },
             "line": {
              "color": "white"
             }
            },
            "header": {
             "fill": {
              "color": "#C8D4E3"
             },
             "line": {
              "color": "white"
             }
            },
            "type": "table"
           }
          ]
         },
         "layout": {
          "annotationdefaults": {
           "arrowcolor": "#2a3f5f",
           "arrowhead": 0,
           "arrowwidth": 1
          },
          "autotypenumbers": "strict",
          "coloraxis": {
           "colorbar": {
            "outlinewidth": 0,
            "ticks": ""
           }
          },
          "colorscale": {
           "diverging": [
            [
             0,
             "#8e0152"
            ],
            [
             0.1,
             "#c51b7d"
            ],
            [
             0.2,
             "#de77ae"
            ],
            [
             0.3,
             "#f1b6da"
            ],
            [
             0.4,
             "#fde0ef"
            ],
            [
             0.5,
             "#f7f7f7"
            ],
            [
             0.6,
             "#e6f5d0"
            ],
            [
             0.7,
             "#b8e186"
            ],
            [
             0.8,
             "#7fbc41"
            ],
            [
             0.9,
             "#4d9221"
            ],
            [
             1,
             "#276419"
            ]
           ],
           "sequential": [
            [
             0,
             "#0d0887"
            ],
            [
             0.1111111111111111,
             "#46039f"
            ],
            [
             0.2222222222222222,
             "#7201a8"
            ],
            [
             0.3333333333333333,
             "#9c179e"
            ],
            [
             0.4444444444444444,
             "#bd3786"
            ],
            [
             0.5555555555555556,
             "#d8576b"
            ],
            [
             0.6666666666666666,
             "#ed7953"
            ],
            [
             0.7777777777777778,
             "#fb9f3a"
            ],
            [
             0.8888888888888888,
             "#fdca26"
            ],
            [
             1,
             "#f0f921"
            ]
           ],
           "sequentialminus": [
            [
             0,
             "#0d0887"
            ],
            [
             0.1111111111111111,
             "#46039f"
            ],
            [
             0.2222222222222222,
             "#7201a8"
            ],
            [
             0.3333333333333333,
             "#9c179e"
            ],
            [
             0.4444444444444444,
             "#bd3786"
            ],
            [
             0.5555555555555556,
             "#d8576b"
            ],
            [
             0.6666666666666666,
             "#ed7953"
            ],
            [
             0.7777777777777778,
             "#fb9f3a"
            ],
            [
             0.8888888888888888,
             "#fdca26"
            ],
            [
             1,
             "#f0f921"
            ]
           ]
          },
          "colorway": [
           "#636efa",
           "#EF553B",
           "#00cc96",
           "#ab63fa",
           "#FFA15A",
           "#19d3f3",
           "#FF6692",
           "#B6E880",
           "#FF97FF",
           "#FECB52"
          ],
          "font": {
           "color": "#2a3f5f"
          },
          "geo": {
           "bgcolor": "white",
           "lakecolor": "white",
           "landcolor": "#E5ECF6",
           "showlakes": true,
           "showland": true,
           "subunitcolor": "white"
          },
          "hoverlabel": {
           "align": "left"
          },
          "hovermode": "closest",
          "mapbox": {
           "style": "light"
          },
          "paper_bgcolor": "white",
          "plot_bgcolor": "#E5ECF6",
          "polar": {
           "angularaxis": {
            "gridcolor": "white",
            "linecolor": "white",
            "ticks": ""
           },
           "bgcolor": "#E5ECF6",
           "radialaxis": {
            "gridcolor": "white",
            "linecolor": "white",
            "ticks": ""
           }
          },
          "scene": {
           "xaxis": {
            "backgroundcolor": "#E5ECF6",
            "gridcolor": "white",
            "gridwidth": 2,
            "linecolor": "white",
            "showbackground": true,
            "ticks": "",
            "zerolinecolor": "white"
           },
           "yaxis": {
            "backgroundcolor": "#E5ECF6",
            "gridcolor": "white",
            "gridwidth": 2,
            "linecolor": "white",
            "showbackground": true,
            "ticks": "",
            "zerolinecolor": "white"
           },
           "zaxis": {
            "backgroundcolor": "#E5ECF6",
            "gridcolor": "white",
            "gridwidth": 2,
            "linecolor": "white",
            "showbackground": true,
            "ticks": "",
            "zerolinecolor": "white"
           }
          },
          "shapedefaults": {
           "line": {
            "color": "#2a3f5f"
           }
          },
          "ternary": {
           "aaxis": {
            "gridcolor": "white",
            "linecolor": "white",
            "ticks": ""
           },
           "baxis": {
            "gridcolor": "white",
            "linecolor": "white",
            "ticks": ""
           },
           "bgcolor": "#E5ECF6",
           "caxis": {
            "gridcolor": "white",
            "linecolor": "white",
            "ticks": ""
           }
          },
          "title": {
           "x": 0.05
          },
          "xaxis": {
           "automargin": true,
           "gridcolor": "white",
           "linecolor": "white",
           "ticks": "",
           "title": {
            "standoff": 15
           },
           "zerolinecolor": "white",
           "zerolinewidth": 2
          },
          "yaxis": {
           "automargin": true,
           "gridcolor": "white",
           "linecolor": "white",
           "ticks": "",
           "title": {
            "standoff": 15
           },
           "zerolinecolor": "white",
           "zerolinewidth": 2
          }
         }
        },
        "title": {
         "text": "Mean Normalized Score ± Std per Temperature"
        },
        "xaxis": {
         "anchor": "y",
         "domain": [
          0,
          1
         ],
         "title": {
          "text": "Temperature"
         }
        },
        "yaxis": {
         "anchor": "x",
         "domain": [
          0,
          1
         ],
         "title": {
          "text": "Mean Normalized Score"
         }
        }
       }
      }
     },
     "metadata": {},
     "output_type": "display_data"
    }
   ],
   "source": [
    "import pandas as pd\n",
    "import plotly.express as px\n",
    "\n",
    "# List your files and corresponding temperatures\n",
    "files_with_temp = [\n",
    "    (\"Gpt_Temp/res_MdLike_week01Best_0.0.csv\", 0.0),\n",
    "    (\"Gpt_Temp/res_MdLike_week01Best_0.1.csv\", 0.1),\n",
    "    (\"Gpt_Temp/res_MdLike_week01Best_0.2.csv\", 0.2),\n",
    "    (\"Gpt_Temp/res_MdLike_week01Best_0.3.csv\", 0.3),\n",
    "    (\"Gpt_Temp/res_MdLike_week01Best_0.4.csv\", 0.4),\n",
    "    (\"Gpt_Temp/res_MdLike_week01Best_0.5.csv\", 0.5),\n",
    "    (\"Gpt_Temp/res_MdLike_week01Best_0.6.csv\", 0.6),\n",
    "    (\"Gpt_Temp/res_MdLike_week01Best_0.7.csv\", 0.7),\n",
    "    (\"Gpt_Temp/res_MdLike_week01Best_0.8.csv\", 0.8),\n",
    "    (\"Gpt_Temp/res_MdLike_week01Best_0.9.csv\", 0.9),\n",
    "    (\"Gpt_Temp/res_MdLike_week01Best_1.csv\", 1),\n",
    "]\n",
    "\n",
    "# We'll store all data in a single DataFrame\n",
    "all_data = []\n",
    "\n",
    "for file, temp in files_with_temp:\n",
    "    df = pd.read_csv(file)\n",
    "    df[\"temperature\"] = temp\n",
    "    df[\"model\"] = \"model1\"  # change according to which model this file is\n",
    "    all_data.append(df)\n",
    "\n",
    "combined_df = pd.concat(all_data, ignore_index=True)\n",
    "\n",
    "# Compute mean and std per temperature per model\n",
    "summary = combined_df.groupby([\"model\", \"temperature\"])[\"Normalized\"].agg([\"mean\", \"std\"]).reset_index()\n",
    "print(summary)\n",
    "\n",
    "# Plot mean ± std\n",
    "fig = px.line(\n",
    "    summary,\n",
    "    x=\"temperature\",\n",
    "    y=\"mean\",\n",
    "    color=\"model\",\n",
    "    error_y=\"std\",\n",
    "    markers=True,\n",
    "    title=\"Mean Normalized Score ± Std per Temperature\",\n",
    "    labels={\"mean\": \"Mean Normalized Score\", \"temperature\": \"Temperature\"}\n",
    ")\n",
    "\n",
    "fig.show()"
   ]
  },
  {
   "cell_type": "code",
   "execution_count": 92,
   "id": "ffcc5c3e",
   "metadata": {},
   "outputs": [
    {
     "data": {
      "application/vnd.plotly.v1+json": {
       "config": {
        "plotlyServerURL": "https://plot.ly"
       },
       "data": [
        {
         "error_y": {
          "array": {
           "bdata": "1sK/UA2nyT8AAAAAAAAAAFy6SQwCK7c/AAAAAAAAAAAAAAAAAAAAAEI5wUWWRJU/AAAAAAAAAAAAAAAAAAAAAAAAAAAAAAAAAAAAAAAAAAAAAAAAAAAAAA==",
           "dtype": "f8"
          },
          "type": "data"
         },
         "mode": "markers",
         "name": "amazon-nova-lite-v1 data",
         "type": "scatter",
         "x": {
          "bdata": "AAAAAAAAAACamZmZmZm5P5qZmZmZmck/MzMzMzMz0z+amZmZmZnZPwAAAAAAAOA/MzMzMzMz4z9mZmZmZmbmP5qZmZmZmek/zczMzMzM7D8AAAAAAADwPw==",
          "dtype": "f8"
         },
         "y": {
          "bdata": "LlbUYBqG2T8AAAAAAAAAAAg9m1Wfq+w/AAAAAAAAAAAAAAAAAAAAAIWZtn9lpes/AAAAAAAAAAAAAAAAAAAAAKNFtvP91Ow/AAAAAAAAAAAAAAAAAAAAAA==",
          "dtype": "f8"
         }
        },
        {
         "mode": "lines",
         "name": "amazon-nova-lite-v1 trend (R²=0.021)",
         "type": "scatter",
         "x": {
          "bdata": "AAAAAAAAAACamZmZmZm5P5qZmZmZmck/MzMzMzMz0z+amZmZmZnZPwAAAAAAAOA/MzMzMzMz4z9mZmZmZmbmP5qZmZmZmek/zczMzMzM7D8AAAAAAADwPw==",
          "dtype": "f8"
         },
         "y": {
          "bdata": "Mh4PXgaP1z8FMqXWRmjWP9lFO0+HQdU/rFnRx8ca1D9/bWdACPTSP1OB/bhIzdE/JpWTMYmm0D/zUVNUk//OP5l5f0UUssw/QKGrNpVkyj/nyNcnFhfIPw==",
          "dtype": "f8"
         }
        },
        {
         "error_y": {
          "array": {
           "bdata": "AAAAAAAAAAAAAAAAAAAAAAAAAAAAAAAAAAAAAAAAAAAAAAAAAAAAAGRLl77DANI/ycPzBUcezj+sGo7txBmgP0qTFOxpLsc/jbnl7nyk1T/HSbBc0wzRPw==",
           "dtype": "f8"
          },
          "type": "data"
         },
         "mode": "markers",
         "name": "arcee-ai-afm-4.5b data",
         "type": "scatter",
         "x": {
          "bdata": "AAAAAAAAAACamZmZmZm5P5qZmZmZmck/MzMzMzMz0z+amZmZmZnZPwAAAAAAAOA/MzMzMzMz4z9mZmZmZmbmP5qZmZmZmek/zczMzMzM7D8AAAAAAADwPw==",
          "dtype": "f8"
         },
         "y": {
          "bdata": "AAAAAAAAAAAAAAAAAAAAAAAAAAAAAAAAAAAAAAAAAAAAAAAAAAAAAHLhQEgWMLk/r+sX7IZtuz+7SQwCK4eGP25MT1jiAaU/CAjm6PF7wz8k7rH0oQu6Pw==",
          "dtype": "f8"
         }
        },
        {
         "mode": "lines",
         "name": "arcee-ai-afm-4.5b trend (R²=0.522)",
         "type": "scatter",
         "x": {
          "bdata": "AAAAAAAAAACamZmZmZm5P5qZmZmZmck/MzMzMzMz0z+amZmZmZnZPwAAAAAAAOA/MzMzMzMz4z9mZmZmZmbmP5qZmZmZmek/zczMzMzM7D8AAAAAAADwPw==",
          "dtype": "f8"
         },
         "y": {
          "bdata": "akB/N/wjkL98WUrhbRxrvxZUWX7BuYI/RJ+COk8dlj9ASuza3m6hP91ElxgWz6c/eT9CVk0vrj8MnfZJwkeyP1oazOjdd7U/qpehh/mnuD/4FHcmFdi7Pw==",
          "dtype": "f8"
         }
        },
        {
         "error_y": {
          "array": {
           "bdata": "R9dguAd72T8AAAAAAAAAAKteCfJmy8M/pm2fEyKY0z8AAAAAAAAAAJWVPDPlwds/Hqkr289yyD/1jP0oy7igP+g2xdSJltQ/J7L0+TTH1T+52JOtpTXXPw==",
           "dtype": "f8"
          },
          "type": "data"
         },
         "mode": "markers",
         "name": "baidu-ernie-4.5-21b-a3b data",
         "type": "scatter",
         "x": {
          "bdata": "AAAAAAAAAACamZmZmZm5P5qZmZmZmck/MzMzMzMz0z+amZmZmZnZPwAAAAAAAOA/MzMzMzMz4z9mZmZmZmbmP5qZmZmZmek/zczMzMzM7D8AAAAAAADwPw==",
          "dtype": "f8"
         },
         "y": {
          "bdata": "5nlwd9Zuzz8AAAAAAAAAAGh5HtydtZs/bef7qfHSxT8AAAAAAAAAAKpDboYb8NU/vFetTPilrj+7SQwCK4e2PzHT9q+sNME/6Q5iZwqdwz+c/uxHisjIPw==",
          "dtype": "f8"
         }
        },
        {
         "mode": "lines",
         "name": "baidu-ernie-4.5-21b-a3b trend (R²=0.025)",
         "type": "scatter",
         "x": {
          "bdata": "AAAAAAAAAACamZmZmZm5P5qZmZmZmck/MzMzMzMz0z+amZmZmZnZPwAAAAAAAOA/MzMzMzMz4z9mZmZmZmbmP5qZmZmZmek/zczMzMzM7D8AAAAAAADwPw==",
          "dtype": "f8"
         },
         "y": {
          "bdata": "mFD/wz5Muj9u35YG6J+7P0VuLkmR87w/G/3FizpHvj/yi13O45q/P2SNeohGd8A/z1TGKRshwT86HBLL78rBP6bjXWzEdMI/EaupDZkewz98cvWubcjDPw==",
          "dtype": "f8"
         }
        },
        {
         "error_y": {
          "array": {
           "bdata": "G+pMyb22RD+Cwb+6V2C5PyxlGeJYF7c/LGUZ4lgXtz8AAAAAAAAAALnhVlVCJdM/5QOEHarazT8AAAAAAAAAAAbaP7/IxcM/JhDb5Nwc0z90nTNacG7NPw==",
           "dtype": "f8"
          },
          "type": "data"
         },
         "mode": "markers",
         "name": "bytedance-ui-tars-1.5-7b data",
         "type": "scatter",
         "x": {
          "bdata": "AAAAAAAAAACamZmZmZm5P5qZmZmZmck/MzMzMzMz0z+amZmZmZnZPwAAAAAAAOA/MzMzMzMz4z9mZmZmZmbmP5qZmZmZmek/zczMzMzM7D8AAAAAAADwPw==",
          "dtype": "f8"
         },
         "y": {
          "bdata": "02pI3GPp3z92N091yM2gP/BQFOgTeYI/8FAU6BN5gj8AAAAAAAAAAL9DUaBP5ME/9tGpK5/lsT8AAAAAAAAAACEkC5jArZs/P+jZrPpcvT8xzt+EQgS0Pw==",
          "dtype": "f8"
         }
        },
        {
         "mode": "lines",
         "name": "bytedance-ui-tars-1.5-7b trend (R²=0.122)",
         "type": "scatter",
         "x": {
          "bdata": "AAAAAAAAAACamZmZmZm5P5qZmZmZmck/MzMzMzMz0z+amZmZmZnZPwAAAAAAAOA/MzMzMzMz4z9mZmZmZmbmP5qZmZmZmek/zczMzMzM7D8AAAAAAADwPw==",
          "dtype": "f8"
         },
         "y": {
          "bdata": "wpEUGh4axT8QfHahBCnDP15m2CjrN8E/WKF0YKONvj/0dThvcKu6P5BK/H09ybY/LB/AjArnsj+Q5wc3rwmuP8iQj1RJRaY/AHQu5MYBnT/gjHs+9vGKPw==",
          "dtype": "f8"
         }
        },
        {
         "error_y": {
          "array": {
           "bdata": "AAAAAAAAAAB0krE1yGl5PwAAAAAAAAAAAAAAAAAAAAAAAAAAAAAAABmeufQeadA/7Hoqiz3twj8LjrQSnCqzPwOlgD1zzto/e2gikdsv0z8m9yn2XsDQPw==",
           "dtype": "f8"
          },
          "type": "data"
         },
         "mode": "markers",
         "name": "google-gemini-2.5-flash-lite data",
         "type": "scatter",
         "x": {
          "bdata": "AAAAAAAAAACamZmZmZm5P5qZmZmZmck/MzMzMzMz0z+amZmZmZnZPwAAAAAAAOA/MzMzMzMz4z9mZmZmZmbmP5qZmZmZmek/zczMzMzM7D8AAAAAAADwPw==",
          "dtype": "f8"
         },
         "y": {
          "bdata": "AAAAAAAAAACoOuRmuAHXPwAAAAAAAAAAAAAAAAAAAAAAAAAAAAAAAFPL1voiobU//5WVJqWgqz+dRloqb0ewP6q8HeG04NE/rhIsDmd+vT88TtGRXP7fPw==",
          "dtype": "f8"
         }
        },
        {
         "mode": "lines",
         "name": "google-gemini-2.5-flash-lite trend (R²=0.201)",
         "type": "scatter",
         "x": {
          "bdata": "AAAAAAAAAACamZmZmZm5P5qZmZmZmck/MzMzMzMz0z+amZmZmZnZPwAAAAAAAOA/MzMzMzMz4z9mZmZmZmbmP5qZmZmZmek/zczMzMzM7D8AAAAAAADwPw==",
          "dtype": "f8"
         },
         "y": {
          "bdata": "rGKuOBM9kT86Vszp/XKkP5C9oBu5I7A/AVBbQvMNtj904hVpLfi7P3M66Mcz8cA/rINF21Dmwz/kzKLubdvGPx4WAAKL0Mk/WF9dFajFzD+QqLooxbrPPw==",
          "dtype": "f8"
         }
        },
        {
         "error_y": {
          "array": {
           "bdata": "AAAAAAAAAADHjzF3LSGfPzGEtJmfOdk/Hxg+Jx+21z8RuAfS1CqUP8kZNwsCsNM//K0MjeYbuT8TSeEUyC6uP7g7qCecpNs/frAVqOfX1T/f62dW1XfWPw==",
           "dtype": "f8"
          },
          "type": "data"
         },
         "mode": "markers",
         "name": "microsoft-phi-4-reasoning-plus data",
         "type": "scatter",
         "x": {
          "bdata": "AAAAAAAAAACamZmZmZm5P5qZmZmZmck/MzMzMzMz0z+amZmZmZnZPwAAAAAAAOA/MzMzMzMz4z9mZmZmZmbmP5qZmZmZmek/zczMzMzM7D8AAAAAAADwPw==",
          "dtype": "f8"
         },
         "y": {
          "bdata": "AAAAAAAAAACdDI6SV+doPyAHJcy0/dc/lNkgk4yc1T/8qfHSTWJwP2gibHh6pec/bOwS1VsDiz/fiVkvhnKiP1ppUgq6veI/8aKvIM1YxD+8OseA7PXOPw==",
          "dtype": "f8"
         }
        },
        {
         "mode": "lines",
         "name": "microsoft-phi-4-reasoning-plus trend (R²=0.048)",
         "type": "scatter",
         "x": {
          "bdata": "AAAAAAAAAACamZmZmZm5P5qZmZmZmck/MzMzMzMz0z+amZmZmZnZPwAAAAAAAOA/MzMzMzMz4z9mZmZmZmbmP5qZmZmZmek/zczMzMzM7D8AAAAAAADwPw==",
          "dtype": "f8"
         },
         "y": {
          "bdata": "WMJwzdIiwj/NoGOdSVDEP0J/Vm3AfcY/t11JPTeryD8sPDwNrtjKP6IaL90kBs0/FvkhrZszzz/Ga4o+ibDQPwDbg6ZEx9E/O0p9DgDe0j92uXZ2u/TTPw==",
          "dtype": "f8"
         }
        },
        {
         "error_y": {
          "array": {
           "bdata": "AAAAAAAAAAAAAAAAAAAAAAAAAAAAAAAAAAAAAAAAAAB7FK5H4XqEP+kq0FzpRMg/pHLO7zR/1D84zF3xYt2iP8SLpBYEQ8k/AAAAAAAAAAC4JLjqgmzRPw==",
           "dtype": "f8"
          },
          "type": "data"
         },
         "mode": "markers",
         "name": "mistralai-devstral-small data",
         "type": "scatter",
         "x": {
          "bdata": "AAAAAAAAAACamZmZmZm5P5qZmZmZmck/MzMzMzMz0z+amZmZmZnZPwAAAAAAAOA/MzMzMzMz4z9mZmZmZmbmP5qZmZmZmek/zczMzMzM7D8AAAAAAADwPw==",
          "dtype": "f8"
         },
         "y": {
          "bdata": "AAAAAAAAAAAAAAAAAAAAAAAAAAAAAAAAAAAAAAAAAAD8qfHSTWJQP8x/SL99Hag/WkdVE0Tdwz/8qfHSTWKQPxueXinLEKc/AAAAAAAAAACXUSy3tBq6Pw==",
          "dtype": "f8"
         }
        },
        {
         "mode": "lines",
         "name": "mistralai-devstral-small trend (R²=0.234)",
         "type": "scatter",
         "x": {
          "bdata": "AAAAAAAAAACamZmZmZm5P5qZmZmZmck/MzMzMzMz0z+amZmZmZnZPwAAAAAAAOA/MzMzMzMz4z9mZmZmZmbmP5qZmZmZmek/zczMzMzM7D8AAAAAAADwPw==",
          "dtype": "f8"
         },
         "y": {
          "bdata": "eC/n2xhacr+kr/pPdTJpP47v8BVHxoU/mZnxa/ifkj9su+pMzVyaP5/u8RbRDKE/iH9uhzvrpD9xEOv3pcmoP1uhZ2gQqKw/IhlybD1DsD+WYbCkcjKyPw==",
          "dtype": "f8"
         }
        },
        {
         "error_y": {
          "array": {
           "bdata": "AAAAAAAAAAAAAAAAAAAAAAAAAAAAAAAAih27kcs5vT8AAAAAAAAAAISpS8ROMdI/AAAAAAAAAAC5RnA48HCYP+n5kuv3mtc/xayt+vMK2D+JOphQ5dfVPw==",
           "dtype": "f8"
          },
          "type": "data"
         },
         "mode": "markers",
         "name": "openai-gpt-4.1-nano data",
         "type": "scatter",
         "x": {
          "bdata": "AAAAAAAAAACamZmZmZm5P5qZmZmZmck/MzMzMzMz0z+amZmZmZnZPwAAAAAAAOA/MzMzMzMz4z9mZmZmZmbmP5qZmZmZmek/zczMzMzM7D8AAAAAAADwPw==",
          "dtype": "f8"
         },
         "y": {
          "bdata": "AAAAAAAAAAAAAAAAAAAAAPYoXI/C9ew/M7+aAwRzlD8AAAAAAAAAAEBSRIZVvOg/AAAAAAAAAAD7fmq8dJN4P5y/CYUIOMg/aO22C811zj/92Y8UkWHTPw==",
          "dtype": "f8"
         }
        },
        {
         "mode": "lines",
         "name": "openai-gpt-4.1-nano trend (R²=0.001)",
         "type": "scatter",
         "x": {
          "bdata": "AAAAAAAAAACamZmZmZm5P5qZmZmZmck/MzMzMzMz0z+amZmZmZnZPwAAAAAAAOA/MzMzMzMz4z9mZmZmZmbmP5qZmZmZmek/zczMzMzM7D8AAAAAAADwPw==",
          "dtype": "f8"
         },
         "y": {
          "bdata": "ZHmDpo+hyj9mx5H6KfjKP2kVoE7ETss/a2Ouol6lyz9tsbz2+PvLP2//ykqTUsw/ck3Zni2pzD90m+fyx//MP3bp9UZiVs0/eDcEm/yszT97hRLvlgPOPw==",
          "dtype": "f8"
         }
        },
        {
         "error_y": {
          "array": {
           "bdata": "AAAAAAAAAAASpb3BFyajPxgA+mfiINw//of029eBsz8AAAAAAAAAAOI/5UIgIds/JKHNHpVquT+E/ll9AtGMP0Ezl//23sY/szZTIx9zzz+7rmlyMyvFPw==",
           "dtype": "f8"
          },
          "type": "data"
         },
         "mode": "markers",
         "name": "qwen-qwen-2.5-vl-7b-instruct data",
         "type": "scatter",
         "x": {
          "bdata": "AAAAAAAAAACamZmZmZm5P5qZmZmZmck/MzMzMzMz0z+amZmZmZnZPwAAAAAAAOA/MzMzMzMz4z9mZmZmZmbmP5qZmZmZmek/zczMzMzM7D8AAAAAAADwPw==",
          "dtype": "f8"
         },
         "y": {
          "bdata": "AAAAAAAAAABPO/w1WaNuP1j/5zBfXtY/LnO6LCY2fz8AAAAAAAAAAFnd6jnpfeE/IQIOoUrNjj/8qfHSTWJgP5yFPe3w16Q/MV9egH10sj+QMXctIR+kPw==",
          "dtype": "f8"
         }
        },
        {
         "mode": "lines",
         "name": "qwen-qwen-2.5-vl-7b-instruct trend (R²=0.006)",
         "type": "scatter",
         "x": {
          "bdata": "AAAAAAAAAACamZmZmZm5P5qZmZmZmck/MzMzMzMz0z+amZmZmZnZPwAAAAAAAOA/MzMzMzMz4z9mZmZmZmbmP5qZmZmZmek/zczMzMzM7D8AAAAAAADwPw==",
          "dtype": "f8"
         },
         "y": {
          "bdata": "miTC/epSvj8F1RMfNUW9P3CFZUB/N7w/2zW3Yckpuz9G5giDExy6P7KWWqRdDrk/HUesxacAuD+I9/3m8fK2P/KnTwg85bU/XlihKYbXtD/JCPNK0MmzPw==",
          "dtype": "f8"
         }
        },
        {
         "error_y": {
          "array": {
           "bdata": "AAAAAAAAAADeeaJTTa61P6+qM5U8M8w/iDW4RueX0D8AAAAAAAAAAI3KnHMpuNg/Hi+Glzf20j9FP7Wtu5SnPx7PVZcjNNM/xg7IqkP62z+IdMzPu6TWPw==",
           "dtype": "f8"
          },
          "type": "data"
         },
         "mode": "markers",
         "name": "z-ai-glm-4-32b data",
         "type": "scatter",
         "x": {
          "bdata": "AAAAAAAAAACamZmZmZm5P5qZmZmZmck/MzMzMzMz0z+amZmZmZnZPwAAAAAAAOA/MzMzMzMz4z9mZmZmZmbmP5qZmZmZmek/zczMzMzM7D8AAAAAAADwPw==",
          "dtype": "f8"
         },
         "y": {
          "bdata": "H4XrUbge7T/so1NXPsuTPyY2H9eGirE/IY51cRsNuD8AAAAAAAAAAIrlllZD4uU/Jhk5C3vawT/sUbgeheuxP1w9J71vfL0/aAqd19gl2D/C3Vm77ULTPw==",
          "dtype": "f8"
         }
        },
        {
         "mode": "lines",
         "name": "z-ai-glm-4-32b trend (R²=0.020)",
         "type": "scatter",
         "x": {
          "bdata": "AAAAAAAAAACamZmZmZm5P5qZmZmZmck/MzMzMzMz0z+amZmZmZnZPwAAAAAAAOA/MzMzMzMz4z9mZmZmZmbmP5qZmZmZmek/zczMzMzM7D8AAAAAAADwPw==",
          "dtype": "f8"
         },
         "y": {
          "bdata": "7CwQXJov1D+5JmZTzWHTP4YgvEoAlNI/UxoSQjPG0T8gFGg5ZvjQP+4NvjCZKtA/dg8oUJi5zj8QA9Q+/h3NP6r2fy1kgss/ROorHMrmyT/e3dcKMEvIPw==",
          "dtype": "f8"
         }
        }
       ],
       "layout": {
        "template": {
         "data": {
          "bar": [
           {
            "error_x": {
             "color": "#2a3f5f"
            },
            "error_y": {
             "color": "#2a3f5f"
            },
            "marker": {
             "line": {
              "color": "white",
              "width": 0.5
             },
             "pattern": {
              "fillmode": "overlay",
              "size": 10,
              "solidity": 0.2
             }
            },
            "type": "bar"
           }
          ],
          "barpolar": [
           {
            "marker": {
             "line": {
              "color": "white",
              "width": 0.5
             },
             "pattern": {
              "fillmode": "overlay",
              "size": 10,
              "solidity": 0.2
             }
            },
            "type": "barpolar"
           }
          ],
          "carpet": [
           {
            "aaxis": {
             "endlinecolor": "#2a3f5f",
             "gridcolor": "#C8D4E3",
             "linecolor": "#C8D4E3",
             "minorgridcolor": "#C8D4E3",
             "startlinecolor": "#2a3f5f"
            },
            "baxis": {
             "endlinecolor": "#2a3f5f",
             "gridcolor": "#C8D4E3",
             "linecolor": "#C8D4E3",
             "minorgridcolor": "#C8D4E3",
             "startlinecolor": "#2a3f5f"
            },
            "type": "carpet"
           }
          ],
          "choropleth": [
           {
            "colorbar": {
             "outlinewidth": 0,
             "ticks": ""
            },
            "type": "choropleth"
           }
          ],
          "contour": [
           {
            "colorbar": {
             "outlinewidth": 0,
             "ticks": ""
            },
            "colorscale": [
             [
              0,
              "#0d0887"
             ],
             [
              0.1111111111111111,
              "#46039f"
             ],
             [
              0.2222222222222222,
              "#7201a8"
             ],
             [
              0.3333333333333333,
              "#9c179e"
             ],
             [
              0.4444444444444444,
              "#bd3786"
             ],
             [
              0.5555555555555556,
              "#d8576b"
             ],
             [
              0.6666666666666666,
              "#ed7953"
             ],
             [
              0.7777777777777778,
              "#fb9f3a"
             ],
             [
              0.8888888888888888,
              "#fdca26"
             ],
             [
              1,
              "#f0f921"
             ]
            ],
            "type": "contour"
           }
          ],
          "contourcarpet": [
           {
            "colorbar": {
             "outlinewidth": 0,
             "ticks": ""
            },
            "type": "contourcarpet"
           }
          ],
          "heatmap": [
           {
            "colorbar": {
             "outlinewidth": 0,
             "ticks": ""
            },
            "colorscale": [
             [
              0,
              "#0d0887"
             ],
             [
              0.1111111111111111,
              "#46039f"
             ],
             [
              0.2222222222222222,
              "#7201a8"
             ],
             [
              0.3333333333333333,
              "#9c179e"
             ],
             [
              0.4444444444444444,
              "#bd3786"
             ],
             [
              0.5555555555555556,
              "#d8576b"
             ],
             [
              0.6666666666666666,
              "#ed7953"
             ],
             [
              0.7777777777777778,
              "#fb9f3a"
             ],
             [
              0.8888888888888888,
              "#fdca26"
             ],
             [
              1,
              "#f0f921"
             ]
            ],
            "type": "heatmap"
           }
          ],
          "histogram": [
           {
            "marker": {
             "pattern": {
              "fillmode": "overlay",
              "size": 10,
              "solidity": 0.2
             }
            },
            "type": "histogram"
           }
          ],
          "histogram2d": [
           {
            "colorbar": {
             "outlinewidth": 0,
             "ticks": ""
            },
            "colorscale": [
             [
              0,
              "#0d0887"
             ],
             [
              0.1111111111111111,
              "#46039f"
             ],
             [
              0.2222222222222222,
              "#7201a8"
             ],
             [
              0.3333333333333333,
              "#9c179e"
             ],
             [
              0.4444444444444444,
              "#bd3786"
             ],
             [
              0.5555555555555556,
              "#d8576b"
             ],
             [
              0.6666666666666666,
              "#ed7953"
             ],
             [
              0.7777777777777778,
              "#fb9f3a"
             ],
             [
              0.8888888888888888,
              "#fdca26"
             ],
             [
              1,
              "#f0f921"
             ]
            ],
            "type": "histogram2d"
           }
          ],
          "histogram2dcontour": [
           {
            "colorbar": {
             "outlinewidth": 0,
             "ticks": ""
            },
            "colorscale": [
             [
              0,
              "#0d0887"
             ],
             [
              0.1111111111111111,
              "#46039f"
             ],
             [
              0.2222222222222222,
              "#7201a8"
             ],
             [
              0.3333333333333333,
              "#9c179e"
             ],
             [
              0.4444444444444444,
              "#bd3786"
             ],
             [
              0.5555555555555556,
              "#d8576b"
             ],
             [
              0.6666666666666666,
              "#ed7953"
             ],
             [
              0.7777777777777778,
              "#fb9f3a"
             ],
             [
              0.8888888888888888,
              "#fdca26"
             ],
             [
              1,
              "#f0f921"
             ]
            ],
            "type": "histogram2dcontour"
           }
          ],
          "mesh3d": [
           {
            "colorbar": {
             "outlinewidth": 0,
             "ticks": ""
            },
            "type": "mesh3d"
           }
          ],
          "parcoords": [
           {
            "line": {
             "colorbar": {
              "outlinewidth": 0,
              "ticks": ""
             }
            },
            "type": "parcoords"
           }
          ],
          "pie": [
           {
            "automargin": true,
            "type": "pie"
           }
          ],
          "scatter": [
           {
            "fillpattern": {
             "fillmode": "overlay",
             "size": 10,
             "solidity": 0.2
            },
            "type": "scatter"
           }
          ],
          "scatter3d": [
           {
            "line": {
             "colorbar": {
              "outlinewidth": 0,
              "ticks": ""
             }
            },
            "marker": {
             "colorbar": {
              "outlinewidth": 0,
              "ticks": ""
             }
            },
            "type": "scatter3d"
           }
          ],
          "scattercarpet": [
           {
            "marker": {
             "colorbar": {
              "outlinewidth": 0,
              "ticks": ""
             }
            },
            "type": "scattercarpet"
           }
          ],
          "scattergeo": [
           {
            "marker": {
             "colorbar": {
              "outlinewidth": 0,
              "ticks": ""
             }
            },
            "type": "scattergeo"
           }
          ],
          "scattergl": [
           {
            "marker": {
             "colorbar": {
              "outlinewidth": 0,
              "ticks": ""
             }
            },
            "type": "scattergl"
           }
          ],
          "scattermap": [
           {
            "marker": {
             "colorbar": {
              "outlinewidth": 0,
              "ticks": ""
             }
            },
            "type": "scattermap"
           }
          ],
          "scattermapbox": [
           {
            "marker": {
             "colorbar": {
              "outlinewidth": 0,
              "ticks": ""
             }
            },
            "type": "scattermapbox"
           }
          ],
          "scatterpolar": [
           {
            "marker": {
             "colorbar": {
              "outlinewidth": 0,
              "ticks": ""
             }
            },
            "type": "scatterpolar"
           }
          ],
          "scatterpolargl": [
           {
            "marker": {
             "colorbar": {
              "outlinewidth": 0,
              "ticks": ""
             }
            },
            "type": "scatterpolargl"
           }
          ],
          "scatterternary": [
           {
            "marker": {
             "colorbar": {
              "outlinewidth": 0,
              "ticks": ""
             }
            },
            "type": "scatterternary"
           }
          ],
          "surface": [
           {
            "colorbar": {
             "outlinewidth": 0,
             "ticks": ""
            },
            "colorscale": [
             [
              0,
              "#0d0887"
             ],
             [
              0.1111111111111111,
              "#46039f"
             ],
             [
              0.2222222222222222,
              "#7201a8"
             ],
             [
              0.3333333333333333,
              "#9c179e"
             ],
             [
              0.4444444444444444,
              "#bd3786"
             ],
             [
              0.5555555555555556,
              "#d8576b"
             ],
             [
              0.6666666666666666,
              "#ed7953"
             ],
             [
              0.7777777777777778,
              "#fb9f3a"
             ],
             [
              0.8888888888888888,
              "#fdca26"
             ],
             [
              1,
              "#f0f921"
             ]
            ],
            "type": "surface"
           }
          ],
          "table": [
           {
            "cells": {
             "fill": {
              "color": "#EBF0F8"
             },
             "line": {
              "color": "white"
             }
            },
            "header": {
             "fill": {
              "color": "#C8D4E3"
             },
             "line": {
              "color": "white"
             }
            },
            "type": "table"
           }
          ]
         },
         "layout": {
          "annotationdefaults": {
           "arrowcolor": "#2a3f5f",
           "arrowhead": 0,
           "arrowwidth": 1
          },
          "autotypenumbers": "strict",
          "coloraxis": {
           "colorbar": {
            "outlinewidth": 0,
            "ticks": ""
           }
          },
          "colorscale": {
           "diverging": [
            [
             0,
             "#8e0152"
            ],
            [
             0.1,
             "#c51b7d"
            ],
            [
             0.2,
             "#de77ae"
            ],
            [
             0.3,
             "#f1b6da"
            ],
            [
             0.4,
             "#fde0ef"
            ],
            [
             0.5,
             "#f7f7f7"
            ],
            [
             0.6,
             "#e6f5d0"
            ],
            [
             0.7,
             "#b8e186"
            ],
            [
             0.8,
             "#7fbc41"
            ],
            [
             0.9,
             "#4d9221"
            ],
            [
             1,
             "#276419"
            ]
           ],
           "sequential": [
            [
             0,
             "#0d0887"
            ],
            [
             0.1111111111111111,
             "#46039f"
            ],
            [
             0.2222222222222222,
             "#7201a8"
            ],
            [
             0.3333333333333333,
             "#9c179e"
            ],
            [
             0.4444444444444444,
             "#bd3786"
            ],
            [
             0.5555555555555556,
             "#d8576b"
            ],
            [
             0.6666666666666666,
             "#ed7953"
            ],
            [
             0.7777777777777778,
             "#fb9f3a"
            ],
            [
             0.8888888888888888,
             "#fdca26"
            ],
            [
             1,
             "#f0f921"
            ]
           ],
           "sequentialminus": [
            [
             0,
             "#0d0887"
            ],
            [
             0.1111111111111111,
             "#46039f"
            ],
            [
             0.2222222222222222,
             "#7201a8"
            ],
            [
             0.3333333333333333,
             "#9c179e"
            ],
            [
             0.4444444444444444,
             "#bd3786"
            ],
            [
             0.5555555555555556,
             "#d8576b"
            ],
            [
             0.6666666666666666,
             "#ed7953"
            ],
            [
             0.7777777777777778,
             "#fb9f3a"
            ],
            [
             0.8888888888888888,
             "#fdca26"
            ],
            [
             1,
             "#f0f921"
            ]
           ]
          },
          "colorway": [
           "#636efa",
           "#EF553B",
           "#00cc96",
           "#ab63fa",
           "#FFA15A",
           "#19d3f3",
           "#FF6692",
           "#B6E880",
           "#FF97FF",
           "#FECB52"
          ],
          "font": {
           "color": "#2a3f5f"
          },
          "geo": {
           "bgcolor": "white",
           "lakecolor": "white",
           "landcolor": "white",
           "showlakes": true,
           "showland": true,
           "subunitcolor": "#C8D4E3"
          },
          "hoverlabel": {
           "align": "left"
          },
          "hovermode": "closest",
          "mapbox": {
           "style": "light"
          },
          "paper_bgcolor": "white",
          "plot_bgcolor": "white",
          "polar": {
           "angularaxis": {
            "gridcolor": "#EBF0F8",
            "linecolor": "#EBF0F8",
            "ticks": ""
           },
           "bgcolor": "white",
           "radialaxis": {
            "gridcolor": "#EBF0F8",
            "linecolor": "#EBF0F8",
            "ticks": ""
           }
          },
          "scene": {
           "xaxis": {
            "backgroundcolor": "white",
            "gridcolor": "#DFE8F3",
            "gridwidth": 2,
            "linecolor": "#EBF0F8",
            "showbackground": true,
            "ticks": "",
            "zerolinecolor": "#EBF0F8"
           },
           "yaxis": {
            "backgroundcolor": "white",
            "gridcolor": "#DFE8F3",
            "gridwidth": 2,
            "linecolor": "#EBF0F8",
            "showbackground": true,
            "ticks": "",
            "zerolinecolor": "#EBF0F8"
           },
           "zaxis": {
            "backgroundcolor": "white",
            "gridcolor": "#DFE8F3",
            "gridwidth": 2,
            "linecolor": "#EBF0F8",
            "showbackground": true,
            "ticks": "",
            "zerolinecolor": "#EBF0F8"
           }
          },
          "shapedefaults": {
           "line": {
            "color": "#2a3f5f"
           }
          },
          "ternary": {
           "aaxis": {
            "gridcolor": "#DFE8F3",
            "linecolor": "#A2B1C6",
            "ticks": ""
           },
           "baxis": {
            "gridcolor": "#DFE8F3",
            "linecolor": "#A2B1C6",
            "ticks": ""
           },
           "bgcolor": "white",
           "caxis": {
            "gridcolor": "#DFE8F3",
            "linecolor": "#A2B1C6",
            "ticks": ""
           }
          },
          "title": {
           "x": 0.05
          },
          "xaxis": {
           "automargin": true,
           "gridcolor": "#EBF0F8",
           "linecolor": "#EBF0F8",
           "ticks": "",
           "title": {
            "standoff": 15
           },
           "zerolinecolor": "#EBF0F8",
           "zerolinewidth": 2
          },
          "yaxis": {
           "automargin": true,
           "gridcolor": "#EBF0F8",
           "linecolor": "#EBF0F8",
           "ticks": "",
           "title": {
            "standoff": 15
           },
           "zerolinecolor": "#EBF0F8",
           "zerolinewidth": 2
          }
         }
        },
        "title": {
         "text": "Mean Normalized Score ± Std per Temperature with Trend Line"
        },
        "xaxis": {
         "title": {
          "text": "Temperature"
         }
        },
        "yaxis": {
         "title": {
          "text": "Mean Normalized Score"
         }
        }
       }
      }
     },
     "metadata": {},
     "output_type": "display_data"
    }
   ],
   "source": [
    "import os\n",
    "import pandas as pd\n",
    "import plotly.graph_objects as go\n",
    "from scipy.stats import linregress\n",
    "\n",
    "# List your files and corresponding temperatures\n",
    "files_with_temp = [\n",
    "    (\"/Users/jtsiros93/Documents/llm_bench/week03/bench_results/res_base_amazon-nova-lite-v1_T0.0.csv\",0.0),\n",
    "    (\"/Users/jtsiros93/Documents/llm_bench/week03/bench_results/res_base_amazon-nova-lite-v1_T0.1.csv\",0.1),\n",
    "    (\"/Users/jtsiros93/Documents/llm_bench/week03/bench_results/res_base_amazon-nova-lite-v1_T0.2.csv\",0.2),\n",
    "    (\"/Users/jtsiros93/Documents/llm_bench/week03/bench_results/res_base_amazon-nova-lite-v1_T0.3.csv\",0.3),\n",
    "    (\"/Users/jtsiros93/Documents/llm_bench/week03/bench_results/res_base_amazon-nova-lite-v1_T0.4.csv\",0.4),\n",
    "    (\"/Users/jtsiros93/Documents/llm_bench/week03/bench_results/res_base_amazon-nova-lite-v1_T0.5.csv\",0.5),\n",
    "    (\"/Users/jtsiros93/Documents/llm_bench/week03/bench_results/res_base_amazon-nova-lite-v1_T0.6.csv\",0.6),\n",
    "    (\"/Users/jtsiros93/Documents/llm_bench/week03/bench_results/res_base_amazon-nova-lite-v1_T0.7.csv\",0.7),\n",
    "    (\"/Users/jtsiros93/Documents/llm_bench/week03/bench_results/res_base_amazon-nova-lite-v1_T0.8.csv\",0.8),\n",
    "    (\"/Users/jtsiros93/Documents/llm_bench/week03/bench_results/res_base_amazon-nova-lite-v1_T0.9.csv\",0.9),\n",
    "    (\"/Users/jtsiros93/Documents/llm_bench/week03/bench_results/res_base_amazon-nova-lite-v1_T1.0.csv\",1),\n",
    "    (\"/Users/jtsiros93/Documents/llm_bench/week03/bench_results/res_base_arcee-ai-afm-4.5b_T0.0.csv\",0.0),\n",
    "    (\"/Users/jtsiros93/Documents/llm_bench/week03/bench_results/res_base_arcee-ai-afm-4.5b_T0.1.csv\",0.1),\n",
    "    (\"/Users/jtsiros93/Documents/llm_bench/week03/bench_results/res_base_arcee-ai-afm-4.5b_T0.2.csv\",0.2),\n",
    "    (\"/Users/jtsiros93/Documents/llm_bench/week03/bench_results/res_base_arcee-ai-afm-4.5b_T0.3.csv\",0.3),\n",
    "    (\"/Users/jtsiros93/Documents/llm_bench/week03/bench_results/res_base_arcee-ai-afm-4.5b_T0.4.csv\",0.4),\n",
    "    (\"/Users/jtsiros93/Documents/llm_bench/week03/bench_results/res_base_arcee-ai-afm-4.5b_T0.5.csv\",0.5),\n",
    "    (\"/Users/jtsiros93/Documents/llm_bench/week03/bench_results/res_base_arcee-ai-afm-4.5b_T0.6.csv\",0.6),\n",
    "    (\"/Users/jtsiros93/Documents/llm_bench/week03/bench_results/res_base_arcee-ai-afm-4.5b_T0.7.csv\",0.7),\n",
    "    (\"/Users/jtsiros93/Documents/llm_bench/week03/bench_results/res_base_arcee-ai-afm-4.5b_T0.8.csv\",0.8),\n",
    "    (\"/Users/jtsiros93/Documents/llm_bench/week03/bench_results/res_base_arcee-ai-afm-4.5b_T0.9.csv\",0.9),\n",
    "    (\"/Users/jtsiros93/Documents/llm_bench/week03/bench_results/res_base_arcee-ai-afm-4.5b_T1.0.csv\",1),\n",
    "    (\"/Users/jtsiros93/Documents/llm_bench/week03/bench_results/res_base_baidu-ernie-4.5-21b-a3b_T0.0.csv\",0.0),\n",
    "    (\"/Users/jtsiros93/Documents/llm_bench/week03/bench_results/res_base_baidu-ernie-4.5-21b-a3b_T0.1.csv\",0.1),\n",
    "    (\"/Users/jtsiros93/Documents/llm_bench/week03/bench_results/res_base_baidu-ernie-4.5-21b-a3b_T0.2.csv\",0.2),\n",
    "    (\"/Users/jtsiros93/Documents/llm_bench/week03/bench_results/res_base_baidu-ernie-4.5-21b-a3b_T0.3.csv\",0.3),\n",
    "    (\"/Users/jtsiros93/Documents/llm_bench/week03/bench_results/res_base_baidu-ernie-4.5-21b-a3b_T0.4.csv\",0.4),\n",
    "    (\"/Users/jtsiros93/Documents/llm_bench/week03/bench_results/res_base_baidu-ernie-4.5-21b-a3b_T0.5.csv\",0.5),\n",
    "    (\"/Users/jtsiros93/Documents/llm_bench/week03/bench_results/res_base_baidu-ernie-4.5-21b-a3b_T0.6.csv\",0.6),\n",
    "    (\"/Users/jtsiros93/Documents/llm_bench/week03/bench_results/res_base_baidu-ernie-4.5-21b-a3b_T0.7.csv\",0.7),\n",
    "    (\"/Users/jtsiros93/Documents/llm_bench/week03/bench_results/res_base_baidu-ernie-4.5-21b-a3b_T0.8.csv\",0.8),\n",
    "    (\"/Users/jtsiros93/Documents/llm_bench/week03/bench_results/res_base_baidu-ernie-4.5-21b-a3b_T0.9.csv\",0.9),\n",
    "    (\"/Users/jtsiros93/Documents/llm_bench/week03/bench_results/res_base_baidu-ernie-4.5-21b-a3b_T1.0.csv\",1),\n",
    "    (\"/Users/jtsiros93/Documents/llm_bench/week03/bench_results/res_base_bytedance-ui-tars-1.5-7b_T0.0.csv\",0.0),\n",
    "    (\"/Users/jtsiros93/Documents/llm_bench/week03/bench_results/res_base_bytedance-ui-tars-1.5-7b_T0.1.csv\",0.1),\n",
    "    (\"/Users/jtsiros93/Documents/llm_bench/week03/bench_results/res_base_bytedance-ui-tars-1.5-7b_T0.2.csv\",0.2),\n",
    "    (\"/Users/jtsiros93/Documents/llm_bench/week03/bench_results/res_base_bytedance-ui-tars-1.5-7b_T0.3.csv\",0.3),\n",
    "    (\"/Users/jtsiros93/Documents/llm_bench/week03/bench_results/res_base_bytedance-ui-tars-1.5-7b_T0.4.csv\",0.4),\n",
    "    (\"/Users/jtsiros93/Documents/llm_bench/week03/bench_results/res_base_bytedance-ui-tars-1.5-7b_T0.5.csv\",0.5),\n",
    "    (\"/Users/jtsiros93/Documents/llm_bench/week03/bench_results/res_base_bytedance-ui-tars-1.5-7b_T0.6.csv\",0.6),\n",
    "    (\"/Users/jtsiros93/Documents/llm_bench/week03/bench_results/res_base_bytedance-ui-tars-1.5-7b_T0.7.csv\",0.7),\n",
    "    (\"/Users/jtsiros93/Documents/llm_bench/week03/bench_results/res_base_bytedance-ui-tars-1.5-7b_T0.8.csv\",0.8),\n",
    "    (\"/Users/jtsiros93/Documents/llm_bench/week03/bench_results/res_base_bytedance-ui-tars-1.5-7b_T0.9.csv\",0.9),\n",
    "    (\"/Users/jtsiros93/Documents/llm_bench/week03/bench_results/res_base_bytedance-ui-tars-1.5-7b_T1.0.csv\",1),\n",
    "    (\"/Users/jtsiros93/Documents/llm_bench/week03/bench_results/res_base_google-gemini-2.5-flash-lite_T0.0.csv\",0.0),\n",
    "    (\"/Users/jtsiros93/Documents/llm_bench/week03/bench_results/res_base_google-gemini-2.5-flash-lite_T0.1.csv\",0.1),\n",
    "    (\"/Users/jtsiros93/Documents/llm_bench/week03/bench_results/res_base_google-gemini-2.5-flash-lite_T0.2.csv\",0.2),\n",
    "    (\"/Users/jtsiros93/Documents/llm_bench/week03/bench_results/res_base_google-gemini-2.5-flash-lite_T0.3.csv\",0.3),\n",
    "    (\"/Users/jtsiros93/Documents/llm_bench/week03/bench_results/res_base_google-gemini-2.5-flash-lite_T0.4.csv\",0.4),\n",
    "    (\"/Users/jtsiros93/Documents/llm_bench/week03/bench_results/res_base_google-gemini-2.5-flash-lite_T0.5.csv\",0.5),\n",
    "    (\"/Users/jtsiros93/Documents/llm_bench/week03/bench_results/res_base_google-gemini-2.5-flash-lite_T0.6.csv\",0.6),\n",
    "    (\"/Users/jtsiros93/Documents/llm_bench/week03/bench_results/res_base_google-gemini-2.5-flash-lite_T0.7.csv\",0.7),\n",
    "    (\"/Users/jtsiros93/Documents/llm_bench/week03/bench_results/res_base_google-gemini-2.5-flash-lite_T0.8.csv\",0.8),\n",
    "    (\"/Users/jtsiros93/Documents/llm_bench/week03/bench_results/res_base_google-gemini-2.5-flash-lite_T0.9.csv\",0.9),\n",
    "    (\"/Users/jtsiros93/Documents/llm_bench/week03/bench_results/res_base_google-gemini-2.5-flash-lite_T1.0.csv\",1),\n",
    "    (\"/Users/jtsiros93/Documents/llm_bench/week03/bench_results/res_base_microsoft-phi-4-reasoning-plus_T0.0.csv\",0.0),\n",
    "    (\"/Users/jtsiros93/Documents/llm_bench/week03/bench_results/res_base_microsoft-phi-4-reasoning-plus_T0.1.csv\",0.1),\n",
    "    (\"/Users/jtsiros93/Documents/llm_bench/week03/bench_results/res_base_microsoft-phi-4-reasoning-plus_T0.2.csv\",0.2),\n",
    "    (\"/Users/jtsiros93/Documents/llm_bench/week03/bench_results/res_base_microsoft-phi-4-reasoning-plus_T0.3.csv\",0.3),\n",
    "    (\"/Users/jtsiros93/Documents/llm_bench/week03/bench_results/res_base_microsoft-phi-4-reasoning-plus_T0.4.csv\",0.4),\n",
    "    (\"/Users/jtsiros93/Documents/llm_bench/week03/bench_results/res_base_microsoft-phi-4-reasoning-plus_T0.5.csv\",0.5),\n",
    "    (\"/Users/jtsiros93/Documents/llm_bench/week03/bench_results/res_base_microsoft-phi-4-reasoning-plus_T0.6.csv\",0.6),\n",
    "    (\"/Users/jtsiros93/Documents/llm_bench/week03/bench_results/res_base_microsoft-phi-4-reasoning-plus_T0.7.csv\",0.7),\n",
    "    (\"/Users/jtsiros93/Documents/llm_bench/week03/bench_results/res_base_microsoft-phi-4-reasoning-plus_T0.8.csv\",0.8),\n",
    "    (\"/Users/jtsiros93/Documents/llm_bench/week03/bench_results/res_base_microsoft-phi-4-reasoning-plus_T0.9.csv\",0.9),\n",
    "    (\"/Users/jtsiros93/Documents/llm_bench/week03/bench_results/res_base_microsoft-phi-4-reasoning-plus_T1.0.csv\",1),\n",
    "    (\"/Users/jtsiros93/Documents/llm_bench/week03/bench_results/res_base_mistralai-devstral-small_T0.0.csv\",0.0),\n",
    "    (\"/Users/jtsiros93/Documents/llm_bench/week03/bench_results/res_base_mistralai-devstral-small_T0.1.csv\",0.1),\n",
    "    (\"/Users/jtsiros93/Documents/llm_bench/week03/bench_results/res_base_mistralai-devstral-small_T0.2.csv\",0.2),\n",
    "    (\"/Users/jtsiros93/Documents/llm_bench/week03/bench_results/res_base_mistralai-devstral-small_T0.3.csv\",0.3),\n",
    "    (\"/Users/jtsiros93/Documents/llm_bench/week03/bench_results/res_base_mistralai-devstral-small_T0.4.csv\",0.4),\n",
    "    (\"/Users/jtsiros93/Documents/llm_bench/week03/bench_results/res_base_mistralai-devstral-small_T0.5.csv\",0.5),\n",
    "    (\"/Users/jtsiros93/Documents/llm_bench/week03/bench_results/res_base_mistralai-devstral-small_T0.6.csv\",0.6),\n",
    "    (\"/Users/jtsiros93/Documents/llm_bench/week03/bench_results/res_base_mistralai-devstral-small_T0.7.csv\",0.7),\n",
    "    (\"/Users/jtsiros93/Documents/llm_bench/week03/bench_results/res_base_mistralai-devstral-small_T0.8.csv\",0.8),\n",
    "    (\"/Users/jtsiros93/Documents/llm_bench/week03/bench_results/res_base_mistralai-devstral-small_T0.9.csv\",0.9),\n",
    "    (\"/Users/jtsiros93/Documents/llm_bench/week03/bench_results/res_base_mistralai-devstral-small_T1.0.csv\",1),\n",
    "    (\"/Users/jtsiros93/Documents/llm_bench/week03/bench_results/res_base_openai-gpt-4.1-nano_T0.0.csv\",0.0),\n",
    "    (\"/Users/jtsiros93/Documents/llm_bench/week03/bench_results/res_base_openai-gpt-4.1-nano_T0.1.csv\",0.1),\n",
    "    (\"/Users/jtsiros93/Documents/llm_bench/week03/bench_results/res_base_openai-gpt-4.1-nano_T0.2.csv\",0.2),\n",
    "    (\"/Users/jtsiros93/Documents/llm_bench/week03/bench_results/res_base_openai-gpt-4.1-nano_T0.3.csv\",0.3),\n",
    "    (\"/Users/jtsiros93/Documents/llm_bench/week03/bench_results/res_base_openai-gpt-4.1-nano_T0.4.csv\",0.4),\n",
    "    (\"/Users/jtsiros93/Documents/llm_bench/week03/bench_results/res_base_openai-gpt-4.1-nano_T0.5.csv\",0.5),\n",
    "    (\"/Users/jtsiros93/Documents/llm_bench/week03/bench_results/res_base_openai-gpt-4.1-nano_T0.6.csv\",0.6),\n",
    "    (\"/Users/jtsiros93/Documents/llm_bench/week03/bench_results/res_base_openai-gpt-4.1-nano_T0.7.csv\",0.7),\n",
    "    (\"/Users/jtsiros93/Documents/llm_bench/week03/bench_results/res_base_openai-gpt-4.1-nano_T0.8.csv\",0.8),\n",
    "    (\"/Users/jtsiros93/Documents/llm_bench/week03/bench_results/res_base_openai-gpt-4.1-nano_T0.9.csv\",0.9),\n",
    "    (\"/Users/jtsiros93/Documents/llm_bench/week03/bench_results/res_base_openai-gpt-4.1-nano_T1.0.csv\",1),\n",
    "    (\"/Users/jtsiros93/Documents/llm_bench/week03/bench_results/res_base_qwen-qwen-2.5-vl-7b-instruct_T0.0.csv\",0.0),\n",
    "    (\"/Users/jtsiros93/Documents/llm_bench/week03/bench_results/res_base_qwen-qwen-2.5-vl-7b-instruct_T0.1.csv\",0.1),\n",
    "    (\"/Users/jtsiros93/Documents/llm_bench/week03/bench_results/res_base_qwen-qwen-2.5-vl-7b-instruct_T0.2.csv\",0.2),\n",
    "    (\"/Users/jtsiros93/Documents/llm_bench/week03/bench_results/res_base_qwen-qwen-2.5-vl-7b-instruct_T0.3.csv\",0.3),\n",
    "    (\"/Users/jtsiros93/Documents/llm_bench/week03/bench_results/res_base_qwen-qwen-2.5-vl-7b-instruct_T0.4.csv\",0.4),\n",
    "    (\"/Users/jtsiros93/Documents/llm_bench/week03/bench_results/res_base_qwen-qwen-2.5-vl-7b-instruct_T0.5.csv\",0.5),\n",
    "    (\"/Users/jtsiros93/Documents/llm_bench/week03/bench_results/res_base_qwen-qwen-2.5-vl-7b-instruct_T0.6.csv\",0.6),\n",
    "    (\"/Users/jtsiros93/Documents/llm_bench/week03/bench_results/res_base_qwen-qwen-2.5-vl-7b-instruct_T0.7.csv\",0.7),\n",
    "    (\"/Users/jtsiros93/Documents/llm_bench/week03/bench_results/res_base_qwen-qwen-2.5-vl-7b-instruct_T0.8.csv\",0.8),\n",
    "    (\"/Users/jtsiros93/Documents/llm_bench/week03/bench_results/res_base_qwen-qwen-2.5-vl-7b-instruct_T0.9.csv\",0.9),\n",
    "    (\"/Users/jtsiros93/Documents/llm_bench/week03/bench_results/res_base_qwen-qwen-2.5-vl-7b-instruct_T1.0.csv\",1),\n",
    "    (\"/Users/jtsiros93/Documents/llm_bench/week03/bench_results/res_base_z-ai-glm-4-32b_T0.0.csv\",0.0),\n",
    "    (\"/Users/jtsiros93/Documents/llm_bench/week03/bench_results/res_base_z-ai-glm-4-32b_T0.1.csv\",0.1),\n",
    "    (\"/Users/jtsiros93/Documents/llm_bench/week03/bench_results/res_base_z-ai-glm-4-32b_T0.2.csv\",0.2),\n",
    "    (\"/Users/jtsiros93/Documents/llm_bench/week03/bench_results/res_base_z-ai-glm-4-32b_T0.3.csv\",0.3),\n",
    "    (\"/Users/jtsiros93/Documents/llm_bench/week03/bench_results/res_base_z-ai-glm-4-32b_T0.4.csv\",0.4),\n",
    "    (\"/Users/jtsiros93/Documents/llm_bench/week03/bench_results/res_base_z-ai-glm-4-32b_T0.5.csv\",0.5),\n",
    "    (\"/Users/jtsiros93/Documents/llm_bench/week03/bench_results/res_base_z-ai-glm-4-32b_T0.6.csv\",0.6),\n",
    "    (\"/Users/jtsiros93/Documents/llm_bench/week03/bench_results/res_base_z-ai-glm-4-32b_T0.7.csv\",0.7),\n",
    "    (\"/Users/jtsiros93/Documents/llm_bench/week03/bench_results/res_base_z-ai-glm-4-32b_T0.8.csv\",0.8),\n",
    "    (\"/Users/jtsiros93/Documents/llm_bench/week03/bench_results/res_base_z-ai-glm-4-32b_T0.9.csv\",0.9),\n",
    "    (\"/Users/jtsiros93/Documents/llm_bench/week03/bench_results/res_base_z-ai-glm-4-32b_T1.0.csv\",1),\n",
    "]\n",
    "\n",
    "# Load and combine data\n",
    "all_data = []\n",
    "for file, temp in files_with_temp:\n",
    "    df = pd.read_csv(file)\n",
    "    df[\"temperature\"] = temp\n",
    "    \n",
    "    # Extract model name from the filename (between 'res_base_' and '_T...')\n",
    "    base = os.path.basename(file)\n",
    "    model = base.split(\"_T\")[0].replace(\"res_base_\", \"\")\n",
    "    \n",
    "    df[\"model\"] = model\n",
    "    all_data.append(df)\n",
    "\n",
    "combined_df = pd.concat(all_data, ignore_index=True)\n",
    "\n",
    "# Compute mean and std per temperature per model\n",
    "summary = (\n",
    "    combined_df.groupby([\"model\", \"temperature\"])[\"Normalized\"]\n",
    "    .agg([\"mean\", \"std\"])\n",
    "    .reset_index()\n",
    ")\n",
    "\n",
    "# Create scatter plot with error bars\n",
    "fig = go.Figure()\n",
    "\n",
    "for model in summary[\"model\"].unique():\n",
    "    df_model = summary[summary[\"model\"] == model]\n",
    "    \n",
    "    # Scatter with error bars\n",
    "    fig.add_trace(go.Scatter(\n",
    "        x=df_model[\"temperature\"],\n",
    "        y=df_model[\"mean\"],\n",
    "        error_y=dict(type=\"data\", array=df_model[\"std\"]),\n",
    "        mode=\"markers\",\n",
    "        name=f\"{model} data\"\n",
    "    ))\n",
    "    \n",
    "    # Fit line and calculate R-squared\n",
    "    slope, intercept, r_value, p_value, std_err = linregress(df_model[\"temperature\"], df_model[\"mean\"])\n",
    "    trend_y = intercept + slope * df_model[\"temperature\"]\n",
    "    r_squared = r_value**2\n",
    "    \n",
    "    # Add trend line (same color as scatter, Plotly handles it by trace order)\n",
    "    fig.add_trace(go.Scatter(\n",
    "        x=df_model[\"temperature\"],\n",
    "        y=trend_y,\n",
    "        mode=\"lines\",\n",
    "        name=f\"{model} trend (R²={r_squared:.3f})\"\n",
    "    ))\n",
    "\n",
    "fig.update_layout(\n",
    "    title=\"Mean Normalized Score ± Std per Temperature with Trend Line\",\n",
    "    xaxis_title=\"Temperature\",\n",
    "    yaxis_title=\"Mean Normalized Score\",\n",
    "    template=\"plotly_white\"\n",
    ")\n",
    "\n",
    "# Show in browser so it doesn’t depend on Jupyter\n",
    "fig.show()"
   ]
  },
  {
   "cell_type": "code",
   "execution_count": 90,
   "id": "7cc2116e",
   "metadata": {},
   "outputs": [
    {
     "data": {
      "application/vnd.plotly.v1+json": {
       "config": {
        "plotlyServerURL": "https://plot.ly"
       },
       "data": [
        {
         "error_y": {
          "array": {
           "bdata": "AAAAAAAAAAAAAAAAAAAAAAAAAAAAAAAAAAAAAAAAAAD3MeauJeSzP01BfH8LR8Y/+yUuY/bxtT/gYjSpVFu9P6FAbyFzKcc/UYL3FSv70D+3Ekxg17nRPw==",
           "dtype": "f8"
          },
          "type": "data"
         },
         "mode": "markers",
         "name": "openai-gpt-4.1-nano data",
         "type": "scatter",
         "x": {
          "bdata": "AAAAAAAAAACamZmZmZm5P5qZmZmZmck/MzMzMzMz0z+amZmZmZnZPwAAAAAAAOA/MzMzMzMz4z9mZmZmZmbmP5qZmZmZmek/zczMzMzM7D8AAAAAAADwPw==",
          "dtype": "f8"
         },
         "y": {
          "bdata": "AAAAAAAAAAAAAAAAAAAAAAAAAAAAAAAAAAAAAAAAAADBHD1+b9N/P5pk5Czsaac/uB6F61G4jj+N1lHVBFGXPx2PGaiMf68/u0T11sBWuT/arPpcbcW+Pw==",
          "dtype": "f8"
         }
        },
        {
         "mode": "lines",
         "name": "openai-gpt-4.1-nano trend (R²=0.755)",
         "type": "scatter",
         "x": {
          "bdata": "AAAAAAAAAACamZmZmZm5P5qZmZmZmck/MzMzMzMz0z+amZmZmZnZPwAAAAAAAOA/MzMzMzMz4z9mZmZmZmbmP5qZmZmZmek/zczMzMzM7D8AAAAAAADwPw==",
          "dtype": "f8"
         },
         "y": {
          "bdata": "lifkDFvSlr/VCDsv9qmGv4Bgj9RuMiQ/2IPfpYlLhz8YZTbIJCOXPyGEvl5CUKE/t9VhWfIOpz9LJwVUos2sP3I8VCcpRrE/POWlJIEltD8Gjvch2QS3Pw==",
          "dtype": "f8"
         }
        }
       ],
       "layout": {
        "template": {
         "data": {
          "bar": [
           {
            "error_x": {
             "color": "#2a3f5f"
            },
            "error_y": {
             "color": "#2a3f5f"
            },
            "marker": {
             "line": {
              "color": "white",
              "width": 0.5
             },
             "pattern": {
              "fillmode": "overlay",
              "size": 10,
              "solidity": 0.2
             }
            },
            "type": "bar"
           }
          ],
          "barpolar": [
           {
            "marker": {
             "line": {
              "color": "white",
              "width": 0.5
             },
             "pattern": {
              "fillmode": "overlay",
              "size": 10,
              "solidity": 0.2
             }
            },
            "type": "barpolar"
           }
          ],
          "carpet": [
           {
            "aaxis": {
             "endlinecolor": "#2a3f5f",
             "gridcolor": "#C8D4E3",
             "linecolor": "#C8D4E3",
             "minorgridcolor": "#C8D4E3",
             "startlinecolor": "#2a3f5f"
            },
            "baxis": {
             "endlinecolor": "#2a3f5f",
             "gridcolor": "#C8D4E3",
             "linecolor": "#C8D4E3",
             "minorgridcolor": "#C8D4E3",
             "startlinecolor": "#2a3f5f"
            },
            "type": "carpet"
           }
          ],
          "choropleth": [
           {
            "colorbar": {
             "outlinewidth": 0,
             "ticks": ""
            },
            "type": "choropleth"
           }
          ],
          "contour": [
           {
            "colorbar": {
             "outlinewidth": 0,
             "ticks": ""
            },
            "colorscale": [
             [
              0,
              "#0d0887"
             ],
             [
              0.1111111111111111,
              "#46039f"
             ],
             [
              0.2222222222222222,
              "#7201a8"
             ],
             [
              0.3333333333333333,
              "#9c179e"
             ],
             [
              0.4444444444444444,
              "#bd3786"
             ],
             [
              0.5555555555555556,
              "#d8576b"
             ],
             [
              0.6666666666666666,
              "#ed7953"
             ],
             [
              0.7777777777777778,
              "#fb9f3a"
             ],
             [
              0.8888888888888888,
              "#fdca26"
             ],
             [
              1,
              "#f0f921"
             ]
            ],
            "type": "contour"
           }
          ],
          "contourcarpet": [
           {
            "colorbar": {
             "outlinewidth": 0,
             "ticks": ""
            },
            "type": "contourcarpet"
           }
          ],
          "heatmap": [
           {
            "colorbar": {
             "outlinewidth": 0,
             "ticks": ""
            },
            "colorscale": [
             [
              0,
              "#0d0887"
             ],
             [
              0.1111111111111111,
              "#46039f"
             ],
             [
              0.2222222222222222,
              "#7201a8"
             ],
             [
              0.3333333333333333,
              "#9c179e"
             ],
             [
              0.4444444444444444,
              "#bd3786"
             ],
             [
              0.5555555555555556,
              "#d8576b"
             ],
             [
              0.6666666666666666,
              "#ed7953"
             ],
             [
              0.7777777777777778,
              "#fb9f3a"
             ],
             [
              0.8888888888888888,
              "#fdca26"
             ],
             [
              1,
              "#f0f921"
             ]
            ],
            "type": "heatmap"
           }
          ],
          "histogram": [
           {
            "marker": {
             "pattern": {
              "fillmode": "overlay",
              "size": 10,
              "solidity": 0.2
             }
            },
            "type": "histogram"
           }
          ],
          "histogram2d": [
           {
            "colorbar": {
             "outlinewidth": 0,
             "ticks": ""
            },
            "colorscale": [
             [
              0,
              "#0d0887"
             ],
             [
              0.1111111111111111,
              "#46039f"
             ],
             [
              0.2222222222222222,
              "#7201a8"
             ],
             [
              0.3333333333333333,
              "#9c179e"
             ],
             [
              0.4444444444444444,
              "#bd3786"
             ],
             [
              0.5555555555555556,
              "#d8576b"
             ],
             [
              0.6666666666666666,
              "#ed7953"
             ],
             [
              0.7777777777777778,
              "#fb9f3a"
             ],
             [
              0.8888888888888888,
              "#fdca26"
             ],
             [
              1,
              "#f0f921"
             ]
            ],
            "type": "histogram2d"
           }
          ],
          "histogram2dcontour": [
           {
            "colorbar": {
             "outlinewidth": 0,
             "ticks": ""
            },
            "colorscale": [
             [
              0,
              "#0d0887"
             ],
             [
              0.1111111111111111,
              "#46039f"
             ],
             [
              0.2222222222222222,
              "#7201a8"
             ],
             [
              0.3333333333333333,
              "#9c179e"
             ],
             [
              0.4444444444444444,
              "#bd3786"
             ],
             [
              0.5555555555555556,
              "#d8576b"
             ],
             [
              0.6666666666666666,
              "#ed7953"
             ],
             [
              0.7777777777777778,
              "#fb9f3a"
             ],
             [
              0.8888888888888888,
              "#fdca26"
             ],
             [
              1,
              "#f0f921"
             ]
            ],
            "type": "histogram2dcontour"
           }
          ],
          "mesh3d": [
           {
            "colorbar": {
             "outlinewidth": 0,
             "ticks": ""
            },
            "type": "mesh3d"
           }
          ],
          "parcoords": [
           {
            "line": {
             "colorbar": {
              "outlinewidth": 0,
              "ticks": ""
             }
            },
            "type": "parcoords"
           }
          ],
          "pie": [
           {
            "automargin": true,
            "type": "pie"
           }
          ],
          "scatter": [
           {
            "fillpattern": {
             "fillmode": "overlay",
             "size": 10,
             "solidity": 0.2
            },
            "type": "scatter"
           }
          ],
          "scatter3d": [
           {
            "line": {
             "colorbar": {
              "outlinewidth": 0,
              "ticks": ""
             }
            },
            "marker": {
             "colorbar": {
              "outlinewidth": 0,
              "ticks": ""
             }
            },
            "type": "scatter3d"
           }
          ],
          "scattercarpet": [
           {
            "marker": {
             "colorbar": {
              "outlinewidth": 0,
              "ticks": ""
             }
            },
            "type": "scattercarpet"
           }
          ],
          "scattergeo": [
           {
            "marker": {
             "colorbar": {
              "outlinewidth": 0,
              "ticks": ""
             }
            },
            "type": "scattergeo"
           }
          ],
          "scattergl": [
           {
            "marker": {
             "colorbar": {
              "outlinewidth": 0,
              "ticks": ""
             }
            },
            "type": "scattergl"
           }
          ],
          "scattermap": [
           {
            "marker": {
             "colorbar": {
              "outlinewidth": 0,
              "ticks": ""
             }
            },
            "type": "scattermap"
           }
          ],
          "scattermapbox": [
           {
            "marker": {
             "colorbar": {
              "outlinewidth": 0,
              "ticks": ""
             }
            },
            "type": "scattermapbox"
           }
          ],
          "scatterpolar": [
           {
            "marker": {
             "colorbar": {
              "outlinewidth": 0,
              "ticks": ""
             }
            },
            "type": "scatterpolar"
           }
          ],
          "scatterpolargl": [
           {
            "marker": {
             "colorbar": {
              "outlinewidth": 0,
              "ticks": ""
             }
            },
            "type": "scatterpolargl"
           }
          ],
          "scatterternary": [
           {
            "marker": {
             "colorbar": {
              "outlinewidth": 0,
              "ticks": ""
             }
            },
            "type": "scatterternary"
           }
          ],
          "surface": [
           {
            "colorbar": {
             "outlinewidth": 0,
             "ticks": ""
            },
            "colorscale": [
             [
              0,
              "#0d0887"
             ],
             [
              0.1111111111111111,
              "#46039f"
             ],
             [
              0.2222222222222222,
              "#7201a8"
             ],
             [
              0.3333333333333333,
              "#9c179e"
             ],
             [
              0.4444444444444444,
              "#bd3786"
             ],
             [
              0.5555555555555556,
              "#d8576b"
             ],
             [
              0.6666666666666666,
              "#ed7953"
             ],
             [
              0.7777777777777778,
              "#fb9f3a"
             ],
             [
              0.8888888888888888,
              "#fdca26"
             ],
             [
              1,
              "#f0f921"
             ]
            ],
            "type": "surface"
           }
          ],
          "table": [
           {
            "cells": {
             "fill": {
              "color": "#EBF0F8"
             },
             "line": {
              "color": "white"
             }
            },
            "header": {
             "fill": {
              "color": "#C8D4E3"
             },
             "line": {
              "color": "white"
             }
            },
            "type": "table"
           }
          ]
         },
         "layout": {
          "annotationdefaults": {
           "arrowcolor": "#2a3f5f",
           "arrowhead": 0,
           "arrowwidth": 1
          },
          "autotypenumbers": "strict",
          "coloraxis": {
           "colorbar": {
            "outlinewidth": 0,
            "ticks": ""
           }
          },
          "colorscale": {
           "diverging": [
            [
             0,
             "#8e0152"
            ],
            [
             0.1,
             "#c51b7d"
            ],
            [
             0.2,
             "#de77ae"
            ],
            [
             0.3,
             "#f1b6da"
            ],
            [
             0.4,
             "#fde0ef"
            ],
            [
             0.5,
             "#f7f7f7"
            ],
            [
             0.6,
             "#e6f5d0"
            ],
            [
             0.7,
             "#b8e186"
            ],
            [
             0.8,
             "#7fbc41"
            ],
            [
             0.9,
             "#4d9221"
            ],
            [
             1,
             "#276419"
            ]
           ],
           "sequential": [
            [
             0,
             "#0d0887"
            ],
            [
             0.1111111111111111,
             "#46039f"
            ],
            [
             0.2222222222222222,
             "#7201a8"
            ],
            [
             0.3333333333333333,
             "#9c179e"
            ],
            [
             0.4444444444444444,
             "#bd3786"
            ],
            [
             0.5555555555555556,
             "#d8576b"
            ],
            [
             0.6666666666666666,
             "#ed7953"
            ],
            [
             0.7777777777777778,
             "#fb9f3a"
            ],
            [
             0.8888888888888888,
             "#fdca26"
            ],
            [
             1,
             "#f0f921"
            ]
           ],
           "sequentialminus": [
            [
             0,
             "#0d0887"
            ],
            [
             0.1111111111111111,
             "#46039f"
            ],
            [
             0.2222222222222222,
             "#7201a8"
            ],
            [
             0.3333333333333333,
             "#9c179e"
            ],
            [
             0.4444444444444444,
             "#bd3786"
            ],
            [
             0.5555555555555556,
             "#d8576b"
            ],
            [
             0.6666666666666666,
             "#ed7953"
            ],
            [
             0.7777777777777778,
             "#fb9f3a"
            ],
            [
             0.8888888888888888,
             "#fdca26"
            ],
            [
             1,
             "#f0f921"
            ]
           ]
          },
          "colorway": [
           "#636efa",
           "#EF553B",
           "#00cc96",
           "#ab63fa",
           "#FFA15A",
           "#19d3f3",
           "#FF6692",
           "#B6E880",
           "#FF97FF",
           "#FECB52"
          ],
          "font": {
           "color": "#2a3f5f"
          },
          "geo": {
           "bgcolor": "white",
           "lakecolor": "white",
           "landcolor": "white",
           "showlakes": true,
           "showland": true,
           "subunitcolor": "#C8D4E3"
          },
          "hoverlabel": {
           "align": "left"
          },
          "hovermode": "closest",
          "mapbox": {
           "style": "light"
          },
          "paper_bgcolor": "white",
          "plot_bgcolor": "white",
          "polar": {
           "angularaxis": {
            "gridcolor": "#EBF0F8",
            "linecolor": "#EBF0F8",
            "ticks": ""
           },
           "bgcolor": "white",
           "radialaxis": {
            "gridcolor": "#EBF0F8",
            "linecolor": "#EBF0F8",
            "ticks": ""
           }
          },
          "scene": {
           "xaxis": {
            "backgroundcolor": "white",
            "gridcolor": "#DFE8F3",
            "gridwidth": 2,
            "linecolor": "#EBF0F8",
            "showbackground": true,
            "ticks": "",
            "zerolinecolor": "#EBF0F8"
           },
           "yaxis": {
            "backgroundcolor": "white",
            "gridcolor": "#DFE8F3",
            "gridwidth": 2,
            "linecolor": "#EBF0F8",
            "showbackground": true,
            "ticks": "",
            "zerolinecolor": "#EBF0F8"
           },
           "zaxis": {
            "backgroundcolor": "white",
            "gridcolor": "#DFE8F3",
            "gridwidth": 2,
            "linecolor": "#EBF0F8",
            "showbackground": true,
            "ticks": "",
            "zerolinecolor": "#EBF0F8"
           }
          },
          "shapedefaults": {
           "line": {
            "color": "#2a3f5f"
           }
          },
          "ternary": {
           "aaxis": {
            "gridcolor": "#DFE8F3",
            "linecolor": "#A2B1C6",
            "ticks": ""
           },
           "baxis": {
            "gridcolor": "#DFE8F3",
            "linecolor": "#A2B1C6",
            "ticks": ""
           },
           "bgcolor": "white",
           "caxis": {
            "gridcolor": "#DFE8F3",
            "linecolor": "#A2B1C6",
            "ticks": ""
           }
          },
          "title": {
           "x": 0.05
          },
          "xaxis": {
           "automargin": true,
           "gridcolor": "#EBF0F8",
           "linecolor": "#EBF0F8",
           "ticks": "",
           "title": {
            "standoff": 15
           },
           "zerolinecolor": "#EBF0F8",
           "zerolinewidth": 2
          },
          "yaxis": {
           "automargin": true,
           "gridcolor": "#EBF0F8",
           "linecolor": "#EBF0F8",
           "ticks": "",
           "title": {
            "standoff": 15
           },
           "zerolinecolor": "#EBF0F8",
           "zerolinewidth": 2
          }
         }
        },
        "title": {
         "text": "Mean Normalized Score ± Std per Temperature with Trend Line"
        },
        "xaxis": {
         "title": {
          "text": "Temperature"
         }
        },
        "yaxis": {
         "title": {
          "text": "Mean Normalized Score"
         }
        }
       }
      }
     },
     "metadata": {},
     "output_type": "display_data"
    }
   ],
   "source": [
    "files_with_temp = [\n",
    "    (\"/Users/jtsiros93/Documents/llm_bench/week03/tst_weird_puzzle_gpt/res_base_openai-gpt-4.1-nano_T0.0.csv\", 0.0),\n",
    "    (\"/Users/jtsiros93/Documents/llm_bench/week03/tst_weird_puzzle_gpt/res_base_openai-gpt-4.1-nano_T0.1.csv\", 0.1),\n",
    "    (\"/Users/jtsiros93/Documents/llm_bench/week03/tst_weird_puzzle_gpt/res_base_openai-gpt-4.1-nano_T0.2.csv\", 0.2 ),\n",
    "    (\"/Users/jtsiros93/Documents/llm_bench/week03/tst_weird_puzzle_gpt/res_base_openai-gpt-4.1-nano_T0.3.csv\", 0.3),\n",
    "    (\"/Users/jtsiros93/Documents/llm_bench/week03/tst_weird_puzzle_gpt/res_base_openai-gpt-4.1-nano_T0.4.csv\", 0.4),\n",
    "    (\"/Users/jtsiros93/Documents/llm_bench/week03/tst_weird_puzzle_gpt/res_base_openai-gpt-4.1-nano_T0.5.csv\", 0.5),\n",
    "    (\"/Users/jtsiros93/Documents/llm_bench/week03/tst_weird_puzzle_gpt/res_base_openai-gpt-4.1-nano_T0.6.csv\", 0.6),\n",
    "    (\"/Users/jtsiros93/Documents/llm_bench/week03/tst_weird_puzzle_gpt/res_base_openai-gpt-4.1-nano_T0.7.csv\", 0.7),\n",
    "    (\"/Users/jtsiros93/Documents/llm_bench/week03/tst_weird_puzzle_gpt/res_base_openai-gpt-4.1-nano_T0.8.csv\", 0.8),\n",
    "    (\"/Users/jtsiros93/Documents/llm_bench/week03/tst_weird_puzzle_gpt/res_base_openai-gpt-4.1-nano_T0.9.csv\", 0.9),\n",
    "    (\"/Users/jtsiros93/Documents/llm_bench/week03/tst_weird_puzzle_gpt/res_base_openai-gpt-4.1-nano_T1.0.csv\", 1),\n",
    "]\n",
    "\n",
    "\n",
    "all_data = []\n",
    "for file, temp in files_with_temp:\n",
    "    df = pd.read_csv(file)\n",
    "    df[\"temperature\"] = temp\n",
    "    \n",
    "    # Extract model name from the filename (between 'res_base_' and '_T...')\n",
    "    base = os.path.basename(file)\n",
    "    model = base.split(\"_T\")[0].replace(\"res_base_\", \"\")\n",
    "    \n",
    "    df[\"model\"] = model\n",
    "    all_data.append(df)\n",
    "\n",
    "combined_df = pd.concat(all_data, ignore_index=True)\n",
    "\n",
    "# Compute mean and std per temperature per model\n",
    "summary = (\n",
    "    combined_df.groupby([\"model\", \"temperature\"])[\"Normalized\"]\n",
    "    .agg([\"mean\", \"std\"])\n",
    "    .reset_index()\n",
    ")\n",
    "\n",
    "# Create scatter plot with error bars\n",
    "fig = go.Figure()\n",
    "\n",
    "for model in summary[\"model\"].unique():\n",
    "    df_model = summary[summary[\"model\"] == model]\n",
    "    \n",
    "    # Scatter with error bars\n",
    "    fig.add_trace(go.Scatter(\n",
    "        x=df_model[\"temperature\"],\n",
    "        y=df_model[\"mean\"],\n",
    "        error_y=dict(type=\"data\", array=df_model[\"std\"]),\n",
    "        mode=\"markers\",\n",
    "        name=f\"{model} data\"\n",
    "    ))\n",
    "    \n",
    "    # Fit line and calculate R-squared\n",
    "    slope, intercept, r_value, p_value, std_err = linregress(df_model[\"temperature\"], df_model[\"mean\"])\n",
    "    trend_y = intercept + slope * df_model[\"temperature\"]\n",
    "    r_squared = r_value**2\n",
    "    \n",
    "    # Add trend line (same color as scatter, Plotly handles it by trace order)\n",
    "    fig.add_trace(go.Scatter(\n",
    "        x=df_model[\"temperature\"],\n",
    "        y=trend_y,\n",
    "        mode=\"lines\",\n",
    "        name=f\"{model} trend (R²={r_squared:.3f})\"\n",
    "    ))\n",
    "\n",
    "fig.update_layout(\n",
    "    title=\"Mean Normalized Score ± Std per Temperature with Trend Line\",\n",
    "    xaxis_title=\"Temperature\",\n",
    "    yaxis_title=\"Mean Normalized Score\",\n",
    "    template=\"plotly_white\"\n",
    ")\n",
    "\n",
    "# Show in browser so it doesn’t depend on Jupyter\n",
    "fig.show()"
   ]
  },
  {
   "cell_type": "code",
   "execution_count": 152,
   "id": "eecd34f1",
   "metadata": {},
   "outputs": [
    {
     "name": "stdout",
     "output_type": "stream",
     "text": [
      "Best temperature based on Oa(t): 0.4\n",
      "temperature    0.400000\n",
      "mean_M         0.000500\n",
      "std_D          0.001269\n",
      "Oa            -0.005846\n",
      "Name: 4, dtype: float64\n"
     ]
    },
    {
     "data": {
      "application/vnd.plotly.v1+json": {
       "config": {
        "plotlyServerURL": "https://plot.ly"
       },
       "data": [
        {
         "hovertemplate": "temperature=%{x}<br>Oa=%{y}<extra></extra>",
         "legendgroup": "",
         "line": {
          "color": "#636efa",
          "dash": "solid"
         },
         "marker": {
          "symbol": "circle"
         },
         "mode": "lines+markers",
         "name": "",
         "orientation": "v",
         "showlegend": false,
         "type": "scatter",
         "x": {
          "bdata": "AAAAAAAAAACamZmZmZm5P5qZmZmZmck/MzMzMzMz0z+amZmZmZnZPwAAAAAAAOA/MzMzMzMz4z9mZmZmZmbmP5qZmZmZmek/zczMzMzM7D8AAAAAAADwPw==",
          "dtype": "f8"
         },
         "xaxis": "x",
         "y": {
          "bdata": "ltXOEmCn9b/d5c0Gy5rgv0CayfKw+/i/0PPE/VOO3782eZzgefJ3v8W2q3T5CvO/EM2o6bqNzL9kNcg/qmrBv1l5Wff+UPO/Glwo4LnL2r8O+wcO2oPivw==",
          "dtype": "f8"
         },
         "yaxis": "y"
        },
        {
         "marker": {
          "color": "red",
          "size": 12,
          "symbol": "star"
         },
         "mode": "markers+text",
         "name": "Best Temperature",
         "text": [
          "Best"
         ],
         "textposition": "top center",
         "type": "scatter",
         "x": [
          0.4
         ],
         "y": [
          -0.005846477588219925
         ]
        }
       ],
       "layout": {
        "legend": {
         "tracegroupgap": 0
        },
        "template": {
         "data": {
          "bar": [
           {
            "error_x": {
             "color": "#2a3f5f"
            },
            "error_y": {
             "color": "#2a3f5f"
            },
            "marker": {
             "line": {
              "color": "#E5ECF6",
              "width": 0.5
             },
             "pattern": {
              "fillmode": "overlay",
              "size": 10,
              "solidity": 0.2
             }
            },
            "type": "bar"
           }
          ],
          "barpolar": [
           {
            "marker": {
             "line": {
              "color": "#E5ECF6",
              "width": 0.5
             },
             "pattern": {
              "fillmode": "overlay",
              "size": 10,
              "solidity": 0.2
             }
            },
            "type": "barpolar"
           }
          ],
          "carpet": [
           {
            "aaxis": {
             "endlinecolor": "#2a3f5f",
             "gridcolor": "white",
             "linecolor": "white",
             "minorgridcolor": "white",
             "startlinecolor": "#2a3f5f"
            },
            "baxis": {
             "endlinecolor": "#2a3f5f",
             "gridcolor": "white",
             "linecolor": "white",
             "minorgridcolor": "white",
             "startlinecolor": "#2a3f5f"
            },
            "type": "carpet"
           }
          ],
          "choropleth": [
           {
            "colorbar": {
             "outlinewidth": 0,
             "ticks": ""
            },
            "type": "choropleth"
           }
          ],
          "contour": [
           {
            "colorbar": {
             "outlinewidth": 0,
             "ticks": ""
            },
            "colorscale": [
             [
              0,
              "#0d0887"
             ],
             [
              0.1111111111111111,
              "#46039f"
             ],
             [
              0.2222222222222222,
              "#7201a8"
             ],
             [
              0.3333333333333333,
              "#9c179e"
             ],
             [
              0.4444444444444444,
              "#bd3786"
             ],
             [
              0.5555555555555556,
              "#d8576b"
             ],
             [
              0.6666666666666666,
              "#ed7953"
             ],
             [
              0.7777777777777778,
              "#fb9f3a"
             ],
             [
              0.8888888888888888,
              "#fdca26"
             ],
             [
              1,
              "#f0f921"
             ]
            ],
            "type": "contour"
           }
          ],
          "contourcarpet": [
           {
            "colorbar": {
             "outlinewidth": 0,
             "ticks": ""
            },
            "type": "contourcarpet"
           }
          ],
          "heatmap": [
           {
            "colorbar": {
             "outlinewidth": 0,
             "ticks": ""
            },
            "colorscale": [
             [
              0,
              "#0d0887"
             ],
             [
              0.1111111111111111,
              "#46039f"
             ],
             [
              0.2222222222222222,
              "#7201a8"
             ],
             [
              0.3333333333333333,
              "#9c179e"
             ],
             [
              0.4444444444444444,
              "#bd3786"
             ],
             [
              0.5555555555555556,
              "#d8576b"
             ],
             [
              0.6666666666666666,
              "#ed7953"
             ],
             [
              0.7777777777777778,
              "#fb9f3a"
             ],
             [
              0.8888888888888888,
              "#fdca26"
             ],
             [
              1,
              "#f0f921"
             ]
            ],
            "type": "heatmap"
           }
          ],
          "histogram": [
           {
            "marker": {
             "pattern": {
              "fillmode": "overlay",
              "size": 10,
              "solidity": 0.2
             }
            },
            "type": "histogram"
           }
          ],
          "histogram2d": [
           {
            "colorbar": {
             "outlinewidth": 0,
             "ticks": ""
            },
            "colorscale": [
             [
              0,
              "#0d0887"
             ],
             [
              0.1111111111111111,
              "#46039f"
             ],
             [
              0.2222222222222222,
              "#7201a8"
             ],
             [
              0.3333333333333333,
              "#9c179e"
             ],
             [
              0.4444444444444444,
              "#bd3786"
             ],
             [
              0.5555555555555556,
              "#d8576b"
             ],
             [
              0.6666666666666666,
              "#ed7953"
             ],
             [
              0.7777777777777778,
              "#fb9f3a"
             ],
             [
              0.8888888888888888,
              "#fdca26"
             ],
             [
              1,
              "#f0f921"
             ]
            ],
            "type": "histogram2d"
           }
          ],
          "histogram2dcontour": [
           {
            "colorbar": {
             "outlinewidth": 0,
             "ticks": ""
            },
            "colorscale": [
             [
              0,
              "#0d0887"
             ],
             [
              0.1111111111111111,
              "#46039f"
             ],
             [
              0.2222222222222222,
              "#7201a8"
             ],
             [
              0.3333333333333333,
              "#9c179e"
             ],
             [
              0.4444444444444444,
              "#bd3786"
             ],
             [
              0.5555555555555556,
              "#d8576b"
             ],
             [
              0.6666666666666666,
              "#ed7953"
             ],
             [
              0.7777777777777778,
              "#fb9f3a"
             ],
             [
              0.8888888888888888,
              "#fdca26"
             ],
             [
              1,
              "#f0f921"
             ]
            ],
            "type": "histogram2dcontour"
           }
          ],
          "mesh3d": [
           {
            "colorbar": {
             "outlinewidth": 0,
             "ticks": ""
            },
            "type": "mesh3d"
           }
          ],
          "parcoords": [
           {
            "line": {
             "colorbar": {
              "outlinewidth": 0,
              "ticks": ""
             }
            },
            "type": "parcoords"
           }
          ],
          "pie": [
           {
            "automargin": true,
            "type": "pie"
           }
          ],
          "scatter": [
           {
            "fillpattern": {
             "fillmode": "overlay",
             "size": 10,
             "solidity": 0.2
            },
            "type": "scatter"
           }
          ],
          "scatter3d": [
           {
            "line": {
             "colorbar": {
              "outlinewidth": 0,
              "ticks": ""
             }
            },
            "marker": {
             "colorbar": {
              "outlinewidth": 0,
              "ticks": ""
             }
            },
            "type": "scatter3d"
           }
          ],
          "scattercarpet": [
           {
            "marker": {
             "colorbar": {
              "outlinewidth": 0,
              "ticks": ""
             }
            },
            "type": "scattercarpet"
           }
          ],
          "scattergeo": [
           {
            "marker": {
             "colorbar": {
              "outlinewidth": 0,
              "ticks": ""
             }
            },
            "type": "scattergeo"
           }
          ],
          "scattergl": [
           {
            "marker": {
             "colorbar": {
              "outlinewidth": 0,
              "ticks": ""
             }
            },
            "type": "scattergl"
           }
          ],
          "scattermap": [
           {
            "marker": {
             "colorbar": {
              "outlinewidth": 0,
              "ticks": ""
             }
            },
            "type": "scattermap"
           }
          ],
          "scattermapbox": [
           {
            "marker": {
             "colorbar": {
              "outlinewidth": 0,
              "ticks": ""
             }
            },
            "type": "scattermapbox"
           }
          ],
          "scatterpolar": [
           {
            "marker": {
             "colorbar": {
              "outlinewidth": 0,
              "ticks": ""
             }
            },
            "type": "scatterpolar"
           }
          ],
          "scatterpolargl": [
           {
            "marker": {
             "colorbar": {
              "outlinewidth": 0,
              "ticks": ""
             }
            },
            "type": "scatterpolargl"
           }
          ],
          "scatterternary": [
           {
            "marker": {
             "colorbar": {
              "outlinewidth": 0,
              "ticks": ""
             }
            },
            "type": "scatterternary"
           }
          ],
          "surface": [
           {
            "colorbar": {
             "outlinewidth": 0,
             "ticks": ""
            },
            "colorscale": [
             [
              0,
              "#0d0887"
             ],
             [
              0.1111111111111111,
              "#46039f"
             ],
             [
              0.2222222222222222,
              "#7201a8"
             ],
             [
              0.3333333333333333,
              "#9c179e"
             ],
             [
              0.4444444444444444,
              "#bd3786"
             ],
             [
              0.5555555555555556,
              "#d8576b"
             ],
             [
              0.6666666666666666,
              "#ed7953"
             ],
             [
              0.7777777777777778,
              "#fb9f3a"
             ],
             [
              0.8888888888888888,
              "#fdca26"
             ],
             [
              1,
              "#f0f921"
             ]
            ],
            "type": "surface"
           }
          ],
          "table": [
           {
            "cells": {
             "fill": {
              "color": "#EBF0F8"
             },
             "line": {
              "color": "white"
             }
            },
            "header": {
             "fill": {
              "color": "#C8D4E3"
             },
             "line": {
              "color": "white"
             }
            },
            "type": "table"
           }
          ]
         },
         "layout": {
          "annotationdefaults": {
           "arrowcolor": "#2a3f5f",
           "arrowhead": 0,
           "arrowwidth": 1
          },
          "autotypenumbers": "strict",
          "coloraxis": {
           "colorbar": {
            "outlinewidth": 0,
            "ticks": ""
           }
          },
          "colorscale": {
           "diverging": [
            [
             0,
             "#8e0152"
            ],
            [
             0.1,
             "#c51b7d"
            ],
            [
             0.2,
             "#de77ae"
            ],
            [
             0.3,
             "#f1b6da"
            ],
            [
             0.4,
             "#fde0ef"
            ],
            [
             0.5,
             "#f7f7f7"
            ],
            [
             0.6,
             "#e6f5d0"
            ],
            [
             0.7,
             "#b8e186"
            ],
            [
             0.8,
             "#7fbc41"
            ],
            [
             0.9,
             "#4d9221"
            ],
            [
             1,
             "#276419"
            ]
           ],
           "sequential": [
            [
             0,
             "#0d0887"
            ],
            [
             0.1111111111111111,
             "#46039f"
            ],
            [
             0.2222222222222222,
             "#7201a8"
            ],
            [
             0.3333333333333333,
             "#9c179e"
            ],
            [
             0.4444444444444444,
             "#bd3786"
            ],
            [
             0.5555555555555556,
             "#d8576b"
            ],
            [
             0.6666666666666666,
             "#ed7953"
            ],
            [
             0.7777777777777778,
             "#fb9f3a"
            ],
            [
             0.8888888888888888,
             "#fdca26"
            ],
            [
             1,
             "#f0f921"
            ]
           ],
           "sequentialminus": [
            [
             0,
             "#0d0887"
            ],
            [
             0.1111111111111111,
             "#46039f"
            ],
            [
             0.2222222222222222,
             "#7201a8"
            ],
            [
             0.3333333333333333,
             "#9c179e"
            ],
            [
             0.4444444444444444,
             "#bd3786"
            ],
            [
             0.5555555555555556,
             "#d8576b"
            ],
            [
             0.6666666666666666,
             "#ed7953"
            ],
            [
             0.7777777777777778,
             "#fb9f3a"
            ],
            [
             0.8888888888888888,
             "#fdca26"
            ],
            [
             1,
             "#f0f921"
            ]
           ]
          },
          "colorway": [
           "#636efa",
           "#EF553B",
           "#00cc96",
           "#ab63fa",
           "#FFA15A",
           "#19d3f3",
           "#FF6692",
           "#B6E880",
           "#FF97FF",
           "#FECB52"
          ],
          "font": {
           "color": "#2a3f5f"
          },
          "geo": {
           "bgcolor": "white",
           "lakecolor": "white",
           "landcolor": "#E5ECF6",
           "showlakes": true,
           "showland": true,
           "subunitcolor": "white"
          },
          "hoverlabel": {
           "align": "left"
          },
          "hovermode": "closest",
          "mapbox": {
           "style": "light"
          },
          "paper_bgcolor": "white",
          "plot_bgcolor": "#E5ECF6",
          "polar": {
           "angularaxis": {
            "gridcolor": "white",
            "linecolor": "white",
            "ticks": ""
           },
           "bgcolor": "#E5ECF6",
           "radialaxis": {
            "gridcolor": "white",
            "linecolor": "white",
            "ticks": ""
           }
          },
          "scene": {
           "xaxis": {
            "backgroundcolor": "#E5ECF6",
            "gridcolor": "white",
            "gridwidth": 2,
            "linecolor": "white",
            "showbackground": true,
            "ticks": "",
            "zerolinecolor": "white"
           },
           "yaxis": {
            "backgroundcolor": "#E5ECF6",
            "gridcolor": "white",
            "gridwidth": 2,
            "linecolor": "white",
            "showbackground": true,
            "ticks": "",
            "zerolinecolor": "white"
           },
           "zaxis": {
            "backgroundcolor": "#E5ECF6",
            "gridcolor": "white",
            "gridwidth": 2,
            "linecolor": "white",
            "showbackground": true,
            "ticks": "",
            "zerolinecolor": "white"
           }
          },
          "shapedefaults": {
           "line": {
            "color": "#2a3f5f"
           }
          },
          "ternary": {
           "aaxis": {
            "gridcolor": "white",
            "linecolor": "white",
            "ticks": ""
           },
           "baxis": {
            "gridcolor": "white",
            "linecolor": "white",
            "ticks": ""
           },
           "bgcolor": "#E5ECF6",
           "caxis": {
            "gridcolor": "white",
            "linecolor": "white",
            "ticks": ""
           }
          },
          "title": {
           "x": 0.05
          },
          "xaxis": {
           "automargin": true,
           "gridcolor": "white",
           "linecolor": "white",
           "ticks": "",
           "title": {
            "standoff": 15
           },
           "zerolinecolor": "white",
           "zerolinewidth": 2
          },
          "yaxis": {
           "automargin": true,
           "gridcolor": "white",
           "linecolor": "white",
           "ticks": "",
           "title": {
            "standoff": 15
           },
           "zerolinecolor": "white",
           "zerolinewidth": 2
          }
         }
        },
        "title": {
         "text": "Fairness Objective Oa(t) by Temperature, a = 5.0"
        },
        "xaxis": {
         "anchor": "y",
         "domain": [
          0,
          1
         ],
         "title": {
          "text": "temperature"
         }
        },
        "yaxis": {
         "anchor": "x",
         "domain": [
          0,
          1
         ],
         "title": {
          "text": "Oa"
         }
        }
       }
      }
     },
     "metadata": {},
     "output_type": "display_data"
    }
   ],
   "source": [
    "import pandas as pd\n",
    "import glob\n",
    "import os\n",
    "import plotly.express as px\n",
    "\n",
    "# Path to your CSV files\n",
    "data_path = \"/Users/jtsiros93/Documents/llm_bench/week03/bench_results\"  # change this\n",
    "csv_files = glob.glob(os.path.join(data_path, \"*.csv\"))\n",
    "\n",
    "results = []\n",
    "\n",
    "for file in csv_files:\n",
    "    df = pd.read_csv(file)\n",
    "\n",
    "    # Extract temperature from filename\n",
    "    fname = os.path.splitext(os.path.basename(file))[0]\n",
    "    try:\n",
    "        temperature = float(fname.split(\"_T\")[-1])\n",
    "    except ValueError:\n",
    "        continue  # skip if temperature missing\n",
    "\n",
    "    model = fname.split(\"_T\")[0].replace(\"res_base_\", \"\")\n",
    "\n",
    "    mean_score = df[\"Normalized\"].mean()\n",
    "\n",
    "    results.append({\n",
    "        \"temperature\": temperature,\n",
    "        \"model\": model,\n",
    "        \"mean_score\": mean_score\n",
    "    })\n",
    "\n",
    "# Make DataFrame\n",
    "perf_data = pd.DataFrame(results)\n",
    "\n",
    "# Group across models\n",
    "summary = perf_data.groupby(\"temperature\").agg(\n",
    "    mean_M=(\"mean_score\", \"mean\"),\n",
    "    std_D=(\"mean_score\", \"std\")\n",
    ").reset_index()\n",
    "\n",
    "# Fairness objective\n",
    "a = 5 # adjust as needed\n",
    "summary[\"Oa\"] = summary[\"mean_M\"] - a * summary[\"std_D\"]\n",
    "\n",
    "# Best temperature\n",
    "best_row = summary.loc[summary[\"Oa\"].idxmax()]\n",
    "print(\"Best temperature based on Oa(t):\", best_row[\"temperature\"])\n",
    "print(best_row)\n",
    "\n",
    "# --- Plotly interactive plot ---\n",
    "fig = px.line(\n",
    "    summary,\n",
    "    x=\"temperature\",\n",
    "    y=\"Oa\",\n",
    "    title=\"Fairness Objective Oa(t) by Temperature, a = 5.0\",\n",
    "    markers=True\n",
    ")\n",
    "\n",
    "# Highlight the best point\n",
    "fig.add_scatter(\n",
    "    x=[best_row[\"temperature\"]],\n",
    "    y=[best_row[\"Oa\"]],\n",
    "    mode=\"markers+text\",\n",
    "    marker=dict(color=\"red\", size=12, symbol=\"star\"),\n",
    "    text=[\"Best\"],\n",
    "    textposition=\"top center\",\n",
    "    name=\"Best Temperature\"\n",
    ")\n",
    "\n",
    "fig.show()\n"
   ]
  },
  {
   "cell_type": "code",
   "execution_count": 88,
   "id": "9f1d6550",
   "metadata": {},
   "outputs": [
    {
     "name": "stdout",
     "output_type": "stream",
     "text": [
      "Best top_p based on Oa(t): 25.0\n",
      "top_p     25.0\n",
      "mean_M     0.0\n",
      "std_D      0.0\n",
      "Oa         0.0\n",
      "Name: 0, dtype: float64\n"
     ]
    },
    {
     "data": {
      "application/vnd.plotly.v1+json": {
       "config": {
        "plotlyServerURL": "https://plot.ly"
       },
       "data": [
        {
         "hovertemplate": "top_p=%{x}<br>Oa=%{y}<extra></extra>",
         "legendgroup": "",
         "line": {
          "color": "#636efa",
          "dash": "solid"
         },
         "marker": {
          "symbol": "circle"
         },
         "mode": "lines+markers",
         "name": "",
         "orientation": "v",
         "showlegend": false,
         "type": "scatter",
         "x": {
          "bdata": "AAAAAAAAOUAAAAAAAABJQAAAAAAAAFlAAAAAAAAAaUAAAAAAAAB5QAAAAAAAAIlAAAAAAAAAmUAAAAAAAACpQAAAAAAAALlAAAAAAAAAyUA=",
          "dtype": "f8"
         },
         "xaxis": "x",
         "y": {
          "bdata": "AAAAAAAAAABK3O6Wgvmsv/UGCsBlecm/rs9llab0v7+AgPjp59GzvwZJb/Y1Cma/8QcJfWYlwr8+cpEDTFe8v2hlrNR3L8W/LSmeoOmOsb8=",
          "dtype": "f8"
         },
         "yaxis": "y"
        },
        {
         "marker": {
          "color": "red",
          "size": 12,
          "symbol": "star"
         },
         "mode": "markers+text",
         "name": "Best top_p",
         "text": [
          "Best"
         ],
         "textposition": "top center",
         "type": "scatter",
         "x": [
          25
         ],
         "y": [
          0
         ]
        }
       ],
       "layout": {
        "legend": {
         "tracegroupgap": 0
        },
        "template": {
         "data": {
          "bar": [
           {
            "error_x": {
             "color": "#2a3f5f"
            },
            "error_y": {
             "color": "#2a3f5f"
            },
            "marker": {
             "line": {
              "color": "#E5ECF6",
              "width": 0.5
             },
             "pattern": {
              "fillmode": "overlay",
              "size": 10,
              "solidity": 0.2
             }
            },
            "type": "bar"
           }
          ],
          "barpolar": [
           {
            "marker": {
             "line": {
              "color": "#E5ECF6",
              "width": 0.5
             },
             "pattern": {
              "fillmode": "overlay",
              "size": 10,
              "solidity": 0.2
             }
            },
            "type": "barpolar"
           }
          ],
          "carpet": [
           {
            "aaxis": {
             "endlinecolor": "#2a3f5f",
             "gridcolor": "white",
             "linecolor": "white",
             "minorgridcolor": "white",
             "startlinecolor": "#2a3f5f"
            },
            "baxis": {
             "endlinecolor": "#2a3f5f",
             "gridcolor": "white",
             "linecolor": "white",
             "minorgridcolor": "white",
             "startlinecolor": "#2a3f5f"
            },
            "type": "carpet"
           }
          ],
          "choropleth": [
           {
            "colorbar": {
             "outlinewidth": 0,
             "ticks": ""
            },
            "type": "choropleth"
           }
          ],
          "contour": [
           {
            "colorbar": {
             "outlinewidth": 0,
             "ticks": ""
            },
            "colorscale": [
             [
              0,
              "#0d0887"
             ],
             [
              0.1111111111111111,
              "#46039f"
             ],
             [
              0.2222222222222222,
              "#7201a8"
             ],
             [
              0.3333333333333333,
              "#9c179e"
             ],
             [
              0.4444444444444444,
              "#bd3786"
             ],
             [
              0.5555555555555556,
              "#d8576b"
             ],
             [
              0.6666666666666666,
              "#ed7953"
             ],
             [
              0.7777777777777778,
              "#fb9f3a"
             ],
             [
              0.8888888888888888,
              "#fdca26"
             ],
             [
              1,
              "#f0f921"
             ]
            ],
            "type": "contour"
           }
          ],
          "contourcarpet": [
           {
            "colorbar": {
             "outlinewidth": 0,
             "ticks": ""
            },
            "type": "contourcarpet"
           }
          ],
          "heatmap": [
           {
            "colorbar": {
             "outlinewidth": 0,
             "ticks": ""
            },
            "colorscale": [
             [
              0,
              "#0d0887"
             ],
             [
              0.1111111111111111,
              "#46039f"
             ],
             [
              0.2222222222222222,
              "#7201a8"
             ],
             [
              0.3333333333333333,
              "#9c179e"
             ],
             [
              0.4444444444444444,
              "#bd3786"
             ],
             [
              0.5555555555555556,
              "#d8576b"
             ],
             [
              0.6666666666666666,
              "#ed7953"
             ],
             [
              0.7777777777777778,
              "#fb9f3a"
             ],
             [
              0.8888888888888888,
              "#fdca26"
             ],
             [
              1,
              "#f0f921"
             ]
            ],
            "type": "heatmap"
           }
          ],
          "histogram": [
           {
            "marker": {
             "pattern": {
              "fillmode": "overlay",
              "size": 10,
              "solidity": 0.2
             }
            },
            "type": "histogram"
           }
          ],
          "histogram2d": [
           {
            "colorbar": {
             "outlinewidth": 0,
             "ticks": ""
            },
            "colorscale": [
             [
              0,
              "#0d0887"
             ],
             [
              0.1111111111111111,
              "#46039f"
             ],
             [
              0.2222222222222222,
              "#7201a8"
             ],
             [
              0.3333333333333333,
              "#9c179e"
             ],
             [
              0.4444444444444444,
              "#bd3786"
             ],
             [
              0.5555555555555556,
              "#d8576b"
             ],
             [
              0.6666666666666666,
              "#ed7953"
             ],
             [
              0.7777777777777778,
              "#fb9f3a"
             ],
             [
              0.8888888888888888,
              "#fdca26"
             ],
             [
              1,
              "#f0f921"
             ]
            ],
            "type": "histogram2d"
           }
          ],
          "histogram2dcontour": [
           {
            "colorbar": {
             "outlinewidth": 0,
             "ticks": ""
            },
            "colorscale": [
             [
              0,
              "#0d0887"
             ],
             [
              0.1111111111111111,
              "#46039f"
             ],
             [
              0.2222222222222222,
              "#7201a8"
             ],
             [
              0.3333333333333333,
              "#9c179e"
             ],
             [
              0.4444444444444444,
              "#bd3786"
             ],
             [
              0.5555555555555556,
              "#d8576b"
             ],
             [
              0.6666666666666666,
              "#ed7953"
             ],
             [
              0.7777777777777778,
              "#fb9f3a"
             ],
             [
              0.8888888888888888,
              "#fdca26"
             ],
             [
              1,
              "#f0f921"
             ]
            ],
            "type": "histogram2dcontour"
           }
          ],
          "mesh3d": [
           {
            "colorbar": {
             "outlinewidth": 0,
             "ticks": ""
            },
            "type": "mesh3d"
           }
          ],
          "parcoords": [
           {
            "line": {
             "colorbar": {
              "outlinewidth": 0,
              "ticks": ""
             }
            },
            "type": "parcoords"
           }
          ],
          "pie": [
           {
            "automargin": true,
            "type": "pie"
           }
          ],
          "scatter": [
           {
            "fillpattern": {
             "fillmode": "overlay",
             "size": 10,
             "solidity": 0.2
            },
            "type": "scatter"
           }
          ],
          "scatter3d": [
           {
            "line": {
             "colorbar": {
              "outlinewidth": 0,
              "ticks": ""
             }
            },
            "marker": {
             "colorbar": {
              "outlinewidth": 0,
              "ticks": ""
             }
            },
            "type": "scatter3d"
           }
          ],
          "scattercarpet": [
           {
            "marker": {
             "colorbar": {
              "outlinewidth": 0,
              "ticks": ""
             }
            },
            "type": "scattercarpet"
           }
          ],
          "scattergeo": [
           {
            "marker": {
             "colorbar": {
              "outlinewidth": 0,
              "ticks": ""
             }
            },
            "type": "scattergeo"
           }
          ],
          "scattergl": [
           {
            "marker": {
             "colorbar": {
              "outlinewidth": 0,
              "ticks": ""
             }
            },
            "type": "scattergl"
           }
          ],
          "scattermap": [
           {
            "marker": {
             "colorbar": {
              "outlinewidth": 0,
              "ticks": ""
             }
            },
            "type": "scattermap"
           }
          ],
          "scattermapbox": [
           {
            "marker": {
             "colorbar": {
              "outlinewidth": 0,
              "ticks": ""
             }
            },
            "type": "scattermapbox"
           }
          ],
          "scatterpolar": [
           {
            "marker": {
             "colorbar": {
              "outlinewidth": 0,
              "ticks": ""
             }
            },
            "type": "scatterpolar"
           }
          ],
          "scatterpolargl": [
           {
            "marker": {
             "colorbar": {
              "outlinewidth": 0,
              "ticks": ""
             }
            },
            "type": "scatterpolargl"
           }
          ],
          "scatterternary": [
           {
            "marker": {
             "colorbar": {
              "outlinewidth": 0,
              "ticks": ""
             }
            },
            "type": "scatterternary"
           }
          ],
          "surface": [
           {
            "colorbar": {
             "outlinewidth": 0,
             "ticks": ""
            },
            "colorscale": [
             [
              0,
              "#0d0887"
             ],
             [
              0.1111111111111111,
              "#46039f"
             ],
             [
              0.2222222222222222,
              "#7201a8"
             ],
             [
              0.3333333333333333,
              "#9c179e"
             ],
             [
              0.4444444444444444,
              "#bd3786"
             ],
             [
              0.5555555555555556,
              "#d8576b"
             ],
             [
              0.6666666666666666,
              "#ed7953"
             ],
             [
              0.7777777777777778,
              "#fb9f3a"
             ],
             [
              0.8888888888888888,
              "#fdca26"
             ],
             [
              1,
              "#f0f921"
             ]
            ],
            "type": "surface"
           }
          ],
          "table": [
           {
            "cells": {
             "fill": {
              "color": "#EBF0F8"
             },
             "line": {
              "color": "white"
             }
            },
            "header": {
             "fill": {
              "color": "#C8D4E3"
             },
             "line": {
              "color": "white"
             }
            },
            "type": "table"
           }
          ]
         },
         "layout": {
          "annotationdefaults": {
           "arrowcolor": "#2a3f5f",
           "arrowhead": 0,
           "arrowwidth": 1
          },
          "autotypenumbers": "strict",
          "coloraxis": {
           "colorbar": {
            "outlinewidth": 0,
            "ticks": ""
           }
          },
          "colorscale": {
           "diverging": [
            [
             0,
             "#8e0152"
            ],
            [
             0.1,
             "#c51b7d"
            ],
            [
             0.2,
             "#de77ae"
            ],
            [
             0.3,
             "#f1b6da"
            ],
            [
             0.4,
             "#fde0ef"
            ],
            [
             0.5,
             "#f7f7f7"
            ],
            [
             0.6,
             "#e6f5d0"
            ],
            [
             0.7,
             "#b8e186"
            ],
            [
             0.8,
             "#7fbc41"
            ],
            [
             0.9,
             "#4d9221"
            ],
            [
             1,
             "#276419"
            ]
           ],
           "sequential": [
            [
             0,
             "#0d0887"
            ],
            [
             0.1111111111111111,
             "#46039f"
            ],
            [
             0.2222222222222222,
             "#7201a8"
            ],
            [
             0.3333333333333333,
             "#9c179e"
            ],
            [
             0.4444444444444444,
             "#bd3786"
            ],
            [
             0.5555555555555556,
             "#d8576b"
            ],
            [
             0.6666666666666666,
             "#ed7953"
            ],
            [
             0.7777777777777778,
             "#fb9f3a"
            ],
            [
             0.8888888888888888,
             "#fdca26"
            ],
            [
             1,
             "#f0f921"
            ]
           ],
           "sequentialminus": [
            [
             0,
             "#0d0887"
            ],
            [
             0.1111111111111111,
             "#46039f"
            ],
            [
             0.2222222222222222,
             "#7201a8"
            ],
            [
             0.3333333333333333,
             "#9c179e"
            ],
            [
             0.4444444444444444,
             "#bd3786"
            ],
            [
             0.5555555555555556,
             "#d8576b"
            ],
            [
             0.6666666666666666,
             "#ed7953"
            ],
            [
             0.7777777777777778,
             "#fb9f3a"
            ],
            [
             0.8888888888888888,
             "#fdca26"
            ],
            [
             1,
             "#f0f921"
            ]
           ]
          },
          "colorway": [
           "#636efa",
           "#EF553B",
           "#00cc96",
           "#ab63fa",
           "#FFA15A",
           "#19d3f3",
           "#FF6692",
           "#B6E880",
           "#FF97FF",
           "#FECB52"
          ],
          "font": {
           "color": "#2a3f5f"
          },
          "geo": {
           "bgcolor": "white",
           "lakecolor": "white",
           "landcolor": "#E5ECF6",
           "showlakes": true,
           "showland": true,
           "subunitcolor": "white"
          },
          "hoverlabel": {
           "align": "left"
          },
          "hovermode": "closest",
          "mapbox": {
           "style": "light"
          },
          "paper_bgcolor": "white",
          "plot_bgcolor": "#E5ECF6",
          "polar": {
           "angularaxis": {
            "gridcolor": "white",
            "linecolor": "white",
            "ticks": ""
           },
           "bgcolor": "#E5ECF6",
           "radialaxis": {
            "gridcolor": "white",
            "linecolor": "white",
            "ticks": ""
           }
          },
          "scene": {
           "xaxis": {
            "backgroundcolor": "#E5ECF6",
            "gridcolor": "white",
            "gridwidth": 2,
            "linecolor": "white",
            "showbackground": true,
            "ticks": "",
            "zerolinecolor": "white"
           },
           "yaxis": {
            "backgroundcolor": "#E5ECF6",
            "gridcolor": "white",
            "gridwidth": 2,
            "linecolor": "white",
            "showbackground": true,
            "ticks": "",
            "zerolinecolor": "white"
           },
           "zaxis": {
            "backgroundcolor": "#E5ECF6",
            "gridcolor": "white",
            "gridwidth": 2,
            "linecolor": "white",
            "showbackground": true,
            "ticks": "",
            "zerolinecolor": "white"
           }
          },
          "shapedefaults": {
           "line": {
            "color": "#2a3f5f"
           }
          },
          "ternary": {
           "aaxis": {
            "gridcolor": "white",
            "linecolor": "white",
            "ticks": ""
           },
           "baxis": {
            "gridcolor": "white",
            "linecolor": "white",
            "ticks": ""
           },
           "bgcolor": "#E5ECF6",
           "caxis": {
            "gridcolor": "white",
            "linecolor": "white",
            "ticks": ""
           }
          },
          "title": {
           "x": 0.05
          },
          "xaxis": {
           "automargin": true,
           "gridcolor": "white",
           "linecolor": "white",
           "ticks": "",
           "title": {
            "standoff": 15
           },
           "zerolinecolor": "white",
           "zerolinewidth": 2
          },
          "yaxis": {
           "automargin": true,
           "gridcolor": "white",
           "linecolor": "white",
           "ticks": "",
           "title": {
            "standoff": 15
           },
           "zerolinecolor": "white",
           "zerolinewidth": 2
          }
         }
        },
        "title": {
         "text": "Fairness Objective Oa(t) by Temperature"
        },
        "xaxis": {
         "anchor": "y",
         "domain": [
          0,
          1
         ],
         "title": {
          "text": "top_p"
         }
        },
        "yaxis": {
         "anchor": "x",
         "domain": [
          0,
          1
         ],
         "title": {
          "text": "Oa"
         }
        }
       }
      }
     },
     "metadata": {},
     "output_type": "display_data"
    }
   ],
   "source": [
    "import pandas as pd\n",
    "import glob\n",
    "import os\n",
    "import plotly.express as px\n",
    "\n",
    "# Path to your CSV files\n",
    "data_path = \"/Users/jtsiros93/Documents/llm_bench/week03/bench_max_tokens\"  # change this\n",
    "csv_files = glob.glob(os.path.join(data_path, \"*.csv\"))\n",
    "\n",
    "results = []\n",
    "\n",
    "for file in csv_files:\n",
    "    df = pd.read_csv(file)\n",
    "\n",
    "    # Extract temperature from filename\n",
    "    fname = os.path.splitext(os.path.basename(file))[0]\n",
    "    try:\n",
    "        top_p = float(fname.split(\"_T\")[-1])\n",
    "    except ValueError:\n",
    "        continue  # skip if top_p missing\n",
    "\n",
    "    model = fname.split(\"_T\")[0].replace(\"res_base_\", \"\")\n",
    "\n",
    "    mean_score = df[\"Normalized\"].mean()\n",
    "\n",
    "    results.append({\n",
    "        \"top_p\": top_p,\n",
    "        \"model\": model,\n",
    "        \"mean_score\": mean_score\n",
    "    })\n",
    "\n",
    "# Make DataFrame\n",
    "perf_data = pd.DataFrame(results)\n",
    "\n",
    "# Group across models\n",
    "summary = perf_data.groupby(\"top_p\").agg(\n",
    "    mean_M=(\"mean_score\", \"mean\"),\n",
    "    std_D=(\"mean_score\", \"std\")\n",
    ").reset_index()\n",
    "\n",
    "# Fairness objective\n",
    "a = 1.0  # adjust as needed\n",
    "summary[\"Oa\"] = summary[\"mean_M\"] - a * summary[\"std_D\"]\n",
    "\n",
    "# Best op_pe\n",
    "best_row = summary.loc[summary[\"Oa\"].idxmax()]\n",
    "print(\"Best top_p based on Oa(t):\", best_row[\"top_p\"])\n",
    "print(best_row)\n",
    "\n",
    "# --- Plotly interactive plot ---\n",
    "fig = px.line(\n",
    "    summary,\n",
    "    x=\"top_p\",\n",
    "    y=\"Oa\",\n",
    "    title=\"Fairness Objective Oa(t) by Temperature\",\n",
    "    markers=True\n",
    ")\n",
    "\n",
    "# Highlight the best point\n",
    "fig.add_scatter(\n",
    "    x=[best_row[\"top_p\"]],\n",
    "    y=[best_row[\"Oa\"]],\n",
    "    mode=\"markers+text\",\n",
    "    marker=dict(color=\"red\", size=12, symbol=\"star\"),\n",
    "    text=[\"Best\"],\n",
    "    textposition=\"top center\",\n",
    "    name=\"Best top_p\"\n",
    ")\n",
    "\n",
    "fig.show()"
   ]
  },
  {
   "cell_type": "code",
   "execution_count": 89,
   "id": "69785d15",
   "metadata": {},
   "outputs": [
    {
     "name": "stdout",
     "output_type": "stream",
     "text": [
      "Best temperature based on Oa(t): 1.0\n",
      "temperature    1.000000\n",
      "mean_M         0.464345\n",
      "std_D          0.315815\n",
      "Oa             0.148530\n",
      "Name: 10, dtype: float64\n"
     ]
    },
    {
     "data": {
      "application/vnd.plotly.v1+json": {
       "config": {
        "plotlyServerURL": "https://plot.ly"
       },
       "data": [
        {
         "hovertemplate": "temperature=%{x}<br>Oa=%{y}<extra></extra>",
         "legendgroup": "",
         "line": {
          "color": "#636efa",
          "dash": "solid"
         },
         "marker": {
          "symbol": "circle"
         },
         "mode": "lines+markers",
         "name": "",
         "orientation": "v",
         "showlegend": false,
         "type": "scatter",
         "x": {
          "bdata": "AAAAAAAAAACamZmZmZm5P5qZmZmZmck/MzMzMzMz0z+amZmZmZnZPwAAAAAAAOA/MzMzMzMz4z9mZmZmZmbmP5qZmZmZmek/zczMzMzM7D8AAAAAAADwPw==",
          "dtype": "f8"
         },
         "xaxis": "x",
         "y": {
          "bdata": "+O6B1Q6osT+Q1DgPTiCvP6C1MeH1qqs/8AK+JTcJrD+4dLTSNhixP9iNz37V4rM/GCp3+SBGtj+k7pvZ0+G4P4xor2eBV7g/Klc30VzNwT9i3+AXBwPDPw==",
          "dtype": "f8"
         },
         "yaxis": "y"
        },
        {
         "marker": {
          "color": "red",
          "size": 12,
          "symbol": "star"
         },
         "mode": "markers+text",
         "name": "Best Temperature",
         "text": [
          "Best"
         ],
         "textposition": "top center",
         "type": "scatter",
         "x": [
          1
         ],
         "y": [
          0.14852989831865232
         ]
        }
       ],
       "layout": {
        "legend": {
         "tracegroupgap": 0
        },
        "template": {
         "data": {
          "bar": [
           {
            "error_x": {
             "color": "#2a3f5f"
            },
            "error_y": {
             "color": "#2a3f5f"
            },
            "marker": {
             "line": {
              "color": "#E5ECF6",
              "width": 0.5
             },
             "pattern": {
              "fillmode": "overlay",
              "size": 10,
              "solidity": 0.2
             }
            },
            "type": "bar"
           }
          ],
          "barpolar": [
           {
            "marker": {
             "line": {
              "color": "#E5ECF6",
              "width": 0.5
             },
             "pattern": {
              "fillmode": "overlay",
              "size": 10,
              "solidity": 0.2
             }
            },
            "type": "barpolar"
           }
          ],
          "carpet": [
           {
            "aaxis": {
             "endlinecolor": "#2a3f5f",
             "gridcolor": "white",
             "linecolor": "white",
             "minorgridcolor": "white",
             "startlinecolor": "#2a3f5f"
            },
            "baxis": {
             "endlinecolor": "#2a3f5f",
             "gridcolor": "white",
             "linecolor": "white",
             "minorgridcolor": "white",
             "startlinecolor": "#2a3f5f"
            },
            "type": "carpet"
           }
          ],
          "choropleth": [
           {
            "colorbar": {
             "outlinewidth": 0,
             "ticks": ""
            },
            "type": "choropleth"
           }
          ],
          "contour": [
           {
            "colorbar": {
             "outlinewidth": 0,
             "ticks": ""
            },
            "colorscale": [
             [
              0,
              "#0d0887"
             ],
             [
              0.1111111111111111,
              "#46039f"
             ],
             [
              0.2222222222222222,
              "#7201a8"
             ],
             [
              0.3333333333333333,
              "#9c179e"
             ],
             [
              0.4444444444444444,
              "#bd3786"
             ],
             [
              0.5555555555555556,
              "#d8576b"
             ],
             [
              0.6666666666666666,
              "#ed7953"
             ],
             [
              0.7777777777777778,
              "#fb9f3a"
             ],
             [
              0.8888888888888888,
              "#fdca26"
             ],
             [
              1,
              "#f0f921"
             ]
            ],
            "type": "contour"
           }
          ],
          "contourcarpet": [
           {
            "colorbar": {
             "outlinewidth": 0,
             "ticks": ""
            },
            "type": "contourcarpet"
           }
          ],
          "heatmap": [
           {
            "colorbar": {
             "outlinewidth": 0,
             "ticks": ""
            },
            "colorscale": [
             [
              0,
              "#0d0887"
             ],
             [
              0.1111111111111111,
              "#46039f"
             ],
             [
              0.2222222222222222,
              "#7201a8"
             ],
             [
              0.3333333333333333,
              "#9c179e"
             ],
             [
              0.4444444444444444,
              "#bd3786"
             ],
             [
              0.5555555555555556,
              "#d8576b"
             ],
             [
              0.6666666666666666,
              "#ed7953"
             ],
             [
              0.7777777777777778,
              "#fb9f3a"
             ],
             [
              0.8888888888888888,
              "#fdca26"
             ],
             [
              1,
              "#f0f921"
             ]
            ],
            "type": "heatmap"
           }
          ],
          "histogram": [
           {
            "marker": {
             "pattern": {
              "fillmode": "overlay",
              "size": 10,
              "solidity": 0.2
             }
            },
            "type": "histogram"
           }
          ],
          "histogram2d": [
           {
            "colorbar": {
             "outlinewidth": 0,
             "ticks": ""
            },
            "colorscale": [
             [
              0,
              "#0d0887"
             ],
             [
              0.1111111111111111,
              "#46039f"
             ],
             [
              0.2222222222222222,
              "#7201a8"
             ],
             [
              0.3333333333333333,
              "#9c179e"
             ],
             [
              0.4444444444444444,
              "#bd3786"
             ],
             [
              0.5555555555555556,
              "#d8576b"
             ],
             [
              0.6666666666666666,
              "#ed7953"
             ],
             [
              0.7777777777777778,
              "#fb9f3a"
             ],
             [
              0.8888888888888888,
              "#fdca26"
             ],
             [
              1,
              "#f0f921"
             ]
            ],
            "type": "histogram2d"
           }
          ],
          "histogram2dcontour": [
           {
            "colorbar": {
             "outlinewidth": 0,
             "ticks": ""
            },
            "colorscale": [
             [
              0,
              "#0d0887"
             ],
             [
              0.1111111111111111,
              "#46039f"
             ],
             [
              0.2222222222222222,
              "#7201a8"
             ],
             [
              0.3333333333333333,
              "#9c179e"
             ],
             [
              0.4444444444444444,
              "#bd3786"
             ],
             [
              0.5555555555555556,
              "#d8576b"
             ],
             [
              0.6666666666666666,
              "#ed7953"
             ],
             [
              0.7777777777777778,
              "#fb9f3a"
             ],
             [
              0.8888888888888888,
              "#fdca26"
             ],
             [
              1,
              "#f0f921"
             ]
            ],
            "type": "histogram2dcontour"
           }
          ],
          "mesh3d": [
           {
            "colorbar": {
             "outlinewidth": 0,
             "ticks": ""
            },
            "type": "mesh3d"
           }
          ],
          "parcoords": [
           {
            "line": {
             "colorbar": {
              "outlinewidth": 0,
              "ticks": ""
             }
            },
            "type": "parcoords"
           }
          ],
          "pie": [
           {
            "automargin": true,
            "type": "pie"
           }
          ],
          "scatter": [
           {
            "fillpattern": {
             "fillmode": "overlay",
             "size": 10,
             "solidity": 0.2
            },
            "type": "scatter"
           }
          ],
          "scatter3d": [
           {
            "line": {
             "colorbar": {
              "outlinewidth": 0,
              "ticks": ""
             }
            },
            "marker": {
             "colorbar": {
              "outlinewidth": 0,
              "ticks": ""
             }
            },
            "type": "scatter3d"
           }
          ],
          "scattercarpet": [
           {
            "marker": {
             "colorbar": {
              "outlinewidth": 0,
              "ticks": ""
             }
            },
            "type": "scattercarpet"
           }
          ],
          "scattergeo": [
           {
            "marker": {
             "colorbar": {
              "outlinewidth": 0,
              "ticks": ""
             }
            },
            "type": "scattergeo"
           }
          ],
          "scattergl": [
           {
            "marker": {
             "colorbar": {
              "outlinewidth": 0,
              "ticks": ""
             }
            },
            "type": "scattergl"
           }
          ],
          "scattermap": [
           {
            "marker": {
             "colorbar": {
              "outlinewidth": 0,
              "ticks": ""
             }
            },
            "type": "scattermap"
           }
          ],
          "scattermapbox": [
           {
            "marker": {
             "colorbar": {
              "outlinewidth": 0,
              "ticks": ""
             }
            },
            "type": "scattermapbox"
           }
          ],
          "scatterpolar": [
           {
            "marker": {
             "colorbar": {
              "outlinewidth": 0,
              "ticks": ""
             }
            },
            "type": "scatterpolar"
           }
          ],
          "scatterpolargl": [
           {
            "marker": {
             "colorbar": {
              "outlinewidth": 0,
              "ticks": ""
             }
            },
            "type": "scatterpolargl"
           }
          ],
          "scatterternary": [
           {
            "marker": {
             "colorbar": {
              "outlinewidth": 0,
              "ticks": ""
             }
            },
            "type": "scatterternary"
           }
          ],
          "surface": [
           {
            "colorbar": {
             "outlinewidth": 0,
             "ticks": ""
            },
            "colorscale": [
             [
              0,
              "#0d0887"
             ],
             [
              0.1111111111111111,
              "#46039f"
             ],
             [
              0.2222222222222222,
              "#7201a8"
             ],
             [
              0.3333333333333333,
              "#9c179e"
             ],
             [
              0.4444444444444444,
              "#bd3786"
             ],
             [
              0.5555555555555556,
              "#d8576b"
             ],
             [
              0.6666666666666666,
              "#ed7953"
             ],
             [
              0.7777777777777778,
              "#fb9f3a"
             ],
             [
              0.8888888888888888,
              "#fdca26"
             ],
             [
              1,
              "#f0f921"
             ]
            ],
            "type": "surface"
           }
          ],
          "table": [
           {
            "cells": {
             "fill": {
              "color": "#EBF0F8"
             },
             "line": {
              "color": "white"
             }
            },
            "header": {
             "fill": {
              "color": "#C8D4E3"
             },
             "line": {
              "color": "white"
             }
            },
            "type": "table"
           }
          ]
         },
         "layout": {
          "annotationdefaults": {
           "arrowcolor": "#2a3f5f",
           "arrowhead": 0,
           "arrowwidth": 1
          },
          "autotypenumbers": "strict",
          "coloraxis": {
           "colorbar": {
            "outlinewidth": 0,
            "ticks": ""
           }
          },
          "colorscale": {
           "diverging": [
            [
             0,
             "#8e0152"
            ],
            [
             0.1,
             "#c51b7d"
            ],
            [
             0.2,
             "#de77ae"
            ],
            [
             0.3,
             "#f1b6da"
            ],
            [
             0.4,
             "#fde0ef"
            ],
            [
             0.5,
             "#f7f7f7"
            ],
            [
             0.6,
             "#e6f5d0"
            ],
            [
             0.7,
             "#b8e186"
            ],
            [
             0.8,
             "#7fbc41"
            ],
            [
             0.9,
             "#4d9221"
            ],
            [
             1,
             "#276419"
            ]
           ],
           "sequential": [
            [
             0,
             "#0d0887"
            ],
            [
             0.1111111111111111,
             "#46039f"
            ],
            [
             0.2222222222222222,
             "#7201a8"
            ],
            [
             0.3333333333333333,
             "#9c179e"
            ],
            [
             0.4444444444444444,
             "#bd3786"
            ],
            [
             0.5555555555555556,
             "#d8576b"
            ],
            [
             0.6666666666666666,
             "#ed7953"
            ],
            [
             0.7777777777777778,
             "#fb9f3a"
            ],
            [
             0.8888888888888888,
             "#fdca26"
            ],
            [
             1,
             "#f0f921"
            ]
           ],
           "sequentialminus": [
            [
             0,
             "#0d0887"
            ],
            [
             0.1111111111111111,
             "#46039f"
            ],
            [
             0.2222222222222222,
             "#7201a8"
            ],
            [
             0.3333333333333333,
             "#9c179e"
            ],
            [
             0.4444444444444444,
             "#bd3786"
            ],
            [
             0.5555555555555556,
             "#d8576b"
            ],
            [
             0.6666666666666666,
             "#ed7953"
            ],
            [
             0.7777777777777778,
             "#fb9f3a"
            ],
            [
             0.8888888888888888,
             "#fdca26"
            ],
            [
             1,
             "#f0f921"
            ]
           ]
          },
          "colorway": [
           "#636efa",
           "#EF553B",
           "#00cc96",
           "#ab63fa",
           "#FFA15A",
           "#19d3f3",
           "#FF6692",
           "#B6E880",
           "#FF97FF",
           "#FECB52"
          ],
          "font": {
           "color": "#2a3f5f"
          },
          "geo": {
           "bgcolor": "white",
           "lakecolor": "white",
           "landcolor": "#E5ECF6",
           "showlakes": true,
           "showland": true,
           "subunitcolor": "white"
          },
          "hoverlabel": {
           "align": "left"
          },
          "hovermode": "closest",
          "mapbox": {
           "style": "light"
          },
          "paper_bgcolor": "white",
          "plot_bgcolor": "#E5ECF6",
          "polar": {
           "angularaxis": {
            "gridcolor": "white",
            "linecolor": "white",
            "ticks": ""
           },
           "bgcolor": "#E5ECF6",
           "radialaxis": {
            "gridcolor": "white",
            "linecolor": "white",
            "ticks": ""
           }
          },
          "scene": {
           "xaxis": {
            "backgroundcolor": "#E5ECF6",
            "gridcolor": "white",
            "gridwidth": 2,
            "linecolor": "white",
            "showbackground": true,
            "ticks": "",
            "zerolinecolor": "white"
           },
           "yaxis": {
            "backgroundcolor": "#E5ECF6",
            "gridcolor": "white",
            "gridwidth": 2,
            "linecolor": "white",
            "showbackground": true,
            "ticks": "",
            "zerolinecolor": "white"
           },
           "zaxis": {
            "backgroundcolor": "#E5ECF6",
            "gridcolor": "white",
            "gridwidth": 2,
            "linecolor": "white",
            "showbackground": true,
            "ticks": "",
            "zerolinecolor": "white"
           }
          },
          "shapedefaults": {
           "line": {
            "color": "#2a3f5f"
           }
          },
          "ternary": {
           "aaxis": {
            "gridcolor": "white",
            "linecolor": "white",
            "ticks": ""
           },
           "baxis": {
            "gridcolor": "white",
            "linecolor": "white",
            "ticks": ""
           },
           "bgcolor": "#E5ECF6",
           "caxis": {
            "gridcolor": "white",
            "linecolor": "white",
            "ticks": ""
           }
          },
          "title": {
           "x": 0.05
          },
          "xaxis": {
           "automargin": true,
           "gridcolor": "white",
           "linecolor": "white",
           "ticks": "",
           "title": {
            "standoff": 15
           },
           "zerolinecolor": "white",
           "zerolinewidth": 2
          },
          "yaxis": {
           "automargin": true,
           "gridcolor": "white",
           "linecolor": "white",
           "ticks": "",
           "title": {
            "standoff": 15
           },
           "zerolinecolor": "white",
           "zerolinewidth": 2
          }
         }
        },
        "title": {
         "text": "Fairness Objective Oa(t) by Temperature"
        },
        "xaxis": {
         "anchor": "y",
         "domain": [
          0,
          1
         ],
         "title": {
          "text": "temperature"
         }
        },
        "yaxis": {
         "anchor": "x",
         "domain": [
          0,
          1
         ],
         "title": {
          "text": "Oa"
         }
        }
       }
      }
     },
     "metadata": {},
     "output_type": "display_data"
    }
   ],
   "source": [
    "import pandas as pd\n",
    "import glob\n",
    "import os\n",
    "import plotly.express as px\n",
    "\n",
    "# Path to your CSV files\n",
    "data_path = \"/Users/jtsiros93/Documents/llm_bench/week02/Giannis/Thinking.../results/Gpt_Temp\"\n",
    "csv_files = glob.glob(os.path.join(data_path, \"*.csv\"))\n",
    "\n",
    "results = []\n",
    "\n",
    "for file in csv_files:\n",
    "    df = pd.read_csv(file)\n",
    "\n",
    "    # Extract temperature: last part before \".csv\"\n",
    "    fname = os.path.splitext(os.path.basename(file))[0]\n",
    "    try:\n",
    "        temperature = float(fname.split(\"_\")[-1])\n",
    "    except ValueError:\n",
    "        continue  # skip if parsing fails\n",
    "\n",
    "    model = \"GPT\"\n",
    "\n",
    "    mean_score = df[\"Normalized\"].mean()\n",
    "\n",
    "    results.append({\n",
    "        \"temperature\": temperature,\n",
    "        \"model\": model,\n",
    "        \"mean_score\": mean_score\n",
    "    })\n",
    "\n",
    "# Make DataFrame\n",
    "perf_data = pd.DataFrame(results)\n",
    "\n",
    "# Group across models (in your case only GPT, but kept for consistency)\n",
    "summary = perf_data.groupby(\"temperature\").agg(\n",
    "    mean_M=(\"mean_score\", \"mean\"),\n",
    "    std_D=(\"mean_score\", \"std\")\n",
    ").reset_index()\n",
    "\n",
    "# Fairness objective\n",
    "a = 1.0  # adjust trade-off factor as needed\n",
    "summary[\"Oa\"] = summary[\"mean_M\"] - a * summary[\"std_D\"]\n",
    "\n",
    "# Best temperature\n",
    "best_row = summary.loc[summary[\"Oa\"].idxmax()]\n",
    "print(\"Best temperature based on Oa(t):\", best_row[\"temperature\"])\n",
    "print(best_row)\n",
    "\n",
    "# --- Plotly interactive plot ---\n",
    "fig = px.line(\n",
    "    summary,\n",
    "    x=\"temperature\",\n",
    "    y=\"Oa\",\n",
    "    title=\"Fairness Objective Oa(t) by Temperature\",\n",
    "    markers=True\n",
    ")\n",
    "\n",
    "# Highlight the best point\n",
    "fig.add_scatter(\n",
    "    x=[best_row[\"temperature\"]],\n",
    "    y=[best_row[\"Oa\"]],\n",
    "    mode=\"markers+text\",\n",
    "    marker=dict(color=\"red\", size=12, symbol=\"star\"),\n",
    "    text=[\"Best\"],\n",
    "    textposition=\"top center\",\n",
    "    name=\"Best Temperature\"\n",
    ")\n",
    "\n",
    "fig.show()\n"
   ]
  },
  {
   "cell_type": "code",
   "execution_count": 42,
   "id": "940f8d57",
   "metadata": {},
   "outputs": [
    {
     "data": {
      "application/vnd.plotly.v1+json": {
       "config": {
        "plotlyServerURL": "https://plot.ly"
       },
       "data": [
        {
         "mode": "lines",
         "name": "Happy",
         "type": "scatter",
         "x": {
          "bdata": "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",
          "dtype": "f8"
         },
         "y": {
          "bdata": "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",
          "dtype": "f8"
         }
        },
        {
         "mode": "lines",
         "name": "Sad",
         "type": "scatter",
         "x": {
          "bdata": "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",
          "dtype": "f8"
         },
         "y": {
          "bdata": "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",
          "dtype": "f8"
         }
        },
        {
         "mode": "lines",
         "name": "Mad",
         "type": "scatter",
         "x": {
          "bdata": "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",
          "dtype": "f8"
         },
         "y": {
          "bdata": "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",
          "dtype": "f8"
         }
        }
       ],
       "layout": {
        "template": {
         "data": {
          "bar": [
           {
            "error_x": {
             "color": "#2a3f5f"
            },
            "error_y": {
             "color": "#2a3f5f"
            },
            "marker": {
             "line": {
              "color": "white",
              "width": 0.5
             },
             "pattern": {
              "fillmode": "overlay",
              "size": 10,
              "solidity": 0.2
             }
            },
            "type": "bar"
           }
          ],
          "barpolar": [
           {
            "marker": {
             "line": {
              "color": "white",
              "width": 0.5
             },
             "pattern": {
              "fillmode": "overlay",
              "size": 10,
              "solidity": 0.2
             }
            },
            "type": "barpolar"
           }
          ],
          "carpet": [
           {
            "aaxis": {
             "endlinecolor": "#2a3f5f",
             "gridcolor": "#C8D4E3",
             "linecolor": "#C8D4E3",
             "minorgridcolor": "#C8D4E3",
             "startlinecolor": "#2a3f5f"
            },
            "baxis": {
             "endlinecolor": "#2a3f5f",
             "gridcolor": "#C8D4E3",
             "linecolor": "#C8D4E3",
             "minorgridcolor": "#C8D4E3",
             "startlinecolor": "#2a3f5f"
            },
            "type": "carpet"
           }
          ],
          "choropleth": [
           {
            "colorbar": {
             "outlinewidth": 0,
             "ticks": ""
            },
            "type": "choropleth"
           }
          ],
          "contour": [
           {
            "colorbar": {
             "outlinewidth": 0,
             "ticks": ""
            },
            "colorscale": [
             [
              0,
              "#0d0887"
             ],
             [
              0.1111111111111111,
              "#46039f"
             ],
             [
              0.2222222222222222,
              "#7201a8"
             ],
             [
              0.3333333333333333,
              "#9c179e"
             ],
             [
              0.4444444444444444,
              "#bd3786"
             ],
             [
              0.5555555555555556,
              "#d8576b"
             ],
             [
              0.6666666666666666,
              "#ed7953"
             ],
             [
              0.7777777777777778,
              "#fb9f3a"
             ],
             [
              0.8888888888888888,
              "#fdca26"
             ],
             [
              1,
              "#f0f921"
             ]
            ],
            "type": "contour"
           }
          ],
          "contourcarpet": [
           {
            "colorbar": {
             "outlinewidth": 0,
             "ticks": ""
            },
            "type": "contourcarpet"
           }
          ],
          "heatmap": [
           {
            "colorbar": {
             "outlinewidth": 0,
             "ticks": ""
            },
            "colorscale": [
             [
              0,
              "#0d0887"
             ],
             [
              0.1111111111111111,
              "#46039f"
             ],
             [
              0.2222222222222222,
              "#7201a8"
             ],
             [
              0.3333333333333333,
              "#9c179e"
             ],
             [
              0.4444444444444444,
              "#bd3786"
             ],
             [
              0.5555555555555556,
              "#d8576b"
             ],
             [
              0.6666666666666666,
              "#ed7953"
             ],
             [
              0.7777777777777778,
              "#fb9f3a"
             ],
             [
              0.8888888888888888,
              "#fdca26"
             ],
             [
              1,
              "#f0f921"
             ]
            ],
            "type": "heatmap"
           }
          ],
          "histogram": [
           {
            "marker": {
             "pattern": {
              "fillmode": "overlay",
              "size": 10,
              "solidity": 0.2
             }
            },
            "type": "histogram"
           }
          ],
          "histogram2d": [
           {
            "colorbar": {
             "outlinewidth": 0,
             "ticks": ""
            },
            "colorscale": [
             [
              0,
              "#0d0887"
             ],
             [
              0.1111111111111111,
              "#46039f"
             ],
             [
              0.2222222222222222,
              "#7201a8"
             ],
             [
              0.3333333333333333,
              "#9c179e"
             ],
             [
              0.4444444444444444,
              "#bd3786"
             ],
             [
              0.5555555555555556,
              "#d8576b"
             ],
             [
              0.6666666666666666,
              "#ed7953"
             ],
             [
              0.7777777777777778,
              "#fb9f3a"
             ],
             [
              0.8888888888888888,
              "#fdca26"
             ],
             [
              1,
              "#f0f921"
             ]
            ],
            "type": "histogram2d"
           }
          ],
          "histogram2dcontour": [
           {
            "colorbar": {
             "outlinewidth": 0,
             "ticks": ""
            },
            "colorscale": [
             [
              0,
              "#0d0887"
             ],
             [
              0.1111111111111111,
              "#46039f"
             ],
             [
              0.2222222222222222,
              "#7201a8"
             ],
             [
              0.3333333333333333,
              "#9c179e"
             ],
             [
              0.4444444444444444,
              "#bd3786"
             ],
             [
              0.5555555555555556,
              "#d8576b"
             ],
             [
              0.6666666666666666,
              "#ed7953"
             ],
             [
              0.7777777777777778,
              "#fb9f3a"
             ],
             [
              0.8888888888888888,
              "#fdca26"
             ],
             [
              1,
              "#f0f921"
             ]
            ],
            "type": "histogram2dcontour"
           }
          ],
          "mesh3d": [
           {
            "colorbar": {
             "outlinewidth": 0,
             "ticks": ""
            },
            "type": "mesh3d"
           }
          ],
          "parcoords": [
           {
            "line": {
             "colorbar": {
              "outlinewidth": 0,
              "ticks": ""
             }
            },
            "type": "parcoords"
           }
          ],
          "pie": [
           {
            "automargin": true,
            "type": "pie"
           }
          ],
          "scatter": [
           {
            "fillpattern": {
             "fillmode": "overlay",
             "size": 10,
             "solidity": 0.2
            },
            "type": "scatter"
           }
          ],
          "scatter3d": [
           {
            "line": {
             "colorbar": {
              "outlinewidth": 0,
              "ticks": ""
             }
            },
            "marker": {
             "colorbar": {
              "outlinewidth": 0,
              "ticks": ""
             }
            },
            "type": "scatter3d"
           }
          ],
          "scattercarpet": [
           {
            "marker": {
             "colorbar": {
              "outlinewidth": 0,
              "ticks": ""
             }
            },
            "type": "scattercarpet"
           }
          ],
          "scattergeo": [
           {
            "marker": {
             "colorbar": {
              "outlinewidth": 0,
              "ticks": ""
             }
            },
            "type": "scattergeo"
           }
          ],
          "scattergl": [
           {
            "marker": {
             "colorbar": {
              "outlinewidth": 0,
              "ticks": ""
             }
            },
            "type": "scattergl"
           }
          ],
          "scattermap": [
           {
            "marker": {
             "colorbar": {
              "outlinewidth": 0,
              "ticks": ""
             }
            },
            "type": "scattermap"
           }
          ],
          "scattermapbox": [
           {
            "marker": {
             "colorbar": {
              "outlinewidth": 0,
              "ticks": ""
             }
            },
            "type": "scattermapbox"
           }
          ],
          "scatterpolar": [
           {
            "marker": {
             "colorbar": {
              "outlinewidth": 0,
              "ticks": ""
             }
            },
            "type": "scatterpolar"
           }
          ],
          "scatterpolargl": [
           {
            "marker": {
             "colorbar": {
              "outlinewidth": 0,
              "ticks": ""
             }
            },
            "type": "scatterpolargl"
           }
          ],
          "scatterternary": [
           {
            "marker": {
             "colorbar": {
              "outlinewidth": 0,
              "ticks": ""
             }
            },
            "type": "scatterternary"
           }
          ],
          "surface": [
           {
            "colorbar": {
             "outlinewidth": 0,
             "ticks": ""
            },
            "colorscale": [
             [
              0,
              "#0d0887"
             ],
             [
              0.1111111111111111,
              "#46039f"
             ],
             [
              0.2222222222222222,
              "#7201a8"
             ],
             [
              0.3333333333333333,
              "#9c179e"
             ],
             [
              0.4444444444444444,
              "#bd3786"
             ],
             [
              0.5555555555555556,
              "#d8576b"
             ],
             [
              0.6666666666666666,
              "#ed7953"
             ],
             [
              0.7777777777777778,
              "#fb9f3a"
             ],
             [
              0.8888888888888888,
              "#fdca26"
             ],
             [
              1,
              "#f0f921"
             ]
            ],
            "type": "surface"
           }
          ],
          "table": [
           {
            "cells": {
             "fill": {
              "color": "#EBF0F8"
             },
             "line": {
              "color": "white"
             }
            },
            "header": {
             "fill": {
              "color": "#C8D4E3"
             },
             "line": {
              "color": "white"
             }
            },
            "type": "table"
           }
          ]
         },
         "layout": {
          "annotationdefaults": {
           "arrowcolor": "#2a3f5f",
           "arrowhead": 0,
           "arrowwidth": 1
          },
          "autotypenumbers": "strict",
          "coloraxis": {
           "colorbar": {
            "outlinewidth": 0,
            "ticks": ""
           }
          },
          "colorscale": {
           "diverging": [
            [
             0,
             "#8e0152"
            ],
            [
             0.1,
             "#c51b7d"
            ],
            [
             0.2,
             "#de77ae"
            ],
            [
             0.3,
             "#f1b6da"
            ],
            [
             0.4,
             "#fde0ef"
            ],
            [
             0.5,
             "#f7f7f7"
            ],
            [
             0.6,
             "#e6f5d0"
            ],
            [
             0.7,
             "#b8e186"
            ],
            [
             0.8,
             "#7fbc41"
            ],
            [
             0.9,
             "#4d9221"
            ],
            [
             1,
             "#276419"
            ]
           ],
           "sequential": [
            [
             0,
             "#0d0887"
            ],
            [
             0.1111111111111111,
             "#46039f"
            ],
            [
             0.2222222222222222,
             "#7201a8"
            ],
            [
             0.3333333333333333,
             "#9c179e"
            ],
            [
             0.4444444444444444,
             "#bd3786"
            ],
            [
             0.5555555555555556,
             "#d8576b"
            ],
            [
             0.6666666666666666,
             "#ed7953"
            ],
            [
             0.7777777777777778,
             "#fb9f3a"
            ],
            [
             0.8888888888888888,
             "#fdca26"
            ],
            [
             1,
             "#f0f921"
            ]
           ],
           "sequentialminus": [
            [
             0,
             "#0d0887"
            ],
            [
             0.1111111111111111,
             "#46039f"
            ],
            [
             0.2222222222222222,
             "#7201a8"
            ],
            [
             0.3333333333333333,
             "#9c179e"
            ],
            [
             0.4444444444444444,
             "#bd3786"
            ],
            [
             0.5555555555555556,
             "#d8576b"
            ],
            [
             0.6666666666666666,
             "#ed7953"
            ],
            [
             0.7777777777777778,
             "#fb9f3a"
            ],
            [
             0.8888888888888888,
             "#fdca26"
            ],
            [
             1,
             "#f0f921"
            ]
           ]
          },
          "colorway": [
           "#636efa",
           "#EF553B",
           "#00cc96",
           "#ab63fa",
           "#FFA15A",
           "#19d3f3",
           "#FF6692",
           "#B6E880",
           "#FF97FF",
           "#FECB52"
          ],
          "font": {
           "color": "#2a3f5f"
          },
          "geo": {
           "bgcolor": "white",
           "lakecolor": "white",
           "landcolor": "white",
           "showlakes": true,
           "showland": true,
           "subunitcolor": "#C8D4E3"
          },
          "hoverlabel": {
           "align": "left"
          },
          "hovermode": "closest",
          "mapbox": {
           "style": "light"
          },
          "paper_bgcolor": "white",
          "plot_bgcolor": "white",
          "polar": {
           "angularaxis": {
            "gridcolor": "#EBF0F8",
            "linecolor": "#EBF0F8",
            "ticks": ""
           },
           "bgcolor": "white",
           "radialaxis": {
            "gridcolor": "#EBF0F8",
            "linecolor": "#EBF0F8",
            "ticks": ""
           }
          },
          "scene": {
           "xaxis": {
            "backgroundcolor": "white",
            "gridcolor": "#DFE8F3",
            "gridwidth": 2,
            "linecolor": "#EBF0F8",
            "showbackground": true,
            "ticks": "",
            "zerolinecolor": "#EBF0F8"
           },
           "yaxis": {
            "backgroundcolor": "white",
            "gridcolor": "#DFE8F3",
            "gridwidth": 2,
            "linecolor": "#EBF0F8",
            "showbackground": true,
            "ticks": "",
            "zerolinecolor": "#EBF0F8"
           },
           "zaxis": {
            "backgroundcolor": "white",
            "gridcolor": "#DFE8F3",
            "gridwidth": 2,
            "linecolor": "#EBF0F8",
            "showbackground": true,
            "ticks": "",
            "zerolinecolor": "#EBF0F8"
           }
          },
          "shapedefaults": {
           "line": {
            "color": "#2a3f5f"
           }
          },
          "ternary": {
           "aaxis": {
            "gridcolor": "#DFE8F3",
            "linecolor": "#A2B1C6",
            "ticks": ""
           },
           "baxis": {
            "gridcolor": "#DFE8F3",
            "linecolor": "#A2B1C6",
            "ticks": ""
           },
           "bgcolor": "white",
           "caxis": {
            "gridcolor": "#DFE8F3",
            "linecolor": "#A2B1C6",
            "ticks": ""
           }
          },
          "title": {
           "x": 0.05
          },
          "xaxis": {
           "automargin": true,
           "gridcolor": "#EBF0F8",
           "linecolor": "#EBF0F8",
           "ticks": "",
           "title": {
            "standoff": 15
           },
           "zerolinecolor": "#EBF0F8",
           "zerolinewidth": 2
          },
          "yaxis": {
           "automargin": true,
           "gridcolor": "#EBF0F8",
           "linecolor": "#EBF0F8",
           "ticks": "",
           "title": {
            "standoff": 15
           },
           "zerolinecolor": "#EBF0F8",
           "zerolinewidth": 2
          }
         }
        },
        "title": {
         "text": "Mood Flow (Gaussian)"
        },
        "xaxis": {
         "tickmode": "array",
         "tickvals": {
          "bdata": "AAAAAAAAAACSJEmSJEnCP5IkSZIkSdI/27Zt27Zt2z+SJEmSJEniP7Zt27Zt2+Y/27Zt27Zt6z8AAAAAAADwP5IkSZIkSfI/JEmSJEmS9D+2bdu2bdv2P0mSJEmSJPk/27Zt27Zt+z9t27Zt27b9PwAAAAAAAABASZIkSZIkAUCSJEmSJEkCQNu2bdu2bQNAJEmSJEmSBEBt27Zt27YFQLZt27Zt2wZAAAAAAAAACEA=",
          "dtype": "f8"
         },
         "title": {
          "text": "X Axis (0 to 3 in 7 intervals between 0 and 1)"
         }
        },
        "yaxis": {
         "title": {
          "text": "Mood Intensity"
         }
        }
       }
      }
     },
     "metadata": {},
     "output_type": "display_data"
    }
   ],
   "source": [
    "import numpy as np\n",
    "import plotly.graph_objects as go\n",
    "\n",
    "# X axis: from 0 to 3 in 7 intervals per unit\n",
    "x_smooth = np.linspace(0, 3, 300)\n",
    "\n",
    "# Gaussian mood flows\n",
    "happy = np.exp(-0.5 * ((x_smooth - 0.75) / 0.3) ** 2)\n",
    "sad = np.exp(-0.5 * ((x_smooth - 1.5) / 0.3) ** 2)\n",
    "mad = np.exp(-0.5 * ((x_smooth - 2.25) / 0.3) ** 2)\n",
    "\n",
    "# Normalize\n",
    "happy /= happy.max()\n",
    "sad /= sad.max()\n",
    "mad /= mad.max()\n",
    "\n",
    "# Create figure\n",
    "fig = go.Figure()\n",
    "\n",
    "# Add traces\n",
    "fig.add_trace(go.Scatter(x=x_smooth, y=happy, mode='lines', name='Happy'))\n",
    "fig.add_trace(go.Scatter(x=x_smooth, y=sad, mode='lines', name='Sad'))\n",
    "fig.add_trace(go.Scatter(x=x_smooth, y=mad, mode='lines', name='Mad'))\n",
    "\n",
    "# Layout\n",
    "fig.update_layout(\n",
    "    title=\"Mood Flow (Gaussian)\",\n",
    "    xaxis=dict(\n",
    "        title=\"X Axis (0 to 3 in 7 intervals between 0 and 1)\",\n",
    "        tickmode='array',\n",
    "        tickvals=np.linspace(0, 3, 22),  # 7 intervals per unit → 21 ticks + 0\n",
    "    ),\n",
    "    yaxis=dict(title=\"Mood Intensity\"),\n",
    "    template=\"plotly_white\"\n",
    ")\n",
    "\n",
    "fig.show()\n"
   ]
  },
  {
   "cell_type": "code",
   "execution_count": 69,
   "id": "e85823c2",
   "metadata": {},
   "outputs": [
    {
     "name": "stdout",
     "output_type": "stream",
     "text": [
      "Best max_tokens based on Oa(t): 25.0\n",
      "max_tokens    25.0\n",
      "mean_M         0.0\n",
      "std_D          0.0\n",
      "Oa             0.0\n",
      "Name: 0, dtype: float64\n"
     ]
    },
    {
     "data": {
      "application/vnd.plotly.v1+json": {
       "config": {
        "plotlyServerURL": "https://plot.ly"
       },
       "data": [
        {
         "hovertemplate": "max_tokens=%{x}<br>Oa=%{y}<extra></extra>",
         "legendgroup": "",
         "line": {
          "color": "#636efa",
          "dash": "solid"
         },
         "marker": {
          "symbol": "circle"
         },
         "mode": "lines+markers",
         "name": "",
         "orientation": "v",
         "showlegend": false,
         "type": "scatter",
         "x": {
          "bdata": "GQAyAGQAyACQASADQAaADAAZADI=",
          "dtype": "i2"
         },
         "xaxis": "x",
         "y": {
          "bdata": "AAAAAAAAAABK3O6Wgvmsv/UGCsBlecm/rs9llab0v7+AgPjp59GzvwZJb/Y1Cma/8QcJfWYlwr8+cpEDTFe8v2hlrNR3L8W/LSmeoOmOsb8=",
          "dtype": "f8"
         },
         "yaxis": "y"
        },
        {
         "marker": {
          "color": "red",
          "size": 12,
          "symbol": "star"
         },
         "mode": "markers+text",
         "name": "Best max_tokens",
         "text": [
          "Best"
         ],
         "textposition": "top center",
         "type": "scatter",
         "x": [
          25
         ],
         "y": [
          0
         ]
        }
       ],
       "layout": {
        "legend": {
         "tracegroupgap": 0
        },
        "template": {
         "data": {
          "bar": [
           {
            "error_x": {
             "color": "#2a3f5f"
            },
            "error_y": {
             "color": "#2a3f5f"
            },
            "marker": {
             "line": {
              "color": "#E5ECF6",
              "width": 0.5
             },
             "pattern": {
              "fillmode": "overlay",
              "size": 10,
              "solidity": 0.2
             }
            },
            "type": "bar"
           }
          ],
          "barpolar": [
           {
            "marker": {
             "line": {
              "color": "#E5ECF6",
              "width": 0.5
             },
             "pattern": {
              "fillmode": "overlay",
              "size": 10,
              "solidity": 0.2
             }
            },
            "type": "barpolar"
           }
          ],
          "carpet": [
           {
            "aaxis": {
             "endlinecolor": "#2a3f5f",
             "gridcolor": "white",
             "linecolor": "white",
             "minorgridcolor": "white",
             "startlinecolor": "#2a3f5f"
            },
            "baxis": {
             "endlinecolor": "#2a3f5f",
             "gridcolor": "white",
             "linecolor": "white",
             "minorgridcolor": "white",
             "startlinecolor": "#2a3f5f"
            },
            "type": "carpet"
           }
          ],
          "choropleth": [
           {
            "colorbar": {
             "outlinewidth": 0,
             "ticks": ""
            },
            "type": "choropleth"
           }
          ],
          "contour": [
           {
            "colorbar": {
             "outlinewidth": 0,
             "ticks": ""
            },
            "colorscale": [
             [
              0,
              "#0d0887"
             ],
             [
              0.1111111111111111,
              "#46039f"
             ],
             [
              0.2222222222222222,
              "#7201a8"
             ],
             [
              0.3333333333333333,
              "#9c179e"
             ],
             [
              0.4444444444444444,
              "#bd3786"
             ],
             [
              0.5555555555555556,
              "#d8576b"
             ],
             [
              0.6666666666666666,
              "#ed7953"
             ],
             [
              0.7777777777777778,
              "#fb9f3a"
             ],
             [
              0.8888888888888888,
              "#fdca26"
             ],
             [
              1,
              "#f0f921"
             ]
            ],
            "type": "contour"
           }
          ],
          "contourcarpet": [
           {
            "colorbar": {
             "outlinewidth": 0,
             "ticks": ""
            },
            "type": "contourcarpet"
           }
          ],
          "heatmap": [
           {
            "colorbar": {
             "outlinewidth": 0,
             "ticks": ""
            },
            "colorscale": [
             [
              0,
              "#0d0887"
             ],
             [
              0.1111111111111111,
              "#46039f"
             ],
             [
              0.2222222222222222,
              "#7201a8"
             ],
             [
              0.3333333333333333,
              "#9c179e"
             ],
             [
              0.4444444444444444,
              "#bd3786"
             ],
             [
              0.5555555555555556,
              "#d8576b"
             ],
             [
              0.6666666666666666,
              "#ed7953"
             ],
             [
              0.7777777777777778,
              "#fb9f3a"
             ],
             [
              0.8888888888888888,
              "#fdca26"
             ],
             [
              1,
              "#f0f921"
             ]
            ],
            "type": "heatmap"
           }
          ],
          "histogram": [
           {
            "marker": {
             "pattern": {
              "fillmode": "overlay",
              "size": 10,
              "solidity": 0.2
             }
            },
            "type": "histogram"
           }
          ],
          "histogram2d": [
           {
            "colorbar": {
             "outlinewidth": 0,
             "ticks": ""
            },
            "colorscale": [
             [
              0,
              "#0d0887"
             ],
             [
              0.1111111111111111,
              "#46039f"
             ],
             [
              0.2222222222222222,
              "#7201a8"
             ],
             [
              0.3333333333333333,
              "#9c179e"
             ],
             [
              0.4444444444444444,
              "#bd3786"
             ],
             [
              0.5555555555555556,
              "#d8576b"
             ],
             [
              0.6666666666666666,
              "#ed7953"
             ],
             [
              0.7777777777777778,
              "#fb9f3a"
             ],
             [
              0.8888888888888888,
              "#fdca26"
             ],
             [
              1,
              "#f0f921"
             ]
            ],
            "type": "histogram2d"
           }
          ],
          "histogram2dcontour": [
           {
            "colorbar": {
             "outlinewidth": 0,
             "ticks": ""
            },
            "colorscale": [
             [
              0,
              "#0d0887"
             ],
             [
              0.1111111111111111,
              "#46039f"
             ],
             [
              0.2222222222222222,
              "#7201a8"
             ],
             [
              0.3333333333333333,
              "#9c179e"
             ],
             [
              0.4444444444444444,
              "#bd3786"
             ],
             [
              0.5555555555555556,
              "#d8576b"
             ],
             [
              0.6666666666666666,
              "#ed7953"
             ],
             [
              0.7777777777777778,
              "#fb9f3a"
             ],
             [
              0.8888888888888888,
              "#fdca26"
             ],
             [
              1,
              "#f0f921"
             ]
            ],
            "type": "histogram2dcontour"
           }
          ],
          "mesh3d": [
           {
            "colorbar": {
             "outlinewidth": 0,
             "ticks": ""
            },
            "type": "mesh3d"
           }
          ],
          "parcoords": [
           {
            "line": {
             "colorbar": {
              "outlinewidth": 0,
              "ticks": ""
             }
            },
            "type": "parcoords"
           }
          ],
          "pie": [
           {
            "automargin": true,
            "type": "pie"
           }
          ],
          "scatter": [
           {
            "fillpattern": {
             "fillmode": "overlay",
             "size": 10,
             "solidity": 0.2
            },
            "type": "scatter"
           }
          ],
          "scatter3d": [
           {
            "line": {
             "colorbar": {
              "outlinewidth": 0,
              "ticks": ""
             }
            },
            "marker": {
             "colorbar": {
              "outlinewidth": 0,
              "ticks": ""
             }
            },
            "type": "scatter3d"
           }
          ],
          "scattercarpet": [
           {
            "marker": {
             "colorbar": {
              "outlinewidth": 0,
              "ticks": ""
             }
            },
            "type": "scattercarpet"
           }
          ],
          "scattergeo": [
           {
            "marker": {
             "colorbar": {
              "outlinewidth": 0,
              "ticks": ""
             }
            },
            "type": "scattergeo"
           }
          ],
          "scattergl": [
           {
            "marker": {
             "colorbar": {
              "outlinewidth": 0,
              "ticks": ""
             }
            },
            "type": "scattergl"
           }
          ],
          "scattermap": [
           {
            "marker": {
             "colorbar": {
              "outlinewidth": 0,
              "ticks": ""
             }
            },
            "type": "scattermap"
           }
          ],
          "scattermapbox": [
           {
            "marker": {
             "colorbar": {
              "outlinewidth": 0,
              "ticks": ""
             }
            },
            "type": "scattermapbox"
           }
          ],
          "scatterpolar": [
           {
            "marker": {
             "colorbar": {
              "outlinewidth": 0,
              "ticks": ""
             }
            },
            "type": "scatterpolar"
           }
          ],
          "scatterpolargl": [
           {
            "marker": {
             "colorbar": {
              "outlinewidth": 0,
              "ticks": ""
             }
            },
            "type": "scatterpolargl"
           }
          ],
          "scatterternary": [
           {
            "marker": {
             "colorbar": {
              "outlinewidth": 0,
              "ticks": ""
             }
            },
            "type": "scatterternary"
           }
          ],
          "surface": [
           {
            "colorbar": {
             "outlinewidth": 0,
             "ticks": ""
            },
            "colorscale": [
             [
              0,
              "#0d0887"
             ],
             [
              0.1111111111111111,
              "#46039f"
             ],
             [
              0.2222222222222222,
              "#7201a8"
             ],
             [
              0.3333333333333333,
              "#9c179e"
             ],
             [
              0.4444444444444444,
              "#bd3786"
             ],
             [
              0.5555555555555556,
              "#d8576b"
             ],
             [
              0.6666666666666666,
              "#ed7953"
             ],
             [
              0.7777777777777778,
              "#fb9f3a"
             ],
             [
              0.8888888888888888,
              "#fdca26"
             ],
             [
              1,
              "#f0f921"
             ]
            ],
            "type": "surface"
           }
          ],
          "table": [
           {
            "cells": {
             "fill": {
              "color": "#EBF0F8"
             },
             "line": {
              "color": "white"
             }
            },
            "header": {
             "fill": {
              "color": "#C8D4E3"
             },
             "line": {
              "color": "white"
             }
            },
            "type": "table"
           }
          ]
         },
         "layout": {
          "annotationdefaults": {
           "arrowcolor": "#2a3f5f",
           "arrowhead": 0,
           "arrowwidth": 1
          },
          "autotypenumbers": "strict",
          "coloraxis": {
           "colorbar": {
            "outlinewidth": 0,
            "ticks": ""
           }
          },
          "colorscale": {
           "diverging": [
            [
             0,
             "#8e0152"
            ],
            [
             0.1,
             "#c51b7d"
            ],
            [
             0.2,
             "#de77ae"
            ],
            [
             0.3,
             "#f1b6da"
            ],
            [
             0.4,
             "#fde0ef"
            ],
            [
             0.5,
             "#f7f7f7"
            ],
            [
             0.6,
             "#e6f5d0"
            ],
            [
             0.7,
             "#b8e186"
            ],
            [
             0.8,
             "#7fbc41"
            ],
            [
             0.9,
             "#4d9221"
            ],
            [
             1,
             "#276419"
            ]
           ],
           "sequential": [
            [
             0,
             "#0d0887"
            ],
            [
             0.1111111111111111,
             "#46039f"
            ],
            [
             0.2222222222222222,
             "#7201a8"
            ],
            [
             0.3333333333333333,
             "#9c179e"
            ],
            [
             0.4444444444444444,
             "#bd3786"
            ],
            [
             0.5555555555555556,
             "#d8576b"
            ],
            [
             0.6666666666666666,
             "#ed7953"
            ],
            [
             0.7777777777777778,
             "#fb9f3a"
            ],
            [
             0.8888888888888888,
             "#fdca26"
            ],
            [
             1,
             "#f0f921"
            ]
           ],
           "sequentialminus": [
            [
             0,
             "#0d0887"
            ],
            [
             0.1111111111111111,
             "#46039f"
            ],
            [
             0.2222222222222222,
             "#7201a8"
            ],
            [
             0.3333333333333333,
             "#9c179e"
            ],
            [
             0.4444444444444444,
             "#bd3786"
            ],
            [
             0.5555555555555556,
             "#d8576b"
            ],
            [
             0.6666666666666666,
             "#ed7953"
            ],
            [
             0.7777777777777778,
             "#fb9f3a"
            ],
            [
             0.8888888888888888,
             "#fdca26"
            ],
            [
             1,
             "#f0f921"
            ]
           ]
          },
          "colorway": [
           "#636efa",
           "#EF553B",
           "#00cc96",
           "#ab63fa",
           "#FFA15A",
           "#19d3f3",
           "#FF6692",
           "#B6E880",
           "#FF97FF",
           "#FECB52"
          ],
          "font": {
           "color": "#2a3f5f"
          },
          "geo": {
           "bgcolor": "white",
           "lakecolor": "white",
           "landcolor": "#E5ECF6",
           "showlakes": true,
           "showland": true,
           "subunitcolor": "white"
          },
          "hoverlabel": {
           "align": "left"
          },
          "hovermode": "closest",
          "mapbox": {
           "style": "light"
          },
          "paper_bgcolor": "white",
          "plot_bgcolor": "#E5ECF6",
          "polar": {
           "angularaxis": {
            "gridcolor": "white",
            "linecolor": "white",
            "ticks": ""
           },
           "bgcolor": "#E5ECF6",
           "radialaxis": {
            "gridcolor": "white",
            "linecolor": "white",
            "ticks": ""
           }
          },
          "scene": {
           "xaxis": {
            "backgroundcolor": "#E5ECF6",
            "gridcolor": "white",
            "gridwidth": 2,
            "linecolor": "white",
            "showbackground": true,
            "ticks": "",
            "zerolinecolor": "white"
           },
           "yaxis": {
            "backgroundcolor": "#E5ECF6",
            "gridcolor": "white",
            "gridwidth": 2,
            "linecolor": "white",
            "showbackground": true,
            "ticks": "",
            "zerolinecolor": "white"
           },
           "zaxis": {
            "backgroundcolor": "#E5ECF6",
            "gridcolor": "white",
            "gridwidth": 2,
            "linecolor": "white",
            "showbackground": true,
            "ticks": "",
            "zerolinecolor": "white"
           }
          },
          "shapedefaults": {
           "line": {
            "color": "#2a3f5f"
           }
          },
          "ternary": {
           "aaxis": {
            "gridcolor": "white",
            "linecolor": "white",
            "ticks": ""
           },
           "baxis": {
            "gridcolor": "white",
            "linecolor": "white",
            "ticks": ""
           },
           "bgcolor": "#E5ECF6",
           "caxis": {
            "gridcolor": "white",
            "linecolor": "white",
            "ticks": ""
           }
          },
          "title": {
           "x": 0.05
          },
          "xaxis": {
           "automargin": true,
           "gridcolor": "white",
           "linecolor": "white",
           "ticks": "",
           "title": {
            "standoff": 15
           },
           "zerolinecolor": "white",
           "zerolinewidth": 2
          },
          "yaxis": {
           "automargin": true,
           "gridcolor": "white",
           "linecolor": "white",
           "ticks": "",
           "title": {
            "standoff": 15
           },
           "zerolinecolor": "white",
           "zerolinewidth": 2
          }
         }
        },
        "title": {
         "text": "Fairness Objective Oa(t) by Max Tokens"
        },
        "xaxis": {
         "anchor": "y",
         "domain": [
          0,
          1
         ],
         "title": {
          "text": "max_tokens"
         },
         "type": "log"
        },
        "yaxis": {
         "anchor": "x",
         "domain": [
          0,
          1
         ],
         "title": {
          "text": "Oa"
         }
        }
       }
      }
     },
     "metadata": {},
     "output_type": "display_data"
    }
   ],
   "source": [
    "import pandas as pd\n",
    "import glob\n",
    "import os\n",
    "import plotly.express as px\n",
    "\n",
    "# Path to your CSV files\n",
    "data_path = \"/Users/jtsiros93/Documents/llm_bench/week03/bench_max_tokens\"  # adjust as needed\n",
    "csv_files = glob.glob(os.path.join(data_path, \"*.csv\"))\n",
    "\n",
    "results = []\n",
    "\n",
    "for file in csv_files:\n",
    "    df = pd.read_csv(file)\n",
    "\n",
    "    # Extract max_tokens from filename (number after _T)\n",
    "    fname = os.path.splitext(os.path.basename(file))[0]\n",
    "    try:\n",
    "        max_tokens = int(fname.split(\"_T\")[-1])\n",
    "    except ValueError:\n",
    "        continue  # skip if parsing fails\n",
    "\n",
    "    # Extract model name\n",
    "    model = fname.split(\"_T\")[0].replace(\"res_base_\", \"\")\n",
    "\n",
    "    mean_score = df[\"Normalized\"].mean()\n",
    "\n",
    "    results.append({\n",
    "        \"max_tokens\": max_tokens,\n",
    "        \"model\": model,\n",
    "        \"mean_score\": mean_score\n",
    "    })\n",
    "\n",
    "# Make DataFrame\n",
    "perf_data = pd.DataFrame(results)\n",
    "\n",
    "# Group across models\n",
    "summary = perf_data.groupby(\"max_tokens\").agg(\n",
    "    mean_M=(\"mean_score\", \"mean\"),\n",
    "    std_D=(\"mean_score\", \"std\")\n",
    ").reset_index()\n",
    "\n",
    "# Fairness objective\n",
    "a = 1  # adjust as needed\n",
    "summary[\"Oa\"] = summary[\"mean_M\"] - a * summary[\"std_D\"]\n",
    "\n",
    "# Best max_tokens\n",
    "best_row = summary.loc[summary[\"Oa\"].idxmax()]\n",
    "print(\"Best max_tokens based on Oa(t):\", best_row[\"max_tokens\"])\n",
    "print(best_row)\n",
    "\n",
    "# --- Plotly interactive plot ---\n",
    "fig = px.line(\n",
    "    summary.sort_values(\"max_tokens\"),\n",
    "    x=\"max_tokens\",\n",
    "    y=\"Oa\",\n",
    "    title=\"Fairness Objective Oa(t) by Max Tokens\",\n",
    "    markers=True,\n",
    "    log_x=True  # ✅ LOG SCALE on X-axis\n",
    ")\n",
    "\n",
    "# Highlight the best point\n",
    "fig.add_scatter(\n",
    "    x=[best_row[\"max_tokens\"]],\n",
    "    y=[best_row[\"Oa\"]],\n",
    "    mode=\"markers+text\",\n",
    "    marker=dict(color=\"red\", size=12, symbol=\"star\"),\n",
    "    text=[\"Best\"],\n",
    "    textposition=\"top center\",\n",
    "    name=\"Best max_tokens\"\n",
    ")\n",
    "\n",
    "fig.show()\n",
    "\n"
   ]
  },
  {
   "cell_type": "code",
   "execution_count": 154,
   "id": "411869f2",
   "metadata": {},
   "outputs": [
    {
     "name": "stdout",
     "output_type": "stream",
     "text": [
      "✅ Extracted data:\n",
      "   top_p                        model  mean_score\n",
      "0    0.9  deepseek-deepseek-chat-v3.1     0.10755\n",
      "1    0.3  deepseek-deepseek-chat-v3.1     0.09673\n",
      "2    0.1          openai-gpt-4.1-mini     0.67367\n",
      "3    0.4  deepseek-deepseek-chat-v3.1     0.00000\n",
      "4    0.6          openai-gpt-4.1-mini     0.03775\n"
     ]
    },
    {
     "data": {
      "application/vnd.plotly.v1+json": {
       "config": {
        "plotlyServerURL": "https://plot.ly"
       },
       "data": [
        {
         "hovertemplate": "model=deepseek-deepseek-chat-v3.1<br>top_p=%{x}<br>Oa=%{y}<extra></extra>",
         "legendgroup": "deepseek-deepseek-chat-v3.1",
         "line": {
          "color": "#636efa",
          "dash": "solid"
         },
         "marker": {
          "symbol": "circle"
         },
         "mode": "lines+markers",
         "name": "deepseek-deepseek-chat-v3.1",
         "orientation": "v",
         "showlegend": true,
         "type": "scatter",
         "x": {
          "bdata": "AAAAAAAAAACamZmZmZm5P5qZmZmZmck/MzMzMzMz0z+amZmZmZnZPwAAAAAAAOA/MzMzMzMz4z9mZmZmZmbmP5qZmZmZmek/zczMzMzM7D8AAAAAAADwPw==",
          "dtype": "f8"
         },
         "xaxis": "x",
         "y": {
          "bdata": "nWBr0kivw7/JFi+dupzMvwSnDE+ytcm/pjbo4cVTyr8gm8AsMavLv2nFTH5vpcq/zbtottYyyL/KGel81TfJvzLgD46NuMe/4Cmovx5Hxb9mnYw3HiTEvw==",
          "dtype": "f8"
         },
         "yaxis": "y"
        },
        {
         "hovertemplate": "model=openai-gpt-4.1-mini<br>top_p=%{x}<br>Oa=%{y}<extra></extra>",
         "legendgroup": "openai-gpt-4.1-mini",
         "line": {
          "color": "#EF553B",
          "dash": "solid"
         },
         "marker": {
          "symbol": "circle"
         },
         "mode": "lines+markers",
         "name": "openai-gpt-4.1-mini",
         "orientation": "v",
         "showlegend": true,
         "type": "scatter",
         "x": {
          "bdata": "AAAAAAAAAACamZmZmZm5P5qZmZmZmck/MzMzMzMz0z+amZmZmZnZPwAAAAAAAOA/MzMzMzMz4z9mZmZmZmbmP5qZmZmZmek/zczMzMzM7D8AAAAAAADwPw==",
          "dtype": "f8"
         },
         "xaxis": "x",
         "y": {
          "bdata": "jAUgywVuxr8gJzXGmdvKvyAt/XoVMtC/iGs4uxsyzr+wXi89NPrIv0z1U9wb0sm/VPoQ5LGGyr+Y0WmI/PrMv4iP/koBuc2/LNG6wtdcxb+OZQMyz7fHvw==",
          "dtype": "f8"
         },
         "yaxis": "y"
        }
       ],
       "layout": {
        "legend": {
         "title": {
          "text": "model"
         },
         "tracegroupgap": 0
        },
        "template": {
         "data": {
          "bar": [
           {
            "error_x": {
             "color": "#2a3f5f"
            },
            "error_y": {
             "color": "#2a3f5f"
            },
            "marker": {
             "line": {
              "color": "#E5ECF6",
              "width": 0.5
             },
             "pattern": {
              "fillmode": "overlay",
              "size": 10,
              "solidity": 0.2
             }
            },
            "type": "bar"
           }
          ],
          "barpolar": [
           {
            "marker": {
             "line": {
              "color": "#E5ECF6",
              "width": 0.5
             },
             "pattern": {
              "fillmode": "overlay",
              "size": 10,
              "solidity": 0.2
             }
            },
            "type": "barpolar"
           }
          ],
          "carpet": [
           {
            "aaxis": {
             "endlinecolor": "#2a3f5f",
             "gridcolor": "white",
             "linecolor": "white",
             "minorgridcolor": "white",
             "startlinecolor": "#2a3f5f"
            },
            "baxis": {
             "endlinecolor": "#2a3f5f",
             "gridcolor": "white",
             "linecolor": "white",
             "minorgridcolor": "white",
             "startlinecolor": "#2a3f5f"
            },
            "type": "carpet"
           }
          ],
          "choropleth": [
           {
            "colorbar": {
             "outlinewidth": 0,
             "ticks": ""
            },
            "type": "choropleth"
           }
          ],
          "contour": [
           {
            "colorbar": {
             "outlinewidth": 0,
             "ticks": ""
            },
            "colorscale": [
             [
              0,
              "#0d0887"
             ],
             [
              0.1111111111111111,
              "#46039f"
             ],
             [
              0.2222222222222222,
              "#7201a8"
             ],
             [
              0.3333333333333333,
              "#9c179e"
             ],
             [
              0.4444444444444444,
              "#bd3786"
             ],
             [
              0.5555555555555556,
              "#d8576b"
             ],
             [
              0.6666666666666666,
              "#ed7953"
             ],
             [
              0.7777777777777778,
              "#fb9f3a"
             ],
             [
              0.8888888888888888,
              "#fdca26"
             ],
             [
              1,
              "#f0f921"
             ]
            ],
            "type": "contour"
           }
          ],
          "contourcarpet": [
           {
            "colorbar": {
             "outlinewidth": 0,
             "ticks": ""
            },
            "type": "contourcarpet"
           }
          ],
          "heatmap": [
           {
            "colorbar": {
             "outlinewidth": 0,
             "ticks": ""
            },
            "colorscale": [
             [
              0,
              "#0d0887"
             ],
             [
              0.1111111111111111,
              "#46039f"
             ],
             [
              0.2222222222222222,
              "#7201a8"
             ],
             [
              0.3333333333333333,
              "#9c179e"
             ],
             [
              0.4444444444444444,
              "#bd3786"
             ],
             [
              0.5555555555555556,
              "#d8576b"
             ],
             [
              0.6666666666666666,
              "#ed7953"
             ],
             [
              0.7777777777777778,
              "#fb9f3a"
             ],
             [
              0.8888888888888888,
              "#fdca26"
             ],
             [
              1,
              "#f0f921"
             ]
            ],
            "type": "heatmap"
           }
          ],
          "histogram": [
           {
            "marker": {
             "pattern": {
              "fillmode": "overlay",
              "size": 10,
              "solidity": 0.2
             }
            },
            "type": "histogram"
           }
          ],
          "histogram2d": [
           {
            "colorbar": {
             "outlinewidth": 0,
             "ticks": ""
            },
            "colorscale": [
             [
              0,
              "#0d0887"
             ],
             [
              0.1111111111111111,
              "#46039f"
             ],
             [
              0.2222222222222222,
              "#7201a8"
             ],
             [
              0.3333333333333333,
              "#9c179e"
             ],
             [
              0.4444444444444444,
              "#bd3786"
             ],
             [
              0.5555555555555556,
              "#d8576b"
             ],
             [
              0.6666666666666666,
              "#ed7953"
             ],
             [
              0.7777777777777778,
              "#fb9f3a"
             ],
             [
              0.8888888888888888,
              "#fdca26"
             ],
             [
              1,
              "#f0f921"
             ]
            ],
            "type": "histogram2d"
           }
          ],
          "histogram2dcontour": [
           {
            "colorbar": {
             "outlinewidth": 0,
             "ticks": ""
            },
            "colorscale": [
             [
              0,
              "#0d0887"
             ],
             [
              0.1111111111111111,
              "#46039f"
             ],
             [
              0.2222222222222222,
              "#7201a8"
             ],
             [
              0.3333333333333333,
              "#9c179e"
             ],
             [
              0.4444444444444444,
              "#bd3786"
             ],
             [
              0.5555555555555556,
              "#d8576b"
             ],
             [
              0.6666666666666666,
              "#ed7953"
             ],
             [
              0.7777777777777778,
              "#fb9f3a"
             ],
             [
              0.8888888888888888,
              "#fdca26"
             ],
             [
              1,
              "#f0f921"
             ]
            ],
            "type": "histogram2dcontour"
           }
          ],
          "mesh3d": [
           {
            "colorbar": {
             "outlinewidth": 0,
             "ticks": ""
            },
            "type": "mesh3d"
           }
          ],
          "parcoords": [
           {
            "line": {
             "colorbar": {
              "outlinewidth": 0,
              "ticks": ""
             }
            },
            "type": "parcoords"
           }
          ],
          "pie": [
           {
            "automargin": true,
            "type": "pie"
           }
          ],
          "scatter": [
           {
            "fillpattern": {
             "fillmode": "overlay",
             "size": 10,
             "solidity": 0.2
            },
            "type": "scatter"
           }
          ],
          "scatter3d": [
           {
            "line": {
             "colorbar": {
              "outlinewidth": 0,
              "ticks": ""
             }
            },
            "marker": {
             "colorbar": {
              "outlinewidth": 0,
              "ticks": ""
             }
            },
            "type": "scatter3d"
           }
          ],
          "scattercarpet": [
           {
            "marker": {
             "colorbar": {
              "outlinewidth": 0,
              "ticks": ""
             }
            },
            "type": "scattercarpet"
           }
          ],
          "scattergeo": [
           {
            "marker": {
             "colorbar": {
              "outlinewidth": 0,
              "ticks": ""
             }
            },
            "type": "scattergeo"
           }
          ],
          "scattergl": [
           {
            "marker": {
             "colorbar": {
              "outlinewidth": 0,
              "ticks": ""
             }
            },
            "type": "scattergl"
           }
          ],
          "scattermap": [
           {
            "marker": {
             "colorbar": {
              "outlinewidth": 0,
              "ticks": ""
             }
            },
            "type": "scattermap"
           }
          ],
          "scattermapbox": [
           {
            "marker": {
             "colorbar": {
              "outlinewidth": 0,
              "ticks": ""
             }
            },
            "type": "scattermapbox"
           }
          ],
          "scatterpolar": [
           {
            "marker": {
             "colorbar": {
              "outlinewidth": 0,
              "ticks": ""
             }
            },
            "type": "scatterpolar"
           }
          ],
          "scatterpolargl": [
           {
            "marker": {
             "colorbar": {
              "outlinewidth": 0,
              "ticks": ""
             }
            },
            "type": "scatterpolargl"
           }
          ],
          "scatterternary": [
           {
            "marker": {
             "colorbar": {
              "outlinewidth": 0,
              "ticks": ""
             }
            },
            "type": "scatterternary"
           }
          ],
          "surface": [
           {
            "colorbar": {
             "outlinewidth": 0,
             "ticks": ""
            },
            "colorscale": [
             [
              0,
              "#0d0887"
             ],
             [
              0.1111111111111111,
              "#46039f"
             ],
             [
              0.2222222222222222,
              "#7201a8"
             ],
             [
              0.3333333333333333,
              "#9c179e"
             ],
             [
              0.4444444444444444,
              "#bd3786"
             ],
             [
              0.5555555555555556,
              "#d8576b"
             ],
             [
              0.6666666666666666,
              "#ed7953"
             ],
             [
              0.7777777777777778,
              "#fb9f3a"
             ],
             [
              0.8888888888888888,
              "#fdca26"
             ],
             [
              1,
              "#f0f921"
             ]
            ],
            "type": "surface"
           }
          ],
          "table": [
           {
            "cells": {
             "fill": {
              "color": "#EBF0F8"
             },
             "line": {
              "color": "white"
             }
            },
            "header": {
             "fill": {
              "color": "#C8D4E3"
             },
             "line": {
              "color": "white"
             }
            },
            "type": "table"
           }
          ]
         },
         "layout": {
          "annotationdefaults": {
           "arrowcolor": "#2a3f5f",
           "arrowhead": 0,
           "arrowwidth": 1
          },
          "autotypenumbers": "strict",
          "coloraxis": {
           "colorbar": {
            "outlinewidth": 0,
            "ticks": ""
           }
          },
          "colorscale": {
           "diverging": [
            [
             0,
             "#8e0152"
            ],
            [
             0.1,
             "#c51b7d"
            ],
            [
             0.2,
             "#de77ae"
            ],
            [
             0.3,
             "#f1b6da"
            ],
            [
             0.4,
             "#fde0ef"
            ],
            [
             0.5,
             "#f7f7f7"
            ],
            [
             0.6,
             "#e6f5d0"
            ],
            [
             0.7,
             "#b8e186"
            ],
            [
             0.8,
             "#7fbc41"
            ],
            [
             0.9,
             "#4d9221"
            ],
            [
             1,
             "#276419"
            ]
           ],
           "sequential": [
            [
             0,
             "#0d0887"
            ],
            [
             0.1111111111111111,
             "#46039f"
            ],
            [
             0.2222222222222222,
             "#7201a8"
            ],
            [
             0.3333333333333333,
             "#9c179e"
            ],
            [
             0.4444444444444444,
             "#bd3786"
            ],
            [
             0.5555555555555556,
             "#d8576b"
            ],
            [
             0.6666666666666666,
             "#ed7953"
            ],
            [
             0.7777777777777778,
             "#fb9f3a"
            ],
            [
             0.8888888888888888,
             "#fdca26"
            ],
            [
             1,
             "#f0f921"
            ]
           ],
           "sequentialminus": [
            [
             0,
             "#0d0887"
            ],
            [
             0.1111111111111111,
             "#46039f"
            ],
            [
             0.2222222222222222,
             "#7201a8"
            ],
            [
             0.3333333333333333,
             "#9c179e"
            ],
            [
             0.4444444444444444,
             "#bd3786"
            ],
            [
             0.5555555555555556,
             "#d8576b"
            ],
            [
             0.6666666666666666,
             "#ed7953"
            ],
            [
             0.7777777777777778,
             "#fb9f3a"
            ],
            [
             0.8888888888888888,
             "#fdca26"
            ],
            [
             1,
             "#f0f921"
            ]
           ]
          },
          "colorway": [
           "#636efa",
           "#EF553B",
           "#00cc96",
           "#ab63fa",
           "#FFA15A",
           "#19d3f3",
           "#FF6692",
           "#B6E880",
           "#FF97FF",
           "#FECB52"
          ],
          "font": {
           "color": "#2a3f5f"
          },
          "geo": {
           "bgcolor": "white",
           "lakecolor": "white",
           "landcolor": "#E5ECF6",
           "showlakes": true,
           "showland": true,
           "subunitcolor": "white"
          },
          "hoverlabel": {
           "align": "left"
          },
          "hovermode": "closest",
          "mapbox": {
           "style": "light"
          },
          "paper_bgcolor": "white",
          "plot_bgcolor": "#E5ECF6",
          "polar": {
           "angularaxis": {
            "gridcolor": "white",
            "linecolor": "white",
            "ticks": ""
           },
           "bgcolor": "#E5ECF6",
           "radialaxis": {
            "gridcolor": "white",
            "linecolor": "white",
            "ticks": ""
           }
          },
          "scene": {
           "xaxis": {
            "backgroundcolor": "#E5ECF6",
            "gridcolor": "white",
            "gridwidth": 2,
            "linecolor": "white",
            "showbackground": true,
            "ticks": "",
            "zerolinecolor": "white"
           },
           "yaxis": {
            "backgroundcolor": "#E5ECF6",
            "gridcolor": "white",
            "gridwidth": 2,
            "linecolor": "white",
            "showbackground": true,
            "ticks": "",
            "zerolinecolor": "white"
           },
           "zaxis": {
            "backgroundcolor": "#E5ECF6",
            "gridcolor": "white",
            "gridwidth": 2,
            "linecolor": "white",
            "showbackground": true,
            "ticks": "",
            "zerolinecolor": "white"
           }
          },
          "shapedefaults": {
           "line": {
            "color": "#2a3f5f"
           }
          },
          "ternary": {
           "aaxis": {
            "gridcolor": "white",
            "linecolor": "white",
            "ticks": ""
           },
           "baxis": {
            "gridcolor": "white",
            "linecolor": "white",
            "ticks": ""
           },
           "bgcolor": "#E5ECF6",
           "caxis": {
            "gridcolor": "white",
            "linecolor": "white",
            "ticks": ""
           }
          },
          "title": {
           "x": 0.05
          },
          "xaxis": {
           "automargin": true,
           "gridcolor": "white",
           "linecolor": "white",
           "ticks": "",
           "title": {
            "standoff": 15
           },
           "zerolinecolor": "white",
           "zerolinewidth": 2
          },
          "yaxis": {
           "automargin": true,
           "gridcolor": "white",
           "linecolor": "white",
           "ticks": "",
           "title": {
            "standoff": 15
           },
           "zerolinecolor": "white",
           "zerolinewidth": 2
          }
         }
        },
        "title": {
         "text": "Fairness Objective Oa(t) by Top-p (per model)"
        },
        "xaxis": {
         "anchor": "y",
         "domain": [
          0,
          1
         ],
         "title": {
          "text": "top_p"
         }
        },
        "yaxis": {
         "anchor": "x",
         "domain": [
          0,
          1
         ],
         "title": {
          "text": "Oa"
         }
        }
       }
      }
     },
     "metadata": {},
     "output_type": "display_data"
    }
   ],
   "source": [
    "import pandas as pd\n",
    "import glob\n",
    "import os\n",
    "import re\n",
    "import plotly.express as px\n",
    "\n",
    "data_path = \"/Users/jtsiros93/Documents/llm_bench/week03/gpt-top-check-2\"\n",
    "csv_files = glob.glob(os.path.join(data_path, \"*.csv\"))\n",
    "\n",
    "results = []\n",
    "\n",
    "for file in csv_files:\n",
    "    df = pd.read_csv(file)\n",
    "    fname = os.path.splitext(os.path.basename(file))[0]\n",
    "\n",
    "    # Use regex to find P<value>\n",
    "    match_p = re.search(r\"_P([0-9.]+)\", fname)\n",
    "    if not match_p:\n",
    "        print(f\"⚠️ Could not parse top_p from {fname}\")\n",
    "        continue\n",
    "    top_p = float(match_p.group(1))\n",
    "\n",
    "    # Extract model name safely (everything between res_base_ and _T)\n",
    "    match_model = re.search(r\"res_base_(.*?)_T\", fname)\n",
    "    if not match_model:\n",
    "        print(f\"⚠️ Could not parse model from {fname}\")\n",
    "        continue\n",
    "    model = match_model.group(1)\n",
    "\n",
    "    mean_score = df[\"Normalized\"].mean()\n",
    "\n",
    "    results.append({\n",
    "        \"top_p\": top_p,\n",
    "        \"model\": model,\n",
    "        \"mean_score\": mean_score\n",
    "    })\n",
    "\n",
    "perf_data = pd.DataFrame(results)\n",
    "print(\"✅ Extracted data:\")\n",
    "print(perf_data.head())\n",
    "\n",
    "if perf_data.empty:\n",
    "    raise ValueError(\"No data extracted. Check filename parsing.\")\n",
    "\n",
    "# Group by model and top_p\n",
    "summary = perf_data.groupby([\"model\", \"top_p\"]).agg(\n",
    "    mean_M=(\"mean_score\", \"mean\"),\n",
    "    std_D=(\"mean_score\", \"std\")\n",
    ").reset_index()\n",
    "\n",
    "# Fairness objective\n",
    "a = 2\n",
    "\n",
    "summary[\"Oa\"] = summary[\"mean_M\"] - a * summary[\"std_D\"]\n",
    "\n",
    "# Plot\n",
    "fig = px.line(\n",
    "    summary.sort_values(\"top_p\"),\n",
    "    x=\"top_p\",\n",
    "    y=\"Oa\",\n",
    "    color=\"model\",\n",
    "    title=\"Fairness Objective Oa(t) by Top-p (per model)\",\n",
    "    markers=True\n",
    ")\n",
    "\n",
    "fig.show()\n"
   ]
  },
  {
   "cell_type": "code",
   "execution_count": 80,
   "id": "b5d9fbac",
   "metadata": {},
   "outputs": [
    {
     "data": {
      "application/vnd.plotly.v1+json": {
       "config": {
        "plotlyServerURL": "https://plot.ly"
       },
       "data": [
        {
         "hovertemplate": "top_p=%{x}<br>Oa=%{y:.3f}",
         "legendgroup": "deepseek-deepseek-chat-v3.1",
         "line": {
          "color": "#636efa",
          "dash": "solid"
         },
         "marker": {
          "symbol": "circle"
         },
         "mode": "lines+markers",
         "name": "deepseek-deepseek-chat-v3.1",
         "orientation": "v",
         "showlegend": true,
         "type": "scatter",
         "x": {
          "bdata": "AAAAAAAAAACamZmZmZm5P5qZmZmZmck/MzMzMzMz0z+amZmZmZnZPwAAAAAAAOA/MzMzMzMz4z9mZmZmZmbmP5qZmZmZmek/zczMzMzM7D8AAAAAAADwPw==",
          "dtype": "f8"
         },
         "xaxis": "x",
         "y": {
          "bdata": "w/fI2H9rtz/5Pfc+422wP5g59jYY+rM/NPp5CGYgsz/nFkygZtqxPzmTyNA/WLM/AKVibC94tD8R8i5fTGC0P3p92EeNTbU/ddewN1Extz+PmkUF2Ou1Pw==",
          "dtype": "f8"
         },
         "yaxis": "y"
        },
        {
         "hovertemplate": "top_p=%{x}<br>Oa=%{y:.3f}",
         "legendgroup": "openai-gpt-4.1-mini",
         "line": {
          "color": "#EF553B",
          "dash": "solid"
         },
         "marker": {
          "symbol": "circle"
         },
         "mode": "lines+markers",
         "name": "openai-gpt-4.1-mini",
         "orientation": "v",
         "showlegend": true,
         "type": "scatter",
         "x": {
          "bdata": "AAAAAAAAAACamZmZmZm5P5qZmZmZmck/MzMzMzMz0z+amZmZmZnZPwAAAAAAAOA/MzMzMzMz4z9mZmZmZmbmP5qZmZmZmek/zczMzMzM7D8AAAAAAADwPw==",
          "dtype": "f8"
         },
         "xaxis": "x",
         "y": {
          "bdata": "CusID3/l1D+2g3uxA1vVP4M2XwtWJNQ/xj7N0H2N1D9mRxvpZ8LVP9QZM/H38tQ/Tpho/n3C1D/uyda6SAHUPzrr1vEKetM/an0sUVZG1T/Y07QpKOLUPw==",
          "dtype": "f8"
         },
         "yaxis": "y"
        },
        {
         "hovertemplate": "top_p=%{x}<br>Oa=%{y:.3f}",
         "marker": {
          "color": "red",
          "size": 14,
          "symbol": "star"
         },
         "mode": "markers+text",
         "name": "Best per model",
         "text": [
          "deepseek-deepseek-chat-v3.1",
          "openai-gpt-4.1-mini"
         ],
         "textposition": "top center",
         "type": "scatter",
         "x": {
          "bdata": "AAAAAAAAAACamZmZmZnZPw==",
          "dtype": "f8"
         },
         "y": {
          "bdata": "w/fI2H9rtz9mRxvpZ8LVPw==",
          "dtype": "f8"
         }
        }
       ],
       "layout": {
        "legend": {
         "title": {
          "text": "model"
         },
         "tracegroupgap": 0
        },
        "template": {
         "data": {
          "bar": [
           {
            "error_x": {
             "color": "#2a3f5f"
            },
            "error_y": {
             "color": "#2a3f5f"
            },
            "marker": {
             "line": {
              "color": "#E5ECF6",
              "width": 0.5
             },
             "pattern": {
              "fillmode": "overlay",
              "size": 10,
              "solidity": 0.2
             }
            },
            "type": "bar"
           }
          ],
          "barpolar": [
           {
            "marker": {
             "line": {
              "color": "#E5ECF6",
              "width": 0.5
             },
             "pattern": {
              "fillmode": "overlay",
              "size": 10,
              "solidity": 0.2
             }
            },
            "type": "barpolar"
           }
          ],
          "carpet": [
           {
            "aaxis": {
             "endlinecolor": "#2a3f5f",
             "gridcolor": "white",
             "linecolor": "white",
             "minorgridcolor": "white",
             "startlinecolor": "#2a3f5f"
            },
            "baxis": {
             "endlinecolor": "#2a3f5f",
             "gridcolor": "white",
             "linecolor": "white",
             "minorgridcolor": "white",
             "startlinecolor": "#2a3f5f"
            },
            "type": "carpet"
           }
          ],
          "choropleth": [
           {
            "colorbar": {
             "outlinewidth": 0,
             "ticks": ""
            },
            "type": "choropleth"
           }
          ],
          "contour": [
           {
            "colorbar": {
             "outlinewidth": 0,
             "ticks": ""
            },
            "colorscale": [
             [
              0,
              "#0d0887"
             ],
             [
              0.1111111111111111,
              "#46039f"
             ],
             [
              0.2222222222222222,
              "#7201a8"
             ],
             [
              0.3333333333333333,
              "#9c179e"
             ],
             [
              0.4444444444444444,
              "#bd3786"
             ],
             [
              0.5555555555555556,
              "#d8576b"
             ],
             [
              0.6666666666666666,
              "#ed7953"
             ],
             [
              0.7777777777777778,
              "#fb9f3a"
             ],
             [
              0.8888888888888888,
              "#fdca26"
             ],
             [
              1,
              "#f0f921"
             ]
            ],
            "type": "contour"
           }
          ],
          "contourcarpet": [
           {
            "colorbar": {
             "outlinewidth": 0,
             "ticks": ""
            },
            "type": "contourcarpet"
           }
          ],
          "heatmap": [
           {
            "colorbar": {
             "outlinewidth": 0,
             "ticks": ""
            },
            "colorscale": [
             [
              0,
              "#0d0887"
             ],
             [
              0.1111111111111111,
              "#46039f"
             ],
             [
              0.2222222222222222,
              "#7201a8"
             ],
             [
              0.3333333333333333,
              "#9c179e"
             ],
             [
              0.4444444444444444,
              "#bd3786"
             ],
             [
              0.5555555555555556,
              "#d8576b"
             ],
             [
              0.6666666666666666,
              "#ed7953"
             ],
             [
              0.7777777777777778,
              "#fb9f3a"
             ],
             [
              0.8888888888888888,
              "#fdca26"
             ],
             [
              1,
              "#f0f921"
             ]
            ],
            "type": "heatmap"
           }
          ],
          "histogram": [
           {
            "marker": {
             "pattern": {
              "fillmode": "overlay",
              "size": 10,
              "solidity": 0.2
             }
            },
            "type": "histogram"
           }
          ],
          "histogram2d": [
           {
            "colorbar": {
             "outlinewidth": 0,
             "ticks": ""
            },
            "colorscale": [
             [
              0,
              "#0d0887"
             ],
             [
              0.1111111111111111,
              "#46039f"
             ],
             [
              0.2222222222222222,
              "#7201a8"
             ],
             [
              0.3333333333333333,
              "#9c179e"
             ],
             [
              0.4444444444444444,
              "#bd3786"
             ],
             [
              0.5555555555555556,
              "#d8576b"
             ],
             [
              0.6666666666666666,
              "#ed7953"
             ],
             [
              0.7777777777777778,
              "#fb9f3a"
             ],
             [
              0.8888888888888888,
              "#fdca26"
             ],
             [
              1,
              "#f0f921"
             ]
            ],
            "type": "histogram2d"
           }
          ],
          "histogram2dcontour": [
           {
            "colorbar": {
             "outlinewidth": 0,
             "ticks": ""
            },
            "colorscale": [
             [
              0,
              "#0d0887"
             ],
             [
              0.1111111111111111,
              "#46039f"
             ],
             [
              0.2222222222222222,
              "#7201a8"
             ],
             [
              0.3333333333333333,
              "#9c179e"
             ],
             [
              0.4444444444444444,
              "#bd3786"
             ],
             [
              0.5555555555555556,
              "#d8576b"
             ],
             [
              0.6666666666666666,
              "#ed7953"
             ],
             [
              0.7777777777777778,
              "#fb9f3a"
             ],
             [
              0.8888888888888888,
              "#fdca26"
             ],
             [
              1,
              "#f0f921"
             ]
            ],
            "type": "histogram2dcontour"
           }
          ],
          "mesh3d": [
           {
            "colorbar": {
             "outlinewidth": 0,
             "ticks": ""
            },
            "type": "mesh3d"
           }
          ],
          "parcoords": [
           {
            "line": {
             "colorbar": {
              "outlinewidth": 0,
              "ticks": ""
             }
            },
            "type": "parcoords"
           }
          ],
          "pie": [
           {
            "automargin": true,
            "type": "pie"
           }
          ],
          "scatter": [
           {
            "fillpattern": {
             "fillmode": "overlay",
             "size": 10,
             "solidity": 0.2
            },
            "type": "scatter"
           }
          ],
          "scatter3d": [
           {
            "line": {
             "colorbar": {
              "outlinewidth": 0,
              "ticks": ""
             }
            },
            "marker": {
             "colorbar": {
              "outlinewidth": 0,
              "ticks": ""
             }
            },
            "type": "scatter3d"
           }
          ],
          "scattercarpet": [
           {
            "marker": {
             "colorbar": {
              "outlinewidth": 0,
              "ticks": ""
             }
            },
            "type": "scattercarpet"
           }
          ],
          "scattergeo": [
           {
            "marker": {
             "colorbar": {
              "outlinewidth": 0,
              "ticks": ""
             }
            },
            "type": "scattergeo"
           }
          ],
          "scattergl": [
           {
            "marker": {
             "colorbar": {
              "outlinewidth": 0,
              "ticks": ""
             }
            },
            "type": "scattergl"
           }
          ],
          "scattermap": [
           {
            "marker": {
             "colorbar": {
              "outlinewidth": 0,
              "ticks": ""
             }
            },
            "type": "scattermap"
           }
          ],
          "scattermapbox": [
           {
            "marker": {
             "colorbar": {
              "outlinewidth": 0,
              "ticks": ""
             }
            },
            "type": "scattermapbox"
           }
          ],
          "scatterpolar": [
           {
            "marker": {
             "colorbar": {
              "outlinewidth": 0,
              "ticks": ""
             }
            },
            "type": "scatterpolar"
           }
          ],
          "scatterpolargl": [
           {
            "marker": {
             "colorbar": {
              "outlinewidth": 0,
              "ticks": ""
             }
            },
            "type": "scatterpolargl"
           }
          ],
          "scatterternary": [
           {
            "marker": {
             "colorbar": {
              "outlinewidth": 0,
              "ticks": ""
             }
            },
            "type": "scatterternary"
           }
          ],
          "surface": [
           {
            "colorbar": {
             "outlinewidth": 0,
             "ticks": ""
            },
            "colorscale": [
             [
              0,
              "#0d0887"
             ],
             [
              0.1111111111111111,
              "#46039f"
             ],
             [
              0.2222222222222222,
              "#7201a8"
             ],
             [
              0.3333333333333333,
              "#9c179e"
             ],
             [
              0.4444444444444444,
              "#bd3786"
             ],
             [
              0.5555555555555556,
              "#d8576b"
             ],
             [
              0.6666666666666666,
              "#ed7953"
             ],
             [
              0.7777777777777778,
              "#fb9f3a"
             ],
             [
              0.8888888888888888,
              "#fdca26"
             ],
             [
              1,
              "#f0f921"
             ]
            ],
            "type": "surface"
           }
          ],
          "table": [
           {
            "cells": {
             "fill": {
              "color": "#EBF0F8"
             },
             "line": {
              "color": "white"
             }
            },
            "header": {
             "fill": {
              "color": "#C8D4E3"
             },
             "line": {
              "color": "white"
             }
            },
            "type": "table"
           }
          ]
         },
         "layout": {
          "annotationdefaults": {
           "arrowcolor": "#2a3f5f",
           "arrowhead": 0,
           "arrowwidth": 1
          },
          "autotypenumbers": "strict",
          "coloraxis": {
           "colorbar": {
            "outlinewidth": 0,
            "ticks": ""
           }
          },
          "colorscale": {
           "diverging": [
            [
             0,
             "#8e0152"
            ],
            [
             0.1,
             "#c51b7d"
            ],
            [
             0.2,
             "#de77ae"
            ],
            [
             0.3,
             "#f1b6da"
            ],
            [
             0.4,
             "#fde0ef"
            ],
            [
             0.5,
             "#f7f7f7"
            ],
            [
             0.6,
             "#e6f5d0"
            ],
            [
             0.7,
             "#b8e186"
            ],
            [
             0.8,
             "#7fbc41"
            ],
            [
             0.9,
             "#4d9221"
            ],
            [
             1,
             "#276419"
            ]
           ],
           "sequential": [
            [
             0,
             "#0d0887"
            ],
            [
             0.1111111111111111,
             "#46039f"
            ],
            [
             0.2222222222222222,
             "#7201a8"
            ],
            [
             0.3333333333333333,
             "#9c179e"
            ],
            [
             0.4444444444444444,
             "#bd3786"
            ],
            [
             0.5555555555555556,
             "#d8576b"
            ],
            [
             0.6666666666666666,
             "#ed7953"
            ],
            [
             0.7777777777777778,
             "#fb9f3a"
            ],
            [
             0.8888888888888888,
             "#fdca26"
            ],
            [
             1,
             "#f0f921"
            ]
           ],
           "sequentialminus": [
            [
             0,
             "#0d0887"
            ],
            [
             0.1111111111111111,
             "#46039f"
            ],
            [
             0.2222222222222222,
             "#7201a8"
            ],
            [
             0.3333333333333333,
             "#9c179e"
            ],
            [
             0.4444444444444444,
             "#bd3786"
            ],
            [
             0.5555555555555556,
             "#d8576b"
            ],
            [
             0.6666666666666666,
             "#ed7953"
            ],
            [
             0.7777777777777778,
             "#fb9f3a"
            ],
            [
             0.8888888888888888,
             "#fdca26"
            ],
            [
             1,
             "#f0f921"
            ]
           ]
          },
          "colorway": [
           "#636efa",
           "#EF553B",
           "#00cc96",
           "#ab63fa",
           "#FFA15A",
           "#19d3f3",
           "#FF6692",
           "#B6E880",
           "#FF97FF",
           "#FECB52"
          ],
          "font": {
           "color": "#2a3f5f"
          },
          "geo": {
           "bgcolor": "white",
           "lakecolor": "white",
           "landcolor": "#E5ECF6",
           "showlakes": true,
           "showland": true,
           "subunitcolor": "white"
          },
          "hoverlabel": {
           "align": "left"
          },
          "hovermode": "closest",
          "mapbox": {
           "style": "light"
          },
          "paper_bgcolor": "white",
          "plot_bgcolor": "#E5ECF6",
          "polar": {
           "angularaxis": {
            "gridcolor": "white",
            "linecolor": "white",
            "ticks": ""
           },
           "bgcolor": "#E5ECF6",
           "radialaxis": {
            "gridcolor": "white",
            "linecolor": "white",
            "ticks": ""
           }
          },
          "scene": {
           "xaxis": {
            "backgroundcolor": "#E5ECF6",
            "gridcolor": "white",
            "gridwidth": 2,
            "linecolor": "white",
            "showbackground": true,
            "ticks": "",
            "zerolinecolor": "white"
           },
           "yaxis": {
            "backgroundcolor": "#E5ECF6",
            "gridcolor": "white",
            "gridwidth": 2,
            "linecolor": "white",
            "showbackground": true,
            "ticks": "",
            "zerolinecolor": "white"
           },
           "zaxis": {
            "backgroundcolor": "#E5ECF6",
            "gridcolor": "white",
            "gridwidth": 2,
            "linecolor": "white",
            "showbackground": true,
            "ticks": "",
            "zerolinecolor": "white"
           }
          },
          "shapedefaults": {
           "line": {
            "color": "#2a3f5f"
           }
          },
          "ternary": {
           "aaxis": {
            "gridcolor": "white",
            "linecolor": "white",
            "ticks": ""
           },
           "baxis": {
            "gridcolor": "white",
            "linecolor": "white",
            "ticks": ""
           },
           "bgcolor": "#E5ECF6",
           "caxis": {
            "gridcolor": "white",
            "linecolor": "white",
            "ticks": ""
           }
          },
          "title": {
           "x": 0.05
          },
          "xaxis": {
           "automargin": true,
           "gridcolor": "white",
           "linecolor": "white",
           "ticks": "",
           "title": {
            "standoff": 15
           },
           "zerolinecolor": "white",
           "zerolinewidth": 2
          },
          "yaxis": {
           "automargin": true,
           "gridcolor": "white",
           "linecolor": "white",
           "ticks": "",
           "title": {
            "standoff": 15
           },
           "zerolinecolor": "white",
           "zerolinewidth": 2
          }
         }
        },
        "title": {
         "text": "Fairness Objective Oa(t) by Top-p (per model)"
        },
        "xaxis": {
         "anchor": "y",
         "domain": [
          0,
          1
         ],
         "title": {
          "text": "top_p"
         }
        },
        "yaxis": {
         "anchor": "x",
         "domain": [
          0,
          1
         ],
         "title": {
          "text": "Oa"
         }
        }
       }
      }
     },
     "metadata": {},
     "output_type": "display_data"
    }
   ],
   "source": [
    "import pandas as pd\n",
    "import glob\n",
    "import os\n",
    "import re\n",
    "import plotly.express as px\n",
    "import plotly.graph_objects as go\n",
    "\n",
    "# === Step 1: Load data and extract fields ===\n",
    "data_path = \"/Users/jtsiros93/Documents/llm_bench/week03/gpt-top-check-2\"\n",
    "csv_files = glob.glob(os.path.join(data_path, \"*.csv\"))\n",
    "\n",
    "results = []\n",
    "\n",
    "for file in csv_files:\n",
    "    df = pd.read_csv(file)\n",
    "    fname = os.path.splitext(os.path.basename(file))[0]\n",
    "\n",
    "    # Extract top_p with regex\n",
    "    match_p = re.search(r\"_P([0-9.]+)\", fname)\n",
    "    if not match_p:\n",
    "        continue\n",
    "    top_p = float(match_p.group(1))\n",
    "\n",
    "    # Extract model with regex\n",
    "    match_model = re.search(r\"res_base_(.*?)_T\", fname)\n",
    "    if not match_model:\n",
    "        continue\n",
    "    model = match_model.group(1)\n",
    "\n",
    "    mean_score = df[\"Normalized\"].mean()\n",
    "\n",
    "    results.append({\n",
    "        \"top_p\": top_p,\n",
    "        \"model\": model,\n",
    "        \"mean_score\": mean_score\n",
    "    })\n",
    "\n",
    "perf_data = pd.DataFrame(results)\n",
    "if perf_data.empty:\n",
    "    raise ValueError(\"No data extracted. Check filename parsing.\")\n",
    "\n",
    "# === Step 2: Compute fairness summary ===\n",
    "summary = perf_data.groupby([\"model\", \"top_p\"]).agg(\n",
    "    mean_M=(\"mean_score\", \"mean\"),\n",
    "    std_D=(\"mean_score\", \"std\")\n",
    ").reset_index()\n",
    "\n",
    "a = 0.5  # fairness weight\n",
    "summary[\"Oa\"] = summary[\"mean_M\"] - a * summary[\"std_D\"]\n",
    "\n",
    "# === Step 3: Plot trends and best points ===\n",
    "fig = px.line(\n",
    "    summary.sort_values(\"top_p\"),\n",
    "    x=\"top_p\",\n",
    "    y=\"Oa\",\n",
    "    color=\"model\",\n",
    "    markers=True,\n",
    "    title=\"Fairness Objective Oa(t) by Top-p (per model)\"\n",
    ")\n",
    "\n",
    "# Find best top_p per model\n",
    "best_points = summary.loc[summary.groupby(\"model\")[\"Oa\"].idxmax()]\n",
    "\n",
    "fig.add_trace(go.Scatter(\n",
    "    x=best_points[\"top_p\"],\n",
    "    y=best_points[\"Oa\"],\n",
    "    mode=\"markers+text\",\n",
    "    marker=dict(color=\"red\", size=14, symbol=\"star\"),\n",
    "    text=best_points[\"model\"],\n",
    "    textposition=\"top center\",\n",
    "    name=\"Best per model\"\n",
    "))\n",
    "\n",
    "fig.update_traces(\n",
    "    hovertemplate=\"top_p=%{x}<br>Oa=%{y:.3f}\"\n",
    ")\n",
    "\n",
    "fig.show()\n"
   ]
  },
  {
   "cell_type": "code",
   "execution_count": 84,
   "id": "631165cc",
   "metadata": {},
   "outputs": [
    {
     "name": "stdout",
     "output_type": "stream",
     "text": [
      "🌟 Best global top_p: 0.4\n",
      "top_p     0.400000\n",
      "mean_M    0.341703\n",
      "std_D     0.332185\n",
      "Oa        0.341703\n",
      "Name: 4, dtype: float64\n"
     ]
    },
    {
     "data": {
      "application/vnd.plotly.v1+json": {
       "config": {
        "plotlyServerURL": "https://plot.ly"
       },
       "data": [
        {
         "hovertemplate": "top_p=%{x}<br>Oa=%{y:.3f}",
         "legendgroup": "",
         "line": {
          "color": "#636efa",
          "dash": "solid"
         },
         "marker": {
          "symbol": "circle"
         },
         "mode": "lines+markers",
         "name": "",
         "orientation": "v",
         "showlegend": false,
         "type": "scatter",
         "x": {
          "bdata": "AAAAAAAAAACamZmZmZm5P5qZmZmZmck/MzMzMzMz0z+amZmZmZnZPwAAAAAAAOA/MzMzMzMz4z9mZmZmZmbmP5qZmZmZmek/zczMzMzM7D8AAAAAAADwPw==",
          "dtype": "f8"
         },
         "xaxis": "x",
         "y": {
          "bdata": "gA7z5QVY1T9L58OzBJnVP2HD0ytlmdU/EeFfBI2Z1T88iJ0pdN7VP1A5Jov7j9U/N1DgnXx61T/ql4i3zj/VP2CQ9GkV/dQ/G7eYnxua1T+SfCWQEjvVPw==",
          "dtype": "f8"
         },
         "yaxis": "y"
        },
        {
         "hovertemplate": "top_p=%{x}<br>Oa=%{y:.3f}",
         "marker": {
          "color": "red",
          "size": 14,
          "symbol": "star"
         },
         "mode": "markers+text",
         "name": "Best global top_p",
         "text": [
          "Best"
         ],
         "textposition": "top center",
         "type": "scatter",
         "x": [
          0.4
         ],
         "y": [
          0.3417025
         ]
        }
       ],
       "layout": {
        "legend": {
         "tracegroupgap": 0
        },
        "template": {
         "data": {
          "bar": [
           {
            "error_x": {
             "color": "#2a3f5f"
            },
            "error_y": {
             "color": "#2a3f5f"
            },
            "marker": {
             "line": {
              "color": "#E5ECF6",
              "width": 0.5
             },
             "pattern": {
              "fillmode": "overlay",
              "size": 10,
              "solidity": 0.2
             }
            },
            "type": "bar"
           }
          ],
          "barpolar": [
           {
            "marker": {
             "line": {
              "color": "#E5ECF6",
              "width": 0.5
             },
             "pattern": {
              "fillmode": "overlay",
              "size": 10,
              "solidity": 0.2
             }
            },
            "type": "barpolar"
           }
          ],
          "carpet": [
           {
            "aaxis": {
             "endlinecolor": "#2a3f5f",
             "gridcolor": "white",
             "linecolor": "white",
             "minorgridcolor": "white",
             "startlinecolor": "#2a3f5f"
            },
            "baxis": {
             "endlinecolor": "#2a3f5f",
             "gridcolor": "white",
             "linecolor": "white",
             "minorgridcolor": "white",
             "startlinecolor": "#2a3f5f"
            },
            "type": "carpet"
           }
          ],
          "choropleth": [
           {
            "colorbar": {
             "outlinewidth": 0,
             "ticks": ""
            },
            "type": "choropleth"
           }
          ],
          "contour": [
           {
            "colorbar": {
             "outlinewidth": 0,
             "ticks": ""
            },
            "colorscale": [
             [
              0,
              "#0d0887"
             ],
             [
              0.1111111111111111,
              "#46039f"
             ],
             [
              0.2222222222222222,
              "#7201a8"
             ],
             [
              0.3333333333333333,
              "#9c179e"
             ],
             [
              0.4444444444444444,
              "#bd3786"
             ],
             [
              0.5555555555555556,
              "#d8576b"
             ],
             [
              0.6666666666666666,
              "#ed7953"
             ],
             [
              0.7777777777777778,
              "#fb9f3a"
             ],
             [
              0.8888888888888888,
              "#fdca26"
             ],
             [
              1,
              "#f0f921"
             ]
            ],
            "type": "contour"
           }
          ],
          "contourcarpet": [
           {
            "colorbar": {
             "outlinewidth": 0,
             "ticks": ""
            },
            "type": "contourcarpet"
           }
          ],
          "heatmap": [
           {
            "colorbar": {
             "outlinewidth": 0,
             "ticks": ""
            },
            "colorscale": [
             [
              0,
              "#0d0887"
             ],
             [
              0.1111111111111111,
              "#46039f"
             ],
             [
              0.2222222222222222,
              "#7201a8"
             ],
             [
              0.3333333333333333,
              "#9c179e"
             ],
             [
              0.4444444444444444,
              "#bd3786"
             ],
             [
              0.5555555555555556,
              "#d8576b"
             ],
             [
              0.6666666666666666,
              "#ed7953"
             ],
             [
              0.7777777777777778,
              "#fb9f3a"
             ],
             [
              0.8888888888888888,
              "#fdca26"
             ],
             [
              1,
              "#f0f921"
             ]
            ],
            "type": "heatmap"
           }
          ],
          "histogram": [
           {
            "marker": {
             "pattern": {
              "fillmode": "overlay",
              "size": 10,
              "solidity": 0.2
             }
            },
            "type": "histogram"
           }
          ],
          "histogram2d": [
           {
            "colorbar": {
             "outlinewidth": 0,
             "ticks": ""
            },
            "colorscale": [
             [
              0,
              "#0d0887"
             ],
             [
              0.1111111111111111,
              "#46039f"
             ],
             [
              0.2222222222222222,
              "#7201a8"
             ],
             [
              0.3333333333333333,
              "#9c179e"
             ],
             [
              0.4444444444444444,
              "#bd3786"
             ],
             [
              0.5555555555555556,
              "#d8576b"
             ],
             [
              0.6666666666666666,
              "#ed7953"
             ],
             [
              0.7777777777777778,
              "#fb9f3a"
             ],
             [
              0.8888888888888888,
              "#fdca26"
             ],
             [
              1,
              "#f0f921"
             ]
            ],
            "type": "histogram2d"
           }
          ],
          "histogram2dcontour": [
           {
            "colorbar": {
             "outlinewidth": 0,
             "ticks": ""
            },
            "colorscale": [
             [
              0,
              "#0d0887"
             ],
             [
              0.1111111111111111,
              "#46039f"
             ],
             [
              0.2222222222222222,
              "#7201a8"
             ],
             [
              0.3333333333333333,
              "#9c179e"
             ],
             [
              0.4444444444444444,
              "#bd3786"
             ],
             [
              0.5555555555555556,
              "#d8576b"
             ],
             [
              0.6666666666666666,
              "#ed7953"
             ],
             [
              0.7777777777777778,
              "#fb9f3a"
             ],
             [
              0.8888888888888888,
              "#fdca26"
             ],
             [
              1,
              "#f0f921"
             ]
            ],
            "type": "histogram2dcontour"
           }
          ],
          "mesh3d": [
           {
            "colorbar": {
             "outlinewidth": 0,
             "ticks": ""
            },
            "type": "mesh3d"
           }
          ],
          "parcoords": [
           {
            "line": {
             "colorbar": {
              "outlinewidth": 0,
              "ticks": ""
             }
            },
            "type": "parcoords"
           }
          ],
          "pie": [
           {
            "automargin": true,
            "type": "pie"
           }
          ],
          "scatter": [
           {
            "fillpattern": {
             "fillmode": "overlay",
             "size": 10,
             "solidity": 0.2
            },
            "type": "scatter"
           }
          ],
          "scatter3d": [
           {
            "line": {
             "colorbar": {
              "outlinewidth": 0,
              "ticks": ""
             }
            },
            "marker": {
             "colorbar": {
              "outlinewidth": 0,
              "ticks": ""
             }
            },
            "type": "scatter3d"
           }
          ],
          "scattercarpet": [
           {
            "marker": {
             "colorbar": {
              "outlinewidth": 0,
              "ticks": ""
             }
            },
            "type": "scattercarpet"
           }
          ],
          "scattergeo": [
           {
            "marker": {
             "colorbar": {
              "outlinewidth": 0,
              "ticks": ""
             }
            },
            "type": "scattergeo"
           }
          ],
          "scattergl": [
           {
            "marker": {
             "colorbar": {
              "outlinewidth": 0,
              "ticks": ""
             }
            },
            "type": "scattergl"
           }
          ],
          "scattermap": [
           {
            "marker": {
             "colorbar": {
              "outlinewidth": 0,
              "ticks": ""
             }
            },
            "type": "scattermap"
           }
          ],
          "scattermapbox": [
           {
            "marker": {
             "colorbar": {
              "outlinewidth": 0,
              "ticks": ""
             }
            },
            "type": "scattermapbox"
           }
          ],
          "scatterpolar": [
           {
            "marker": {
             "colorbar": {
              "outlinewidth": 0,
              "ticks": ""
             }
            },
            "type": "scatterpolar"
           }
          ],
          "scatterpolargl": [
           {
            "marker": {
             "colorbar": {
              "outlinewidth": 0,
              "ticks": ""
             }
            },
            "type": "scatterpolargl"
           }
          ],
          "scatterternary": [
           {
            "marker": {
             "colorbar": {
              "outlinewidth": 0,
              "ticks": ""
             }
            },
            "type": "scatterternary"
           }
          ],
          "surface": [
           {
            "colorbar": {
             "outlinewidth": 0,
             "ticks": ""
            },
            "colorscale": [
             [
              0,
              "#0d0887"
             ],
             [
              0.1111111111111111,
              "#46039f"
             ],
             [
              0.2222222222222222,
              "#7201a8"
             ],
             [
              0.3333333333333333,
              "#9c179e"
             ],
             [
              0.4444444444444444,
              "#bd3786"
             ],
             [
              0.5555555555555556,
              "#d8576b"
             ],
             [
              0.6666666666666666,
              "#ed7953"
             ],
             [
              0.7777777777777778,
              "#fb9f3a"
             ],
             [
              0.8888888888888888,
              "#fdca26"
             ],
             [
              1,
              "#f0f921"
             ]
            ],
            "type": "surface"
           }
          ],
          "table": [
           {
            "cells": {
             "fill": {
              "color": "#EBF0F8"
             },
             "line": {
              "color": "white"
             }
            },
            "header": {
             "fill": {
              "color": "#C8D4E3"
             },
             "line": {
              "color": "white"
             }
            },
            "type": "table"
           }
          ]
         },
         "layout": {
          "annotationdefaults": {
           "arrowcolor": "#2a3f5f",
           "arrowhead": 0,
           "arrowwidth": 1
          },
          "autotypenumbers": "strict",
          "coloraxis": {
           "colorbar": {
            "outlinewidth": 0,
            "ticks": ""
           }
          },
          "colorscale": {
           "diverging": [
            [
             0,
             "#8e0152"
            ],
            [
             0.1,
             "#c51b7d"
            ],
            [
             0.2,
             "#de77ae"
            ],
            [
             0.3,
             "#f1b6da"
            ],
            [
             0.4,
             "#fde0ef"
            ],
            [
             0.5,
             "#f7f7f7"
            ],
            [
             0.6,
             "#e6f5d0"
            ],
            [
             0.7,
             "#b8e186"
            ],
            [
             0.8,
             "#7fbc41"
            ],
            [
             0.9,
             "#4d9221"
            ],
            [
             1,
             "#276419"
            ]
           ],
           "sequential": [
            [
             0,
             "#0d0887"
            ],
            [
             0.1111111111111111,
             "#46039f"
            ],
            [
             0.2222222222222222,
             "#7201a8"
            ],
            [
             0.3333333333333333,
             "#9c179e"
            ],
            [
             0.4444444444444444,
             "#bd3786"
            ],
            [
             0.5555555555555556,
             "#d8576b"
            ],
            [
             0.6666666666666666,
             "#ed7953"
            ],
            [
             0.7777777777777778,
             "#fb9f3a"
            ],
            [
             0.8888888888888888,
             "#fdca26"
            ],
            [
             1,
             "#f0f921"
            ]
           ],
           "sequentialminus": [
            [
             0,
             "#0d0887"
            ],
            [
             0.1111111111111111,
             "#46039f"
            ],
            [
             0.2222222222222222,
             "#7201a8"
            ],
            [
             0.3333333333333333,
             "#9c179e"
            ],
            [
             0.4444444444444444,
             "#bd3786"
            ],
            [
             0.5555555555555556,
             "#d8576b"
            ],
            [
             0.6666666666666666,
             "#ed7953"
            ],
            [
             0.7777777777777778,
             "#fb9f3a"
            ],
            [
             0.8888888888888888,
             "#fdca26"
            ],
            [
             1,
             "#f0f921"
            ]
           ]
          },
          "colorway": [
           "#636efa",
           "#EF553B",
           "#00cc96",
           "#ab63fa",
           "#FFA15A",
           "#19d3f3",
           "#FF6692",
           "#B6E880",
           "#FF97FF",
           "#FECB52"
          ],
          "font": {
           "color": "#2a3f5f"
          },
          "geo": {
           "bgcolor": "white",
           "lakecolor": "white",
           "landcolor": "#E5ECF6",
           "showlakes": true,
           "showland": true,
           "subunitcolor": "white"
          },
          "hoverlabel": {
           "align": "left"
          },
          "hovermode": "closest",
          "mapbox": {
           "style": "light"
          },
          "paper_bgcolor": "white",
          "plot_bgcolor": "#E5ECF6",
          "polar": {
           "angularaxis": {
            "gridcolor": "white",
            "linecolor": "white",
            "ticks": ""
           },
           "bgcolor": "#E5ECF6",
           "radialaxis": {
            "gridcolor": "white",
            "linecolor": "white",
            "ticks": ""
           }
          },
          "scene": {
           "xaxis": {
            "backgroundcolor": "#E5ECF6",
            "gridcolor": "white",
            "gridwidth": 2,
            "linecolor": "white",
            "showbackground": true,
            "ticks": "",
            "zerolinecolor": "white"
           },
           "yaxis": {
            "backgroundcolor": "#E5ECF6",
            "gridcolor": "white",
            "gridwidth": 2,
            "linecolor": "white",
            "showbackground": true,
            "ticks": "",
            "zerolinecolor": "white"
           },
           "zaxis": {
            "backgroundcolor": "#E5ECF6",
            "gridcolor": "white",
            "gridwidth": 2,
            "linecolor": "white",
            "showbackground": true,
            "ticks": "",
            "zerolinecolor": "white"
           }
          },
          "shapedefaults": {
           "line": {
            "color": "#2a3f5f"
           }
          },
          "ternary": {
           "aaxis": {
            "gridcolor": "white",
            "linecolor": "white",
            "ticks": ""
           },
           "baxis": {
            "gridcolor": "white",
            "linecolor": "white",
            "ticks": ""
           },
           "bgcolor": "#E5ECF6",
           "caxis": {
            "gridcolor": "white",
            "linecolor": "white",
            "ticks": ""
           }
          },
          "title": {
           "x": 0.05
          },
          "xaxis": {
           "automargin": true,
           "gridcolor": "white",
           "linecolor": "white",
           "ticks": "",
           "title": {
            "standoff": 15
           },
           "zerolinecolor": "white",
           "zerolinewidth": 2
          },
          "yaxis": {
           "automargin": true,
           "gridcolor": "white",
           "linecolor": "white",
           "ticks": "",
           "title": {
            "standoff": 15
           },
           "zerolinecolor": "white",
           "zerolinewidth": 2
          }
         }
        },
        "title": {
         "text": "Aggregated Fairness Objective Oa(t) by Top-p (All Models Combined)"
        },
        "xaxis": {
         "anchor": "y",
         "domain": [
          0,
          1
         ],
         "title": {
          "text": "top_p"
         }
        },
        "yaxis": {
         "anchor": "x",
         "domain": [
          0,
          1
         ],
         "title": {
          "text": "Oa"
         }
        }
       }
      }
     },
     "metadata": {},
     "output_type": "display_data"
    }
   ],
   "source": [
    "import pandas as pd\n",
    "import glob\n",
    "import os\n",
    "import re\n",
    "import plotly.express as px\n",
    "import plotly.graph_objects as go\n",
    "\n",
    "# === Step 1: Load data and extract fields ===\n",
    "data_path = \"/Users/jtsiros93/Documents/llm_bench/week03/gpt-top-check-2\"\n",
    "csv_files = glob.glob(os.path.join(data_path, \"*.csv\"))\n",
    "\n",
    "results = []\n",
    "\n",
    "for file in csv_files:\n",
    "    df = pd.read_csv(file)\n",
    "    fname = os.path.splitext(os.path.basename(file))[0]\n",
    "\n",
    "    # Extract top_p with regex\n",
    "    match_p = re.search(r\"_P([0-9.]+)\", fname)\n",
    "    if not match_p:\n",
    "        continue\n",
    "    top_p = float(match_p.group(1))\n",
    "\n",
    "    # Extract model with regex\n",
    "    match_model = re.search(r\"res_base_(.*?)_T\", fname)\n",
    "    if not match_model:\n",
    "        continue\n",
    "    model = match_model.group(1)\n",
    "\n",
    "    mean_score = df[\"Normalized\"].mean()\n",
    "\n",
    "    results.append({\n",
    "        \"top_p\": top_p,\n",
    "        \"model\": model,\n",
    "        \"mean_score\": mean_score\n",
    "    })\n",
    "\n",
    "perf_data = pd.DataFrame(results)\n",
    "if perf_data.empty:\n",
    "    raise ValueError(\"No data extracted. Check filename parsing.\")\n",
    "\n",
    "# === Step 2: Compute aggregated fairness (across models) ===\n",
    "a = 0\n",
    "  # fairness trade-off weight\n",
    "\n",
    "combined = perf_data.groupby(\"top_p\").agg(\n",
    "    mean_M=(\"mean_score\", \"mean\"),\n",
    "    std_D=(\"mean_score\", \"std\")\n",
    ").reset_index()\n",
    "\n",
    "combined[\"Oa\"] = combined[\"mean_M\"] - a * combined[\"std_D\"]\n",
    "\n",
    "# Find best global top_p\n",
    "best_row = combined.loc[combined[\"Oa\"].idxmax()]\n",
    "print(\"🌟 Best global top_p:\", best_row[\"top_p\"])\n",
    "print(best_row)\n",
    "\n",
    "# === Step 3: Plot aggregated fairness ===\n",
    "fig = px.line(\n",
    "    combined.sort_values(\"top_p\"),\n",
    "    x=\"top_p\",\n",
    "    y=\"Oa\",\n",
    "    markers=True,\n",
    "    title=\"Aggregated Fairness Objective Oa(t) by Top-p (All Models Combined)\"\n",
    ")\n",
    "\n",
    "# Highlight best point\n",
    "fig.add_trace(go.Scatter(\n",
    "    x=[best_row[\"top_p\"]],\n",
    "    y=[best_row[\"Oa\"]],\n",
    "    mode=\"markers+text\",\n",
    "    marker=dict(color=\"red\", size=14, symbol=\"star\"),\n",
    "    text=[\"Best\"],\n",
    "    textposition=\"top center\",\n",
    "    name=\"Best global top_p\"\n",
    "))\n",
    "\n",
    "fig.update_traces(\n",
    "    hovertemplate=\"top_p=%{x}<br>Oa=%{y:.3f}\"\n",
    ")\n",
    "\n",
    "fig.show()\n"
   ]
  },
  {
   "cell_type": "code",
   "execution_count": 95,
   "id": "d542dbd7",
   "metadata": {},
   "outputs": [
    {
     "data": {
      "application/vnd.plotly.v1+json": {
       "config": {
        "plotlyServerURL": "https://plot.ly"
       },
       "data": [
        {
         "hovertemplate": "a=%{color}<br>top_p=%{x}<br>Oa=%{y:.3f}",
         "legendgroup": "0.0",
         "line": {
          "color": "#636efa",
          "dash": "solid"
         },
         "marker": {
          "symbol": "circle"
         },
         "mode": "lines+markers",
         "name": "0.0",
         "orientation": "v",
         "showlegend": true,
         "type": "scatter",
         "x": {
          "bdata": "AAAAAAAAAACamZmZmZm5P5qZmZmZmck/MzMzMzMz0z+amZmZmZnZPwAAAAAAAOA/MzMzMzMz4z9mZmZmZmbmP5qZmZmZmek/zczMzMzM7D8AAAAAAADwPw==",
          "dtype": "f8"
         },
         "xaxis": "x",
         "y": {
          "bdata": "gA7z5QVY1T9L58OzBJnVP2HD0ytlmdU/EeFfBI2Z1T88iJ0pdN7VP1A5Jov7j9U/N1DgnXx61T/ql4i3zj/VP2CQ9GkV/dQ/G7eYnxua1T+SfCWQEjvVPw==",
          "dtype": "f8"
         },
         "yaxis": "y"
        },
        {
         "hovertemplate": "a=%{color}<br>top_p=%{x}<br>Oa=%{y:.3f}",
         "legendgroup": "0.5",
         "line": {
          "color": "#EF553B",
          "dash": "solid"
         },
         "marker": {
          "symbol": "circle"
         },
         "mode": "lines+markers",
         "name": "0.5",
         "orientation": "v",
         "showlegend": true,
         "type": "scatter",
         "x": {
          "bdata": "AAAAAAAAAACamZmZmZm5P5qZmZmZmck/MzMzMzMz0z+amZmZmZnZPwAAAAAAAOA/MzMzMzMz4z9mZmZmZmbmP5qZmZmZmek/zczMzMzM7D8AAAAAAADwPw==",
          "dtype": "f8"
         },
         "xaxis": "x",
         "y": {
          "bdata": "kRe2R70zxz/OpqdR4bTFP+ccuooGpcU/qyGCIaHGxT+4ODVhYXrGP6YxQtokX8Y/48BgQjhYxj8SeQlglNTFP+TTJYp6n8U/LsWcuCSbxz/KdhEJw5vGPw==",
          "dtype": "f8"
         },
         "yaxis": "y"
        },
        {
         "hovertemplate": "a=%{color}<br>top_p=%{x}<br>Oa=%{y:.3f}",
         "legendgroup": "1.0",
         "line": {
          "color": "#00cc96",
          "dash": "solid"
         },
         "marker": {
          "symbol": "circle"
         },
         "mode": "lines+markers",
         "name": "1.0",
         "orientation": "v",
         "showlegend": true,
         "type": "scatter",
         "x": {
          "bdata": "AAAAAAAAAACamZmZmZm5P5qZmZmZmck/MzMzMzMz0z+amZmZmZnZPwAAAAAAAOA/MzMzMzMz4z9mZmZmZmbmP5qZmZmZmek/zczMzMzM7D8AAAAAAADwPw==",
          "dtype": "f8"
         },
         "xaxis": "x",
         "y": {
          "bdata": "EJEwHHa7nT8Ag7/jndxbPwAMs8y9Qkc/AE0gkQ6KZj+AD/bypn2DP8AKf+Mp5Yk/gBUOkHS3iz8AJRwQtZiCP4BwKAakTIQ/mHAgyEgIoD+Ao7+OBwuWPw==",
          "dtype": "f8"
         },
         "yaxis": "y"
        },
        {
         "hovertemplate": "a=%{color}<br>top_p=%{x}<br>Oa=%{y:.3f}",
         "legendgroup": "2.0",
         "line": {
          "color": "#ab63fa",
          "dash": "solid"
         },
         "marker": {
          "symbol": "circle"
         },
         "mode": "lines+markers",
         "name": "2.0",
         "orientation": "v",
         "showlegend": true,
         "type": "scatter",
         "x": {
          "bdata": "AAAAAAAAAACamZmZmZm5P5qZmZmZmck/MzMzMzMz0z+amZmZmZnZPwAAAAAAAOA/MzMzMzMz4z9mZmZmZmbmP5qZmZmZmek/zczMzMzM7D8AAAAAAADwPw==",
          "dtype": "f8"
         },
         "xaxis": "x",
         "y": {
          "bdata": "XvxsIpeg0b9FaPx3S2HVv1UQB24igtW/3V8bymQ/1b9EJ266mabUv6RI7uyo8dO/327fVAW/07+a1YZmQxbUv1gJkilLuNO/9ZqQbQmY0b8iiE2esXnSvw==",
          "dtype": "f8"
         },
         "yaxis": "y"
        },
        {
         "hovertemplate": "a=%{color}<br>top_p=%{x}<br>Oa=%{y:.3f}",
         "legendgroup": "3.0",
         "line": {
          "color": "#FFA15A",
          "dash": "solid"
         },
         "marker": {
          "symbol": "circle"
         },
         "mode": "lines+markers",
         "name": "3.0",
         "orientation": "v",
         "showlegend": true,
         "type": "scatter",
         "x": {
          "bdata": "AAAAAAAAAACamZmZmZm5P5qZmZmZmck/MzMzMzMz0z+amZmZmZnZPwAAAAAAAOA/MzMzMzMz4z9mZmZmZmbmP5qZmZmZmek/zczMzMzM7D8AAAAAAADwPw==",
          "dtype": "f8"
         },
         "xaxis": "x",
         "y": {
          "bdata": "5oBO03KO4r8GSO7GOW/lvxg9eh3zh+W/KoCs2O5V5b+C/zlWkPTkv89EfJQ9WeS/NKcfJ+Mt5L8uRsc6pmDkvxqrqrl9CeS//qES+o2Y4r8+hcPaCSrjvw==",
          "dtype": "f8"
         },
         "yaxis": "y"
        }
       ],
       "layout": {
        "legend": {
         "title": {
          "text": "a"
         },
         "tracegroupgap": 0
        },
        "template": {
         "data": {
          "bar": [
           {
            "error_x": {
             "color": "#2a3f5f"
            },
            "error_y": {
             "color": "#2a3f5f"
            },
            "marker": {
             "line": {
              "color": "#E5ECF6",
              "width": 0.5
             },
             "pattern": {
              "fillmode": "overlay",
              "size": 10,
              "solidity": 0.2
             }
            },
            "type": "bar"
           }
          ],
          "barpolar": [
           {
            "marker": {
             "line": {
              "color": "#E5ECF6",
              "width": 0.5
             },
             "pattern": {
              "fillmode": "overlay",
              "size": 10,
              "solidity": 0.2
             }
            },
            "type": "barpolar"
           }
          ],
          "carpet": [
           {
            "aaxis": {
             "endlinecolor": "#2a3f5f",
             "gridcolor": "white",
             "linecolor": "white",
             "minorgridcolor": "white",
             "startlinecolor": "#2a3f5f"
            },
            "baxis": {
             "endlinecolor": "#2a3f5f",
             "gridcolor": "white",
             "linecolor": "white",
             "minorgridcolor": "white",
             "startlinecolor": "#2a3f5f"
            },
            "type": "carpet"
           }
          ],
          "choropleth": [
           {
            "colorbar": {
             "outlinewidth": 0,
             "ticks": ""
            },
            "type": "choropleth"
           }
          ],
          "contour": [
           {
            "colorbar": {
             "outlinewidth": 0,
             "ticks": ""
            },
            "colorscale": [
             [
              0,
              "#0d0887"
             ],
             [
              0.1111111111111111,
              "#46039f"
             ],
             [
              0.2222222222222222,
              "#7201a8"
             ],
             [
              0.3333333333333333,
              "#9c179e"
             ],
             [
              0.4444444444444444,
              "#bd3786"
             ],
             [
              0.5555555555555556,
              "#d8576b"
             ],
             [
              0.6666666666666666,
              "#ed7953"
             ],
             [
              0.7777777777777778,
              "#fb9f3a"
             ],
             [
              0.8888888888888888,
              "#fdca26"
             ],
             [
              1,
              "#f0f921"
             ]
            ],
            "type": "contour"
           }
          ],
          "contourcarpet": [
           {
            "colorbar": {
             "outlinewidth": 0,
             "ticks": ""
            },
            "type": "contourcarpet"
           }
          ],
          "heatmap": [
           {
            "colorbar": {
             "outlinewidth": 0,
             "ticks": ""
            },
            "colorscale": [
             [
              0,
              "#0d0887"
             ],
             [
              0.1111111111111111,
              "#46039f"
             ],
             [
              0.2222222222222222,
              "#7201a8"
             ],
             [
              0.3333333333333333,
              "#9c179e"
             ],
             [
              0.4444444444444444,
              "#bd3786"
             ],
             [
              0.5555555555555556,
              "#d8576b"
             ],
             [
              0.6666666666666666,
              "#ed7953"
             ],
             [
              0.7777777777777778,
              "#fb9f3a"
             ],
             [
              0.8888888888888888,
              "#fdca26"
             ],
             [
              1,
              "#f0f921"
             ]
            ],
            "type": "heatmap"
           }
          ],
          "histogram": [
           {
            "marker": {
             "pattern": {
              "fillmode": "overlay",
              "size": 10,
              "solidity": 0.2
             }
            },
            "type": "histogram"
           }
          ],
          "histogram2d": [
           {
            "colorbar": {
             "outlinewidth": 0,
             "ticks": ""
            },
            "colorscale": [
             [
              0,
              "#0d0887"
             ],
             [
              0.1111111111111111,
              "#46039f"
             ],
             [
              0.2222222222222222,
              "#7201a8"
             ],
             [
              0.3333333333333333,
              "#9c179e"
             ],
             [
              0.4444444444444444,
              "#bd3786"
             ],
             [
              0.5555555555555556,
              "#d8576b"
             ],
             [
              0.6666666666666666,
              "#ed7953"
             ],
             [
              0.7777777777777778,
              "#fb9f3a"
             ],
             [
              0.8888888888888888,
              "#fdca26"
             ],
             [
              1,
              "#f0f921"
             ]
            ],
            "type": "histogram2d"
           }
          ],
          "histogram2dcontour": [
           {
            "colorbar": {
             "outlinewidth": 0,
             "ticks": ""
            },
            "colorscale": [
             [
              0,
              "#0d0887"
             ],
             [
              0.1111111111111111,
              "#46039f"
             ],
             [
              0.2222222222222222,
              "#7201a8"
             ],
             [
              0.3333333333333333,
              "#9c179e"
             ],
             [
              0.4444444444444444,
              "#bd3786"
             ],
             [
              0.5555555555555556,
              "#d8576b"
             ],
             [
              0.6666666666666666,
              "#ed7953"
             ],
             [
              0.7777777777777778,
              "#fb9f3a"
             ],
             [
              0.8888888888888888,
              "#fdca26"
             ],
             [
              1,
              "#f0f921"
             ]
            ],
            "type": "histogram2dcontour"
           }
          ],
          "mesh3d": [
           {
            "colorbar": {
             "outlinewidth": 0,
             "ticks": ""
            },
            "type": "mesh3d"
           }
          ],
          "parcoords": [
           {
            "line": {
             "colorbar": {
              "outlinewidth": 0,
              "ticks": ""
             }
            },
            "type": "parcoords"
           }
          ],
          "pie": [
           {
            "automargin": true,
            "type": "pie"
           }
          ],
          "scatter": [
           {
            "fillpattern": {
             "fillmode": "overlay",
             "size": 10,
             "solidity": 0.2
            },
            "type": "scatter"
           }
          ],
          "scatter3d": [
           {
            "line": {
             "colorbar": {
              "outlinewidth": 0,
              "ticks": ""
             }
            },
            "marker": {
             "colorbar": {
              "outlinewidth": 0,
              "ticks": ""
             }
            },
            "type": "scatter3d"
           }
          ],
          "scattercarpet": [
           {
            "marker": {
             "colorbar": {
              "outlinewidth": 0,
              "ticks": ""
             }
            },
            "type": "scattercarpet"
           }
          ],
          "scattergeo": [
           {
            "marker": {
             "colorbar": {
              "outlinewidth": 0,
              "ticks": ""
             }
            },
            "type": "scattergeo"
           }
          ],
          "scattergl": [
           {
            "marker": {
             "colorbar": {
              "outlinewidth": 0,
              "ticks": ""
             }
            },
            "type": "scattergl"
           }
          ],
          "scattermap": [
           {
            "marker": {
             "colorbar": {
              "outlinewidth": 0,
              "ticks": ""
             }
            },
            "type": "scattermap"
           }
          ],
          "scattermapbox": [
           {
            "marker": {
             "colorbar": {
              "outlinewidth": 0,
              "ticks": ""
             }
            },
            "type": "scattermapbox"
           }
          ],
          "scatterpolar": [
           {
            "marker": {
             "colorbar": {
              "outlinewidth": 0,
              "ticks": ""
             }
            },
            "type": "scatterpolar"
           }
          ],
          "scatterpolargl": [
           {
            "marker": {
             "colorbar": {
              "outlinewidth": 0,
              "ticks": ""
             }
            },
            "type": "scatterpolargl"
           }
          ],
          "scatterternary": [
           {
            "marker": {
             "colorbar": {
              "outlinewidth": 0,
              "ticks": ""
             }
            },
            "type": "scatterternary"
           }
          ],
          "surface": [
           {
            "colorbar": {
             "outlinewidth": 0,
             "ticks": ""
            },
            "colorscale": [
             [
              0,
              "#0d0887"
             ],
             [
              0.1111111111111111,
              "#46039f"
             ],
             [
              0.2222222222222222,
              "#7201a8"
             ],
             [
              0.3333333333333333,
              "#9c179e"
             ],
             [
              0.4444444444444444,
              "#bd3786"
             ],
             [
              0.5555555555555556,
              "#d8576b"
             ],
             [
              0.6666666666666666,
              "#ed7953"
             ],
             [
              0.7777777777777778,
              "#fb9f3a"
             ],
             [
              0.8888888888888888,
              "#fdca26"
             ],
             [
              1,
              "#f0f921"
             ]
            ],
            "type": "surface"
           }
          ],
          "table": [
           {
            "cells": {
             "fill": {
              "color": "#EBF0F8"
             },
             "line": {
              "color": "white"
             }
            },
            "header": {
             "fill": {
              "color": "#C8D4E3"
             },
             "line": {
              "color": "white"
             }
            },
            "type": "table"
           }
          ]
         },
         "layout": {
          "annotationdefaults": {
           "arrowcolor": "#2a3f5f",
           "arrowhead": 0,
           "arrowwidth": 1
          },
          "autotypenumbers": "strict",
          "coloraxis": {
           "colorbar": {
            "outlinewidth": 0,
            "ticks": ""
           }
          },
          "colorscale": {
           "diverging": [
            [
             0,
             "#8e0152"
            ],
            [
             0.1,
             "#c51b7d"
            ],
            [
             0.2,
             "#de77ae"
            ],
            [
             0.3,
             "#f1b6da"
            ],
            [
             0.4,
             "#fde0ef"
            ],
            [
             0.5,
             "#f7f7f7"
            ],
            [
             0.6,
             "#e6f5d0"
            ],
            [
             0.7,
             "#b8e186"
            ],
            [
             0.8,
             "#7fbc41"
            ],
            [
             0.9,
             "#4d9221"
            ],
            [
             1,
             "#276419"
            ]
           ],
           "sequential": [
            [
             0,
             "#0d0887"
            ],
            [
             0.1111111111111111,
             "#46039f"
            ],
            [
             0.2222222222222222,
             "#7201a8"
            ],
            [
             0.3333333333333333,
             "#9c179e"
            ],
            [
             0.4444444444444444,
             "#bd3786"
            ],
            [
             0.5555555555555556,
             "#d8576b"
            ],
            [
             0.6666666666666666,
             "#ed7953"
            ],
            [
             0.7777777777777778,
             "#fb9f3a"
            ],
            [
             0.8888888888888888,
             "#fdca26"
            ],
            [
             1,
             "#f0f921"
            ]
           ],
           "sequentialminus": [
            [
             0,
             "#0d0887"
            ],
            [
             0.1111111111111111,
             "#46039f"
            ],
            [
             0.2222222222222222,
             "#7201a8"
            ],
            [
             0.3333333333333333,
             "#9c179e"
            ],
            [
             0.4444444444444444,
             "#bd3786"
            ],
            [
             0.5555555555555556,
             "#d8576b"
            ],
            [
             0.6666666666666666,
             "#ed7953"
            ],
            [
             0.7777777777777778,
             "#fb9f3a"
            ],
            [
             0.8888888888888888,
             "#fdca26"
            ],
            [
             1,
             "#f0f921"
            ]
           ]
          },
          "colorway": [
           "#636efa",
           "#EF553B",
           "#00cc96",
           "#ab63fa",
           "#FFA15A",
           "#19d3f3",
           "#FF6692",
           "#B6E880",
           "#FF97FF",
           "#FECB52"
          ],
          "font": {
           "color": "#2a3f5f"
          },
          "geo": {
           "bgcolor": "white",
           "lakecolor": "white",
           "landcolor": "#E5ECF6",
           "showlakes": true,
           "showland": true,
           "subunitcolor": "white"
          },
          "hoverlabel": {
           "align": "left"
          },
          "hovermode": "closest",
          "mapbox": {
           "style": "light"
          },
          "paper_bgcolor": "white",
          "plot_bgcolor": "#E5ECF6",
          "polar": {
           "angularaxis": {
            "gridcolor": "white",
            "linecolor": "white",
            "ticks": ""
           },
           "bgcolor": "#E5ECF6",
           "radialaxis": {
            "gridcolor": "white",
            "linecolor": "white",
            "ticks": ""
           }
          },
          "scene": {
           "xaxis": {
            "backgroundcolor": "#E5ECF6",
            "gridcolor": "white",
            "gridwidth": 2,
            "linecolor": "white",
            "showbackground": true,
            "ticks": "",
            "zerolinecolor": "white"
           },
           "yaxis": {
            "backgroundcolor": "#E5ECF6",
            "gridcolor": "white",
            "gridwidth": 2,
            "linecolor": "white",
            "showbackground": true,
            "ticks": "",
            "zerolinecolor": "white"
           },
           "zaxis": {
            "backgroundcolor": "#E5ECF6",
            "gridcolor": "white",
            "gridwidth": 2,
            "linecolor": "white",
            "showbackground": true,
            "ticks": "",
            "zerolinecolor": "white"
           }
          },
          "shapedefaults": {
           "line": {
            "color": "#2a3f5f"
           }
          },
          "ternary": {
           "aaxis": {
            "gridcolor": "white",
            "linecolor": "white",
            "ticks": ""
           },
           "baxis": {
            "gridcolor": "white",
            "linecolor": "white",
            "ticks": ""
           },
           "bgcolor": "#E5ECF6",
           "caxis": {
            "gridcolor": "white",
            "linecolor": "white",
            "ticks": ""
           }
          },
          "title": {
           "x": 0.05
          },
          "xaxis": {
           "automargin": true,
           "gridcolor": "white",
           "linecolor": "white",
           "ticks": "",
           "title": {
            "standoff": 15
           },
           "zerolinecolor": "white",
           "zerolinewidth": 2
          },
          "yaxis": {
           "automargin": true,
           "gridcolor": "white",
           "linecolor": "white",
           "ticks": "",
           "title": {
            "standoff": 15
           },
           "zerolinecolor": "white",
           "zerolinewidth": 2
          }
         }
        },
        "title": {
         "text": "Aggregated Fairness Objective Oa(t) by Top-p for Different a"
        },
        "xaxis": {
         "anchor": "y",
         "domain": [
          0,
          1
         ],
         "title": {
          "text": "top_p"
         }
        },
        "yaxis": {
         "anchor": "x",
         "domain": [
          0,
          1
         ],
         "title": {
          "text": "Oa"
         }
        }
       }
      }
     },
     "metadata": {},
     "output_type": "display_data"
    }
   ],
   "source": [
    "import pandas as pd\n",
    "import glob\n",
    "import os\n",
    "import re\n",
    "import plotly.express as px\n",
    "\n",
    "# === Step 1: Load data and extract fields ===\n",
    "data_path = \"/Users/jtsiros93/Documents/llm_bench/week03/gpt-top-check-2\"\n",
    "csv_files = glob.glob(os.path.join(data_path, \"*.csv\"))\n",
    "\n",
    "results = []\n",
    "for file in csv_files:\n",
    "    df = pd.read_csv(file)\n",
    "    fname = os.path.splitext(os.path.basename(file))[0]\n",
    "\n",
    "    match_p = re.search(r\"_P([0-9.]+)\", fname)\n",
    "    if not match_p:\n",
    "        continue\n",
    "    top_p = float(match_p.group(1))\n",
    "\n",
    "    match_model = re.search(r\"res_base_(.*?)_T\", fname)\n",
    "    if not match_model:\n",
    "        continue\n",
    "    model = match_model.group(1)\n",
    "\n",
    "    mean_score = df[\"Normalized\"].mean()\n",
    "    results.append({\"top_p\": top_p, \"model\": model, \"mean_score\": mean_score})\n",
    "\n",
    "perf_data = pd.DataFrame(results)\n",
    "if perf_data.empty:\n",
    "    raise ValueError(\"No data extracted. Check filename parsing.\")\n",
    "\n",
    "# === Step 2: Compute aggregated stats ===\n",
    "combined = perf_data.groupby(\"top_p\").agg(\n",
    "    mean_M=(\"mean_score\", \"mean\"),\n",
    "    std_D=(\"mean_score\", \"std\")\n",
    ").reset_index()\n",
    "\n",
    "# === Step 3: Sweep fairness weight 'a' ===\n",
    "a_values = [0, 0.5, 1, 2, 3]  # different increments of a\n",
    "all_results = []\n",
    "\n",
    "for a in a_values:\n",
    "    tmp = combined.copy()\n",
    "    tmp[\"a\"] = a\n",
    "    tmp[\"Oa\"] = tmp[\"mean_M\"] - a * tmp[\"std_D\"]\n",
    "    all_results.append(tmp)\n",
    "\n",
    "all_results = pd.concat(all_results, ignore_index=True)\n",
    "\n",
    "# === Step 4: Plot ===\n",
    "fig = px.line(\n",
    "    all_results.sort_values([\"a\", \"top_p\"]),\n",
    "    x=\"top_p\",\n",
    "    y=\"Oa\",\n",
    "    color=\"a\",  # different lines for each fairness weight\n",
    "    markers=True,\n",
    "    title=\"Aggregated Fairness Objective Oa(t) by Top-p for Different a\"\n",
    ")\n",
    "\n",
    "fig.update_traces(\n",
    "    hovertemplate=\"a=%{color}<br>top_p=%{x}<br>Oa=%{y:.3f}\"\n",
    ")\n",
    "\n",
    "fig.show()\n"
   ]
  },
  {
   "cell_type": "code",
   "execution_count": 155,
   "id": "d32b7ea9",
   "metadata": {},
   "outputs": [
    {
     "name": "stdout",
     "output_type": "stream",
     "text": [
      "Loaded 22000 rows from 220 files\n",
      "Puzzles: ['uaey4' '8rc5R' 'On8u6' 'ubChO' '3pap0' 'CbXto' 'm3lLD' 'Evxmg' 'JnzJN'\n",
      " 'Om0Kx']\n"
     ]
    },
    {
     "data": {
      "application/vnd.plotly.v1+json": {
       "config": {
        "plotlyServerURL": "https://plot.ly"
       },
       "data": [
        {
         "alignmentgroup": "True",
         "boxpoints": "all",
         "hovertemplate": "model_temp=%{x}<br>Normalized=%{y}<extra></extra>",
         "legendgroup": "",
         "marker": {
          "color": "#636efa"
         },
         "name": "",
         "notched": false,
         "offsetgroup": "",
         "orientation": "v",
         "showlegend": false,
         "type": "box",
         "x": [
          "base_openai-gpt-4.1-mini | T=0.9",
          "base_openai-gpt-4.1-mini | T=0.9",
          "base_openai-gpt-4.1-mini | T=0.9",
          "base_openai-gpt-4.1-mini | T=0.9",
          "base_openai-gpt-4.1-mini | T=0.9",
          "base_openai-gpt-4.1-mini | T=0.9",
          "base_openai-gpt-4.1-mini | T=0.9",
          "base_openai-gpt-4.1-mini | T=0.9",
          "base_openai-gpt-4.1-mini | T=0.9",
          "base_openai-gpt-4.1-mini | T=0.9",
          "base_openai-gpt-4.1-mini | T=0.9",
          "base_openai-gpt-4.1-mini | T=0.9",
          "base_openai-gpt-4.1-mini | T=0.9",
          "base_openai-gpt-4.1-mini | T=0.9",
          "base_openai-gpt-4.1-mini | T=0.9",
          "base_openai-gpt-4.1-mini | T=0.9",
          "base_openai-gpt-4.1-mini | T=0.9",
          "base_openai-gpt-4.1-mini | T=0.9",
          "base_openai-gpt-4.1-mini | T=0.9",
          "base_openai-gpt-4.1-mini | T=0.9",
          "base_openai-gpt-4.1-mini | T=0.9",
          "base_openai-gpt-4.1-mini | T=0.9",
          "base_openai-gpt-4.1-mini | T=0.9",
          "base_openai-gpt-4.1-mini | T=0.9",
          "base_openai-gpt-4.1-mini | T=0.9",
          "base_openai-gpt-4.1-mini | T=0.9",
          "base_openai-gpt-4.1-mini | T=0.9",
          "base_openai-gpt-4.1-mini | T=0.9",
          "base_openai-gpt-4.1-mini | T=0.9",
          "base_openai-gpt-4.1-mini | T=0.9",
          "base_openai-gpt-4.1-mini | T=0.9",
          "base_openai-gpt-4.1-mini | T=0.9",
          "base_openai-gpt-4.1-mini | T=0.9",
          "base_openai-gpt-4.1-mini | T=0.9",
          "base_openai-gpt-4.1-mini | T=0.9",
          "base_openai-gpt-4.1-mini | T=0.9",
          "base_openai-gpt-4.1-mini | T=0.9",
          "base_openai-gpt-4.1-mini | T=0.9",
          "base_openai-gpt-4.1-mini | T=0.9",
          "base_openai-gpt-4.1-mini | T=0.9",
          "base_openai-gpt-4.1-mini | T=0.9",
          "base_openai-gpt-4.1-mini | T=0.9",
          "base_openai-gpt-4.1-mini | T=0.9",
          "base_openai-gpt-4.1-mini | T=0.9",
          "base_openai-gpt-4.1-mini | T=0.9",
          "base_openai-gpt-4.1-mini | T=0.9",
          "base_openai-gpt-4.1-mini | T=0.9",
          "base_openai-gpt-4.1-mini | T=0.9",
          "base_openai-gpt-4.1-mini | T=0.9",
          "base_openai-gpt-4.1-mini | T=0.9",
          "base_openai-gpt-4.1-mini | T=0.9",
          "base_openai-gpt-4.1-mini | T=0.9",
          "base_openai-gpt-4.1-mini | T=0.9",
          "base_openai-gpt-4.1-mini | T=0.9",
          "base_openai-gpt-4.1-mini | T=0.9",
          "base_openai-gpt-4.1-mini | T=0.9",
          "base_openai-gpt-4.1-mini | T=0.9",
          "base_openai-gpt-4.1-mini | T=0.9",
          "base_openai-gpt-4.1-mini | T=0.9",
          "base_openai-gpt-4.1-mini | T=0.9",
          "base_openai-gpt-4.1-mini | T=0.9",
          "base_openai-gpt-4.1-mini | T=0.9",
          "base_openai-gpt-4.1-mini | T=0.9",
          "base_openai-gpt-4.1-mini | T=0.9",
          "base_openai-gpt-4.1-mini | T=0.9",
          "base_openai-gpt-4.1-mini | T=0.9",
          "base_openai-gpt-4.1-mini | T=0.9",
          "base_openai-gpt-4.1-mini | T=0.9",
          "base_openai-gpt-4.1-mini | T=0.9",
          "base_openai-gpt-4.1-mini | T=0.9",
          "base_openai-gpt-4.1-mini | T=0.9",
          "base_openai-gpt-4.1-mini | T=0.9",
          "base_openai-gpt-4.1-mini | T=0.9",
          "base_openai-gpt-4.1-mini | T=0.9",
          "base_openai-gpt-4.1-mini | T=0.9",
          "base_openai-gpt-4.1-mini | T=0.9",
          "base_openai-gpt-4.1-mini | T=0.9",
          "base_openai-gpt-4.1-mini | T=0.9",
          "base_openai-gpt-4.1-mini | T=0.9",
          "base_openai-gpt-4.1-mini | T=0.9",
          "base_openai-gpt-4.1-mini | T=0.9",
          "base_openai-gpt-4.1-mini | T=0.9",
          "base_openai-gpt-4.1-mini | T=0.9",
          "base_openai-gpt-4.1-mini | T=0.9",
          "base_openai-gpt-4.1-mini | T=0.9",
          "base_openai-gpt-4.1-mini | T=0.9",
          "base_openai-gpt-4.1-mini | T=0.9",
          "base_openai-gpt-4.1-mini | T=0.9",
          "base_openai-gpt-4.1-mini | T=0.9",
          "base_openai-gpt-4.1-mini | T=0.9",
          "base_openai-gpt-4.1-mini | T=0.9",
          "base_openai-gpt-4.1-mini | T=0.9",
          "base_openai-gpt-4.1-mini | T=0.9",
          "base_openai-gpt-4.1-mini | T=0.9",
          "base_openai-gpt-4.1-mini | T=0.9",
          "base_openai-gpt-4.1-mini | T=0.9",
          "base_openai-gpt-4.1-mini | T=0.9",
          "base_openai-gpt-4.1-mini | T=0.9",
          "base_openai-gpt-4.1-mini | T=0.9",
          "base_openai-gpt-4.1-mini | T=0.9",
          "base_openai-gpt-4.1-mini | T=0.5",
          "base_openai-gpt-4.1-mini | T=0.5",
          "base_openai-gpt-4.1-mini | T=0.5",
          "base_openai-gpt-4.1-mini | T=0.5",
          "base_openai-gpt-4.1-mini | T=0.5",
          "base_openai-gpt-4.1-mini | T=0.5",
          "base_openai-gpt-4.1-mini | T=0.5",
          "base_openai-gpt-4.1-mini | T=0.5",
          "base_openai-gpt-4.1-mini | T=0.5",
          "base_openai-gpt-4.1-mini | T=0.5",
          "base_openai-gpt-4.1-mini | T=0.5",
          "base_openai-gpt-4.1-mini | T=0.5",
          "base_openai-gpt-4.1-mini | T=0.5",
          "base_openai-gpt-4.1-mini | T=0.5",
          "base_openai-gpt-4.1-mini | T=0.5",
          "base_openai-gpt-4.1-mini | T=0.5",
          "base_openai-gpt-4.1-mini | T=0.5",
          "base_openai-gpt-4.1-mini | T=0.5",
          "base_openai-gpt-4.1-mini | T=0.5",
          "base_openai-gpt-4.1-mini | T=0.5",
          "base_openai-gpt-4.1-mini | T=0.5",
          "base_openai-gpt-4.1-mini | T=0.5",
          "base_openai-gpt-4.1-mini | T=0.5",
          "base_openai-gpt-4.1-mini | T=0.5",
          "base_openai-gpt-4.1-mini | T=0.5",
          "base_openai-gpt-4.1-mini | T=0.5",
          "base_openai-gpt-4.1-mini | T=0.5",
          "base_openai-gpt-4.1-mini | T=0.5",
          "base_openai-gpt-4.1-mini | T=0.5",
          "base_openai-gpt-4.1-mini | T=0.5",
          "base_openai-gpt-4.1-mini | T=0.5",
          "base_openai-gpt-4.1-mini | T=0.5",
          "base_openai-gpt-4.1-mini | T=0.5",
          "base_openai-gpt-4.1-mini | T=0.5",
          "base_openai-gpt-4.1-mini | T=0.5",
          "base_openai-gpt-4.1-mini | T=0.5",
          "base_openai-gpt-4.1-mini | T=0.5",
          "base_openai-gpt-4.1-mini | T=0.5",
          "base_openai-gpt-4.1-mini | T=0.5",
          "base_openai-gpt-4.1-mini | T=0.5",
          "base_openai-gpt-4.1-mini | T=0.5",
          "base_openai-gpt-4.1-mini | T=0.5",
          "base_openai-gpt-4.1-mini | T=0.5",
          "base_openai-gpt-4.1-mini | T=0.5",
          "base_openai-gpt-4.1-mini | T=0.5",
          "base_openai-gpt-4.1-mini | T=0.5",
          "base_openai-gpt-4.1-mini | T=0.5",
          "base_openai-gpt-4.1-mini | T=0.5",
          "base_openai-gpt-4.1-mini | T=0.5",
          "base_openai-gpt-4.1-mini | T=0.5",
          "base_openai-gpt-4.1-mini | T=0.5",
          "base_openai-gpt-4.1-mini | T=0.5",
          "base_openai-gpt-4.1-mini | T=0.5",
          "base_openai-gpt-4.1-mini | T=0.5",
          "base_openai-gpt-4.1-mini | T=0.5",
          "base_openai-gpt-4.1-mini | T=0.5",
          "base_openai-gpt-4.1-mini | T=0.5",
          "base_openai-gpt-4.1-mini | T=0.5",
          "base_openai-gpt-4.1-mini | T=0.5",
          "base_openai-gpt-4.1-mini | T=0.5",
          "base_openai-gpt-4.1-mini | T=0.5",
          "base_openai-gpt-4.1-mini | T=0.5",
          "base_openai-gpt-4.1-mini | T=0.5",
          "base_openai-gpt-4.1-mini | T=0.5",
          "base_openai-gpt-4.1-mini | T=0.5",
          "base_openai-gpt-4.1-mini | T=0.5",
          "base_openai-gpt-4.1-mini | T=0.5",
          "base_openai-gpt-4.1-mini | T=0.5",
          "base_openai-gpt-4.1-mini | T=0.5",
          "base_openai-gpt-4.1-mini | T=0.5",
          "base_openai-gpt-4.1-mini | T=0.5",
          "base_openai-gpt-4.1-mini | T=0.5",
          "base_openai-gpt-4.1-mini | T=0.5",
          "base_openai-gpt-4.1-mini | T=0.5",
          "base_openai-gpt-4.1-mini | T=0.5",
          "base_openai-gpt-4.1-mini | T=0.5",
          "base_openai-gpt-4.1-mini | T=0.5",
          "base_openai-gpt-4.1-mini | T=0.5",
          "base_openai-gpt-4.1-mini | T=0.5",
          "base_openai-gpt-4.1-mini | T=0.5",
          "base_openai-gpt-4.1-mini | T=0.5",
          "base_openai-gpt-4.1-mini | T=0.5",
          "base_openai-gpt-4.1-mini | T=0.5",
          "base_openai-gpt-4.1-mini | T=0.5",
          "base_openai-gpt-4.1-mini | T=0.5",
          "base_openai-gpt-4.1-mini | T=0.5",
          "base_openai-gpt-4.1-mini | T=0.5",
          "base_openai-gpt-4.1-mini | T=0.5",
          "base_openai-gpt-4.1-mini | T=0.5",
          "base_openai-gpt-4.1-mini | T=0.5",
          "base_openai-gpt-4.1-mini | T=0.5",
          "base_openai-gpt-4.1-mini | T=0.5",
          "base_openai-gpt-4.1-mini | T=0.5",
          "base_openai-gpt-4.1-mini | T=0.5",
          "base_openai-gpt-4.1-mini | T=0.5",
          "base_openai-gpt-4.1-mini | T=0.5",
          "base_openai-gpt-4.1-mini | T=0.5",
          "base_openai-gpt-4.1-mini | T=0.5",
          "base_openai-gpt-4.1-mini | T=0.5",
          "base_openai-gpt-4.1-mini | T=0.5",
          "base_deepseek-deepseek-chat-v3.1 | T=0.7",
          "base_deepseek-deepseek-chat-v3.1 | T=0.7",
          "base_deepseek-deepseek-chat-v3.1 | T=0.7",
          "base_deepseek-deepseek-chat-v3.1 | T=0.7",
          "base_deepseek-deepseek-chat-v3.1 | T=0.7",
          "base_deepseek-deepseek-chat-v3.1 | T=0.7",
          "base_deepseek-deepseek-chat-v3.1 | T=0.7",
          "base_deepseek-deepseek-chat-v3.1 | T=0.7",
          "base_deepseek-deepseek-chat-v3.1 | T=0.7",
          "base_deepseek-deepseek-chat-v3.1 | T=0.7",
          "base_deepseek-deepseek-chat-v3.1 | T=0.7",
          "base_deepseek-deepseek-chat-v3.1 | T=0.7",
          "base_deepseek-deepseek-chat-v3.1 | T=0.7",
          "base_deepseek-deepseek-chat-v3.1 | T=0.7",
          "base_deepseek-deepseek-chat-v3.1 | T=0.7",
          "base_deepseek-deepseek-chat-v3.1 | T=0.7",
          "base_deepseek-deepseek-chat-v3.1 | T=0.7",
          "base_deepseek-deepseek-chat-v3.1 | T=0.7",
          "base_deepseek-deepseek-chat-v3.1 | T=0.7",
          "base_deepseek-deepseek-chat-v3.1 | T=0.7",
          "base_deepseek-deepseek-chat-v3.1 | T=0.7",
          "base_deepseek-deepseek-chat-v3.1 | T=0.7",
          "base_deepseek-deepseek-chat-v3.1 | T=0.7",
          "base_deepseek-deepseek-chat-v3.1 | T=0.7",
          "base_deepseek-deepseek-chat-v3.1 | T=0.7",
          "base_deepseek-deepseek-chat-v3.1 | T=0.7",
          "base_deepseek-deepseek-chat-v3.1 | T=0.7",
          "base_deepseek-deepseek-chat-v3.1 | T=0.7",
          "base_deepseek-deepseek-chat-v3.1 | T=0.7",
          "base_deepseek-deepseek-chat-v3.1 | T=0.7",
          "base_deepseek-deepseek-chat-v3.1 | T=0.7",
          "base_deepseek-deepseek-chat-v3.1 | T=0.7",
          "base_deepseek-deepseek-chat-v3.1 | T=0.7",
          "base_deepseek-deepseek-chat-v3.1 | T=0.7",
          "base_deepseek-deepseek-chat-v3.1 | T=0.7",
          "base_deepseek-deepseek-chat-v3.1 | T=0.7",
          "base_deepseek-deepseek-chat-v3.1 | T=0.7",
          "base_deepseek-deepseek-chat-v3.1 | T=0.7",
          "base_deepseek-deepseek-chat-v3.1 | T=0.7",
          "base_deepseek-deepseek-chat-v3.1 | T=0.7",
          "base_deepseek-deepseek-chat-v3.1 | T=0.7",
          "base_deepseek-deepseek-chat-v3.1 | T=0.7",
          "base_deepseek-deepseek-chat-v3.1 | T=0.7",
          "base_deepseek-deepseek-chat-v3.1 | T=0.7",
          "base_deepseek-deepseek-chat-v3.1 | T=0.7",
          "base_deepseek-deepseek-chat-v3.1 | T=0.7",
          "base_deepseek-deepseek-chat-v3.1 | T=0.7",
          "base_deepseek-deepseek-chat-v3.1 | T=0.7",
          "base_deepseek-deepseek-chat-v3.1 | T=0.7",
          "base_deepseek-deepseek-chat-v3.1 | T=0.7",
          "base_deepseek-deepseek-chat-v3.1 | T=0.7",
          "base_deepseek-deepseek-chat-v3.1 | T=0.7",
          "base_deepseek-deepseek-chat-v3.1 | T=0.7",
          "base_deepseek-deepseek-chat-v3.1 | T=0.7",
          "base_deepseek-deepseek-chat-v3.1 | T=0.7",
          "base_deepseek-deepseek-chat-v3.1 | T=0.7",
          "base_deepseek-deepseek-chat-v3.1 | T=0.7",
          "base_deepseek-deepseek-chat-v3.1 | T=0.7",
          "base_deepseek-deepseek-chat-v3.1 | T=0.7",
          "base_deepseek-deepseek-chat-v3.1 | T=0.7",
          "base_deepseek-deepseek-chat-v3.1 | T=0.7",
          "base_deepseek-deepseek-chat-v3.1 | T=0.7",
          "base_deepseek-deepseek-chat-v3.1 | T=0.7",
          "base_deepseek-deepseek-chat-v3.1 | T=0.7",
          "base_deepseek-deepseek-chat-v3.1 | T=0.7",
          "base_deepseek-deepseek-chat-v3.1 | T=0.7",
          "base_deepseek-deepseek-chat-v3.1 | T=0.7",
          "base_deepseek-deepseek-chat-v3.1 | T=0.7",
          "base_deepseek-deepseek-chat-v3.1 | T=0.7",
          "base_deepseek-deepseek-chat-v3.1 | T=0.7",
          "base_deepseek-deepseek-chat-v3.1 | T=0.7",
          "base_deepseek-deepseek-chat-v3.1 | T=0.7",
          "base_deepseek-deepseek-chat-v3.1 | T=0.7",
          "base_deepseek-deepseek-chat-v3.1 | T=0.7",
          "base_deepseek-deepseek-chat-v3.1 | T=0.7",
          "base_deepseek-deepseek-chat-v3.1 | T=0.7",
          "base_deepseek-deepseek-chat-v3.1 | T=0.7",
          "base_deepseek-deepseek-chat-v3.1 | T=0.7",
          "base_deepseek-deepseek-chat-v3.1 | T=0.7",
          "base_deepseek-deepseek-chat-v3.1 | T=0.7",
          "base_deepseek-deepseek-chat-v3.1 | T=0.7",
          "base_deepseek-deepseek-chat-v3.1 | T=0.7",
          "base_deepseek-deepseek-chat-v3.1 | T=0.7",
          "base_deepseek-deepseek-chat-v3.1 | T=0.7",
          "base_deepseek-deepseek-chat-v3.1 | T=0.7",
          "base_deepseek-deepseek-chat-v3.1 | T=0.7",
          "base_deepseek-deepseek-chat-v3.1 | T=0.7",
          "base_deepseek-deepseek-chat-v3.1 | T=0.7",
          "base_deepseek-deepseek-chat-v3.1 | T=0.7",
          "base_deepseek-deepseek-chat-v3.1 | T=0.7",
          "base_deepseek-deepseek-chat-v3.1 | T=0.7",
          "base_deepseek-deepseek-chat-v3.1 | T=0.7",
          "base_deepseek-deepseek-chat-v3.1 | T=0.7",
          "base_deepseek-deepseek-chat-v3.1 | T=0.7",
          "base_deepseek-deepseek-chat-v3.1 | T=0.7",
          "base_deepseek-deepseek-chat-v3.1 | T=0.7",
          "base_deepseek-deepseek-chat-v3.1 | T=0.7",
          "base_deepseek-deepseek-chat-v3.1 | T=0.7",
          "base_deepseek-deepseek-chat-v3.1 | T=0.7",
          "base_deepseek-deepseek-chat-v3.1 | T=0.7",
          "base_deepseek-deepseek-chat-v3.1 | T=1.0",
          "base_deepseek-deepseek-chat-v3.1 | T=1.0",
          "base_deepseek-deepseek-chat-v3.1 | T=1.0",
          "base_deepseek-deepseek-chat-v3.1 | T=1.0",
          "base_deepseek-deepseek-chat-v3.1 | T=1.0",
          "base_deepseek-deepseek-chat-v3.1 | T=1.0",
          "base_deepseek-deepseek-chat-v3.1 | T=1.0",
          "base_deepseek-deepseek-chat-v3.1 | T=1.0",
          "base_deepseek-deepseek-chat-v3.1 | T=1.0",
          "base_deepseek-deepseek-chat-v3.1 | T=1.0",
          "base_deepseek-deepseek-chat-v3.1 | T=1.0",
          "base_deepseek-deepseek-chat-v3.1 | T=1.0",
          "base_deepseek-deepseek-chat-v3.1 | T=1.0",
          "base_deepseek-deepseek-chat-v3.1 | T=1.0",
          "base_deepseek-deepseek-chat-v3.1 | T=1.0",
          "base_deepseek-deepseek-chat-v3.1 | T=1.0",
          "base_deepseek-deepseek-chat-v3.1 | T=1.0",
          "base_deepseek-deepseek-chat-v3.1 | T=1.0",
          "base_deepseek-deepseek-chat-v3.1 | T=1.0",
          "base_deepseek-deepseek-chat-v3.1 | T=1.0",
          "base_deepseek-deepseek-chat-v3.1 | T=1.0",
          "base_deepseek-deepseek-chat-v3.1 | T=1.0",
          "base_deepseek-deepseek-chat-v3.1 | T=1.0",
          "base_deepseek-deepseek-chat-v3.1 | T=1.0",
          "base_deepseek-deepseek-chat-v3.1 | T=1.0",
          "base_deepseek-deepseek-chat-v3.1 | T=1.0",
          "base_deepseek-deepseek-chat-v3.1 | T=1.0",
          "base_deepseek-deepseek-chat-v3.1 | T=1.0",
          "base_deepseek-deepseek-chat-v3.1 | T=1.0",
          "base_deepseek-deepseek-chat-v3.1 | T=1.0",
          "base_deepseek-deepseek-chat-v3.1 | T=1.0",
          "base_deepseek-deepseek-chat-v3.1 | T=1.0",
          "base_deepseek-deepseek-chat-v3.1 | T=1.0",
          "base_deepseek-deepseek-chat-v3.1 | T=1.0",
          "base_deepseek-deepseek-chat-v3.1 | T=1.0",
          "base_deepseek-deepseek-chat-v3.1 | T=1.0",
          "base_deepseek-deepseek-chat-v3.1 | T=1.0",
          "base_deepseek-deepseek-chat-v3.1 | T=1.0",
          "base_deepseek-deepseek-chat-v3.1 | T=1.0",
          "base_deepseek-deepseek-chat-v3.1 | T=1.0",
          "base_deepseek-deepseek-chat-v3.1 | T=1.0",
          "base_deepseek-deepseek-chat-v3.1 | T=1.0",
          "base_deepseek-deepseek-chat-v3.1 | T=1.0",
          "base_deepseek-deepseek-chat-v3.1 | T=1.0",
          "base_deepseek-deepseek-chat-v3.1 | T=1.0",
          "base_deepseek-deepseek-chat-v3.1 | T=1.0",
          "base_deepseek-deepseek-chat-v3.1 | T=1.0",
          "base_deepseek-deepseek-chat-v3.1 | T=1.0",
          "base_deepseek-deepseek-chat-v3.1 | T=1.0",
          "base_deepseek-deepseek-chat-v3.1 | T=1.0",
          "base_deepseek-deepseek-chat-v3.1 | T=1.0",
          "base_deepseek-deepseek-chat-v3.1 | T=1.0",
          "base_deepseek-deepseek-chat-v3.1 | T=1.0",
          "base_deepseek-deepseek-chat-v3.1 | T=1.0",
          "base_deepseek-deepseek-chat-v3.1 | T=1.0",
          "base_deepseek-deepseek-chat-v3.1 | T=1.0",
          "base_deepseek-deepseek-chat-v3.1 | T=1.0",
          "base_deepseek-deepseek-chat-v3.1 | T=1.0",
          "base_deepseek-deepseek-chat-v3.1 | T=1.0",
          "base_deepseek-deepseek-chat-v3.1 | T=1.0",
          "base_deepseek-deepseek-chat-v3.1 | T=1.0",
          "base_deepseek-deepseek-chat-v3.1 | T=1.0",
          "base_deepseek-deepseek-chat-v3.1 | T=1.0",
          "base_deepseek-deepseek-chat-v3.1 | T=1.0",
          "base_deepseek-deepseek-chat-v3.1 | T=1.0",
          "base_deepseek-deepseek-chat-v3.1 | T=1.0",
          "base_deepseek-deepseek-chat-v3.1 | T=1.0",
          "base_deepseek-deepseek-chat-v3.1 | T=1.0",
          "base_deepseek-deepseek-chat-v3.1 | T=1.0",
          "base_deepseek-deepseek-chat-v3.1 | T=1.0",
          "base_deepseek-deepseek-chat-v3.1 | T=1.0",
          "base_deepseek-deepseek-chat-v3.1 | T=1.0",
          "base_deepseek-deepseek-chat-v3.1 | T=1.0",
          "base_deepseek-deepseek-chat-v3.1 | T=1.0",
          "base_deepseek-deepseek-chat-v3.1 | T=1.0",
          "base_deepseek-deepseek-chat-v3.1 | T=1.0",
          "base_deepseek-deepseek-chat-v3.1 | T=1.0",
          "base_deepseek-deepseek-chat-v3.1 | T=1.0",
          "base_deepseek-deepseek-chat-v3.1 | T=1.0",
          "base_deepseek-deepseek-chat-v3.1 | T=1.0",
          "base_deepseek-deepseek-chat-v3.1 | T=1.0",
          "base_deepseek-deepseek-chat-v3.1 | T=1.0",
          "base_deepseek-deepseek-chat-v3.1 | T=1.0",
          "base_deepseek-deepseek-chat-v3.1 | T=1.0",
          "base_deepseek-deepseek-chat-v3.1 | T=1.0",
          "base_deepseek-deepseek-chat-v3.1 | T=1.0",
          "base_deepseek-deepseek-chat-v3.1 | T=1.0",
          "base_deepseek-deepseek-chat-v3.1 | T=1.0",
          "base_deepseek-deepseek-chat-v3.1 | T=1.0",
          "base_deepseek-deepseek-chat-v3.1 | T=1.0",
          "base_deepseek-deepseek-chat-v3.1 | T=1.0",
          "base_deepseek-deepseek-chat-v3.1 | T=1.0",
          "base_deepseek-deepseek-chat-v3.1 | T=1.0",
          "base_deepseek-deepseek-chat-v3.1 | T=1.0",
          "base_deepseek-deepseek-chat-v3.1 | T=1.0",
          "base_deepseek-deepseek-chat-v3.1 | T=1.0",
          "base_deepseek-deepseek-chat-v3.1 | T=1.0",
          "base_deepseek-deepseek-chat-v3.1 | T=1.0",
          "base_deepseek-deepseek-chat-v3.1 | T=1.0",
          "base_deepseek-deepseek-chat-v3.1 | T=1.0",
          "base_deepseek-deepseek-chat-v3.1 | T=0.0",
          "base_deepseek-deepseek-chat-v3.1 | T=0.0",
          "base_deepseek-deepseek-chat-v3.1 | T=0.0",
          "base_deepseek-deepseek-chat-v3.1 | T=0.0",
          "base_deepseek-deepseek-chat-v3.1 | T=0.0",
          "base_deepseek-deepseek-chat-v3.1 | T=0.0",
          "base_deepseek-deepseek-chat-v3.1 | T=0.0",
          "base_deepseek-deepseek-chat-v3.1 | T=0.0",
          "base_deepseek-deepseek-chat-v3.1 | T=0.0",
          "base_deepseek-deepseek-chat-v3.1 | T=0.0",
          "base_deepseek-deepseek-chat-v3.1 | T=0.0",
          "base_deepseek-deepseek-chat-v3.1 | T=0.0",
          "base_deepseek-deepseek-chat-v3.1 | T=0.0",
          "base_deepseek-deepseek-chat-v3.1 | T=0.0",
          "base_deepseek-deepseek-chat-v3.1 | T=0.0",
          "base_deepseek-deepseek-chat-v3.1 | T=0.0",
          "base_deepseek-deepseek-chat-v3.1 | T=0.0",
          "base_deepseek-deepseek-chat-v3.1 | T=0.0",
          "base_deepseek-deepseek-chat-v3.1 | T=0.0",
          "base_deepseek-deepseek-chat-v3.1 | T=0.0",
          "base_deepseek-deepseek-chat-v3.1 | T=0.0",
          "base_deepseek-deepseek-chat-v3.1 | T=0.0",
          "base_deepseek-deepseek-chat-v3.1 | T=0.0",
          "base_deepseek-deepseek-chat-v3.1 | T=0.0",
          "base_deepseek-deepseek-chat-v3.1 | T=0.0",
          "base_deepseek-deepseek-chat-v3.1 | T=0.0",
          "base_deepseek-deepseek-chat-v3.1 | T=0.0",
          "base_deepseek-deepseek-chat-v3.1 | T=0.0",
          "base_deepseek-deepseek-chat-v3.1 | T=0.0",
          "base_deepseek-deepseek-chat-v3.1 | T=0.0",
          "base_deepseek-deepseek-chat-v3.1 | T=0.0",
          "base_deepseek-deepseek-chat-v3.1 | T=0.0",
          "base_deepseek-deepseek-chat-v3.1 | T=0.0",
          "base_deepseek-deepseek-chat-v3.1 | T=0.0",
          "base_deepseek-deepseek-chat-v3.1 | T=0.0",
          "base_deepseek-deepseek-chat-v3.1 | T=0.0",
          "base_deepseek-deepseek-chat-v3.1 | T=0.0",
          "base_deepseek-deepseek-chat-v3.1 | T=0.0",
          "base_deepseek-deepseek-chat-v3.1 | T=0.0",
          "base_deepseek-deepseek-chat-v3.1 | T=0.0",
          "base_deepseek-deepseek-chat-v3.1 | T=0.0",
          "base_deepseek-deepseek-chat-v3.1 | T=0.0",
          "base_deepseek-deepseek-chat-v3.1 | T=0.0",
          "base_deepseek-deepseek-chat-v3.1 | T=0.0",
          "base_deepseek-deepseek-chat-v3.1 | T=0.0",
          "base_deepseek-deepseek-chat-v3.1 | T=0.0",
          "base_deepseek-deepseek-chat-v3.1 | T=0.0",
          "base_deepseek-deepseek-chat-v3.1 | T=0.0",
          "base_deepseek-deepseek-chat-v3.1 | T=0.0",
          "base_deepseek-deepseek-chat-v3.1 | T=0.0",
          "base_deepseek-deepseek-chat-v3.1 | T=0.0",
          "base_deepseek-deepseek-chat-v3.1 | T=0.0",
          "base_deepseek-deepseek-chat-v3.1 | T=0.0",
          "base_deepseek-deepseek-chat-v3.1 | T=0.0",
          "base_deepseek-deepseek-chat-v3.1 | T=0.0",
          "base_deepseek-deepseek-chat-v3.1 | T=0.0",
          "base_deepseek-deepseek-chat-v3.1 | T=0.0",
          "base_deepseek-deepseek-chat-v3.1 | T=0.0",
          "base_deepseek-deepseek-chat-v3.1 | T=0.0",
          "base_deepseek-deepseek-chat-v3.1 | T=0.0",
          "base_deepseek-deepseek-chat-v3.1 | T=0.0",
          "base_deepseek-deepseek-chat-v3.1 | T=0.0",
          "base_deepseek-deepseek-chat-v3.1 | T=0.0",
          "base_deepseek-deepseek-chat-v3.1 | T=0.0",
          "base_deepseek-deepseek-chat-v3.1 | T=0.0",
          "base_deepseek-deepseek-chat-v3.1 | T=0.0",
          "base_deepseek-deepseek-chat-v3.1 | T=0.0",
          "base_deepseek-deepseek-chat-v3.1 | T=0.0",
          "base_deepseek-deepseek-chat-v3.1 | T=0.0",
          "base_deepseek-deepseek-chat-v3.1 | T=0.0",
          "base_deepseek-deepseek-chat-v3.1 | T=0.0",
          "base_deepseek-deepseek-chat-v3.1 | T=0.0",
          "base_deepseek-deepseek-chat-v3.1 | T=0.0",
          "base_deepseek-deepseek-chat-v3.1 | T=0.0",
          "base_deepseek-deepseek-chat-v3.1 | T=0.0",
          "base_deepseek-deepseek-chat-v3.1 | T=0.0",
          "base_deepseek-deepseek-chat-v3.1 | T=0.0",
          "base_deepseek-deepseek-chat-v3.1 | T=0.0",
          "base_deepseek-deepseek-chat-v3.1 | T=0.0",
          "base_deepseek-deepseek-chat-v3.1 | T=0.0",
          "base_deepseek-deepseek-chat-v3.1 | T=0.0",
          "base_deepseek-deepseek-chat-v3.1 | T=0.0",
          "base_deepseek-deepseek-chat-v3.1 | T=0.0",
          "base_deepseek-deepseek-chat-v3.1 | T=0.0",
          "base_deepseek-deepseek-chat-v3.1 | T=0.0",
          "base_deepseek-deepseek-chat-v3.1 | T=0.0",
          "base_deepseek-deepseek-chat-v3.1 | T=0.0",
          "base_deepseek-deepseek-chat-v3.1 | T=0.0",
          "base_deepseek-deepseek-chat-v3.1 | T=0.0",
          "base_deepseek-deepseek-chat-v3.1 | T=0.0",
          "base_deepseek-deepseek-chat-v3.1 | T=0.0",
          "base_deepseek-deepseek-chat-v3.1 | T=0.0",
          "base_deepseek-deepseek-chat-v3.1 | T=0.0",
          "base_deepseek-deepseek-chat-v3.1 | T=0.0",
          "base_deepseek-deepseek-chat-v3.1 | T=0.0",
          "base_deepseek-deepseek-chat-v3.1 | T=0.0",
          "base_deepseek-deepseek-chat-v3.1 | T=0.0",
          "base_deepseek-deepseek-chat-v3.1 | T=0.0",
          "base_deepseek-deepseek-chat-v3.1 | T=0.0",
          "base_deepseek-deepseek-chat-v3.1 | T=0.0",
          "base_openai-gpt-4.1-mini | T=1.0",
          "base_openai-gpt-4.1-mini | T=1.0",
          "base_openai-gpt-4.1-mini | T=1.0",
          "base_openai-gpt-4.1-mini | T=1.0",
          "base_openai-gpt-4.1-mini | T=1.0",
          "base_openai-gpt-4.1-mini | T=1.0",
          "base_openai-gpt-4.1-mini | T=1.0",
          "base_openai-gpt-4.1-mini | T=1.0",
          "base_openai-gpt-4.1-mini | T=1.0",
          "base_openai-gpt-4.1-mini | T=1.0",
          "base_openai-gpt-4.1-mini | T=1.0",
          "base_openai-gpt-4.1-mini | T=1.0",
          "base_openai-gpt-4.1-mini | T=1.0",
          "base_openai-gpt-4.1-mini | T=1.0",
          "base_openai-gpt-4.1-mini | T=1.0",
          "base_openai-gpt-4.1-mini | T=1.0",
          "base_openai-gpt-4.1-mini | T=1.0",
          "base_openai-gpt-4.1-mini | T=1.0",
          "base_openai-gpt-4.1-mini | T=1.0",
          "base_openai-gpt-4.1-mini | T=1.0",
          "base_openai-gpt-4.1-mini | T=1.0",
          "base_openai-gpt-4.1-mini | T=1.0",
          "base_openai-gpt-4.1-mini | T=1.0",
          "base_openai-gpt-4.1-mini | T=1.0",
          "base_openai-gpt-4.1-mini | T=1.0",
          "base_openai-gpt-4.1-mini | T=1.0",
          "base_openai-gpt-4.1-mini | T=1.0",
          "base_openai-gpt-4.1-mini | T=1.0",
          "base_openai-gpt-4.1-mini | T=1.0",
          "base_openai-gpt-4.1-mini | T=1.0",
          "base_openai-gpt-4.1-mini | T=1.0",
          "base_openai-gpt-4.1-mini | T=1.0",
          "base_openai-gpt-4.1-mini | T=1.0",
          "base_openai-gpt-4.1-mini | T=1.0",
          "base_openai-gpt-4.1-mini | T=1.0",
          "base_openai-gpt-4.1-mini | T=1.0",
          "base_openai-gpt-4.1-mini | T=1.0",
          "base_openai-gpt-4.1-mini | T=1.0",
          "base_openai-gpt-4.1-mini | T=1.0",
          "base_openai-gpt-4.1-mini | T=1.0",
          "base_openai-gpt-4.1-mini | T=1.0",
          "base_openai-gpt-4.1-mini | T=1.0",
          "base_openai-gpt-4.1-mini | T=1.0",
          "base_openai-gpt-4.1-mini | T=1.0",
          "base_openai-gpt-4.1-mini | T=1.0",
          "base_openai-gpt-4.1-mini | T=1.0",
          "base_openai-gpt-4.1-mini | T=1.0",
          "base_openai-gpt-4.1-mini | T=1.0",
          "base_openai-gpt-4.1-mini | T=1.0",
          "base_openai-gpt-4.1-mini | T=1.0",
          "base_openai-gpt-4.1-mini | T=1.0",
          "base_openai-gpt-4.1-mini | T=1.0",
          "base_openai-gpt-4.1-mini | T=1.0",
          "base_openai-gpt-4.1-mini | T=1.0",
          "base_openai-gpt-4.1-mini | T=1.0",
          "base_openai-gpt-4.1-mini | T=1.0",
          "base_openai-gpt-4.1-mini | T=1.0",
          "base_openai-gpt-4.1-mini | T=1.0",
          "base_openai-gpt-4.1-mini | T=1.0",
          "base_openai-gpt-4.1-mini | T=1.0",
          "base_openai-gpt-4.1-mini | T=1.0",
          "base_openai-gpt-4.1-mini | T=1.0",
          "base_openai-gpt-4.1-mini | T=1.0",
          "base_openai-gpt-4.1-mini | T=1.0",
          "base_openai-gpt-4.1-mini | T=1.0",
          "base_openai-gpt-4.1-mini | T=1.0",
          "base_openai-gpt-4.1-mini | T=1.0",
          "base_openai-gpt-4.1-mini | T=1.0",
          "base_openai-gpt-4.1-mini | T=1.0",
          "base_openai-gpt-4.1-mini | T=1.0",
          "base_openai-gpt-4.1-mini | T=1.0",
          "base_openai-gpt-4.1-mini | T=1.0",
          "base_openai-gpt-4.1-mini | T=1.0",
          "base_openai-gpt-4.1-mini | T=1.0",
          "base_openai-gpt-4.1-mini | T=1.0",
          "base_openai-gpt-4.1-mini | T=1.0",
          "base_openai-gpt-4.1-mini | T=1.0",
          "base_openai-gpt-4.1-mini | T=1.0",
          "base_openai-gpt-4.1-mini | T=1.0",
          "base_openai-gpt-4.1-mini | T=1.0",
          "base_openai-gpt-4.1-mini | T=1.0",
          "base_openai-gpt-4.1-mini | T=1.0",
          "base_openai-gpt-4.1-mini | T=1.0",
          "base_openai-gpt-4.1-mini | T=1.0",
          "base_openai-gpt-4.1-mini | T=1.0",
          "base_openai-gpt-4.1-mini | T=1.0",
          "base_openai-gpt-4.1-mini | T=1.0",
          "base_openai-gpt-4.1-mini | T=1.0",
          "base_openai-gpt-4.1-mini | T=1.0",
          "base_openai-gpt-4.1-mini | T=1.0",
          "base_openai-gpt-4.1-mini | T=1.0",
          "base_openai-gpt-4.1-mini | T=1.0",
          "base_openai-gpt-4.1-mini | T=1.0",
          "base_openai-gpt-4.1-mini | T=1.0",
          "base_openai-gpt-4.1-mini | T=1.0",
          "base_openai-gpt-4.1-mini | T=1.0",
          "base_openai-gpt-4.1-mini | T=1.0",
          "base_openai-gpt-4.1-mini | T=1.0",
          "base_openai-gpt-4.1-mini | T=1.0",
          "base_openai-gpt-4.1-mini | T=1.0",
          "base_openai-gpt-4.1-mini | T=0.2",
          "base_openai-gpt-4.1-mini | T=0.2",
          "base_openai-gpt-4.1-mini | T=0.2",
          "base_openai-gpt-4.1-mini | T=0.2",
          "base_openai-gpt-4.1-mini | T=0.2",
          "base_openai-gpt-4.1-mini | T=0.2",
          "base_openai-gpt-4.1-mini | T=0.2",
          "base_openai-gpt-4.1-mini | T=0.2",
          "base_openai-gpt-4.1-mini | T=0.2",
          "base_openai-gpt-4.1-mini | T=0.2",
          "base_openai-gpt-4.1-mini | T=0.2",
          "base_openai-gpt-4.1-mini | T=0.2",
          "base_openai-gpt-4.1-mini | T=0.2",
          "base_openai-gpt-4.1-mini | T=0.2",
          "base_openai-gpt-4.1-mini | T=0.2",
          "base_openai-gpt-4.1-mini | T=0.2",
          "base_openai-gpt-4.1-mini | T=0.2",
          "base_openai-gpt-4.1-mini | T=0.2",
          "base_openai-gpt-4.1-mini | T=0.2",
          "base_openai-gpt-4.1-mini | T=0.2",
          "base_openai-gpt-4.1-mini | T=0.2",
          "base_openai-gpt-4.1-mini | T=0.2",
          "base_openai-gpt-4.1-mini | T=0.2",
          "base_openai-gpt-4.1-mini | T=0.2",
          "base_openai-gpt-4.1-mini | T=0.2",
          "base_openai-gpt-4.1-mini | T=0.2",
          "base_openai-gpt-4.1-mini | T=0.2",
          "base_openai-gpt-4.1-mini | T=0.2",
          "base_openai-gpt-4.1-mini | T=0.2",
          "base_openai-gpt-4.1-mini | T=0.2",
          "base_openai-gpt-4.1-mini | T=0.2",
          "base_openai-gpt-4.1-mini | T=0.2",
          "base_openai-gpt-4.1-mini | T=0.2",
          "base_openai-gpt-4.1-mini | T=0.2",
          "base_openai-gpt-4.1-mini | T=0.2",
          "base_openai-gpt-4.1-mini | T=0.2",
          "base_openai-gpt-4.1-mini | T=0.2",
          "base_openai-gpt-4.1-mini | T=0.2",
          "base_openai-gpt-4.1-mini | T=0.2",
          "base_openai-gpt-4.1-mini | T=0.2",
          "base_openai-gpt-4.1-mini | T=0.2",
          "base_openai-gpt-4.1-mini | T=0.2",
          "base_openai-gpt-4.1-mini | T=0.2",
          "base_openai-gpt-4.1-mini | T=0.2",
          "base_openai-gpt-4.1-mini | T=0.2",
          "base_openai-gpt-4.1-mini | T=0.2",
          "base_openai-gpt-4.1-mini | T=0.2",
          "base_openai-gpt-4.1-mini | T=0.2",
          "base_openai-gpt-4.1-mini | T=0.2",
          "base_openai-gpt-4.1-mini | T=0.2",
          "base_openai-gpt-4.1-mini | T=0.2",
          "base_openai-gpt-4.1-mini | T=0.2",
          "base_openai-gpt-4.1-mini | T=0.2",
          "base_openai-gpt-4.1-mini | T=0.2",
          "base_openai-gpt-4.1-mini | T=0.2",
          "base_openai-gpt-4.1-mini | T=0.2",
          "base_openai-gpt-4.1-mini | T=0.2",
          "base_openai-gpt-4.1-mini | T=0.2",
          "base_openai-gpt-4.1-mini | T=0.2",
          "base_openai-gpt-4.1-mini | T=0.2",
          "base_openai-gpt-4.1-mini | T=0.2",
          "base_openai-gpt-4.1-mini | T=0.2",
          "base_openai-gpt-4.1-mini | T=0.2",
          "base_openai-gpt-4.1-mini | T=0.2",
          "base_openai-gpt-4.1-mini | T=0.2",
          "base_openai-gpt-4.1-mini | T=0.2",
          "base_openai-gpt-4.1-mini | T=0.2",
          "base_openai-gpt-4.1-mini | T=0.2",
          "base_openai-gpt-4.1-mini | T=0.2",
          "base_openai-gpt-4.1-mini | T=0.2",
          "base_openai-gpt-4.1-mini | T=0.2",
          "base_openai-gpt-4.1-mini | T=0.2",
          "base_openai-gpt-4.1-mini | T=0.2",
          "base_openai-gpt-4.1-mini | T=0.2",
          "base_openai-gpt-4.1-mini | T=0.2",
          "base_openai-gpt-4.1-mini | T=0.2",
          "base_openai-gpt-4.1-mini | T=0.2",
          "base_openai-gpt-4.1-mini | T=0.2",
          "base_openai-gpt-4.1-mini | T=0.2",
          "base_openai-gpt-4.1-mini | T=0.2",
          "base_openai-gpt-4.1-mini | T=0.2",
          "base_openai-gpt-4.1-mini | T=0.2",
          "base_openai-gpt-4.1-mini | T=0.2",
          "base_openai-gpt-4.1-mini | T=0.2",
          "base_openai-gpt-4.1-mini | T=0.2",
          "base_openai-gpt-4.1-mini | T=0.2",
          "base_openai-gpt-4.1-mini | T=0.2",
          "base_openai-gpt-4.1-mini | T=0.2",
          "base_openai-gpt-4.1-mini | T=0.2",
          "base_openai-gpt-4.1-mini | T=0.2",
          "base_openai-gpt-4.1-mini | T=0.2",
          "base_openai-gpt-4.1-mini | T=0.2",
          "base_openai-gpt-4.1-mini | T=0.2",
          "base_openai-gpt-4.1-mini | T=0.2",
          "base_openai-gpt-4.1-mini | T=0.2",
          "base_openai-gpt-4.1-mini | T=0.2",
          "base_openai-gpt-4.1-mini | T=0.2",
          "base_openai-gpt-4.1-mini | T=0.2",
          "base_openai-gpt-4.1-mini | T=0.2",
          "base_openai-gpt-4.1-mini | T=0.2",
          "base_deepseek-deepseek-chat-v3.1 | T=0.1",
          "base_deepseek-deepseek-chat-v3.1 | T=0.1",
          "base_deepseek-deepseek-chat-v3.1 | T=0.1",
          "base_deepseek-deepseek-chat-v3.1 | T=0.1",
          "base_deepseek-deepseek-chat-v3.1 | T=0.1",
          "base_deepseek-deepseek-chat-v3.1 | T=0.1",
          "base_deepseek-deepseek-chat-v3.1 | T=0.1",
          "base_deepseek-deepseek-chat-v3.1 | T=0.1",
          "base_deepseek-deepseek-chat-v3.1 | T=0.1",
          "base_deepseek-deepseek-chat-v3.1 | T=0.1",
          "base_deepseek-deepseek-chat-v3.1 | T=0.1",
          "base_deepseek-deepseek-chat-v3.1 | T=0.1",
          "base_deepseek-deepseek-chat-v3.1 | T=0.1",
          "base_deepseek-deepseek-chat-v3.1 | T=0.1",
          "base_deepseek-deepseek-chat-v3.1 | T=0.1",
          "base_deepseek-deepseek-chat-v3.1 | T=0.1",
          "base_deepseek-deepseek-chat-v3.1 | T=0.1",
          "base_deepseek-deepseek-chat-v3.1 | T=0.1",
          "base_deepseek-deepseek-chat-v3.1 | T=0.1",
          "base_deepseek-deepseek-chat-v3.1 | T=0.1",
          "base_deepseek-deepseek-chat-v3.1 | T=0.1",
          "base_deepseek-deepseek-chat-v3.1 | T=0.1",
          "base_deepseek-deepseek-chat-v3.1 | T=0.1",
          "base_deepseek-deepseek-chat-v3.1 | T=0.1",
          "base_deepseek-deepseek-chat-v3.1 | T=0.1",
          "base_deepseek-deepseek-chat-v3.1 | T=0.1",
          "base_deepseek-deepseek-chat-v3.1 | T=0.1",
          "base_deepseek-deepseek-chat-v3.1 | T=0.1",
          "base_deepseek-deepseek-chat-v3.1 | T=0.1",
          "base_deepseek-deepseek-chat-v3.1 | T=0.1",
          "base_deepseek-deepseek-chat-v3.1 | T=0.1",
          "base_deepseek-deepseek-chat-v3.1 | T=0.1",
          "base_deepseek-deepseek-chat-v3.1 | T=0.1",
          "base_deepseek-deepseek-chat-v3.1 | T=0.1",
          "base_deepseek-deepseek-chat-v3.1 | T=0.1",
          "base_deepseek-deepseek-chat-v3.1 | T=0.1",
          "base_deepseek-deepseek-chat-v3.1 | T=0.1",
          "base_deepseek-deepseek-chat-v3.1 | T=0.1",
          "base_deepseek-deepseek-chat-v3.1 | T=0.1",
          "base_deepseek-deepseek-chat-v3.1 | T=0.1",
          "base_deepseek-deepseek-chat-v3.1 | T=0.1",
          "base_deepseek-deepseek-chat-v3.1 | T=0.1",
          "base_deepseek-deepseek-chat-v3.1 | T=0.1",
          "base_deepseek-deepseek-chat-v3.1 | T=0.1",
          "base_deepseek-deepseek-chat-v3.1 | T=0.1",
          "base_deepseek-deepseek-chat-v3.1 | T=0.1",
          "base_deepseek-deepseek-chat-v3.1 | T=0.1",
          "base_deepseek-deepseek-chat-v3.1 | T=0.1",
          "base_deepseek-deepseek-chat-v3.1 | T=0.1",
          "base_deepseek-deepseek-chat-v3.1 | T=0.1",
          "base_deepseek-deepseek-chat-v3.1 | T=0.1",
          "base_deepseek-deepseek-chat-v3.1 | T=0.1",
          "base_deepseek-deepseek-chat-v3.1 | T=0.1",
          "base_deepseek-deepseek-chat-v3.1 | T=0.1",
          "base_deepseek-deepseek-chat-v3.1 | T=0.1",
          "base_deepseek-deepseek-chat-v3.1 | T=0.1",
          "base_deepseek-deepseek-chat-v3.1 | T=0.1",
          "base_deepseek-deepseek-chat-v3.1 | T=0.1",
          "base_deepseek-deepseek-chat-v3.1 | T=0.1",
          "base_deepseek-deepseek-chat-v3.1 | T=0.1",
          "base_deepseek-deepseek-chat-v3.1 | T=0.1",
          "base_deepseek-deepseek-chat-v3.1 | T=0.1",
          "base_deepseek-deepseek-chat-v3.1 | T=0.1",
          "base_deepseek-deepseek-chat-v3.1 | T=0.1",
          "base_deepseek-deepseek-chat-v3.1 | T=0.1",
          "base_deepseek-deepseek-chat-v3.1 | T=0.1",
          "base_deepseek-deepseek-chat-v3.1 | T=0.1",
          "base_deepseek-deepseek-chat-v3.1 | T=0.1",
          "base_deepseek-deepseek-chat-v3.1 | T=0.1",
          "base_deepseek-deepseek-chat-v3.1 | T=0.1",
          "base_deepseek-deepseek-chat-v3.1 | T=0.1",
          "base_deepseek-deepseek-chat-v3.1 | T=0.1",
          "base_deepseek-deepseek-chat-v3.1 | T=0.1",
          "base_deepseek-deepseek-chat-v3.1 | T=0.1",
          "base_deepseek-deepseek-chat-v3.1 | T=0.1",
          "base_deepseek-deepseek-chat-v3.1 | T=0.1",
          "base_deepseek-deepseek-chat-v3.1 | T=0.1",
          "base_deepseek-deepseek-chat-v3.1 | T=0.1",
          "base_deepseek-deepseek-chat-v3.1 | T=0.1",
          "base_deepseek-deepseek-chat-v3.1 | T=0.1",
          "base_deepseek-deepseek-chat-v3.1 | T=0.1",
          "base_deepseek-deepseek-chat-v3.1 | T=0.1",
          "base_deepseek-deepseek-chat-v3.1 | T=0.1",
          "base_deepseek-deepseek-chat-v3.1 | T=0.1",
          "base_deepseek-deepseek-chat-v3.1 | T=0.1",
          "base_deepseek-deepseek-chat-v3.1 | T=0.1",
          "base_deepseek-deepseek-chat-v3.1 | T=0.1",
          "base_deepseek-deepseek-chat-v3.1 | T=0.1",
          "base_deepseek-deepseek-chat-v3.1 | T=0.1",
          "base_deepseek-deepseek-chat-v3.1 | T=0.1",
          "base_deepseek-deepseek-chat-v3.1 | T=0.1",
          "base_deepseek-deepseek-chat-v3.1 | T=0.1",
          "base_deepseek-deepseek-chat-v3.1 | T=0.1",
          "base_deepseek-deepseek-chat-v3.1 | T=0.1",
          "base_deepseek-deepseek-chat-v3.1 | T=0.1",
          "base_deepseek-deepseek-chat-v3.1 | T=0.1",
          "base_deepseek-deepseek-chat-v3.1 | T=0.1",
          "base_deepseek-deepseek-chat-v3.1 | T=0.1",
          "base_deepseek-deepseek-chat-v3.1 | T=0.1",
          "base_deepseek-deepseek-chat-v3.1 | T=0.1",
          "base_openai-gpt-4.1-mini | T=0.3",
          "base_openai-gpt-4.1-mini | T=0.3",
          "base_openai-gpt-4.1-mini | T=0.3",
          "base_openai-gpt-4.1-mini | T=0.3",
          "base_openai-gpt-4.1-mini | T=0.3",
          "base_openai-gpt-4.1-mini | T=0.3",
          "base_openai-gpt-4.1-mini | T=0.3",
          "base_openai-gpt-4.1-mini | T=0.3",
          "base_openai-gpt-4.1-mini | T=0.3",
          "base_openai-gpt-4.1-mini | T=0.3",
          "base_openai-gpt-4.1-mini | T=0.3",
          "base_openai-gpt-4.1-mini | T=0.3",
          "base_openai-gpt-4.1-mini | T=0.3",
          "base_openai-gpt-4.1-mini | T=0.3",
          "base_openai-gpt-4.1-mini | T=0.3",
          "base_openai-gpt-4.1-mini | T=0.3",
          "base_openai-gpt-4.1-mini | T=0.3",
          "base_openai-gpt-4.1-mini | T=0.3",
          "base_openai-gpt-4.1-mini | T=0.3",
          "base_openai-gpt-4.1-mini | T=0.3",
          "base_openai-gpt-4.1-mini | T=0.3",
          "base_openai-gpt-4.1-mini | T=0.3",
          "base_openai-gpt-4.1-mini | T=0.3",
          "base_openai-gpt-4.1-mini | T=0.3",
          "base_openai-gpt-4.1-mini | T=0.3",
          "base_openai-gpt-4.1-mini | T=0.3",
          "base_openai-gpt-4.1-mini | T=0.3",
          "base_openai-gpt-4.1-mini | T=0.3",
          "base_openai-gpt-4.1-mini | T=0.3",
          "base_openai-gpt-4.1-mini | T=0.3",
          "base_openai-gpt-4.1-mini | T=0.3",
          "base_openai-gpt-4.1-mini | T=0.3",
          "base_openai-gpt-4.1-mini | T=0.3",
          "base_openai-gpt-4.1-mini | T=0.3",
          "base_openai-gpt-4.1-mini | T=0.3",
          "base_openai-gpt-4.1-mini | T=0.3",
          "base_openai-gpt-4.1-mini | T=0.3",
          "base_openai-gpt-4.1-mini | T=0.3",
          "base_openai-gpt-4.1-mini | T=0.3",
          "base_openai-gpt-4.1-mini | T=0.3",
          "base_openai-gpt-4.1-mini | T=0.3",
          "base_openai-gpt-4.1-mini | T=0.3",
          "base_openai-gpt-4.1-mini | T=0.3",
          "base_openai-gpt-4.1-mini | T=0.3",
          "base_openai-gpt-4.1-mini | T=0.3",
          "base_openai-gpt-4.1-mini | T=0.3",
          "base_openai-gpt-4.1-mini | T=0.3",
          "base_openai-gpt-4.1-mini | T=0.3",
          "base_openai-gpt-4.1-mini | T=0.3",
          "base_openai-gpt-4.1-mini | T=0.3",
          "base_openai-gpt-4.1-mini | T=0.3",
          "base_openai-gpt-4.1-mini | T=0.3",
          "base_openai-gpt-4.1-mini | T=0.3",
          "base_openai-gpt-4.1-mini | T=0.3",
          "base_openai-gpt-4.1-mini | T=0.3",
          "base_openai-gpt-4.1-mini | T=0.3",
          "base_openai-gpt-4.1-mini | T=0.3",
          "base_openai-gpt-4.1-mini | T=0.3",
          "base_openai-gpt-4.1-mini | T=0.3",
          "base_openai-gpt-4.1-mini | T=0.3",
          "base_openai-gpt-4.1-mini | T=0.3",
          "base_openai-gpt-4.1-mini | T=0.3",
          "base_openai-gpt-4.1-mini | T=0.3",
          "base_openai-gpt-4.1-mini | T=0.3",
          "base_openai-gpt-4.1-mini | T=0.3",
          "base_openai-gpt-4.1-mini | T=0.3",
          "base_openai-gpt-4.1-mini | T=0.3",
          "base_openai-gpt-4.1-mini | T=0.3",
          "base_openai-gpt-4.1-mini | T=0.3",
          "base_openai-gpt-4.1-mini | T=0.3",
          "base_openai-gpt-4.1-mini | T=0.3",
          "base_openai-gpt-4.1-mini | T=0.3",
          "base_openai-gpt-4.1-mini | T=0.3",
          "base_openai-gpt-4.1-mini | T=0.3",
          "base_openai-gpt-4.1-mini | T=0.3",
          "base_openai-gpt-4.1-mini | T=0.3",
          "base_openai-gpt-4.1-mini | T=0.3",
          "base_openai-gpt-4.1-mini | T=0.3",
          "base_openai-gpt-4.1-mini | T=0.3",
          "base_openai-gpt-4.1-mini | T=0.3",
          "base_openai-gpt-4.1-mini | T=0.3",
          "base_openai-gpt-4.1-mini | T=0.3",
          "base_openai-gpt-4.1-mini | T=0.3",
          "base_openai-gpt-4.1-mini | T=0.3",
          "base_openai-gpt-4.1-mini | T=0.3",
          "base_openai-gpt-4.1-mini | T=0.3",
          "base_openai-gpt-4.1-mini | T=0.3",
          "base_openai-gpt-4.1-mini | T=0.3",
          "base_openai-gpt-4.1-mini | T=0.3",
          "base_openai-gpt-4.1-mini | T=0.3",
          "base_openai-gpt-4.1-mini | T=0.3",
          "base_openai-gpt-4.1-mini | T=0.3",
          "base_openai-gpt-4.1-mini | T=0.3",
          "base_openai-gpt-4.1-mini | T=0.3",
          "base_openai-gpt-4.1-mini | T=0.3",
          "base_openai-gpt-4.1-mini | T=0.3",
          "base_openai-gpt-4.1-mini | T=0.3",
          "base_openai-gpt-4.1-mini | T=0.3",
          "base_openai-gpt-4.1-mini | T=0.3",
          "base_openai-gpt-4.1-mini | T=0.3",
          "base_openai-gpt-4.1-mini | T=0.8",
          "base_openai-gpt-4.1-mini | T=0.8",
          "base_openai-gpt-4.1-mini | T=0.8",
          "base_openai-gpt-4.1-mini | T=0.8",
          "base_openai-gpt-4.1-mini | T=0.8",
          "base_openai-gpt-4.1-mini | T=0.8",
          "base_openai-gpt-4.1-mini | T=0.8",
          "base_openai-gpt-4.1-mini | T=0.8",
          "base_openai-gpt-4.1-mini | T=0.8",
          "base_openai-gpt-4.1-mini | T=0.8",
          "base_openai-gpt-4.1-mini | T=0.8",
          "base_openai-gpt-4.1-mini | T=0.8",
          "base_openai-gpt-4.1-mini | T=0.8",
          "base_openai-gpt-4.1-mini | T=0.8",
          "base_openai-gpt-4.1-mini | T=0.8",
          "base_openai-gpt-4.1-mini | T=0.8",
          "base_openai-gpt-4.1-mini | T=0.8",
          "base_openai-gpt-4.1-mini | T=0.8",
          "base_openai-gpt-4.1-mini | T=0.8",
          "base_openai-gpt-4.1-mini | T=0.8",
          "base_openai-gpt-4.1-mini | T=0.8",
          "base_openai-gpt-4.1-mini | T=0.8",
          "base_openai-gpt-4.1-mini | T=0.8",
          "base_openai-gpt-4.1-mini | T=0.8",
          "base_openai-gpt-4.1-mini | T=0.8",
          "base_openai-gpt-4.1-mini | T=0.8",
          "base_openai-gpt-4.1-mini | T=0.8",
          "base_openai-gpt-4.1-mini | T=0.8",
          "base_openai-gpt-4.1-mini | T=0.8",
          "base_openai-gpt-4.1-mini | T=0.8",
          "base_openai-gpt-4.1-mini | T=0.8",
          "base_openai-gpt-4.1-mini | T=0.8",
          "base_openai-gpt-4.1-mini | T=0.8",
          "base_openai-gpt-4.1-mini | T=0.8",
          "base_openai-gpt-4.1-mini | T=0.8",
          "base_openai-gpt-4.1-mini | T=0.8",
          "base_openai-gpt-4.1-mini | T=0.8",
          "base_openai-gpt-4.1-mini | T=0.8",
          "base_openai-gpt-4.1-mini | T=0.8",
          "base_openai-gpt-4.1-mini | T=0.8",
          "base_openai-gpt-4.1-mini | T=0.8",
          "base_openai-gpt-4.1-mini | T=0.8",
          "base_openai-gpt-4.1-mini | T=0.8",
          "base_openai-gpt-4.1-mini | T=0.8",
          "base_openai-gpt-4.1-mini | T=0.8",
          "base_openai-gpt-4.1-mini | T=0.8",
          "base_openai-gpt-4.1-mini | T=0.8",
          "base_openai-gpt-4.1-mini | T=0.8",
          "base_openai-gpt-4.1-mini | T=0.8",
          "base_openai-gpt-4.1-mini | T=0.8",
          "base_openai-gpt-4.1-mini | T=0.8",
          "base_openai-gpt-4.1-mini | T=0.8",
          "base_openai-gpt-4.1-mini | T=0.8",
          "base_openai-gpt-4.1-mini | T=0.8",
          "base_openai-gpt-4.1-mini | T=0.8",
          "base_openai-gpt-4.1-mini | T=0.8",
          "base_openai-gpt-4.1-mini | T=0.8",
          "base_openai-gpt-4.1-mini | T=0.8",
          "base_openai-gpt-4.1-mini | T=0.8",
          "base_openai-gpt-4.1-mini | T=0.8",
          "base_openai-gpt-4.1-mini | T=0.8",
          "base_openai-gpt-4.1-mini | T=0.8",
          "base_openai-gpt-4.1-mini | T=0.8",
          "base_openai-gpt-4.1-mini | T=0.8",
          "base_openai-gpt-4.1-mini | T=0.8",
          "base_openai-gpt-4.1-mini | T=0.8",
          "base_openai-gpt-4.1-mini | T=0.8",
          "base_openai-gpt-4.1-mini | T=0.8",
          "base_openai-gpt-4.1-mini | T=0.8",
          "base_openai-gpt-4.1-mini | T=0.8",
          "base_openai-gpt-4.1-mini | T=0.8",
          "base_openai-gpt-4.1-mini | T=0.8",
          "base_openai-gpt-4.1-mini | T=0.8",
          "base_openai-gpt-4.1-mini | T=0.8",
          "base_openai-gpt-4.1-mini | T=0.8",
          "base_openai-gpt-4.1-mini | T=0.8",
          "base_openai-gpt-4.1-mini | T=0.8",
          "base_openai-gpt-4.1-mini | T=0.8",
          "base_openai-gpt-4.1-mini | T=0.8",
          "base_openai-gpt-4.1-mini | T=0.8",
          "base_openai-gpt-4.1-mini | T=0.8",
          "base_openai-gpt-4.1-mini | T=0.8",
          "base_openai-gpt-4.1-mini | T=0.8",
          "base_openai-gpt-4.1-mini | T=0.8",
          "base_openai-gpt-4.1-mini | T=0.8",
          "base_openai-gpt-4.1-mini | T=0.8",
          "base_openai-gpt-4.1-mini | T=0.8",
          "base_openai-gpt-4.1-mini | T=0.8",
          "base_openai-gpt-4.1-mini | T=0.8",
          "base_openai-gpt-4.1-mini | T=0.8",
          "base_openai-gpt-4.1-mini | T=0.8",
          "base_openai-gpt-4.1-mini | T=0.8",
          "base_openai-gpt-4.1-mini | T=0.8",
          "base_openai-gpt-4.1-mini | T=0.8",
          "base_openai-gpt-4.1-mini | T=0.8",
          "base_openai-gpt-4.1-mini | T=0.8",
          "base_openai-gpt-4.1-mini | T=0.8",
          "base_openai-gpt-4.1-mini | T=0.8",
          "base_openai-gpt-4.1-mini | T=0.8",
          "base_openai-gpt-4.1-mini | T=0.8",
          "base_openai-gpt-4.1-mini | T=0.4",
          "base_openai-gpt-4.1-mini | T=0.4",
          "base_openai-gpt-4.1-mini | T=0.4",
          "base_openai-gpt-4.1-mini | T=0.4",
          "base_openai-gpt-4.1-mini | T=0.4",
          "base_openai-gpt-4.1-mini | T=0.4",
          "base_openai-gpt-4.1-mini | T=0.4",
          "base_openai-gpt-4.1-mini | T=0.4",
          "base_openai-gpt-4.1-mini | T=0.4",
          "base_openai-gpt-4.1-mini | T=0.4",
          "base_openai-gpt-4.1-mini | T=0.4",
          "base_openai-gpt-4.1-mini | T=0.4",
          "base_openai-gpt-4.1-mini | T=0.4",
          "base_openai-gpt-4.1-mini | T=0.4",
          "base_openai-gpt-4.1-mini | T=0.4",
          "base_openai-gpt-4.1-mini | T=0.4",
          "base_openai-gpt-4.1-mini | T=0.4",
          "base_openai-gpt-4.1-mini | T=0.4",
          "base_openai-gpt-4.1-mini | T=0.4",
          "base_openai-gpt-4.1-mini | T=0.4",
          "base_openai-gpt-4.1-mini | T=0.4",
          "base_openai-gpt-4.1-mini | T=0.4",
          "base_openai-gpt-4.1-mini | T=0.4",
          "base_openai-gpt-4.1-mini | T=0.4",
          "base_openai-gpt-4.1-mini | T=0.4",
          "base_openai-gpt-4.1-mini | T=0.4",
          "base_openai-gpt-4.1-mini | T=0.4",
          "base_openai-gpt-4.1-mini | T=0.4",
          "base_openai-gpt-4.1-mini | T=0.4",
          "base_openai-gpt-4.1-mini | T=0.4",
          "base_openai-gpt-4.1-mini | T=0.4",
          "base_openai-gpt-4.1-mini | T=0.4",
          "base_openai-gpt-4.1-mini | T=0.4",
          "base_openai-gpt-4.1-mini | T=0.4",
          "base_openai-gpt-4.1-mini | T=0.4",
          "base_openai-gpt-4.1-mini | T=0.4",
          "base_openai-gpt-4.1-mini | T=0.4",
          "base_openai-gpt-4.1-mini | T=0.4",
          "base_openai-gpt-4.1-mini | T=0.4",
          "base_openai-gpt-4.1-mini | T=0.4",
          "base_openai-gpt-4.1-mini | T=0.4",
          "base_openai-gpt-4.1-mini | T=0.4",
          "base_openai-gpt-4.1-mini | T=0.4",
          "base_openai-gpt-4.1-mini | T=0.4",
          "base_openai-gpt-4.1-mini | T=0.4",
          "base_openai-gpt-4.1-mini | T=0.4",
          "base_openai-gpt-4.1-mini | T=0.4",
          "base_openai-gpt-4.1-mini | T=0.4",
          "base_openai-gpt-4.1-mini | T=0.4",
          "base_openai-gpt-4.1-mini | T=0.4",
          "base_openai-gpt-4.1-mini | T=0.4",
          "base_openai-gpt-4.1-mini | T=0.4",
          "base_openai-gpt-4.1-mini | T=0.4",
          "base_openai-gpt-4.1-mini | T=0.4",
          "base_openai-gpt-4.1-mini | T=0.4",
          "base_openai-gpt-4.1-mini | T=0.4",
          "base_openai-gpt-4.1-mini | T=0.4",
          "base_openai-gpt-4.1-mini | T=0.4",
          "base_openai-gpt-4.1-mini | T=0.4",
          "base_openai-gpt-4.1-mini | T=0.4",
          "base_openai-gpt-4.1-mini | T=0.4",
          "base_openai-gpt-4.1-mini | T=0.4",
          "base_openai-gpt-4.1-mini | T=0.4",
          "base_openai-gpt-4.1-mini | T=0.4",
          "base_openai-gpt-4.1-mini | T=0.4",
          "base_openai-gpt-4.1-mini | T=0.4",
          "base_openai-gpt-4.1-mini | T=0.4",
          "base_openai-gpt-4.1-mini | T=0.4",
          "base_openai-gpt-4.1-mini | T=0.4",
          "base_openai-gpt-4.1-mini | T=0.4",
          "base_openai-gpt-4.1-mini | T=0.4",
          "base_openai-gpt-4.1-mini | T=0.4",
          "base_openai-gpt-4.1-mini | T=0.4",
          "base_openai-gpt-4.1-mini | T=0.4",
          "base_openai-gpt-4.1-mini | T=0.4",
          "base_openai-gpt-4.1-mini | T=0.4",
          "base_openai-gpt-4.1-mini | T=0.4",
          "base_openai-gpt-4.1-mini | T=0.4",
          "base_openai-gpt-4.1-mini | T=0.4",
          "base_openai-gpt-4.1-mini | T=0.4",
          "base_openai-gpt-4.1-mini | T=0.4",
          "base_openai-gpt-4.1-mini | T=0.4",
          "base_openai-gpt-4.1-mini | T=0.4",
          "base_openai-gpt-4.1-mini | T=0.4",
          "base_openai-gpt-4.1-mini | T=0.4",
          "base_openai-gpt-4.1-mini | T=0.4",
          "base_openai-gpt-4.1-mini | T=0.4",
          "base_openai-gpt-4.1-mini | T=0.4",
          "base_openai-gpt-4.1-mini | T=0.4",
          "base_openai-gpt-4.1-mini | T=0.4",
          "base_openai-gpt-4.1-mini | T=0.4",
          "base_openai-gpt-4.1-mini | T=0.4",
          "base_openai-gpt-4.1-mini | T=0.4",
          "base_openai-gpt-4.1-mini | T=0.4",
          "base_openai-gpt-4.1-mini | T=0.4",
          "base_openai-gpt-4.1-mini | T=0.4",
          "base_openai-gpt-4.1-mini | T=0.4",
          "base_openai-gpt-4.1-mini | T=0.4",
          "base_openai-gpt-4.1-mini | T=0.4",
          "base_openai-gpt-4.1-mini | T=0.4",
          "base_deepseek-deepseek-chat-v3.1 | T=0.6",
          "base_deepseek-deepseek-chat-v3.1 | T=0.6",
          "base_deepseek-deepseek-chat-v3.1 | T=0.6",
          "base_deepseek-deepseek-chat-v3.1 | T=0.6",
          "base_deepseek-deepseek-chat-v3.1 | T=0.6",
          "base_deepseek-deepseek-chat-v3.1 | T=0.6",
          "base_deepseek-deepseek-chat-v3.1 | T=0.6",
          "base_deepseek-deepseek-chat-v3.1 | T=0.6",
          "base_deepseek-deepseek-chat-v3.1 | T=0.6",
          "base_deepseek-deepseek-chat-v3.1 | T=0.6",
          "base_deepseek-deepseek-chat-v3.1 | T=0.6",
          "base_deepseek-deepseek-chat-v3.1 | T=0.6",
          "base_deepseek-deepseek-chat-v3.1 | T=0.6",
          "base_deepseek-deepseek-chat-v3.1 | T=0.6",
          "base_deepseek-deepseek-chat-v3.1 | T=0.6",
          "base_deepseek-deepseek-chat-v3.1 | T=0.6",
          "base_deepseek-deepseek-chat-v3.1 | T=0.6",
          "base_deepseek-deepseek-chat-v3.1 | T=0.6",
          "base_deepseek-deepseek-chat-v3.1 | T=0.6",
          "base_deepseek-deepseek-chat-v3.1 | T=0.6",
          "base_deepseek-deepseek-chat-v3.1 | T=0.6",
          "base_deepseek-deepseek-chat-v3.1 | T=0.6",
          "base_deepseek-deepseek-chat-v3.1 | T=0.6",
          "base_deepseek-deepseek-chat-v3.1 | T=0.6",
          "base_deepseek-deepseek-chat-v3.1 | T=0.6",
          "base_deepseek-deepseek-chat-v3.1 | T=0.6",
          "base_deepseek-deepseek-chat-v3.1 | T=0.6",
          "base_deepseek-deepseek-chat-v3.1 | T=0.6",
          "base_deepseek-deepseek-chat-v3.1 | T=0.6",
          "base_deepseek-deepseek-chat-v3.1 | T=0.6",
          "base_deepseek-deepseek-chat-v3.1 | T=0.6",
          "base_deepseek-deepseek-chat-v3.1 | T=0.6",
          "base_deepseek-deepseek-chat-v3.1 | T=0.6",
          "base_deepseek-deepseek-chat-v3.1 | T=0.6",
          "base_deepseek-deepseek-chat-v3.1 | T=0.6",
          "base_deepseek-deepseek-chat-v3.1 | T=0.6",
          "base_deepseek-deepseek-chat-v3.1 | T=0.6",
          "base_deepseek-deepseek-chat-v3.1 | T=0.6",
          "base_deepseek-deepseek-chat-v3.1 | T=0.6",
          "base_deepseek-deepseek-chat-v3.1 | T=0.6",
          "base_deepseek-deepseek-chat-v3.1 | T=0.6",
          "base_deepseek-deepseek-chat-v3.1 | T=0.6",
          "base_deepseek-deepseek-chat-v3.1 | T=0.6",
          "base_deepseek-deepseek-chat-v3.1 | T=0.6",
          "base_deepseek-deepseek-chat-v3.1 | T=0.6",
          "base_deepseek-deepseek-chat-v3.1 | T=0.6",
          "base_deepseek-deepseek-chat-v3.1 | T=0.6",
          "base_deepseek-deepseek-chat-v3.1 | T=0.6",
          "base_deepseek-deepseek-chat-v3.1 | T=0.6",
          "base_deepseek-deepseek-chat-v3.1 | T=0.6",
          "base_deepseek-deepseek-chat-v3.1 | T=0.6",
          "base_deepseek-deepseek-chat-v3.1 | T=0.6",
          "base_deepseek-deepseek-chat-v3.1 | T=0.6",
          "base_deepseek-deepseek-chat-v3.1 | T=0.6",
          "base_deepseek-deepseek-chat-v3.1 | T=0.6",
          "base_deepseek-deepseek-chat-v3.1 | T=0.6",
          "base_deepseek-deepseek-chat-v3.1 | T=0.6",
          "base_deepseek-deepseek-chat-v3.1 | T=0.6",
          "base_deepseek-deepseek-chat-v3.1 | T=0.6",
          "base_deepseek-deepseek-chat-v3.1 | T=0.6",
          "base_deepseek-deepseek-chat-v3.1 | T=0.6",
          "base_deepseek-deepseek-chat-v3.1 | T=0.6",
          "base_deepseek-deepseek-chat-v3.1 | T=0.6",
          "base_deepseek-deepseek-chat-v3.1 | T=0.6",
          "base_deepseek-deepseek-chat-v3.1 | T=0.6",
          "base_deepseek-deepseek-chat-v3.1 | T=0.6",
          "base_deepseek-deepseek-chat-v3.1 | T=0.6",
          "base_deepseek-deepseek-chat-v3.1 | T=0.6",
          "base_deepseek-deepseek-chat-v3.1 | T=0.6",
          "base_deepseek-deepseek-chat-v3.1 | T=0.6",
          "base_deepseek-deepseek-chat-v3.1 | T=0.6",
          "base_deepseek-deepseek-chat-v3.1 | T=0.6",
          "base_deepseek-deepseek-chat-v3.1 | T=0.6",
          "base_deepseek-deepseek-chat-v3.1 | T=0.6",
          "base_deepseek-deepseek-chat-v3.1 | T=0.6",
          "base_deepseek-deepseek-chat-v3.1 | T=0.6",
          "base_deepseek-deepseek-chat-v3.1 | T=0.6",
          "base_deepseek-deepseek-chat-v3.1 | T=0.6",
          "base_deepseek-deepseek-chat-v3.1 | T=0.6",
          "base_deepseek-deepseek-chat-v3.1 | T=0.6",
          "base_deepseek-deepseek-chat-v3.1 | T=0.6",
          "base_deepseek-deepseek-chat-v3.1 | T=0.6",
          "base_deepseek-deepseek-chat-v3.1 | T=0.6",
          "base_deepseek-deepseek-chat-v3.1 | T=0.6",
          "base_deepseek-deepseek-chat-v3.1 | T=0.6",
          "base_deepseek-deepseek-chat-v3.1 | T=0.6",
          "base_deepseek-deepseek-chat-v3.1 | T=0.6",
          "base_deepseek-deepseek-chat-v3.1 | T=0.6",
          "base_deepseek-deepseek-chat-v3.1 | T=0.6",
          "base_deepseek-deepseek-chat-v3.1 | T=0.6",
          "base_deepseek-deepseek-chat-v3.1 | T=0.6",
          "base_deepseek-deepseek-chat-v3.1 | T=0.6",
          "base_deepseek-deepseek-chat-v3.1 | T=0.6",
          "base_deepseek-deepseek-chat-v3.1 | T=0.6",
          "base_deepseek-deepseek-chat-v3.1 | T=0.6",
          "base_deepseek-deepseek-chat-v3.1 | T=0.6",
          "base_deepseek-deepseek-chat-v3.1 | T=0.6",
          "base_deepseek-deepseek-chat-v3.1 | T=0.6",
          "base_deepseek-deepseek-chat-v3.1 | T=0.6",
          "base_deepseek-deepseek-chat-v3.1 | T=0.6",
          "base_deepseek-deepseek-chat-v3.1 | T=0.3",
          "base_deepseek-deepseek-chat-v3.1 | T=0.3",
          "base_deepseek-deepseek-chat-v3.1 | T=0.3",
          "base_deepseek-deepseek-chat-v3.1 | T=0.3",
          "base_deepseek-deepseek-chat-v3.1 | T=0.3",
          "base_deepseek-deepseek-chat-v3.1 | T=0.3",
          "base_deepseek-deepseek-chat-v3.1 | T=0.3",
          "base_deepseek-deepseek-chat-v3.1 | T=0.3",
          "base_deepseek-deepseek-chat-v3.1 | T=0.3",
          "base_deepseek-deepseek-chat-v3.1 | T=0.3",
          "base_deepseek-deepseek-chat-v3.1 | T=0.3",
          "base_deepseek-deepseek-chat-v3.1 | T=0.3",
          "base_deepseek-deepseek-chat-v3.1 | T=0.3",
          "base_deepseek-deepseek-chat-v3.1 | T=0.3",
          "base_deepseek-deepseek-chat-v3.1 | T=0.3",
          "base_deepseek-deepseek-chat-v3.1 | T=0.3",
          "base_deepseek-deepseek-chat-v3.1 | T=0.3",
          "base_deepseek-deepseek-chat-v3.1 | T=0.3",
          "base_deepseek-deepseek-chat-v3.1 | T=0.3",
          "base_deepseek-deepseek-chat-v3.1 | T=0.3",
          "base_deepseek-deepseek-chat-v3.1 | T=0.3",
          "base_deepseek-deepseek-chat-v3.1 | T=0.3",
          "base_deepseek-deepseek-chat-v3.1 | T=0.3",
          "base_deepseek-deepseek-chat-v3.1 | T=0.3",
          "base_deepseek-deepseek-chat-v3.1 | T=0.3",
          "base_deepseek-deepseek-chat-v3.1 | T=0.3",
          "base_deepseek-deepseek-chat-v3.1 | T=0.3",
          "base_deepseek-deepseek-chat-v3.1 | T=0.3",
          "base_deepseek-deepseek-chat-v3.1 | T=0.3",
          "base_deepseek-deepseek-chat-v3.1 | T=0.3",
          "base_deepseek-deepseek-chat-v3.1 | T=0.3",
          "base_deepseek-deepseek-chat-v3.1 | T=0.3",
          "base_deepseek-deepseek-chat-v3.1 | T=0.3",
          "base_deepseek-deepseek-chat-v3.1 | T=0.3",
          "base_deepseek-deepseek-chat-v3.1 | T=0.3",
          "base_deepseek-deepseek-chat-v3.1 | T=0.3",
          "base_deepseek-deepseek-chat-v3.1 | T=0.3",
          "base_deepseek-deepseek-chat-v3.1 | T=0.3",
          "base_deepseek-deepseek-chat-v3.1 | T=0.3",
          "base_deepseek-deepseek-chat-v3.1 | T=0.3",
          "base_deepseek-deepseek-chat-v3.1 | T=0.3",
          "base_deepseek-deepseek-chat-v3.1 | T=0.3",
          "base_deepseek-deepseek-chat-v3.1 | T=0.3",
          "base_deepseek-deepseek-chat-v3.1 | T=0.3",
          "base_deepseek-deepseek-chat-v3.1 | T=0.3",
          "base_deepseek-deepseek-chat-v3.1 | T=0.3",
          "base_deepseek-deepseek-chat-v3.1 | T=0.3",
          "base_deepseek-deepseek-chat-v3.1 | T=0.3",
          "base_deepseek-deepseek-chat-v3.1 | T=0.3",
          "base_deepseek-deepseek-chat-v3.1 | T=0.3",
          "base_deepseek-deepseek-chat-v3.1 | T=0.3",
          "base_deepseek-deepseek-chat-v3.1 | T=0.3",
          "base_deepseek-deepseek-chat-v3.1 | T=0.3",
          "base_deepseek-deepseek-chat-v3.1 | T=0.3",
          "base_deepseek-deepseek-chat-v3.1 | T=0.3",
          "base_deepseek-deepseek-chat-v3.1 | T=0.3",
          "base_deepseek-deepseek-chat-v3.1 | T=0.3",
          "base_deepseek-deepseek-chat-v3.1 | T=0.3",
          "base_deepseek-deepseek-chat-v3.1 | T=0.3",
          "base_deepseek-deepseek-chat-v3.1 | T=0.3",
          "base_deepseek-deepseek-chat-v3.1 | T=0.3",
          "base_deepseek-deepseek-chat-v3.1 | T=0.3",
          "base_deepseek-deepseek-chat-v3.1 | T=0.3",
          "base_deepseek-deepseek-chat-v3.1 | T=0.3",
          "base_deepseek-deepseek-chat-v3.1 | T=0.3",
          "base_deepseek-deepseek-chat-v3.1 | T=0.3",
          "base_deepseek-deepseek-chat-v3.1 | T=0.3",
          "base_deepseek-deepseek-chat-v3.1 | T=0.3",
          "base_deepseek-deepseek-chat-v3.1 | T=0.3",
          "base_deepseek-deepseek-chat-v3.1 | T=0.3",
          "base_deepseek-deepseek-chat-v3.1 | T=0.3",
          "base_deepseek-deepseek-chat-v3.1 | T=0.3",
          "base_deepseek-deepseek-chat-v3.1 | T=0.3",
          "base_deepseek-deepseek-chat-v3.1 | T=0.3",
          "base_deepseek-deepseek-chat-v3.1 | T=0.3",
          "base_deepseek-deepseek-chat-v3.1 | T=0.3",
          "base_deepseek-deepseek-chat-v3.1 | T=0.3",
          "base_deepseek-deepseek-chat-v3.1 | T=0.3",
          "base_deepseek-deepseek-chat-v3.1 | T=0.3",
          "base_deepseek-deepseek-chat-v3.1 | T=0.3",
          "base_deepseek-deepseek-chat-v3.1 | T=0.3",
          "base_deepseek-deepseek-chat-v3.1 | T=0.3",
          "base_deepseek-deepseek-chat-v3.1 | T=0.3",
          "base_deepseek-deepseek-chat-v3.1 | T=0.3",
          "base_deepseek-deepseek-chat-v3.1 | T=0.3",
          "base_deepseek-deepseek-chat-v3.1 | T=0.3",
          "base_deepseek-deepseek-chat-v3.1 | T=0.3",
          "base_deepseek-deepseek-chat-v3.1 | T=0.3",
          "base_deepseek-deepseek-chat-v3.1 | T=0.3",
          "base_deepseek-deepseek-chat-v3.1 | T=0.3",
          "base_deepseek-deepseek-chat-v3.1 | T=0.3",
          "base_deepseek-deepseek-chat-v3.1 | T=0.3",
          "base_deepseek-deepseek-chat-v3.1 | T=0.3",
          "base_deepseek-deepseek-chat-v3.1 | T=0.3",
          "base_deepseek-deepseek-chat-v3.1 | T=0.3",
          "base_deepseek-deepseek-chat-v3.1 | T=0.3",
          "base_deepseek-deepseek-chat-v3.1 | T=0.3",
          "base_deepseek-deepseek-chat-v3.1 | T=0.3",
          "base_deepseek-deepseek-chat-v3.1 | T=0.3",
          "base_deepseek-deepseek-chat-v3.1 | T=0.3",
          "base_openai-gpt-4.1-mini | T=0.1",
          "base_openai-gpt-4.1-mini | T=0.1",
          "base_openai-gpt-4.1-mini | T=0.1",
          "base_openai-gpt-4.1-mini | T=0.1",
          "base_openai-gpt-4.1-mini | T=0.1",
          "base_openai-gpt-4.1-mini | T=0.1",
          "base_openai-gpt-4.1-mini | T=0.1",
          "base_openai-gpt-4.1-mini | T=0.1",
          "base_openai-gpt-4.1-mini | T=0.1",
          "base_openai-gpt-4.1-mini | T=0.1",
          "base_openai-gpt-4.1-mini | T=0.1",
          "base_openai-gpt-4.1-mini | T=0.1",
          "base_openai-gpt-4.1-mini | T=0.1",
          "base_openai-gpt-4.1-mini | T=0.1",
          "base_openai-gpt-4.1-mini | T=0.1",
          "base_openai-gpt-4.1-mini | T=0.1",
          "base_openai-gpt-4.1-mini | T=0.1",
          "base_openai-gpt-4.1-mini | T=0.1",
          "base_openai-gpt-4.1-mini | T=0.1",
          "base_openai-gpt-4.1-mini | T=0.1",
          "base_openai-gpt-4.1-mini | T=0.1",
          "base_openai-gpt-4.1-mini | T=0.1",
          "base_openai-gpt-4.1-mini | T=0.1",
          "base_openai-gpt-4.1-mini | T=0.1",
          "base_openai-gpt-4.1-mini | T=0.1",
          "base_openai-gpt-4.1-mini | T=0.1",
          "base_openai-gpt-4.1-mini | T=0.1",
          "base_openai-gpt-4.1-mini | T=0.1",
          "base_openai-gpt-4.1-mini | T=0.1",
          "base_openai-gpt-4.1-mini | T=0.1",
          "base_openai-gpt-4.1-mini | T=0.1",
          "base_openai-gpt-4.1-mini | T=0.1",
          "base_openai-gpt-4.1-mini | T=0.1",
          "base_openai-gpt-4.1-mini | T=0.1",
          "base_openai-gpt-4.1-mini | T=0.1",
          "base_openai-gpt-4.1-mini | T=0.1",
          "base_openai-gpt-4.1-mini | T=0.1",
          "base_openai-gpt-4.1-mini | T=0.1",
          "base_openai-gpt-4.1-mini | T=0.1",
          "base_openai-gpt-4.1-mini | T=0.1",
          "base_openai-gpt-4.1-mini | T=0.1",
          "base_openai-gpt-4.1-mini | T=0.1",
          "base_openai-gpt-4.1-mini | T=0.1",
          "base_openai-gpt-4.1-mini | T=0.1",
          "base_openai-gpt-4.1-mini | T=0.1",
          "base_openai-gpt-4.1-mini | T=0.1",
          "base_openai-gpt-4.1-mini | T=0.1",
          "base_openai-gpt-4.1-mini | T=0.1",
          "base_openai-gpt-4.1-mini | T=0.1",
          "base_openai-gpt-4.1-mini | T=0.1",
          "base_openai-gpt-4.1-mini | T=0.1",
          "base_openai-gpt-4.1-mini | T=0.1",
          "base_openai-gpt-4.1-mini | T=0.1",
          "base_openai-gpt-4.1-mini | T=0.1",
          "base_openai-gpt-4.1-mini | T=0.1",
          "base_openai-gpt-4.1-mini | T=0.1",
          "base_openai-gpt-4.1-mini | T=0.1",
          "base_openai-gpt-4.1-mini | T=0.1",
          "base_openai-gpt-4.1-mini | T=0.1",
          "base_openai-gpt-4.1-mini | T=0.1",
          "base_openai-gpt-4.1-mini | T=0.1",
          "base_openai-gpt-4.1-mini | T=0.1",
          "base_openai-gpt-4.1-mini | T=0.1",
          "base_openai-gpt-4.1-mini | T=0.1",
          "base_openai-gpt-4.1-mini | T=0.1",
          "base_openai-gpt-4.1-mini | T=0.1",
          "base_openai-gpt-4.1-mini | T=0.1",
          "base_openai-gpt-4.1-mini | T=0.1",
          "base_openai-gpt-4.1-mini | T=0.1",
          "base_openai-gpt-4.1-mini | T=0.1",
          "base_openai-gpt-4.1-mini | T=0.1",
          "base_openai-gpt-4.1-mini | T=0.1",
          "base_openai-gpt-4.1-mini | T=0.1",
          "base_openai-gpt-4.1-mini | T=0.1",
          "base_openai-gpt-4.1-mini | T=0.1",
          "base_openai-gpt-4.1-mini | T=0.1",
          "base_openai-gpt-4.1-mini | T=0.1",
          "base_openai-gpt-4.1-mini | T=0.1",
          "base_openai-gpt-4.1-mini | T=0.1",
          "base_openai-gpt-4.1-mini | T=0.1",
          "base_openai-gpt-4.1-mini | T=0.1",
          "base_openai-gpt-4.1-mini | T=0.1",
          "base_openai-gpt-4.1-mini | T=0.1",
          "base_openai-gpt-4.1-mini | T=0.1",
          "base_openai-gpt-4.1-mini | T=0.1",
          "base_openai-gpt-4.1-mini | T=0.1",
          "base_openai-gpt-4.1-mini | T=0.1",
          "base_openai-gpt-4.1-mini | T=0.1",
          "base_openai-gpt-4.1-mini | T=0.1",
          "base_openai-gpt-4.1-mini | T=0.1",
          "base_openai-gpt-4.1-mini | T=0.1",
          "base_openai-gpt-4.1-mini | T=0.1",
          "base_openai-gpt-4.1-mini | T=0.1",
          "base_openai-gpt-4.1-mini | T=0.1",
          "base_openai-gpt-4.1-mini | T=0.1",
          "base_openai-gpt-4.1-mini | T=0.1",
          "base_openai-gpt-4.1-mini | T=0.1",
          "base_openai-gpt-4.1-mini | T=0.1",
          "base_openai-gpt-4.1-mini | T=0.1",
          "base_openai-gpt-4.1-mini | T=0.1",
          "base_openai-gpt-4.1-mini | T=0.6",
          "base_openai-gpt-4.1-mini | T=0.6",
          "base_openai-gpt-4.1-mini | T=0.6",
          "base_openai-gpt-4.1-mini | T=0.6",
          "base_openai-gpt-4.1-mini | T=0.6",
          "base_openai-gpt-4.1-mini | T=0.6",
          "base_openai-gpt-4.1-mini | T=0.6",
          "base_openai-gpt-4.1-mini | T=0.6",
          "base_openai-gpt-4.1-mini | T=0.6",
          "base_openai-gpt-4.1-mini | T=0.6",
          "base_openai-gpt-4.1-mini | T=0.6",
          "base_openai-gpt-4.1-mini | T=0.6",
          "base_openai-gpt-4.1-mini | T=0.6",
          "base_openai-gpt-4.1-mini | T=0.6",
          "base_openai-gpt-4.1-mini | T=0.6",
          "base_openai-gpt-4.1-mini | T=0.6",
          "base_openai-gpt-4.1-mini | T=0.6",
          "base_openai-gpt-4.1-mini | T=0.6",
          "base_openai-gpt-4.1-mini | T=0.6",
          "base_openai-gpt-4.1-mini | T=0.6",
          "base_openai-gpt-4.1-mini | T=0.6",
          "base_openai-gpt-4.1-mini | T=0.6",
          "base_openai-gpt-4.1-mini | T=0.6",
          "base_openai-gpt-4.1-mini | T=0.6",
          "base_openai-gpt-4.1-mini | T=0.6",
          "base_openai-gpt-4.1-mini | T=0.6",
          "base_openai-gpt-4.1-mini | T=0.6",
          "base_openai-gpt-4.1-mini | T=0.6",
          "base_openai-gpt-4.1-mini | T=0.6",
          "base_openai-gpt-4.1-mini | T=0.6",
          "base_openai-gpt-4.1-mini | T=0.6",
          "base_openai-gpt-4.1-mini | T=0.6",
          "base_openai-gpt-4.1-mini | T=0.6",
          "base_openai-gpt-4.1-mini | T=0.6",
          "base_openai-gpt-4.1-mini | T=0.6",
          "base_openai-gpt-4.1-mini | T=0.6",
          "base_openai-gpt-4.1-mini | T=0.6",
          "base_openai-gpt-4.1-mini | T=0.6",
          "base_openai-gpt-4.1-mini | T=0.6",
          "base_openai-gpt-4.1-mini | T=0.6",
          "base_openai-gpt-4.1-mini | T=0.6",
          "base_openai-gpt-4.1-mini | T=0.6",
          "base_openai-gpt-4.1-mini | T=0.6",
          "base_openai-gpt-4.1-mini | T=0.6",
          "base_openai-gpt-4.1-mini | T=0.6",
          "base_openai-gpt-4.1-mini | T=0.6",
          "base_openai-gpt-4.1-mini | T=0.6",
          "base_openai-gpt-4.1-mini | T=0.6",
          "base_openai-gpt-4.1-mini | T=0.6",
          "base_openai-gpt-4.1-mini | T=0.6",
          "base_openai-gpt-4.1-mini | T=0.6",
          "base_openai-gpt-4.1-mini | T=0.6",
          "base_openai-gpt-4.1-mini | T=0.6",
          "base_openai-gpt-4.1-mini | T=0.6",
          "base_openai-gpt-4.1-mini | T=0.6",
          "base_openai-gpt-4.1-mini | T=0.6",
          "base_openai-gpt-4.1-mini | T=0.6",
          "base_openai-gpt-4.1-mini | T=0.6",
          "base_openai-gpt-4.1-mini | T=0.6",
          "base_openai-gpt-4.1-mini | T=0.6",
          "base_openai-gpt-4.1-mini | T=0.6",
          "base_openai-gpt-4.1-mini | T=0.6",
          "base_openai-gpt-4.1-mini | T=0.6",
          "base_openai-gpt-4.1-mini | T=0.6",
          "base_openai-gpt-4.1-mini | T=0.6",
          "base_openai-gpt-4.1-mini | T=0.6",
          "base_openai-gpt-4.1-mini | T=0.6",
          "base_openai-gpt-4.1-mini | T=0.6",
          "base_openai-gpt-4.1-mini | T=0.6",
          "base_openai-gpt-4.1-mini | T=0.6",
          "base_openai-gpt-4.1-mini | T=0.6",
          "base_openai-gpt-4.1-mini | T=0.6",
          "base_openai-gpt-4.1-mini | T=0.6",
          "base_openai-gpt-4.1-mini | T=0.6",
          "base_openai-gpt-4.1-mini | T=0.6",
          "base_openai-gpt-4.1-mini | T=0.6",
          "base_openai-gpt-4.1-mini | T=0.6",
          "base_openai-gpt-4.1-mini | T=0.6",
          "base_openai-gpt-4.1-mini | T=0.6",
          "base_openai-gpt-4.1-mini | T=0.6",
          "base_openai-gpt-4.1-mini | T=0.6",
          "base_openai-gpt-4.1-mini | T=0.6",
          "base_openai-gpt-4.1-mini | T=0.6",
          "base_openai-gpt-4.1-mini | T=0.6",
          "base_openai-gpt-4.1-mini | T=0.6",
          "base_openai-gpt-4.1-mini | T=0.6",
          "base_openai-gpt-4.1-mini | T=0.6",
          "base_openai-gpt-4.1-mini | T=0.6",
          "base_openai-gpt-4.1-mini | T=0.6",
          "base_openai-gpt-4.1-mini | T=0.6",
          "base_openai-gpt-4.1-mini | T=0.6",
          "base_openai-gpt-4.1-mini | T=0.6",
          "base_openai-gpt-4.1-mini | T=0.6",
          "base_openai-gpt-4.1-mini | T=0.6",
          "base_openai-gpt-4.1-mini | T=0.6",
          "base_openai-gpt-4.1-mini | T=0.6",
          "base_openai-gpt-4.1-mini | T=0.6",
          "base_openai-gpt-4.1-mini | T=0.6",
          "base_openai-gpt-4.1-mini | T=0.6",
          "base_openai-gpt-4.1-mini | T=0.6",
          "base_deepseek-deepseek-chat-v3.1 | T=0.4",
          "base_deepseek-deepseek-chat-v3.1 | T=0.4",
          "base_deepseek-deepseek-chat-v3.1 | T=0.4",
          "base_deepseek-deepseek-chat-v3.1 | T=0.4",
          "base_deepseek-deepseek-chat-v3.1 | T=0.4",
          "base_deepseek-deepseek-chat-v3.1 | T=0.4",
          "base_deepseek-deepseek-chat-v3.1 | T=0.4",
          "base_deepseek-deepseek-chat-v3.1 | T=0.4",
          "base_deepseek-deepseek-chat-v3.1 | T=0.4",
          "base_deepseek-deepseek-chat-v3.1 | T=0.4",
          "base_deepseek-deepseek-chat-v3.1 | T=0.4",
          "base_deepseek-deepseek-chat-v3.1 | T=0.4",
          "base_deepseek-deepseek-chat-v3.1 | T=0.4",
          "base_deepseek-deepseek-chat-v3.1 | T=0.4",
          "base_deepseek-deepseek-chat-v3.1 | T=0.4",
          "base_deepseek-deepseek-chat-v3.1 | T=0.4",
          "base_deepseek-deepseek-chat-v3.1 | T=0.4",
          "base_deepseek-deepseek-chat-v3.1 | T=0.4",
          "base_deepseek-deepseek-chat-v3.1 | T=0.4",
          "base_deepseek-deepseek-chat-v3.1 | T=0.4",
          "base_deepseek-deepseek-chat-v3.1 | T=0.4",
          "base_deepseek-deepseek-chat-v3.1 | T=0.4",
          "base_deepseek-deepseek-chat-v3.1 | T=0.4",
          "base_deepseek-deepseek-chat-v3.1 | T=0.4",
          "base_deepseek-deepseek-chat-v3.1 | T=0.4",
          "base_deepseek-deepseek-chat-v3.1 | T=0.4",
          "base_deepseek-deepseek-chat-v3.1 | T=0.4",
          "base_deepseek-deepseek-chat-v3.1 | T=0.4",
          "base_deepseek-deepseek-chat-v3.1 | T=0.4",
          "base_deepseek-deepseek-chat-v3.1 | T=0.4",
          "base_deepseek-deepseek-chat-v3.1 | T=0.4",
          "base_deepseek-deepseek-chat-v3.1 | T=0.4",
          "base_deepseek-deepseek-chat-v3.1 | T=0.4",
          "base_deepseek-deepseek-chat-v3.1 | T=0.4",
          "base_deepseek-deepseek-chat-v3.1 | T=0.4",
          "base_deepseek-deepseek-chat-v3.1 | T=0.4",
          "base_deepseek-deepseek-chat-v3.1 | T=0.4",
          "base_deepseek-deepseek-chat-v3.1 | T=0.4",
          "base_deepseek-deepseek-chat-v3.1 | T=0.4",
          "base_deepseek-deepseek-chat-v3.1 | T=0.4",
          "base_deepseek-deepseek-chat-v3.1 | T=0.4",
          "base_deepseek-deepseek-chat-v3.1 | T=0.4",
          "base_deepseek-deepseek-chat-v3.1 | T=0.4",
          "base_deepseek-deepseek-chat-v3.1 | T=0.4",
          "base_deepseek-deepseek-chat-v3.1 | T=0.4",
          "base_deepseek-deepseek-chat-v3.1 | T=0.4",
          "base_deepseek-deepseek-chat-v3.1 | T=0.4",
          "base_deepseek-deepseek-chat-v3.1 | T=0.4",
          "base_deepseek-deepseek-chat-v3.1 | T=0.4",
          "base_deepseek-deepseek-chat-v3.1 | T=0.4",
          "base_deepseek-deepseek-chat-v3.1 | T=0.4",
          "base_deepseek-deepseek-chat-v3.1 | T=0.4",
          "base_deepseek-deepseek-chat-v3.1 | T=0.4",
          "base_deepseek-deepseek-chat-v3.1 | T=0.4",
          "base_deepseek-deepseek-chat-v3.1 | T=0.4",
          "base_deepseek-deepseek-chat-v3.1 | T=0.4",
          "base_deepseek-deepseek-chat-v3.1 | T=0.4",
          "base_deepseek-deepseek-chat-v3.1 | T=0.4",
          "base_deepseek-deepseek-chat-v3.1 | T=0.4",
          "base_deepseek-deepseek-chat-v3.1 | T=0.4",
          "base_deepseek-deepseek-chat-v3.1 | T=0.4",
          "base_deepseek-deepseek-chat-v3.1 | T=0.4",
          "base_deepseek-deepseek-chat-v3.1 | T=0.4",
          "base_deepseek-deepseek-chat-v3.1 | T=0.4",
          "base_deepseek-deepseek-chat-v3.1 | T=0.4",
          "base_deepseek-deepseek-chat-v3.1 | T=0.4",
          "base_deepseek-deepseek-chat-v3.1 | T=0.4",
          "base_deepseek-deepseek-chat-v3.1 | T=0.4",
          "base_deepseek-deepseek-chat-v3.1 | T=0.4",
          "base_deepseek-deepseek-chat-v3.1 | T=0.4",
          "base_deepseek-deepseek-chat-v3.1 | T=0.4",
          "base_deepseek-deepseek-chat-v3.1 | T=0.4",
          "base_deepseek-deepseek-chat-v3.1 | T=0.4",
          "base_deepseek-deepseek-chat-v3.1 | T=0.4",
          "base_deepseek-deepseek-chat-v3.1 | T=0.4",
          "base_deepseek-deepseek-chat-v3.1 | T=0.4",
          "base_deepseek-deepseek-chat-v3.1 | T=0.4",
          "base_deepseek-deepseek-chat-v3.1 | T=0.4",
          "base_deepseek-deepseek-chat-v3.1 | T=0.4",
          "base_deepseek-deepseek-chat-v3.1 | T=0.4",
          "base_deepseek-deepseek-chat-v3.1 | T=0.4",
          "base_deepseek-deepseek-chat-v3.1 | T=0.4",
          "base_deepseek-deepseek-chat-v3.1 | T=0.4",
          "base_deepseek-deepseek-chat-v3.1 | T=0.4",
          "base_deepseek-deepseek-chat-v3.1 | T=0.4",
          "base_deepseek-deepseek-chat-v3.1 | T=0.4",
          "base_deepseek-deepseek-chat-v3.1 | T=0.4",
          "base_deepseek-deepseek-chat-v3.1 | T=0.4",
          "base_deepseek-deepseek-chat-v3.1 | T=0.4",
          "base_deepseek-deepseek-chat-v3.1 | T=0.4",
          "base_deepseek-deepseek-chat-v3.1 | T=0.4",
          "base_deepseek-deepseek-chat-v3.1 | T=0.4",
          "base_deepseek-deepseek-chat-v3.1 | T=0.4",
          "base_deepseek-deepseek-chat-v3.1 | T=0.4",
          "base_deepseek-deepseek-chat-v3.1 | T=0.4",
          "base_deepseek-deepseek-chat-v3.1 | T=0.4",
          "base_deepseek-deepseek-chat-v3.1 | T=0.4",
          "base_deepseek-deepseek-chat-v3.1 | T=0.4",
          "base_deepseek-deepseek-chat-v3.1 | T=0.4",
          "base_deepseek-deepseek-chat-v3.1 | T=0.4",
          "base_deepseek-deepseek-chat-v3.1 | T=0.8",
          "base_deepseek-deepseek-chat-v3.1 | T=0.8",
          "base_deepseek-deepseek-chat-v3.1 | T=0.8",
          "base_deepseek-deepseek-chat-v3.1 | T=0.8",
          "base_deepseek-deepseek-chat-v3.1 | T=0.8",
          "base_deepseek-deepseek-chat-v3.1 | T=0.8",
          "base_deepseek-deepseek-chat-v3.1 | T=0.8",
          "base_deepseek-deepseek-chat-v3.1 | T=0.8",
          "base_deepseek-deepseek-chat-v3.1 | T=0.8",
          "base_deepseek-deepseek-chat-v3.1 | T=0.8",
          "base_deepseek-deepseek-chat-v3.1 | T=0.8",
          "base_deepseek-deepseek-chat-v3.1 | T=0.8",
          "base_deepseek-deepseek-chat-v3.1 | T=0.8",
          "base_deepseek-deepseek-chat-v3.1 | T=0.8",
          "base_deepseek-deepseek-chat-v3.1 | T=0.8",
          "base_deepseek-deepseek-chat-v3.1 | T=0.8",
          "base_deepseek-deepseek-chat-v3.1 | T=0.8",
          "base_deepseek-deepseek-chat-v3.1 | T=0.8",
          "base_deepseek-deepseek-chat-v3.1 | T=0.8",
          "base_deepseek-deepseek-chat-v3.1 | T=0.8",
          "base_deepseek-deepseek-chat-v3.1 | T=0.8",
          "base_deepseek-deepseek-chat-v3.1 | T=0.8",
          "base_deepseek-deepseek-chat-v3.1 | T=0.8",
          "base_deepseek-deepseek-chat-v3.1 | T=0.8",
          "base_deepseek-deepseek-chat-v3.1 | T=0.8",
          "base_deepseek-deepseek-chat-v3.1 | T=0.8",
          "base_deepseek-deepseek-chat-v3.1 | T=0.8",
          "base_deepseek-deepseek-chat-v3.1 | T=0.8",
          "base_deepseek-deepseek-chat-v3.1 | T=0.8",
          "base_deepseek-deepseek-chat-v3.1 | T=0.8",
          "base_deepseek-deepseek-chat-v3.1 | T=0.8",
          "base_deepseek-deepseek-chat-v3.1 | T=0.8",
          "base_deepseek-deepseek-chat-v3.1 | T=0.8",
          "base_deepseek-deepseek-chat-v3.1 | T=0.8",
          "base_deepseek-deepseek-chat-v3.1 | T=0.8",
          "base_deepseek-deepseek-chat-v3.1 | T=0.8",
          "base_deepseek-deepseek-chat-v3.1 | T=0.8",
          "base_deepseek-deepseek-chat-v3.1 | T=0.8",
          "base_deepseek-deepseek-chat-v3.1 | T=0.8",
          "base_deepseek-deepseek-chat-v3.1 | T=0.8",
          "base_deepseek-deepseek-chat-v3.1 | T=0.8",
          "base_deepseek-deepseek-chat-v3.1 | T=0.8",
          "base_deepseek-deepseek-chat-v3.1 | T=0.8",
          "base_deepseek-deepseek-chat-v3.1 | T=0.8",
          "base_deepseek-deepseek-chat-v3.1 | T=0.8",
          "base_deepseek-deepseek-chat-v3.1 | T=0.8",
          "base_deepseek-deepseek-chat-v3.1 | T=0.8",
          "base_deepseek-deepseek-chat-v3.1 | T=0.8",
          "base_deepseek-deepseek-chat-v3.1 | T=0.8",
          "base_deepseek-deepseek-chat-v3.1 | T=0.8",
          "base_deepseek-deepseek-chat-v3.1 | T=0.8",
          "base_deepseek-deepseek-chat-v3.1 | T=0.8",
          "base_deepseek-deepseek-chat-v3.1 | T=0.8",
          "base_deepseek-deepseek-chat-v3.1 | T=0.8",
          "base_deepseek-deepseek-chat-v3.1 | T=0.8",
          "base_deepseek-deepseek-chat-v3.1 | T=0.8",
          "base_deepseek-deepseek-chat-v3.1 | T=0.8",
          "base_deepseek-deepseek-chat-v3.1 | T=0.8",
          "base_deepseek-deepseek-chat-v3.1 | T=0.8",
          "base_deepseek-deepseek-chat-v3.1 | T=0.8",
          "base_deepseek-deepseek-chat-v3.1 | T=0.8",
          "base_deepseek-deepseek-chat-v3.1 | T=0.8",
          "base_deepseek-deepseek-chat-v3.1 | T=0.8",
          "base_deepseek-deepseek-chat-v3.1 | T=0.8",
          "base_deepseek-deepseek-chat-v3.1 | T=0.8",
          "base_deepseek-deepseek-chat-v3.1 | T=0.8",
          "base_deepseek-deepseek-chat-v3.1 | T=0.8",
          "base_deepseek-deepseek-chat-v3.1 | T=0.8",
          "base_deepseek-deepseek-chat-v3.1 | T=0.8",
          "base_deepseek-deepseek-chat-v3.1 | T=0.8",
          "base_deepseek-deepseek-chat-v3.1 | T=0.8",
          "base_deepseek-deepseek-chat-v3.1 | T=0.8",
          "base_deepseek-deepseek-chat-v3.1 | T=0.8",
          "base_deepseek-deepseek-chat-v3.1 | T=0.8",
          "base_deepseek-deepseek-chat-v3.1 | T=0.8",
          "base_deepseek-deepseek-chat-v3.1 | T=0.8",
          "base_deepseek-deepseek-chat-v3.1 | T=0.8",
          "base_deepseek-deepseek-chat-v3.1 | T=0.8",
          "base_deepseek-deepseek-chat-v3.1 | T=0.8",
          "base_deepseek-deepseek-chat-v3.1 | T=0.8",
          "base_deepseek-deepseek-chat-v3.1 | T=0.8",
          "base_deepseek-deepseek-chat-v3.1 | T=0.8",
          "base_deepseek-deepseek-chat-v3.1 | T=0.8",
          "base_deepseek-deepseek-chat-v3.1 | T=0.8",
          "base_deepseek-deepseek-chat-v3.1 | T=0.8",
          "base_deepseek-deepseek-chat-v3.1 | T=0.8",
          "base_deepseek-deepseek-chat-v3.1 | T=0.8",
          "base_deepseek-deepseek-chat-v3.1 | T=0.8",
          "base_deepseek-deepseek-chat-v3.1 | T=0.8",
          "base_deepseek-deepseek-chat-v3.1 | T=0.8",
          "base_deepseek-deepseek-chat-v3.1 | T=0.8",
          "base_deepseek-deepseek-chat-v3.1 | T=0.8",
          "base_deepseek-deepseek-chat-v3.1 | T=0.8",
          "base_deepseek-deepseek-chat-v3.1 | T=0.8",
          "base_deepseek-deepseek-chat-v3.1 | T=0.8",
          "base_deepseek-deepseek-chat-v3.1 | T=0.8",
          "base_deepseek-deepseek-chat-v3.1 | T=0.8",
          "base_deepseek-deepseek-chat-v3.1 | T=0.8",
          "base_deepseek-deepseek-chat-v3.1 | T=0.8",
          "base_deepseek-deepseek-chat-v3.1 | T=0.8",
          "base_openai-gpt-4.1-mini | T=0.7",
          "base_openai-gpt-4.1-mini | T=0.7",
          "base_openai-gpt-4.1-mini | T=0.7",
          "base_openai-gpt-4.1-mini | T=0.7",
          "base_openai-gpt-4.1-mini | T=0.7",
          "base_openai-gpt-4.1-mini | T=0.7",
          "base_openai-gpt-4.1-mini | T=0.7",
          "base_openai-gpt-4.1-mini | T=0.7",
          "base_openai-gpt-4.1-mini | T=0.7",
          "base_openai-gpt-4.1-mini | T=0.7",
          "base_openai-gpt-4.1-mini | T=0.7",
          "base_openai-gpt-4.1-mini | T=0.7",
          "base_openai-gpt-4.1-mini | T=0.7",
          "base_openai-gpt-4.1-mini | T=0.7",
          "base_openai-gpt-4.1-mini | T=0.7",
          "base_openai-gpt-4.1-mini | T=0.7",
          "base_openai-gpt-4.1-mini | T=0.7",
          "base_openai-gpt-4.1-mini | T=0.7",
          "base_openai-gpt-4.1-mini | T=0.7",
          "base_openai-gpt-4.1-mini | T=0.7",
          "base_openai-gpt-4.1-mini | T=0.7",
          "base_openai-gpt-4.1-mini | T=0.7",
          "base_openai-gpt-4.1-mini | T=0.7",
          "base_openai-gpt-4.1-mini | T=0.7",
          "base_openai-gpt-4.1-mini | T=0.7",
          "base_openai-gpt-4.1-mini | T=0.7",
          "base_openai-gpt-4.1-mini | T=0.7",
          "base_openai-gpt-4.1-mini | T=0.7",
          "base_openai-gpt-4.1-mini | T=0.7",
          "base_openai-gpt-4.1-mini | T=0.7",
          "base_openai-gpt-4.1-mini | T=0.7",
          "base_openai-gpt-4.1-mini | T=0.7",
          "base_openai-gpt-4.1-mini | T=0.7",
          "base_openai-gpt-4.1-mini | T=0.7",
          "base_openai-gpt-4.1-mini | T=0.7",
          "base_openai-gpt-4.1-mini | T=0.7",
          "base_openai-gpt-4.1-mini | T=0.7",
          "base_openai-gpt-4.1-mini | T=0.7",
          "base_openai-gpt-4.1-mini | T=0.7",
          "base_openai-gpt-4.1-mini | T=0.7",
          "base_openai-gpt-4.1-mini | T=0.7",
          "base_openai-gpt-4.1-mini | T=0.7",
          "base_openai-gpt-4.1-mini | T=0.7",
          "base_openai-gpt-4.1-mini | T=0.7",
          "base_openai-gpt-4.1-mini | T=0.7",
          "base_openai-gpt-4.1-mini | T=0.7",
          "base_openai-gpt-4.1-mini | T=0.7",
          "base_openai-gpt-4.1-mini | T=0.7",
          "base_openai-gpt-4.1-mini | T=0.7",
          "base_openai-gpt-4.1-mini | T=0.7",
          "base_openai-gpt-4.1-mini | T=0.7",
          "base_openai-gpt-4.1-mini | T=0.7",
          "base_openai-gpt-4.1-mini | T=0.7",
          "base_openai-gpt-4.1-mini | T=0.7",
          "base_openai-gpt-4.1-mini | T=0.7",
          "base_openai-gpt-4.1-mini | T=0.7",
          "base_openai-gpt-4.1-mini | T=0.7",
          "base_openai-gpt-4.1-mini | T=0.7",
          "base_openai-gpt-4.1-mini | T=0.7",
          "base_openai-gpt-4.1-mini | T=0.7",
          "base_openai-gpt-4.1-mini | T=0.7",
          "base_openai-gpt-4.1-mini | T=0.7",
          "base_openai-gpt-4.1-mini | T=0.7",
          "base_openai-gpt-4.1-mini | T=0.7",
          "base_openai-gpt-4.1-mini | T=0.7",
          "base_openai-gpt-4.1-mini | T=0.7",
          "base_openai-gpt-4.1-mini | T=0.7",
          "base_openai-gpt-4.1-mini | T=0.7",
          "base_openai-gpt-4.1-mini | T=0.7",
          "base_openai-gpt-4.1-mini | T=0.7",
          "base_openai-gpt-4.1-mini | T=0.7",
          "base_openai-gpt-4.1-mini | T=0.7",
          "base_openai-gpt-4.1-mini | T=0.7",
          "base_openai-gpt-4.1-mini | T=0.7",
          "base_openai-gpt-4.1-mini | T=0.7",
          "base_openai-gpt-4.1-mini | T=0.7",
          "base_openai-gpt-4.1-mini | T=0.7",
          "base_openai-gpt-4.1-mini | T=0.7",
          "base_openai-gpt-4.1-mini | T=0.7",
          "base_openai-gpt-4.1-mini | T=0.7",
          "base_openai-gpt-4.1-mini | T=0.7",
          "base_openai-gpt-4.1-mini | T=0.7",
          "base_openai-gpt-4.1-mini | T=0.7",
          "base_openai-gpt-4.1-mini | T=0.7",
          "base_openai-gpt-4.1-mini | T=0.7",
          "base_openai-gpt-4.1-mini | T=0.7",
          "base_openai-gpt-4.1-mini | T=0.7",
          "base_openai-gpt-4.1-mini | T=0.7",
          "base_openai-gpt-4.1-mini | T=0.7",
          "base_openai-gpt-4.1-mini | T=0.7",
          "base_openai-gpt-4.1-mini | T=0.7",
          "base_openai-gpt-4.1-mini | T=0.7",
          "base_openai-gpt-4.1-mini | T=0.7",
          "base_openai-gpt-4.1-mini | T=0.7",
          "base_openai-gpt-4.1-mini | T=0.7",
          "base_openai-gpt-4.1-mini | T=0.7",
          "base_openai-gpt-4.1-mini | T=0.7",
          "base_openai-gpt-4.1-mini | T=0.7",
          "base_openai-gpt-4.1-mini | T=0.7",
          "base_openai-gpt-4.1-mini | T=0.7",
          "base_deepseek-deepseek-chat-v3.1 | T=0.5",
          "base_deepseek-deepseek-chat-v3.1 | T=0.5",
          "base_deepseek-deepseek-chat-v3.1 | T=0.5",
          "base_deepseek-deepseek-chat-v3.1 | T=0.5",
          "base_deepseek-deepseek-chat-v3.1 | T=0.5",
          "base_deepseek-deepseek-chat-v3.1 | T=0.5",
          "base_deepseek-deepseek-chat-v3.1 | T=0.5",
          "base_deepseek-deepseek-chat-v3.1 | T=0.5",
          "base_deepseek-deepseek-chat-v3.1 | T=0.5",
          "base_deepseek-deepseek-chat-v3.1 | T=0.5",
          "base_deepseek-deepseek-chat-v3.1 | T=0.5",
          "base_deepseek-deepseek-chat-v3.1 | T=0.5",
          "base_deepseek-deepseek-chat-v3.1 | T=0.5",
          "base_deepseek-deepseek-chat-v3.1 | T=0.5",
          "base_deepseek-deepseek-chat-v3.1 | T=0.5",
          "base_deepseek-deepseek-chat-v3.1 | T=0.5",
          "base_deepseek-deepseek-chat-v3.1 | T=0.5",
          "base_deepseek-deepseek-chat-v3.1 | T=0.5",
          "base_deepseek-deepseek-chat-v3.1 | T=0.5",
          "base_deepseek-deepseek-chat-v3.1 | T=0.5",
          "base_deepseek-deepseek-chat-v3.1 | T=0.5",
          "base_deepseek-deepseek-chat-v3.1 | T=0.5",
          "base_deepseek-deepseek-chat-v3.1 | T=0.5",
          "base_deepseek-deepseek-chat-v3.1 | T=0.5",
          "base_deepseek-deepseek-chat-v3.1 | T=0.5",
          "base_deepseek-deepseek-chat-v3.1 | T=0.5",
          "base_deepseek-deepseek-chat-v3.1 | T=0.5",
          "base_deepseek-deepseek-chat-v3.1 | T=0.5",
          "base_deepseek-deepseek-chat-v3.1 | T=0.5",
          "base_deepseek-deepseek-chat-v3.1 | T=0.5",
          "base_deepseek-deepseek-chat-v3.1 | T=0.5",
          "base_deepseek-deepseek-chat-v3.1 | T=0.5",
          "base_deepseek-deepseek-chat-v3.1 | T=0.5",
          "base_deepseek-deepseek-chat-v3.1 | T=0.5",
          "base_deepseek-deepseek-chat-v3.1 | T=0.5",
          "base_deepseek-deepseek-chat-v3.1 | T=0.5",
          "base_deepseek-deepseek-chat-v3.1 | T=0.5",
          "base_deepseek-deepseek-chat-v3.1 | T=0.5",
          "base_deepseek-deepseek-chat-v3.1 | T=0.5",
          "base_deepseek-deepseek-chat-v3.1 | T=0.5",
          "base_deepseek-deepseek-chat-v3.1 | T=0.5",
          "base_deepseek-deepseek-chat-v3.1 | T=0.5",
          "base_deepseek-deepseek-chat-v3.1 | T=0.5",
          "base_deepseek-deepseek-chat-v3.1 | T=0.5",
          "base_deepseek-deepseek-chat-v3.1 | T=0.5",
          "base_deepseek-deepseek-chat-v3.1 | T=0.5",
          "base_deepseek-deepseek-chat-v3.1 | T=0.5",
          "base_deepseek-deepseek-chat-v3.1 | T=0.5",
          "base_deepseek-deepseek-chat-v3.1 | T=0.5",
          "base_deepseek-deepseek-chat-v3.1 | T=0.5",
          "base_deepseek-deepseek-chat-v3.1 | T=0.5",
          "base_deepseek-deepseek-chat-v3.1 | T=0.5",
          "base_deepseek-deepseek-chat-v3.1 | T=0.5",
          "base_deepseek-deepseek-chat-v3.1 | T=0.5",
          "base_deepseek-deepseek-chat-v3.1 | T=0.5",
          "base_deepseek-deepseek-chat-v3.1 | T=0.5",
          "base_deepseek-deepseek-chat-v3.1 | T=0.5",
          "base_deepseek-deepseek-chat-v3.1 | T=0.5",
          "base_deepseek-deepseek-chat-v3.1 | T=0.5",
          "base_deepseek-deepseek-chat-v3.1 | T=0.5",
          "base_deepseek-deepseek-chat-v3.1 | T=0.5",
          "base_deepseek-deepseek-chat-v3.1 | T=0.5",
          "base_deepseek-deepseek-chat-v3.1 | T=0.5",
          "base_deepseek-deepseek-chat-v3.1 | T=0.5",
          "base_deepseek-deepseek-chat-v3.1 | T=0.5",
          "base_deepseek-deepseek-chat-v3.1 | T=0.5",
          "base_deepseek-deepseek-chat-v3.1 | T=0.5",
          "base_deepseek-deepseek-chat-v3.1 | T=0.5",
          "base_deepseek-deepseek-chat-v3.1 | T=0.5",
          "base_deepseek-deepseek-chat-v3.1 | T=0.5",
          "base_deepseek-deepseek-chat-v3.1 | T=0.5",
          "base_deepseek-deepseek-chat-v3.1 | T=0.5",
          "base_deepseek-deepseek-chat-v3.1 | T=0.5",
          "base_deepseek-deepseek-chat-v3.1 | T=0.5",
          "base_deepseek-deepseek-chat-v3.1 | T=0.5",
          "base_deepseek-deepseek-chat-v3.1 | T=0.5",
          "base_deepseek-deepseek-chat-v3.1 | T=0.5",
          "base_deepseek-deepseek-chat-v3.1 | T=0.5",
          "base_deepseek-deepseek-chat-v3.1 | T=0.5",
          "base_deepseek-deepseek-chat-v3.1 | T=0.5",
          "base_deepseek-deepseek-chat-v3.1 | T=0.5",
          "base_deepseek-deepseek-chat-v3.1 | T=0.5",
          "base_deepseek-deepseek-chat-v3.1 | T=0.5",
          "base_deepseek-deepseek-chat-v3.1 | T=0.5",
          "base_deepseek-deepseek-chat-v3.1 | T=0.5",
          "base_deepseek-deepseek-chat-v3.1 | T=0.5",
          "base_deepseek-deepseek-chat-v3.1 | T=0.5",
          "base_deepseek-deepseek-chat-v3.1 | T=0.5",
          "base_deepseek-deepseek-chat-v3.1 | T=0.5",
          "base_deepseek-deepseek-chat-v3.1 | T=0.5",
          "base_deepseek-deepseek-chat-v3.1 | T=0.5",
          "base_deepseek-deepseek-chat-v3.1 | T=0.5",
          "base_deepseek-deepseek-chat-v3.1 | T=0.5",
          "base_deepseek-deepseek-chat-v3.1 | T=0.5",
          "base_deepseek-deepseek-chat-v3.1 | T=0.5",
          "base_deepseek-deepseek-chat-v3.1 | T=0.5",
          "base_deepseek-deepseek-chat-v3.1 | T=0.5",
          "base_deepseek-deepseek-chat-v3.1 | T=0.5",
          "base_deepseek-deepseek-chat-v3.1 | T=0.5",
          "base_deepseek-deepseek-chat-v3.1 | T=0.5",
          "base_deepseek-deepseek-chat-v3.1 | T=0.9",
          "base_deepseek-deepseek-chat-v3.1 | T=0.9",
          "base_deepseek-deepseek-chat-v3.1 | T=0.9",
          "base_deepseek-deepseek-chat-v3.1 | T=0.9",
          "base_deepseek-deepseek-chat-v3.1 | T=0.9",
          "base_deepseek-deepseek-chat-v3.1 | T=0.9",
          "base_deepseek-deepseek-chat-v3.1 | T=0.9",
          "base_deepseek-deepseek-chat-v3.1 | T=0.9",
          "base_deepseek-deepseek-chat-v3.1 | T=0.9",
          "base_deepseek-deepseek-chat-v3.1 | T=0.9",
          "base_deepseek-deepseek-chat-v3.1 | T=0.9",
          "base_deepseek-deepseek-chat-v3.1 | T=0.9",
          "base_deepseek-deepseek-chat-v3.1 | T=0.9",
          "base_deepseek-deepseek-chat-v3.1 | T=0.9",
          "base_deepseek-deepseek-chat-v3.1 | T=0.9",
          "base_deepseek-deepseek-chat-v3.1 | T=0.9",
          "base_deepseek-deepseek-chat-v3.1 | T=0.9",
          "base_deepseek-deepseek-chat-v3.1 | T=0.9",
          "base_deepseek-deepseek-chat-v3.1 | T=0.9",
          "base_deepseek-deepseek-chat-v3.1 | T=0.9",
          "base_deepseek-deepseek-chat-v3.1 | T=0.9",
          "base_deepseek-deepseek-chat-v3.1 | T=0.9",
          "base_deepseek-deepseek-chat-v3.1 | T=0.9",
          "base_deepseek-deepseek-chat-v3.1 | T=0.9",
          "base_deepseek-deepseek-chat-v3.1 | T=0.9",
          "base_deepseek-deepseek-chat-v3.1 | T=0.9",
          "base_deepseek-deepseek-chat-v3.1 | T=0.9",
          "base_deepseek-deepseek-chat-v3.1 | T=0.9",
          "base_deepseek-deepseek-chat-v3.1 | T=0.9",
          "base_deepseek-deepseek-chat-v3.1 | T=0.9",
          "base_deepseek-deepseek-chat-v3.1 | T=0.9",
          "base_deepseek-deepseek-chat-v3.1 | T=0.9",
          "base_deepseek-deepseek-chat-v3.1 | T=0.9",
          "base_deepseek-deepseek-chat-v3.1 | T=0.9",
          "base_deepseek-deepseek-chat-v3.1 | T=0.9",
          "base_deepseek-deepseek-chat-v3.1 | T=0.9",
          "base_deepseek-deepseek-chat-v3.1 | T=0.9",
          "base_deepseek-deepseek-chat-v3.1 | T=0.9",
          "base_deepseek-deepseek-chat-v3.1 | T=0.9",
          "base_deepseek-deepseek-chat-v3.1 | T=0.9",
          "base_deepseek-deepseek-chat-v3.1 | T=0.9",
          "base_deepseek-deepseek-chat-v3.1 | T=0.9",
          "base_deepseek-deepseek-chat-v3.1 | T=0.9",
          "base_deepseek-deepseek-chat-v3.1 | T=0.9",
          "base_deepseek-deepseek-chat-v3.1 | T=0.9",
          "base_deepseek-deepseek-chat-v3.1 | T=0.9",
          "base_deepseek-deepseek-chat-v3.1 | T=0.9",
          "base_deepseek-deepseek-chat-v3.1 | T=0.9",
          "base_deepseek-deepseek-chat-v3.1 | T=0.9",
          "base_deepseek-deepseek-chat-v3.1 | T=0.9",
          "base_deepseek-deepseek-chat-v3.1 | T=0.9",
          "base_deepseek-deepseek-chat-v3.1 | T=0.9",
          "base_deepseek-deepseek-chat-v3.1 | T=0.9",
          "base_deepseek-deepseek-chat-v3.1 | T=0.9",
          "base_deepseek-deepseek-chat-v3.1 | T=0.9",
          "base_deepseek-deepseek-chat-v3.1 | T=0.9",
          "base_deepseek-deepseek-chat-v3.1 | T=0.9",
          "base_deepseek-deepseek-chat-v3.1 | T=0.9",
          "base_deepseek-deepseek-chat-v3.1 | T=0.9",
          "base_deepseek-deepseek-chat-v3.1 | T=0.9",
          "base_deepseek-deepseek-chat-v3.1 | T=0.9",
          "base_deepseek-deepseek-chat-v3.1 | T=0.9",
          "base_deepseek-deepseek-chat-v3.1 | T=0.9",
          "base_deepseek-deepseek-chat-v3.1 | T=0.9",
          "base_deepseek-deepseek-chat-v3.1 | T=0.9",
          "base_deepseek-deepseek-chat-v3.1 | T=0.9",
          "base_deepseek-deepseek-chat-v3.1 | T=0.9",
          "base_deepseek-deepseek-chat-v3.1 | T=0.9",
          "base_deepseek-deepseek-chat-v3.1 | T=0.9",
          "base_deepseek-deepseek-chat-v3.1 | T=0.9",
          "base_deepseek-deepseek-chat-v3.1 | T=0.9",
          "base_deepseek-deepseek-chat-v3.1 | T=0.9",
          "base_deepseek-deepseek-chat-v3.1 | T=0.9",
          "base_deepseek-deepseek-chat-v3.1 | T=0.9",
          "base_deepseek-deepseek-chat-v3.1 | T=0.9",
          "base_deepseek-deepseek-chat-v3.1 | T=0.9",
          "base_deepseek-deepseek-chat-v3.1 | T=0.9",
          "base_deepseek-deepseek-chat-v3.1 | T=0.9",
          "base_deepseek-deepseek-chat-v3.1 | T=0.9",
          "base_deepseek-deepseek-chat-v3.1 | T=0.9",
          "base_deepseek-deepseek-chat-v3.1 | T=0.9",
          "base_deepseek-deepseek-chat-v3.1 | T=0.9",
          "base_deepseek-deepseek-chat-v3.1 | T=0.9",
          "base_deepseek-deepseek-chat-v3.1 | T=0.9",
          "base_deepseek-deepseek-chat-v3.1 | T=0.9",
          "base_deepseek-deepseek-chat-v3.1 | T=0.9",
          "base_deepseek-deepseek-chat-v3.1 | T=0.9",
          "base_deepseek-deepseek-chat-v3.1 | T=0.9",
          "base_deepseek-deepseek-chat-v3.1 | T=0.9",
          "base_deepseek-deepseek-chat-v3.1 | T=0.9",
          "base_deepseek-deepseek-chat-v3.1 | T=0.9",
          "base_deepseek-deepseek-chat-v3.1 | T=0.9",
          "base_deepseek-deepseek-chat-v3.1 | T=0.9",
          "base_deepseek-deepseek-chat-v3.1 | T=0.9",
          "base_deepseek-deepseek-chat-v3.1 | T=0.9",
          "base_deepseek-deepseek-chat-v3.1 | T=0.9",
          "base_deepseek-deepseek-chat-v3.1 | T=0.9",
          "base_deepseek-deepseek-chat-v3.1 | T=0.9",
          "base_deepseek-deepseek-chat-v3.1 | T=0.9",
          "base_deepseek-deepseek-chat-v3.1 | T=0.9",
          "base_deepseek-deepseek-chat-v3.1 | T=0.2",
          "base_deepseek-deepseek-chat-v3.1 | T=0.2",
          "base_deepseek-deepseek-chat-v3.1 | T=0.2",
          "base_deepseek-deepseek-chat-v3.1 | T=0.2",
          "base_deepseek-deepseek-chat-v3.1 | T=0.2",
          "base_deepseek-deepseek-chat-v3.1 | T=0.2",
          "base_deepseek-deepseek-chat-v3.1 | T=0.2",
          "base_deepseek-deepseek-chat-v3.1 | T=0.2",
          "base_deepseek-deepseek-chat-v3.1 | T=0.2",
          "base_deepseek-deepseek-chat-v3.1 | T=0.2",
          "base_deepseek-deepseek-chat-v3.1 | T=0.2",
          "base_deepseek-deepseek-chat-v3.1 | T=0.2",
          "base_deepseek-deepseek-chat-v3.1 | T=0.2",
          "base_deepseek-deepseek-chat-v3.1 | T=0.2",
          "base_deepseek-deepseek-chat-v3.1 | T=0.2",
          "base_deepseek-deepseek-chat-v3.1 | T=0.2",
          "base_deepseek-deepseek-chat-v3.1 | T=0.2",
          "base_deepseek-deepseek-chat-v3.1 | T=0.2",
          "base_deepseek-deepseek-chat-v3.1 | T=0.2",
          "base_deepseek-deepseek-chat-v3.1 | T=0.2",
          "base_deepseek-deepseek-chat-v3.1 | T=0.2",
          "base_deepseek-deepseek-chat-v3.1 | T=0.2",
          "base_deepseek-deepseek-chat-v3.1 | T=0.2",
          "base_deepseek-deepseek-chat-v3.1 | T=0.2",
          "base_deepseek-deepseek-chat-v3.1 | T=0.2",
          "base_deepseek-deepseek-chat-v3.1 | T=0.2",
          "base_deepseek-deepseek-chat-v3.1 | T=0.2",
          "base_deepseek-deepseek-chat-v3.1 | T=0.2",
          "base_deepseek-deepseek-chat-v3.1 | T=0.2",
          "base_deepseek-deepseek-chat-v3.1 | T=0.2",
          "base_deepseek-deepseek-chat-v3.1 | T=0.2",
          "base_deepseek-deepseek-chat-v3.1 | T=0.2",
          "base_deepseek-deepseek-chat-v3.1 | T=0.2",
          "base_deepseek-deepseek-chat-v3.1 | T=0.2",
          "base_deepseek-deepseek-chat-v3.1 | T=0.2",
          "base_deepseek-deepseek-chat-v3.1 | T=0.2",
          "base_deepseek-deepseek-chat-v3.1 | T=0.2",
          "base_deepseek-deepseek-chat-v3.1 | T=0.2",
          "base_deepseek-deepseek-chat-v3.1 | T=0.2",
          "base_deepseek-deepseek-chat-v3.1 | T=0.2",
          "base_deepseek-deepseek-chat-v3.1 | T=0.2",
          "base_deepseek-deepseek-chat-v3.1 | T=0.2",
          "base_deepseek-deepseek-chat-v3.1 | T=0.2",
          "base_deepseek-deepseek-chat-v3.1 | T=0.2",
          "base_deepseek-deepseek-chat-v3.1 | T=0.2",
          "base_deepseek-deepseek-chat-v3.1 | T=0.2",
          "base_deepseek-deepseek-chat-v3.1 | T=0.2",
          "base_deepseek-deepseek-chat-v3.1 | T=0.2",
          "base_deepseek-deepseek-chat-v3.1 | T=0.2",
          "base_deepseek-deepseek-chat-v3.1 | T=0.2",
          "base_deepseek-deepseek-chat-v3.1 | T=0.2",
          "base_deepseek-deepseek-chat-v3.1 | T=0.2",
          "base_deepseek-deepseek-chat-v3.1 | T=0.2",
          "base_deepseek-deepseek-chat-v3.1 | T=0.2",
          "base_deepseek-deepseek-chat-v3.1 | T=0.2",
          "base_deepseek-deepseek-chat-v3.1 | T=0.2",
          "base_deepseek-deepseek-chat-v3.1 | T=0.2",
          "base_deepseek-deepseek-chat-v3.1 | T=0.2",
          "base_deepseek-deepseek-chat-v3.1 | T=0.2",
          "base_deepseek-deepseek-chat-v3.1 | T=0.2",
          "base_deepseek-deepseek-chat-v3.1 | T=0.2",
          "base_deepseek-deepseek-chat-v3.1 | T=0.2",
          "base_deepseek-deepseek-chat-v3.1 | T=0.2",
          "base_deepseek-deepseek-chat-v3.1 | T=0.2",
          "base_deepseek-deepseek-chat-v3.1 | T=0.2",
          "base_deepseek-deepseek-chat-v3.1 | T=0.2",
          "base_deepseek-deepseek-chat-v3.1 | T=0.2",
          "base_deepseek-deepseek-chat-v3.1 | T=0.2",
          "base_deepseek-deepseek-chat-v3.1 | T=0.2",
          "base_deepseek-deepseek-chat-v3.1 | T=0.2",
          "base_deepseek-deepseek-chat-v3.1 | T=0.2",
          "base_deepseek-deepseek-chat-v3.1 | T=0.2",
          "base_deepseek-deepseek-chat-v3.1 | T=0.2",
          "base_deepseek-deepseek-chat-v3.1 | T=0.2",
          "base_deepseek-deepseek-chat-v3.1 | T=0.2",
          "base_deepseek-deepseek-chat-v3.1 | T=0.2",
          "base_deepseek-deepseek-chat-v3.1 | T=0.2",
          "base_deepseek-deepseek-chat-v3.1 | T=0.2",
          "base_deepseek-deepseek-chat-v3.1 | T=0.2",
          "base_deepseek-deepseek-chat-v3.1 | T=0.2",
          "base_deepseek-deepseek-chat-v3.1 | T=0.2",
          "base_deepseek-deepseek-chat-v3.1 | T=0.2",
          "base_deepseek-deepseek-chat-v3.1 | T=0.2",
          "base_deepseek-deepseek-chat-v3.1 | T=0.2",
          "base_deepseek-deepseek-chat-v3.1 | T=0.2",
          "base_deepseek-deepseek-chat-v3.1 | T=0.2",
          "base_deepseek-deepseek-chat-v3.1 | T=0.2",
          "base_deepseek-deepseek-chat-v3.1 | T=0.2",
          "base_deepseek-deepseek-chat-v3.1 | T=0.2",
          "base_deepseek-deepseek-chat-v3.1 | T=0.2",
          "base_deepseek-deepseek-chat-v3.1 | T=0.2",
          "base_deepseek-deepseek-chat-v3.1 | T=0.2",
          "base_deepseek-deepseek-chat-v3.1 | T=0.2",
          "base_deepseek-deepseek-chat-v3.1 | T=0.2",
          "base_deepseek-deepseek-chat-v3.1 | T=0.2",
          "base_deepseek-deepseek-chat-v3.1 | T=0.2",
          "base_deepseek-deepseek-chat-v3.1 | T=0.2",
          "base_deepseek-deepseek-chat-v3.1 | T=0.2",
          "base_deepseek-deepseek-chat-v3.1 | T=0.2",
          "base_deepseek-deepseek-chat-v3.1 | T=0.2",
          "base_openai-gpt-4.1-mini | T=0.0",
          "base_openai-gpt-4.1-mini | T=0.0",
          "base_openai-gpt-4.1-mini | T=0.0",
          "base_openai-gpt-4.1-mini | T=0.0",
          "base_openai-gpt-4.1-mini | T=0.0",
          "base_openai-gpt-4.1-mini | T=0.0",
          "base_openai-gpt-4.1-mini | T=0.0",
          "base_openai-gpt-4.1-mini | T=0.0",
          "base_openai-gpt-4.1-mini | T=0.0",
          "base_openai-gpt-4.1-mini | T=0.0",
          "base_openai-gpt-4.1-mini | T=0.0",
          "base_openai-gpt-4.1-mini | T=0.0",
          "base_openai-gpt-4.1-mini | T=0.0",
          "base_openai-gpt-4.1-mini | T=0.0",
          "base_openai-gpt-4.1-mini | T=0.0",
          "base_openai-gpt-4.1-mini | T=0.0",
          "base_openai-gpt-4.1-mini | T=0.0",
          "base_openai-gpt-4.1-mini | T=0.0",
          "base_openai-gpt-4.1-mini | T=0.0",
          "base_openai-gpt-4.1-mini | T=0.0",
          "base_openai-gpt-4.1-mini | T=0.0",
          "base_openai-gpt-4.1-mini | T=0.0",
          "base_openai-gpt-4.1-mini | T=0.0",
          "base_openai-gpt-4.1-mini | T=0.0",
          "base_openai-gpt-4.1-mini | T=0.0",
          "base_openai-gpt-4.1-mini | T=0.0",
          "base_openai-gpt-4.1-mini | T=0.0",
          "base_openai-gpt-4.1-mini | T=0.0",
          "base_openai-gpt-4.1-mini | T=0.0",
          "base_openai-gpt-4.1-mini | T=0.0",
          "base_openai-gpt-4.1-mini | T=0.0",
          "base_openai-gpt-4.1-mini | T=0.0",
          "base_openai-gpt-4.1-mini | T=0.0",
          "base_openai-gpt-4.1-mini | T=0.0",
          "base_openai-gpt-4.1-mini | T=0.0",
          "base_openai-gpt-4.1-mini | T=0.0",
          "base_openai-gpt-4.1-mini | T=0.0",
          "base_openai-gpt-4.1-mini | T=0.0",
          "base_openai-gpt-4.1-mini | T=0.0",
          "base_openai-gpt-4.1-mini | T=0.0",
          "base_openai-gpt-4.1-mini | T=0.0",
          "base_openai-gpt-4.1-mini | T=0.0",
          "base_openai-gpt-4.1-mini | T=0.0",
          "base_openai-gpt-4.1-mini | T=0.0",
          "base_openai-gpt-4.1-mini | T=0.0",
          "base_openai-gpt-4.1-mini | T=0.0",
          "base_openai-gpt-4.1-mini | T=0.0",
          "base_openai-gpt-4.1-mini | T=0.0",
          "base_openai-gpt-4.1-mini | T=0.0",
          "base_openai-gpt-4.1-mini | T=0.0",
          "base_openai-gpt-4.1-mini | T=0.0",
          "base_openai-gpt-4.1-mini | T=0.0",
          "base_openai-gpt-4.1-mini | T=0.0",
          "base_openai-gpt-4.1-mini | T=0.0",
          "base_openai-gpt-4.1-mini | T=0.0",
          "base_openai-gpt-4.1-mini | T=0.0",
          "base_openai-gpt-4.1-mini | T=0.0",
          "base_openai-gpt-4.1-mini | T=0.0",
          "base_openai-gpt-4.1-mini | T=0.0",
          "base_openai-gpt-4.1-mini | T=0.0",
          "base_openai-gpt-4.1-mini | T=0.0",
          "base_openai-gpt-4.1-mini | T=0.0",
          "base_openai-gpt-4.1-mini | T=0.0",
          "base_openai-gpt-4.1-mini | T=0.0",
          "base_openai-gpt-4.1-mini | T=0.0",
          "base_openai-gpt-4.1-mini | T=0.0",
          "base_openai-gpt-4.1-mini | T=0.0",
          "base_openai-gpt-4.1-mini | T=0.0",
          "base_openai-gpt-4.1-mini | T=0.0",
          "base_openai-gpt-4.1-mini | T=0.0",
          "base_openai-gpt-4.1-mini | T=0.0",
          "base_openai-gpt-4.1-mini | T=0.0",
          "base_openai-gpt-4.1-mini | T=0.0",
          "base_openai-gpt-4.1-mini | T=0.0",
          "base_openai-gpt-4.1-mini | T=0.0",
          "base_openai-gpt-4.1-mini | T=0.0",
          "base_openai-gpt-4.1-mini | T=0.0",
          "base_openai-gpt-4.1-mini | T=0.0",
          "base_openai-gpt-4.1-mini | T=0.0",
          "base_openai-gpt-4.1-mini | T=0.0",
          "base_openai-gpt-4.1-mini | T=0.0",
          "base_openai-gpt-4.1-mini | T=0.0",
          "base_openai-gpt-4.1-mini | T=0.0",
          "base_openai-gpt-4.1-mini | T=0.0",
          "base_openai-gpt-4.1-mini | T=0.0",
          "base_openai-gpt-4.1-mini | T=0.0",
          "base_openai-gpt-4.1-mini | T=0.0",
          "base_openai-gpt-4.1-mini | T=0.0",
          "base_openai-gpt-4.1-mini | T=0.0",
          "base_openai-gpt-4.1-mini | T=0.0",
          "base_openai-gpt-4.1-mini | T=0.0",
          "base_openai-gpt-4.1-mini | T=0.0",
          "base_openai-gpt-4.1-mini | T=0.0",
          "base_openai-gpt-4.1-mini | T=0.0",
          "base_openai-gpt-4.1-mini | T=0.0",
          "base_openai-gpt-4.1-mini | T=0.0",
          "base_openai-gpt-4.1-mini | T=0.0",
          "base_openai-gpt-4.1-mini | T=0.0",
          "base_openai-gpt-4.1-mini | T=0.0",
          "base_openai-gpt-4.1-mini | T=0.0"
         ],
         "x0": " ",
         "xaxis": "x",
         "y": {
          "bdata": "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",
          "dtype": "f8"
         },
         "y0": " ",
         "yaxis": "y"
        }
       ],
       "layout": {
        "boxmode": "group",
        "legend": {
         "tracegroupgap": 0
        },
        "template": {
         "data": {
          "bar": [
           {
            "error_x": {
             "color": "#2a3f5f"
            },
            "error_y": {
             "color": "#2a3f5f"
            },
            "marker": {
             "line": {
              "color": "#E5ECF6",
              "width": 0.5
             },
             "pattern": {
              "fillmode": "overlay",
              "size": 10,
              "solidity": 0.2
             }
            },
            "type": "bar"
           }
          ],
          "barpolar": [
           {
            "marker": {
             "line": {
              "color": "#E5ECF6",
              "width": 0.5
             },
             "pattern": {
              "fillmode": "overlay",
              "size": 10,
              "solidity": 0.2
             }
            },
            "type": "barpolar"
           }
          ],
          "carpet": [
           {
            "aaxis": {
             "endlinecolor": "#2a3f5f",
             "gridcolor": "white",
             "linecolor": "white",
             "minorgridcolor": "white",
             "startlinecolor": "#2a3f5f"
            },
            "baxis": {
             "endlinecolor": "#2a3f5f",
             "gridcolor": "white",
             "linecolor": "white",
             "minorgridcolor": "white",
             "startlinecolor": "#2a3f5f"
            },
            "type": "carpet"
           }
          ],
          "choropleth": [
           {
            "colorbar": {
             "outlinewidth": 0,
             "ticks": ""
            },
            "type": "choropleth"
           }
          ],
          "contour": [
           {
            "colorbar": {
             "outlinewidth": 0,
             "ticks": ""
            },
            "colorscale": [
             [
              0,
              "#0d0887"
             ],
             [
              0.1111111111111111,
              "#46039f"
             ],
             [
              0.2222222222222222,
              "#7201a8"
             ],
             [
              0.3333333333333333,
              "#9c179e"
             ],
             [
              0.4444444444444444,
              "#bd3786"
             ],
             [
              0.5555555555555556,
              "#d8576b"
             ],
             [
              0.6666666666666666,
              "#ed7953"
             ],
             [
              0.7777777777777778,
              "#fb9f3a"
             ],
             [
              0.8888888888888888,
              "#fdca26"
             ],
             [
              1,
              "#f0f921"
             ]
            ],
            "type": "contour"
           }
          ],
          "contourcarpet": [
           {
            "colorbar": {
             "outlinewidth": 0,
             "ticks": ""
            },
            "type": "contourcarpet"
           }
          ],
          "heatmap": [
           {
            "colorbar": {
             "outlinewidth": 0,
             "ticks": ""
            },
            "colorscale": [
             [
              0,
              "#0d0887"
             ],
             [
              0.1111111111111111,
              "#46039f"
             ],
             [
              0.2222222222222222,
              "#7201a8"
             ],
             [
              0.3333333333333333,
              "#9c179e"
             ],
             [
              0.4444444444444444,
              "#bd3786"
             ],
             [
              0.5555555555555556,
              "#d8576b"
             ],
             [
              0.6666666666666666,
              "#ed7953"
             ],
             [
              0.7777777777777778,
              "#fb9f3a"
             ],
             [
              0.8888888888888888,
              "#fdca26"
             ],
             [
              1,
              "#f0f921"
             ]
            ],
            "type": "heatmap"
           }
          ],
          "histogram": [
           {
            "marker": {
             "pattern": {
              "fillmode": "overlay",
              "size": 10,
              "solidity": 0.2
             }
            },
            "type": "histogram"
           }
          ],
          "histogram2d": [
           {
            "colorbar": {
             "outlinewidth": 0,
             "ticks": ""
            },
            "colorscale": [
             [
              0,
              "#0d0887"
             ],
             [
              0.1111111111111111,
              "#46039f"
             ],
             [
              0.2222222222222222,
              "#7201a8"
             ],
             [
              0.3333333333333333,
              "#9c179e"
             ],
             [
              0.4444444444444444,
              "#bd3786"
             ],
             [
              0.5555555555555556,
              "#d8576b"
             ],
             [
              0.6666666666666666,
              "#ed7953"
             ],
             [
              0.7777777777777778,
              "#fb9f3a"
             ],
             [
              0.8888888888888888,
              "#fdca26"
             ],
             [
              1,
              "#f0f921"
             ]
            ],
            "type": "histogram2d"
           }
          ],
          "histogram2dcontour": [
           {
            "colorbar": {
             "outlinewidth": 0,
             "ticks": ""
            },
            "colorscale": [
             [
              0,
              "#0d0887"
             ],
             [
              0.1111111111111111,
              "#46039f"
             ],
             [
              0.2222222222222222,
              "#7201a8"
             ],
             [
              0.3333333333333333,
              "#9c179e"
             ],
             [
              0.4444444444444444,
              "#bd3786"
             ],
             [
              0.5555555555555556,
              "#d8576b"
             ],
             [
              0.6666666666666666,
              "#ed7953"
             ],
             [
              0.7777777777777778,
              "#fb9f3a"
             ],
             [
              0.8888888888888888,
              "#fdca26"
             ],
             [
              1,
              "#f0f921"
             ]
            ],
            "type": "histogram2dcontour"
           }
          ],
          "mesh3d": [
           {
            "colorbar": {
             "outlinewidth": 0,
             "ticks": ""
            },
            "type": "mesh3d"
           }
          ],
          "parcoords": [
           {
            "line": {
             "colorbar": {
              "outlinewidth": 0,
              "ticks": ""
             }
            },
            "type": "parcoords"
           }
          ],
          "pie": [
           {
            "automargin": true,
            "type": "pie"
           }
          ],
          "scatter": [
           {
            "fillpattern": {
             "fillmode": "overlay",
             "size": 10,
             "solidity": 0.2
            },
            "type": "scatter"
           }
          ],
          "scatter3d": [
           {
            "line": {
             "colorbar": {
              "outlinewidth": 0,
              "ticks": ""
             }
            },
            "marker": {
             "colorbar": {
              "outlinewidth": 0,
              "ticks": ""
             }
            },
            "type": "scatter3d"
           }
          ],
          "scattercarpet": [
           {
            "marker": {
             "colorbar": {
              "outlinewidth": 0,
              "ticks": ""
             }
            },
            "type": "scattercarpet"
           }
          ],
          "scattergeo": [
           {
            "marker": {
             "colorbar": {
              "outlinewidth": 0,
              "ticks": ""
             }
            },
            "type": "scattergeo"
           }
          ],
          "scattergl": [
           {
            "marker": {
             "colorbar": {
              "outlinewidth": 0,
              "ticks": ""
             }
            },
            "type": "scattergl"
           }
          ],
          "scattermap": [
           {
            "marker": {
             "colorbar": {
              "outlinewidth": 0,
              "ticks": ""
             }
            },
            "type": "scattermap"
           }
          ],
          "scattermapbox": [
           {
            "marker": {
             "colorbar": {
              "outlinewidth": 0,
              "ticks": ""
             }
            },
            "type": "scattermapbox"
           }
          ],
          "scatterpolar": [
           {
            "marker": {
             "colorbar": {
              "outlinewidth": 0,
              "ticks": ""
             }
            },
            "type": "scatterpolar"
           }
          ],
          "scatterpolargl": [
           {
            "marker": {
             "colorbar": {
              "outlinewidth": 0,
              "ticks": ""
             }
            },
            "type": "scatterpolargl"
           }
          ],
          "scatterternary": [
           {
            "marker": {
             "colorbar": {
              "outlinewidth": 0,
              "ticks": ""
             }
            },
            "type": "scatterternary"
           }
          ],
          "surface": [
           {
            "colorbar": {
             "outlinewidth": 0,
             "ticks": ""
            },
            "colorscale": [
             [
              0,
              "#0d0887"
             ],
             [
              0.1111111111111111,
              "#46039f"
             ],
             [
              0.2222222222222222,
              "#7201a8"
             ],
             [
              0.3333333333333333,
              "#9c179e"
             ],
             [
              0.4444444444444444,
              "#bd3786"
             ],
             [
              0.5555555555555556,
              "#d8576b"
             ],
             [
              0.6666666666666666,
              "#ed7953"
             ],
             [
              0.7777777777777778,
              "#fb9f3a"
             ],
             [
              0.8888888888888888,
              "#fdca26"
             ],
             [
              1,
              "#f0f921"
             ]
            ],
            "type": "surface"
           }
          ],
          "table": [
           {
            "cells": {
             "fill": {
              "color": "#EBF0F8"
             },
             "line": {
              "color": "white"
             }
            },
            "header": {
             "fill": {
              "color": "#C8D4E3"
             },
             "line": {
              "color": "white"
             }
            },
            "type": "table"
           }
          ]
         },
         "layout": {
          "annotationdefaults": {
           "arrowcolor": "#2a3f5f",
           "arrowhead": 0,
           "arrowwidth": 1
          },
          "autotypenumbers": "strict",
          "coloraxis": {
           "colorbar": {
            "outlinewidth": 0,
            "ticks": ""
           }
          },
          "colorscale": {
           "diverging": [
            [
             0,
             "#8e0152"
            ],
            [
             0.1,
             "#c51b7d"
            ],
            [
             0.2,
             "#de77ae"
            ],
            [
             0.3,
             "#f1b6da"
            ],
            [
             0.4,
             "#fde0ef"
            ],
            [
             0.5,
             "#f7f7f7"
            ],
            [
             0.6,
             "#e6f5d0"
            ],
            [
             0.7,
             "#b8e186"
            ],
            [
             0.8,
             "#7fbc41"
            ],
            [
             0.9,
             "#4d9221"
            ],
            [
             1,
             "#276419"
            ]
           ],
           "sequential": [
            [
             0,
             "#0d0887"
            ],
            [
             0.1111111111111111,
             "#46039f"
            ],
            [
             0.2222222222222222,
             "#7201a8"
            ],
            [
             0.3333333333333333,
             "#9c179e"
            ],
            [
             0.4444444444444444,
             "#bd3786"
            ],
            [
             0.5555555555555556,
             "#d8576b"
            ],
            [
             0.6666666666666666,
             "#ed7953"
            ],
            [
             0.7777777777777778,
             "#fb9f3a"
            ],
            [
             0.8888888888888888,
             "#fdca26"
            ],
            [
             1,
             "#f0f921"
            ]
           ],
           "sequentialminus": [
            [
             0,
             "#0d0887"
            ],
            [
             0.1111111111111111,
             "#46039f"
            ],
            [
             0.2222222222222222,
             "#7201a8"
            ],
            [
             0.3333333333333333,
             "#9c179e"
            ],
            [
             0.4444444444444444,
             "#bd3786"
            ],
            [
             0.5555555555555556,
             "#d8576b"
            ],
            [
             0.6666666666666666,
             "#ed7953"
            ],
            [
             0.7777777777777778,
             "#fb9f3a"
            ],
            [
             0.8888888888888888,
             "#fdca26"
            ],
            [
             1,
             "#f0f921"
            ]
           ]
          },
          "colorway": [
           "#636efa",
           "#EF553B",
           "#00cc96",
           "#ab63fa",
           "#FFA15A",
           "#19d3f3",
           "#FF6692",
           "#B6E880",
           "#FF97FF",
           "#FECB52"
          ],
          "font": {
           "color": "#2a3f5f"
          },
          "geo": {
           "bgcolor": "white",
           "lakecolor": "white",
           "landcolor": "#E5ECF6",
           "showlakes": true,
           "showland": true,
           "subunitcolor": "white"
          },
          "hoverlabel": {
           "align": "left"
          },
          "hovermode": "closest",
          "mapbox": {
           "style": "light"
          },
          "paper_bgcolor": "white",
          "plot_bgcolor": "#E5ECF6",
          "polar": {
           "angularaxis": {
            "gridcolor": "white",
            "linecolor": "white",
            "ticks": ""
           },
           "bgcolor": "#E5ECF6",
           "radialaxis": {
            "gridcolor": "white",
            "linecolor": "white",
            "ticks": ""
           }
          },
          "scene": {
           "xaxis": {
            "backgroundcolor": "#E5ECF6",
            "gridcolor": "white",
            "gridwidth": 2,
            "linecolor": "white",
            "showbackground": true,
            "ticks": "",
            "zerolinecolor": "white"
           },
           "yaxis": {
            "backgroundcolor": "#E5ECF6",
            "gridcolor": "white",
            "gridwidth": 2,
            "linecolor": "white",
            "showbackground": true,
            "ticks": "",
            "zerolinecolor": "white"
           },
           "zaxis": {
            "backgroundcolor": "#E5ECF6",
            "gridcolor": "white",
            "gridwidth": 2,
            "linecolor": "white",
            "showbackground": true,
            "ticks": "",
            "zerolinecolor": "white"
           }
          },
          "shapedefaults": {
           "line": {
            "color": "#2a3f5f"
           }
          },
          "ternary": {
           "aaxis": {
            "gridcolor": "white",
            "linecolor": "white",
            "ticks": ""
           },
           "baxis": {
            "gridcolor": "white",
            "linecolor": "white",
            "ticks": ""
           },
           "bgcolor": "#E5ECF6",
           "caxis": {
            "gridcolor": "white",
            "linecolor": "white",
            "ticks": ""
           }
          },
          "title": {
           "x": 0.05
          },
          "xaxis": {
           "automargin": true,
           "gridcolor": "white",
           "linecolor": "white",
           "ticks": "",
           "title": {
            "standoff": 15
           },
           "zerolinecolor": "white",
           "zerolinewidth": 2
          },
          "yaxis": {
           "automargin": true,
           "gridcolor": "white",
           "linecolor": "white",
           "ticks": "",
           "title": {
            "standoff": 15
           },
           "zerolinecolor": "white",
           "zerolinewidth": 2
          }
         }
        },
        "title": {
         "text": "Distribution of Normalized evals — Puzzle uaey4"
        },
        "xaxis": {
         "anchor": "y",
         "domain": [
          0,
          1
         ],
         "title": {
          "text": "Model | Temperature"
         }
        },
        "yaxis": {
         "anchor": "x",
         "domain": [
          0,
          1
         ],
         "title": {
          "text": "Normalized evaluation (0-1)"
         }
        }
       }
      }
     },
     "metadata": {},
     "output_type": "display_data"
    },
    {
     "data": {
      "application/vnd.plotly.v1+json": {
       "config": {
        "plotlyServerURL": "https://plot.ly"
       },
       "data": [
        {
         "mode": "markers",
         "name": "base_deepseek-deepseek-chat-v3.1 (points)",
         "type": "scatter",
         "x": {
          "bdata": "AQEBAQEBAQEBAQECAgICAgICAgICAgMDAwMDAwMDAwMDBAQEBAQEBAQEBAQFBQUFBQUFBQUFBQYGBgYGBgYGBgYGBwcHBwcHBwcHBwcICAgICAgICAgICAkJCQkJCQkJCQkJCgoKCgoKCgoKCgoLCwsLCwsLCwsLCwwMDAwMDAwMDAwMDQ0NDQ0NDQ0NDQ0ODg4ODg4ODg4ODg8PDw8PDw8PDw8PEBAQEBAQEBAQEBARERERERERERERERISEhISEhISEhISExMTExMTExMTExMUFBQUFBQUFBQUFBUVFRUVFRUVFRUVFhYWFhYWFhYWFhYXFxcXFxcXFxcXFxgYGBgYGBgYGBgYGRkZGRkZGRkZGRkaGhoaGhoaGhoaGhsbGxsbGxsbGxsbHBwcHBwcHBwcHBwdHR0dHR0dHR0dHR4eHh4eHh4eHh4eHx8fHx8fHx8fHx8gICAgICAgICAgICEhISEhISEhISEhIiIiIiIiIiIiIiIjIyMjIyMjIyMjIyQkJCQkJCQkJCQkJSUlJSUlJSUlJSUmJiYmJiYmJiYmJicnJycnJycnJycnKCgoKCgoKCgoKCgpKSkpKSkpKSkpKSoqKioqKioqKioqKysrKysrKysrKyssLCwsLCwsLCwsLC0tLS0tLS0tLS0tLi4uLi4uLi4uLi4vLy8vLy8vLy8vLzAwMDAwMDAwMDAwMTExMTExMTExMTEyMjIyMjIyMjIyMjMzMzMzMzMzMzMzNDQ0NDQ0NDQ0NDQ1NTU1NTU1NTU1NTY2NjY2NjY2NjY2Nzc3Nzc3Nzc3Nzc4ODg4ODg4ODg4ODk5OTk5OTk5OTk5Ojo6Ojo6Ojo6Ojo7Ozs7Ozs7Ozs7Ozw8PDw8PDw8PDw8PT09PT09PT09PT0+Pj4+Pj4+Pj4+Pj8/Pz8/Pz8/Pz8/QEBAQEBAQEBAQEBBQUFBQUFBQUFBQUJCQkJCQkJCQkJCQ0NDQ0NDQ0NDQ0NEREREREREREREREVFRUVFRUVFRUVFRkZGRkZGRkZGRkZHR0dHR0dHR0dHR0hISEhISEhISEhISUlJSUlJSUlJSUlKSkpKSkpKSkpKSktLS0tLS0tLS0tLTExMTExMTExMTExNTU1NTU1NTU1NTU5OTk5OTk5OTk5OT09PT09PT09PT09QUFBQUFBQUFBQUFFRUVFRUVFRUVFRUlJSUlJSUlJSUlJTU1NTU1NTU1NTU1RUVFRUVFRUVFRUVVVVVVVVVVVVVVVWVlZWVlZWVlZWVldXV1dXV1dXV1dXWFhYWFhYWFhYWFhZWVlZWVlZWVlZWVpaWlpaWlpaWlpaW1tbW1tbW1tbW1tcXFxcXFxcXFxcXF1dXV1dXV1dXV1dXl5eXl5eXl5eXl5fX19fX19fX19fX2BgYGBgYGBgYGBgYWFhYWFhYWFhYWFiYmJiYmJiYmJiYmNjY2NjY2NjY2NjZGRkZGRkZGRkZGQ=",
          "dtype": "i1"
         },
         "y": {
          "bdata": "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",
          "dtype": "f8"
         }
        },
        {
         "mode": "lines",
         "name": "base_deepseek-deepseek-chat-v3.1 (rolling mean)",
         "type": "scatter",
         "x": {
          "bdata": "AQEBAQEBAQEBAQECAgICAgICAgICAgMDAwMDAwMDAwMDBAQEBAQEBAQEBAQFBQUFBQUFBQUFBQYGBgYGBgYGBgYGBwcHBwcHBwcHBwcICAgICAgICAgICAkJCQkJCQkJCQkJCgoKCgoKCgoKCgoLCwsLCwsLCwsLCwwMDAwMDAwMDAwMDQ0NDQ0NDQ0NDQ0ODg4ODg4ODg4ODg8PDw8PDw8PDw8PEBAQEBAQEBAQEBARERERERERERERERISEhISEhISEhISExMTExMTExMTExMUFBQUFBQUFBQUFBUVFRUVFRUVFRUVFhYWFhYWFhYWFhYXFxcXFxcXFxcXFxgYGBgYGBgYGBgYGRkZGRkZGRkZGRkaGhoaGhoaGhoaGhsbGxsbGxsbGxsbHBwcHBwcHBwcHBwdHR0dHR0dHR0dHR4eHh4eHh4eHh4eHx8fHx8fHx8fHx8gICAgICAgICAgICEhISEhISEhISEhIiIiIiIiIiIiIiIjIyMjIyMjIyMjIyQkJCQkJCQkJCQkJSUlJSUlJSUlJSUmJiYmJiYmJiYmJicnJycnJycnJycnKCgoKCgoKCgoKCgpKSkpKSkpKSkpKSoqKioqKioqKioqKysrKysrKysrKyssLCwsLCwsLCwsLC0tLS0tLS0tLS0tLi4uLi4uLi4uLi4vLy8vLy8vLy8vLzAwMDAwMDAwMDAwMTExMTExMTExMTEyMjIyMjIyMjIyMjMzMzMzMzMzMzMzNDQ0NDQ0NDQ0NDQ1NTU1NTU1NTU1NTY2NjY2NjY2NjY2Nzc3Nzc3Nzc3Nzc4ODg4ODg4ODg4ODk5OTk5OTk5OTk5Ojo6Ojo6Ojo6Ojo7Ozs7Ozs7Ozs7Ozw8PDw8PDw8PDw8PT09PT09PT09PT0+Pj4+Pj4+Pj4+Pj8/Pz8/Pz8/Pz8/QEBAQEBAQEBAQEBBQUFBQUFBQUFBQUJCQkJCQkJCQkJCQ0NDQ0NDQ0NDQ0NEREREREREREREREVFRUVFRUVFRUVFRkZGRkZGRkZGRkZHR0dHR0dHR0dHR0hISEhISEhISEhISUlJSUlJSUlJSUlKSkpKSkpKSkpKSktLS0tLS0tLS0tLTExMTExMTExMTExNTU1NTU1NTU1NTU5OTk5OTk5OTk5OT09PT09PT09PT09QUFBQUFBQUFBQUFFRUVFRUVFRUVFRUlJSUlJSUlJSUlJTU1NTU1NTU1NTU1RUVFRUVFRUVFRUVVVVVVVVVVVVVVVWVlZWVlZWVlZWVldXV1dXV1dXV1dXWFhYWFhYWFhYWFhZWVlZWVlZWVlZWVpaWlpaWlpaWlpaW1tbW1tbW1tbW1tcXFxcXFxcXFxcXF1dXV1dXV1dXV1dXl5eXl5eXl5eXl5fX19fX19fX19fX2BgYGBgYGBgYGBgYWFhYWFhYWFhYWFiYmJiYmJiYmJiYmNjY2NjY2NjY2NjZGRkZGRkZGRkZGQ=",
          "dtype": "i1"
         },
         "y": {
          "bdata": "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",
          "dtype": "f8"
         }
        },
        {
         "mode": "markers",
         "name": "base_openai-gpt-4.1-mini (points)",
         "type": "scatter",
         "x": {
          "bdata": "AQEBAQEBAQEBAQECAgICAgICAgICAgMDAwMDAwMDAwMDBAQEBAQEBAQEBAQFBQUFBQUFBQUFBQYGBgYGBgYGBgYGBwcHBwcHBwcHBwcICAgICAgICAgICAkJCQkJCQkJCQkJCgoKCgoKCgoKCgoLCwsLCwsLCwsLCwwMDAwMDAwMDAwMDQ0NDQ0NDQ0NDQ0ODg4ODg4ODg4ODg8PDw8PDw8PDw8PEBAQEBAQEBAQEBARERERERERERERERISEhISEhISEhISExMTExMTExMTExMUFBQUFBQUFBQUFBUVFRUVFRUVFRUVFhYWFhYWFhYWFhYXFxcXFxcXFxcXFxgYGBgYGBgYGBgYGRkZGRkZGRkZGRkaGhoaGhoaGhoaGhsbGxsbGxsbGxsbHBwcHBwcHBwcHBwdHR0dHR0dHR0dHR4eHh4eHh4eHh4eHx8fHx8fHx8fHx8gICAgICAgICAgICEhISEhISEhISEhIiIiIiIiIiIiIiIjIyMjIyMjIyMjIyQkJCQkJCQkJCQkJSUlJSUlJSUlJSUmJiYmJiYmJiYmJicnJycnJycnJycnKCgoKCgoKCgoKCgpKSkpKSkpKSkpKSoqKioqKioqKioqKysrKysrKysrKyssLCwsLCwsLCwsLC0tLS0tLS0tLS0tLi4uLi4uLi4uLi4vLy8vLy8vLy8vLzAwMDAwMDAwMDAwMTExMTExMTExMTEyMjIyMjIyMjIyMjMzMzMzMzMzMzMzNDQ0NDQ0NDQ0NDQ1NTU1NTU1NTU1NTY2NjY2NjY2NjY2Nzc3Nzc3Nzc3Nzc4ODg4ODg4ODg4ODk5OTk5OTk5OTk5Ojo6Ojo6Ojo6Ojo7Ozs7Ozs7Ozs7Ozw8PDw8PDw8PDw8PT09PT09PT09PT0+Pj4+Pj4+Pj4+Pj8/Pz8/Pz8/Pz8/QEBAQEBAQEBAQEBBQUFBQUFBQUFBQUJCQkJCQkJCQkJCQ0NDQ0NDQ0NDQ0NEREREREREREREREVFRUVFRUVFRUVFRkZGRkZGRkZGRkZHR0dHR0dHR0dHR0hISEhISEhISEhISUlJSUlJSUlJSUlKSkpKSkpKSkpKSktLS0tLS0tLS0tLTExMTExMTExMTExNTU1NTU1NTU1NTU5OTk5OTk5OTk5OT09PT09PT09PT09QUFBQUFBQUFBQUFFRUVFRUVFRUVFRUlJSUlJSUlJSUlJTU1NTU1NTU1NTU1RUVFRUVFRUVFRUVVVVVVVVVVVVVVVWVlZWVlZWVlZWVldXV1dXV1dXV1dXWFhYWFhYWFhYWFhZWVlZWVlZWVlZWVpaWlpaWlpaWlpaW1tbW1tbW1tbW1tcXFxcXFxcXFxcXF1dXV1dXV1dXV1dXl5eXl5eXl5eXl5fX19fX19fX19fX2BgYGBgYGBgYGBgYWFhYWFhYWFhYWFiYmJiYmJiYmJiYmNjY2NjY2NjY2NjZGRkZGRkZGRkZGQ=",
          "dtype": "i1"
         },
         "y": {
          "bdata": "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",
          "dtype": "f8"
         }
        },
        {
         "mode": "lines",
         "name": "base_openai-gpt-4.1-mini (rolling mean)",
         "type": "scatter",
         "x": {
          "bdata": "AQEBAQEBAQEBAQECAgICAgICAgICAgMDAwMDAwMDAwMDBAQEBAQEBAQEBAQFBQUFBQUFBQUFBQYGBgYGBgYGBgYGBwcHBwcHBwcHBwcICAgICAgICAgICAkJCQkJCQkJCQkJCgoKCgoKCgoKCgoLCwsLCwsLCwsLCwwMDAwMDAwMDAwMDQ0NDQ0NDQ0NDQ0ODg4ODg4ODg4ODg8PDw8PDw8PDw8PEBAQEBAQEBAQEBARERERERERERERERISEhISEhISEhISExMTExMTExMTExMUFBQUFBQUFBQUFBUVFRUVFRUVFRUVFhYWFhYWFhYWFhYXFxcXFxcXFxcXFxgYGBgYGBgYGBgYGRkZGRkZGRkZGRkaGhoaGhoaGhoaGhsbGxsbGxsbGxsbHBwcHBwcHBwcHBwdHR0dHR0dHR0dHR4eHh4eHh4eHh4eHx8fHx8fHx8fHx8gICAgICAgICAgICEhISEhISEhISEhIiIiIiIiIiIiIiIjIyMjIyMjIyMjIyQkJCQkJCQkJCQkJSUlJSUlJSUlJSUmJiYmJiYmJiYmJicnJycnJycnJycnKCgoKCgoKCgoKCgpKSkpKSkpKSkpKSoqKioqKioqKioqKysrKysrKysrKyssLCwsLCwsLCwsLC0tLS0tLS0tLS0tLi4uLi4uLi4uLi4vLy8vLy8vLy8vLzAwMDAwMDAwMDAwMTExMTExMTExMTEyMjIyMjIyMjIyMjMzMzMzMzMzMzMzNDQ0NDQ0NDQ0NDQ1NTU1NTU1NTU1NTY2NjY2NjY2NjY2Nzc3Nzc3Nzc3Nzc4ODg4ODg4ODg4ODk5OTk5OTk5OTk5Ojo6Ojo6Ojo6Ojo7Ozs7Ozs7Ozs7Ozw8PDw8PDw8PDw8PT09PT09PT09PT0+Pj4+Pj4+Pj4+Pj8/Pz8/Pz8/Pz8/QEBAQEBAQEBAQEBBQUFBQUFBQUFBQUJCQkJCQkJCQkJCQ0NDQ0NDQ0NDQ0NEREREREREREREREVFRUVFRUVFRUVFRkZGRkZGRkZGRkZHR0dHR0dHR0dHR0hISEhISEhISEhISUlJSUlJSUlJSUlKSkpKSkpKSkpKSktLS0tLS0tLS0tLTExMTExMTExMTExNTU1NTU1NTU1NTU5OTk5OTk5OTk5OT09PT09PT09PT09QUFBQUFBQUFBQUFFRUVFRUVFRUVFRUlJSUlJSUlJSUlJTU1NTU1NTU1NTU1RUVFRUVFRUVFRUVVVVVVVVVVVVVVVWVlZWVlZWVlZWVldXV1dXV1dXV1dXWFhYWFhYWFhYWFhZWVlZWVlZWVlZWVpaWlpaWlpaWlpaW1tbW1tbW1tbW1tcXFxcXFxcXFxcXF1dXV1dXV1dXV1dXl5eXl5eXl5eXl5fX19fX19fX19fX2BgYGBgYGBgYGBgYWFhYWFhYWFhYWFiYmJiYmJiYmJiYmNjY2NjY2NjY2NjZGRkZGRkZGRkZGQ=",
          "dtype": "i1"
         },
         "y": {
          "bdata": "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",
          "dtype": "f8"
         }
        }
       ],
       "layout": {
        "template": {
         "data": {
          "bar": [
           {
            "error_x": {
             "color": "#2a3f5f"
            },
            "error_y": {
             "color": "#2a3f5f"
            },
            "marker": {
             "line": {
              "color": "#E5ECF6",
              "width": 0.5
             },
             "pattern": {
              "fillmode": "overlay",
              "size": 10,
              "solidity": 0.2
             }
            },
            "type": "bar"
           }
          ],
          "barpolar": [
           {
            "marker": {
             "line": {
              "color": "#E5ECF6",
              "width": 0.5
             },
             "pattern": {
              "fillmode": "overlay",
              "size": 10,
              "solidity": 0.2
             }
            },
            "type": "barpolar"
           }
          ],
          "carpet": [
           {
            "aaxis": {
             "endlinecolor": "#2a3f5f",
             "gridcolor": "white",
             "linecolor": "white",
             "minorgridcolor": "white",
             "startlinecolor": "#2a3f5f"
            },
            "baxis": {
             "endlinecolor": "#2a3f5f",
             "gridcolor": "white",
             "linecolor": "white",
             "minorgridcolor": "white",
             "startlinecolor": "#2a3f5f"
            },
            "type": "carpet"
           }
          ],
          "choropleth": [
           {
            "colorbar": {
             "outlinewidth": 0,
             "ticks": ""
            },
            "type": "choropleth"
           }
          ],
          "contour": [
           {
            "colorbar": {
             "outlinewidth": 0,
             "ticks": ""
            },
            "colorscale": [
             [
              0,
              "#0d0887"
             ],
             [
              0.1111111111111111,
              "#46039f"
             ],
             [
              0.2222222222222222,
              "#7201a8"
             ],
             [
              0.3333333333333333,
              "#9c179e"
             ],
             [
              0.4444444444444444,
              "#bd3786"
             ],
             [
              0.5555555555555556,
              "#d8576b"
             ],
             [
              0.6666666666666666,
              "#ed7953"
             ],
             [
              0.7777777777777778,
              "#fb9f3a"
             ],
             [
              0.8888888888888888,
              "#fdca26"
             ],
             [
              1,
              "#f0f921"
             ]
            ],
            "type": "contour"
           }
          ],
          "contourcarpet": [
           {
            "colorbar": {
             "outlinewidth": 0,
             "ticks": ""
            },
            "type": "contourcarpet"
           }
          ],
          "heatmap": [
           {
            "colorbar": {
             "outlinewidth": 0,
             "ticks": ""
            },
            "colorscale": [
             [
              0,
              "#0d0887"
             ],
             [
              0.1111111111111111,
              "#46039f"
             ],
             [
              0.2222222222222222,
              "#7201a8"
             ],
             [
              0.3333333333333333,
              "#9c179e"
             ],
             [
              0.4444444444444444,
              "#bd3786"
             ],
             [
              0.5555555555555556,
              "#d8576b"
             ],
             [
              0.6666666666666666,
              "#ed7953"
             ],
             [
              0.7777777777777778,
              "#fb9f3a"
             ],
             [
              0.8888888888888888,
              "#fdca26"
             ],
             [
              1,
              "#f0f921"
             ]
            ],
            "type": "heatmap"
           }
          ],
          "histogram": [
           {
            "marker": {
             "pattern": {
              "fillmode": "overlay",
              "size": 10,
              "solidity": 0.2
             }
            },
            "type": "histogram"
           }
          ],
          "histogram2d": [
           {
            "colorbar": {
             "outlinewidth": 0,
             "ticks": ""
            },
            "colorscale": [
             [
              0,
              "#0d0887"
             ],
             [
              0.1111111111111111,
              "#46039f"
             ],
             [
              0.2222222222222222,
              "#7201a8"
             ],
             [
              0.3333333333333333,
              "#9c179e"
             ],
             [
              0.4444444444444444,
              "#bd3786"
             ],
             [
              0.5555555555555556,
              "#d8576b"
             ],
             [
              0.6666666666666666,
              "#ed7953"
             ],
             [
              0.7777777777777778,
              "#fb9f3a"
             ],
             [
              0.8888888888888888,
              "#fdca26"
             ],
             [
              1,
              "#f0f921"
             ]
            ],
            "type": "histogram2d"
           }
          ],
          "histogram2dcontour": [
           {
            "colorbar": {
             "outlinewidth": 0,
             "ticks": ""
            },
            "colorscale": [
             [
              0,
              "#0d0887"
             ],
             [
              0.1111111111111111,
              "#46039f"
             ],
             [
              0.2222222222222222,
              "#7201a8"
             ],
             [
              0.3333333333333333,
              "#9c179e"
             ],
             [
              0.4444444444444444,
              "#bd3786"
             ],
             [
              0.5555555555555556,
              "#d8576b"
             ],
             [
              0.6666666666666666,
              "#ed7953"
             ],
             [
              0.7777777777777778,
              "#fb9f3a"
             ],
             [
              0.8888888888888888,
              "#fdca26"
             ],
             [
              1,
              "#f0f921"
             ]
            ],
            "type": "histogram2dcontour"
           }
          ],
          "mesh3d": [
           {
            "colorbar": {
             "outlinewidth": 0,
             "ticks": ""
            },
            "type": "mesh3d"
           }
          ],
          "parcoords": [
           {
            "line": {
             "colorbar": {
              "outlinewidth": 0,
              "ticks": ""
             }
            },
            "type": "parcoords"
           }
          ],
          "pie": [
           {
            "automargin": true,
            "type": "pie"
           }
          ],
          "scatter": [
           {
            "fillpattern": {
             "fillmode": "overlay",
             "size": 10,
             "solidity": 0.2
            },
            "type": "scatter"
           }
          ],
          "scatter3d": [
           {
            "line": {
             "colorbar": {
              "outlinewidth": 0,
              "ticks": ""
             }
            },
            "marker": {
             "colorbar": {
              "outlinewidth": 0,
              "ticks": ""
             }
            },
            "type": "scatter3d"
           }
          ],
          "scattercarpet": [
           {
            "marker": {
             "colorbar": {
              "outlinewidth": 0,
              "ticks": ""
             }
            },
            "type": "scattercarpet"
           }
          ],
          "scattergeo": [
           {
            "marker": {
             "colorbar": {
              "outlinewidth": 0,
              "ticks": ""
             }
            },
            "type": "scattergeo"
           }
          ],
          "scattergl": [
           {
            "marker": {
             "colorbar": {
              "outlinewidth": 0,
              "ticks": ""
             }
            },
            "type": "scattergl"
           }
          ],
          "scattermap": [
           {
            "marker": {
             "colorbar": {
              "outlinewidth": 0,
              "ticks": ""
             }
            },
            "type": "scattermap"
           }
          ],
          "scattermapbox": [
           {
            "marker": {
             "colorbar": {
              "outlinewidth": 0,
              "ticks": ""
             }
            },
            "type": "scattermapbox"
           }
          ],
          "scatterpolar": [
           {
            "marker": {
             "colorbar": {
              "outlinewidth": 0,
              "ticks": ""
             }
            },
            "type": "scatterpolar"
           }
          ],
          "scatterpolargl": [
           {
            "marker": {
             "colorbar": {
              "outlinewidth": 0,
              "ticks": ""
             }
            },
            "type": "scatterpolargl"
           }
          ],
          "scatterternary": [
           {
            "marker": {
             "colorbar": {
              "outlinewidth": 0,
              "ticks": ""
             }
            },
            "type": "scatterternary"
           }
          ],
          "surface": [
           {
            "colorbar": {
             "outlinewidth": 0,
             "ticks": ""
            },
            "colorscale": [
             [
              0,
              "#0d0887"
             ],
             [
              0.1111111111111111,
              "#46039f"
             ],
             [
              0.2222222222222222,
              "#7201a8"
             ],
             [
              0.3333333333333333,
              "#9c179e"
             ],
             [
              0.4444444444444444,
              "#bd3786"
             ],
             [
              0.5555555555555556,
              "#d8576b"
             ],
             [
              0.6666666666666666,
              "#ed7953"
             ],
             [
              0.7777777777777778,
              "#fb9f3a"
             ],
             [
              0.8888888888888888,
              "#fdca26"
             ],
             [
              1,
              "#f0f921"
             ]
            ],
            "type": "surface"
           }
          ],
          "table": [
           {
            "cells": {
             "fill": {
              "color": "#EBF0F8"
             },
             "line": {
              "color": "white"
             }
            },
            "header": {
             "fill": {
              "color": "#C8D4E3"
             },
             "line": {
              "color": "white"
             }
            },
            "type": "table"
           }
          ]
         },
         "layout": {
          "annotationdefaults": {
           "arrowcolor": "#2a3f5f",
           "arrowhead": 0,
           "arrowwidth": 1
          },
          "autotypenumbers": "strict",
          "coloraxis": {
           "colorbar": {
            "outlinewidth": 0,
            "ticks": ""
           }
          },
          "colorscale": {
           "diverging": [
            [
             0,
             "#8e0152"
            ],
            [
             0.1,
             "#c51b7d"
            ],
            [
             0.2,
             "#de77ae"
            ],
            [
             0.3,
             "#f1b6da"
            ],
            [
             0.4,
             "#fde0ef"
            ],
            [
             0.5,
             "#f7f7f7"
            ],
            [
             0.6,
             "#e6f5d0"
            ],
            [
             0.7,
             "#b8e186"
            ],
            [
             0.8,
             "#7fbc41"
            ],
            [
             0.9,
             "#4d9221"
            ],
            [
             1,
             "#276419"
            ]
           ],
           "sequential": [
            [
             0,
             "#0d0887"
            ],
            [
             0.1111111111111111,
             "#46039f"
            ],
            [
             0.2222222222222222,
             "#7201a8"
            ],
            [
             0.3333333333333333,
             "#9c179e"
            ],
            [
             0.4444444444444444,
             "#bd3786"
            ],
            [
             0.5555555555555556,
             "#d8576b"
            ],
            [
             0.6666666666666666,
             "#ed7953"
            ],
            [
             0.7777777777777778,
             "#fb9f3a"
            ],
            [
             0.8888888888888888,
             "#fdca26"
            ],
            [
             1,
             "#f0f921"
            ]
           ],
           "sequentialminus": [
            [
             0,
             "#0d0887"
            ],
            [
             0.1111111111111111,
             "#46039f"
            ],
            [
             0.2222222222222222,
             "#7201a8"
            ],
            [
             0.3333333333333333,
             "#9c179e"
            ],
            [
             0.4444444444444444,
             "#bd3786"
            ],
            [
             0.5555555555555556,
             "#d8576b"
            ],
            [
             0.6666666666666666,
             "#ed7953"
            ],
            [
             0.7777777777777778,
             "#fb9f3a"
            ],
            [
             0.8888888888888888,
             "#fdca26"
            ],
            [
             1,
             "#f0f921"
            ]
           ]
          },
          "colorway": [
           "#636efa",
           "#EF553B",
           "#00cc96",
           "#ab63fa",
           "#FFA15A",
           "#19d3f3",
           "#FF6692",
           "#B6E880",
           "#FF97FF",
           "#FECB52"
          ],
          "font": {
           "color": "#2a3f5f"
          },
          "geo": {
           "bgcolor": "white",
           "lakecolor": "white",
           "landcolor": "#E5ECF6",
           "showlakes": true,
           "showland": true,
           "subunitcolor": "white"
          },
          "hoverlabel": {
           "align": "left"
          },
          "hovermode": "closest",
          "mapbox": {
           "style": "light"
          },
          "paper_bgcolor": "white",
          "plot_bgcolor": "#E5ECF6",
          "polar": {
           "angularaxis": {
            "gridcolor": "white",
            "linecolor": "white",
            "ticks": ""
           },
           "bgcolor": "#E5ECF6",
           "radialaxis": {
            "gridcolor": "white",
            "linecolor": "white",
            "ticks": ""
           }
          },
          "scene": {
           "xaxis": {
            "backgroundcolor": "#E5ECF6",
            "gridcolor": "white",
            "gridwidth": 2,
            "linecolor": "white",
            "showbackground": true,
            "ticks": "",
            "zerolinecolor": "white"
           },
           "yaxis": {
            "backgroundcolor": "#E5ECF6",
            "gridcolor": "white",
            "gridwidth": 2,
            "linecolor": "white",
            "showbackground": true,
            "ticks": "",
            "zerolinecolor": "white"
           },
           "zaxis": {
            "backgroundcolor": "#E5ECF6",
            "gridcolor": "white",
            "gridwidth": 2,
            "linecolor": "white",
            "showbackground": true,
            "ticks": "",
            "zerolinecolor": "white"
           }
          },
          "shapedefaults": {
           "line": {
            "color": "#2a3f5f"
           }
          },
          "ternary": {
           "aaxis": {
            "gridcolor": "white",
            "linecolor": "white",
            "ticks": ""
           },
           "baxis": {
            "gridcolor": "white",
            "linecolor": "white",
            "ticks": ""
           },
           "bgcolor": "#E5ECF6",
           "caxis": {
            "gridcolor": "white",
            "linecolor": "white",
            "ticks": ""
           }
          },
          "title": {
           "x": 0.05
          },
          "xaxis": {
           "automargin": true,
           "gridcolor": "white",
           "linecolor": "white",
           "ticks": "",
           "title": {
            "standoff": 15
           },
           "zerolinecolor": "white",
           "zerolinewidth": 2
          },
          "yaxis": {
           "automargin": true,
           "gridcolor": "white",
           "linecolor": "white",
           "ticks": "",
           "title": {
            "standoff": 15
           },
           "zerolinecolor": "white",
           "zerolinewidth": 2
          }
         }
        },
        "title": {
         "text": "Call index vs Normalized eval — Puzzle uaey4"
        },
        "xaxis": {
         "title": {
          "text": "Call #"
         }
        },
        "yaxis": {
         "title": {
          "text": "Normalized"
         }
        }
       }
      }
     },
     "metadata": {},
     "output_type": "display_data"
    }
   ],
   "source": [
    "import glob, os\n",
    "import pandas as pd\n",
    "import numpy as np\n",
    "import plotly.express as px\n",
    "import plotly.graph_objects as go\n",
    "\n",
    "# 🔹 Change this to your folder with res_*.csv\n",
    "DATA_DIR = \"/Users/jtsiros93/Documents/llm_bench/week03/gpt-temp-check\"  \n",
    "\n",
    "def load_and_clean_csvs(data_dir=DATA_DIR):\n",
    "    \"\"\"Load all res_*.csv files and return cleaned dataframe of calls only.\"\"\"\n",
    "    files = glob.glob(os.path.join(data_dir, \"res_*.csv\"))\n",
    "    frames = []\n",
    "    for f in files:\n",
    "        df = pd.read_csv(f, dtype=str, keep_default_na=False)\n",
    "        df['_callnum'] = pd.to_numeric(df.get('Call#', ''), errors='coerce')\n",
    "        df_calls = df[df['_callnum'].notna()].copy()\n",
    "        if df_calls.empty:\n",
    "            continue\n",
    "        # Ensure columns exist\n",
    "        for c in [\"PuzzleID\",\"Move\",\"Legal\",\"UCI\",\"Eval\",\"Normalized\",\n",
    "                  \"FEN\",\"Temperature\",\"Top_p\",\"Max_tokens\"]:\n",
    "            if c not in df_calls.columns:\n",
    "                df_calls[c] = \"\"\n",
    "        # Parse numerics\n",
    "        df_calls['Call#'] = df_calls['_callnum'].astype(int)\n",
    "        df_calls['Normalized'] = pd.to_numeric(df_calls['Normalized'], errors='coerce')\n",
    "        df_calls['Temperature'] = pd.to_numeric(df_calls['Temperature'], errors='coerce')\n",
    "        df_calls['Top_p'] = pd.to_numeric(df_calls['Top_p'], errors='coerce')\n",
    "        df_calls['Max_tokens'] = pd.to_numeric(df_calls['Max_tokens'], errors='coerce')\n",
    "        df_calls['__source_file'] = os.path.basename(f)\n",
    "        # Extract model name from filename\n",
    "        fname = os.path.basename(f)\n",
    "        mid = fname[len(\"res_\"):]\n",
    "        model_part = mid.split(\"_T\")[0] if \"_T\" in mid else mid\n",
    "        df_calls['Model_full'] = model_part\n",
    "        frames.append(df_calls)\n",
    "    if not frames:\n",
    "        return pd.DataFrame()\n",
    "    return pd.concat(frames, ignore_index=True)\n",
    "\n",
    "df = load_and_clean_csvs(DATA_DIR)\n",
    "print(\"Loaded\", len(df), \"rows from\", df['__source_file'].nunique(), \"files\")\n",
    "print(\"Puzzles:\", df['PuzzleID'].unique())\n",
    "\n",
    "\n",
    "def plot_per_puzzle(df, puzzle_id, rolling_window=7):\n",
    "    sub = df[df['PuzzleID'] == puzzle_id].copy()\n",
    "    if sub.empty:\n",
    "        print(\"⚠️ No rows for puzzle\", puzzle_id)\n",
    "        return None, None\n",
    "    \n",
    "    # Combine model & temp for labels\n",
    "    sub['model_temp'] = sub['Model_full'] + \" | T=\" + sub['Temperature'].astype(str)\n",
    "\n",
    "    # Box + points\n",
    "    fig_box = px.box(\n",
    "        sub, x='model_temp', y='Normalized', points=\"all\",\n",
    "        title=f\"Distribution of Normalized evals — Puzzle {puzzle_id}\"\n",
    "    )\n",
    "    fig_box.update_layout(\n",
    "        xaxis_title=\"Model | Temperature\", \n",
    "        yaxis_title=\"Normalized evaluation (0-1)\"\n",
    "    )\n",
    "\n",
    "    # Timeseries with rolling mean\n",
    "    fig_ts = go.Figure()\n",
    "    for model_name, grp in sub.groupby('Model_full'):\n",
    "        grp_sorted = grp.sort_values('Call#')\n",
    "        grp_sorted['rolling_mean'] = grp_sorted['Normalized'].rolling(\n",
    "            window=min(rolling_window, max(1, len(grp_sorted)))\n",
    "        ).mean()\n",
    "        fig_ts.add_trace(go.Scatter(\n",
    "            x=grp_sorted['Call#'], y=grp_sorted['Normalized'],\n",
    "            mode='markers', name=f\"{model_name} (points)\"\n",
    "        ))\n",
    "        fig_ts.add_trace(go.Scatter(\n",
    "            x=grp_sorted['Call#'], y=grp_sorted['rolling_mean'],\n",
    "            mode='lines', name=f\"{model_name} (rolling mean)\"\n",
    "        ))\n",
    "    fig_ts.update_layout(\n",
    "        title=f\"Call index vs Normalized eval — Puzzle {puzzle_id}\",\n",
    "        xaxis_title=\"Call #\", yaxis_title=\"Normalized\"\n",
    "    )\n",
    "\n",
    "    return fig_box, fig_ts\n",
    "\n",
    "# Example usage (replace puzzle_id with one from your dataset):\n",
    "puzzle_id = df['PuzzleID'].unique()[0]\n",
    "fig_box, fig_ts = plot_per_puzzle(df, puzzle_id)\n",
    "fig_box.show()\n",
    "fig_ts.show()"
   ]
  },
  {
   "cell_type": "code",
   "execution_count": 156,
   "id": "0d1d6010",
   "metadata": {},
   "outputs": [
    {
     "data": {
      "application/vnd.plotly.v1+json": {
       "config": {
        "plotlyServerURL": "https://plot.ly"
       },
       "data": [
        {
         "colorbar": {
          "title": {
           "text": "Mean Normalized"
          }
         },
         "type": "heatmap",
         "x": [
          "0.0",
          "0.1",
          "0.2",
          "0.3",
          "0.4",
          "0.5",
          "0.6",
          "0.7",
          "0.8",
          "0.9",
          "1.0"
         ],
         "y": [
          "base_deepseek-deepseek-chat-v3.1",
          "base_openai-gpt-4.1-mini"
         ],
         "z": {
          "bdata": "m1Wfq63Yrz9uEoPAyqGlPzjWxW00gJc/wW7YtiizoT8eUDblCu+iP0gbR6zFp6A/OxkcJa/OkT8y5q4l5IOePx6n6Egu/6E/vHSTGARWrj9yxFp8CoChPwAAAAAAAPA/m3KFd7mI7z8IA8+9h0vvP0rNHmgFhu8/AAAAAAAA8D8AAAAAAADwPwAAAAAAAPA//2Dgufdw7z8AAAAAAADwPxhbCHJQwu8/AAAAAAAA8D8=",
          "dtype": "f8",
          "shape": "2, 11"
         }
        }
       ],
       "layout": {
        "template": {
         "data": {
          "bar": [
           {
            "error_x": {
             "color": "#2a3f5f"
            },
            "error_y": {
             "color": "#2a3f5f"
            },
            "marker": {
             "line": {
              "color": "#E5ECF6",
              "width": 0.5
             },
             "pattern": {
              "fillmode": "overlay",
              "size": 10,
              "solidity": 0.2
             }
            },
            "type": "bar"
           }
          ],
          "barpolar": [
           {
            "marker": {
             "line": {
              "color": "#E5ECF6",
              "width": 0.5
             },
             "pattern": {
              "fillmode": "overlay",
              "size": 10,
              "solidity": 0.2
             }
            },
            "type": "barpolar"
           }
          ],
          "carpet": [
           {
            "aaxis": {
             "endlinecolor": "#2a3f5f",
             "gridcolor": "white",
             "linecolor": "white",
             "minorgridcolor": "white",
             "startlinecolor": "#2a3f5f"
            },
            "baxis": {
             "endlinecolor": "#2a3f5f",
             "gridcolor": "white",
             "linecolor": "white",
             "minorgridcolor": "white",
             "startlinecolor": "#2a3f5f"
            },
            "type": "carpet"
           }
          ],
          "choropleth": [
           {
            "colorbar": {
             "outlinewidth": 0,
             "ticks": ""
            },
            "type": "choropleth"
           }
          ],
          "contour": [
           {
            "colorbar": {
             "outlinewidth": 0,
             "ticks": ""
            },
            "colorscale": [
             [
              0,
              "#0d0887"
             ],
             [
              0.1111111111111111,
              "#46039f"
             ],
             [
              0.2222222222222222,
              "#7201a8"
             ],
             [
              0.3333333333333333,
              "#9c179e"
             ],
             [
              0.4444444444444444,
              "#bd3786"
             ],
             [
              0.5555555555555556,
              "#d8576b"
             ],
             [
              0.6666666666666666,
              "#ed7953"
             ],
             [
              0.7777777777777778,
              "#fb9f3a"
             ],
             [
              0.8888888888888888,
              "#fdca26"
             ],
             [
              1,
              "#f0f921"
             ]
            ],
            "type": "contour"
           }
          ],
          "contourcarpet": [
           {
            "colorbar": {
             "outlinewidth": 0,
             "ticks": ""
            },
            "type": "contourcarpet"
           }
          ],
          "heatmap": [
           {
            "colorbar": {
             "outlinewidth": 0,
             "ticks": ""
            },
            "colorscale": [
             [
              0,
              "#0d0887"
             ],
             [
              0.1111111111111111,
              "#46039f"
             ],
             [
              0.2222222222222222,
              "#7201a8"
             ],
             [
              0.3333333333333333,
              "#9c179e"
             ],
             [
              0.4444444444444444,
              "#bd3786"
             ],
             [
              0.5555555555555556,
              "#d8576b"
             ],
             [
              0.6666666666666666,
              "#ed7953"
             ],
             [
              0.7777777777777778,
              "#fb9f3a"
             ],
             [
              0.8888888888888888,
              "#fdca26"
             ],
             [
              1,
              "#f0f921"
             ]
            ],
            "type": "heatmap"
           }
          ],
          "histogram": [
           {
            "marker": {
             "pattern": {
              "fillmode": "overlay",
              "size": 10,
              "solidity": 0.2
             }
            },
            "type": "histogram"
           }
          ],
          "histogram2d": [
           {
            "colorbar": {
             "outlinewidth": 0,
             "ticks": ""
            },
            "colorscale": [
             [
              0,
              "#0d0887"
             ],
             [
              0.1111111111111111,
              "#46039f"
             ],
             [
              0.2222222222222222,
              "#7201a8"
             ],
             [
              0.3333333333333333,
              "#9c179e"
             ],
             [
              0.4444444444444444,
              "#bd3786"
             ],
             [
              0.5555555555555556,
              "#d8576b"
             ],
             [
              0.6666666666666666,
              "#ed7953"
             ],
             [
              0.7777777777777778,
              "#fb9f3a"
             ],
             [
              0.8888888888888888,
              "#fdca26"
             ],
             [
              1,
              "#f0f921"
             ]
            ],
            "type": "histogram2d"
           }
          ],
          "histogram2dcontour": [
           {
            "colorbar": {
             "outlinewidth": 0,
             "ticks": ""
            },
            "colorscale": [
             [
              0,
              "#0d0887"
             ],
             [
              0.1111111111111111,
              "#46039f"
             ],
             [
              0.2222222222222222,
              "#7201a8"
             ],
             [
              0.3333333333333333,
              "#9c179e"
             ],
             [
              0.4444444444444444,
              "#bd3786"
             ],
             [
              0.5555555555555556,
              "#d8576b"
             ],
             [
              0.6666666666666666,
              "#ed7953"
             ],
             [
              0.7777777777777778,
              "#fb9f3a"
             ],
             [
              0.8888888888888888,
              "#fdca26"
             ],
             [
              1,
              "#f0f921"
             ]
            ],
            "type": "histogram2dcontour"
           }
          ],
          "mesh3d": [
           {
            "colorbar": {
             "outlinewidth": 0,
             "ticks": ""
            },
            "type": "mesh3d"
           }
          ],
          "parcoords": [
           {
            "line": {
             "colorbar": {
              "outlinewidth": 0,
              "ticks": ""
             }
            },
            "type": "parcoords"
           }
          ],
          "pie": [
           {
            "automargin": true,
            "type": "pie"
           }
          ],
          "scatter": [
           {
            "fillpattern": {
             "fillmode": "overlay",
             "size": 10,
             "solidity": 0.2
            },
            "type": "scatter"
           }
          ],
          "scatter3d": [
           {
            "line": {
             "colorbar": {
              "outlinewidth": 0,
              "ticks": ""
             }
            },
            "marker": {
             "colorbar": {
              "outlinewidth": 0,
              "ticks": ""
             }
            },
            "type": "scatter3d"
           }
          ],
          "scattercarpet": [
           {
            "marker": {
             "colorbar": {
              "outlinewidth": 0,
              "ticks": ""
             }
            },
            "type": "scattercarpet"
           }
          ],
          "scattergeo": [
           {
            "marker": {
             "colorbar": {
              "outlinewidth": 0,
              "ticks": ""
             }
            },
            "type": "scattergeo"
           }
          ],
          "scattergl": [
           {
            "marker": {
             "colorbar": {
              "outlinewidth": 0,
              "ticks": ""
             }
            },
            "type": "scattergl"
           }
          ],
          "scattermap": [
           {
            "marker": {
             "colorbar": {
              "outlinewidth": 0,
              "ticks": ""
             }
            },
            "type": "scattermap"
           }
          ],
          "scattermapbox": [
           {
            "marker": {
             "colorbar": {
              "outlinewidth": 0,
              "ticks": ""
             }
            },
            "type": "scattermapbox"
           }
          ],
          "scatterpolar": [
           {
            "marker": {
             "colorbar": {
              "outlinewidth": 0,
              "ticks": ""
             }
            },
            "type": "scatterpolar"
           }
          ],
          "scatterpolargl": [
           {
            "marker": {
             "colorbar": {
              "outlinewidth": 0,
              "ticks": ""
             }
            },
            "type": "scatterpolargl"
           }
          ],
          "scatterternary": [
           {
            "marker": {
             "colorbar": {
              "outlinewidth": 0,
              "ticks": ""
             }
            },
            "type": "scatterternary"
           }
          ],
          "surface": [
           {
            "colorbar": {
             "outlinewidth": 0,
             "ticks": ""
            },
            "colorscale": [
             [
              0,
              "#0d0887"
             ],
             [
              0.1111111111111111,
              "#46039f"
             ],
             [
              0.2222222222222222,
              "#7201a8"
             ],
             [
              0.3333333333333333,
              "#9c179e"
             ],
             [
              0.4444444444444444,
              "#bd3786"
             ],
             [
              0.5555555555555556,
              "#d8576b"
             ],
             [
              0.6666666666666666,
              "#ed7953"
             ],
             [
              0.7777777777777778,
              "#fb9f3a"
             ],
             [
              0.8888888888888888,
              "#fdca26"
             ],
             [
              1,
              "#f0f921"
             ]
            ],
            "type": "surface"
           }
          ],
          "table": [
           {
            "cells": {
             "fill": {
              "color": "#EBF0F8"
             },
             "line": {
              "color": "white"
             }
            },
            "header": {
             "fill": {
              "color": "#C8D4E3"
             },
             "line": {
              "color": "white"
             }
            },
            "type": "table"
           }
          ]
         },
         "layout": {
          "annotationdefaults": {
           "arrowcolor": "#2a3f5f",
           "arrowhead": 0,
           "arrowwidth": 1
          },
          "autotypenumbers": "strict",
          "coloraxis": {
           "colorbar": {
            "outlinewidth": 0,
            "ticks": ""
           }
          },
          "colorscale": {
           "diverging": [
            [
             0,
             "#8e0152"
            ],
            [
             0.1,
             "#c51b7d"
            ],
            [
             0.2,
             "#de77ae"
            ],
            [
             0.3,
             "#f1b6da"
            ],
            [
             0.4,
             "#fde0ef"
            ],
            [
             0.5,
             "#f7f7f7"
            ],
            [
             0.6,
             "#e6f5d0"
            ],
            [
             0.7,
             "#b8e186"
            ],
            [
             0.8,
             "#7fbc41"
            ],
            [
             0.9,
             "#4d9221"
            ],
            [
             1,
             "#276419"
            ]
           ],
           "sequential": [
            [
             0,
             "#0d0887"
            ],
            [
             0.1111111111111111,
             "#46039f"
            ],
            [
             0.2222222222222222,
             "#7201a8"
            ],
            [
             0.3333333333333333,
             "#9c179e"
            ],
            [
             0.4444444444444444,
             "#bd3786"
            ],
            [
             0.5555555555555556,
             "#d8576b"
            ],
            [
             0.6666666666666666,
             "#ed7953"
            ],
            [
             0.7777777777777778,
             "#fb9f3a"
            ],
            [
             0.8888888888888888,
             "#fdca26"
            ],
            [
             1,
             "#f0f921"
            ]
           ],
           "sequentialminus": [
            [
             0,
             "#0d0887"
            ],
            [
             0.1111111111111111,
             "#46039f"
            ],
            [
             0.2222222222222222,
             "#7201a8"
            ],
            [
             0.3333333333333333,
             "#9c179e"
            ],
            [
             0.4444444444444444,
             "#bd3786"
            ],
            [
             0.5555555555555556,
             "#d8576b"
            ],
            [
             0.6666666666666666,
             "#ed7953"
            ],
            [
             0.7777777777777778,
             "#fb9f3a"
            ],
            [
             0.8888888888888888,
             "#fdca26"
            ],
            [
             1,
             "#f0f921"
            ]
           ]
          },
          "colorway": [
           "#636efa",
           "#EF553B",
           "#00cc96",
           "#ab63fa",
           "#FFA15A",
           "#19d3f3",
           "#FF6692",
           "#B6E880",
           "#FF97FF",
           "#FECB52"
          ],
          "font": {
           "color": "#2a3f5f"
          },
          "geo": {
           "bgcolor": "white",
           "lakecolor": "white",
           "landcolor": "#E5ECF6",
           "showlakes": true,
           "showland": true,
           "subunitcolor": "white"
          },
          "hoverlabel": {
           "align": "left"
          },
          "hovermode": "closest",
          "mapbox": {
           "style": "light"
          },
          "paper_bgcolor": "white",
          "plot_bgcolor": "#E5ECF6",
          "polar": {
           "angularaxis": {
            "gridcolor": "white",
            "linecolor": "white",
            "ticks": ""
           },
           "bgcolor": "#E5ECF6",
           "radialaxis": {
            "gridcolor": "white",
            "linecolor": "white",
            "ticks": ""
           }
          },
          "scene": {
           "xaxis": {
            "backgroundcolor": "#E5ECF6",
            "gridcolor": "white",
            "gridwidth": 2,
            "linecolor": "white",
            "showbackground": true,
            "ticks": "",
            "zerolinecolor": "white"
           },
           "yaxis": {
            "backgroundcolor": "#E5ECF6",
            "gridcolor": "white",
            "gridwidth": 2,
            "linecolor": "white",
            "showbackground": true,
            "ticks": "",
            "zerolinecolor": "white"
           },
           "zaxis": {
            "backgroundcolor": "#E5ECF6",
            "gridcolor": "white",
            "gridwidth": 2,
            "linecolor": "white",
            "showbackground": true,
            "ticks": "",
            "zerolinecolor": "white"
           }
          },
          "shapedefaults": {
           "line": {
            "color": "#2a3f5f"
           }
          },
          "ternary": {
           "aaxis": {
            "gridcolor": "white",
            "linecolor": "white",
            "ticks": ""
           },
           "baxis": {
            "gridcolor": "white",
            "linecolor": "white",
            "ticks": ""
           },
           "bgcolor": "#E5ECF6",
           "caxis": {
            "gridcolor": "white",
            "linecolor": "white",
            "ticks": ""
           }
          },
          "title": {
           "x": 0.05
          },
          "xaxis": {
           "automargin": true,
           "gridcolor": "white",
           "linecolor": "white",
           "ticks": "",
           "title": {
            "standoff": 15
           },
           "zerolinecolor": "white",
           "zerolinewidth": 2
          },
          "yaxis": {
           "automargin": true,
           "gridcolor": "white",
           "linecolor": "white",
           "ticks": "",
           "title": {
            "standoff": 15
           },
           "zerolinecolor": "white",
           "zerolinewidth": 2
          }
         }
        },
        "title": {
         "text": "Mean Normalized by Model vs Temperature — Puzzle uaey4"
        },
        "xaxis": {
         "title": {
          "text": "Temperature"
         }
        },
        "yaxis": {
         "title": {
          "text": "Model"
         }
        }
       }
      }
     },
     "metadata": {},
     "output_type": "display_data"
    },
    {
     "data": {
      "application/vnd.plotly.v1+json": {
       "config": {
        "plotlyServerURL": "https://plot.ly"
       },
       "data": [
        {
         "colorbar": {
          "title": {
           "text": "Mean Normalized"
          }
         },
         "type": "heatmap",
         "x": [
          "0.0",
          "0.1",
          "0.2",
          "0.3",
          "0.4",
          "0.5",
          "0.6",
          "0.7",
          "0.8",
          "0.9",
          "1.0"
         ],
         "y": [
          "base_deepseek-deepseek-chat-v3.1",
          "base_openai-gpt-4.1-mini"
         ],
         "z": {
          "bdata": "Ox4zUBn/xj+8V61M+KXCP0wao3VUNcE/xsTm49pQwT+KH2PuWkK+P8+goX+Ci8E/vAUSFD/GvD+BYI4ev7e5P3FCIQIOobo/qAAYz6Chvz+hEAGHUKXCPwAAAAAAAPA/AAAAAAAA8D8AAAAAAADwPwAAAAAAAPA/AAAAAAAA8D8AAAAAAADwPwAAAAAAAPA/AAAAAAAA8D8AAAAAAADwPwAAAAAAAPA/AAAAAAAA8D8=",
          "dtype": "f8",
          "shape": "2, 11"
         }
        }
       ],
       "layout": {
        "template": {
         "data": {
          "bar": [
           {
            "error_x": {
             "color": "#2a3f5f"
            },
            "error_y": {
             "color": "#2a3f5f"
            },
            "marker": {
             "line": {
              "color": "#E5ECF6",
              "width": 0.5
             },
             "pattern": {
              "fillmode": "overlay",
              "size": 10,
              "solidity": 0.2
             }
            },
            "type": "bar"
           }
          ],
          "barpolar": [
           {
            "marker": {
             "line": {
              "color": "#E5ECF6",
              "width": 0.5
             },
             "pattern": {
              "fillmode": "overlay",
              "size": 10,
              "solidity": 0.2
             }
            },
            "type": "barpolar"
           }
          ],
          "carpet": [
           {
            "aaxis": {
             "endlinecolor": "#2a3f5f",
             "gridcolor": "white",
             "linecolor": "white",
             "minorgridcolor": "white",
             "startlinecolor": "#2a3f5f"
            },
            "baxis": {
             "endlinecolor": "#2a3f5f",
             "gridcolor": "white",
             "linecolor": "white",
             "minorgridcolor": "white",
             "startlinecolor": "#2a3f5f"
            },
            "type": "carpet"
           }
          ],
          "choropleth": [
           {
            "colorbar": {
             "outlinewidth": 0,
             "ticks": ""
            },
            "type": "choropleth"
           }
          ],
          "contour": [
           {
            "colorbar": {
             "outlinewidth": 0,
             "ticks": ""
            },
            "colorscale": [
             [
              0,
              "#0d0887"
             ],
             [
              0.1111111111111111,
              "#46039f"
             ],
             [
              0.2222222222222222,
              "#7201a8"
             ],
             [
              0.3333333333333333,
              "#9c179e"
             ],
             [
              0.4444444444444444,
              "#bd3786"
             ],
             [
              0.5555555555555556,
              "#d8576b"
             ],
             [
              0.6666666666666666,
              "#ed7953"
             ],
             [
              0.7777777777777778,
              "#fb9f3a"
             ],
             [
              0.8888888888888888,
              "#fdca26"
             ],
             [
              1,
              "#f0f921"
             ]
            ],
            "type": "contour"
           }
          ],
          "contourcarpet": [
           {
            "colorbar": {
             "outlinewidth": 0,
             "ticks": ""
            },
            "type": "contourcarpet"
           }
          ],
          "heatmap": [
           {
            "colorbar": {
             "outlinewidth": 0,
             "ticks": ""
            },
            "colorscale": [
             [
              0,
              "#0d0887"
             ],
             [
              0.1111111111111111,
              "#46039f"
             ],
             [
              0.2222222222222222,
              "#7201a8"
             ],
             [
              0.3333333333333333,
              "#9c179e"
             ],
             [
              0.4444444444444444,
              "#bd3786"
             ],
             [
              0.5555555555555556,
              "#d8576b"
             ],
             [
              0.6666666666666666,
              "#ed7953"
             ],
             [
              0.7777777777777778,
              "#fb9f3a"
             ],
             [
              0.8888888888888888,
              "#fdca26"
             ],
             [
              1,
              "#f0f921"
             ]
            ],
            "type": "heatmap"
           }
          ],
          "histogram": [
           {
            "marker": {
             "pattern": {
              "fillmode": "overlay",
              "size": 10,
              "solidity": 0.2
             }
            },
            "type": "histogram"
           }
          ],
          "histogram2d": [
           {
            "colorbar": {
             "outlinewidth": 0,
             "ticks": ""
            },
            "colorscale": [
             [
              0,
              "#0d0887"
             ],
             [
              0.1111111111111111,
              "#46039f"
             ],
             [
              0.2222222222222222,
              "#7201a8"
             ],
             [
              0.3333333333333333,
              "#9c179e"
             ],
             [
              0.4444444444444444,
              "#bd3786"
             ],
             [
              0.5555555555555556,
              "#d8576b"
             ],
             [
              0.6666666666666666,
              "#ed7953"
             ],
             [
              0.7777777777777778,
              "#fb9f3a"
             ],
             [
              0.8888888888888888,
              "#fdca26"
             ],
             [
              1,
              "#f0f921"
             ]
            ],
            "type": "histogram2d"
           }
          ],
          "histogram2dcontour": [
           {
            "colorbar": {
             "outlinewidth": 0,
             "ticks": ""
            },
            "colorscale": [
             [
              0,
              "#0d0887"
             ],
             [
              0.1111111111111111,
              "#46039f"
             ],
             [
              0.2222222222222222,
              "#7201a8"
             ],
             [
              0.3333333333333333,
              "#9c179e"
             ],
             [
              0.4444444444444444,
              "#bd3786"
             ],
             [
              0.5555555555555556,
              "#d8576b"
             ],
             [
              0.6666666666666666,
              "#ed7953"
             ],
             [
              0.7777777777777778,
              "#fb9f3a"
             ],
             [
              0.8888888888888888,
              "#fdca26"
             ],
             [
              1,
              "#f0f921"
             ]
            ],
            "type": "histogram2dcontour"
           }
          ],
          "mesh3d": [
           {
            "colorbar": {
             "outlinewidth": 0,
             "ticks": ""
            },
            "type": "mesh3d"
           }
          ],
          "parcoords": [
           {
            "line": {
             "colorbar": {
              "outlinewidth": 0,
              "ticks": ""
             }
            },
            "type": "parcoords"
           }
          ],
          "pie": [
           {
            "automargin": true,
            "type": "pie"
           }
          ],
          "scatter": [
           {
            "fillpattern": {
             "fillmode": "overlay",
             "size": 10,
             "solidity": 0.2
            },
            "type": "scatter"
           }
          ],
          "scatter3d": [
           {
            "line": {
             "colorbar": {
              "outlinewidth": 0,
              "ticks": ""
             }
            },
            "marker": {
             "colorbar": {
              "outlinewidth": 0,
              "ticks": ""
             }
            },
            "type": "scatter3d"
           }
          ],
          "scattercarpet": [
           {
            "marker": {
             "colorbar": {
              "outlinewidth": 0,
              "ticks": ""
             }
            },
            "type": "scattercarpet"
           }
          ],
          "scattergeo": [
           {
            "marker": {
             "colorbar": {
              "outlinewidth": 0,
              "ticks": ""
             }
            },
            "type": "scattergeo"
           }
          ],
          "scattergl": [
           {
            "marker": {
             "colorbar": {
              "outlinewidth": 0,
              "ticks": ""
             }
            },
            "type": "scattergl"
           }
          ],
          "scattermap": [
           {
            "marker": {
             "colorbar": {
              "outlinewidth": 0,
              "ticks": ""
             }
            },
            "type": "scattermap"
           }
          ],
          "scattermapbox": [
           {
            "marker": {
             "colorbar": {
              "outlinewidth": 0,
              "ticks": ""
             }
            },
            "type": "scattermapbox"
           }
          ],
          "scatterpolar": [
           {
            "marker": {
             "colorbar": {
              "outlinewidth": 0,
              "ticks": ""
             }
            },
            "type": "scatterpolar"
           }
          ],
          "scatterpolargl": [
           {
            "marker": {
             "colorbar": {
              "outlinewidth": 0,
              "ticks": ""
             }
            },
            "type": "scatterpolargl"
           }
          ],
          "scatterternary": [
           {
            "marker": {
             "colorbar": {
              "outlinewidth": 0,
              "ticks": ""
             }
            },
            "type": "scatterternary"
           }
          ],
          "surface": [
           {
            "colorbar": {
             "outlinewidth": 0,
             "ticks": ""
            },
            "colorscale": [
             [
              0,
              "#0d0887"
             ],
             [
              0.1111111111111111,
              "#46039f"
             ],
             [
              0.2222222222222222,
              "#7201a8"
             ],
             [
              0.3333333333333333,
              "#9c179e"
             ],
             [
              0.4444444444444444,
              "#bd3786"
             ],
             [
              0.5555555555555556,
              "#d8576b"
             ],
             [
              0.6666666666666666,
              "#ed7953"
             ],
             [
              0.7777777777777778,
              "#fb9f3a"
             ],
             [
              0.8888888888888888,
              "#fdca26"
             ],
             [
              1,
              "#f0f921"
             ]
            ],
            "type": "surface"
           }
          ],
          "table": [
           {
            "cells": {
             "fill": {
              "color": "#EBF0F8"
             },
             "line": {
              "color": "white"
             }
            },
            "header": {
             "fill": {
              "color": "#C8D4E3"
             },
             "line": {
              "color": "white"
             }
            },
            "type": "table"
           }
          ]
         },
         "layout": {
          "annotationdefaults": {
           "arrowcolor": "#2a3f5f",
           "arrowhead": 0,
           "arrowwidth": 1
          },
          "autotypenumbers": "strict",
          "coloraxis": {
           "colorbar": {
            "outlinewidth": 0,
            "ticks": ""
           }
          },
          "colorscale": {
           "diverging": [
            [
             0,
             "#8e0152"
            ],
            [
             0.1,
             "#c51b7d"
            ],
            [
             0.2,
             "#de77ae"
            ],
            [
             0.3,
             "#f1b6da"
            ],
            [
             0.4,
             "#fde0ef"
            ],
            [
             0.5,
             "#f7f7f7"
            ],
            [
             0.6,
             "#e6f5d0"
            ],
            [
             0.7,
             "#b8e186"
            ],
            [
             0.8,
             "#7fbc41"
            ],
            [
             0.9,
             "#4d9221"
            ],
            [
             1,
             "#276419"
            ]
           ],
           "sequential": [
            [
             0,
             "#0d0887"
            ],
            [
             0.1111111111111111,
             "#46039f"
            ],
            [
             0.2222222222222222,
             "#7201a8"
            ],
            [
             0.3333333333333333,
             "#9c179e"
            ],
            [
             0.4444444444444444,
             "#bd3786"
            ],
            [
             0.5555555555555556,
             "#d8576b"
            ],
            [
             0.6666666666666666,
             "#ed7953"
            ],
            [
             0.7777777777777778,
             "#fb9f3a"
            ],
            [
             0.8888888888888888,
             "#fdca26"
            ],
            [
             1,
             "#f0f921"
            ]
           ],
           "sequentialminus": [
            [
             0,
             "#0d0887"
            ],
            [
             0.1111111111111111,
             "#46039f"
            ],
            [
             0.2222222222222222,
             "#7201a8"
            ],
            [
             0.3333333333333333,
             "#9c179e"
            ],
            [
             0.4444444444444444,
             "#bd3786"
            ],
            [
             0.5555555555555556,
             "#d8576b"
            ],
            [
             0.6666666666666666,
             "#ed7953"
            ],
            [
             0.7777777777777778,
             "#fb9f3a"
            ],
            [
             0.8888888888888888,
             "#fdca26"
            ],
            [
             1,
             "#f0f921"
            ]
           ]
          },
          "colorway": [
           "#636efa",
           "#EF553B",
           "#00cc96",
           "#ab63fa",
           "#FFA15A",
           "#19d3f3",
           "#FF6692",
           "#B6E880",
           "#FF97FF",
           "#FECB52"
          ],
          "font": {
           "color": "#2a3f5f"
          },
          "geo": {
           "bgcolor": "white",
           "lakecolor": "white",
           "landcolor": "#E5ECF6",
           "showlakes": true,
           "showland": true,
           "subunitcolor": "white"
          },
          "hoverlabel": {
           "align": "left"
          },
          "hovermode": "closest",
          "mapbox": {
           "style": "light"
          },
          "paper_bgcolor": "white",
          "plot_bgcolor": "#E5ECF6",
          "polar": {
           "angularaxis": {
            "gridcolor": "white",
            "linecolor": "white",
            "ticks": ""
           },
           "bgcolor": "#E5ECF6",
           "radialaxis": {
            "gridcolor": "white",
            "linecolor": "white",
            "ticks": ""
           }
          },
          "scene": {
           "xaxis": {
            "backgroundcolor": "#E5ECF6",
            "gridcolor": "white",
            "gridwidth": 2,
            "linecolor": "white",
            "showbackground": true,
            "ticks": "",
            "zerolinecolor": "white"
           },
           "yaxis": {
            "backgroundcolor": "#E5ECF6",
            "gridcolor": "white",
            "gridwidth": 2,
            "linecolor": "white",
            "showbackground": true,
            "ticks": "",
            "zerolinecolor": "white"
           },
           "zaxis": {
            "backgroundcolor": "#E5ECF6",
            "gridcolor": "white",
            "gridwidth": 2,
            "linecolor": "white",
            "showbackground": true,
            "ticks": "",
            "zerolinecolor": "white"
           }
          },
          "shapedefaults": {
           "line": {
            "color": "#2a3f5f"
           }
          },
          "ternary": {
           "aaxis": {
            "gridcolor": "white",
            "linecolor": "white",
            "ticks": ""
           },
           "baxis": {
            "gridcolor": "white",
            "linecolor": "white",
            "ticks": ""
           },
           "bgcolor": "#E5ECF6",
           "caxis": {
            "gridcolor": "white",
            "linecolor": "white",
            "ticks": ""
           }
          },
          "title": {
           "x": 0.05
          },
          "xaxis": {
           "automargin": true,
           "gridcolor": "white",
           "linecolor": "white",
           "ticks": "",
           "title": {
            "standoff": 15
           },
           "zerolinecolor": "white",
           "zerolinewidth": 2
          },
          "yaxis": {
           "automargin": true,
           "gridcolor": "white",
           "linecolor": "white",
           "ticks": "",
           "title": {
            "standoff": 15
           },
           "zerolinecolor": "white",
           "zerolinewidth": 2
          }
         }
        },
        "title": {
         "text": "Mean Normalized by Model vs Temperature — Puzzle 8rc5R"
        },
        "xaxis": {
         "title": {
          "text": "Temperature"
         }
        },
        "yaxis": {
         "title": {
          "text": "Model"
         }
        }
       }
      }
     },
     "metadata": {},
     "output_type": "display_data"
    },
    {
     "data": {
      "application/vnd.plotly.v1+json": {
       "config": {
        "plotlyServerURL": "https://plot.ly"
       },
       "data": [
        {
         "colorbar": {
          "title": {
           "text": "Mean Normalized"
          }
         },
         "type": "heatmap",
         "x": [
          "0.0",
          "0.1",
          "0.2",
          "0.3",
          "0.4",
          "0.5",
          "0.6",
          "0.7",
          "0.8",
          "0.9",
          "1.0"
         ],
         "y": [
          "base_deepseek-deepseek-chat-v3.1",
          "base_openai-gpt-4.1-mini"
         ],
         "z": {
          "bdata": "yv0ORYE+oT9uF5rrNNKiPzZ2ieqtga0/5zV2ieqtoT/I0ocuqG+ZP6+UZYhjXZw/qiuf5Xlwpz/owd1Zu+2iP3HJcad0sJ4/mKPH7236kz+twJDVrZ6zP92YnrDEA+I/fPKwUGua4T+SPxh47j3hP5at9UVCW+A/6fF7m/7s4T+5jQbwFkjjP6NAn8iTpOI/6znpfeNr4z/3OxQF+kTjPzpY/+cwX+M/qkNuhhvw4z8=",
          "dtype": "f8",
          "shape": "2, 11"
         }
        }
       ],
       "layout": {
        "template": {
         "data": {
          "bar": [
           {
            "error_x": {
             "color": "#2a3f5f"
            },
            "error_y": {
             "color": "#2a3f5f"
            },
            "marker": {
             "line": {
              "color": "#E5ECF6",
              "width": 0.5
             },
             "pattern": {
              "fillmode": "overlay",
              "size": 10,
              "solidity": 0.2
             }
            },
            "type": "bar"
           }
          ],
          "barpolar": [
           {
            "marker": {
             "line": {
              "color": "#E5ECF6",
              "width": 0.5
             },
             "pattern": {
              "fillmode": "overlay",
              "size": 10,
              "solidity": 0.2
             }
            },
            "type": "barpolar"
           }
          ],
          "carpet": [
           {
            "aaxis": {
             "endlinecolor": "#2a3f5f",
             "gridcolor": "white",
             "linecolor": "white",
             "minorgridcolor": "white",
             "startlinecolor": "#2a3f5f"
            },
            "baxis": {
             "endlinecolor": "#2a3f5f",
             "gridcolor": "white",
             "linecolor": "white",
             "minorgridcolor": "white",
             "startlinecolor": "#2a3f5f"
            },
            "type": "carpet"
           }
          ],
          "choropleth": [
           {
            "colorbar": {
             "outlinewidth": 0,
             "ticks": ""
            },
            "type": "choropleth"
           }
          ],
          "contour": [
           {
            "colorbar": {
             "outlinewidth": 0,
             "ticks": ""
            },
            "colorscale": [
             [
              0,
              "#0d0887"
             ],
             [
              0.1111111111111111,
              "#46039f"
             ],
             [
              0.2222222222222222,
              "#7201a8"
             ],
             [
              0.3333333333333333,
              "#9c179e"
             ],
             [
              0.4444444444444444,
              "#bd3786"
             ],
             [
              0.5555555555555556,
              "#d8576b"
             ],
             [
              0.6666666666666666,
              "#ed7953"
             ],
             [
              0.7777777777777778,
              "#fb9f3a"
             ],
             [
              0.8888888888888888,
              "#fdca26"
             ],
             [
              1,
              "#f0f921"
             ]
            ],
            "type": "contour"
           }
          ],
          "contourcarpet": [
           {
            "colorbar": {
             "outlinewidth": 0,
             "ticks": ""
            },
            "type": "contourcarpet"
           }
          ],
          "heatmap": [
           {
            "colorbar": {
             "outlinewidth": 0,
             "ticks": ""
            },
            "colorscale": [
             [
              0,
              "#0d0887"
             ],
             [
              0.1111111111111111,
              "#46039f"
             ],
             [
              0.2222222222222222,
              "#7201a8"
             ],
             [
              0.3333333333333333,
              "#9c179e"
             ],
             [
              0.4444444444444444,
              "#bd3786"
             ],
             [
              0.5555555555555556,
              "#d8576b"
             ],
             [
              0.6666666666666666,
              "#ed7953"
             ],
             [
              0.7777777777777778,
              "#fb9f3a"
             ],
             [
              0.8888888888888888,
              "#fdca26"
             ],
             [
              1,
              "#f0f921"
             ]
            ],
            "type": "heatmap"
           }
          ],
          "histogram": [
           {
            "marker": {
             "pattern": {
              "fillmode": "overlay",
              "size": 10,
              "solidity": 0.2
             }
            },
            "type": "histogram"
           }
          ],
          "histogram2d": [
           {
            "colorbar": {
             "outlinewidth": 0,
             "ticks": ""
            },
            "colorscale": [
             [
              0,
              "#0d0887"
             ],
             [
              0.1111111111111111,
              "#46039f"
             ],
             [
              0.2222222222222222,
              "#7201a8"
             ],
             [
              0.3333333333333333,
              "#9c179e"
             ],
             [
              0.4444444444444444,
              "#bd3786"
             ],
             [
              0.5555555555555556,
              "#d8576b"
             ],
             [
              0.6666666666666666,
              "#ed7953"
             ],
             [
              0.7777777777777778,
              "#fb9f3a"
             ],
             [
              0.8888888888888888,
              "#fdca26"
             ],
             [
              1,
              "#f0f921"
             ]
            ],
            "type": "histogram2d"
           }
          ],
          "histogram2dcontour": [
           {
            "colorbar": {
             "outlinewidth": 0,
             "ticks": ""
            },
            "colorscale": [
             [
              0,
              "#0d0887"
             ],
             [
              0.1111111111111111,
              "#46039f"
             ],
             [
              0.2222222222222222,
              "#7201a8"
             ],
             [
              0.3333333333333333,
              "#9c179e"
             ],
             [
              0.4444444444444444,
              "#bd3786"
             ],
             [
              0.5555555555555556,
              "#d8576b"
             ],
             [
              0.6666666666666666,
              "#ed7953"
             ],
             [
              0.7777777777777778,
              "#fb9f3a"
             ],
             [
              0.8888888888888888,
              "#fdca26"
             ],
             [
              1,
              "#f0f921"
             ]
            ],
            "type": "histogram2dcontour"
           }
          ],
          "mesh3d": [
           {
            "colorbar": {
             "outlinewidth": 0,
             "ticks": ""
            },
            "type": "mesh3d"
           }
          ],
          "parcoords": [
           {
            "line": {
             "colorbar": {
              "outlinewidth": 0,
              "ticks": ""
             }
            },
            "type": "parcoords"
           }
          ],
          "pie": [
           {
            "automargin": true,
            "type": "pie"
           }
          ],
          "scatter": [
           {
            "fillpattern": {
             "fillmode": "overlay",
             "size": 10,
             "solidity": 0.2
            },
            "type": "scatter"
           }
          ],
          "scatter3d": [
           {
            "line": {
             "colorbar": {
              "outlinewidth": 0,
              "ticks": ""
             }
            },
            "marker": {
             "colorbar": {
              "outlinewidth": 0,
              "ticks": ""
             }
            },
            "type": "scatter3d"
           }
          ],
          "scattercarpet": [
           {
            "marker": {
             "colorbar": {
              "outlinewidth": 0,
              "ticks": ""
             }
            },
            "type": "scattercarpet"
           }
          ],
          "scattergeo": [
           {
            "marker": {
             "colorbar": {
              "outlinewidth": 0,
              "ticks": ""
             }
            },
            "type": "scattergeo"
           }
          ],
          "scattergl": [
           {
            "marker": {
             "colorbar": {
              "outlinewidth": 0,
              "ticks": ""
             }
            },
            "type": "scattergl"
           }
          ],
          "scattermap": [
           {
            "marker": {
             "colorbar": {
              "outlinewidth": 0,
              "ticks": ""
             }
            },
            "type": "scattermap"
           }
          ],
          "scattermapbox": [
           {
            "marker": {
             "colorbar": {
              "outlinewidth": 0,
              "ticks": ""
             }
            },
            "type": "scattermapbox"
           }
          ],
          "scatterpolar": [
           {
            "marker": {
             "colorbar": {
              "outlinewidth": 0,
              "ticks": ""
             }
            },
            "type": "scatterpolar"
           }
          ],
          "scatterpolargl": [
           {
            "marker": {
             "colorbar": {
              "outlinewidth": 0,
              "ticks": ""
             }
            },
            "type": "scatterpolargl"
           }
          ],
          "scatterternary": [
           {
            "marker": {
             "colorbar": {
              "outlinewidth": 0,
              "ticks": ""
             }
            },
            "type": "scatterternary"
           }
          ],
          "surface": [
           {
            "colorbar": {
             "outlinewidth": 0,
             "ticks": ""
            },
            "colorscale": [
             [
              0,
              "#0d0887"
             ],
             [
              0.1111111111111111,
              "#46039f"
             ],
             [
              0.2222222222222222,
              "#7201a8"
             ],
             [
              0.3333333333333333,
              "#9c179e"
             ],
             [
              0.4444444444444444,
              "#bd3786"
             ],
             [
              0.5555555555555556,
              "#d8576b"
             ],
             [
              0.6666666666666666,
              "#ed7953"
             ],
             [
              0.7777777777777778,
              "#fb9f3a"
             ],
             [
              0.8888888888888888,
              "#fdca26"
             ],
             [
              1,
              "#f0f921"
             ]
            ],
            "type": "surface"
           }
          ],
          "table": [
           {
            "cells": {
             "fill": {
              "color": "#EBF0F8"
             },
             "line": {
              "color": "white"
             }
            },
            "header": {
             "fill": {
              "color": "#C8D4E3"
             },
             "line": {
              "color": "white"
             }
            },
            "type": "table"
           }
          ]
         },
         "layout": {
          "annotationdefaults": {
           "arrowcolor": "#2a3f5f",
           "arrowhead": 0,
           "arrowwidth": 1
          },
          "autotypenumbers": "strict",
          "coloraxis": {
           "colorbar": {
            "outlinewidth": 0,
            "ticks": ""
           }
          },
          "colorscale": {
           "diverging": [
            [
             0,
             "#8e0152"
            ],
            [
             0.1,
             "#c51b7d"
            ],
            [
             0.2,
             "#de77ae"
            ],
            [
             0.3,
             "#f1b6da"
            ],
            [
             0.4,
             "#fde0ef"
            ],
            [
             0.5,
             "#f7f7f7"
            ],
            [
             0.6,
             "#e6f5d0"
            ],
            [
             0.7,
             "#b8e186"
            ],
            [
             0.8,
             "#7fbc41"
            ],
            [
             0.9,
             "#4d9221"
            ],
            [
             1,
             "#276419"
            ]
           ],
           "sequential": [
            [
             0,
             "#0d0887"
            ],
            [
             0.1111111111111111,
             "#46039f"
            ],
            [
             0.2222222222222222,
             "#7201a8"
            ],
            [
             0.3333333333333333,
             "#9c179e"
            ],
            [
             0.4444444444444444,
             "#bd3786"
            ],
            [
             0.5555555555555556,
             "#d8576b"
            ],
            [
             0.6666666666666666,
             "#ed7953"
            ],
            [
             0.7777777777777778,
             "#fb9f3a"
            ],
            [
             0.8888888888888888,
             "#fdca26"
            ],
            [
             1,
             "#f0f921"
            ]
           ],
           "sequentialminus": [
            [
             0,
             "#0d0887"
            ],
            [
             0.1111111111111111,
             "#46039f"
            ],
            [
             0.2222222222222222,
             "#7201a8"
            ],
            [
             0.3333333333333333,
             "#9c179e"
            ],
            [
             0.4444444444444444,
             "#bd3786"
            ],
            [
             0.5555555555555556,
             "#d8576b"
            ],
            [
             0.6666666666666666,
             "#ed7953"
            ],
            [
             0.7777777777777778,
             "#fb9f3a"
            ],
            [
             0.8888888888888888,
             "#fdca26"
            ],
            [
             1,
             "#f0f921"
            ]
           ]
          },
          "colorway": [
           "#636efa",
           "#EF553B",
           "#00cc96",
           "#ab63fa",
           "#FFA15A",
           "#19d3f3",
           "#FF6692",
           "#B6E880",
           "#FF97FF",
           "#FECB52"
          ],
          "font": {
           "color": "#2a3f5f"
          },
          "geo": {
           "bgcolor": "white",
           "lakecolor": "white",
           "landcolor": "#E5ECF6",
           "showlakes": true,
           "showland": true,
           "subunitcolor": "white"
          },
          "hoverlabel": {
           "align": "left"
          },
          "hovermode": "closest",
          "mapbox": {
           "style": "light"
          },
          "paper_bgcolor": "white",
          "plot_bgcolor": "#E5ECF6",
          "polar": {
           "angularaxis": {
            "gridcolor": "white",
            "linecolor": "white",
            "ticks": ""
           },
           "bgcolor": "#E5ECF6",
           "radialaxis": {
            "gridcolor": "white",
            "linecolor": "white",
            "ticks": ""
           }
          },
          "scene": {
           "xaxis": {
            "backgroundcolor": "#E5ECF6",
            "gridcolor": "white",
            "gridwidth": 2,
            "linecolor": "white",
            "showbackground": true,
            "ticks": "",
            "zerolinecolor": "white"
           },
           "yaxis": {
            "backgroundcolor": "#E5ECF6",
            "gridcolor": "white",
            "gridwidth": 2,
            "linecolor": "white",
            "showbackground": true,
            "ticks": "",
            "zerolinecolor": "white"
           },
           "zaxis": {
            "backgroundcolor": "#E5ECF6",
            "gridcolor": "white",
            "gridwidth": 2,
            "linecolor": "white",
            "showbackground": true,
            "ticks": "",
            "zerolinecolor": "white"
           }
          },
          "shapedefaults": {
           "line": {
            "color": "#2a3f5f"
           }
          },
          "ternary": {
           "aaxis": {
            "gridcolor": "white",
            "linecolor": "white",
            "ticks": ""
           },
           "baxis": {
            "gridcolor": "white",
            "linecolor": "white",
            "ticks": ""
           },
           "bgcolor": "#E5ECF6",
           "caxis": {
            "gridcolor": "white",
            "linecolor": "white",
            "ticks": ""
           }
          },
          "title": {
           "x": 0.05
          },
          "xaxis": {
           "automargin": true,
           "gridcolor": "white",
           "linecolor": "white",
           "ticks": "",
           "title": {
            "standoff": 15
           },
           "zerolinecolor": "white",
           "zerolinewidth": 2
          },
          "yaxis": {
           "automargin": true,
           "gridcolor": "white",
           "linecolor": "white",
           "ticks": "",
           "title": {
            "standoff": 15
           },
           "zerolinecolor": "white",
           "zerolinewidth": 2
          }
         }
        },
        "title": {
         "text": "Mean Normalized by Model vs Temperature — Puzzle On8u6"
        },
        "xaxis": {
         "title": {
          "text": "Temperature"
         }
        },
        "yaxis": {
         "title": {
          "text": "Model"
         }
        }
       }
      }
     },
     "metadata": {},
     "output_type": "display_data"
    },
    {
     "data": {
      "application/vnd.plotly.v1+json": {
       "config": {
        "plotlyServerURL": "https://plot.ly"
       },
       "data": [
        {
         "colorbar": {
          "title": {
           "text": "Mean Normalized"
          }
         },
         "type": "heatmap",
         "x": [
          "0.0",
          "0.1",
          "0.2",
          "0.3",
          "0.4",
          "0.5",
          "0.6",
          "0.7",
          "0.8",
          "0.9",
          "1.0"
         ],
         "y": [
          "base_deepseek-deepseek-chat-v3.1",
          "base_openai-gpt-4.1-mini"
         ],
         "z": {
          "bdata": "cVrwoq8g2z+THRuBeF3ZP6iMf59x4do/pB6i0R3E2j+YTBWMSurcP0aU9gZfmNo/KZZbWg2J2z8GDf0TXKzYP3qvWpnwS9k/fPKwUGua2T8N/RNcrKjXP9KuQspPquU/Ke0NvjCZ5T86KGGm7V/lP605QDBHj+U/YJhMFYxK5T8mWBzO/GrlP4Fgjh6/t+U/Zg+0AkNW5T+3KLNBJhnlP0TFOH8TCuU/jPhOzHox5T8=",
          "dtype": "f8",
          "shape": "2, 11"
         }
        }
       ],
       "layout": {
        "template": {
         "data": {
          "bar": [
           {
            "error_x": {
             "color": "#2a3f5f"
            },
            "error_y": {
             "color": "#2a3f5f"
            },
            "marker": {
             "line": {
              "color": "#E5ECF6",
              "width": 0.5
             },
             "pattern": {
              "fillmode": "overlay",
              "size": 10,
              "solidity": 0.2
             }
            },
            "type": "bar"
           }
          ],
          "barpolar": [
           {
            "marker": {
             "line": {
              "color": "#E5ECF6",
              "width": 0.5
             },
             "pattern": {
              "fillmode": "overlay",
              "size": 10,
              "solidity": 0.2
             }
            },
            "type": "barpolar"
           }
          ],
          "carpet": [
           {
            "aaxis": {
             "endlinecolor": "#2a3f5f",
             "gridcolor": "white",
             "linecolor": "white",
             "minorgridcolor": "white",
             "startlinecolor": "#2a3f5f"
            },
            "baxis": {
             "endlinecolor": "#2a3f5f",
             "gridcolor": "white",
             "linecolor": "white",
             "minorgridcolor": "white",
             "startlinecolor": "#2a3f5f"
            },
            "type": "carpet"
           }
          ],
          "choropleth": [
           {
            "colorbar": {
             "outlinewidth": 0,
             "ticks": ""
            },
            "type": "choropleth"
           }
          ],
          "contour": [
           {
            "colorbar": {
             "outlinewidth": 0,
             "ticks": ""
            },
            "colorscale": [
             [
              0,
              "#0d0887"
             ],
             [
              0.1111111111111111,
              "#46039f"
             ],
             [
              0.2222222222222222,
              "#7201a8"
             ],
             [
              0.3333333333333333,
              "#9c179e"
             ],
             [
              0.4444444444444444,
              "#bd3786"
             ],
             [
              0.5555555555555556,
              "#d8576b"
             ],
             [
              0.6666666666666666,
              "#ed7953"
             ],
             [
              0.7777777777777778,
              "#fb9f3a"
             ],
             [
              0.8888888888888888,
              "#fdca26"
             ],
             [
              1,
              "#f0f921"
             ]
            ],
            "type": "contour"
           }
          ],
          "contourcarpet": [
           {
            "colorbar": {
             "outlinewidth": 0,
             "ticks": ""
            },
            "type": "contourcarpet"
           }
          ],
          "heatmap": [
           {
            "colorbar": {
             "outlinewidth": 0,
             "ticks": ""
            },
            "colorscale": [
             [
              0,
              "#0d0887"
             ],
             [
              0.1111111111111111,
              "#46039f"
             ],
             [
              0.2222222222222222,
              "#7201a8"
             ],
             [
              0.3333333333333333,
              "#9c179e"
             ],
             [
              0.4444444444444444,
              "#bd3786"
             ],
             [
              0.5555555555555556,
              "#d8576b"
             ],
             [
              0.6666666666666666,
              "#ed7953"
             ],
             [
              0.7777777777777778,
              "#fb9f3a"
             ],
             [
              0.8888888888888888,
              "#fdca26"
             ],
             [
              1,
              "#f0f921"
             ]
            ],
            "type": "heatmap"
           }
          ],
          "histogram": [
           {
            "marker": {
             "pattern": {
              "fillmode": "overlay",
              "size": 10,
              "solidity": 0.2
             }
            },
            "type": "histogram"
           }
          ],
          "histogram2d": [
           {
            "colorbar": {
             "outlinewidth": 0,
             "ticks": ""
            },
            "colorscale": [
             [
              0,
              "#0d0887"
             ],
             [
              0.1111111111111111,
              "#46039f"
             ],
             [
              0.2222222222222222,
              "#7201a8"
             ],
             [
              0.3333333333333333,
              "#9c179e"
             ],
             [
              0.4444444444444444,
              "#bd3786"
             ],
             [
              0.5555555555555556,
              "#d8576b"
             ],
             [
              0.6666666666666666,
              "#ed7953"
             ],
             [
              0.7777777777777778,
              "#fb9f3a"
             ],
             [
              0.8888888888888888,
              "#fdca26"
             ],
             [
              1,
              "#f0f921"
             ]
            ],
            "type": "histogram2d"
           }
          ],
          "histogram2dcontour": [
           {
            "colorbar": {
             "outlinewidth": 0,
             "ticks": ""
            },
            "colorscale": [
             [
              0,
              "#0d0887"
             ],
             [
              0.1111111111111111,
              "#46039f"
             ],
             [
              0.2222222222222222,
              "#7201a8"
             ],
             [
              0.3333333333333333,
              "#9c179e"
             ],
             [
              0.4444444444444444,
              "#bd3786"
             ],
             [
              0.5555555555555556,
              "#d8576b"
             ],
             [
              0.6666666666666666,
              "#ed7953"
             ],
             [
              0.7777777777777778,
              "#fb9f3a"
             ],
             [
              0.8888888888888888,
              "#fdca26"
             ],
             [
              1,
              "#f0f921"
             ]
            ],
            "type": "histogram2dcontour"
           }
          ],
          "mesh3d": [
           {
            "colorbar": {
             "outlinewidth": 0,
             "ticks": ""
            },
            "type": "mesh3d"
           }
          ],
          "parcoords": [
           {
            "line": {
             "colorbar": {
              "outlinewidth": 0,
              "ticks": ""
             }
            },
            "type": "parcoords"
           }
          ],
          "pie": [
           {
            "automargin": true,
            "type": "pie"
           }
          ],
          "scatter": [
           {
            "fillpattern": {
             "fillmode": "overlay",
             "size": 10,
             "solidity": 0.2
            },
            "type": "scatter"
           }
          ],
          "scatter3d": [
           {
            "line": {
             "colorbar": {
              "outlinewidth": 0,
              "ticks": ""
             }
            },
            "marker": {
             "colorbar": {
              "outlinewidth": 0,
              "ticks": ""
             }
            },
            "type": "scatter3d"
           }
          ],
          "scattercarpet": [
           {
            "marker": {
             "colorbar": {
              "outlinewidth": 0,
              "ticks": ""
             }
            },
            "type": "scattercarpet"
           }
          ],
          "scattergeo": [
           {
            "marker": {
             "colorbar": {
              "outlinewidth": 0,
              "ticks": ""
             }
            },
            "type": "scattergeo"
           }
          ],
          "scattergl": [
           {
            "marker": {
             "colorbar": {
              "outlinewidth": 0,
              "ticks": ""
             }
            },
            "type": "scattergl"
           }
          ],
          "scattermap": [
           {
            "marker": {
             "colorbar": {
              "outlinewidth": 0,
              "ticks": ""
             }
            },
            "type": "scattermap"
           }
          ],
          "scattermapbox": [
           {
            "marker": {
             "colorbar": {
              "outlinewidth": 0,
              "ticks": ""
             }
            },
            "type": "scattermapbox"
           }
          ],
          "scatterpolar": [
           {
            "marker": {
             "colorbar": {
              "outlinewidth": 0,
              "ticks": ""
             }
            },
            "type": "scatterpolar"
           }
          ],
          "scatterpolargl": [
           {
            "marker": {
             "colorbar": {
              "outlinewidth": 0,
              "ticks": ""
             }
            },
            "type": "scatterpolargl"
           }
          ],
          "scatterternary": [
           {
            "marker": {
             "colorbar": {
              "outlinewidth": 0,
              "ticks": ""
             }
            },
            "type": "scatterternary"
           }
          ],
          "surface": [
           {
            "colorbar": {
             "outlinewidth": 0,
             "ticks": ""
            },
            "colorscale": [
             [
              0,
              "#0d0887"
             ],
             [
              0.1111111111111111,
              "#46039f"
             ],
             [
              0.2222222222222222,
              "#7201a8"
             ],
             [
              0.3333333333333333,
              "#9c179e"
             ],
             [
              0.4444444444444444,
              "#bd3786"
             ],
             [
              0.5555555555555556,
              "#d8576b"
             ],
             [
              0.6666666666666666,
              "#ed7953"
             ],
             [
              0.7777777777777778,
              "#fb9f3a"
             ],
             [
              0.8888888888888888,
              "#fdca26"
             ],
             [
              1,
              "#f0f921"
             ]
            ],
            "type": "surface"
           }
          ],
          "table": [
           {
            "cells": {
             "fill": {
              "color": "#EBF0F8"
             },
             "line": {
              "color": "white"
             }
            },
            "header": {
             "fill": {
              "color": "#C8D4E3"
             },
             "line": {
              "color": "white"
             }
            },
            "type": "table"
           }
          ]
         },
         "layout": {
          "annotationdefaults": {
           "arrowcolor": "#2a3f5f",
           "arrowhead": 0,
           "arrowwidth": 1
          },
          "autotypenumbers": "strict",
          "coloraxis": {
           "colorbar": {
            "outlinewidth": 0,
            "ticks": ""
           }
          },
          "colorscale": {
           "diverging": [
            [
             0,
             "#8e0152"
            ],
            [
             0.1,
             "#c51b7d"
            ],
            [
             0.2,
             "#de77ae"
            ],
            [
             0.3,
             "#f1b6da"
            ],
            [
             0.4,
             "#fde0ef"
            ],
            [
             0.5,
             "#f7f7f7"
            ],
            [
             0.6,
             "#e6f5d0"
            ],
            [
             0.7,
             "#b8e186"
            ],
            [
             0.8,
             "#7fbc41"
            ],
            [
             0.9,
             "#4d9221"
            ],
            [
             1,
             "#276419"
            ]
           ],
           "sequential": [
            [
             0,
             "#0d0887"
            ],
            [
             0.1111111111111111,
             "#46039f"
            ],
            [
             0.2222222222222222,
             "#7201a8"
            ],
            [
             0.3333333333333333,
             "#9c179e"
            ],
            [
             0.4444444444444444,
             "#bd3786"
            ],
            [
             0.5555555555555556,
             "#d8576b"
            ],
            [
             0.6666666666666666,
             "#ed7953"
            ],
            [
             0.7777777777777778,
             "#fb9f3a"
            ],
            [
             0.8888888888888888,
             "#fdca26"
            ],
            [
             1,
             "#f0f921"
            ]
           ],
           "sequentialminus": [
            [
             0,
             "#0d0887"
            ],
            [
             0.1111111111111111,
             "#46039f"
            ],
            [
             0.2222222222222222,
             "#7201a8"
            ],
            [
             0.3333333333333333,
             "#9c179e"
            ],
            [
             0.4444444444444444,
             "#bd3786"
            ],
            [
             0.5555555555555556,
             "#d8576b"
            ],
            [
             0.6666666666666666,
             "#ed7953"
            ],
            [
             0.7777777777777778,
             "#fb9f3a"
            ],
            [
             0.8888888888888888,
             "#fdca26"
            ],
            [
             1,
             "#f0f921"
            ]
           ]
          },
          "colorway": [
           "#636efa",
           "#EF553B",
           "#00cc96",
           "#ab63fa",
           "#FFA15A",
           "#19d3f3",
           "#FF6692",
           "#B6E880",
           "#FF97FF",
           "#FECB52"
          ],
          "font": {
           "color": "#2a3f5f"
          },
          "geo": {
           "bgcolor": "white",
           "lakecolor": "white",
           "landcolor": "#E5ECF6",
           "showlakes": true,
           "showland": true,
           "subunitcolor": "white"
          },
          "hoverlabel": {
           "align": "left"
          },
          "hovermode": "closest",
          "mapbox": {
           "style": "light"
          },
          "paper_bgcolor": "white",
          "plot_bgcolor": "#E5ECF6",
          "polar": {
           "angularaxis": {
            "gridcolor": "white",
            "linecolor": "white",
            "ticks": ""
           },
           "bgcolor": "#E5ECF6",
           "radialaxis": {
            "gridcolor": "white",
            "linecolor": "white",
            "ticks": ""
           }
          },
          "scene": {
           "xaxis": {
            "backgroundcolor": "#E5ECF6",
            "gridcolor": "white",
            "gridwidth": 2,
            "linecolor": "white",
            "showbackground": true,
            "ticks": "",
            "zerolinecolor": "white"
           },
           "yaxis": {
            "backgroundcolor": "#E5ECF6",
            "gridcolor": "white",
            "gridwidth": 2,
            "linecolor": "white",
            "showbackground": true,
            "ticks": "",
            "zerolinecolor": "white"
           },
           "zaxis": {
            "backgroundcolor": "#E5ECF6",
            "gridcolor": "white",
            "gridwidth": 2,
            "linecolor": "white",
            "showbackground": true,
            "ticks": "",
            "zerolinecolor": "white"
           }
          },
          "shapedefaults": {
           "line": {
            "color": "#2a3f5f"
           }
          },
          "ternary": {
           "aaxis": {
            "gridcolor": "white",
            "linecolor": "white",
            "ticks": ""
           },
           "baxis": {
            "gridcolor": "white",
            "linecolor": "white",
            "ticks": ""
           },
           "bgcolor": "#E5ECF6",
           "caxis": {
            "gridcolor": "white",
            "linecolor": "white",
            "ticks": ""
           }
          },
          "title": {
           "x": 0.05
          },
          "xaxis": {
           "automargin": true,
           "gridcolor": "white",
           "linecolor": "white",
           "ticks": "",
           "title": {
            "standoff": 15
           },
           "zerolinecolor": "white",
           "zerolinewidth": 2
          },
          "yaxis": {
           "automargin": true,
           "gridcolor": "white",
           "linecolor": "white",
           "ticks": "",
           "title": {
            "standoff": 15
           },
           "zerolinecolor": "white",
           "zerolinewidth": 2
          }
         }
        },
        "title": {
         "text": "Mean Normalized by Model vs Temperature — Puzzle ubChO"
        },
        "xaxis": {
         "title": {
          "text": "Temperature"
         }
        },
        "yaxis": {
         "title": {
          "text": "Model"
         }
        }
       }
      }
     },
     "metadata": {},
     "output_type": "display_data"
    },
    {
     "data": {
      "application/vnd.plotly.v1+json": {
       "config": {
        "plotlyServerURL": "https://plot.ly"
       },
       "data": [
        {
         "colorbar": {
          "title": {
           "text": "Mean Normalized"
          }
         },
         "type": "heatmap",
         "x": [
          "0.0",
          "0.1",
          "0.2",
          "0.3",
          "0.4",
          "0.5",
          "0.6",
          "0.7",
          "0.8",
          "0.9",
          "1.0"
         ],
         "y": [
          "base_deepseek-deepseek-chat-v3.1",
          "base_openai-gpt-4.1-mini"
         ],
         "z": {
          "bdata": "gGWlSSnovj8o1T4djxm4P8k88gcDz8E/lxx3Sgfrtz8aqIx/n3GxPzKUE+0qpLQ/qDrkZrgBtz9kr3d/vFe1PzKUE+0qpLQ/ZED2evfHsz/iI2JKJNGzP3/eVKTC2Ok/ZKpgVFIn6j+pTZzc71DqP12/YDdsW+o/IO9VKxN+6j9oImx4eqXqP+BFX0Gaseo/Bd1e0hit6j+RJ0nXTL7qPwbr/xzmy+o/TIkkehnF6j8=",
          "dtype": "f8",
          "shape": "2, 11"
         }
        }
       ],
       "layout": {
        "template": {
         "data": {
          "bar": [
           {
            "error_x": {
             "color": "#2a3f5f"
            },
            "error_y": {
             "color": "#2a3f5f"
            },
            "marker": {
             "line": {
              "color": "#E5ECF6",
              "width": 0.5
             },
             "pattern": {
              "fillmode": "overlay",
              "size": 10,
              "solidity": 0.2
             }
            },
            "type": "bar"
           }
          ],
          "barpolar": [
           {
            "marker": {
             "line": {
              "color": "#E5ECF6",
              "width": 0.5
             },
             "pattern": {
              "fillmode": "overlay",
              "size": 10,
              "solidity": 0.2
             }
            },
            "type": "barpolar"
           }
          ],
          "carpet": [
           {
            "aaxis": {
             "endlinecolor": "#2a3f5f",
             "gridcolor": "white",
             "linecolor": "white",
             "minorgridcolor": "white",
             "startlinecolor": "#2a3f5f"
            },
            "baxis": {
             "endlinecolor": "#2a3f5f",
             "gridcolor": "white",
             "linecolor": "white",
             "minorgridcolor": "white",
             "startlinecolor": "#2a3f5f"
            },
            "type": "carpet"
           }
          ],
          "choropleth": [
           {
            "colorbar": {
             "outlinewidth": 0,
             "ticks": ""
            },
            "type": "choropleth"
           }
          ],
          "contour": [
           {
            "colorbar": {
             "outlinewidth": 0,
             "ticks": ""
            },
            "colorscale": [
             [
              0,
              "#0d0887"
             ],
             [
              0.1111111111111111,
              "#46039f"
             ],
             [
              0.2222222222222222,
              "#7201a8"
             ],
             [
              0.3333333333333333,
              "#9c179e"
             ],
             [
              0.4444444444444444,
              "#bd3786"
             ],
             [
              0.5555555555555556,
              "#d8576b"
             ],
             [
              0.6666666666666666,
              "#ed7953"
             ],
             [
              0.7777777777777778,
              "#fb9f3a"
             ],
             [
              0.8888888888888888,
              "#fdca26"
             ],
             [
              1,
              "#f0f921"
             ]
            ],
            "type": "contour"
           }
          ],
          "contourcarpet": [
           {
            "colorbar": {
             "outlinewidth": 0,
             "ticks": ""
            },
            "type": "contourcarpet"
           }
          ],
          "heatmap": [
           {
            "colorbar": {
             "outlinewidth": 0,
             "ticks": ""
            },
            "colorscale": [
             [
              0,
              "#0d0887"
             ],
             [
              0.1111111111111111,
              "#46039f"
             ],
             [
              0.2222222222222222,
              "#7201a8"
             ],
             [
              0.3333333333333333,
              "#9c179e"
             ],
             [
              0.4444444444444444,
              "#bd3786"
             ],
             [
              0.5555555555555556,
              "#d8576b"
             ],
             [
              0.6666666666666666,
              "#ed7953"
             ],
             [
              0.7777777777777778,
              "#fb9f3a"
             ],
             [
              0.8888888888888888,
              "#fdca26"
             ],
             [
              1,
              "#f0f921"
             ]
            ],
            "type": "heatmap"
           }
          ],
          "histogram": [
           {
            "marker": {
             "pattern": {
              "fillmode": "overlay",
              "size": 10,
              "solidity": 0.2
             }
            },
            "type": "histogram"
           }
          ],
          "histogram2d": [
           {
            "colorbar": {
             "outlinewidth": 0,
             "ticks": ""
            },
            "colorscale": [
             [
              0,
              "#0d0887"
             ],
             [
              0.1111111111111111,
              "#46039f"
             ],
             [
              0.2222222222222222,
              "#7201a8"
             ],
             [
              0.3333333333333333,
              "#9c179e"
             ],
             [
              0.4444444444444444,
              "#bd3786"
             ],
             [
              0.5555555555555556,
              "#d8576b"
             ],
             [
              0.6666666666666666,
              "#ed7953"
             ],
             [
              0.7777777777777778,
              "#fb9f3a"
             ],
             [
              0.8888888888888888,
              "#fdca26"
             ],
             [
              1,
              "#f0f921"
             ]
            ],
            "type": "histogram2d"
           }
          ],
          "histogram2dcontour": [
           {
            "colorbar": {
             "outlinewidth": 0,
             "ticks": ""
            },
            "colorscale": [
             [
              0,
              "#0d0887"
             ],
             [
              0.1111111111111111,
              "#46039f"
             ],
             [
              0.2222222222222222,
              "#7201a8"
             ],
             [
              0.3333333333333333,
              "#9c179e"
             ],
             [
              0.4444444444444444,
              "#bd3786"
             ],
             [
              0.5555555555555556,
              "#d8576b"
             ],
             [
              0.6666666666666666,
              "#ed7953"
             ],
             [
              0.7777777777777778,
              "#fb9f3a"
             ],
             [
              0.8888888888888888,
              "#fdca26"
             ],
             [
              1,
              "#f0f921"
             ]
            ],
            "type": "histogram2dcontour"
           }
          ],
          "mesh3d": [
           {
            "colorbar": {
             "outlinewidth": 0,
             "ticks": ""
            },
            "type": "mesh3d"
           }
          ],
          "parcoords": [
           {
            "line": {
             "colorbar": {
              "outlinewidth": 0,
              "ticks": ""
             }
            },
            "type": "parcoords"
           }
          ],
          "pie": [
           {
            "automargin": true,
            "type": "pie"
           }
          ],
          "scatter": [
           {
            "fillpattern": {
             "fillmode": "overlay",
             "size": 10,
             "solidity": 0.2
            },
            "type": "scatter"
           }
          ],
          "scatter3d": [
           {
            "line": {
             "colorbar": {
              "outlinewidth": 0,
              "ticks": ""
             }
            },
            "marker": {
             "colorbar": {
              "outlinewidth": 0,
              "ticks": ""
             }
            },
            "type": "scatter3d"
           }
          ],
          "scattercarpet": [
           {
            "marker": {
             "colorbar": {
              "outlinewidth": 0,
              "ticks": ""
             }
            },
            "type": "scattercarpet"
           }
          ],
          "scattergeo": [
           {
            "marker": {
             "colorbar": {
              "outlinewidth": 0,
              "ticks": ""
             }
            },
            "type": "scattergeo"
           }
          ],
          "scattergl": [
           {
            "marker": {
             "colorbar": {
              "outlinewidth": 0,
              "ticks": ""
             }
            },
            "type": "scattergl"
           }
          ],
          "scattermap": [
           {
            "marker": {
             "colorbar": {
              "outlinewidth": 0,
              "ticks": ""
             }
            },
            "type": "scattermap"
           }
          ],
          "scattermapbox": [
           {
            "marker": {
             "colorbar": {
              "outlinewidth": 0,
              "ticks": ""
             }
            },
            "type": "scattermapbox"
           }
          ],
          "scatterpolar": [
           {
            "marker": {
             "colorbar": {
              "outlinewidth": 0,
              "ticks": ""
             }
            },
            "type": "scatterpolar"
           }
          ],
          "scatterpolargl": [
           {
            "marker": {
             "colorbar": {
              "outlinewidth": 0,
              "ticks": ""
             }
            },
            "type": "scatterpolargl"
           }
          ],
          "scatterternary": [
           {
            "marker": {
             "colorbar": {
              "outlinewidth": 0,
              "ticks": ""
             }
            },
            "type": "scatterternary"
           }
          ],
          "surface": [
           {
            "colorbar": {
             "outlinewidth": 0,
             "ticks": ""
            },
            "colorscale": [
             [
              0,
              "#0d0887"
             ],
             [
              0.1111111111111111,
              "#46039f"
             ],
             [
              0.2222222222222222,
              "#7201a8"
             ],
             [
              0.3333333333333333,
              "#9c179e"
             ],
             [
              0.4444444444444444,
              "#bd3786"
             ],
             [
              0.5555555555555556,
              "#d8576b"
             ],
             [
              0.6666666666666666,
              "#ed7953"
             ],
             [
              0.7777777777777778,
              "#fb9f3a"
             ],
             [
              0.8888888888888888,
              "#fdca26"
             ],
             [
              1,
              "#f0f921"
             ]
            ],
            "type": "surface"
           }
          ],
          "table": [
           {
            "cells": {
             "fill": {
              "color": "#EBF0F8"
             },
             "line": {
              "color": "white"
             }
            },
            "header": {
             "fill": {
              "color": "#C8D4E3"
             },
             "line": {
              "color": "white"
             }
            },
            "type": "table"
           }
          ]
         },
         "layout": {
          "annotationdefaults": {
           "arrowcolor": "#2a3f5f",
           "arrowhead": 0,
           "arrowwidth": 1
          },
          "autotypenumbers": "strict",
          "coloraxis": {
           "colorbar": {
            "outlinewidth": 0,
            "ticks": ""
           }
          },
          "colorscale": {
           "diverging": [
            [
             0,
             "#8e0152"
            ],
            [
             0.1,
             "#c51b7d"
            ],
            [
             0.2,
             "#de77ae"
            ],
            [
             0.3,
             "#f1b6da"
            ],
            [
             0.4,
             "#fde0ef"
            ],
            [
             0.5,
             "#f7f7f7"
            ],
            [
             0.6,
             "#e6f5d0"
            ],
            [
             0.7,
             "#b8e186"
            ],
            [
             0.8,
             "#7fbc41"
            ],
            [
             0.9,
             "#4d9221"
            ],
            [
             1,
             "#276419"
            ]
           ],
           "sequential": [
            [
             0,
             "#0d0887"
            ],
            [
             0.1111111111111111,
             "#46039f"
            ],
            [
             0.2222222222222222,
             "#7201a8"
            ],
            [
             0.3333333333333333,
             "#9c179e"
            ],
            [
             0.4444444444444444,
             "#bd3786"
            ],
            [
             0.5555555555555556,
             "#d8576b"
            ],
            [
             0.6666666666666666,
             "#ed7953"
            ],
            [
             0.7777777777777778,
             "#fb9f3a"
            ],
            [
             0.8888888888888888,
             "#fdca26"
            ],
            [
             1,
             "#f0f921"
            ]
           ],
           "sequentialminus": [
            [
             0,
             "#0d0887"
            ],
            [
             0.1111111111111111,
             "#46039f"
            ],
            [
             0.2222222222222222,
             "#7201a8"
            ],
            [
             0.3333333333333333,
             "#9c179e"
            ],
            [
             0.4444444444444444,
             "#bd3786"
            ],
            [
             0.5555555555555556,
             "#d8576b"
            ],
            [
             0.6666666666666666,
             "#ed7953"
            ],
            [
             0.7777777777777778,
             "#fb9f3a"
            ],
            [
             0.8888888888888888,
             "#fdca26"
            ],
            [
             1,
             "#f0f921"
            ]
           ]
          },
          "colorway": [
           "#636efa",
           "#EF553B",
           "#00cc96",
           "#ab63fa",
           "#FFA15A",
           "#19d3f3",
           "#FF6692",
           "#B6E880",
           "#FF97FF",
           "#FECB52"
          ],
          "font": {
           "color": "#2a3f5f"
          },
          "geo": {
           "bgcolor": "white",
           "lakecolor": "white",
           "landcolor": "#E5ECF6",
           "showlakes": true,
           "showland": true,
           "subunitcolor": "white"
          },
          "hoverlabel": {
           "align": "left"
          },
          "hovermode": "closest",
          "mapbox": {
           "style": "light"
          },
          "paper_bgcolor": "white",
          "plot_bgcolor": "#E5ECF6",
          "polar": {
           "angularaxis": {
            "gridcolor": "white",
            "linecolor": "white",
            "ticks": ""
           },
           "bgcolor": "#E5ECF6",
           "radialaxis": {
            "gridcolor": "white",
            "linecolor": "white",
            "ticks": ""
           }
          },
          "scene": {
           "xaxis": {
            "backgroundcolor": "#E5ECF6",
            "gridcolor": "white",
            "gridwidth": 2,
            "linecolor": "white",
            "showbackground": true,
            "ticks": "",
            "zerolinecolor": "white"
           },
           "yaxis": {
            "backgroundcolor": "#E5ECF6",
            "gridcolor": "white",
            "gridwidth": 2,
            "linecolor": "white",
            "showbackground": true,
            "ticks": "",
            "zerolinecolor": "white"
           },
           "zaxis": {
            "backgroundcolor": "#E5ECF6",
            "gridcolor": "white",
            "gridwidth": 2,
            "linecolor": "white",
            "showbackground": true,
            "ticks": "",
            "zerolinecolor": "white"
           }
          },
          "shapedefaults": {
           "line": {
            "color": "#2a3f5f"
           }
          },
          "ternary": {
           "aaxis": {
            "gridcolor": "white",
            "linecolor": "white",
            "ticks": ""
           },
           "baxis": {
            "gridcolor": "white",
            "linecolor": "white",
            "ticks": ""
           },
           "bgcolor": "#E5ECF6",
           "caxis": {
            "gridcolor": "white",
            "linecolor": "white",
            "ticks": ""
           }
          },
          "title": {
           "x": 0.05
          },
          "xaxis": {
           "automargin": true,
           "gridcolor": "white",
           "linecolor": "white",
           "ticks": "",
           "title": {
            "standoff": 15
           },
           "zerolinecolor": "white",
           "zerolinewidth": 2
          },
          "yaxis": {
           "automargin": true,
           "gridcolor": "white",
           "linecolor": "white",
           "ticks": "",
           "title": {
            "standoff": 15
           },
           "zerolinecolor": "white",
           "zerolinewidth": 2
          }
         }
        },
        "title": {
         "text": "Mean Normalized by Model vs Temperature — Puzzle 3pap0"
        },
        "xaxis": {
         "title": {
          "text": "Temperature"
         }
        },
        "yaxis": {
         "title": {
          "text": "Model"
         }
        }
       }
      }
     },
     "metadata": {},
     "output_type": "display_data"
    },
    {
     "data": {
      "application/vnd.plotly.v1+json": {
       "config": {
        "plotlyServerURL": "https://plot.ly"
       },
       "data": [
        {
         "colorbar": {
          "title": {
           "text": "Mean Normalized"
          }
         },
         "type": "heatmap",
         "x": [
          "0.0",
          "0.1",
          "0.2",
          "0.3",
          "0.4",
          "0.5",
          "0.6",
          "0.7",
          "0.8",
          "0.9",
          "1.0"
         ],
         "y": [
          "base_deepseek-deepseek-chat-v3.1",
          "base_openai-gpt-4.1-mini"
         ],
         "z": {
          "bdata": "SNxj6UMXlD+/nxov3STGPzs2AvG6frk/ri8S2nIuvT/vVSsTfqnDP8kfDDz3Hr4/ROIeSx+6wD/ACYUIOITGPzI9YYkHlL0/DAxZ3eo5uT9zgGCOHr+/PwStwJDVrbY/AAAAAAAAAAAAAAAAAAAAAAAAAAAAAAAAAAAAAAAAAAAAAAAAAAAAAAAAAAAAAAAAAAAAAAAAAAAAAAAAAAAAAAAAAAAAAAAAAAAAAAAAAAA=",
          "dtype": "f8",
          "shape": "2, 11"
         }
        }
       ],
       "layout": {
        "template": {
         "data": {
          "bar": [
           {
            "error_x": {
             "color": "#2a3f5f"
            },
            "error_y": {
             "color": "#2a3f5f"
            },
            "marker": {
             "line": {
              "color": "#E5ECF6",
              "width": 0.5
             },
             "pattern": {
              "fillmode": "overlay",
              "size": 10,
              "solidity": 0.2
             }
            },
            "type": "bar"
           }
          ],
          "barpolar": [
           {
            "marker": {
             "line": {
              "color": "#E5ECF6",
              "width": 0.5
             },
             "pattern": {
              "fillmode": "overlay",
              "size": 10,
              "solidity": 0.2
             }
            },
            "type": "barpolar"
           }
          ],
          "carpet": [
           {
            "aaxis": {
             "endlinecolor": "#2a3f5f",
             "gridcolor": "white",
             "linecolor": "white",
             "minorgridcolor": "white",
             "startlinecolor": "#2a3f5f"
            },
            "baxis": {
             "endlinecolor": "#2a3f5f",
             "gridcolor": "white",
             "linecolor": "white",
             "minorgridcolor": "white",
             "startlinecolor": "#2a3f5f"
            },
            "type": "carpet"
           }
          ],
          "choropleth": [
           {
            "colorbar": {
             "outlinewidth": 0,
             "ticks": ""
            },
            "type": "choropleth"
           }
          ],
          "contour": [
           {
            "colorbar": {
             "outlinewidth": 0,
             "ticks": ""
            },
            "colorscale": [
             [
              0,
              "#0d0887"
             ],
             [
              0.1111111111111111,
              "#46039f"
             ],
             [
              0.2222222222222222,
              "#7201a8"
             ],
             [
              0.3333333333333333,
              "#9c179e"
             ],
             [
              0.4444444444444444,
              "#bd3786"
             ],
             [
              0.5555555555555556,
              "#d8576b"
             ],
             [
              0.6666666666666666,
              "#ed7953"
             ],
             [
              0.7777777777777778,
              "#fb9f3a"
             ],
             [
              0.8888888888888888,
              "#fdca26"
             ],
             [
              1,
              "#f0f921"
             ]
            ],
            "type": "contour"
           }
          ],
          "contourcarpet": [
           {
            "colorbar": {
             "outlinewidth": 0,
             "ticks": ""
            },
            "type": "contourcarpet"
           }
          ],
          "heatmap": [
           {
            "colorbar": {
             "outlinewidth": 0,
             "ticks": ""
            },
            "colorscale": [
             [
              0,
              "#0d0887"
             ],
             [
              0.1111111111111111,
              "#46039f"
             ],
             [
              0.2222222222222222,
              "#7201a8"
             ],
             [
              0.3333333333333333,
              "#9c179e"
             ],
             [
              0.4444444444444444,
              "#bd3786"
             ],
             [
              0.5555555555555556,
              "#d8576b"
             ],
             [
              0.6666666666666666,
              "#ed7953"
             ],
             [
              0.7777777777777778,
              "#fb9f3a"
             ],
             [
              0.8888888888888888,
              "#fdca26"
             ],
             [
              1,
              "#f0f921"
             ]
            ],
            "type": "heatmap"
           }
          ],
          "histogram": [
           {
            "marker": {
             "pattern": {
              "fillmode": "overlay",
              "size": 10,
              "solidity": 0.2
             }
            },
            "type": "histogram"
           }
          ],
          "histogram2d": [
           {
            "colorbar": {
             "outlinewidth": 0,
             "ticks": ""
            },
            "colorscale": [
             [
              0,
              "#0d0887"
             ],
             [
              0.1111111111111111,
              "#46039f"
             ],
             [
              0.2222222222222222,
              "#7201a8"
             ],
             [
              0.3333333333333333,
              "#9c179e"
             ],
             [
              0.4444444444444444,
              "#bd3786"
             ],
             [
              0.5555555555555556,
              "#d8576b"
             ],
             [
              0.6666666666666666,
              "#ed7953"
             ],
             [
              0.7777777777777778,
              "#fb9f3a"
             ],
             [
              0.8888888888888888,
              "#fdca26"
             ],
             [
              1,
              "#f0f921"
             ]
            ],
            "type": "histogram2d"
           }
          ],
          "histogram2dcontour": [
           {
            "colorbar": {
             "outlinewidth": 0,
             "ticks": ""
            },
            "colorscale": [
             [
              0,
              "#0d0887"
             ],
             [
              0.1111111111111111,
              "#46039f"
             ],
             [
              0.2222222222222222,
              "#7201a8"
             ],
             [
              0.3333333333333333,
              "#9c179e"
             ],
             [
              0.4444444444444444,
              "#bd3786"
             ],
             [
              0.5555555555555556,
              "#d8576b"
             ],
             [
              0.6666666666666666,
              "#ed7953"
             ],
             [
              0.7777777777777778,
              "#fb9f3a"
             ],
             [
              0.8888888888888888,
              "#fdca26"
             ],
             [
              1,
              "#f0f921"
             ]
            ],
            "type": "histogram2dcontour"
           }
          ],
          "mesh3d": [
           {
            "colorbar": {
             "outlinewidth": 0,
             "ticks": ""
            },
            "type": "mesh3d"
           }
          ],
          "parcoords": [
           {
            "line": {
             "colorbar": {
              "outlinewidth": 0,
              "ticks": ""
             }
            },
            "type": "parcoords"
           }
          ],
          "pie": [
           {
            "automargin": true,
            "type": "pie"
           }
          ],
          "scatter": [
           {
            "fillpattern": {
             "fillmode": "overlay",
             "size": 10,
             "solidity": 0.2
            },
            "type": "scatter"
           }
          ],
          "scatter3d": [
           {
            "line": {
             "colorbar": {
              "outlinewidth": 0,
              "ticks": ""
             }
            },
            "marker": {
             "colorbar": {
              "outlinewidth": 0,
              "ticks": ""
             }
            },
            "type": "scatter3d"
           }
          ],
          "scattercarpet": [
           {
            "marker": {
             "colorbar": {
              "outlinewidth": 0,
              "ticks": ""
             }
            },
            "type": "scattercarpet"
           }
          ],
          "scattergeo": [
           {
            "marker": {
             "colorbar": {
              "outlinewidth": 0,
              "ticks": ""
             }
            },
            "type": "scattergeo"
           }
          ],
          "scattergl": [
           {
            "marker": {
             "colorbar": {
              "outlinewidth": 0,
              "ticks": ""
             }
            },
            "type": "scattergl"
           }
          ],
          "scattermap": [
           {
            "marker": {
             "colorbar": {
              "outlinewidth": 0,
              "ticks": ""
             }
            },
            "type": "scattermap"
           }
          ],
          "scattermapbox": [
           {
            "marker": {
             "colorbar": {
              "outlinewidth": 0,
              "ticks": ""
             }
            },
            "type": "scattermapbox"
           }
          ],
          "scatterpolar": [
           {
            "marker": {
             "colorbar": {
              "outlinewidth": 0,
              "ticks": ""
             }
            },
            "type": "scatterpolar"
           }
          ],
          "scatterpolargl": [
           {
            "marker": {
             "colorbar": {
              "outlinewidth": 0,
              "ticks": ""
             }
            },
            "type": "scatterpolargl"
           }
          ],
          "scatterternary": [
           {
            "marker": {
             "colorbar": {
              "outlinewidth": 0,
              "ticks": ""
             }
            },
            "type": "scatterternary"
           }
          ],
          "surface": [
           {
            "colorbar": {
             "outlinewidth": 0,
             "ticks": ""
            },
            "colorscale": [
             [
              0,
              "#0d0887"
             ],
             [
              0.1111111111111111,
              "#46039f"
             ],
             [
              0.2222222222222222,
              "#7201a8"
             ],
             [
              0.3333333333333333,
              "#9c179e"
             ],
             [
              0.4444444444444444,
              "#bd3786"
             ],
             [
              0.5555555555555556,
              "#d8576b"
             ],
             [
              0.6666666666666666,
              "#ed7953"
             ],
             [
              0.7777777777777778,
              "#fb9f3a"
             ],
             [
              0.8888888888888888,
              "#fdca26"
             ],
             [
              1,
              "#f0f921"
             ]
            ],
            "type": "surface"
           }
          ],
          "table": [
           {
            "cells": {
             "fill": {
              "color": "#EBF0F8"
             },
             "line": {
              "color": "white"
             }
            },
            "header": {
             "fill": {
              "color": "#C8D4E3"
             },
             "line": {
              "color": "white"
             }
            },
            "type": "table"
           }
          ]
         },
         "layout": {
          "annotationdefaults": {
           "arrowcolor": "#2a3f5f",
           "arrowhead": 0,
           "arrowwidth": 1
          },
          "autotypenumbers": "strict",
          "coloraxis": {
           "colorbar": {
            "outlinewidth": 0,
            "ticks": ""
           }
          },
          "colorscale": {
           "diverging": [
            [
             0,
             "#8e0152"
            ],
            [
             0.1,
             "#c51b7d"
            ],
            [
             0.2,
             "#de77ae"
            ],
            [
             0.3,
             "#f1b6da"
            ],
            [
             0.4,
             "#fde0ef"
            ],
            [
             0.5,
             "#f7f7f7"
            ],
            [
             0.6,
             "#e6f5d0"
            ],
            [
             0.7,
             "#b8e186"
            ],
            [
             0.8,
             "#7fbc41"
            ],
            [
             0.9,
             "#4d9221"
            ],
            [
             1,
             "#276419"
            ]
           ],
           "sequential": [
            [
             0,
             "#0d0887"
            ],
            [
             0.1111111111111111,
             "#46039f"
            ],
            [
             0.2222222222222222,
             "#7201a8"
            ],
            [
             0.3333333333333333,
             "#9c179e"
            ],
            [
             0.4444444444444444,
             "#bd3786"
            ],
            [
             0.5555555555555556,
             "#d8576b"
            ],
            [
             0.6666666666666666,
             "#ed7953"
            ],
            [
             0.7777777777777778,
             "#fb9f3a"
            ],
            [
             0.8888888888888888,
             "#fdca26"
            ],
            [
             1,
             "#f0f921"
            ]
           ],
           "sequentialminus": [
            [
             0,
             "#0d0887"
            ],
            [
             0.1111111111111111,
             "#46039f"
            ],
            [
             0.2222222222222222,
             "#7201a8"
            ],
            [
             0.3333333333333333,
             "#9c179e"
            ],
            [
             0.4444444444444444,
             "#bd3786"
            ],
            [
             0.5555555555555556,
             "#d8576b"
            ],
            [
             0.6666666666666666,
             "#ed7953"
            ],
            [
             0.7777777777777778,
             "#fb9f3a"
            ],
            [
             0.8888888888888888,
             "#fdca26"
            ],
            [
             1,
             "#f0f921"
            ]
           ]
          },
          "colorway": [
           "#636efa",
           "#EF553B",
           "#00cc96",
           "#ab63fa",
           "#FFA15A",
           "#19d3f3",
           "#FF6692",
           "#B6E880",
           "#FF97FF",
           "#FECB52"
          ],
          "font": {
           "color": "#2a3f5f"
          },
          "geo": {
           "bgcolor": "white",
           "lakecolor": "white",
           "landcolor": "#E5ECF6",
           "showlakes": true,
           "showland": true,
           "subunitcolor": "white"
          },
          "hoverlabel": {
           "align": "left"
          },
          "hovermode": "closest",
          "mapbox": {
           "style": "light"
          },
          "paper_bgcolor": "white",
          "plot_bgcolor": "#E5ECF6",
          "polar": {
           "angularaxis": {
            "gridcolor": "white",
            "linecolor": "white",
            "ticks": ""
           },
           "bgcolor": "#E5ECF6",
           "radialaxis": {
            "gridcolor": "white",
            "linecolor": "white",
            "ticks": ""
           }
          },
          "scene": {
           "xaxis": {
            "backgroundcolor": "#E5ECF6",
            "gridcolor": "white",
            "gridwidth": 2,
            "linecolor": "white",
            "showbackground": true,
            "ticks": "",
            "zerolinecolor": "white"
           },
           "yaxis": {
            "backgroundcolor": "#E5ECF6",
            "gridcolor": "white",
            "gridwidth": 2,
            "linecolor": "white",
            "showbackground": true,
            "ticks": "",
            "zerolinecolor": "white"
           },
           "zaxis": {
            "backgroundcolor": "#E5ECF6",
            "gridcolor": "white",
            "gridwidth": 2,
            "linecolor": "white",
            "showbackground": true,
            "ticks": "",
            "zerolinecolor": "white"
           }
          },
          "shapedefaults": {
           "line": {
            "color": "#2a3f5f"
           }
          },
          "ternary": {
           "aaxis": {
            "gridcolor": "white",
            "linecolor": "white",
            "ticks": ""
           },
           "baxis": {
            "gridcolor": "white",
            "linecolor": "white",
            "ticks": ""
           },
           "bgcolor": "#E5ECF6",
           "caxis": {
            "gridcolor": "white",
            "linecolor": "white",
            "ticks": ""
           }
          },
          "title": {
           "x": 0.05
          },
          "xaxis": {
           "automargin": true,
           "gridcolor": "white",
           "linecolor": "white",
           "ticks": "",
           "title": {
            "standoff": 15
           },
           "zerolinecolor": "white",
           "zerolinewidth": 2
          },
          "yaxis": {
           "automargin": true,
           "gridcolor": "white",
           "linecolor": "white",
           "ticks": "",
           "title": {
            "standoff": 15
           },
           "zerolinecolor": "white",
           "zerolinewidth": 2
          }
         }
        },
        "title": {
         "text": "Mean Normalized by Model vs Temperature — Puzzle CbXto"
        },
        "xaxis": {
         "title": {
          "text": "Temperature"
         }
        },
        "yaxis": {
         "title": {
          "text": "Model"
         }
        }
       }
      }
     },
     "metadata": {},
     "output_type": "display_data"
    },
    {
     "data": {
      "application/vnd.plotly.v1+json": {
       "config": {
        "plotlyServerURL": "https://plot.ly"
       },
       "data": [
        {
         "colorbar": {
          "title": {
           "text": "Mean Normalized"
          }
         },
         "type": "heatmap",
         "x": [
          "0.0",
          "0.1",
          "0.2",
          "0.3",
          "0.4",
          "0.5",
          "0.6",
          "0.7",
          "0.8",
          "0.9",
          "1.0"
         ],
         "y": [
          "base_deepseek-deepseek-chat-v3.1",
          "base_openai-gpt-4.1-mini"
         ],
         "z": {
          "bdata": "rir7rgj+zz+oV8oyxLHUP00ychb2tNM/z0nvG1971D+cG9MTlnjSP+wX7IZti9A/c79DUaBP0j+Ens2qz9XQP6smiLoPQNA/+8vuycNC0z9dGyrG+ZvQPxwIyQImcOA/9KYiFcYW4T8Bh1ClZg/gP5PjTulg/d0/7fDXZI162D+4quy7IvjZP3STGARWDtc/4ZwRpb3B0z8Dste7P97TP89r7BLVW9k/HcTOFDqv1z8=",
          "dtype": "f8",
          "shape": "2, 11"
         }
        }
       ],
       "layout": {
        "template": {
         "data": {
          "bar": [
           {
            "error_x": {
             "color": "#2a3f5f"
            },
            "error_y": {
             "color": "#2a3f5f"
            },
            "marker": {
             "line": {
              "color": "#E5ECF6",
              "width": 0.5
             },
             "pattern": {
              "fillmode": "overlay",
              "size": 10,
              "solidity": 0.2
             }
            },
            "type": "bar"
           }
          ],
          "barpolar": [
           {
            "marker": {
             "line": {
              "color": "#E5ECF6",
              "width": 0.5
             },
             "pattern": {
              "fillmode": "overlay",
              "size": 10,
              "solidity": 0.2
             }
            },
            "type": "barpolar"
           }
          ],
          "carpet": [
           {
            "aaxis": {
             "endlinecolor": "#2a3f5f",
             "gridcolor": "white",
             "linecolor": "white",
             "minorgridcolor": "white",
             "startlinecolor": "#2a3f5f"
            },
            "baxis": {
             "endlinecolor": "#2a3f5f",
             "gridcolor": "white",
             "linecolor": "white",
             "minorgridcolor": "white",
             "startlinecolor": "#2a3f5f"
            },
            "type": "carpet"
           }
          ],
          "choropleth": [
           {
            "colorbar": {
             "outlinewidth": 0,
             "ticks": ""
            },
            "type": "choropleth"
           }
          ],
          "contour": [
           {
            "colorbar": {
             "outlinewidth": 0,
             "ticks": ""
            },
            "colorscale": [
             [
              0,
              "#0d0887"
             ],
             [
              0.1111111111111111,
              "#46039f"
             ],
             [
              0.2222222222222222,
              "#7201a8"
             ],
             [
              0.3333333333333333,
              "#9c179e"
             ],
             [
              0.4444444444444444,
              "#bd3786"
             ],
             [
              0.5555555555555556,
              "#d8576b"
             ],
             [
              0.6666666666666666,
              "#ed7953"
             ],
             [
              0.7777777777777778,
              "#fb9f3a"
             ],
             [
              0.8888888888888888,
              "#fdca26"
             ],
             [
              1,
              "#f0f921"
             ]
            ],
            "type": "contour"
           }
          ],
          "contourcarpet": [
           {
            "colorbar": {
             "outlinewidth": 0,
             "ticks": ""
            },
            "type": "contourcarpet"
           }
          ],
          "heatmap": [
           {
            "colorbar": {
             "outlinewidth": 0,
             "ticks": ""
            },
            "colorscale": [
             [
              0,
              "#0d0887"
             ],
             [
              0.1111111111111111,
              "#46039f"
             ],
             [
              0.2222222222222222,
              "#7201a8"
             ],
             [
              0.3333333333333333,
              "#9c179e"
             ],
             [
              0.4444444444444444,
              "#bd3786"
             ],
             [
              0.5555555555555556,
              "#d8576b"
             ],
             [
              0.6666666666666666,
              "#ed7953"
             ],
             [
              0.7777777777777778,
              "#fb9f3a"
             ],
             [
              0.8888888888888888,
              "#fdca26"
             ],
             [
              1,
              "#f0f921"
             ]
            ],
            "type": "heatmap"
           }
          ],
          "histogram": [
           {
            "marker": {
             "pattern": {
              "fillmode": "overlay",
              "size": 10,
              "solidity": 0.2
             }
            },
            "type": "histogram"
           }
          ],
          "histogram2d": [
           {
            "colorbar": {
             "outlinewidth": 0,
             "ticks": ""
            },
            "colorscale": [
             [
              0,
              "#0d0887"
             ],
             [
              0.1111111111111111,
              "#46039f"
             ],
             [
              0.2222222222222222,
              "#7201a8"
             ],
             [
              0.3333333333333333,
              "#9c179e"
             ],
             [
              0.4444444444444444,
              "#bd3786"
             ],
             [
              0.5555555555555556,
              "#d8576b"
             ],
             [
              0.6666666666666666,
              "#ed7953"
             ],
             [
              0.7777777777777778,
              "#fb9f3a"
             ],
             [
              0.8888888888888888,
              "#fdca26"
             ],
             [
              1,
              "#f0f921"
             ]
            ],
            "type": "histogram2d"
           }
          ],
          "histogram2dcontour": [
           {
            "colorbar": {
             "outlinewidth": 0,
             "ticks": ""
            },
            "colorscale": [
             [
              0,
              "#0d0887"
             ],
             [
              0.1111111111111111,
              "#46039f"
             ],
             [
              0.2222222222222222,
              "#7201a8"
             ],
             [
              0.3333333333333333,
              "#9c179e"
             ],
             [
              0.4444444444444444,
              "#bd3786"
             ],
             [
              0.5555555555555556,
              "#d8576b"
             ],
             [
              0.6666666666666666,
              "#ed7953"
             ],
             [
              0.7777777777777778,
              "#fb9f3a"
             ],
             [
              0.8888888888888888,
              "#fdca26"
             ],
             [
              1,
              "#f0f921"
             ]
            ],
            "type": "histogram2dcontour"
           }
          ],
          "mesh3d": [
           {
            "colorbar": {
             "outlinewidth": 0,
             "ticks": ""
            },
            "type": "mesh3d"
           }
          ],
          "parcoords": [
           {
            "line": {
             "colorbar": {
              "outlinewidth": 0,
              "ticks": ""
             }
            },
            "type": "parcoords"
           }
          ],
          "pie": [
           {
            "automargin": true,
            "type": "pie"
           }
          ],
          "scatter": [
           {
            "fillpattern": {
             "fillmode": "overlay",
             "size": 10,
             "solidity": 0.2
            },
            "type": "scatter"
           }
          ],
          "scatter3d": [
           {
            "line": {
             "colorbar": {
              "outlinewidth": 0,
              "ticks": ""
             }
            },
            "marker": {
             "colorbar": {
              "outlinewidth": 0,
              "ticks": ""
             }
            },
            "type": "scatter3d"
           }
          ],
          "scattercarpet": [
           {
            "marker": {
             "colorbar": {
              "outlinewidth": 0,
              "ticks": ""
             }
            },
            "type": "scattercarpet"
           }
          ],
          "scattergeo": [
           {
            "marker": {
             "colorbar": {
              "outlinewidth": 0,
              "ticks": ""
             }
            },
            "type": "scattergeo"
           }
          ],
          "scattergl": [
           {
            "marker": {
             "colorbar": {
              "outlinewidth": 0,
              "ticks": ""
             }
            },
            "type": "scattergl"
           }
          ],
          "scattermap": [
           {
            "marker": {
             "colorbar": {
              "outlinewidth": 0,
              "ticks": ""
             }
            },
            "type": "scattermap"
           }
          ],
          "scattermapbox": [
           {
            "marker": {
             "colorbar": {
              "outlinewidth": 0,
              "ticks": ""
             }
            },
            "type": "scattermapbox"
           }
          ],
          "scatterpolar": [
           {
            "marker": {
             "colorbar": {
              "outlinewidth": 0,
              "ticks": ""
             }
            },
            "type": "scatterpolar"
           }
          ],
          "scatterpolargl": [
           {
            "marker": {
             "colorbar": {
              "outlinewidth": 0,
              "ticks": ""
             }
            },
            "type": "scatterpolargl"
           }
          ],
          "scatterternary": [
           {
            "marker": {
             "colorbar": {
              "outlinewidth": 0,
              "ticks": ""
             }
            },
            "type": "scatterternary"
           }
          ],
          "surface": [
           {
            "colorbar": {
             "outlinewidth": 0,
             "ticks": ""
            },
            "colorscale": [
             [
              0,
              "#0d0887"
             ],
             [
              0.1111111111111111,
              "#46039f"
             ],
             [
              0.2222222222222222,
              "#7201a8"
             ],
             [
              0.3333333333333333,
              "#9c179e"
             ],
             [
              0.4444444444444444,
              "#bd3786"
             ],
             [
              0.5555555555555556,
              "#d8576b"
             ],
             [
              0.6666666666666666,
              "#ed7953"
             ],
             [
              0.7777777777777778,
              "#fb9f3a"
             ],
             [
              0.8888888888888888,
              "#fdca26"
             ],
             [
              1,
              "#f0f921"
             ]
            ],
            "type": "surface"
           }
          ],
          "table": [
           {
            "cells": {
             "fill": {
              "color": "#EBF0F8"
             },
             "line": {
              "color": "white"
             }
            },
            "header": {
             "fill": {
              "color": "#C8D4E3"
             },
             "line": {
              "color": "white"
             }
            },
            "type": "table"
           }
          ]
         },
         "layout": {
          "annotationdefaults": {
           "arrowcolor": "#2a3f5f",
           "arrowhead": 0,
           "arrowwidth": 1
          },
          "autotypenumbers": "strict",
          "coloraxis": {
           "colorbar": {
            "outlinewidth": 0,
            "ticks": ""
           }
          },
          "colorscale": {
           "diverging": [
            [
             0,
             "#8e0152"
            ],
            [
             0.1,
             "#c51b7d"
            ],
            [
             0.2,
             "#de77ae"
            ],
            [
             0.3,
             "#f1b6da"
            ],
            [
             0.4,
             "#fde0ef"
            ],
            [
             0.5,
             "#f7f7f7"
            ],
            [
             0.6,
             "#e6f5d0"
            ],
            [
             0.7,
             "#b8e186"
            ],
            [
             0.8,
             "#7fbc41"
            ],
            [
             0.9,
             "#4d9221"
            ],
            [
             1,
             "#276419"
            ]
           ],
           "sequential": [
            [
             0,
             "#0d0887"
            ],
            [
             0.1111111111111111,
             "#46039f"
            ],
            [
             0.2222222222222222,
             "#7201a8"
            ],
            [
             0.3333333333333333,
             "#9c179e"
            ],
            [
             0.4444444444444444,
             "#bd3786"
            ],
            [
             0.5555555555555556,
             "#d8576b"
            ],
            [
             0.6666666666666666,
             "#ed7953"
            ],
            [
             0.7777777777777778,
             "#fb9f3a"
            ],
            [
             0.8888888888888888,
             "#fdca26"
            ],
            [
             1,
             "#f0f921"
            ]
           ],
           "sequentialminus": [
            [
             0,
             "#0d0887"
            ],
            [
             0.1111111111111111,
             "#46039f"
            ],
            [
             0.2222222222222222,
             "#7201a8"
            ],
            [
             0.3333333333333333,
             "#9c179e"
            ],
            [
             0.4444444444444444,
             "#bd3786"
            ],
            [
             0.5555555555555556,
             "#d8576b"
            ],
            [
             0.6666666666666666,
             "#ed7953"
            ],
            [
             0.7777777777777778,
             "#fb9f3a"
            ],
            [
             0.8888888888888888,
             "#fdca26"
            ],
            [
             1,
             "#f0f921"
            ]
           ]
          },
          "colorway": [
           "#636efa",
           "#EF553B",
           "#00cc96",
           "#ab63fa",
           "#FFA15A",
           "#19d3f3",
           "#FF6692",
           "#B6E880",
           "#FF97FF",
           "#FECB52"
          ],
          "font": {
           "color": "#2a3f5f"
          },
          "geo": {
           "bgcolor": "white",
           "lakecolor": "white",
           "landcolor": "#E5ECF6",
           "showlakes": true,
           "showland": true,
           "subunitcolor": "white"
          },
          "hoverlabel": {
           "align": "left"
          },
          "hovermode": "closest",
          "mapbox": {
           "style": "light"
          },
          "paper_bgcolor": "white",
          "plot_bgcolor": "#E5ECF6",
          "polar": {
           "angularaxis": {
            "gridcolor": "white",
            "linecolor": "white",
            "ticks": ""
           },
           "bgcolor": "#E5ECF6",
           "radialaxis": {
            "gridcolor": "white",
            "linecolor": "white",
            "ticks": ""
           }
          },
          "scene": {
           "xaxis": {
            "backgroundcolor": "#E5ECF6",
            "gridcolor": "white",
            "gridwidth": 2,
            "linecolor": "white",
            "showbackground": true,
            "ticks": "",
            "zerolinecolor": "white"
           },
           "yaxis": {
            "backgroundcolor": "#E5ECF6",
            "gridcolor": "white",
            "gridwidth": 2,
            "linecolor": "white",
            "showbackground": true,
            "ticks": "",
            "zerolinecolor": "white"
           },
           "zaxis": {
            "backgroundcolor": "#E5ECF6",
            "gridcolor": "white",
            "gridwidth": 2,
            "linecolor": "white",
            "showbackground": true,
            "ticks": "",
            "zerolinecolor": "white"
           }
          },
          "shapedefaults": {
           "line": {
            "color": "#2a3f5f"
           }
          },
          "ternary": {
           "aaxis": {
            "gridcolor": "white",
            "linecolor": "white",
            "ticks": ""
           },
           "baxis": {
            "gridcolor": "white",
            "linecolor": "white",
            "ticks": ""
           },
           "bgcolor": "#E5ECF6",
           "caxis": {
            "gridcolor": "white",
            "linecolor": "white",
            "ticks": ""
           }
          },
          "title": {
           "x": 0.05
          },
          "xaxis": {
           "automargin": true,
           "gridcolor": "white",
           "linecolor": "white",
           "ticks": "",
           "title": {
            "standoff": 15
           },
           "zerolinecolor": "white",
           "zerolinewidth": 2
          },
          "yaxis": {
           "automargin": true,
           "gridcolor": "white",
           "linecolor": "white",
           "ticks": "",
           "title": {
            "standoff": 15
           },
           "zerolinecolor": "white",
           "zerolinewidth": 2
          }
         }
        },
        "title": {
         "text": "Mean Normalized by Model vs Temperature — Puzzle m3lLD"
        },
        "xaxis": {
         "title": {
          "text": "Temperature"
         }
        },
        "yaxis": {
         "title": {
          "text": "Model"
         }
        }
       }
      }
     },
     "metadata": {},
     "output_type": "display_data"
    },
    {
     "data": {
      "application/vnd.plotly.v1+json": {
       "config": {
        "plotlyServerURL": "https://plot.ly"
       },
       "data": [
        {
         "colorbar": {
          "title": {
           "text": "Mean Normalized"
          }
         },
         "type": "heatmap",
         "x": [
          "0.0",
          "0.1",
          "0.2",
          "0.3",
          "0.4",
          "0.5",
          "0.6",
          "0.7",
          "0.8",
          "0.9",
          "1.0"
         ],
         "y": [
          "base_deepseek-deepseek-chat-v3.1",
          "base_openai-gpt-4.1-mini"
         ],
         "z": {
          "bdata": "9Ik8Sbpm4T8Yz6Chf4LhP82v5gDBHOE/5tAi2/l+4T/Q1VbsL7vhP/EzLhwIyeE/uO7mqQ654T9crKjBNAzhP4PdsG1RZuE/AeMZNPRP4T8iVKnZA63hPzcVqTC2ENw/escpOpLL2z/f4AuTqYLbPz9vKlJhbNs/zNb6IqEt2z+U9gZfmEzbP66ek943vto/Ups4ud+h2j+2oWKcvwnbP+z6Bbth29o/eyx96IL62j8=",
          "dtype": "f8",
          "shape": "2, 11"
         }
        }
       ],
       "layout": {
        "template": {
         "data": {
          "bar": [
           {
            "error_x": {
             "color": "#2a3f5f"
            },
            "error_y": {
             "color": "#2a3f5f"
            },
            "marker": {
             "line": {
              "color": "#E5ECF6",
              "width": 0.5
             },
             "pattern": {
              "fillmode": "overlay",
              "size": 10,
              "solidity": 0.2
             }
            },
            "type": "bar"
           }
          ],
          "barpolar": [
           {
            "marker": {
             "line": {
              "color": "#E5ECF6",
              "width": 0.5
             },
             "pattern": {
              "fillmode": "overlay",
              "size": 10,
              "solidity": 0.2
             }
            },
            "type": "barpolar"
           }
          ],
          "carpet": [
           {
            "aaxis": {
             "endlinecolor": "#2a3f5f",
             "gridcolor": "white",
             "linecolor": "white",
             "minorgridcolor": "white",
             "startlinecolor": "#2a3f5f"
            },
            "baxis": {
             "endlinecolor": "#2a3f5f",
             "gridcolor": "white",
             "linecolor": "white",
             "minorgridcolor": "white",
             "startlinecolor": "#2a3f5f"
            },
            "type": "carpet"
           }
          ],
          "choropleth": [
           {
            "colorbar": {
             "outlinewidth": 0,
             "ticks": ""
            },
            "type": "choropleth"
           }
          ],
          "contour": [
           {
            "colorbar": {
             "outlinewidth": 0,
             "ticks": ""
            },
            "colorscale": [
             [
              0,
              "#0d0887"
             ],
             [
              0.1111111111111111,
              "#46039f"
             ],
             [
              0.2222222222222222,
              "#7201a8"
             ],
             [
              0.3333333333333333,
              "#9c179e"
             ],
             [
              0.4444444444444444,
              "#bd3786"
             ],
             [
              0.5555555555555556,
              "#d8576b"
             ],
             [
              0.6666666666666666,
              "#ed7953"
             ],
             [
              0.7777777777777778,
              "#fb9f3a"
             ],
             [
              0.8888888888888888,
              "#fdca26"
             ],
             [
              1,
              "#f0f921"
             ]
            ],
            "type": "contour"
           }
          ],
          "contourcarpet": [
           {
            "colorbar": {
             "outlinewidth": 0,
             "ticks": ""
            },
            "type": "contourcarpet"
           }
          ],
          "heatmap": [
           {
            "colorbar": {
             "outlinewidth": 0,
             "ticks": ""
            },
            "colorscale": [
             [
              0,
              "#0d0887"
             ],
             [
              0.1111111111111111,
              "#46039f"
             ],
             [
              0.2222222222222222,
              "#7201a8"
             ],
             [
              0.3333333333333333,
              "#9c179e"
             ],
             [
              0.4444444444444444,
              "#bd3786"
             ],
             [
              0.5555555555555556,
              "#d8576b"
             ],
             [
              0.6666666666666666,
              "#ed7953"
             ],
             [
              0.7777777777777778,
              "#fb9f3a"
             ],
             [
              0.8888888888888888,
              "#fdca26"
             ],
             [
              1,
              "#f0f921"
             ]
            ],
            "type": "heatmap"
           }
          ],
          "histogram": [
           {
            "marker": {
             "pattern": {
              "fillmode": "overlay",
              "size": 10,
              "solidity": 0.2
             }
            },
            "type": "histogram"
           }
          ],
          "histogram2d": [
           {
            "colorbar": {
             "outlinewidth": 0,
             "ticks": ""
            },
            "colorscale": [
             [
              0,
              "#0d0887"
             ],
             [
              0.1111111111111111,
              "#46039f"
             ],
             [
              0.2222222222222222,
              "#7201a8"
             ],
             [
              0.3333333333333333,
              "#9c179e"
             ],
             [
              0.4444444444444444,
              "#bd3786"
             ],
             [
              0.5555555555555556,
              "#d8576b"
             ],
             [
              0.6666666666666666,
              "#ed7953"
             ],
             [
              0.7777777777777778,
              "#fb9f3a"
             ],
             [
              0.8888888888888888,
              "#fdca26"
             ],
             [
              1,
              "#f0f921"
             ]
            ],
            "type": "histogram2d"
           }
          ],
          "histogram2dcontour": [
           {
            "colorbar": {
             "outlinewidth": 0,
             "ticks": ""
            },
            "colorscale": [
             [
              0,
              "#0d0887"
             ],
             [
              0.1111111111111111,
              "#46039f"
             ],
             [
              0.2222222222222222,
              "#7201a8"
             ],
             [
              0.3333333333333333,
              "#9c179e"
             ],
             [
              0.4444444444444444,
              "#bd3786"
             ],
             [
              0.5555555555555556,
              "#d8576b"
             ],
             [
              0.6666666666666666,
              "#ed7953"
             ],
             [
              0.7777777777777778,
              "#fb9f3a"
             ],
             [
              0.8888888888888888,
              "#fdca26"
             ],
             [
              1,
              "#f0f921"
             ]
            ],
            "type": "histogram2dcontour"
           }
          ],
          "mesh3d": [
           {
            "colorbar": {
             "outlinewidth": 0,
             "ticks": ""
            },
            "type": "mesh3d"
           }
          ],
          "parcoords": [
           {
            "line": {
             "colorbar": {
              "outlinewidth": 0,
              "ticks": ""
             }
            },
            "type": "parcoords"
           }
          ],
          "pie": [
           {
            "automargin": true,
            "type": "pie"
           }
          ],
          "scatter": [
           {
            "fillpattern": {
             "fillmode": "overlay",
             "size": 10,
             "solidity": 0.2
            },
            "type": "scatter"
           }
          ],
          "scatter3d": [
           {
            "line": {
             "colorbar": {
              "outlinewidth": 0,
              "ticks": ""
             }
            },
            "marker": {
             "colorbar": {
              "outlinewidth": 0,
              "ticks": ""
             }
            },
            "type": "scatter3d"
           }
          ],
          "scattercarpet": [
           {
            "marker": {
             "colorbar": {
              "outlinewidth": 0,
              "ticks": ""
             }
            },
            "type": "scattercarpet"
           }
          ],
          "scattergeo": [
           {
            "marker": {
             "colorbar": {
              "outlinewidth": 0,
              "ticks": ""
             }
            },
            "type": "scattergeo"
           }
          ],
          "scattergl": [
           {
            "marker": {
             "colorbar": {
              "outlinewidth": 0,
              "ticks": ""
             }
            },
            "type": "scattergl"
           }
          ],
          "scattermap": [
           {
            "marker": {
             "colorbar": {
              "outlinewidth": 0,
              "ticks": ""
             }
            },
            "type": "scattermap"
           }
          ],
          "scattermapbox": [
           {
            "marker": {
             "colorbar": {
              "outlinewidth": 0,
              "ticks": ""
             }
            },
            "type": "scattermapbox"
           }
          ],
          "scatterpolar": [
           {
            "marker": {
             "colorbar": {
              "outlinewidth": 0,
              "ticks": ""
             }
            },
            "type": "scatterpolar"
           }
          ],
          "scatterpolargl": [
           {
            "marker": {
             "colorbar": {
              "outlinewidth": 0,
              "ticks": ""
             }
            },
            "type": "scatterpolargl"
           }
          ],
          "scatterternary": [
           {
            "marker": {
             "colorbar": {
              "outlinewidth": 0,
              "ticks": ""
             }
            },
            "type": "scatterternary"
           }
          ],
          "surface": [
           {
            "colorbar": {
             "outlinewidth": 0,
             "ticks": ""
            },
            "colorscale": [
             [
              0,
              "#0d0887"
             ],
             [
              0.1111111111111111,
              "#46039f"
             ],
             [
              0.2222222222222222,
              "#7201a8"
             ],
             [
              0.3333333333333333,
              "#9c179e"
             ],
             [
              0.4444444444444444,
              "#bd3786"
             ],
             [
              0.5555555555555556,
              "#d8576b"
             ],
             [
              0.6666666666666666,
              "#ed7953"
             ],
             [
              0.7777777777777778,
              "#fb9f3a"
             ],
             [
              0.8888888888888888,
              "#fdca26"
             ],
             [
              1,
              "#f0f921"
             ]
            ],
            "type": "surface"
           }
          ],
          "table": [
           {
            "cells": {
             "fill": {
              "color": "#EBF0F8"
             },
             "line": {
              "color": "white"
             }
            },
            "header": {
             "fill": {
              "color": "#C8D4E3"
             },
             "line": {
              "color": "white"
             }
            },
            "type": "table"
           }
          ]
         },
         "layout": {
          "annotationdefaults": {
           "arrowcolor": "#2a3f5f",
           "arrowhead": 0,
           "arrowwidth": 1
          },
          "autotypenumbers": "strict",
          "coloraxis": {
           "colorbar": {
            "outlinewidth": 0,
            "ticks": ""
           }
          },
          "colorscale": {
           "diverging": [
            [
             0,
             "#8e0152"
            ],
            [
             0.1,
             "#c51b7d"
            ],
            [
             0.2,
             "#de77ae"
            ],
            [
             0.3,
             "#f1b6da"
            ],
            [
             0.4,
             "#fde0ef"
            ],
            [
             0.5,
             "#f7f7f7"
            ],
            [
             0.6,
             "#e6f5d0"
            ],
            [
             0.7,
             "#b8e186"
            ],
            [
             0.8,
             "#7fbc41"
            ],
            [
             0.9,
             "#4d9221"
            ],
            [
             1,
             "#276419"
            ]
           ],
           "sequential": [
            [
             0,
             "#0d0887"
            ],
            [
             0.1111111111111111,
             "#46039f"
            ],
            [
             0.2222222222222222,
             "#7201a8"
            ],
            [
             0.3333333333333333,
             "#9c179e"
            ],
            [
             0.4444444444444444,
             "#bd3786"
            ],
            [
             0.5555555555555556,
             "#d8576b"
            ],
            [
             0.6666666666666666,
             "#ed7953"
            ],
            [
             0.7777777777777778,
             "#fb9f3a"
            ],
            [
             0.8888888888888888,
             "#fdca26"
            ],
            [
             1,
             "#f0f921"
            ]
           ],
           "sequentialminus": [
            [
             0,
             "#0d0887"
            ],
            [
             0.1111111111111111,
             "#46039f"
            ],
            [
             0.2222222222222222,
             "#7201a8"
            ],
            [
             0.3333333333333333,
             "#9c179e"
            ],
            [
             0.4444444444444444,
             "#bd3786"
            ],
            [
             0.5555555555555556,
             "#d8576b"
            ],
            [
             0.6666666666666666,
             "#ed7953"
            ],
            [
             0.7777777777777778,
             "#fb9f3a"
            ],
            [
             0.8888888888888888,
             "#fdca26"
            ],
            [
             1,
             "#f0f921"
            ]
           ]
          },
          "colorway": [
           "#636efa",
           "#EF553B",
           "#00cc96",
           "#ab63fa",
           "#FFA15A",
           "#19d3f3",
           "#FF6692",
           "#B6E880",
           "#FF97FF",
           "#FECB52"
          ],
          "font": {
           "color": "#2a3f5f"
          },
          "geo": {
           "bgcolor": "white",
           "lakecolor": "white",
           "landcolor": "#E5ECF6",
           "showlakes": true,
           "showland": true,
           "subunitcolor": "white"
          },
          "hoverlabel": {
           "align": "left"
          },
          "hovermode": "closest",
          "mapbox": {
           "style": "light"
          },
          "paper_bgcolor": "white",
          "plot_bgcolor": "#E5ECF6",
          "polar": {
           "angularaxis": {
            "gridcolor": "white",
            "linecolor": "white",
            "ticks": ""
           },
           "bgcolor": "#E5ECF6",
           "radialaxis": {
            "gridcolor": "white",
            "linecolor": "white",
            "ticks": ""
           }
          },
          "scene": {
           "xaxis": {
            "backgroundcolor": "#E5ECF6",
            "gridcolor": "white",
            "gridwidth": 2,
            "linecolor": "white",
            "showbackground": true,
            "ticks": "",
            "zerolinecolor": "white"
           },
           "yaxis": {
            "backgroundcolor": "#E5ECF6",
            "gridcolor": "white",
            "gridwidth": 2,
            "linecolor": "white",
            "showbackground": true,
            "ticks": "",
            "zerolinecolor": "white"
           },
           "zaxis": {
            "backgroundcolor": "#E5ECF6",
            "gridcolor": "white",
            "gridwidth": 2,
            "linecolor": "white",
            "showbackground": true,
            "ticks": "",
            "zerolinecolor": "white"
           }
          },
          "shapedefaults": {
           "line": {
            "color": "#2a3f5f"
           }
          },
          "ternary": {
           "aaxis": {
            "gridcolor": "white",
            "linecolor": "white",
            "ticks": ""
           },
           "baxis": {
            "gridcolor": "white",
            "linecolor": "white",
            "ticks": ""
           },
           "bgcolor": "#E5ECF6",
           "caxis": {
            "gridcolor": "white",
            "linecolor": "white",
            "ticks": ""
           }
          },
          "title": {
           "x": 0.05
          },
          "xaxis": {
           "automargin": true,
           "gridcolor": "white",
           "linecolor": "white",
           "ticks": "",
           "title": {
            "standoff": 15
           },
           "zerolinecolor": "white",
           "zerolinewidth": 2
          },
          "yaxis": {
           "automargin": true,
           "gridcolor": "white",
           "linecolor": "white",
           "ticks": "",
           "title": {
            "standoff": 15
           },
           "zerolinecolor": "white",
           "zerolinewidth": 2
          }
         }
        },
        "title": {
         "text": "Mean Normalized by Model vs Temperature — Puzzle Evxmg"
        },
        "xaxis": {
         "title": {
          "text": "Temperature"
         }
        },
        "yaxis": {
         "title": {
          "text": "Model"
         }
        }
       }
      }
     },
     "metadata": {},
     "output_type": "display_data"
    },
    {
     "data": {
      "application/vnd.plotly.v1+json": {
       "config": {
        "plotlyServerURL": "https://plot.ly"
       },
       "data": [
        {
         "colorbar": {
          "title": {
           "text": "Mean Normalized"
          }
         },
         "type": "heatmap",
         "x": [
          "0.0",
          "0.1",
          "0.2",
          "0.3",
          "0.4",
          "0.5",
          "0.6",
          "0.7",
          "0.8",
          "0.9",
          "1.0"
         ],
         "y": [
          "base_deepseek-deepseek-chat-v3.1",
          "base_openai-gpt-4.1-mini"
         ],
         "z": {
          "bdata": "AAAAAAAAAAAAAAAAAAAAAPg2/dmPFHE/AAAAAAAAAAAAAAAAAAAAAMr9DkWBPnE/AAAAAAAAAADGuriNBvCGPwAAAAAAAAAAiuWWVkPifj99dOrKZ3luPwAAAAAAAAAALbKd76fGqz+7SQwCK4eWP9HQP8HFino/wRw9fm/Tjz+sOUAwR4+fPwAAAAAAAAAAAAAAAAAAAAAAAAAAAAAAAAAAAAAAAAAABvAWSFD8aD8=",
          "dtype": "f8",
          "shape": "2, 11"
         }
        }
       ],
       "layout": {
        "template": {
         "data": {
          "bar": [
           {
            "error_x": {
             "color": "#2a3f5f"
            },
            "error_y": {
             "color": "#2a3f5f"
            },
            "marker": {
             "line": {
              "color": "#E5ECF6",
              "width": 0.5
             },
             "pattern": {
              "fillmode": "overlay",
              "size": 10,
              "solidity": 0.2
             }
            },
            "type": "bar"
           }
          ],
          "barpolar": [
           {
            "marker": {
             "line": {
              "color": "#E5ECF6",
              "width": 0.5
             },
             "pattern": {
              "fillmode": "overlay",
              "size": 10,
              "solidity": 0.2
             }
            },
            "type": "barpolar"
           }
          ],
          "carpet": [
           {
            "aaxis": {
             "endlinecolor": "#2a3f5f",
             "gridcolor": "white",
             "linecolor": "white",
             "minorgridcolor": "white",
             "startlinecolor": "#2a3f5f"
            },
            "baxis": {
             "endlinecolor": "#2a3f5f",
             "gridcolor": "white",
             "linecolor": "white",
             "minorgridcolor": "white",
             "startlinecolor": "#2a3f5f"
            },
            "type": "carpet"
           }
          ],
          "choropleth": [
           {
            "colorbar": {
             "outlinewidth": 0,
             "ticks": ""
            },
            "type": "choropleth"
           }
          ],
          "contour": [
           {
            "colorbar": {
             "outlinewidth": 0,
             "ticks": ""
            },
            "colorscale": [
             [
              0,
              "#0d0887"
             ],
             [
              0.1111111111111111,
              "#46039f"
             ],
             [
              0.2222222222222222,
              "#7201a8"
             ],
             [
              0.3333333333333333,
              "#9c179e"
             ],
             [
              0.4444444444444444,
              "#bd3786"
             ],
             [
              0.5555555555555556,
              "#d8576b"
             ],
             [
              0.6666666666666666,
              "#ed7953"
             ],
             [
              0.7777777777777778,
              "#fb9f3a"
             ],
             [
              0.8888888888888888,
              "#fdca26"
             ],
             [
              1,
              "#f0f921"
             ]
            ],
            "type": "contour"
           }
          ],
          "contourcarpet": [
           {
            "colorbar": {
             "outlinewidth": 0,
             "ticks": ""
            },
            "type": "contourcarpet"
           }
          ],
          "heatmap": [
           {
            "colorbar": {
             "outlinewidth": 0,
             "ticks": ""
            },
            "colorscale": [
             [
              0,
              "#0d0887"
             ],
             [
              0.1111111111111111,
              "#46039f"
             ],
             [
              0.2222222222222222,
              "#7201a8"
             ],
             [
              0.3333333333333333,
              "#9c179e"
             ],
             [
              0.4444444444444444,
              "#bd3786"
             ],
             [
              0.5555555555555556,
              "#d8576b"
             ],
             [
              0.6666666666666666,
              "#ed7953"
             ],
             [
              0.7777777777777778,
              "#fb9f3a"
             ],
             [
              0.8888888888888888,
              "#fdca26"
             ],
             [
              1,
              "#f0f921"
             ]
            ],
            "type": "heatmap"
           }
          ],
          "histogram": [
           {
            "marker": {
             "pattern": {
              "fillmode": "overlay",
              "size": 10,
              "solidity": 0.2
             }
            },
            "type": "histogram"
           }
          ],
          "histogram2d": [
           {
            "colorbar": {
             "outlinewidth": 0,
             "ticks": ""
            },
            "colorscale": [
             [
              0,
              "#0d0887"
             ],
             [
              0.1111111111111111,
              "#46039f"
             ],
             [
              0.2222222222222222,
              "#7201a8"
             ],
             [
              0.3333333333333333,
              "#9c179e"
             ],
             [
              0.4444444444444444,
              "#bd3786"
             ],
             [
              0.5555555555555556,
              "#d8576b"
             ],
             [
              0.6666666666666666,
              "#ed7953"
             ],
             [
              0.7777777777777778,
              "#fb9f3a"
             ],
             [
              0.8888888888888888,
              "#fdca26"
             ],
             [
              1,
              "#f0f921"
             ]
            ],
            "type": "histogram2d"
           }
          ],
          "histogram2dcontour": [
           {
            "colorbar": {
             "outlinewidth": 0,
             "ticks": ""
            },
            "colorscale": [
             [
              0,
              "#0d0887"
             ],
             [
              0.1111111111111111,
              "#46039f"
             ],
             [
              0.2222222222222222,
              "#7201a8"
             ],
             [
              0.3333333333333333,
              "#9c179e"
             ],
             [
              0.4444444444444444,
              "#bd3786"
             ],
             [
              0.5555555555555556,
              "#d8576b"
             ],
             [
              0.6666666666666666,
              "#ed7953"
             ],
             [
              0.7777777777777778,
              "#fb9f3a"
             ],
             [
              0.8888888888888888,
              "#fdca26"
             ],
             [
              1,
              "#f0f921"
             ]
            ],
            "type": "histogram2dcontour"
           }
          ],
          "mesh3d": [
           {
            "colorbar": {
             "outlinewidth": 0,
             "ticks": ""
            },
            "type": "mesh3d"
           }
          ],
          "parcoords": [
           {
            "line": {
             "colorbar": {
              "outlinewidth": 0,
              "ticks": ""
             }
            },
            "type": "parcoords"
           }
          ],
          "pie": [
           {
            "automargin": true,
            "type": "pie"
           }
          ],
          "scatter": [
           {
            "fillpattern": {
             "fillmode": "overlay",
             "size": 10,
             "solidity": 0.2
            },
            "type": "scatter"
           }
          ],
          "scatter3d": [
           {
            "line": {
             "colorbar": {
              "outlinewidth": 0,
              "ticks": ""
             }
            },
            "marker": {
             "colorbar": {
              "outlinewidth": 0,
              "ticks": ""
             }
            },
            "type": "scatter3d"
           }
          ],
          "scattercarpet": [
           {
            "marker": {
             "colorbar": {
              "outlinewidth": 0,
              "ticks": ""
             }
            },
            "type": "scattercarpet"
           }
          ],
          "scattergeo": [
           {
            "marker": {
             "colorbar": {
              "outlinewidth": 0,
              "ticks": ""
             }
            },
            "type": "scattergeo"
           }
          ],
          "scattergl": [
           {
            "marker": {
             "colorbar": {
              "outlinewidth": 0,
              "ticks": ""
             }
            },
            "type": "scattergl"
           }
          ],
          "scattermap": [
           {
            "marker": {
             "colorbar": {
              "outlinewidth": 0,
              "ticks": ""
             }
            },
            "type": "scattermap"
           }
          ],
          "scattermapbox": [
           {
            "marker": {
             "colorbar": {
              "outlinewidth": 0,
              "ticks": ""
             }
            },
            "type": "scattermapbox"
           }
          ],
          "scatterpolar": [
           {
            "marker": {
             "colorbar": {
              "outlinewidth": 0,
              "ticks": ""
             }
            },
            "type": "scatterpolar"
           }
          ],
          "scatterpolargl": [
           {
            "marker": {
             "colorbar": {
              "outlinewidth": 0,
              "ticks": ""
             }
            },
            "type": "scatterpolargl"
           }
          ],
          "scatterternary": [
           {
            "marker": {
             "colorbar": {
              "outlinewidth": 0,
              "ticks": ""
             }
            },
            "type": "scatterternary"
           }
          ],
          "surface": [
           {
            "colorbar": {
             "outlinewidth": 0,
             "ticks": ""
            },
            "colorscale": [
             [
              0,
              "#0d0887"
             ],
             [
              0.1111111111111111,
              "#46039f"
             ],
             [
              0.2222222222222222,
              "#7201a8"
             ],
             [
              0.3333333333333333,
              "#9c179e"
             ],
             [
              0.4444444444444444,
              "#bd3786"
             ],
             [
              0.5555555555555556,
              "#d8576b"
             ],
             [
              0.6666666666666666,
              "#ed7953"
             ],
             [
              0.7777777777777778,
              "#fb9f3a"
             ],
             [
              0.8888888888888888,
              "#fdca26"
             ],
             [
              1,
              "#f0f921"
             ]
            ],
            "type": "surface"
           }
          ],
          "table": [
           {
            "cells": {
             "fill": {
              "color": "#EBF0F8"
             },
             "line": {
              "color": "white"
             }
            },
            "header": {
             "fill": {
              "color": "#C8D4E3"
             },
             "line": {
              "color": "white"
             }
            },
            "type": "table"
           }
          ]
         },
         "layout": {
          "annotationdefaults": {
           "arrowcolor": "#2a3f5f",
           "arrowhead": 0,
           "arrowwidth": 1
          },
          "autotypenumbers": "strict",
          "coloraxis": {
           "colorbar": {
            "outlinewidth": 0,
            "ticks": ""
           }
          },
          "colorscale": {
           "diverging": [
            [
             0,
             "#8e0152"
            ],
            [
             0.1,
             "#c51b7d"
            ],
            [
             0.2,
             "#de77ae"
            ],
            [
             0.3,
             "#f1b6da"
            ],
            [
             0.4,
             "#fde0ef"
            ],
            [
             0.5,
             "#f7f7f7"
            ],
            [
             0.6,
             "#e6f5d0"
            ],
            [
             0.7,
             "#b8e186"
            ],
            [
             0.8,
             "#7fbc41"
            ],
            [
             0.9,
             "#4d9221"
            ],
            [
             1,
             "#276419"
            ]
           ],
           "sequential": [
            [
             0,
             "#0d0887"
            ],
            [
             0.1111111111111111,
             "#46039f"
            ],
            [
             0.2222222222222222,
             "#7201a8"
            ],
            [
             0.3333333333333333,
             "#9c179e"
            ],
            [
             0.4444444444444444,
             "#bd3786"
            ],
            [
             0.5555555555555556,
             "#d8576b"
            ],
            [
             0.6666666666666666,
             "#ed7953"
            ],
            [
             0.7777777777777778,
             "#fb9f3a"
            ],
            [
             0.8888888888888888,
             "#fdca26"
            ],
            [
             1,
             "#f0f921"
            ]
           ],
           "sequentialminus": [
            [
             0,
             "#0d0887"
            ],
            [
             0.1111111111111111,
             "#46039f"
            ],
            [
             0.2222222222222222,
             "#7201a8"
            ],
            [
             0.3333333333333333,
             "#9c179e"
            ],
            [
             0.4444444444444444,
             "#bd3786"
            ],
            [
             0.5555555555555556,
             "#d8576b"
            ],
            [
             0.6666666666666666,
             "#ed7953"
            ],
            [
             0.7777777777777778,
             "#fb9f3a"
            ],
            [
             0.8888888888888888,
             "#fdca26"
            ],
            [
             1,
             "#f0f921"
            ]
           ]
          },
          "colorway": [
           "#636efa",
           "#EF553B",
           "#00cc96",
           "#ab63fa",
           "#FFA15A",
           "#19d3f3",
           "#FF6692",
           "#B6E880",
           "#FF97FF",
           "#FECB52"
          ],
          "font": {
           "color": "#2a3f5f"
          },
          "geo": {
           "bgcolor": "white",
           "lakecolor": "white",
           "landcolor": "#E5ECF6",
           "showlakes": true,
           "showland": true,
           "subunitcolor": "white"
          },
          "hoverlabel": {
           "align": "left"
          },
          "hovermode": "closest",
          "mapbox": {
           "style": "light"
          },
          "paper_bgcolor": "white",
          "plot_bgcolor": "#E5ECF6",
          "polar": {
           "angularaxis": {
            "gridcolor": "white",
            "linecolor": "white",
            "ticks": ""
           },
           "bgcolor": "#E5ECF6",
           "radialaxis": {
            "gridcolor": "white",
            "linecolor": "white",
            "ticks": ""
           }
          },
          "scene": {
           "xaxis": {
            "backgroundcolor": "#E5ECF6",
            "gridcolor": "white",
            "gridwidth": 2,
            "linecolor": "white",
            "showbackground": true,
            "ticks": "",
            "zerolinecolor": "white"
           },
           "yaxis": {
            "backgroundcolor": "#E5ECF6",
            "gridcolor": "white",
            "gridwidth": 2,
            "linecolor": "white",
            "showbackground": true,
            "ticks": "",
            "zerolinecolor": "white"
           },
           "zaxis": {
            "backgroundcolor": "#E5ECF6",
            "gridcolor": "white",
            "gridwidth": 2,
            "linecolor": "white",
            "showbackground": true,
            "ticks": "",
            "zerolinecolor": "white"
           }
          },
          "shapedefaults": {
           "line": {
            "color": "#2a3f5f"
           }
          },
          "ternary": {
           "aaxis": {
            "gridcolor": "white",
            "linecolor": "white",
            "ticks": ""
           },
           "baxis": {
            "gridcolor": "white",
            "linecolor": "white",
            "ticks": ""
           },
           "bgcolor": "#E5ECF6",
           "caxis": {
            "gridcolor": "white",
            "linecolor": "white",
            "ticks": ""
           }
          },
          "title": {
           "x": 0.05
          },
          "xaxis": {
           "automargin": true,
           "gridcolor": "white",
           "linecolor": "white",
           "ticks": "",
           "title": {
            "standoff": 15
           },
           "zerolinecolor": "white",
           "zerolinewidth": 2
          },
          "yaxis": {
           "automargin": true,
           "gridcolor": "white",
           "linecolor": "white",
           "ticks": "",
           "title": {
            "standoff": 15
           },
           "zerolinecolor": "white",
           "zerolinewidth": 2
          }
         }
        },
        "title": {
         "text": "Mean Normalized by Model vs Temperature — Puzzle JnzJN"
        },
        "xaxis": {
         "title": {
          "text": "Temperature"
         }
        },
        "yaxis": {
         "title": {
          "text": "Model"
         }
        }
       }
      }
     },
     "metadata": {},
     "output_type": "display_data"
    },
    {
     "data": {
      "application/vnd.plotly.v1+json": {
       "config": {
        "plotlyServerURL": "https://plot.ly"
       },
       "data": [
        {
         "colorbar": {
          "title": {
           "text": "Mean Normalized"
          }
         },
         "type": "heatmap",
         "x": [
          "0.0",
          "0.1",
          "0.2",
          "0.3",
          "0.4",
          "0.5",
          "0.6",
          "0.7",
          "0.8",
          "0.9",
          "1.0"
         ],
         "y": [
          "base_deepseek-deepseek-chat-v3.1",
          "base_openai-gpt-4.1-mini"
         ],
         "z": {
          "bdata": "AAAAAAAAAAAAAAAAAAAAAAAAAAAAAAAAAAAAAAAAAAAAAAAAAAAAAAAAAAAAAAAAAAAAAAAAAAAAAAAAAAAAAAAAAAAAAAAAAAAAAAAAAAAAAAAAAAAAAEkRGVbxRqY/HAOy17s/nj93FVJ+Uu3HP/D5YYTwaLM/n6ut2F92wz9YrUz4pX7KPw5Pr5RliLs/WkxsPq4N0z8KFoczv5qzPx7EzhQ6r8E/U8vW+iKhvT8=",
          "dtype": "f8",
          "shape": "2, 11"
         }
        }
       ],
       "layout": {
        "template": {
         "data": {
          "bar": [
           {
            "error_x": {
             "color": "#2a3f5f"
            },
            "error_y": {
             "color": "#2a3f5f"
            },
            "marker": {
             "line": {
              "color": "#E5ECF6",
              "width": 0.5
             },
             "pattern": {
              "fillmode": "overlay",
              "size": 10,
              "solidity": 0.2
             }
            },
            "type": "bar"
           }
          ],
          "barpolar": [
           {
            "marker": {
             "line": {
              "color": "#E5ECF6",
              "width": 0.5
             },
             "pattern": {
              "fillmode": "overlay",
              "size": 10,
              "solidity": 0.2
             }
            },
            "type": "barpolar"
           }
          ],
          "carpet": [
           {
            "aaxis": {
             "endlinecolor": "#2a3f5f",
             "gridcolor": "white",
             "linecolor": "white",
             "minorgridcolor": "white",
             "startlinecolor": "#2a3f5f"
            },
            "baxis": {
             "endlinecolor": "#2a3f5f",
             "gridcolor": "white",
             "linecolor": "white",
             "minorgridcolor": "white",
             "startlinecolor": "#2a3f5f"
            },
            "type": "carpet"
           }
          ],
          "choropleth": [
           {
            "colorbar": {
             "outlinewidth": 0,
             "ticks": ""
            },
            "type": "choropleth"
           }
          ],
          "contour": [
           {
            "colorbar": {
             "outlinewidth": 0,
             "ticks": ""
            },
            "colorscale": [
             [
              0,
              "#0d0887"
             ],
             [
              0.1111111111111111,
              "#46039f"
             ],
             [
              0.2222222222222222,
              "#7201a8"
             ],
             [
              0.3333333333333333,
              "#9c179e"
             ],
             [
              0.4444444444444444,
              "#bd3786"
             ],
             [
              0.5555555555555556,
              "#d8576b"
             ],
             [
              0.6666666666666666,
              "#ed7953"
             ],
             [
              0.7777777777777778,
              "#fb9f3a"
             ],
             [
              0.8888888888888888,
              "#fdca26"
             ],
             [
              1,
              "#f0f921"
             ]
            ],
            "type": "contour"
           }
          ],
          "contourcarpet": [
           {
            "colorbar": {
             "outlinewidth": 0,
             "ticks": ""
            },
            "type": "contourcarpet"
           }
          ],
          "heatmap": [
           {
            "colorbar": {
             "outlinewidth": 0,
             "ticks": ""
            },
            "colorscale": [
             [
              0,
              "#0d0887"
             ],
             [
              0.1111111111111111,
              "#46039f"
             ],
             [
              0.2222222222222222,
              "#7201a8"
             ],
             [
              0.3333333333333333,
              "#9c179e"
             ],
             [
              0.4444444444444444,
              "#bd3786"
             ],
             [
              0.5555555555555556,
              "#d8576b"
             ],
             [
              0.6666666666666666,
              "#ed7953"
             ],
             [
              0.7777777777777778,
              "#fb9f3a"
             ],
             [
              0.8888888888888888,
              "#fdca26"
             ],
             [
              1,
              "#f0f921"
             ]
            ],
            "type": "heatmap"
           }
          ],
          "histogram": [
           {
            "marker": {
             "pattern": {
              "fillmode": "overlay",
              "size": 10,
              "solidity": 0.2
             }
            },
            "type": "histogram"
           }
          ],
          "histogram2d": [
           {
            "colorbar": {
             "outlinewidth": 0,
             "ticks": ""
            },
            "colorscale": [
             [
              0,
              "#0d0887"
             ],
             [
              0.1111111111111111,
              "#46039f"
             ],
             [
              0.2222222222222222,
              "#7201a8"
             ],
             [
              0.3333333333333333,
              "#9c179e"
             ],
             [
              0.4444444444444444,
              "#bd3786"
             ],
             [
              0.5555555555555556,
              "#d8576b"
             ],
             [
              0.6666666666666666,
              "#ed7953"
             ],
             [
              0.7777777777777778,
              "#fb9f3a"
             ],
             [
              0.8888888888888888,
              "#fdca26"
             ],
             [
              1,
              "#f0f921"
             ]
            ],
            "type": "histogram2d"
           }
          ],
          "histogram2dcontour": [
           {
            "colorbar": {
             "outlinewidth": 0,
             "ticks": ""
            },
            "colorscale": [
             [
              0,
              "#0d0887"
             ],
             [
              0.1111111111111111,
              "#46039f"
             ],
             [
              0.2222222222222222,
              "#7201a8"
             ],
             [
              0.3333333333333333,
              "#9c179e"
             ],
             [
              0.4444444444444444,
              "#bd3786"
             ],
             [
              0.5555555555555556,
              "#d8576b"
             ],
             [
              0.6666666666666666,
              "#ed7953"
             ],
             [
              0.7777777777777778,
              "#fb9f3a"
             ],
             [
              0.8888888888888888,
              "#fdca26"
             ],
             [
              1,
              "#f0f921"
             ]
            ],
            "type": "histogram2dcontour"
           }
          ],
          "mesh3d": [
           {
            "colorbar": {
             "outlinewidth": 0,
             "ticks": ""
            },
            "type": "mesh3d"
           }
          ],
          "parcoords": [
           {
            "line": {
             "colorbar": {
              "outlinewidth": 0,
              "ticks": ""
             }
            },
            "type": "parcoords"
           }
          ],
          "pie": [
           {
            "automargin": true,
            "type": "pie"
           }
          ],
          "scatter": [
           {
            "fillpattern": {
             "fillmode": "overlay",
             "size": 10,
             "solidity": 0.2
            },
            "type": "scatter"
           }
          ],
          "scatter3d": [
           {
            "line": {
             "colorbar": {
              "outlinewidth": 0,
              "ticks": ""
             }
            },
            "marker": {
             "colorbar": {
              "outlinewidth": 0,
              "ticks": ""
             }
            },
            "type": "scatter3d"
           }
          ],
          "scattercarpet": [
           {
            "marker": {
             "colorbar": {
              "outlinewidth": 0,
              "ticks": ""
             }
            },
            "type": "scattercarpet"
           }
          ],
          "scattergeo": [
           {
            "marker": {
             "colorbar": {
              "outlinewidth": 0,
              "ticks": ""
             }
            },
            "type": "scattergeo"
           }
          ],
          "scattergl": [
           {
            "marker": {
             "colorbar": {
              "outlinewidth": 0,
              "ticks": ""
             }
            },
            "type": "scattergl"
           }
          ],
          "scattermap": [
           {
            "marker": {
             "colorbar": {
              "outlinewidth": 0,
              "ticks": ""
             }
            },
            "type": "scattermap"
           }
          ],
          "scattermapbox": [
           {
            "marker": {
             "colorbar": {
              "outlinewidth": 0,
              "ticks": ""
             }
            },
            "type": "scattermapbox"
           }
          ],
          "scatterpolar": [
           {
            "marker": {
             "colorbar": {
              "outlinewidth": 0,
              "ticks": ""
             }
            },
            "type": "scatterpolar"
           }
          ],
          "scatterpolargl": [
           {
            "marker": {
             "colorbar": {
              "outlinewidth": 0,
              "ticks": ""
             }
            },
            "type": "scatterpolargl"
           }
          ],
          "scatterternary": [
           {
            "marker": {
             "colorbar": {
              "outlinewidth": 0,
              "ticks": ""
             }
            },
            "type": "scatterternary"
           }
          ],
          "surface": [
           {
            "colorbar": {
             "outlinewidth": 0,
             "ticks": ""
            },
            "colorscale": [
             [
              0,
              "#0d0887"
             ],
             [
              0.1111111111111111,
              "#46039f"
             ],
             [
              0.2222222222222222,
              "#7201a8"
             ],
             [
              0.3333333333333333,
              "#9c179e"
             ],
             [
              0.4444444444444444,
              "#bd3786"
             ],
             [
              0.5555555555555556,
              "#d8576b"
             ],
             [
              0.6666666666666666,
              "#ed7953"
             ],
             [
              0.7777777777777778,
              "#fb9f3a"
             ],
             [
              0.8888888888888888,
              "#fdca26"
             ],
             [
              1,
              "#f0f921"
             ]
            ],
            "type": "surface"
           }
          ],
          "table": [
           {
            "cells": {
             "fill": {
              "color": "#EBF0F8"
             },
             "line": {
              "color": "white"
             }
            },
            "header": {
             "fill": {
              "color": "#C8D4E3"
             },
             "line": {
              "color": "white"
             }
            },
            "type": "table"
           }
          ]
         },
         "layout": {
          "annotationdefaults": {
           "arrowcolor": "#2a3f5f",
           "arrowhead": 0,
           "arrowwidth": 1
          },
          "autotypenumbers": "strict",
          "coloraxis": {
           "colorbar": {
            "outlinewidth": 0,
            "ticks": ""
           }
          },
          "colorscale": {
           "diverging": [
            [
             0,
             "#8e0152"
            ],
            [
             0.1,
             "#c51b7d"
            ],
            [
             0.2,
             "#de77ae"
            ],
            [
             0.3,
             "#f1b6da"
            ],
            [
             0.4,
             "#fde0ef"
            ],
            [
             0.5,
             "#f7f7f7"
            ],
            [
             0.6,
             "#e6f5d0"
            ],
            [
             0.7,
             "#b8e186"
            ],
            [
             0.8,
             "#7fbc41"
            ],
            [
             0.9,
             "#4d9221"
            ],
            [
             1,
             "#276419"
            ]
           ],
           "sequential": [
            [
             0,
             "#0d0887"
            ],
            [
             0.1111111111111111,
             "#46039f"
            ],
            [
             0.2222222222222222,
             "#7201a8"
            ],
            [
             0.3333333333333333,
             "#9c179e"
            ],
            [
             0.4444444444444444,
             "#bd3786"
            ],
            [
             0.5555555555555556,
             "#d8576b"
            ],
            [
             0.6666666666666666,
             "#ed7953"
            ],
            [
             0.7777777777777778,
             "#fb9f3a"
            ],
            [
             0.8888888888888888,
             "#fdca26"
            ],
            [
             1,
             "#f0f921"
            ]
           ],
           "sequentialminus": [
            [
             0,
             "#0d0887"
            ],
            [
             0.1111111111111111,
             "#46039f"
            ],
            [
             0.2222222222222222,
             "#7201a8"
            ],
            [
             0.3333333333333333,
             "#9c179e"
            ],
            [
             0.4444444444444444,
             "#bd3786"
            ],
            [
             0.5555555555555556,
             "#d8576b"
            ],
            [
             0.6666666666666666,
             "#ed7953"
            ],
            [
             0.7777777777777778,
             "#fb9f3a"
            ],
            [
             0.8888888888888888,
             "#fdca26"
            ],
            [
             1,
             "#f0f921"
            ]
           ]
          },
          "colorway": [
           "#636efa",
           "#EF553B",
           "#00cc96",
           "#ab63fa",
           "#FFA15A",
           "#19d3f3",
           "#FF6692",
           "#B6E880",
           "#FF97FF",
           "#FECB52"
          ],
          "font": {
           "color": "#2a3f5f"
          },
          "geo": {
           "bgcolor": "white",
           "lakecolor": "white",
           "landcolor": "#E5ECF6",
           "showlakes": true,
           "showland": true,
           "subunitcolor": "white"
          },
          "hoverlabel": {
           "align": "left"
          },
          "hovermode": "closest",
          "mapbox": {
           "style": "light"
          },
          "paper_bgcolor": "white",
          "plot_bgcolor": "#E5ECF6",
          "polar": {
           "angularaxis": {
            "gridcolor": "white",
            "linecolor": "white",
            "ticks": ""
           },
           "bgcolor": "#E5ECF6",
           "radialaxis": {
            "gridcolor": "white",
            "linecolor": "white",
            "ticks": ""
           }
          },
          "scene": {
           "xaxis": {
            "backgroundcolor": "#E5ECF6",
            "gridcolor": "white",
            "gridwidth": 2,
            "linecolor": "white",
            "showbackground": true,
            "ticks": "",
            "zerolinecolor": "white"
           },
           "yaxis": {
            "backgroundcolor": "#E5ECF6",
            "gridcolor": "white",
            "gridwidth": 2,
            "linecolor": "white",
            "showbackground": true,
            "ticks": "",
            "zerolinecolor": "white"
           },
           "zaxis": {
            "backgroundcolor": "#E5ECF6",
            "gridcolor": "white",
            "gridwidth": 2,
            "linecolor": "white",
            "showbackground": true,
            "ticks": "",
            "zerolinecolor": "white"
           }
          },
          "shapedefaults": {
           "line": {
            "color": "#2a3f5f"
           }
          },
          "ternary": {
           "aaxis": {
            "gridcolor": "white",
            "linecolor": "white",
            "ticks": ""
           },
           "baxis": {
            "gridcolor": "white",
            "linecolor": "white",
            "ticks": ""
           },
           "bgcolor": "#E5ECF6",
           "caxis": {
            "gridcolor": "white",
            "linecolor": "white",
            "ticks": ""
           }
          },
          "title": {
           "x": 0.05
          },
          "xaxis": {
           "automargin": true,
           "gridcolor": "white",
           "linecolor": "white",
           "ticks": "",
           "title": {
            "standoff": 15
           },
           "zerolinecolor": "white",
           "zerolinewidth": 2
          },
          "yaxis": {
           "automargin": true,
           "gridcolor": "white",
           "linecolor": "white",
           "ticks": "",
           "title": {
            "standoff": 15
           },
           "zerolinecolor": "white",
           "zerolinewidth": 2
          }
         }
        },
        "title": {
         "text": "Mean Normalized by Model vs Temperature — Puzzle Om0Kx"
        },
        "xaxis": {
         "title": {
          "text": "Temperature"
         }
        },
        "yaxis": {
         "title": {
          "text": "Model"
         }
        }
       }
      }
     },
     "metadata": {},
     "output_type": "display_data"
    },
    {
     "data": {
      "application/vnd.plotly.v1+json": {
       "config": {
        "plotlyServerURL": "https://plot.ly"
       },
       "data": [
        {
         "alignmentgroup": "True",
         "error_y": {
          "array": {
           "bdata": "pQS0LTrXyz/lzQtJBPzXPw==",
           "dtype": "f8"
          }
         },
         "hovertemplate": "Temperature_str=0.0<br>Model_full=%{x}<br>mean=%{y}<extra></extra>",
         "legendgroup": "0.0",
         "marker": {
          "color": "#636efa",
          "pattern": {
           "shape": ""
          }
         },
         "name": "0.0",
         "offsetgroup": "0.0",
         "orientation": "v",
         "showlegend": true,
         "textposition": "auto",
         "type": "bar",
         "x": [
          "base_deepseek-deepseek-chat-v3.1",
          "base_openai-gpt-4.1-mini"
         ],
         "xaxis": "x",
         "y": {
          "bdata": "espqup7oxD/DvMeZJmzgPw==",
          "dtype": "f8"
         },
         "yaxis": "y"
        },
        {
         "alignmentgroup": "True",
         "error_y": {
          "array": {
           "bdata": "cjpR3F06zj/GtUW35PjXPw==",
           "dtype": "f8"
          }
         },
         "hovertemplate": "Temperature_str=0.1<br>Model_full=%{x}<br>mean=%{y}<extra></extra>",
         "legendgroup": "0.1",
         "marker": {
          "color": "#EF553B",
          "pattern": {
           "shape": ""
          }
         },
         "name": "0.1",
         "offsetgroup": "0.1",
         "orientation": "v",
         "showlegend": true,
         "textposition": "auto",
         "type": "bar",
         "x": [
          "base_deepseek-deepseek-chat-v3.1",
          "base_openai-gpt-4.1-mini"
         ],
         "xaxis": "x",
         "y": {
          "bdata": "iXssfeiCxj/bMXVXdkHgPw==",
          "dtype": "f8"
         },
         "yaxis": "y"
        },
        {
         "alignmentgroup": "True",
         "error_y": {
          "array": {
           "bdata": "0hPwOH1gzT/ejtlTzfrXPw==",
           "dtype": "f8"
          }
         },
         "hovertemplate": "Temperature_str=0.2<br>Model_full=%{x}<br>mean=%{y}<extra></extra>",
         "legendgroup": "0.2",
         "marker": {
          "color": "#00cc96",
          "pattern": {
           "shape": ""
          }
         },
         "name": "0.2",
         "offsetgroup": "0.2",
         "orientation": "v",
         "showlegend": true,
         "textposition": "auto",
         "type": "bar",
         "x": [
          "base_deepseek-deepseek-chat-v3.1",
          "base_openai-gpt-4.1-mini"
         ],
         "xaxis": "x",
         "y": {
          "bdata": "vJF55A8Gxj/DaFa2D3ngPw==",
          "dtype": "f8"
         },
         "yaxis": "y"
        },
        {
         "alignmentgroup": "True",
         "error_y": {
          "array": {
           "bdata": "Fv9lwczHzT9Gvv3C/A/YPw==",
           "dtype": "f8"
          }
         },
         "hovertemplate": "Temperature_str=0.3<br>Model_full=%{x}<br>mean=%{y}<extra></extra>",
         "legendgroup": "0.3",
         "marker": {
          "color": "#ab63fa",
          "pattern": {
           "shape": ""
          }
         },
         "name": "0.3",
         "offsetgroup": "0.3",
         "orientation": "v",
         "showlegend": true,
         "textposition": "auto",
         "type": "bar",
         "x": [
          "base_deepseek-deepseek-chat-v3.1",
          "base_openai-gpt-4.1-mini"
         ],
         "xaxis": "x",
         "y": {
          "bdata": "DoRkARO4xT/X+Ez2z9PfPw==",
          "dtype": "f8"
         },
         "yaxis": "y"
        },
        {
         "alignmentgroup": "True",
         "error_y": {
          "array": {
           "bdata": "lR9p7LsEzj9lidXuK/vXPw==",
           "dtype": "f8"
          }
         },
         "hovertemplate": "Temperature_str=0.4<br>Model_full=%{x}<br>mean=%{y}<extra></extra>",
         "legendgroup": "0.4",
         "marker": {
          "color": "#FFA15A",
          "pattern": {
           "shape": ""
          }
         },
         "name": "0.4",
         "offsetgroup": "0.4",
         "orientation": "v",
         "showlegend": true,
         "textposition": "auto",
         "type": "bar",
         "x": [
          "base_deepseek-deepseek-chat-v3.1",
          "base_openai-gpt-4.1-mini"
         ],
         "xaxis": "x",
         "y": {
          "bdata": "lDE+zF62xT8QBp57DxfgPw==",
          "dtype": "f8"
         },
         "yaxis": "y"
        },
        {
         "alignmentgroup": "True",
         "error_y": {
          "array": {
           "bdata": "xJjk65BPzT+Um47E+KrXPw==",
           "dtype": "f8"
          }
         },
         "hovertemplate": "Temperature_str=0.5<br>Model_full=%{x}<br>mean=%{y}<extra></extra>",
         "legendgroup": "0.5",
         "marker": {
          "color": "#19d3f3",
          "pattern": {
           "shape": ""
          }
         },
         "name": "0.5",
         "offsetgroup": "0.5",
         "orientation": "v",
         "showlegend": true,
         "textposition": "auto",
         "type": "bar",
         "x": [
          "base_deepseek-deepseek-chat-v3.1",
          "base_openai-gpt-4.1-mini"
         ],
         "xaxis": "x",
         "y": {
          "bdata": "B0KygAncxD/PM/YlG4/gPw==",
          "dtype": "f8"
         },
         "yaxis": "y"
        },
        {
         "alignmentgroup": "True",
         "error_y": {
          "array": {
           "bdata": "UJlJh8/PzT/RUo0FUlnYPw==",
           "dtype": "f8"
          }
         },
         "hovertemplate": "Temperature_str=0.6<br>Model_full=%{x}<br>mean=%{y}<extra></extra>",
         "legendgroup": "0.6",
         "marker": {
          "color": "#FF6692",
          "pattern": {
           "shape": ""
          }
         },
         "name": "0.6",
         "offsetgroup": "0.6",
         "orientation": "v",
         "showlegend": true,
         "textposition": "auto",
         "type": "bar",
         "x": [
          "base_deepseek-deepseek-chat-v3.1",
          "base_openai-gpt-4.1-mini"
         ],
         "xaxis": "x",
         "y": {
          "bdata": "qfi/IypUxT9kyLH1DOHfPw==",
          "dtype": "f8"
         },
         "yaxis": "y"
        },
        {
         "alignmentgroup": "True",
         "error_y": {
          "array": {
           "bdata": "DOxQDNLYzT+8DpJgUgjYPw==",
           "dtype": "f8"
          }
         },
         "hovertemplate": "Temperature_str=0.7<br>Model_full=%{x}<br>mean=%{y}<extra></extra>",
         "legendgroup": "0.7",
         "marker": {
          "color": "#B6E880",
          "pattern": {
           "shape": ""
          }
         },
         "name": "0.7",
         "offsetgroup": "0.7",
         "orientation": "v",
         "showlegend": true,
         "textposition": "auto",
         "type": "bar",
         "x": [
          "base_deepseek-deepseek-chat-v3.1",
          "base_openai-gpt-4.1-mini"
         ],
         "xaxis": "x",
         "y": {
          "bdata": "URiUaTS5xD+P+usVFlzgPw==",
          "dtype": "f8"
         },
         "yaxis": "y"
        },
        {
         "alignmentgroup": "True",
         "error_y": {
          "array": {
           "bdata": "mf1VwocJzT/7tmvSa3rYPw==",
           "dtype": "f8"
          }
         },
         "hovertemplate": "Temperature_str=0.8<br>Model_full=%{x}<br>mean=%{y}<extra></extra>",
         "legendgroup": "0.8",
         "marker": {
          "color": "#FF97FF",
          "pattern": {
           "shape": ""
          }
         },
         "name": "0.8",
         "offsetgroup": "0.8",
         "orientation": "v",
         "showlegend": true,
         "textposition": "auto",
         "type": "bar",
         "x": [
          "base_deepseek-deepseek-chat-v3.1",
          "base_openai-gpt-4.1-mini"
         ],
         "xaxis": "x",
         "y": {
          "bdata": "7Kf/rPnxwz+SHoZWJ2ffPw==",
          "dtype": "f8"
         },
         "yaxis": "y"
        },
        {
         "alignmentgroup": "True",
         "error_y": {
          "array": {
           "bdata": "SCP898PUzD/3MlFWIQvYPw==",
           "dtype": "f8"
          }
         },
         "hovertemplate": "Temperature_str=0.9<br>Model_full=%{x}<br>mean=%{y}<extra></extra>",
         "legendgroup": "0.9",
         "marker": {
          "color": "#FECB52",
          "pattern": {
           "shape": ""
          }
         },
         "name": "0.9",
         "offsetgroup": "0.9",
         "orientation": "v",
         "showlegend": true,
         "textposition": "auto",
         "type": "bar",
         "x": [
          "base_deepseek-deepseek-chat-v3.1",
          "base_openai-gpt-4.1-mini"
         ],
         "xaxis": "x",
         "y": {
          "bdata": "B+xq8pTVxD8zh6QWSibgPw==",
          "dtype": "f8"
         },
         "yaxis": "y"
        },
        {
         "alignmentgroup": "True",
         "error_y": {
          "array": {
           "bdata": "THB0xiG7zT9jwAaYPSnYPw==",
           "dtype": "f8"
          }
         },
         "hovertemplate": "Temperature_str=1.0<br>Model_full=%{x}<br>mean=%{y}<extra></extra>",
         "legendgroup": "1.0",
         "marker": {
          "color": "#636efa",
          "pattern": {
           "shape": ""
          }
         },
         "name": "1.0",
         "offsetgroup": "1.0",
         "orientation": "v",
         "showlegend": true,
         "textposition": "auto",
         "type": "bar",
         "x": [
          "base_deepseek-deepseek-chat-v3.1",
          "base_openai-gpt-4.1-mini"
         ],
         "xaxis": "x",
         "y": {
          "bdata": "JUOOrWcIxT8Eq+rldxrgPw==",
          "dtype": "f8"
         },
         "yaxis": "y"
        }
       ],
       "layout": {
        "barmode": "group",
        "legend": {
         "title": {
          "text": "Temperature_str"
         },
         "tracegroupgap": 0
        },
        "template": {
         "data": {
          "bar": [
           {
            "error_x": {
             "color": "#2a3f5f"
            },
            "error_y": {
             "color": "#2a3f5f"
            },
            "marker": {
             "line": {
              "color": "#E5ECF6",
              "width": 0.5
             },
             "pattern": {
              "fillmode": "overlay",
              "size": 10,
              "solidity": 0.2
             }
            },
            "type": "bar"
           }
          ],
          "barpolar": [
           {
            "marker": {
             "line": {
              "color": "#E5ECF6",
              "width": 0.5
             },
             "pattern": {
              "fillmode": "overlay",
              "size": 10,
              "solidity": 0.2
             }
            },
            "type": "barpolar"
           }
          ],
          "carpet": [
           {
            "aaxis": {
             "endlinecolor": "#2a3f5f",
             "gridcolor": "white",
             "linecolor": "white",
             "minorgridcolor": "white",
             "startlinecolor": "#2a3f5f"
            },
            "baxis": {
             "endlinecolor": "#2a3f5f",
             "gridcolor": "white",
             "linecolor": "white",
             "minorgridcolor": "white",
             "startlinecolor": "#2a3f5f"
            },
            "type": "carpet"
           }
          ],
          "choropleth": [
           {
            "colorbar": {
             "outlinewidth": 0,
             "ticks": ""
            },
            "type": "choropleth"
           }
          ],
          "contour": [
           {
            "colorbar": {
             "outlinewidth": 0,
             "ticks": ""
            },
            "colorscale": [
             [
              0,
              "#0d0887"
             ],
             [
              0.1111111111111111,
              "#46039f"
             ],
             [
              0.2222222222222222,
              "#7201a8"
             ],
             [
              0.3333333333333333,
              "#9c179e"
             ],
             [
              0.4444444444444444,
              "#bd3786"
             ],
             [
              0.5555555555555556,
              "#d8576b"
             ],
             [
              0.6666666666666666,
              "#ed7953"
             ],
             [
              0.7777777777777778,
              "#fb9f3a"
             ],
             [
              0.8888888888888888,
              "#fdca26"
             ],
             [
              1,
              "#f0f921"
             ]
            ],
            "type": "contour"
           }
          ],
          "contourcarpet": [
           {
            "colorbar": {
             "outlinewidth": 0,
             "ticks": ""
            },
            "type": "contourcarpet"
           }
          ],
          "heatmap": [
           {
            "colorbar": {
             "outlinewidth": 0,
             "ticks": ""
            },
            "colorscale": [
             [
              0,
              "#0d0887"
             ],
             [
              0.1111111111111111,
              "#46039f"
             ],
             [
              0.2222222222222222,
              "#7201a8"
             ],
             [
              0.3333333333333333,
              "#9c179e"
             ],
             [
              0.4444444444444444,
              "#bd3786"
             ],
             [
              0.5555555555555556,
              "#d8576b"
             ],
             [
              0.6666666666666666,
              "#ed7953"
             ],
             [
              0.7777777777777778,
              "#fb9f3a"
             ],
             [
              0.8888888888888888,
              "#fdca26"
             ],
             [
              1,
              "#f0f921"
             ]
            ],
            "type": "heatmap"
           }
          ],
          "histogram": [
           {
            "marker": {
             "pattern": {
              "fillmode": "overlay",
              "size": 10,
              "solidity": 0.2
             }
            },
            "type": "histogram"
           }
          ],
          "histogram2d": [
           {
            "colorbar": {
             "outlinewidth": 0,
             "ticks": ""
            },
            "colorscale": [
             [
              0,
              "#0d0887"
             ],
             [
              0.1111111111111111,
              "#46039f"
             ],
             [
              0.2222222222222222,
              "#7201a8"
             ],
             [
              0.3333333333333333,
              "#9c179e"
             ],
             [
              0.4444444444444444,
              "#bd3786"
             ],
             [
              0.5555555555555556,
              "#d8576b"
             ],
             [
              0.6666666666666666,
              "#ed7953"
             ],
             [
              0.7777777777777778,
              "#fb9f3a"
             ],
             [
              0.8888888888888888,
              "#fdca26"
             ],
             [
              1,
              "#f0f921"
             ]
            ],
            "type": "histogram2d"
           }
          ],
          "histogram2dcontour": [
           {
            "colorbar": {
             "outlinewidth": 0,
             "ticks": ""
            },
            "colorscale": [
             [
              0,
              "#0d0887"
             ],
             [
              0.1111111111111111,
              "#46039f"
             ],
             [
              0.2222222222222222,
              "#7201a8"
             ],
             [
              0.3333333333333333,
              "#9c179e"
             ],
             [
              0.4444444444444444,
              "#bd3786"
             ],
             [
              0.5555555555555556,
              "#d8576b"
             ],
             [
              0.6666666666666666,
              "#ed7953"
             ],
             [
              0.7777777777777778,
              "#fb9f3a"
             ],
             [
              0.8888888888888888,
              "#fdca26"
             ],
             [
              1,
              "#f0f921"
             ]
            ],
            "type": "histogram2dcontour"
           }
          ],
          "mesh3d": [
           {
            "colorbar": {
             "outlinewidth": 0,
             "ticks": ""
            },
            "type": "mesh3d"
           }
          ],
          "parcoords": [
           {
            "line": {
             "colorbar": {
              "outlinewidth": 0,
              "ticks": ""
             }
            },
            "type": "parcoords"
           }
          ],
          "pie": [
           {
            "automargin": true,
            "type": "pie"
           }
          ],
          "scatter": [
           {
            "fillpattern": {
             "fillmode": "overlay",
             "size": 10,
             "solidity": 0.2
            },
            "type": "scatter"
           }
          ],
          "scatter3d": [
           {
            "line": {
             "colorbar": {
              "outlinewidth": 0,
              "ticks": ""
             }
            },
            "marker": {
             "colorbar": {
              "outlinewidth": 0,
              "ticks": ""
             }
            },
            "type": "scatter3d"
           }
          ],
          "scattercarpet": [
           {
            "marker": {
             "colorbar": {
              "outlinewidth": 0,
              "ticks": ""
             }
            },
            "type": "scattercarpet"
           }
          ],
          "scattergeo": [
           {
            "marker": {
             "colorbar": {
              "outlinewidth": 0,
              "ticks": ""
             }
            },
            "type": "scattergeo"
           }
          ],
          "scattergl": [
           {
            "marker": {
             "colorbar": {
              "outlinewidth": 0,
              "ticks": ""
             }
            },
            "type": "scattergl"
           }
          ],
          "scattermap": [
           {
            "marker": {
             "colorbar": {
              "outlinewidth": 0,
              "ticks": ""
             }
            },
            "type": "scattermap"
           }
          ],
          "scattermapbox": [
           {
            "marker": {
             "colorbar": {
              "outlinewidth": 0,
              "ticks": ""
             }
            },
            "type": "scattermapbox"
           }
          ],
          "scatterpolar": [
           {
            "marker": {
             "colorbar": {
              "outlinewidth": 0,
              "ticks": ""
             }
            },
            "type": "scatterpolar"
           }
          ],
          "scatterpolargl": [
           {
            "marker": {
             "colorbar": {
              "outlinewidth": 0,
              "ticks": ""
             }
            },
            "type": "scatterpolargl"
           }
          ],
          "scatterternary": [
           {
            "marker": {
             "colorbar": {
              "outlinewidth": 0,
              "ticks": ""
             }
            },
            "type": "scatterternary"
           }
          ],
          "surface": [
           {
            "colorbar": {
             "outlinewidth": 0,
             "ticks": ""
            },
            "colorscale": [
             [
              0,
              "#0d0887"
             ],
             [
              0.1111111111111111,
              "#46039f"
             ],
             [
              0.2222222222222222,
              "#7201a8"
             ],
             [
              0.3333333333333333,
              "#9c179e"
             ],
             [
              0.4444444444444444,
              "#bd3786"
             ],
             [
              0.5555555555555556,
              "#d8576b"
             ],
             [
              0.6666666666666666,
              "#ed7953"
             ],
             [
              0.7777777777777778,
              "#fb9f3a"
             ],
             [
              0.8888888888888888,
              "#fdca26"
             ],
             [
              1,
              "#f0f921"
             ]
            ],
            "type": "surface"
           }
          ],
          "table": [
           {
            "cells": {
             "fill": {
              "color": "#EBF0F8"
             },
             "line": {
              "color": "white"
             }
            },
            "header": {
             "fill": {
              "color": "#C8D4E3"
             },
             "line": {
              "color": "white"
             }
            },
            "type": "table"
           }
          ]
         },
         "layout": {
          "annotationdefaults": {
           "arrowcolor": "#2a3f5f",
           "arrowhead": 0,
           "arrowwidth": 1
          },
          "autotypenumbers": "strict",
          "coloraxis": {
           "colorbar": {
            "outlinewidth": 0,
            "ticks": ""
           }
          },
          "colorscale": {
           "diverging": [
            [
             0,
             "#8e0152"
            ],
            [
             0.1,
             "#c51b7d"
            ],
            [
             0.2,
             "#de77ae"
            ],
            [
             0.3,
             "#f1b6da"
            ],
            [
             0.4,
             "#fde0ef"
            ],
            [
             0.5,
             "#f7f7f7"
            ],
            [
             0.6,
             "#e6f5d0"
            ],
            [
             0.7,
             "#b8e186"
            ],
            [
             0.8,
             "#7fbc41"
            ],
            [
             0.9,
             "#4d9221"
            ],
            [
             1,
             "#276419"
            ]
           ],
           "sequential": [
            [
             0,
             "#0d0887"
            ],
            [
             0.1111111111111111,
             "#46039f"
            ],
            [
             0.2222222222222222,
             "#7201a8"
            ],
            [
             0.3333333333333333,
             "#9c179e"
            ],
            [
             0.4444444444444444,
             "#bd3786"
            ],
            [
             0.5555555555555556,
             "#d8576b"
            ],
            [
             0.6666666666666666,
             "#ed7953"
            ],
            [
             0.7777777777777778,
             "#fb9f3a"
            ],
            [
             0.8888888888888888,
             "#fdca26"
            ],
            [
             1,
             "#f0f921"
            ]
           ],
           "sequentialminus": [
            [
             0,
             "#0d0887"
            ],
            [
             0.1111111111111111,
             "#46039f"
            ],
            [
             0.2222222222222222,
             "#7201a8"
            ],
            [
             0.3333333333333333,
             "#9c179e"
            ],
            [
             0.4444444444444444,
             "#bd3786"
            ],
            [
             0.5555555555555556,
             "#d8576b"
            ],
            [
             0.6666666666666666,
             "#ed7953"
            ],
            [
             0.7777777777777778,
             "#fb9f3a"
            ],
            [
             0.8888888888888888,
             "#fdca26"
            ],
            [
             1,
             "#f0f921"
            ]
           ]
          },
          "colorway": [
           "#636efa",
           "#EF553B",
           "#00cc96",
           "#ab63fa",
           "#FFA15A",
           "#19d3f3",
           "#FF6692",
           "#B6E880",
           "#FF97FF",
           "#FECB52"
          ],
          "font": {
           "color": "#2a3f5f"
          },
          "geo": {
           "bgcolor": "white",
           "lakecolor": "white",
           "landcolor": "#E5ECF6",
           "showlakes": true,
           "showland": true,
           "subunitcolor": "white"
          },
          "hoverlabel": {
           "align": "left"
          },
          "hovermode": "closest",
          "mapbox": {
           "style": "light"
          },
          "paper_bgcolor": "white",
          "plot_bgcolor": "#E5ECF6",
          "polar": {
           "angularaxis": {
            "gridcolor": "white",
            "linecolor": "white",
            "ticks": ""
           },
           "bgcolor": "#E5ECF6",
           "radialaxis": {
            "gridcolor": "white",
            "linecolor": "white",
            "ticks": ""
           }
          },
          "scene": {
           "xaxis": {
            "backgroundcolor": "#E5ECF6",
            "gridcolor": "white",
            "gridwidth": 2,
            "linecolor": "white",
            "showbackground": true,
            "ticks": "",
            "zerolinecolor": "white"
           },
           "yaxis": {
            "backgroundcolor": "#E5ECF6",
            "gridcolor": "white",
            "gridwidth": 2,
            "linecolor": "white",
            "showbackground": true,
            "ticks": "",
            "zerolinecolor": "white"
           },
           "zaxis": {
            "backgroundcolor": "#E5ECF6",
            "gridcolor": "white",
            "gridwidth": 2,
            "linecolor": "white",
            "showbackground": true,
            "ticks": "",
            "zerolinecolor": "white"
           }
          },
          "shapedefaults": {
           "line": {
            "color": "#2a3f5f"
           }
          },
          "ternary": {
           "aaxis": {
            "gridcolor": "white",
            "linecolor": "white",
            "ticks": ""
           },
           "baxis": {
            "gridcolor": "white",
            "linecolor": "white",
            "ticks": ""
           },
           "bgcolor": "#E5ECF6",
           "caxis": {
            "gridcolor": "white",
            "linecolor": "white",
            "ticks": ""
           }
          },
          "title": {
           "x": 0.05
          },
          "xaxis": {
           "automargin": true,
           "gridcolor": "white",
           "linecolor": "white",
           "ticks": "",
           "title": {
            "standoff": 15
           },
           "zerolinecolor": "white",
           "zerolinewidth": 2
          },
          "yaxis": {
           "automargin": true,
           "gridcolor": "white",
           "linecolor": "white",
           "ticks": "",
           "title": {
            "standoff": 15
           },
           "zerolinecolor": "white",
           "zerolinewidth": 2
          }
         }
        },
        "title": {
         "text": "Mean Normalized per Model (grouped by Temperature) — aggregated across puzzles"
        },
        "xaxis": {
         "anchor": "y",
         "domain": [
          0,
          1
         ],
         "title": {
          "text": "Model_full"
         }
        },
        "yaxis": {
         "anchor": "x",
         "domain": [
          0,
          1
         ],
         "title": {
          "text": "mean"
         }
        }
       }
      }
     },
     "metadata": {},
     "output_type": "display_data"
    }
   ],
   "source": [
    "\n",
    "def plot_heatmaps_per_puzzle(df):\n",
    "    outputs = {}\n",
    "    for pid in df['PuzzleID'].unique():\n",
    "        agg = df[df['PuzzleID']==pid].groupby(\n",
    "            ['Model_full','Temperature']\n",
    "        ).agg(mean_norm=('Normalized','mean')).reset_index()\n",
    "        if agg.empty:\n",
    "            continue\n",
    "        pivot = agg.pivot(index='Model_full', columns='Temperature', values='mean_norm')\n",
    "        fig = go.Figure(data=go.Heatmap(\n",
    "            z=pivot.values, \n",
    "            x=[str(c) for c in pivot.columns], \n",
    "            y=pivot.index.tolist(),\n",
    "            colorbar=dict(title=\"Mean Normalized\")\n",
    "        ))\n",
    "        fig.update_layout(\n",
    "            title=f\"Mean Normalized by Model vs Temperature — Puzzle {pid}\", \n",
    "            xaxis_title=\"Temperature\", \n",
    "            yaxis_title=\"Model\"\n",
    "        )\n",
    "        outputs[pid] = fig\n",
    "    return outputs\n",
    "\n",
    "def plot_grouped_bar(df):\n",
    "    agg = df.groupby(['Model_full','Temperature']).Normalized.agg(['mean','std','count']).reset_index()\n",
    "    agg['Temperature_str'] = agg['Temperature'].astype(str)\n",
    "    fig = px.bar(\n",
    "        agg, x='Model_full', y='mean', color='Temperature_str', barmode='group',\n",
    "        error_y='std',\n",
    "        title=\"Mean Normalized per Model (grouped by Temperature) — aggregated across puzzles\"\n",
    "    )\n",
    "    return fig\n",
    "\n",
    "# Example usage:\n",
    "heatmaps = plot_heatmaps_per_puzzle(df)\n",
    "for pid, fig in heatmaps.items():\n",
    "    fig.show()\n",
    "\n",
    "fig_bar = plot_grouped_bar(df)\n",
    "fig_bar.show()"
   ]
  },
  {
   "cell_type": "code",
   "execution_count": 127,
   "id": "e904f35f",
   "metadata": {},
   "outputs": [
    {
     "data": {
      "application/vnd.plotly.v1+json": {
       "config": {
        "plotlyServerURL": "https://plot.ly"
       },
       "data": [
        {
         "hovertemplate": "model=%{x}<br>Illegal Moves (%)=%{text}<extra></extra>",
         "legendgroup": "",
         "marker": {
          "color": "#636efa",
          "pattern": {
           "shape": ""
          }
         },
         "name": "",
         "orientation": "v",
         "showlegend": false,
         "text": {
          "bdata": "SpCnBHkKTUDkKUGeEmQ5QA==",
          "dtype": "f8"
         },
         "textposition": "outside",
         "texttemplate": "%{text:.2f}%",
         "type": "bar",
         "x": [
          "deepseek-deepseek-chat-v3.1",
          "openai-gpt-4.1-mini"
         ],
         "xaxis": "x",
         "y": {
          "bdata": "SpCnBHkKTUDkKUGeEmQ5QA==",
          "dtype": "f8"
         },
         "yaxis": "y"
        }
       ],
       "layout": {
        "barmode": "relative",
        "legend": {
         "tracegroupgap": 0
        },
        "template": {
         "data": {
          "bar": [
           {
            "error_x": {
             "color": "#2a3f5f"
            },
            "error_y": {
             "color": "#2a3f5f"
            },
            "marker": {
             "line": {
              "color": "#E5ECF6",
              "width": 0.5
             },
             "pattern": {
              "fillmode": "overlay",
              "size": 10,
              "solidity": 0.2
             }
            },
            "type": "bar"
           }
          ],
          "barpolar": [
           {
            "marker": {
             "line": {
              "color": "#E5ECF6",
              "width": 0.5
             },
             "pattern": {
              "fillmode": "overlay",
              "size": 10,
              "solidity": 0.2
             }
            },
            "type": "barpolar"
           }
          ],
          "carpet": [
           {
            "aaxis": {
             "endlinecolor": "#2a3f5f",
             "gridcolor": "white",
             "linecolor": "white",
             "minorgridcolor": "white",
             "startlinecolor": "#2a3f5f"
            },
            "baxis": {
             "endlinecolor": "#2a3f5f",
             "gridcolor": "white",
             "linecolor": "white",
             "minorgridcolor": "white",
             "startlinecolor": "#2a3f5f"
            },
            "type": "carpet"
           }
          ],
          "choropleth": [
           {
            "colorbar": {
             "outlinewidth": 0,
             "ticks": ""
            },
            "type": "choropleth"
           }
          ],
          "contour": [
           {
            "colorbar": {
             "outlinewidth": 0,
             "ticks": ""
            },
            "colorscale": [
             [
              0,
              "#0d0887"
             ],
             [
              0.1111111111111111,
              "#46039f"
             ],
             [
              0.2222222222222222,
              "#7201a8"
             ],
             [
              0.3333333333333333,
              "#9c179e"
             ],
             [
              0.4444444444444444,
              "#bd3786"
             ],
             [
              0.5555555555555556,
              "#d8576b"
             ],
             [
              0.6666666666666666,
              "#ed7953"
             ],
             [
              0.7777777777777778,
              "#fb9f3a"
             ],
             [
              0.8888888888888888,
              "#fdca26"
             ],
             [
              1,
              "#f0f921"
             ]
            ],
            "type": "contour"
           }
          ],
          "contourcarpet": [
           {
            "colorbar": {
             "outlinewidth": 0,
             "ticks": ""
            },
            "type": "contourcarpet"
           }
          ],
          "heatmap": [
           {
            "colorbar": {
             "outlinewidth": 0,
             "ticks": ""
            },
            "colorscale": [
             [
              0,
              "#0d0887"
             ],
             [
              0.1111111111111111,
              "#46039f"
             ],
             [
              0.2222222222222222,
              "#7201a8"
             ],
             [
              0.3333333333333333,
              "#9c179e"
             ],
             [
              0.4444444444444444,
              "#bd3786"
             ],
             [
              0.5555555555555556,
              "#d8576b"
             ],
             [
              0.6666666666666666,
              "#ed7953"
             ],
             [
              0.7777777777777778,
              "#fb9f3a"
             ],
             [
              0.8888888888888888,
              "#fdca26"
             ],
             [
              1,
              "#f0f921"
             ]
            ],
            "type": "heatmap"
           }
          ],
          "histogram": [
           {
            "marker": {
             "pattern": {
              "fillmode": "overlay",
              "size": 10,
              "solidity": 0.2
             }
            },
            "type": "histogram"
           }
          ],
          "histogram2d": [
           {
            "colorbar": {
             "outlinewidth": 0,
             "ticks": ""
            },
            "colorscale": [
             [
              0,
              "#0d0887"
             ],
             [
              0.1111111111111111,
              "#46039f"
             ],
             [
              0.2222222222222222,
              "#7201a8"
             ],
             [
              0.3333333333333333,
              "#9c179e"
             ],
             [
              0.4444444444444444,
              "#bd3786"
             ],
             [
              0.5555555555555556,
              "#d8576b"
             ],
             [
              0.6666666666666666,
              "#ed7953"
             ],
             [
              0.7777777777777778,
              "#fb9f3a"
             ],
             [
              0.8888888888888888,
              "#fdca26"
             ],
             [
              1,
              "#f0f921"
             ]
            ],
            "type": "histogram2d"
           }
          ],
          "histogram2dcontour": [
           {
            "colorbar": {
             "outlinewidth": 0,
             "ticks": ""
            },
            "colorscale": [
             [
              0,
              "#0d0887"
             ],
             [
              0.1111111111111111,
              "#46039f"
             ],
             [
              0.2222222222222222,
              "#7201a8"
             ],
             [
              0.3333333333333333,
              "#9c179e"
             ],
             [
              0.4444444444444444,
              "#bd3786"
             ],
             [
              0.5555555555555556,
              "#d8576b"
             ],
             [
              0.6666666666666666,
              "#ed7953"
             ],
             [
              0.7777777777777778,
              "#fb9f3a"
             ],
             [
              0.8888888888888888,
              "#fdca26"
             ],
             [
              1,
              "#f0f921"
             ]
            ],
            "type": "histogram2dcontour"
           }
          ],
          "mesh3d": [
           {
            "colorbar": {
             "outlinewidth": 0,
             "ticks": ""
            },
            "type": "mesh3d"
           }
          ],
          "parcoords": [
           {
            "line": {
             "colorbar": {
              "outlinewidth": 0,
              "ticks": ""
             }
            },
            "type": "parcoords"
           }
          ],
          "pie": [
           {
            "automargin": true,
            "type": "pie"
           }
          ],
          "scatter": [
           {
            "fillpattern": {
             "fillmode": "overlay",
             "size": 10,
             "solidity": 0.2
            },
            "type": "scatter"
           }
          ],
          "scatter3d": [
           {
            "line": {
             "colorbar": {
              "outlinewidth": 0,
              "ticks": ""
             }
            },
            "marker": {
             "colorbar": {
              "outlinewidth": 0,
              "ticks": ""
             }
            },
            "type": "scatter3d"
           }
          ],
          "scattercarpet": [
           {
            "marker": {
             "colorbar": {
              "outlinewidth": 0,
              "ticks": ""
             }
            },
            "type": "scattercarpet"
           }
          ],
          "scattergeo": [
           {
            "marker": {
             "colorbar": {
              "outlinewidth": 0,
              "ticks": ""
             }
            },
            "type": "scattergeo"
           }
          ],
          "scattergl": [
           {
            "marker": {
             "colorbar": {
              "outlinewidth": 0,
              "ticks": ""
             }
            },
            "type": "scattergl"
           }
          ],
          "scattermap": [
           {
            "marker": {
             "colorbar": {
              "outlinewidth": 0,
              "ticks": ""
             }
            },
            "type": "scattermap"
           }
          ],
          "scattermapbox": [
           {
            "marker": {
             "colorbar": {
              "outlinewidth": 0,
              "ticks": ""
             }
            },
            "type": "scattermapbox"
           }
          ],
          "scatterpolar": [
           {
            "marker": {
             "colorbar": {
              "outlinewidth": 0,
              "ticks": ""
             }
            },
            "type": "scatterpolar"
           }
          ],
          "scatterpolargl": [
           {
            "marker": {
             "colorbar": {
              "outlinewidth": 0,
              "ticks": ""
             }
            },
            "type": "scatterpolargl"
           }
          ],
          "scatterternary": [
           {
            "marker": {
             "colorbar": {
              "outlinewidth": 0,
              "ticks": ""
             }
            },
            "type": "scatterternary"
           }
          ],
          "surface": [
           {
            "colorbar": {
             "outlinewidth": 0,
             "ticks": ""
            },
            "colorscale": [
             [
              0,
              "#0d0887"
             ],
             [
              0.1111111111111111,
              "#46039f"
             ],
             [
              0.2222222222222222,
              "#7201a8"
             ],
             [
              0.3333333333333333,
              "#9c179e"
             ],
             [
              0.4444444444444444,
              "#bd3786"
             ],
             [
              0.5555555555555556,
              "#d8576b"
             ],
             [
              0.6666666666666666,
              "#ed7953"
             ],
             [
              0.7777777777777778,
              "#fb9f3a"
             ],
             [
              0.8888888888888888,
              "#fdca26"
             ],
             [
              1,
              "#f0f921"
             ]
            ],
            "type": "surface"
           }
          ],
          "table": [
           {
            "cells": {
             "fill": {
              "color": "#EBF0F8"
             },
             "line": {
              "color": "white"
             }
            },
            "header": {
             "fill": {
              "color": "#C8D4E3"
             },
             "line": {
              "color": "white"
             }
            },
            "type": "table"
           }
          ]
         },
         "layout": {
          "annotationdefaults": {
           "arrowcolor": "#2a3f5f",
           "arrowhead": 0,
           "arrowwidth": 1
          },
          "autotypenumbers": "strict",
          "coloraxis": {
           "colorbar": {
            "outlinewidth": 0,
            "ticks": ""
           }
          },
          "colorscale": {
           "diverging": [
            [
             0,
             "#8e0152"
            ],
            [
             0.1,
             "#c51b7d"
            ],
            [
             0.2,
             "#de77ae"
            ],
            [
             0.3,
             "#f1b6da"
            ],
            [
             0.4,
             "#fde0ef"
            ],
            [
             0.5,
             "#f7f7f7"
            ],
            [
             0.6,
             "#e6f5d0"
            ],
            [
             0.7,
             "#b8e186"
            ],
            [
             0.8,
             "#7fbc41"
            ],
            [
             0.9,
             "#4d9221"
            ],
            [
             1,
             "#276419"
            ]
           ],
           "sequential": [
            [
             0,
             "#0d0887"
            ],
            [
             0.1111111111111111,
             "#46039f"
            ],
            [
             0.2222222222222222,
             "#7201a8"
            ],
            [
             0.3333333333333333,
             "#9c179e"
            ],
            [
             0.4444444444444444,
             "#bd3786"
            ],
            [
             0.5555555555555556,
             "#d8576b"
            ],
            [
             0.6666666666666666,
             "#ed7953"
            ],
            [
             0.7777777777777778,
             "#fb9f3a"
            ],
            [
             0.8888888888888888,
             "#fdca26"
            ],
            [
             1,
             "#f0f921"
            ]
           ],
           "sequentialminus": [
            [
             0,
             "#0d0887"
            ],
            [
             0.1111111111111111,
             "#46039f"
            ],
            [
             0.2222222222222222,
             "#7201a8"
            ],
            [
             0.3333333333333333,
             "#9c179e"
            ],
            [
             0.4444444444444444,
             "#bd3786"
            ],
            [
             0.5555555555555556,
             "#d8576b"
            ],
            [
             0.6666666666666666,
             "#ed7953"
            ],
            [
             0.7777777777777778,
             "#fb9f3a"
            ],
            [
             0.8888888888888888,
             "#fdca26"
            ],
            [
             1,
             "#f0f921"
            ]
           ]
          },
          "colorway": [
           "#636efa",
           "#EF553B",
           "#00cc96",
           "#ab63fa",
           "#FFA15A",
           "#19d3f3",
           "#FF6692",
           "#B6E880",
           "#FF97FF",
           "#FECB52"
          ],
          "font": {
           "color": "#2a3f5f"
          },
          "geo": {
           "bgcolor": "white",
           "lakecolor": "white",
           "landcolor": "#E5ECF6",
           "showlakes": true,
           "showland": true,
           "subunitcolor": "white"
          },
          "hoverlabel": {
           "align": "left"
          },
          "hovermode": "closest",
          "mapbox": {
           "style": "light"
          },
          "paper_bgcolor": "white",
          "plot_bgcolor": "#E5ECF6",
          "polar": {
           "angularaxis": {
            "gridcolor": "white",
            "linecolor": "white",
            "ticks": ""
           },
           "bgcolor": "#E5ECF6",
           "radialaxis": {
            "gridcolor": "white",
            "linecolor": "white",
            "ticks": ""
           }
          },
          "scene": {
           "xaxis": {
            "backgroundcolor": "#E5ECF6",
            "gridcolor": "white",
            "gridwidth": 2,
            "linecolor": "white",
            "showbackground": true,
            "ticks": "",
            "zerolinecolor": "white"
           },
           "yaxis": {
            "backgroundcolor": "#E5ECF6",
            "gridcolor": "white",
            "gridwidth": 2,
            "linecolor": "white",
            "showbackground": true,
            "ticks": "",
            "zerolinecolor": "white"
           },
           "zaxis": {
            "backgroundcolor": "#E5ECF6",
            "gridcolor": "white",
            "gridwidth": 2,
            "linecolor": "white",
            "showbackground": true,
            "ticks": "",
            "zerolinecolor": "white"
           }
          },
          "shapedefaults": {
           "line": {
            "color": "#2a3f5f"
           }
          },
          "ternary": {
           "aaxis": {
            "gridcolor": "white",
            "linecolor": "white",
            "ticks": ""
           },
           "baxis": {
            "gridcolor": "white",
            "linecolor": "white",
            "ticks": ""
           },
           "bgcolor": "#E5ECF6",
           "caxis": {
            "gridcolor": "white",
            "linecolor": "white",
            "ticks": ""
           }
          },
          "title": {
           "x": 0.05
          },
          "xaxis": {
           "automargin": true,
           "gridcolor": "white",
           "linecolor": "white",
           "ticks": "",
           "title": {
            "standoff": 15
           },
           "zerolinecolor": "white",
           "zerolinewidth": 2
          },
          "yaxis": {
           "automargin": true,
           "gridcolor": "white",
           "linecolor": "white",
           "ticks": "",
           "title": {
            "standoff": 15
           },
           "zerolinecolor": "white",
           "zerolinewidth": 2
          }
         }
        },
        "title": {
         "text": "Aggregated Illegal Moves per Model (10k results each) top_p"
        },
        "xaxis": {
         "anchor": "y",
         "domain": [
          0,
          1
         ],
         "title": {
          "text": "model"
         }
        },
        "yaxis": {
         "anchor": "x",
         "domain": [
          0,
          1
         ],
         "range": [
          0,
          100
         ],
         "title": {
          "text": "Illegal Moves (%)"
         }
        }
       }
      }
     },
     "metadata": {},
     "output_type": "display_data"
    }
   ],
   "source": [
    "import pandas as pd\n",
    "import glob\n",
    "import os\n",
    "import re\n",
    "import plotly.express as px\n",
    "\n",
    "data_path = \"/Users/jtsiros93/Documents/llm_bench/week03/gpt-top-check-2\"\n",
    "csv_files = glob.glob(os.path.join(data_path, \"*.csv\"))\n",
    "\n",
    "results = []\n",
    "\n",
    "for file in csv_files:\n",
    "    with open(file, 'r') as f:\n",
    "        lines = f.readlines()\n",
    "\n",
    "    illegal_pct = None\n",
    "    for line in lines:\n",
    "        if \"Illegal Moves (%)\" in line:\n",
    "            # Split by comma, search for the first value that ends with '%'\n",
    "            parts = [p.strip() for p in line.strip().split(',')]\n",
    "            for p in reversed(parts):  # search from the right\n",
    "                if p.endswith('%'):\n",
    "                    try:\n",
    "                        illegal_pct = float(p.replace('%',''))\n",
    "                        break\n",
    "                    except:\n",
    "                        continue\n",
    "            break\n",
    "\n",
    "    if illegal_pct is None:\n",
    "        print(f\"⚠️ Could not find illegal move % in {file}\")\n",
    "        continue\n",
    "\n",
    "    # Extract model name\n",
    "    fname = os.path.splitext(os.path.basename(file))[0]\n",
    "    match_model = re.search(r\"res_base_(.*?)_T\", fname)\n",
    "    model = match_model.group(1) if match_model else fname\n",
    "\n",
    "    results.append({\n",
    "        \"model\": model,\n",
    "        \"illegal_pct\": illegal_pct\n",
    "    })\n",
    "\n",
    "# Make DataFrame\n",
    "illegal_summary = pd.DataFrame(results)\n",
    "\n",
    "# Aggregate across CSVs for the same model\n",
    "agg_summary = illegal_summary.groupby('model')['illegal_pct'].mean().reset_index()\n",
    "\n",
    "# Plot bar chart\n",
    "fig = px.bar(\n",
    "    agg_summary.sort_values('illegal_pct', ascending=False),\n",
    "    x='model',\n",
    "    y='illegal_pct',\n",
    "    text='illegal_pct',\n",
    "    labels={'illegal_pct': 'Illegal Moves (%)'},\n",
    "    title='Aggregated Illegal Moves per Model (10k results each) top_p'\n",
    ")\n",
    "\n",
    "fig.update_yaxes(range=[0, 100])\n",
    "fig.update_traces(texttemplate='%{text:.2f}%', textposition='outside')\n",
    "\n",
    "fig.show()\n",
    "\n",
    "\n"
   ]
  },
  {
   "cell_type": "code",
   "execution_count": 159,
   "id": "7c40b56c",
   "metadata": {},
   "outputs": [
    {
     "data": {
      "image/png": "[encoded data removed]",
      "text/plain": [
       "<Figure size 1200x700 with 1 Axes>"
      ]
     },
     "metadata": {},
     "output_type": "display_data"
    }
   ],
   "source": [
    "import os\n",
    "import pandas as pd\n",
    "import matplotlib.pyplot as plt\n",
    "\n",
    "# ===========================\n",
    "# USER CONFIG: toggle which P0.X to show\n",
    "selected_P0 = \"P0.0\"  # Change this to \"P0.2\", \"P0.5\", etc.\n",
    "# ===========================\n",
    "\n",
    "# Path to directory containing all your CSV results\n",
    "results_dir = \"/Users/jtsiros93/Documents/llm_bench/week03/gpt-top-check-2\"\n",
    "\n",
    "# Puzzle rating mapping\n",
    "puzzle_rating_dict = {\n",
    "    \"uaey4\": 0.037267,\n",
    "    \"8rc5R\": 0.133929,\n",
    "    \"3pap0\": 0.225543,\n",
    "    \"m3lLD\": 0.314829,\n",
    "    \"Om0Kx\": 0.404891,\n",
    "    \"ubChO\": 0.507764,\n",
    "    \"JnzJN\": 0.60132,\n",
    "    \"CbXto\": 0.690217,\n",
    "    \"On8u6\": 0.782609,\n",
    "    \"Evxmg\": 0.884317\n",
    "}\n",
    "\n",
    "# Store scores by model\n",
    "model_scores = {\n",
    "    \"Deepseek\": {\"ratings\": [], \"scores\": []},\n",
    "    \"Open-GPT\": {\"ratings\": [], \"scores\": []}\n",
    "}\n",
    "\n",
    "# Iterate through CSVs\n",
    "for filename in os.listdir(results_dir):\n",
    "    if \"Puzzle\" in filename and filename.endswith(\".csv\"):\n",
    "\n",
    "        # Only include CSVs matching the selected P0.X\n",
    "        if selected_P0 not in filename:\n",
    "            continue\n",
    "\n",
    "        filepath = os.path.join(results_dir, filename)\n",
    "        df = pd.read_csv(filepath)\n",
    "\n",
    "        # Extract puzzle ID\n",
    "        puzzle_id = filename.split(\"Puzzle\")[-1].split(\".csv\")[0]\n",
    "        rating = puzzle_rating_dict.get(puzzle_id, None)\n",
    "        if rating is None:\n",
    "            continue\n",
    "\n",
    "        # Determine model\n",
    "        if \"deepseek\" in filename.lower():\n",
    "            model_name = \"Deepseek\"\n",
    "        elif \"openai-gpt\" in filename.lower():\n",
    "            model_name = \"Open-GPT\"\n",
    "        else:\n",
    "            continue\n",
    "\n",
    "        # Mean score for this CSV\n",
    "        mean_score = df[\"Normalized\"].mean()\n",
    "\n",
    "        # Append to model data\n",
    "        model_scores[model_name][\"ratings\"].append(rating)\n",
    "        model_scores[model_name][\"scores\"].append(mean_score)\n",
    "\n",
    "# Sort ratings for smooth lines\n",
    "for model, data in model_scores.items():\n",
    "    if data[\"ratings\"]:  # Only if there is data\n",
    "        sorted_pairs = sorted(zip(data[\"ratings\"], data[\"scores\"]))\n",
    "        ratings_sorted, scores_sorted = zip(*sorted_pairs)\n",
    "        model_scores[model][\"ratings\"] = ratings_sorted\n",
    "        model_scores[model][\"scores\"] = scores_sorted\n",
    "\n",
    "# Plot\n",
    "plt.figure(figsize=(12, 7))\n",
    "for model, style in zip([\"Deepseek\", \"Open-GPT\"], ['o', 's']):\n",
    "    if model_scores[model][\"ratings\"]:\n",
    "        plt.plot(\n",
    "            model_scores[model][\"ratings\"],\n",
    "            model_scores[model][\"scores\"],\n",
    "            marker=style,\n",
    "            label=model,\n",
    "            linestyle='-',\n",
    "            markersize=8\n",
    "        )\n",
    "\n",
    "plt.xlabel(\"Puzzle Rating\")\n",
    "plt.ylabel(\"Normalized Score\")\n",
    "plt.title(f\"LLM Performance vs Puzzle Difficulty (Filtered by {selected_P0})\")\n",
    "plt.grid(True)\n",
    "plt.legend()\n",
    "plt.show()\n",
    "\n",
    "\n"
   ]
  },
  {
   "cell_type": "code",
   "execution_count": 165,
   "id": "fcb9c8a5",
   "metadata": {},
   "outputs": [
    {
     "name": "stderr",
     "output_type": "stream",
     "text": [
      "/var/folders/xq/g43237m503bc3jyvdgthm4sc0000gp/T/ipykernel_17080/655078753.py:91: UserWarning:\n",
      "\n",
      "No artists with labels found to put in legend.  Note that artists whose label start with an underscore are ignored when legend() is called with no argument.\n",
      "\n"
     ]
    },
    {
     "data": {
      "image/png": "[encoded data removed]",
      "text/plain": [
       "<Figure size 1200x700 with 1 Axes>"
      ]
     },
     "metadata": {},
     "output_type": "display_data"
    }
   ],
   "source": [
    "import os\n",
    "import pandas as pd\n",
    "import matplotlib.pyplot as plt\n",
    "\n",
    "# ===========================\n",
    "# USER CONFIG: toggle which P0.X and T0.X to show\n",
    "selected_P0 = \"P0.3\"   # e.g. \"P0.0\", \"P0.2\", \"P0.5\"\n",
    "selected_T0 = \"0.4\"   # e.g. \"T0.7\", \"T1.0\"\n",
    "# ===========================\n",
    "\n",
    "# Path to directory containing all your CSV results\n",
    "results_dir = \"/Users/jtsiros93/Documents/llm_bench/week03/gpt-top-check-2\"\n",
    "\n",
    "# Puzzle rating mapping\n",
    "puzzle_rating_dict = {\n",
    "    \"uaey4\": 0.037267,\n",
    "    \"8rc5R\": 0.133929,\n",
    "    \"3pap0\": 0.225543,\n",
    "    \"m3lLD\": 0.314829,\n",
    "    \"Om0Kx\": 0.404891,\n",
    "    \"ubChO\": 0.507764,\n",
    "    \"JnzJN\": 0.60132,\n",
    "    \"CbXto\": 0.690217,\n",
    "    \"On8u6\": 0.782609,\n",
    "    \"Evxmg\": 0.884317\n",
    "}\n",
    "\n",
    "# Store scores by model\n",
    "model_scores = {\n",
    "    \"Deepseek\": {\"ratings\": [], \"scores\": []},\n",
    "    \"Open-GPT\": {\"ratings\": [], \"scores\": []}\n",
    "}\n",
    "\n",
    "# Iterate through CSVs\n",
    "for filename in os.listdir(results_dir):\n",
    "    if \"Puzzle\" in filename and filename.endswith(\".csv\"):\n",
    "\n",
    "        # Only include CSVs matching both P0.X and T0.X\n",
    "        if selected_P0 not in filename or selected_T0 not in filename:\n",
    "            continue\n",
    "\n",
    "        filepath = os.path.join(results_dir, filename)\n",
    "        df = pd.read_csv(filepath)\n",
    "\n",
    "        # Extract puzzle ID\n",
    "        puzzle_id = filename.split(\"Puzzle\")[-1].split(\".csv\")[0]\n",
    "        rating = puzzle_rating_dict.get(puzzle_id, None)\n",
    "        if rating is None:\n",
    "            continue\n",
    "\n",
    "        # Determine model\n",
    "        if \"deepseek\" in filename.lower():\n",
    "            model_name = \"Deepseek\"\n",
    "        elif \"openai-gpt\" in filename.lower():\n",
    "            model_name = \"Open-GPT\"\n",
    "        else:\n",
    "            continue\n",
    "\n",
    "        # Mean score for this CSV\n",
    "        mean_score = df[\"Normalized\"].mean()\n",
    "\n",
    "        # Append to model data\n",
    "        model_scores[model_name][\"ratings\"].append(rating)\n",
    "        model_scores[model_name][\"scores\"].append(mean_score)\n",
    "\n",
    "# Sort ratings for smooth lines\n",
    "for model, data in model_scores.items():\n",
    "    if data[\"ratings\"]:  # Only if there is data\n",
    "        sorted_pairs = sorted(zip(data[\"ratings\"], data[\"scores\"]))\n",
    "        ratings_sorted, scores_sorted = zip(*sorted_pairs)\n",
    "        model_scores[model][\"ratings\"] = ratings_sorted\n",
    "        model_scores[model][\"scores\"] = scores_sorted\n",
    "\n",
    "# Plot\n",
    "plt.figure(figsize=(12, 7))\n",
    "for model, style in zip([\"Deepseek\", \"Open-GPT\"], ['o', 's']):\n",
    "    if model_scores[model][\"ratings\"]:\n",
    "        plt.plot(\n",
    "            model_scores[model][\"ratings\"],\n",
    "            model_scores[model][\"scores\"],\n",
    "            marker=style,\n",
    "            label=model,\n",
    "            linestyle='-',\n",
    "            markersize=8\n",
    "        )\n",
    "\n",
    "plt.xlabel(\"Puzzle Rating\")\n",
    "plt.ylabel(\"Normalized Score\")\n",
    "plt.title(f\"LLM Performance vs Puzzle Difficulty (Filtered by {selected_P0}, {selected_T0})\")\n",
    "plt.grid(True)\n",
    "plt.legend()\n",
    "plt.show()\n"
   ]
  },
  {
   "cell_type": "code",
   "execution_count": 157,
   "id": "5c655e55",
   "metadata": {},
   "outputs": [
    {
     "name": "stdout",
     "output_type": "stream",
     "text": [
      "✅ Extracted data:\n",
      "   temp  top_p                        model  mean_score\n",
      "0   0.9    0.3          openai-gpt-4.1-mini     0.99247\n",
      "1   0.0    0.3  deepseek-deepseek-chat-v3.1     0.17966\n",
      "2   0.9    0.3          openai-gpt-4.1-mini     0.60537\n",
      "3   0.5    0.3          openai-gpt-4.1-mini     0.60255\n",
      "4   0.2    0.3  deepseek-deepseek-chat-v3.1     0.42001\n"
     ]
    },
    {
     "data": {
      "application/vnd.plotly.v1+json": {
       "config": {
        "plotlyServerURL": "https://plot.ly"
       },
       "data": [
        {
         "hovertemplate": "model=deepseek-deepseek-chat-v3.1<br>temp=%{x}<br>Oa=%{y}<extra></extra>",
         "legendgroup": "deepseek-deepseek-chat-v3.1",
         "line": {
          "color": "#636efa",
          "dash": "solid"
         },
         "marker": {
          "symbol": "circle"
         },
         "mode": "lines+markers",
         "name": "deepseek-deepseek-chat-v3.1",
         "orientation": "v",
         "showlegend": true,
         "type": "scatter",
         "x": {
          "bdata": "AAAAAAAAAACamZmZmZm5P5qZmZmZmck/MzMzMzMz0z+amZmZmZnZPwAAAAAAAOA/MzMzMzMz4z9mZmZmZmbmP5qZmZmZmek/zczMzMzM7D8AAAAAAADwPw==",
          "dtype": "f8"
         },
         "xaxis": "x",
         "y": {
          "bdata": "XAksD62by79zfmPnmV/Jv+NxDtgbq8m/cK4YyZFby7/DS/ofL9bMv9uPkkHxssu/cD/ri/ImzL+nkKq6YjjJvzIX3sQ+Scu/dRBr9kHtyr+hd5arc9LIvw==",
          "dtype": "f8"
         },
         "yaxis": "y"
        },
        {
         "hovertemplate": "model=openai-gpt-4.1-mini<br>temp=%{x}<br>Oa=%{y}<extra></extra>",
         "legendgroup": "openai-gpt-4.1-mini",
         "line": {
          "color": "#EF553B",
          "dash": "solid"
         },
         "marker": {
          "symbol": "circle"
         },
         "mode": "lines+markers",
         "name": "openai-gpt-4.1-mini",
         "orientation": "v",
         "showlegend": true,
         "type": "scatter",
         "x": {
          "bdata": "AAAAAAAAAACamZmZmZm5P5qZmZmZmck/MzMzMzMz0z+amZmZmZnZPwAAAAAAAOA/MzMzMzMz4z9mZmZmZmbmP5qZmZmZmek/zczMzMzM7D8AAAAAAADwPw==",
          "dtype": "f8"
         },
         "xaxis": "x",
         "y": {
          "bdata": "CC+TqFcXzr8MCgKajAfQv7iX6fyYP8u/xGX22InR0L+kHL/KmZDPvzxYxLSh58u/fz77TNBW0b9Q7DcF2a/Mv6VXRvZWhNK/aMyyPyIq0L9EppubMdvQvw==",
          "dtype": "f8"
         },
         "yaxis": "y"
        }
       ],
       "layout": {
        "legend": {
         "title": {
          "text": "model"
         },
         "tracegroupgap": 0
        },
        "template": {
         "data": {
          "bar": [
           {
            "error_x": {
             "color": "#2a3f5f"
            },
            "error_y": {
             "color": "#2a3f5f"
            },
            "marker": {
             "line": {
              "color": "#E5ECF6",
              "width": 0.5
             },
             "pattern": {
              "fillmode": "overlay",
              "size": 10,
              "solidity": 0.2
             }
            },
            "type": "bar"
           }
          ],
          "barpolar": [
           {
            "marker": {
             "line": {
              "color": "#E5ECF6",
              "width": 0.5
             },
             "pattern": {
              "fillmode": "overlay",
              "size": 10,
              "solidity": 0.2
             }
            },
            "type": "barpolar"
           }
          ],
          "carpet": [
           {
            "aaxis": {
             "endlinecolor": "#2a3f5f",
             "gridcolor": "white",
             "linecolor": "white",
             "minorgridcolor": "white",
             "startlinecolor": "#2a3f5f"
            },
            "baxis": {
             "endlinecolor": "#2a3f5f",
             "gridcolor": "white",
             "linecolor": "white",
             "minorgridcolor": "white",
             "startlinecolor": "#2a3f5f"
            },
            "type": "carpet"
           }
          ],
          "choropleth": [
           {
            "colorbar": {
             "outlinewidth": 0,
             "ticks": ""
            },
            "type": "choropleth"
           }
          ],
          "contour": [
           {
            "colorbar": {
             "outlinewidth": 0,
             "ticks": ""
            },
            "colorscale": [
             [
              0,
              "#0d0887"
             ],
             [
              0.1111111111111111,
              "#46039f"
             ],
             [
              0.2222222222222222,
              "#7201a8"
             ],
             [
              0.3333333333333333,
              "#9c179e"
             ],
             [
              0.4444444444444444,
              "#bd3786"
             ],
             [
              0.5555555555555556,
              "#d8576b"
             ],
             [
              0.6666666666666666,
              "#ed7953"
             ],
             [
              0.7777777777777778,
              "#fb9f3a"
             ],
             [
              0.8888888888888888,
              "#fdca26"
             ],
             [
              1,
              "#f0f921"
             ]
            ],
            "type": "contour"
           }
          ],
          "contourcarpet": [
           {
            "colorbar": {
             "outlinewidth": 0,
             "ticks": ""
            },
            "type": "contourcarpet"
           }
          ],
          "heatmap": [
           {
            "colorbar": {
             "outlinewidth": 0,
             "ticks": ""
            },
            "colorscale": [
             [
              0,
              "#0d0887"
             ],
             [
              0.1111111111111111,
              "#46039f"
             ],
             [
              0.2222222222222222,
              "#7201a8"
             ],
             [
              0.3333333333333333,
              "#9c179e"
             ],
             [
              0.4444444444444444,
              "#bd3786"
             ],
             [
              0.5555555555555556,
              "#d8576b"
             ],
             [
              0.6666666666666666,
              "#ed7953"
             ],
             [
              0.7777777777777778,
              "#fb9f3a"
             ],
             [
              0.8888888888888888,
              "#fdca26"
             ],
             [
              1,
              "#f0f921"
             ]
            ],
            "type": "heatmap"
           }
          ],
          "histogram": [
           {
            "marker": {
             "pattern": {
              "fillmode": "overlay",
              "size": 10,
              "solidity": 0.2
             }
            },
            "type": "histogram"
           }
          ],
          "histogram2d": [
           {
            "colorbar": {
             "outlinewidth": 0,
             "ticks": ""
            },
            "colorscale": [
             [
              0,
              "#0d0887"
             ],
             [
              0.1111111111111111,
              "#46039f"
             ],
             [
              0.2222222222222222,
              "#7201a8"
             ],
             [
              0.3333333333333333,
              "#9c179e"
             ],
             [
              0.4444444444444444,
              "#bd3786"
             ],
             [
              0.5555555555555556,
              "#d8576b"
             ],
             [
              0.6666666666666666,
              "#ed7953"
             ],
             [
              0.7777777777777778,
              "#fb9f3a"
             ],
             [
              0.8888888888888888,
              "#fdca26"
             ],
             [
              1,
              "#f0f921"
             ]
            ],
            "type": "histogram2d"
           }
          ],
          "histogram2dcontour": [
           {
            "colorbar": {
             "outlinewidth": 0,
             "ticks": ""
            },
            "colorscale": [
             [
              0,
              "#0d0887"
             ],
             [
              0.1111111111111111,
              "#46039f"
             ],
             [
              0.2222222222222222,
              "#7201a8"
             ],
             [
              0.3333333333333333,
              "#9c179e"
             ],
             [
              0.4444444444444444,
              "#bd3786"
             ],
             [
              0.5555555555555556,
              "#d8576b"
             ],
             [
              0.6666666666666666,
              "#ed7953"
             ],
             [
              0.7777777777777778,
              "#fb9f3a"
             ],
             [
              0.8888888888888888,
              "#fdca26"
             ],
             [
              1,
              "#f0f921"
             ]
            ],
            "type": "histogram2dcontour"
           }
          ],
          "mesh3d": [
           {
            "colorbar": {
             "outlinewidth": 0,
             "ticks": ""
            },
            "type": "mesh3d"
           }
          ],
          "parcoords": [
           {
            "line": {
             "colorbar": {
              "outlinewidth": 0,
              "ticks": ""
             }
            },
            "type": "parcoords"
           }
          ],
          "pie": [
           {
            "automargin": true,
            "type": "pie"
           }
          ],
          "scatter": [
           {
            "fillpattern": {
             "fillmode": "overlay",
             "size": 10,
             "solidity": 0.2
            },
            "type": "scatter"
           }
          ],
          "scatter3d": [
           {
            "line": {
             "colorbar": {
              "outlinewidth": 0,
              "ticks": ""
             }
            },
            "marker": {
             "colorbar": {
              "outlinewidth": 0,
              "ticks": ""
             }
            },
            "type": "scatter3d"
           }
          ],
          "scattercarpet": [
           {
            "marker": {
             "colorbar": {
              "outlinewidth": 0,
              "ticks": ""
             }
            },
            "type": "scattercarpet"
           }
          ],
          "scattergeo": [
           {
            "marker": {
             "colorbar": {
              "outlinewidth": 0,
              "ticks": ""
             }
            },
            "type": "scattergeo"
           }
          ],
          "scattergl": [
           {
            "marker": {
             "colorbar": {
              "outlinewidth": 0,
              "ticks": ""
             }
            },
            "type": "scattergl"
           }
          ],
          "scattermap": [
           {
            "marker": {
             "colorbar": {
              "outlinewidth": 0,
              "ticks": ""
             }
            },
            "type": "scattermap"
           }
          ],
          "scattermapbox": [
           {
            "marker": {
             "colorbar": {
              "outlinewidth": 0,
              "ticks": ""
             }
            },
            "type": "scattermapbox"
           }
          ],
          "scatterpolar": [
           {
            "marker": {
             "colorbar": {
              "outlinewidth": 0,
              "ticks": ""
             }
            },
            "type": "scatterpolar"
           }
          ],
          "scatterpolargl": [
           {
            "marker": {
             "colorbar": {
              "outlinewidth": 0,
              "ticks": ""
             }
            },
            "type": "scatterpolargl"
           }
          ],
          "scatterternary": [
           {
            "marker": {
             "colorbar": {
              "outlinewidth": 0,
              "ticks": ""
             }
            },
            "type": "scatterternary"
           }
          ],
          "surface": [
           {
            "colorbar": {
             "outlinewidth": 0,
             "ticks": ""
            },
            "colorscale": [
             [
              0,
              "#0d0887"
             ],
             [
              0.1111111111111111,
              "#46039f"
             ],
             [
              0.2222222222222222,
              "#7201a8"
             ],
             [
              0.3333333333333333,
              "#9c179e"
             ],
             [
              0.4444444444444444,
              "#bd3786"
             ],
             [
              0.5555555555555556,
              "#d8576b"
             ],
             [
              0.6666666666666666,
              "#ed7953"
             ],
             [
              0.7777777777777778,
              "#fb9f3a"
             ],
             [
              0.8888888888888888,
              "#fdca26"
             ],
             [
              1,
              "#f0f921"
             ]
            ],
            "type": "surface"
           }
          ],
          "table": [
           {
            "cells": {
             "fill": {
              "color": "#EBF0F8"
             },
             "line": {
              "color": "white"
             }
            },
            "header": {
             "fill": {
              "color": "#C8D4E3"
             },
             "line": {
              "color": "white"
             }
            },
            "type": "table"
           }
          ]
         },
         "layout": {
          "annotationdefaults": {
           "arrowcolor": "#2a3f5f",
           "arrowhead": 0,
           "arrowwidth": 1
          },
          "autotypenumbers": "strict",
          "coloraxis": {
           "colorbar": {
            "outlinewidth": 0,
            "ticks": ""
           }
          },
          "colorscale": {
           "diverging": [
            [
             0,
             "#8e0152"
            ],
            [
             0.1,
             "#c51b7d"
            ],
            [
             0.2,
             "#de77ae"
            ],
            [
             0.3,
             "#f1b6da"
            ],
            [
             0.4,
             "#fde0ef"
            ],
            [
             0.5,
             "#f7f7f7"
            ],
            [
             0.6,
             "#e6f5d0"
            ],
            [
             0.7,
             "#b8e186"
            ],
            [
             0.8,
             "#7fbc41"
            ],
            [
             0.9,
             "#4d9221"
            ],
            [
             1,
             "#276419"
            ]
           ],
           "sequential": [
            [
             0,
             "#0d0887"
            ],
            [
             0.1111111111111111,
             "#46039f"
            ],
            [
             0.2222222222222222,
             "#7201a8"
            ],
            [
             0.3333333333333333,
             "#9c179e"
            ],
            [
             0.4444444444444444,
             "#bd3786"
            ],
            [
             0.5555555555555556,
             "#d8576b"
            ],
            [
             0.6666666666666666,
             "#ed7953"
            ],
            [
             0.7777777777777778,
             "#fb9f3a"
            ],
            [
             0.8888888888888888,
             "#fdca26"
            ],
            [
             1,
             "#f0f921"
            ]
           ],
           "sequentialminus": [
            [
             0,
             "#0d0887"
            ],
            [
             0.1111111111111111,
             "#46039f"
            ],
            [
             0.2222222222222222,
             "#7201a8"
            ],
            [
             0.3333333333333333,
             "#9c179e"
            ],
            [
             0.4444444444444444,
             "#bd3786"
            ],
            [
             0.5555555555555556,
             "#d8576b"
            ],
            [
             0.6666666666666666,
             "#ed7953"
            ],
            [
             0.7777777777777778,
             "#fb9f3a"
            ],
            [
             0.8888888888888888,
             "#fdca26"
            ],
            [
             1,
             "#f0f921"
            ]
           ]
          },
          "colorway": [
           "#636efa",
           "#EF553B",
           "#00cc96",
           "#ab63fa",
           "#FFA15A",
           "#19d3f3",
           "#FF6692",
           "#B6E880",
           "#FF97FF",
           "#FECB52"
          ],
          "font": {
           "color": "#2a3f5f"
          },
          "geo": {
           "bgcolor": "white",
           "lakecolor": "white",
           "landcolor": "#E5ECF6",
           "showlakes": true,
           "showland": true,
           "subunitcolor": "white"
          },
          "hoverlabel": {
           "align": "left"
          },
          "hovermode": "closest",
          "mapbox": {
           "style": "light"
          },
          "paper_bgcolor": "white",
          "plot_bgcolor": "#E5ECF6",
          "polar": {
           "angularaxis": {
            "gridcolor": "white",
            "linecolor": "white",
            "ticks": ""
           },
           "bgcolor": "#E5ECF6",
           "radialaxis": {
            "gridcolor": "white",
            "linecolor": "white",
            "ticks": ""
           }
          },
          "scene": {
           "xaxis": {
            "backgroundcolor": "#E5ECF6",
            "gridcolor": "white",
            "gridwidth": 2,
            "linecolor": "white",
            "showbackground": true,
            "ticks": "",
            "zerolinecolor": "white"
           },
           "yaxis": {
            "backgroundcolor": "#E5ECF6",
            "gridcolor": "white",
            "gridwidth": 2,
            "linecolor": "white",
            "showbackground": true,
            "ticks": "",
            "zerolinecolor": "white"
           },
           "zaxis": {
            "backgroundcolor": "#E5ECF6",
            "gridcolor": "white",
            "gridwidth": 2,
            "linecolor": "white",
            "showbackground": true,
            "ticks": "",
            "zerolinecolor": "white"
           }
          },
          "shapedefaults": {
           "line": {
            "color": "#2a3f5f"
           }
          },
          "ternary": {
           "aaxis": {
            "gridcolor": "white",
            "linecolor": "white",
            "ticks": ""
           },
           "baxis": {
            "gridcolor": "white",
            "linecolor": "white",
            "ticks": ""
           },
           "bgcolor": "#E5ECF6",
           "caxis": {
            "gridcolor": "white",
            "linecolor": "white",
            "ticks": ""
           }
          },
          "title": {
           "x": 0.05
          },
          "xaxis": {
           "automargin": true,
           "gridcolor": "white",
           "linecolor": "white",
           "ticks": "",
           "title": {
            "standoff": 15
           },
           "zerolinecolor": "white",
           "zerolinewidth": 2
          },
          "yaxis": {
           "automargin": true,
           "gridcolor": "white",
           "linecolor": "white",
           "ticks": "",
           "title": {
            "standoff": 15
           },
           "zerolinecolor": "white",
           "zerolinewidth": 2
          }
         }
        },
        "title": {
         "text": "Fairness Objective Oa(t) by Temperature (per model)"
        },
        "xaxis": {
         "anchor": "y",
         "domain": [
          0,
          1
         ],
         "title": {
          "text": "temp"
         }
        },
        "yaxis": {
         "anchor": "x",
         "domain": [
          0,
          1
         ],
         "title": {
          "text": "Oa"
         }
        }
       }
      }
     },
     "metadata": {},
     "output_type": "display_data"
    }
   ],
   "source": [
    "import pandas as pd\n",
    "import glob\n",
    "import os\n",
    "import re\n",
    "import plotly.express as px\n",
    "\n",
    "data_path = \"/Users/jtsiros93/Documents/llm_bench/week03/gpt-temp-check\"\n",
    "csv_files = glob.glob(os.path.join(data_path, \"*.csv\"))\n",
    "\n",
    "results = []\n",
    "\n",
    "for file in csv_files:\n",
    "    df = pd.read_csv(file)\n",
    "    fname = os.path.splitext(os.path.basename(file))[0]\n",
    "\n",
    "    # Parse temperature (T0.x or T1)\n",
    "    match_temp = re.search(r\"_T([0-9.]+)\", fname)\n",
    "    if not match_temp:\n",
    "        print(f\"⚠️ Could not parse temperature from {fname}\")\n",
    "        continue\n",
    "    temp = float(match_temp.group(1))\n",
    "\n",
    "    # Parse top-p (P0.x)\n",
    "    match_p = re.search(r\"_P([0-9.]+)\", fname)\n",
    "    if not match_p:\n",
    "        print(f\"⚠️ Could not parse top-p from {fname}\")\n",
    "        continue\n",
    "    top_p = float(match_p.group(1))\n",
    "\n",
    "    # Extract model name\n",
    "    match_model = re.search(r\"res_base_(.*?)_T\", fname)\n",
    "    if not match_model:\n",
    "        print(f\"⚠️ Could not parse model from {fname}\")\n",
    "        continue\n",
    "    model = match_model.group(1)\n",
    "\n",
    "    mean_score = df[\"Normalized\"].mean()\n",
    "\n",
    "    results.append({\n",
    "        \"temp\": temp,\n",
    "        \"top_p\": top_p,\n",
    "        \"model\": model,\n",
    "        \"mean_score\": mean_score\n",
    "    })\n",
    "\n",
    "perf_data = pd.DataFrame(results)\n",
    "print(\"✅ Extracted data:\")\n",
    "print(perf_data.head())\n",
    "\n",
    "if perf_data.empty:\n",
    "    raise ValueError(\"No data extracted. Check filename parsing.\")\n",
    "\n",
    "# Group by model and temperature\n",
    "summary = perf_data.groupby([\"model\", \"temp\"]).agg(\n",
    "    mean_M=(\"mean_score\", \"mean\"),\n",
    "    std_D=(\"mean_score\", \"std\")\n",
    ").reset_index()\n",
    "\n",
    "# Fairness objective\n",
    "a = 2\n",
    "summary[\"Oa\"] = summary[\"mean_M\"] - a * summary[\"std_D\"]\n",
    "\n",
    "# Plot vs temperature\n",
    "fig = px.line(\n",
    "    summary.sort_values(\"temp\"),\n",
    "    x=\"temp\",\n",
    "    y=\"Oa\",\n",
    "    color=\"model\",\n",
    "    title=\"Fairness Objective Oa(t) by Temperature (per model)\",\n",
    "    markers=True\n",
    ")\n",
    "\n",
    "fig.show()\n"
   ]
  }
 ],
 "metadata": {
  "kernelspec": {
   "display_name": "venv",
   "language": "python",
   "name": "python3"
  },
  "language_info": {
   "codemirror_mode": {
    "name": "ipython",
    "version": 3
   },
   "file_extension": ".py",
   "mimetype": "text/x-python",
   "name": "python",
   "nbconvert_exporter": "python",
   "pygments_lexer": "ipython3",
   "version": "3.13.7"
  }
 },
 "nbformat": 4,
 "nbformat_minor": 5
}
