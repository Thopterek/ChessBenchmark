{
 "cells": [
  {
   "cell_type": "code",
   "execution_count": 1,
   "id": "472057a0",
   "metadata": {},
   "outputs": [
    {
     "data": {
      "application/vnd.plotly.v1+json": {
       "config": {
        "plotlyServerURL": "https://plot.ly"
       },
       "data": [
        {
         "customdata": [
          [
           "openai/gpt-4.1-mini",
           "Qg8",
           "Mate in 1"
          ],
          [
           "openai/gpt-4.1-mini",
           "Qg8",
           "Mate in 1"
          ],
          [
           "openai/gpt-4.1-mini",
           "Qg8",
           "Mate in 1"
          ],
          [
           "openai/gpt-4.1-mini",
           "Qg8",
           "Mate in 1"
          ],
          [
           "openai/gpt-4.1-mini",
           "Qg8",
           "Mate in 1"
          ],
          [
           "openai/gpt-4.1-mini",
           "Qg8",
           "Mate in 1"
          ],
          [
           "openai/gpt-4.1-mini",
           "Qg8",
           "Mate in 1"
          ],
          [
           "openai/gpt-4.1-mini",
           "Qg8",
           "Mate in 1"
          ],
          [
           "openai/gpt-4.1-mini",
           "Qg8",
           "Mate in 1"
          ],
          [
           "openai/gpt-4.1-mini",
           "Qg8",
           "Mate in 1"
          ],
          [
           "openai/gpt-4.1-mini",
           "Qg8",
           "Mate in 1"
          ],
          [
           "openai/gpt-4.1-mini",
           "Qg8",
           "Mate in 1"
          ],
          [
           "openai/gpt-4.1-mini",
           "Qg8",
           "Mate in 1"
          ],
          [
           "openai/gpt-4.1-mini",
           "Qg8",
           "Mate in 1"
          ],
          [
           "openai/gpt-4.1-mini",
           "Qg8",
           "Mate in 1"
          ],
          [
           "openai/gpt-4.1-mini",
           "Qg8",
           "Mate in 1"
          ],
          [
           "openai/gpt-4.1-mini",
           "Qg8",
           "Mate in 1"
          ],
          [
           "openai/gpt-4.1-mini",
           "Qg8",
           "Mate in 1"
          ],
          [
           "openai/gpt-4.1-mini",
           "Qg8",
           "Mate in 1"
          ],
          [
           "openai/gpt-4.1-mini",
           "Qg8",
           "Mate in 1"
          ],
          [
           "openai/gpt-4.1-mini",
           "Qg8",
           "Mate in 1"
          ],
          [
           "openai/gpt-4.1-mini",
           "Qg8",
           "Mate in 1"
          ],
          [
           "openai/gpt-4.1-mini",
           "Qg8",
           "Mate in 1"
          ],
          [
           "openai/gpt-4.1-mini",
           "Qg8",
           "Mate in 1"
          ],
          [
           "openai/gpt-4.1-mini",
           "Qg8",
           "Mate in 1"
          ],
          [
           "openai/gpt-4.1-mini",
           "Qg8",
           "Mate in 1"
          ],
          [
           "openai/gpt-4.1-mini",
           "Qg8",
           "Mate in 1"
          ],
          [
           "openai/gpt-4.1-mini",
           "Qg8",
           "Mate in 1"
          ],
          [
           "openai/gpt-4.1-mini",
           "Qg8",
           "Mate in 1"
          ],
          [
           "openai/gpt-4.1-mini",
           "Qg8",
           "Mate in 1"
          ],
          [
           "openai/gpt-4.1-mini",
           "Qg8",
           "Mate in 1"
          ],
          [
           "openai/gpt-4.1-mini",
           "Qg8",
           "Mate in 1"
          ],
          [
           "openai/gpt-4.1-mini",
           "Qg8",
           "Mate in 1"
          ],
          [
           "openai/gpt-4.1-mini",
           "Qg8",
           "Mate in 1"
          ],
          [
           "openai/gpt-4.1-mini",
           "Qg8",
           "Mate in 1"
          ],
          [
           "openai/gpt-4.1-mini",
           "Qg8",
           "Mate in 1"
          ],
          [
           "openai/gpt-4.1-mini",
           "Qg8",
           "Mate in 1"
          ],
          [
           "openai/gpt-4.1-mini",
           "Qg8",
           "Mate in 1"
          ],
          [
           "openai/gpt-4.1-mini",
           "Qg8",
           "Mate in 1"
          ],
          [
           "openai/gpt-4.1-mini",
           "Qg8",
           "Mate in 1"
          ],
          [
           "openai/gpt-4.1-mini",
           "Qg8",
           "Mate in 1"
          ],
          [
           "openai/gpt-4.1-mini",
           "Qg8",
           "Mate in 1"
          ],
          [
           "openai/gpt-4.1-mini",
           "Qg8",
           "Mate in 1"
          ],
          [
           "openai/gpt-4.1-mini",
           "Qg8",
           "Mate in 1"
          ],
          [
           "openai/gpt-4.1-mini",
           "Qg8",
           "Mate in 1"
          ],
          [
           "openai/gpt-4.1-mini",
           "Qg8",
           "Mate in 1"
          ],
          [
           "openai/gpt-4.1-mini",
           "Qg8",
           "Mate in 1"
          ],
          [
           "openai/gpt-4.1-mini",
           "Qg8",
           "Mate in 1"
          ],
          [
           "openai/gpt-4.1-mini",
           "Qg8",
           "Mate in 1"
          ],
          [
           "openai/gpt-4.1-mini",
           "Qg8",
           "Mate in 1"
          ],
          [
           "openai/gpt-4.1-mini",
           "Qg8",
           "Mate in 1"
          ],
          [
           "openai/gpt-4.1-mini",
           "Qg8",
           "Mate in 1"
          ],
          [
           "openai/gpt-4.1-mini",
           "Qg8",
           "Mate in 1"
          ],
          [
           "openai/gpt-4.1-mini",
           "Qg8",
           "Mate in 1"
          ],
          [
           "openai/gpt-4.1-mini",
           "Qg8",
           "Mate in 1"
          ],
          [
           "openai/gpt-4.1-mini",
           "Qg8",
           "Mate in 1"
          ],
          [
           "openai/gpt-4.1-mini",
           "Qg8",
           "Mate in 1"
          ],
          [
           "openai/gpt-4.1-mini",
           "Qg8",
           "Mate in 1"
          ],
          [
           "openai/gpt-4.1-mini",
           "Qg8",
           "Mate in 1"
          ],
          [
           "openai/gpt-4.1-mini",
           "Qg8",
           "Mate in 1"
          ],
          [
           "openai/gpt-4.1-mini",
           "Qg8",
           "Mate in 1"
          ],
          [
           "openai/gpt-4.1-mini",
           "Qg8",
           "Mate in 1"
          ],
          [
           "openai/gpt-4.1-mini",
           "Qg8",
           "Mate in 1"
          ],
          [
           "openai/gpt-4.1-mini",
           "Qg8",
           "Mate in 1"
          ],
          [
           "openai/gpt-4.1-mini",
           "Qg8",
           "Mate in 1"
          ],
          [
           "openai/gpt-4.1-mini",
           "Qg8",
           "Mate in 1"
          ],
          [
           "openai/gpt-4.1-mini",
           "Qg8",
           "Mate in 1"
          ],
          [
           "openai/gpt-4.1-mini",
           "Qg8",
           "Mate in 1"
          ],
          [
           "openai/gpt-4.1-mini",
           "Qg8",
           "Mate in 1"
          ],
          [
           "openai/gpt-4.1-mini",
           "Qg8",
           "Mate in 1"
          ],
          [
           "openai/gpt-4.1-mini",
           "Qg8",
           "Mate in 1"
          ],
          [
           "openai/gpt-4.1-mini",
           "Qg8",
           "Mate in 1"
          ],
          [
           "openai/gpt-4.1-mini",
           "Qg8",
           "Mate in 1"
          ],
          [
           "openai/gpt-4.1-mini",
           "Qg8",
           "Mate in 1"
          ],
          [
           "openai/gpt-4.1-mini",
           "Qg8",
           "Mate in 1"
          ],
          [
           "openai/gpt-4.1-mini",
           "Qg8",
           "Mate in 1"
          ],
          [
           "openai/gpt-4.1-mini",
           "Qg8",
           "Mate in 1"
          ],
          [
           "openai/gpt-4.1-mini",
           "Qg8",
           "Mate in 1"
          ],
          [
           "openai/gpt-4.1-mini",
           "Qg8",
           "Mate in 1"
          ],
          [
           "openai/gpt-4.1-mini",
           "Qg8",
           "Mate in 1"
          ],
          [
           "openai/gpt-4.1-mini",
           "Qg8",
           "Mate in 1"
          ],
          [
           "openai/gpt-4.1-mini",
           "Qg8",
           "Mate in 1"
          ],
          [
           "openai/gpt-4.1-mini",
           "Qg8",
           "Mate in 1"
          ],
          [
           "openai/gpt-4.1-mini",
           "Qg8",
           "Mate in 1"
          ],
          [
           "openai/gpt-4.1-mini",
           "Qg8",
           "Mate in 1"
          ],
          [
           "openai/gpt-4.1-mini",
           "Qg8",
           "Mate in 1"
          ],
          [
           "openai/gpt-4.1-mini",
           "Qg8",
           "Mate in 1"
          ],
          [
           "openai/gpt-4.1-mini",
           "Qg8",
           "Mate in 1"
          ],
          [
           "openai/gpt-4.1-mini",
           "Qg8",
           "Mate in 1"
          ],
          [
           "openai/gpt-4.1-mini",
           "Qg8",
           "Mate in 1"
          ],
          [
           "openai/gpt-4.1-mini",
           "Qg8",
           "Mate in 1"
          ],
          [
           "openai/gpt-4.1-mini",
           "Qg8",
           "Mate in 1"
          ],
          [
           "openai/gpt-4.1-mini",
           "Qg8",
           "Mate in 1"
          ],
          [
           "openai/gpt-4.1-mini",
           "Qg8",
           "Mate in 1"
          ],
          [
           "openai/gpt-4.1-mini",
           "Qg8",
           "Mate in 1"
          ],
          [
           "openai/gpt-4.1-mini",
           "Qg8",
           "Mate in 1"
          ],
          [
           "openai/gpt-4.1-mini",
           "Qg8",
           "Mate in 1"
          ],
          [
           "openai/gpt-4.1-mini",
           "Qg8",
           "Mate in 1"
          ],
          [
           "openai/gpt-4.1-mini",
           "Qg8",
           "Mate in 1"
          ],
          [
           "openai/gpt-4.1-mini",
           "Qg8",
           "Mate in 1"
          ],
          [
           null,
           null,
           null
          ],
          [
           "=== Summary Statistics ===",
           null,
           null
          ],
          [
           "Average Normalized Value",
           null,
           "1.0"
          ],
          [
           "Standard Deviation",
           null,
           "0.0"
          ],
          [
           "Mean Absolute Error (from 0.5)",
           null,
           "0.5"
          ],
          [
           "Illegal Moves (%)",
           null,
           "0.00%"
          ],
          [
           "Mean Value (Legal Moves Only)",
           null,
           "1.0"
          ],
          [
           "openai/gpt-4.1-mini",
           "Qg8",
           "Mate in 1"
          ],
          [
           "openai/gpt-4.1-mini",
           "Qg8",
           "Mate in 1"
          ],
          [
           "openai/gpt-4.1-mini",
           "Qg8",
           "Mate in 1"
          ],
          [
           "openai/gpt-4.1-mini",
           "Qg8",
           "Mate in 1"
          ],
          [
           "openai/gpt-4.1-mini",
           "Qg8",
           "Mate in 1"
          ],
          [
           "openai/gpt-4.1-mini",
           "Qg8",
           "Mate in 1"
          ],
          [
           "openai/gpt-4.1-mini",
           "Qg8",
           "Mate in 1"
          ],
          [
           "openai/gpt-4.1-mini",
           "Qg8",
           "Mate in 1"
          ],
          [
           "openai/gpt-4.1-mini",
           "Qg8",
           "Mate in 1"
          ],
          [
           "openai/gpt-4.1-mini",
           "Qg8",
           "Mate in 1"
          ],
          [
           "openai/gpt-4.1-mini",
           "Qg8",
           "Mate in 1"
          ],
          [
           "openai/gpt-4.1-mini",
           "Qg8",
           "Mate in 1"
          ],
          [
           "openai/gpt-4.1-mini",
           "Qg8",
           "Mate in 1"
          ],
          [
           "openai/gpt-4.1-mini",
           "Qg8",
           "Mate in 1"
          ],
          [
           "openai/gpt-4.1-mini",
           "Qg8",
           "Mate in 1"
          ],
          [
           "openai/gpt-4.1-mini",
           "Qg8",
           "Mate in 1"
          ],
          [
           "openai/gpt-4.1-mini",
           "Qg8",
           "Mate in 1"
          ],
          [
           "openai/gpt-4.1-mini",
           "Qg8",
           "Mate in 1"
          ],
          [
           "openai/gpt-4.1-mini",
           "Qg8",
           "Mate in 1"
          ],
          [
           "openai/gpt-4.1-mini",
           "Qg8",
           "Mate in 1"
          ],
          [
           "openai/gpt-4.1-mini",
           "Qg8",
           "Mate in 1"
          ],
          [
           "openai/gpt-4.1-mini",
           "Qg8",
           "Mate in 1"
          ],
          [
           "openai/gpt-4.1-mini",
           "Qg8",
           "Mate in 1"
          ],
          [
           "openai/gpt-4.1-mini",
           "Qg8",
           "Mate in 1"
          ],
          [
           "openai/gpt-4.1-mini",
           "Qg8",
           "Mate in 1"
          ],
          [
           "openai/gpt-4.1-mini",
           "Qg8",
           "Mate in 1"
          ],
          [
           "openai/gpt-4.1-mini",
           "Qg8",
           "Mate in 1"
          ],
          [
           "openai/gpt-4.1-mini",
           "Qg8",
           "Mate in 1"
          ],
          [
           "openai/gpt-4.1-mini",
           "Qg8",
           "Mate in 1"
          ],
          [
           "openai/gpt-4.1-mini",
           "Qg8",
           "Mate in 1"
          ],
          [
           "openai/gpt-4.1-mini",
           "Qg8",
           "Mate in 1"
          ],
          [
           "openai/gpt-4.1-mini",
           "Qg8",
           "Mate in 1"
          ],
          [
           "openai/gpt-4.1-mini",
           "Qg8",
           "Mate in 1"
          ],
          [
           "openai/gpt-4.1-mini",
           "Qg8",
           "Mate in 1"
          ],
          [
           "openai/gpt-4.1-mini",
           "Qg8",
           "Mate in 1"
          ],
          [
           "openai/gpt-4.1-mini",
           "Qg8",
           "Mate in 1"
          ],
          [
           "openai/gpt-4.1-mini",
           "Qg8",
           "Mate in 1"
          ],
          [
           "openai/gpt-4.1-mini",
           "Qg8",
           "Mate in 1"
          ],
          [
           "openai/gpt-4.1-mini",
           "Qg8",
           "Mate in 1"
          ],
          [
           "openai/gpt-4.1-mini",
           "Qg8",
           "Mate in 1"
          ],
          [
           "openai/gpt-4.1-mini",
           "Qg8",
           "Mate in 1"
          ],
          [
           "openai/gpt-4.1-mini",
           "Qg8",
           "Mate in 1"
          ],
          [
           "openai/gpt-4.1-mini",
           "Qg8",
           "Mate in 1"
          ],
          [
           "openai/gpt-4.1-mini",
           "Qg8",
           "Mate in 1"
          ],
          [
           "openai/gpt-4.1-mini",
           "Qg8",
           "Mate in 1"
          ],
          [
           "openai/gpt-4.1-mini",
           "Qg8",
           "Mate in 1"
          ],
          [
           "openai/gpt-4.1-mini",
           "Qg8",
           "Mate in 1"
          ],
          [
           "openai/gpt-4.1-mini",
           "Qg8",
           "Mate in 1"
          ],
          [
           "openai/gpt-4.1-mini",
           "Qg8",
           "Mate in 1"
          ],
          [
           "openai/gpt-4.1-mini",
           "Qg8",
           "Mate in 1"
          ],
          [
           "openai/gpt-4.1-mini",
           "Qg8",
           "Mate in 1"
          ],
          [
           "openai/gpt-4.1-mini",
           "Qg8",
           "Mate in 1"
          ],
          [
           "openai/gpt-4.1-mini",
           "Qg8",
           "Mate in 1"
          ],
          [
           "openai/gpt-4.1-mini",
           "Qg8",
           "Mate in 1"
          ],
          [
           "openai/gpt-4.1-mini",
           "Qg8",
           "Mate in 1"
          ],
          [
           "openai/gpt-4.1-mini",
           "Qg8",
           "Mate in 1"
          ],
          [
           "openai/gpt-4.1-mini",
           "Qg8",
           "Mate in 1"
          ],
          [
           "openai/gpt-4.1-mini",
           "Qg8",
           "Mate in 1"
          ],
          [
           "openai/gpt-4.1-mini",
           "Qg8",
           "Mate in 1"
          ],
          [
           "openai/gpt-4.1-mini",
           "Qg8",
           "Mate in 1"
          ],
          [
           "openai/gpt-4.1-mini",
           "Qg8",
           "Mate in 1"
          ],
          [
           "openai/gpt-4.1-mini",
           "Qg8",
           "Mate in 1"
          ],
          [
           "openai/gpt-4.1-mini",
           "Qg8",
           "Mate in 1"
          ],
          [
           "openai/gpt-4.1-mini",
           "Qg8",
           "Mate in 1"
          ],
          [
           "openai/gpt-4.1-mini",
           "Qg8",
           "Mate in 1"
          ],
          [
           "openai/gpt-4.1-mini",
           "Qg8",
           "Mate in 1"
          ],
          [
           "openai/gpt-4.1-mini",
           "Qg8",
           "Mate in 1"
          ],
          [
           "openai/gpt-4.1-mini",
           "Qg8",
           "Mate in 1"
          ],
          [
           "openai/gpt-4.1-mini",
           "Qg8",
           "Mate in 1"
          ],
          [
           "openai/gpt-4.1-mini",
           "Qg8",
           "Mate in 1"
          ],
          [
           "openai/gpt-4.1-mini",
           "Qg8",
           "Mate in 1"
          ],
          [
           "openai/gpt-4.1-mini",
           "Qg8",
           "Mate in 1"
          ],
          [
           "openai/gpt-4.1-mini",
           "Qg8",
           "Mate in 1"
          ],
          [
           "openai/gpt-4.1-mini",
           "Qg8",
           "Mate in 1"
          ],
          [
           "openai/gpt-4.1-mini",
           "Qg8",
           "Mate in 1"
          ],
          [
           "openai/gpt-4.1-mini",
           "Qg8",
           "Mate in 1"
          ],
          [
           "openai/gpt-4.1-mini",
           "Qg8",
           "Mate in 1"
          ],
          [
           "openai/gpt-4.1-mini",
           "Qg8",
           "Mate in 1"
          ],
          [
           "openai/gpt-4.1-mini",
           "Qg8",
           "Mate in 1"
          ],
          [
           "openai/gpt-4.1-mini",
           "Qg8",
           "Mate in 1"
          ],
          [
           "openai/gpt-4.1-mini",
           "Qg8",
           "Mate in 1"
          ],
          [
           "openai/gpt-4.1-mini",
           "Qg8",
           "Mate in 1"
          ],
          [
           "openai/gpt-4.1-mini",
           "Qg8",
           "Mate in 1"
          ],
          [
           "openai/gpt-4.1-mini",
           "Qg8",
           "Mate in 1"
          ],
          [
           "openai/gpt-4.1-mini",
           "Qg8",
           "Mate in 1"
          ],
          [
           "openai/gpt-4.1-mini",
           "Qg8",
           "Mate in 1"
          ],
          [
           "openai/gpt-4.1-mini",
           "Qg8",
           "Mate in 1"
          ],
          [
           "openai/gpt-4.1-mini",
           "Qg8",
           "Mate in 1"
          ],
          [
           "openai/gpt-4.1-mini",
           "Qg8",
           "Mate in 1"
          ],
          [
           "openai/gpt-4.1-mini",
           "Qg8",
           "Mate in 1"
          ],
          [
           "openai/gpt-4.1-mini",
           "Qg8",
           "Mate in 1"
          ],
          [
           "openai/gpt-4.1-mini",
           "Qg8",
           "Mate in 1"
          ],
          [
           "openai/gpt-4.1-mini",
           "Qg8",
           "Mate in 1"
          ],
          [
           "openai/gpt-4.1-mini",
           "Qg8",
           "Mate in 1"
          ],
          [
           "openai/gpt-4.1-mini",
           "Qg8",
           "Mate in 1"
          ],
          [
           "openai/gpt-4.1-mini",
           "Qg8",
           "Mate in 1"
          ],
          [
           "openai/gpt-4.1-mini",
           "Qg8",
           "Mate in 1"
          ],
          [
           "openai/gpt-4.1-mini",
           "Qg8",
           "Mate in 1"
          ],
          [
           "openai/gpt-4.1-mini",
           "Qg8",
           "Mate in 1"
          ],
          [
           "openai/gpt-4.1-mini",
           "Qg8",
           "Mate in 1"
          ],
          [
           null,
           null,
           null
          ],
          [
           "=== Summary Statistics ===",
           null,
           null
          ],
          [
           "Average Normalized Value",
           null,
           "1.0"
          ],
          [
           "Standard Deviation",
           null,
           "0.0"
          ],
          [
           "Mean Absolute Error (from 0.5)",
           null,
           "0.5"
          ],
          [
           "Illegal Moves (%)",
           null,
           "0.00%"
          ],
          [
           "Mean Value (Legal Moves Only)",
           null,
           "1.0"
          ],
          [
           "openai/gpt-4.1-mini",
           "Qg8",
           "Mate in 1"
          ],
          [
           "openai/gpt-4.1-mini",
           "Qg8",
           "Mate in 1"
          ],
          [
           "openai/gpt-4.1-mini",
           "Qg8",
           "Mate in 1"
          ],
          [
           "openai/gpt-4.1-mini",
           "Qg8",
           "Mate in 1"
          ],
          [
           "openai/gpt-4.1-mini",
           "Qg8",
           "Mate in 1"
          ],
          [
           "openai/gpt-4.1-mini",
           "Qg8",
           "Mate in 1"
          ],
          [
           "openai/gpt-4.1-mini",
           "Qg8",
           "Mate in 1"
          ],
          [
           "openai/gpt-4.1-mini",
           "Qxf7",
           "0 cp"
          ],
          [
           "openai/gpt-4.1-mini",
           "Qg8",
           "Mate in 1"
          ],
          [
           "openai/gpt-4.1-mini",
           "Qg8",
           "Mate in 1"
          ],
          [
           "openai/gpt-4.1-mini",
           "Qg8",
           "Mate in 1"
          ],
          [
           "openai/gpt-4.1-mini",
           "Qg8",
           "Mate in 1"
          ],
          [
           "openai/gpt-4.1-mini",
           "Qg8",
           "Mate in 1"
          ],
          [
           "openai/gpt-4.1-mini",
           "Qg8",
           "Mate in 1"
          ],
          [
           "openai/gpt-4.1-mini",
           "Qg8",
           "Mate in 1"
          ],
          [
           "openai/gpt-4.1-mini",
           "Qg8",
           "Mate in 1"
          ],
          [
           "openai/gpt-4.1-mini",
           "Qg8",
           "Mate in 1"
          ],
          [
           "openai/gpt-4.1-mini",
           "Qg8",
           "Mate in 1"
          ],
          [
           "openai/gpt-4.1-mini",
           "Qg8",
           "Mate in 1"
          ],
          [
           "openai/gpt-4.1-mini",
           "Qg8",
           "Mate in 1"
          ],
          [
           "openai/gpt-4.1-mini",
           "Qg8",
           "Mate in 1"
          ],
          [
           "openai/gpt-4.1-mini",
           "Qg8",
           "Mate in 1"
          ],
          [
           "openai/gpt-4.1-mini",
           "Qg8",
           "Mate in 1"
          ],
          [
           "openai/gpt-4.1-mini",
           "Qg8",
           "Mate in 1"
          ],
          [
           "openai/gpt-4.1-mini",
           "Qg8",
           "Mate in 1"
          ],
          [
           "openai/gpt-4.1-mini",
           "Qg8",
           "Mate in 1"
          ],
          [
           "openai/gpt-4.1-mini",
           "Qg8",
           "Mate in 1"
          ],
          [
           "openai/gpt-4.1-mini",
           "Qg8",
           "Mate in 1"
          ],
          [
           "openai/gpt-4.1-mini",
           "Qg8",
           "Mate in 1"
          ],
          [
           "openai/gpt-4.1-mini",
           "Qg8",
           "Mate in 1"
          ],
          [
           "openai/gpt-4.1-mini",
           "Qg8",
           "Mate in 1"
          ],
          [
           "openai/gpt-4.1-mini",
           "Qg8",
           "Mate in 1"
          ],
          [
           "openai/gpt-4.1-mini",
           "Qg8",
           "Mate in 1"
          ],
          [
           "openai/gpt-4.1-mini",
           "Qg8",
           "Mate in 1"
          ],
          [
           "openai/gpt-4.1-mini",
           "Qg8",
           "Mate in 1"
          ],
          [
           "openai/gpt-4.1-mini",
           "Qg8",
           "Mate in 1"
          ],
          [
           "openai/gpt-4.1-mini",
           "Qg8",
           "Mate in 1"
          ],
          [
           "openai/gpt-4.1-mini",
           "Qg8",
           "Mate in 1"
          ],
          [
           "openai/gpt-4.1-mini",
           "Qg8",
           "Mate in 1"
          ],
          [
           "openai/gpt-4.1-mini",
           "Qg8",
           "Mate in 1"
          ],
          [
           "openai/gpt-4.1-mini",
           "Qg8",
           "Mate in 1"
          ],
          [
           "openai/gpt-4.1-mini",
           "Qg8",
           "Mate in 1"
          ],
          [
           "openai/gpt-4.1-mini",
           "Qg8",
           "Mate in 1"
          ],
          [
           "openai/gpt-4.1-mini",
           "Qg8",
           "Mate in 1"
          ],
          [
           "openai/gpt-4.1-mini",
           "Qg8",
           "Mate in 1"
          ],
          [
           "openai/gpt-4.1-mini",
           "Qg8",
           "Mate in 1"
          ],
          [
           "openai/gpt-4.1-mini",
           "Qg8",
           "Mate in 1"
          ],
          [
           "openai/gpt-4.1-mini",
           "Qg8",
           "Mate in 1"
          ],
          [
           "openai/gpt-4.1-mini",
           "Qg8",
           "Mate in 1"
          ],
          [
           "openai/gpt-4.1-mini",
           "Qg8",
           "Mate in 1"
          ],
          [
           "openai/gpt-4.1-mini",
           "Qg8",
           "Mate in 1"
          ],
          [
           "openai/gpt-4.1-mini",
           "Qg8",
           "Mate in 1"
          ],
          [
           "openai/gpt-4.1-mini",
           "Qg8",
           "Mate in 1"
          ],
          [
           "openai/gpt-4.1-mini",
           "Qg8",
           "Mate in 1"
          ],
          [
           "openai/gpt-4.1-mini",
           "Qg8",
           "Mate in 1"
          ],
          [
           "openai/gpt-4.1-mini",
           "Qxf7",
           "3 cp"
          ],
          [
           "openai/gpt-4.1-mini",
           "Qg8",
           "Mate in 1"
          ],
          [
           "openai/gpt-4.1-mini",
           "Qg8",
           "Mate in 1"
          ],
          [
           "openai/gpt-4.1-mini",
           "Qg8",
           "Mate in 1"
          ],
          [
           "openai/gpt-4.1-mini",
           "Qg8",
           "Mate in 1"
          ],
          [
           "openai/gpt-4.1-mini",
           "Qg8",
           "Mate in 1"
          ],
          [
           "openai/gpt-4.1-mini",
           "Qg8",
           "Mate in 1"
          ],
          [
           "openai/gpt-4.1-mini",
           "Qg8",
           "Mate in 1"
          ],
          [
           "openai/gpt-4.1-mini",
           "Qg8",
           "Mate in 1"
          ],
          [
           "openai/gpt-4.1-mini",
           "Qg8",
           "Mate in 1"
          ],
          [
           "openai/gpt-4.1-mini",
           "Qg8",
           "Mate in 1"
          ],
          [
           "openai/gpt-4.1-mini",
           "Qg8",
           "Mate in 1"
          ],
          [
           "openai/gpt-4.1-mini",
           "Qg8",
           "Mate in 1"
          ],
          [
           "openai/gpt-4.1-mini",
           "Qg8",
           "Mate in 1"
          ],
          [
           "openai/gpt-4.1-mini",
           "Qg8",
           "Mate in 1"
          ],
          [
           "openai/gpt-4.1-mini",
           "Qg8",
           "Mate in 1"
          ],
          [
           "openai/gpt-4.1-mini",
           "Qg8",
           "Mate in 1"
          ],
          [
           "openai/gpt-4.1-mini",
           "Qg8",
           "Mate in 1"
          ],
          [
           "openai/gpt-4.1-mini",
           "Qg8",
           "Mate in 1"
          ],
          [
           "openai/gpt-4.1-mini",
           "Qg8",
           "Mate in 1"
          ],
          [
           "openai/gpt-4.1-mini",
           "Qg8",
           "Mate in 1"
          ],
          [
           "openai/gpt-4.1-mini",
           "Qg8",
           "Mate in 1"
          ],
          [
           "openai/gpt-4.1-mini",
           "Qg8",
           "Mate in 1"
          ],
          [
           "openai/gpt-4.1-mini",
           "Qg8",
           "Mate in 1"
          ],
          [
           "openai/gpt-4.1-mini",
           "Qg8",
           "Mate in 1"
          ],
          [
           "openai/gpt-4.1-mini",
           "Qg8",
           "Mate in 1"
          ],
          [
           "openai/gpt-4.1-mini",
           "Qg8",
           "Mate in 1"
          ],
          [
           "openai/gpt-4.1-mini",
           "Qg8",
           "Mate in 1"
          ],
          [
           "openai/gpt-4.1-mini",
           "Qg8",
           "Mate in 1"
          ],
          [
           "openai/gpt-4.1-mini",
           "Qg8",
           "Mate in 1"
          ],
          [
           "openai/gpt-4.1-mini",
           "Qg8",
           "Mate in 1"
          ],
          [
           "openai/gpt-4.1-mini",
           "Qg8",
           "Mate in 1"
          ],
          [
           "openai/gpt-4.1-mini",
           "Qg8",
           "Mate in 1"
          ],
          [
           "openai/gpt-4.1-mini",
           "Qg8",
           "Mate in 1"
          ],
          [
           "openai/gpt-4.1-mini",
           "Qg8",
           "Mate in 1"
          ],
          [
           "openai/gpt-4.1-mini",
           "Qg8",
           "Mate in 1"
          ],
          [
           "openai/gpt-4.1-mini",
           "Qg8",
           "Mate in 1"
          ],
          [
           "openai/gpt-4.1-mini",
           "Qg8",
           "Mate in 1"
          ],
          [
           "openai/gpt-4.1-mini",
           "Qg8",
           "Mate in 1"
          ],
          [
           "openai/gpt-4.1-mini",
           "Qg8",
           "Mate in 1"
          ],
          [
           "openai/gpt-4.1-mini",
           "Qg8",
           "Mate in 1"
          ],
          [
           "openai/gpt-4.1-mini",
           "Qg8",
           "Mate in 1"
          ],
          [
           "openai/gpt-4.1-mini",
           "Qg8",
           "Mate in 1"
          ],
          [
           "openai/gpt-4.1-mini",
           "Qg8",
           "Mate in 1"
          ],
          [
           "openai/gpt-4.1-mini",
           "Qg8",
           "Mate in 1"
          ],
          [
           null,
           null,
           null
          ],
          [
           "=== Summary Statistics ===",
           null,
           null
          ],
          [
           "Average Normalized Value",
           null,
           "0.99"
          ],
          [
           "Standard Deviation",
           null,
           "0.07"
          ],
          [
           "Mean Absolute Error (from 0.5)",
           null,
           "0.49"
          ],
          [
           "Illegal Moves (%)",
           null,
           "0.00%"
          ],
          [
           "Mean Value (Legal Moves Only)",
           null,
           "0.99"
          ],
          [
           "openai/gpt-4.1-mini",
           "Qg8",
           "Mate in 1"
          ],
          [
           "openai/gpt-4.1-mini",
           "Qg8",
           "Mate in 1"
          ],
          [
           "openai/gpt-4.1-mini",
           "Qxf7",
           "0 cp"
          ],
          [
           "openai/gpt-4.1-mini",
           "Qg8",
           "Mate in 1"
          ],
          [
           "openai/gpt-4.1-mini",
           "Qg8",
           "Mate in 1"
          ],
          [
           "openai/gpt-4.1-mini",
           "Qg8",
           "Mate in 1"
          ],
          [
           "openai/gpt-4.1-mini",
           "Qxf7",
           "0 cp"
          ],
          [
           "openai/gpt-4.1-mini",
           "Qg8",
           "Mate in 1"
          ],
          [
           "openai/gpt-4.1-mini",
           "Qxf7",
           "0 cp"
          ],
          [
           "openai/gpt-4.1-mini",
           "Qg8",
           "Mate in 1"
          ],
          [
           "openai/gpt-4.1-mini",
           "Qg8",
           "Mate in 1"
          ],
          [
           "openai/gpt-4.1-mini",
           "Qg8",
           "Mate in 1"
          ],
          [
           "openai/gpt-4.1-mini",
           "Qg8",
           "Mate in 1"
          ],
          [
           "openai/gpt-4.1-mini",
           "Qg8",
           "Mate in 1"
          ],
          [
           "openai/gpt-4.1-mini",
           "Qg8",
           "Mate in 1"
          ],
          [
           "openai/gpt-4.1-mini",
           "Qg8",
           "Mate in 1"
          ],
          [
           "openai/gpt-4.1-mini",
           "Qg8",
           "Mate in 1"
          ],
          [
           "openai/gpt-4.1-mini",
           "Qg8",
           "Mate in 1"
          ],
          [
           "openai/gpt-4.1-mini",
           "Qg8",
           "Mate in 1"
          ],
          [
           "openai/gpt-4.1-mini",
           "Qg8",
           "Mate in 1"
          ],
          [
           "openai/gpt-4.1-mini",
           "Qg8",
           "Mate in 1"
          ],
          [
           "openai/gpt-4.1-mini",
           "Qg8",
           "Mate in 1"
          ],
          [
           "openai/gpt-4.1-mini",
           "Qg8",
           "Mate in 1"
          ],
          [
           "openai/gpt-4.1-mini",
           "Qg8",
           "Mate in 1"
          ],
          [
           "openai/gpt-4.1-mini",
           "Qg8",
           "Mate in 1"
          ],
          [
           "openai/gpt-4.1-mini",
           "Qg8",
           "Mate in 1"
          ],
          [
           "openai/gpt-4.1-mini",
           "Qg8",
           "Mate in 1"
          ],
          [
           "openai/gpt-4.1-mini",
           "Qxf7",
           "2 cp"
          ],
          [
           "openai/gpt-4.1-mini",
           "Qxd8",
           null
          ],
          [
           "openai/gpt-4.1-mini",
           "Qg8",
           "Mate in 1"
          ],
          [
           "openai/gpt-4.1-mini",
           "Qg8",
           "Mate in 1"
          ],
          [
           "openai/gpt-4.1-mini",
           "Qg8",
           "Mate in 1"
          ],
          [
           "openai/gpt-4.1-mini",
           "Qg8",
           "Mate in 1"
          ],
          [
           "openai/gpt-4.1-mini",
           "Qg8",
           "Mate in 1"
          ],
          [
           "openai/gpt-4.1-mini",
           "Qxf7",
           "0 cp"
          ],
          [
           "openai/gpt-4.1-mini",
           "Qg8",
           "Mate in 1"
          ],
          [
           "openai/gpt-4.1-mini",
           "Qg8Rxg8",
           null
          ],
          [
           "openai/gpt-4.1-mini",
           "Qxf7",
           "0 cp"
          ],
          [
           "openai/gpt-4.1-mini",
           "Qg8",
           "Mate in 1"
          ],
          [
           "openai/gpt-4.1-mini",
           "Qg8",
           "Mate in 1"
          ],
          [
           "openai/gpt-4.1-mini",
           "Qg8",
           "Mate in 1"
          ],
          [
           "openai/gpt-4.1-mini",
           "Qg8",
           "Mate in 1"
          ],
          [
           "openai/gpt-4.1-mini",
           "Qg8",
           "Mate in 1"
          ],
          [
           "openai/gpt-4.1-mini",
           "Qg8",
           "Mate in 1"
          ],
          [
           "openai/gpt-4.1-mini",
           "Qg8",
           "Mate in 1"
          ],
          [
           "openai/gpt-4.1-mini",
           "Qg8",
           "Mate in 1"
          ],
          [
           "openai/gpt-4.1-mini",
           "Qg8",
           "Mate in 1"
          ],
          [
           "openai/gpt-4.1-mini",
           "Qg8",
           "Mate in 1"
          ],
          [
           "openai/gpt-4.1-mini",
           "SE",
           null
          ],
          [
           "openai/gpt-4.1-mini",
           "Qg8",
           "Mate in 1"
          ],
          [
           "openai/gpt-4.1-mini",
           "Qg8",
           "Mate in 1"
          ],
          [
           "openai/gpt-4.1-mini",
           "Qg8",
           "Mate in 1"
          ],
          [
           "openai/gpt-4.1-mini",
           "Qg8",
           "Mate in 1"
          ],
          [
           "openai/gpt-4.1-mini",
           "Qg8",
           "Mate in 1"
          ],
          [
           "openai/gpt-4.1-mini",
           "Qg8",
           "Mate in 1"
          ],
          [
           "openai/gpt-4.1-mini",
           "Qg8",
           "Mate in 1"
          ],
          [
           "openai/gpt-4.1-mini",
           "Qg8",
           "Mate in 1"
          ],
          [
           "openai/gpt-4.1-mini",
           "Qg8",
           "Mate in 1"
          ],
          [
           "openai/gpt-4.1-mini",
           "Qg8",
           "Mate in 1"
          ],
          [
           "openai/gpt-4.1-mini",
           "Qg8",
           "Mate in 1"
          ],
          [
           "openai/gpt-4.1-mini",
           "Qxf7",
           "0 cp"
          ],
          [
           "openai/gpt-4.1-mini",
           "Qg8",
           "Mate in 1"
          ],
          [
           "openai/gpt-4.1-mini",
           "Qg8",
           "Mate in 1"
          ],
          [
           "openai/gpt-4.1-mini",
           "Qg8",
           "Mate in 1"
          ],
          [
           "openai/gpt-4.1-mini",
           "Qg8",
           "Mate in 1"
          ],
          [
           "openai/gpt-4.1-mini",
           "Qg8",
           "Mate in 1"
          ],
          [
           "openai/gpt-4.1-mini",
           "Qg8",
           "Mate in 1"
          ],
          [
           "openai/gpt-4.1-mini",
           "Qg8",
           "Mate in 1"
          ],
          [
           "openai/gpt-4.1-mini",
           "Qg8",
           "Mate in 1"
          ],
          [
           "openai/gpt-4.1-mini",
           "Qg8",
           "Mate in 1"
          ],
          [
           "openai/gpt-4.1-mini",
           "Qg8",
           "Mate in 1"
          ],
          [
           "openai/gpt-4.1-mini",
           "Qg8",
           "Mate in 1"
          ],
          [
           "openai/gpt-4.1-mini",
           "Qxf7",
           "0 cp"
          ],
          [
           "openai/gpt-4.1-mini",
           "Qg8",
           "Mate in 1"
          ],
          [
           "openai/gpt-4.1-mini",
           "Qg8",
           "Mate in 1"
          ],
          [
           "openai/gpt-4.1-mini",
           "Qg8",
           "Mate in 1"
          ],
          [
           "openai/gpt-4.1-mini",
           "Qg8",
           "Mate in 1"
          ],
          [
           "openai/gpt-4.1-mini",
           "Qg8",
           "Mate in 1"
          ],
          [
           "openai/gpt-4.1-mini",
           "Qg8",
           "Mate in 1"
          ],
          [
           "openai/gpt-4.1-mini",
           "Qg8",
           "Mate in 1"
          ],
          [
           "openai/gpt-4.1-mini",
           "Qg8",
           "Mate in 1"
          ],
          [
           "openai/gpt-4.1-mini",
           "Qg8",
           "Mate in 1"
          ],
          [
           "openai/gpt-4.1-mini",
           "Qg8",
           "Mate in 1"
          ],
          [
           "openai/gpt-4.1-mini",
           "Qg8",
           "Mate in 1"
          ],
          [
           "openai/gpt-4.1-mini",
           "Qg8",
           "Mate in 1"
          ],
          [
           "openai/gpt-4.1-mini",
           "Qg8",
           "Mate in 1"
          ],
          [
           "openai/gpt-4.1-mini",
           "Qg8",
           "Mate in 1"
          ],
          [
           "openai/gpt-4.1-mini",
           "Qg8",
           "Mate in 1"
          ],
          [
           "openai/gpt-4.1-mini",
           "Qg8",
           "Mate in 1"
          ],
          [
           "openai/gpt-4.1-mini",
           "Qg8",
           "Mate in 1"
          ],
          [
           "openai/gpt-4.1-mini",
           "Qg8",
           "Mate in 1"
          ],
          [
           "openai/gpt-4.1-mini",
           "Qxf7",
           "0 cp"
          ],
          [
           "openai/gpt-4.1-mini",
           "Qg8",
           "Mate in 1"
          ],
          [
           "openai/gpt-4.1-mini",
           "Qg8",
           "Mate in 1"
          ],
          [
           "openai/gpt-4.1-mini",
           "Qg8",
           "Mate in 1"
          ],
          [
           "openai/gpt-4.1-mini",
           "Qg8",
           "Mate in 1"
          ],
          [
           "openai/gpt-4.1-mini",
           "Qg8",
           "Mate in 1"
          ],
          [
           "openai/gpt-4.1-mini",
           "Qg8",
           "Mate in 1"
          ],
          [
           "openai/gpt-4.1-mini",
           "Qg8",
           "Mate in 1"
          ],
          [
           "openai/gpt-4.1-mini",
           "Qg8",
           "Mate in 1"
          ],
          [
           null,
           null,
           null
          ],
          [
           "=== Summary Statistics ===",
           null,
           null
          ],
          [
           "Average Normalized Value",
           null,
           "0.925"
          ],
          [
           "Standard Deviation",
           null,
           "0.216"
          ],
          [
           "Mean Absolute Error (from 0.5)",
           null,
           "0.455"
          ],
          [
           "Illegal Moves (%)",
           null,
           "3.00%"
          ],
          [
           "Mean Value (Legal Moves Only)",
           null,
           "0.954"
          ],
          [
           "openai/gpt-4.1-mini",
           "Qg8",
           "Mate in 1"
          ],
          [
           "openai/gpt-4.1-mini",
           "Qg8",
           "Mate in 1"
          ],
          [
           "openai/gpt-4.1-mini",
           "Qg8",
           "Mate in 1"
          ],
          [
           "openai/gpt-4.1-mini",
           "Qg8",
           "Mate in 1"
          ],
          [
           "openai/gpt-4.1-mini",
           "Qxf7",
           "0 cp"
          ],
          [
           "openai/gpt-4.1-mini",
           "Qg8",
           "Mate in 1"
          ],
          [
           "openai/gpt-4.1-mini",
           "Qg8",
           "Mate in 1"
          ],
          [
           "openai/gpt-4.1-mini",
           "Qg8",
           "Mate in 1"
          ],
          [
           "openai/gpt-4.1-mini",
           "Qg8",
           "Mate in 1"
          ],
          [
           "openai/gpt-4.1-mini",
           "Qg8",
           "Mate in 1"
          ],
          [
           "openai/gpt-4.1-mini",
           "Qg8",
           "Mate in 1"
          ],
          [
           "openai/gpt-4.1-mini",
           "Qg8",
           "Mate in 1"
          ],
          [
           "openai/gpt-4.1-mini",
           "Qg8Rxg8",
           null
          ],
          [
           "openai/gpt-4.1-mini",
           "Qxf7",
           "0 cp"
          ],
          [
           "openai/gpt-4.1-mini",
           "Qg8",
           "Mate in 1"
          ],
          [
           "openai/gpt-4.1-mini",
           "Qg8",
           "Mate in 1"
          ],
          [
           "openai/gpt-4.1-mini",
           "Qg8",
           "Mate in 1"
          ],
          [
           "openai/gpt-4.1-mini",
           "Qg8",
           "Mate in 1"
          ],
          [
           "openai/gpt-4.1-mini",
           "Qg8",
           "Mate in 1"
          ],
          [
           "openai/gpt-4.1-mini",
           "Qxf7",
           "0 cp"
          ],
          [
           "openai/gpt-4.1-mini",
           "Qg8",
           "Mate in 1"
          ],
          [
           "openai/gpt-4.1-mini",
           "Qg8",
           "Mate in 1"
          ],
          [
           "openai/gpt-4.1-mini",
           "Qg8",
           "Mate in 1"
          ],
          [
           "openai/gpt-4.1-mini",
           "Qg8Rxg8",
           null
          ],
          [
           "openai/gpt-4.1-mini",
           "Qg8",
           "Mate in 1"
          ],
          [
           "openai/gpt-4.1-mini",
           "Qg8",
           "Mate in 1"
          ],
          [
           "openai/gpt-4.1-mini",
           "Qg8",
           "Mate in 1"
          ],
          [
           "openai/gpt-4.1-mini",
           "Qg8",
           "Mate in 1"
          ],
          [
           "openai/gpt-4.1-mini",
           "Qg8",
           "Mate in 1"
          ],
          [
           "openai/gpt-4.1-mini",
           "Qxf7",
           "0 cp"
          ],
          [
           "openai/gpt-4.1-mini",
           "Qg8",
           "Mate in 1"
          ],
          [
           "openai/gpt-4.1-mini",
           "Qxf7",
           "0 cp"
          ],
          [
           "openai/gpt-4.1-mini",
           "Qg8",
           "Mate in 1"
          ],
          [
           "openai/gpt-4.1-mini",
           "Qg8",
           "Mate in 1"
          ],
          [
           "openai/gpt-4.1-mini",
           "Qg8",
           "Mate in 1"
          ],
          [
           "openai/gpt-4.1-mini",
           "Qg8",
           "Mate in 1"
          ],
          [
           "openai/gpt-4.1-mini",
           "Qg8",
           "Mate in 1"
          ],
          [
           "openai/gpt-4.1-mini",
           "Qg8",
           "Mate in 1"
          ],
          [
           "openai/gpt-4.1-mini",
           "Qg8",
           "Mate in 1"
          ],
          [
           "openai/gpt-4.1-mini",
           "Qg8",
           "Mate in 1"
          ],
          [
           "openai/gpt-4.1-mini",
           "Qg8",
           "Mate in 1"
          ],
          [
           "openai/gpt-4.1-mini",
           "Qg8",
           "Mate in 1"
          ],
          [
           "openai/gpt-4.1-mini",
           "Qxf7",
           "0 cp"
          ],
          [
           "openai/gpt-4.1-mini",
           "Qg8",
           "Mate in 1"
          ],
          [
           "openai/gpt-4.1-mini",
           "Qg8",
           "Mate in 1"
          ],
          [
           "openai/gpt-4.1-mini",
           "Qg8",
           "Mate in 1"
          ],
          [
           "openai/gpt-4.1-mini",
           "Qg8",
           "Mate in 1"
          ],
          [
           "openai/gpt-4.1-mini",
           "Qg8",
           "Mate in 1"
          ],
          [
           "openai/gpt-4.1-mini",
           "Qg8",
           "Mate in 1"
          ],
          [
           "openai/gpt-4.1-mini",
           "Qg8",
           "Mate in 1"
          ],
          [
           "openai/gpt-4.1-mini",
           "Qg8",
           "Mate in 1"
          ],
          [
           "openai/gpt-4.1-mini",
           "Qg8",
           "Mate in 1"
          ],
          [
           "openai/gpt-4.1-mini",
           "Qg8",
           "Mate in 1"
          ],
          [
           "openai/gpt-4.1-mini",
           "Qg8",
           "Mate in 1"
          ],
          [
           "openai/gpt-4.1-mini",
           "Qg8",
           "Mate in 1"
          ],
          [
           "openai/gpt-4.1-mini",
           "Qg8",
           "Mate in 1"
          ],
          [
           "openai/gpt-4.1-mini",
           "Qg8",
           "Mate in 1"
          ],
          [
           "openai/gpt-4.1-mini",
           "Qg8",
           "Mate in 1"
          ],
          [
           "openai/gpt-4.1-mini",
           "Qxf7",
           "0 cp"
          ],
          [
           "openai/gpt-4.1-mini",
           "Nhf7",
           "602 cp"
          ],
          [
           "openai/gpt-4.1-mini",
           "Qg8",
           "Mate in 1"
          ],
          [
           "openai/gpt-4.1-mini",
           "Qg8",
           "Mate in 1"
          ],
          [
           "openai/gpt-4.1-mini",
           "Qg8",
           "Mate in 1"
          ],
          [
           "openai/gpt-4.1-mini",
           "Qg8",
           "Mate in 1"
          ],
          [
           "openai/gpt-4.1-mini",
           "Qg8",
           "Mate in 1"
          ],
          [
           "openai/gpt-4.1-mini",
           "Qg8",
           "Mate in 1"
          ],
          [
           "openai/gpt-4.1-mini",
           "Qg8",
           "Mate in 1"
          ],
          [
           "openai/gpt-4.1-mini",
           "Qxf7",
           "0 cp"
          ],
          [
           "openai/gpt-4.1-mini",
           "Qg8",
           "Mate in 1"
          ],
          [
           "openai/gpt-4.1-mini",
           "Qg8",
           "Mate in 1"
          ],
          [
           "openai/gpt-4.1-mini",
           "Qg8",
           "Mate in 1"
          ],
          [
           "openai/gpt-4.1-mini",
           "Qg8",
           "Mate in 1"
          ],
          [
           "openai/gpt-4.1-mini",
           "Qg8",
           "Mate in 1"
          ],
          [
           "openai/gpt-4.1-mini",
           "Qg8",
           "Mate in 1"
          ],
          [
           "openai/gpt-4.1-mini",
           "Qg8",
           "Mate in 1"
          ],
          [
           "openai/gpt-4.1-mini",
           "Qg8",
           "Mate in 1"
          ],
          [
           "openai/gpt-4.1-mini",
           "Qg8",
           "Mate in 1"
          ],
          [
           "openai/gpt-4.1-mini",
           "Qg8",
           "Mate in 1"
          ],
          [
           "openai/gpt-4.1-mini",
           "Qg8",
           "Mate in 1"
          ],
          [
           "openai/gpt-4.1-mini",
           "Qxf7",
           "0 cp"
          ],
          [
           "openai/gpt-4.1-mini",
           "Qg8",
           "Mate in 1"
          ],
          [
           "openai/gpt-4.1-mini",
           "Qg8",
           "Mate in 1"
          ],
          [
           "openai/gpt-4.1-mini",
           "Qg8",
           "Mate in 1"
          ],
          [
           "openai/gpt-4.1-mini",
           "Qg8",
           "Mate in 1"
          ],
          [
           "openai/gpt-4.1-mini",
           "Qg8",
           "Mate in 1"
          ],
          [
           "openai/gpt-4.1-mini",
           "Qg8",
           "Mate in 1"
          ],
          [
           "openai/gpt-4.1-mini",
           "Qg8",
           "Mate in 1"
          ],
          [
           "openai/gpt-4.1-mini",
           "Qg8",
           "Mate in 1"
          ],
          [
           "openai/gpt-4.1-mini",
           "Qg8",
           "Mate in 1"
          ],
          [
           "openai/gpt-4.1-mini",
           "Qg8",
           "Mate in 1"
          ],
          [
           "openai/gpt-4.1-mini",
           "Qg8",
           "Mate in 1"
          ],
          [
           "openai/gpt-4.1-mini",
           "Qg8",
           "Mate in 1"
          ],
          [
           "openai/gpt-4.1-mini",
           "Qxf7",
           "0 cp"
          ],
          [
           "openai/gpt-4.1-mini",
           "Qg8",
           "Mate in 1"
          ],
          [
           "openai/gpt-4.1-mini",
           "Qg8",
           "Mate in 1"
          ],
          [
           "openai/gpt-4.1-mini",
           "Qg8",
           "Mate in 1"
          ],
          [
           "openai/gpt-4.1-mini",
           "Qg8",
           "Mate in 1"
          ],
          [
           "openai/gpt-4.1-mini",
           "Qg8",
           "Mate in 1"
          ],
          [
           "openai/gpt-4.1-mini",
           "Qg8",
           "Mate in 1"
          ],
          [
           "openai/gpt-4.1-mini",
           "Qg8",
           "Mate in 1"
          ],
          [
           null,
           null,
           null
          ],
          [
           "=== Summary Statistics ===",
           null,
           null
          ],
          [
           "Average Normalized Value",
           null,
           "0.928"
          ],
          [
           "Standard Deviation",
           null,
           "0.201"
          ],
          [
           "Mean Absolute Error (from 0.5)",
           null,
           "0.448"
          ],
          [
           "Illegal Moves (%)",
           null,
           "2.00%"
          ],
          [
           "Mean Value (Legal Moves Only)",
           null,
           "0.947"
          ],
          [
           "openai/gpt-4.1-mini",
           "Qg8",
           "Mate in 1"
          ],
          [
           "openai/gpt-4.1-mini",
           "Qg8",
           "Mate in 1"
          ],
          [
           "openai/gpt-4.1-mini",
           "Qg8",
           "Mate in 1"
          ],
          [
           "openai/gpt-4.1-mini",
           "Qg8",
           "Mate in 1"
          ],
          [
           "openai/gpt-4.1-mini",
           "Qg8",
           "Mate in 1"
          ],
          [
           "openai/gpt-4.1-mini",
           "Qg8",
           "Mate in 1"
          ],
          [
           "openai/gpt-4.1-mini",
           "Qxf7",
           "0 cp"
          ],
          [
           "openai/gpt-4.1-mini",
           "Qg8",
           "Mate in 1"
          ],
          [
           "openai/gpt-4.1-mini",
           "Qg8",
           "Mate in 1"
          ],
          [
           "openai/gpt-4.1-mini",
           "Qg8",
           "Mate in 1"
          ],
          [
           "openai/gpt-4.1-mini",
           "Qg8",
           "Mate in 1"
          ],
          [
           "openai/gpt-4.1-mini",
           "Qg8",
           "Mate in 1"
          ],
          [
           "openai/gpt-4.1-mini",
           "Qg8",
           "Mate in 1"
          ],
          [
           "openai/gpt-4.1-mini",
           "Qg8",
           "Mate in 1"
          ],
          [
           "openai/gpt-4.1-mini",
           "Qg8",
           "Mate in 1"
          ],
          [
           "openai/gpt-4.1-mini",
           "Qg8",
           "Mate in 1"
          ],
          [
           "openai/gpt-4.1-mini",
           "Qg8",
           "Mate in 1"
          ],
          [
           "openai/gpt-4.1-mini",
           "Qg8",
           "Mate in 1"
          ],
          [
           "openai/gpt-4.1-mini",
           "Qg8",
           "Mate in 1"
          ],
          [
           "openai/gpt-4.1-mini",
           "Qg8",
           "Mate in 1"
          ],
          [
           "openai/gpt-4.1-mini",
           "Qg8",
           "Mate in 1"
          ],
          [
           "openai/gpt-4.1-mini",
           "Qg8",
           "Mate in 1"
          ],
          [
           "openai/gpt-4.1-mini",
           "Qg8",
           "Mate in 1"
          ],
          [
           "openai/gpt-4.1-mini",
           "Qg8",
           "Mate in 1"
          ],
          [
           "openai/gpt-4.1-mini",
           "Qg8",
           "Mate in 1"
          ],
          [
           "openai/gpt-4.1-mini",
           "Qxf7",
           "0 cp"
          ],
          [
           "openai/gpt-4.1-mini",
           "Qg8",
           "Mate in 1"
          ],
          [
           "openai/gpt-4.1-mini",
           "Qg8",
           "Mate in 1"
          ],
          [
           "openai/gpt-4.1-mini",
           "Qxf7",
           "0 cp"
          ],
          [
           "openai/gpt-4.1-mini",
           "Qg8",
           "Mate in 1"
          ],
          [
           "openai/gpt-4.1-mini",
           "Qg8",
           "Mate in 1"
          ],
          [
           "openai/gpt-4.1-mini",
           "Qg8",
           "Mate in 1"
          ],
          [
           "openai/gpt-4.1-mini",
           "Qxf7",
           "0 cp"
          ],
          [
           "openai/gpt-4.1-mini",
           "Qg8",
           "Mate in 1"
          ],
          [
           "openai/gpt-4.1-mini",
           "Qg8",
           "Mate in 1"
          ],
          [
           "openai/gpt-4.1-mini",
           "Qg8",
           "Mate in 1"
          ],
          [
           "openai/gpt-4.1-mini",
           "Qxf7",
           "0 cp"
          ],
          [
           "openai/gpt-4.1-mini",
           "Qxf7",
           "0 cp"
          ],
          [
           "openai/gpt-4.1-mini",
           "Qg8",
           "Mate in 1"
          ],
          [
           "openai/gpt-4.1-mini",
           "Qg8",
           "Mate in 1"
          ],
          [
           "openai/gpt-4.1-mini",
           "Qg8",
           "Mate in 1"
          ],
          [
           "openai/gpt-4.1-mini",
           "Qg8",
           "Mate in 1"
          ],
          [
           "openai/gpt-4.1-mini",
           "Qg8",
           "Mate in 1"
          ],
          [
           "openai/gpt-4.1-mini",
           "Qg8",
           "Mate in 1"
          ],
          [
           "openai/gpt-4.1-mini",
           "Qg8",
           "Mate in 1"
          ],
          [
           "openai/gpt-4.1-mini",
           "Qg8",
           "Mate in 1"
          ],
          [
           "openai/gpt-4.1-mini",
           "Qg8",
           "Mate in 1"
          ],
          [
           "openai/gpt-4.1-mini",
           "Qg8",
           "Mate in 1"
          ],
          [
           "openai/gpt-4.1-mini",
           "Qxf7",
           "0 cp"
          ],
          [
           "openai/gpt-4.1-mini",
           "Qg8",
           "Mate in 1"
          ],
          [
           "openai/gpt-4.1-mini",
           "Qxf7",
           "0 cp"
          ],
          [
           "openai/gpt-4.1-mini",
           "Qg8Rxg8",
           null
          ],
          [
           "openai/gpt-4.1-mini",
           "Qg8",
           "Mate in 1"
          ],
          [
           "openai/gpt-4.1-mini",
           "Qg8",
           "Mate in 1"
          ],
          [
           "openai/gpt-4.1-mini",
           "Qg8",
           "Mate in 1"
          ],
          [
           "openai/gpt-4.1-mini",
           "Qg8",
           "Mate in 1"
          ],
          [
           "openai/gpt-4.1-mini",
           "Qg8",
           "Mate in 1"
          ],
          [
           "openai/gpt-4.1-mini",
           "Qg8",
           "Mate in 1"
          ],
          [
           "openai/gpt-4.1-mini",
           "Qg8",
           "Mate in 1"
          ],
          [
           "openai/gpt-4.1-mini",
           "Qg8",
           "Mate in 1"
          ],
          [
           "openai/gpt-4.1-mini",
           "Qg8",
           "Mate in 1"
          ],
          [
           "openai/gpt-4.1-mini",
           "Qg8",
           "Mate in 1"
          ],
          [
           "openai/gpt-4.1-mini",
           "Qg8",
           "Mate in 1"
          ],
          [
           "openai/gpt-4.1-mini",
           "Qg8",
           "Mate in 1"
          ],
          [
           "openai/gpt-4.1-mini",
           "Qg8",
           "Mate in 1"
          ],
          [
           "openai/gpt-4.1-mini",
           "Qg8",
           "Mate in 1"
          ],
          [
           "openai/gpt-4.1-mini",
           "Qxf7",
           "0 cp"
          ],
          [
           "openai/gpt-4.1-mini",
           "Qxf7",
           "0 cp"
          ],
          [
           "openai/gpt-4.1-mini",
           "Qg8",
           "Mate in 1"
          ],
          [
           "openai/gpt-4.1-mini",
           "Qg8",
           "Mate in 1"
          ],
          [
           "openai/gpt-4.1-mini",
           "Qg8",
           "Mate in 1"
          ],
          [
           "openai/gpt-4.1-mini",
           "Qxf7",
           "0 cp"
          ],
          [
           "openai/gpt-4.1-mini",
           "Qg8",
           "Mate in 1"
          ],
          [
           "openai/gpt-4.1-mini",
           "Qxf7",
           "0 cp"
          ],
          [
           "openai/gpt-4.1-mini",
           "Qxf7",
           "0 cp"
          ],
          [
           "openai/gpt-4.1-mini",
           "Qg8",
           "Mate in 1"
          ],
          [
           "openai/gpt-4.1-mini",
           "Qxd8",
           null
          ],
          [
           "openai/gpt-4.1-mini",
           "Qg8",
           "Mate in 1"
          ],
          [
           "openai/gpt-4.1-mini",
           "Qxf7",
           "0 cp"
          ],
          [
           "openai/gpt-4.1-mini",
           "Qg8",
           "Mate in 1"
          ],
          [
           "openai/gpt-4.1-mini",
           "Qg8",
           "Mate in 1"
          ],
          [
           "openai/gpt-4.1-mini",
           "Qg8",
           "Mate in 1"
          ],
          [
           "openai/gpt-4.1-mini",
           "Qg8",
           "Mate in 1"
          ],
          [
           "openai/gpt-4.1-mini",
           "Qg8",
           "Mate in 1"
          ],
          [
           "openai/gpt-4.1-mini",
           "Qxf7",
           "0 cp"
          ],
          [
           "openai/gpt-4.1-mini",
           "Qg8",
           "Mate in 1"
          ],
          [
           "openai/gpt-4.1-mini",
           "Qg8",
           "Mate in 1"
          ],
          [
           "openai/gpt-4.1-mini",
           "Qg8",
           "Mate in 1"
          ],
          [
           "openai/gpt-4.1-mini",
           "Qxf7",
           "0 cp"
          ],
          [
           "openai/gpt-4.1-mini",
           "Qg8",
           "Mate in 1"
          ],
          [
           "openai/gpt-4.1-mini",
           "Qg8",
           "Mate in 1"
          ],
          [
           "openai/gpt-4.1-mini",
           "Qg8",
           "Mate in 1"
          ],
          [
           "openai/gpt-4.1-mini",
           "Qg8",
           "Mate in 1"
          ],
          [
           "openai/gpt-4.1-mini",
           "Qg8",
           "Mate in 1"
          ],
          [
           "openai/gpt-4.1-mini",
           "Qg8",
           "Mate in 1"
          ],
          [
           "openai/gpt-4.1-mini",
           "Qg8",
           "Mate in 1"
          ],
          [
           "openai/gpt-4.1-mini",
           "Qg8",
           "Mate in 1"
          ],
          [
           "openai/gpt-4.1-mini",
           "Qg8",
           "Mate in 1"
          ],
          [
           "openai/gpt-4.1-mini",
           "Qg8",
           "Mate in 1"
          ],
          [
           "openai/gpt-4.1-mini",
           "Qg8",
           "Mate in 1"
          ],
          [
           null,
           null,
           null
          ],
          [
           "=== Summary Statistics ===",
           null,
           null
          ],
          [
           "Average Normalized Value",
           null,
           "0.9"
          ],
          [
           "Standard Deviation",
           null,
           "0.224"
          ],
          [
           "Mean Absolute Error (from 0.5)",
           null,
           "0.42"
          ],
          [
           "Illegal Moves (%)",
           null,
           "2.00%"
          ],
          [
           "Mean Value (Legal Moves Only)",
           null,
           "0.918"
          ],
          [
           "openai/gpt-4.1-mini",
           "Qg8",
           "Mate in 1"
          ],
          [
           "openai/gpt-4.1-mini",
           "Qg8",
           "Mate in 1"
          ],
          [
           "openai/gpt-4.1-mini",
           "Qg8",
           "Mate in 1"
          ],
          [
           "openai/gpt-4.1-mini",
           "Qg8",
           "Mate in 1"
          ],
          [
           "openai/gpt-4.1-mini",
           "Qg8",
           "Mate in 1"
          ],
          [
           "openai/gpt-4.1-mini",
           "Qxf7",
           "0 cp"
          ],
          [
           "openai/gpt-4.1-mini",
           "Qg8",
           "Mate in 1"
          ],
          [
           "openai/gpt-4.1-mini",
           "Qg8",
           "Mate in 1"
          ],
          [
           "openai/gpt-4.1-mini",
           "Qg8",
           "Mate in 1"
          ],
          [
           "openai/gpt-4.1-mini",
           "Qg8",
           "Mate in 1"
          ],
          [
           "openai/gpt-4.1-mini",
           "Qxf7",
           "0 cp"
          ],
          [
           "openai/gpt-4.1-mini",
           "Qg8",
           "Mate in 1"
          ],
          [
           "openai/gpt-4.1-mini",
           "Qxd7",
           "-523 cp"
          ],
          [
           "openai/gpt-4.1-mini",
           "Qxf7",
           "0 cp"
          ],
          [
           "openai/gpt-4.1-mini",
           "Qg8",
           "Mate in 1"
          ],
          [
           "openai/gpt-4.1-mini",
           "Qg8",
           "Mate in 1"
          ],
          [
           "openai/gpt-4.1-mini",
           "Qxf7",
           "0 cp"
          ],
          [
           "openai/gpt-4.1-mini",
           "Qg8",
           "Mate in 1"
          ],
          [
           "openai/gpt-4.1-mini",
           "Nhf7",
           "Mate in 3"
          ],
          [
           "openai/gpt-4.1-mini",
           "Qg8",
           "Mate in 1"
          ],
          [
           "openai/gpt-4.1-mini",
           "Qg8",
           "Mate in 1"
          ],
          [
           "openai/gpt-4.1-mini",
           "Qg8",
           "Mate in 1"
          ],
          [
           "openai/gpt-4.1-mini",
           "Qxf7",
           "0 cp"
          ],
          [
           "openai/gpt-4.1-mini",
           "Qg8",
           "Mate in 1"
          ],
          [
           "openai/gpt-4.1-mini",
           "Qg8",
           "Mate in 1"
          ],
          [
           "openai/gpt-4.1-mini",
           "Qg8",
           "Mate in 1"
          ],
          [
           "openai/gpt-4.1-mini",
           "Qg8",
           "Mate in 1"
          ],
          [
           "openai/gpt-4.1-mini",
           "Qg8",
           "Mate in 1"
          ],
          [
           "openai/gpt-4.1-mini",
           "Qxf7",
           "0 cp"
          ],
          [
           "openai/gpt-4.1-mini",
           "Qg8",
           "Mate in 1"
          ],
          [
           "openai/gpt-4.1-mini",
           "Qg8",
           "Mate in 1"
          ],
          [
           "openai/gpt-4.1-mini",
           "Qg8",
           "Mate in 1"
          ],
          [
           "openai/gpt-4.1-mini",
           "Qg8",
           "Mate in 1"
          ],
          [
           "openai/gpt-4.1-mini",
           "Qg8",
           "Mate in 1"
          ],
          [
           "openai/gpt-4.1-mini",
           "Qxf7",
           "0 cp"
          ],
          [
           "openai/gpt-4.1-mini",
           "Qxf7",
           "0 cp"
          ],
          [
           "openai/gpt-4.1-mini",
           "Qg8",
           "Mate in 1"
          ],
          [
           "openai/gpt-4.1-mini",
           "Qg8",
           "Mate in 1"
          ],
          [
           "openai/gpt-4.1-mini",
           "Qxd8",
           null
          ],
          [
           "openai/gpt-4.1-mini",
           "Qg8",
           "Mate in 1"
          ],
          [
           "openai/gpt-4.1-mini",
           "Qg8",
           "Mate in 1"
          ],
          [
           "openai/gpt-4.1-mini",
           "Qxf7",
           "0 cp"
          ],
          [
           "openai/gpt-4.1-mini",
           "Qxf7",
           "0 cp"
          ],
          [
           "openai/gpt-4.1-mini",
           "Qg8",
           "Mate in 1"
          ],
          [
           "openai/gpt-4.1-mini",
           "Qg8",
           "Mate in 1"
          ],
          [
           "openai/gpt-4.1-mini",
           "Qg8",
           "Mate in 1"
          ],
          [
           "openai/gpt-4.1-mini",
           "Qg8",
           "Mate in 1"
          ],
          [
           "openai/gpt-4.1-mini",
           "Qg8",
           "Mate in 1"
          ],
          [
           "openai/gpt-4.1-mini",
           "Qg8",
           "Mate in 1"
          ],
          [
           "openai/gpt-4.1-mini",
           "Qg8",
           "Mate in 1"
          ],
          [
           "openai/gpt-4.1-mini",
           "Qxf7",
           "0 cp"
          ],
          [
           "openai/gpt-4.1-mini",
           "Qg8",
           "Mate in 1"
          ],
          [
           "openai/gpt-4.1-mini",
           "Qxf7",
           "0 cp"
          ],
          [
           "openai/gpt-4.1-mini",
           "Qg8",
           "Mate in 1"
          ],
          [
           "openai/gpt-4.1-mini",
           "Qxf7",
           "0 cp"
          ],
          [
           "openai/gpt-4.1-mini",
           "Qg8",
           "Mate in 1"
          ],
          [
           "openai/gpt-4.1-mini",
           "Qg8Rxg8",
           null
          ],
          [
           "openai/gpt-4.1-mini",
           "Qg8",
           "Mate in 1"
          ],
          [
           "openai/gpt-4.1-mini",
           "Qg8",
           "Mate in 1"
          ],
          [
           "openai/gpt-4.1-mini",
           "Qg8",
           "Mate in 1"
          ],
          [
           "openai/gpt-4.1-mini",
           "Qg8",
           "Mate in 1"
          ],
          [
           "openai/gpt-4.1-mini",
           "Qg8",
           "Mate in 1"
          ],
          [
           "openai/gpt-4.1-mini",
           "Qg8",
           "Mate in 1"
          ],
          [
           "openai/gpt-4.1-mini",
           "Qg8",
           "Mate in 1"
          ],
          [
           "openai/gpt-4.1-mini",
           "Qg8",
           "Mate in 1"
          ],
          [
           "openai/gpt-4.1-mini",
           "Qxf7",
           "0 cp"
          ],
          [
           "openai/gpt-4.1-mini",
           "Qxf7",
           "0 cp"
          ],
          [
           "openai/gpt-4.1-mini",
           "Qg8",
           "Mate in 1"
          ],
          [
           "openai/gpt-4.1-mini",
           "Qg8",
           "Mate in 1"
          ],
          [
           "openai/gpt-4.1-mini",
           "Qh5",
           "-610 cp"
          ],
          [
           "openai/gpt-4.1-mini",
           "Qg8",
           "Mate in 1"
          ],
          [
           "openai/gpt-4.1-mini",
           "Qg8",
           "Mate in 1"
          ],
          [
           "openai/gpt-4.1-mini",
           "Qg8",
           "Mate in 1"
          ],
          [
           "openai/gpt-4.1-mini",
           "Nf7",
           "Mate in 3"
          ],
          [
           "openai/gpt-4.1-mini",
           "Qxf7",
           "0 cp"
          ],
          [
           "openai/gpt-4.1-mini",
           "Qxf7",
           "0 cp"
          ],
          [
           "openai/gpt-4.1-mini",
           "Qg8",
           "Mate in 1"
          ],
          [
           "openai/gpt-4.1-mini",
           "Qxf7",
           "0 cp"
          ],
          [
           "openai/gpt-4.1-mini",
           "Qg8",
           "Mate in 1"
          ],
          [
           "openai/gpt-4.1-mini",
           "Qg8",
           "Mate in 1"
          ],
          [
           "openai/gpt-4.1-mini",
           "Qg8",
           "Mate in 1"
          ],
          [
           "openai/gpt-4.1-mini",
           "Qg8",
           "Mate in 1"
          ],
          [
           "openai/gpt-4.1-mini",
           "Qg8",
           "Mate in 1"
          ],
          [
           "openai/gpt-4.1-mini",
           "Qg8",
           "Mate in 1"
          ],
          [
           "openai/gpt-4.1-mini",
           "Qg8",
           "Mate in 1"
          ],
          [
           "openai/gpt-4.1-mini",
           "Qg8",
           "Mate in 1"
          ],
          [
           "openai/gpt-4.1-mini",
           "Qg8",
           "Mate in 1"
          ],
          [
           "openai/gpt-4.1-mini",
           "Qg8",
           "Mate in 1"
          ],
          [
           "openai/gpt-4.1-mini",
           "Nf7",
           "Mate in 3"
          ],
          [
           "openai/gpt-4.1-mini",
           "Qg8",
           "Mate in 1"
          ],
          [
           "openai/gpt-4.1-mini",
           "Qg8",
           "Mate in 1"
          ],
          [
           "openai/gpt-4.1-mini",
           "Qg8",
           "Mate in 1"
          ],
          [
           "openai/gpt-4.1-mini",
           "Qg8",
           "Mate in 1"
          ],
          [
           "openai/gpt-4.1-mini",
           "Qg8",
           "Mate in 1"
          ],
          [
           "openai/gpt-4.1-mini",
           "Qxf7",
           "6 cp"
          ],
          [
           "openai/gpt-4.1-mini",
           "Qg8",
           "Mate in 1"
          ],
          [
           "openai/gpt-4.1-mini",
           "Qg8",
           "Mate in 1"
          ],
          [
           "openai/gpt-4.1-mini",
           "Nhf7",
           "Mate in 3"
          ],
          [
           "openai/gpt-4.1-mini",
           "Qg8",
           "Mate in 1"
          ],
          [
           "openai/gpt-4.1-mini",
           "Qg8",
           "Mate in 1"
          ],
          [
           null,
           null,
           null
          ],
          [
           "=== Summary Statistics ===",
           null,
           null
          ],
          [
           "Average Normalized Value",
           null,
           "0.869"
          ],
          [
           "Standard Deviation",
           null,
           "0.25"
          ],
          [
           "Mean Absolute Error (from 0.5)",
           null,
           "0.4"
          ],
          [
           "Illegal Moves (%)",
           null,
           "2.00%"
          ],
          [
           "Mean Value (Legal Moves Only)",
           null,
           "0.886"
          ],
          [
           "openai/gpt-4.1-mini",
           "Qg8",
           "Mate in 1"
          ],
          [
           "openai/gpt-4.1-mini",
           "Qg8",
           "Mate in 1"
          ],
          [
           "openai/gpt-4.1-mini",
           "Qg8",
           "Mate in 1"
          ],
          [
           "openai/gpt-4.1-mini",
           "Qg8",
           "Mate in 1"
          ],
          [
           "openai/gpt-4.1-mini",
           "Qg8",
           "Mate in 1"
          ],
          [
           "openai/gpt-4.1-mini",
           "Qg8Rxg8",
           null
          ],
          [
           "openai/gpt-4.1-mini",
           "Qg8",
           "Mate in 1"
          ],
          [
           "openai/gpt-4.1-mini",
           "Qg8",
           "Mate in 1"
          ],
          [
           "openai/gpt-4.1-mini",
           "Nhf7",
           "Mate in 3"
          ],
          [
           "openai/gpt-4.1-mini",
           "Qg8",
           "Mate in 1"
          ],
          [
           "openai/gpt-4.1-mini",
           "Qg8",
           "Mate in 1"
          ],
          [
           "openai/gpt-4.1-mini",
           "Qg8",
           "Mate in 1"
          ],
          [
           "openai/gpt-4.1-mini",
           "Qg8",
           "Mate in 1"
          ],
          [
           "openai/gpt-4.1-mini",
           "Qg8",
           "Mate in 1"
          ],
          [
           "openai/gpt-4.1-mini",
           "Qg8",
           "Mate in 1"
          ],
          [
           "openai/gpt-4.1-mini",
           "Qxf7",
           "3 cp"
          ],
          [
           "openai/gpt-4.1-mini",
           "Qg8",
           "Mate in 1"
          ],
          [
           "openai/gpt-4.1-mini",
           "Nhf7",
           "Mate in 3"
          ],
          [
           "openai/gpt-4.1-mini",
           "Qg8",
           "Mate in 1"
          ],
          [
           "openai/gpt-4.1-mini",
           "Qg8",
           "Mate in 1"
          ],
          [
           "openai/gpt-4.1-mini",
           "Qxd7",
           "-538 cp"
          ],
          [
           "openai/gpt-4.1-mini",
           "Qxf7",
           "1 cp"
          ],
          [
           "openai/gpt-4.1-mini",
           "Qxf7g7",
           null
          ],
          [
           "openai/gpt-4.1-mini",
           "Qxf7",
           "13 cp"
          ],
          [
           "openai/gpt-4.1-mini",
           "Qg8",
           "Mate in 1"
          ],
          [
           "openai/gpt-4.1-mini",
           "Qg8",
           "Mate in 1"
          ],
          [
           "openai/gpt-4.1-mini",
           "Qg8",
           "Mate in 1"
          ],
          [
           "openai/gpt-4.1-mini",
           "Nhf7",
           "Mate in 3"
          ],
          [
           "openai/gpt-4.1-mini",
           "Qg8",
           "Mate in 1"
          ],
          [
           "openai/gpt-4.1-mini",
           "Qg8",
           "Mate in 1"
          ],
          [
           "openai/gpt-4.1-mini",
           "Qg8",
           "Mate in 1"
          ],
          [
           "openai/gpt-4.1-mini",
           "Qg8",
           "Mate in 1"
          ],
          [
           "openai/gpt-4.1-mini",
           "Qg8",
           "Mate in 1"
          ],
          [
           "openai/gpt-4.1-mini",
           "Qxf7",
           "21 cp"
          ],
          [
           "openai/gpt-4.1-mini",
           "Qg8",
           "Mate in 1"
          ],
          [
           "openai/gpt-4.1-mini",
           "Qg8",
           "Mate in 1"
          ],
          [
           "openai/gpt-4.1-mini",
           "Qxd8",
           null
          ],
          [
           "openai/gpt-4.1-mini",
           "Qg8",
           "Mate in 1"
          ],
          [
           "openai/gpt-4.1-mini",
           "Nhf7",
           "Mate in 3"
          ],
          [
           "openai/gpt-4.1-mini",
           "Qg8",
           "Mate in 1"
          ],
          [
           "openai/gpt-4.1-mini",
           "Qg8",
           "Mate in 1"
          ],
          [
           "openai/gpt-4.1-mini",
           "Qg8",
           "Mate in 1"
          ],
          [
           "openai/gpt-4.1-mini",
           "Qxf7",
           "6 cp"
          ],
          [
           "openai/gpt-4.1-mini",
           "Qg8",
           "Mate in 1"
          ],
          [
           "openai/gpt-4.1-mini",
           "Qg8",
           "Mate in 1"
          ],
          [
           "openai/gpt-4.1-mini",
           "Qxf7",
           "24 cp"
          ],
          [
           "openai/gpt-4.1-mini",
           "Nhf7",
           "Mate in 3"
          ],
          [
           "openai/gpt-4.1-mini",
           "Qg8",
           "Mate in 1"
          ],
          [
           "openai/gpt-4.1-mini",
           "Nhf5",
           "-505 cp"
          ],
          [
           "openai/gpt-4.1-mini",
           "Qg8",
           "Mate in 1"
          ],
          [
           "openai/gpt-4.1-mini",
           "Qg8",
           "Mate in 1"
          ],
          [
           "openai/gpt-4.1-mini",
           "Qxf7",
           "31 cp"
          ],
          [
           "openai/gpt-4.1-mini",
           "Qg8",
           "Mate in 1"
          ],
          [
           "openai/gpt-4.1-mini",
           "Qxf7",
           "22 cp"
          ],
          [
           "openai/gpt-4.1-mini",
           "Qg8Rxg8",
           null
          ],
          [
           "openai/gpt-4.1-mini",
           "Qxf7",
           "23 cp"
          ],
          [
           "openai/gpt-4.1-mini",
           "Nhf7",
           "Mate in 3"
          ],
          [
           "openai/gpt-4.1-mini",
           "Qg8",
           "Mate in 1"
          ],
          [
           "openai/gpt-4.1-mini",
           "Qg8",
           "Mate in 1"
          ],
          [
           "openai/gpt-4.1-mini",
           "Qg8",
           "Mate in 1"
          ],
          [
           "openai/gpt-4.1-mini",
           "Qxf7",
           "41 cp"
          ],
          [
           "openai/gpt-4.1-mini",
           "Qg8",
           "Mate in 1"
          ],
          [
           "openai/gpt-4.1-mini",
           "Qxf7",
           "31 cp"
          ],
          [
           "openai/gpt-4.1-mini",
           "Qg8Rxg8",
           null
          ],
          [
           "openai/gpt-4.1-mini",
           "Qxf7",
           "25 cp"
          ],
          [
           "openai/gpt-4.1-mini",
           "Qg8",
           "Mate in 1"
          ],
          [
           "openai/gpt-4.1-mini",
           "Qg8",
           "Mate in 1"
          ],
          [
           "openai/gpt-4.1-mini",
           "Qxf7",
           "39 cp"
          ],
          [
           "openai/gpt-4.1-mini",
           "Qg8",
           "Mate in 1"
          ],
          [
           "openai/gpt-4.1-mini",
           "Qg8",
           "Mate in 1"
          ],
          [
           "openai/gpt-4.1-mini",
           "Qg8Rxg8",
           null
          ],
          [
           "openai/gpt-4.1-mini",
           "Qxf7",
           "35 cp"
          ],
          [
           "openai/gpt-4.1-mini",
           "Qg8",
           "Mate in 1"
          ],
          [
           "openai/gpt-4.1-mini",
           "Qg8",
           "Mate in 1"
          ],
          [
           "openai/gpt-4.1-mini",
           "Qxd8",
           null
          ],
          [
           "openai/gpt-4.1-mini",
           "Qg8",
           "Mate in 1"
          ],
          [
           "openai/gpt-4.1-mini",
           "Qg8",
           "Mate in 1"
          ],
          [
           "openai/gpt-4.1-mini",
           "Nhf5",
           "-443 cp"
          ],
          [
           "openai/gpt-4.1-mini",
           "Qxf7",
           "33 cp"
          ],
          [
           "openai/gpt-4.1-mini",
           "Qg8",
           "Mate in 1"
          ],
          [
           "openai/gpt-4.1-mini",
           "Qxf7",
           "36 cp"
          ],
          [
           "openai/gpt-4.1-mini",
           "Qg8",
           "Mate in 1"
          ],
          [
           "openai/gpt-4.1-mini",
           "Qg8",
           "Mate in 1"
          ],
          [
           "openai/gpt-4.1-mini",
           "Qg8",
           "Mate in 1"
          ],
          [
           "openai/gpt-4.1-mini",
           "Qg8",
           "Mate in 1"
          ],
          [
           "openai/gpt-4.1-mini",
           "Qxd7",
           "-545 cp"
          ],
          [
           "openai/gpt-4.1-mini",
           "Qg8Rxg8",
           null
          ],
          [
           "openai/gpt-4.1-mini",
           "Qg8",
           "Mate in 1"
          ],
          [
           "openai/gpt-4.1-mini",
           "Qg8",
           "Mate in 1"
          ],
          [
           "openai/gpt-4.1-mini",
           "Qg8",
           "Mate in 1"
          ],
          [
           "openai/gpt-4.1-mini",
           "Qg8",
           "Mate in 1"
          ],
          [
           "openai/gpt-4.1-mini",
           "Qg8",
           "Mate in 1"
          ],
          [
           "openai/gpt-4.1-mini",
           "Qg8",
           "Mate in 1"
          ],
          [
           "openai/gpt-4.1-mini",
           "Qxf7",
           "42 cp"
          ],
          [
           "openai/gpt-4.1-mini",
           "Nxg4",
           "-18 cp"
          ],
          [
           "openai/gpt-4.1-mini",
           "Qg8",
           "Mate in 1"
          ],
          [
           "openai/gpt-4.1-mini",
           "Qg8",
           "Mate in 1"
          ],
          [
           "openai/gpt-4.1-mini",
           "Qg8",
           "Mate in 1"
          ],
          [
           "openai/gpt-4.1-mini",
           "Qg8Rxg8",
           null
          ],
          [
           "openai/gpt-4.1-mini",
           "Qg8",
           "Mate in 1"
          ],
          [
           null,
           null,
           null
          ],
          [
           "=== Summary Statistics ===",
           null,
           null
          ],
          [
           "Average Normalized Value",
           null,
           "0.791"
          ],
          [
           "Standard Deviation",
           null,
           "0.335"
          ],
          [
           "Mean Absolute Error (from 0.5)",
           null,
           "0.401"
          ],
          [
           "Illegal Moves (%)",
           null,
           "9.00%"
          ],
          [
           "Mean Value (Legal Moves Only)",
           null,
           "0.869"
          ],
          [
           "openai/gpt-4.1-mini",
           "Qxd7",
           "-557 cp"
          ],
          [
           "openai/gpt-4.1-mini",
           "Qxf7",
           "42 cp"
          ],
          [
           "openai/gpt-4.1-mini",
           "Nhf7",
           "Mate in 3"
          ],
          [
           "openai/gpt-4.1-mini",
           "Qg8",
           "Mate in 1"
          ],
          [
           "openai/gpt-4.1-mini",
           "Qg8",
           "Mate in 1"
          ],
          [
           "openai/gpt-4.1-mini",
           "Nhf7",
           "Mate in 3"
          ],
          [
           "openai/gpt-4.1-mini",
           "Qxf7",
           "36 cp"
          ],
          [
           "openai/gpt-4.1-mini",
           "Qg8Rxg8",
           null
          ],
          [
           "openai/gpt-4.1-mini",
           "Qg8",
           "Mate in 1"
          ],
          [
           "openai/gpt-4.1-mini",
           "Qh5",
           "-635 cp"
          ],
          [
           "openai/gpt-4.1-mini",
           "Qxd8",
           null
          ],
          [
           "openai/gpt-4.1-mini",
           "Qg8",
           "Mate in 1"
          ],
          [
           "openai/gpt-4.1-mini",
           "Nf7",
           "Mate in 3"
          ],
          [
           "openai/gpt-4.1-mini",
           "Nhf7",
           "Mate in 3"
          ],
          [
           "openai/gpt-4.1-mini",
           "Qg8",
           "Mate in 1"
          ],
          [
           "openai/gpt-4.1-mini",
           "Qg8",
           "Mate in 1"
          ],
          [
           "openai/gpt-4.1-mini",
           "Qxf7",
           "44 cp"
          ],
          [
           "openai/gpt-4.1-mini",
           "Qxd8",
           null
          ],
          [
           "openai/gpt-4.1-mini",
           "Qg8",
           "Mate in 1"
          ],
          [
           "openai/gpt-4.1-mini",
           "Qxf7",
           "38 cp"
          ],
          [
           "openai/gpt-4.1-mini",
           "Qg8",
           "Mate in 1"
          ],
          [
           "openai/gpt-4.1-mini",
           "Qg8",
           "Mate in 1"
          ],
          [
           "openai/gpt-4.1-mini",
           "Qxd8",
           null
          ],
          [
           "openai/gpt-4.1-mini",
           "Qxf7",
           "47 cp"
          ],
          [
           "openai/gpt-4.1-mini",
           "Qg8",
           "Mate in 1"
          ],
          [
           "openai/gpt-4.1-mini",
           "Qg8Rxg8",
           null
          ],
          [
           "openai/gpt-4.1-mini",
           "Qg8",
           "Mate in 1"
          ],
          [
           "openai/gpt-4.1-mini",
           "Qg8",
           "Mate in 1"
          ],
          [
           "openai/gpt-4.1-mini",
           "Qg8",
           "Mate in 1"
          ],
          [
           "openai/gpt-4.1-mini",
           "Nf7",
           "Mate in 3"
          ],
          [
           "openai/gpt-4.1-mini",
           "Qg8",
           "Mate in 1"
          ],
          [
           "openai/gpt-4.1-mini",
           "Qg8",
           "Mate in 1"
          ],
          [
           "openai/gpt-4.1-mini",
           "Qxf7",
           "42 cp"
          ],
          [
           "openai/gpt-4.1-mini",
           "Qg8",
           "Mate in 1"
          ],
          [
           "openai/gpt-4.1-mini",
           "Qg8",
           "Mate in 1"
          ],
          [
           "openai/gpt-4.1-mini",
           "Qg8",
           "Mate in 1"
          ],
          [
           "openai/gpt-4.1-mini",
           "Qxf7",
           "49 cp"
          ],
          [
           "openai/gpt-4.1-mini",
           "Qg8",
           "Mate in 1"
          ],
          [
           "openai/gpt-4.1-mini",
           "Qg8",
           "Mate in 1"
          ],
          [
           "openai/gpt-4.1-mini",
           "Qg8",
           "Mate in 1"
          ],
          [
           "openai/gpt-4.1-mini",
           "Qxf7",
           "55 cp"
          ],
          [
           "openai/gpt-4.1-mini",
           "Qxf7",
           "52 cp"
          ],
          [
           "openai/gpt-4.1-mini",
           "Qg8",
           "Mate in 1"
          ],
          [
           "openai/gpt-4.1-mini",
           "Qxf7",
           "38 cp"
          ],
          [
           "openai/gpt-4.1-mini",
           "Qg8",
           "Mate in 1"
          ],
          [
           "openai/gpt-4.1-mini",
           "Qh5",
           "-631 cp"
          ],
          [
           "openai/gpt-4.1-mini",
           "Qg8",
           "Mate in 1"
          ],
          [
           "openai/gpt-4.1-mini",
           "Qg8",
           "Mate in 1"
          ],
          [
           "openai/gpt-4.1-mini",
           "Nf7",
           "Mate in 3"
          ],
          [
           "openai/gpt-4.1-mini",
           "Qxf7",
           "51 cp"
          ],
          [
           "openai/gpt-4.1-mini",
           "Qxf7",
           "45 cp"
          ],
          [
           "openai/gpt-4.1-mini",
           "Qg8Rxg8",
           null
          ],
          [
           "openai/gpt-4.1-mini",
           "Qg8Rxg8",
           null
          ],
          [
           "openai/gpt-4.1-mini",
           "Qg8",
           "Mate in 1"
          ],
          [
           "openai/gpt-4.1-mini",
           "Qg8",
           "Mate in 1"
          ],
          [
           "openai/gpt-4.1-mini",
           "Qg8Rxg8",
           null
          ],
          [
           "openai/gpt-4.1-mini",
           "Qxf7",
           "57 cp"
          ],
          [
           "openai/gpt-4.1-mini",
           "Qg8",
           "Mate in 1"
          ],
          [
           "openai/gpt-4.1-mini",
           "Qg8Rxg8",
           null
          ],
          [
           "openai/gpt-4.1-mini",
           "Qxf7",
           "40 cp"
          ],
          [
           "openai/gpt-4.1-mini",
           "Qg8",
           "Mate in 1"
          ],
          [
           "openai/gpt-4.1-mini",
           "Qxf7",
           "55 cp"
          ],
          [
           "openai/gpt-4.1-mini",
           "Qxf7",
           "48 cp"
          ],
          [
           "openai/gpt-4.1-mini",
           "Qg8",
           "Mate in 1"
          ],
          [
           "openai/gpt-4.1-mini",
           "Qg8",
           "Mate in 1"
          ],
          [
           "openai/gpt-4.1-mini",
           "Qxf7",
           "54 cp"
          ],
          [
           "openai/gpt-4.1-mini",
           "Nxf7",
           "Mate in 3"
          ],
          [
           "openai/gpt-4.1-mini",
           "Qg8Rxg8",
           null
          ],
          [
           "openai/gpt-4.1-mini",
           "Qxf7",
           "51 cp"
          ],
          [
           "openai/gpt-4.1-mini",
           "Qg8",
           "Mate in 1"
          ],
          [
           "openai/gpt-4.1-mini",
           "Nxg4",
           "-2 cp"
          ],
          [
           "openai/gpt-4.1-mini",
           "Qxd7",
           "-546 cp"
          ],
          [
           "openai/gpt-4.1-mini",
           "Qg8",
           "Mate in 1"
          ],
          [
           "openai/gpt-4.1-mini",
           "Nf7",
           "Mate in 3"
          ],
          [
           "openai/gpt-4.1-mini",
           "Qg8",
           "Mate in 1"
          ],
          [
           "openai/gpt-4.1-mini",
           "Qg8",
           "Mate in 1"
          ],
          [
           "openai/gpt-4.1-mini",
           "Qg8",
           "Mate in 1"
          ],
          [
           "openai/gpt-4.1-mini",
           "Qg8Rxg8",
           null
          ],
          [
           "openai/gpt-4.1-mini",
           "Qxf7",
           "55 cp"
          ],
          [
           "openai/gpt-4.1-mini",
           "Qg8",
           "Mate in 1"
          ],
          [
           "openai/gpt-4.1-mini",
           "Qg8",
           "Mate in 1"
          ],
          [
           "openai/gpt-4.1-mini",
           "Qg8",
           "Mate in 1"
          ],
          [
           "openai/gpt-4.1-mini",
           "Qg8",
           "Mate in 1"
          ],
          [
           "openai/gpt-4.1-mini",
           "Qg8",
           "Mate in 1"
          ],
          [
           "openai/gpt-4.1-mini",
           "Qg8",
           "Mate in 1"
          ],
          [
           "openai/gpt-4.1-mini",
           "Qg8Rxg8",
           null
          ],
          [
           "openai/gpt-4.1-mini",
           "Qg8",
           "Mate in 1"
          ],
          [
           "openai/gpt-4.1-mini",
           "Qxf7",
           "57 cp"
          ],
          [
           "openai/gpt-4.1-mini",
           "Qxf7",
           "54 cp"
          ],
          [
           "openai/gpt-4.1-mini",
           "Qg8",
           "Mate in 1"
          ],
          [
           "openai/gpt-4.1-mini",
           "Qxf7",
           "50 cp"
          ],
          [
           "openai/gpt-4.1-mini",
           "Qg8",
           "Mate in 1"
          ],
          [
           "openai/gpt-4.1-mini",
           "Qg8",
           "Mate in 1"
          ],
          [
           "openai/gpt-4.1-mini",
           "Qg8Rxg8",
           null
          ],
          [
           "openai/gpt-4.1-mini",
           "Qg8",
           "Mate in 1"
          ],
          [
           "openai/gpt-4.1-mini",
           "Qxd7",
           "-508 cp"
          ],
          [
           "openai/gpt-4.1-mini",
           "Qg8",
           "Mate in 1"
          ],
          [
           "openai/gpt-4.1-mini",
           "Qg8",
           "Mate in 1"
          ],
          [
           "openai/gpt-4.1-mini",
           "Qxd8",
           null
          ],
          [
           "openai/gpt-4.1-mini",
           "Nhf7",
           "Mate in 3"
          ],
          [
           null,
           null,
           null
          ],
          [
           "=== Summary Statistics ===",
           null,
           null
          ],
          [
           "Average Normalized Value",
           null,
           "0.709"
          ],
          [
           "Standard Deviation",
           null,
           "0.373"
          ],
          [
           "Mean Absolute Error (from 0.5)",
           null,
           "0.378"
          ],
          [
           "Illegal Moves (%)",
           null,
           "14.00%"
          ],
          [
           "Mean Value (Legal Moves Only)",
           null,
           "0.825"
          ],
          [
           "openai/gpt-4.1-mini",
           "Qg8",
           "Mate in 1"
          ],
          [
           "openai/gpt-4.1-mini",
           "Qxf7",
           "41 cp"
          ],
          [
           "openai/gpt-4.1-mini",
           "Qg8",
           "Mate in 1"
          ],
          [
           "openai/gpt-4.1-mini",
           "Qg8Rxg8",
           null
          ],
          [
           "openai/gpt-4.1-mini",
           "Qg8",
           "Mate in 1"
          ],
          [
           "openai/gpt-4.1-mini",
           "Qg8",
           "Mate in 1"
          ],
          [
           "openai/gpt-4.1-mini",
           "Nxg4",
           "-9 cp"
          ],
          [
           "openai/gpt-4.1-mini",
           "Qg8",
           "Mate in 1"
          ],
          [
           "openai/gpt-4.1-mini",
           "Nhf7",
           "Mate in 3"
          ],
          [
           "openai/gpt-4.1-mini",
           "Qxf7",
           "46 cp"
          ],
          [
           "openai/gpt-4.1-mini",
           "Qxf7",
           "46 cp"
          ],
          [
           "openai/gpt-4.1-mini",
           "Qg8",
           "Mate in 1"
          ],
          [
           "openai/gpt-4.1-mini",
           "Qxf7",
           "52 cp"
          ],
          [
           "openai/gpt-4.1-mini",
           "Qg8",
           "Mate in 1"
          ],
          [
           "openai/gpt-4.1-mini",
           "Qg8",
           "Mate in 1"
          ],
          [
           "openai/gpt-4.1-mini",
           "Qg8",
           "Mate in 1"
          ],
          [
           "openai/gpt-4.1-mini",
           "Nxg4",
           "-12 cp"
          ],
          [
           "openai/gpt-4.1-mini",
           "Nhf7",
           "Mate in 3"
          ],
          [
           "openai/gpt-4.1-mini",
           "Qxf7",
           "57 cp"
          ],
          [
           "openai/gpt-4.1-mini",
           "Qg8",
           "Mate in 1"
          ],
          [
           "openai/gpt-4.1-mini",
           "Qg8",
           "Mate in 1"
          ],
          [
           "openai/gpt-4.1-mini",
           "Nhf7",
           "Mate in 3"
          ],
          [
           "openai/gpt-4.1-mini",
           "Qxf7",
           "43 cp"
          ],
          [
           "openai/gpt-4.1-mini",
           "Nf7",
           "Mate in 3"
          ],
          [
           "openai/gpt-4.1-mini",
           "Nxf7",
           "Mate in 3"
          ],
          [
           "openai/gpt-4.1-mini",
           "Nhf5",
           "-464 cp"
          ],
          [
           "openai/gpt-4.1-mini",
           "Qg8Rxg8",
           null
          ],
          [
           "openai/gpt-4.1-mini",
           "Qg8",
           "Mate in 1"
          ],
          [
           "openai/gpt-4.1-mini",
           "Qxf7",
           "40 cp"
          ],
          [
           "openai/gpt-4.1-mini",
           "Qxf7",
           "50 cp"
          ],
          [
           "openai/gpt-4.1-mini",
           "Qg8",
           "Mate in 1"
          ],
          [
           "openai/gpt-4.1-mini",
           "Nhf7",
           "Mate in 3"
          ],
          [
           "openai/gpt-4.1-mini",
           "Qg8",
           "Mate in 1"
          ],
          [
           "openai/gpt-4.1-mini",
           "Qxf7",
           "51 cp"
          ],
          [
           "openai/gpt-4.1-mini",
           "Qg8",
           "Mate in 1"
          ],
          [
           "openai/gpt-4.1-mini",
           "Nhf7",
           "Mate in 3"
          ],
          [
           "openai/gpt-4.1-mini",
           "Qg8",
           "Mate in 1"
          ],
          [
           "openai/gpt-4.1-mini",
           "Qg8Rxg8",
           null
          ],
          [
           "openai/gpt-4.1-mini",
           "Nhf7",
           "Mate in 3"
          ],
          [
           "openai/gpt-4.1-mini",
           "Qg8",
           "Mate in 1"
          ],
          [
           "openai/gpt-4.1-mini",
           "Qg8",
           "Mate in 1"
          ],
          [
           "openai/gpt-4.1-mini",
           "Qg8",
           "Mate in 1"
          ],
          [
           "openai/gpt-4.1-mini",
           "Qg8Rxg8",
           null
          ],
          [
           "openai/gpt-4.1-mini",
           "Qg8",
           "Mate in 1"
          ],
          [
           "openai/gpt-4.1-mini",
           "Qg8",
           "Mate in 1"
          ],
          [
           "openai/gpt-4.1-mini",
           "Qg8xg7",
           null
          ],
          [
           "openai/gpt-4.1-mini",
           "Qg8",
           "Mate in 1"
          ],
          [
           "openai/gpt-4.1-mini",
           "Qg8",
           "Mate in 1"
          ],
          [
           "openai/gpt-4.1-mini",
           "Qxf7",
           "51 cp"
          ],
          [
           "openai/gpt-4.1-mini",
           "Qg8",
           "Mate in 1"
          ],
          [
           "openai/gpt-4.1-mini",
           "Qxd8",
           null
          ],
          [
           "openai/gpt-4.1-mini",
           "Nxg4",
           "-6 cp"
          ],
          [
           "openai/gpt-4.1-mini",
           "Qg8",
           "Mate in 1"
          ],
          [
           "openai/gpt-4.1-mini",
           "Qxf7",
           "53 cp"
          ],
          [
           "openai/gpt-4.1-mini",
           "Qg8",
           "Mate in 1"
          ],
          [
           "openai/gpt-4.1-mini",
           "Qg8",
           "Mate in 1"
          ],
          [
           "openai/gpt-4.1-mini",
           "Qg8",
           "Mate in 1"
          ],
          [
           "openai/gpt-4.1-mini",
           "Qd8",
           null
          ],
          [
           "openai/gpt-4.1-mini",
           "Qxf7",
           "48 cp"
          ],
          [
           "openai/gpt-4.1-mini",
           "Qg8",
           "Mate in 1"
          ],
          [
           "openai/gpt-4.1-mini",
           "Qxf7",
           "52 cp"
          ],
          [
           "openai/gpt-4.1-mini",
           "Qg8Rxg8",
           null
          ],
          [
           "openai/gpt-4.1-mini",
           "Qg8Rxg8",
           null
          ],
          [
           "openai/gpt-4.1-mini",
           "Qxd7",
           "-559 cp"
          ],
          [
           "openai/gpt-4.1-mini",
           "Qg8",
           "Mate in 1"
          ],
          [
           "openai/gpt-4.1-mini",
           "Qg8Q",
           null
          ],
          [
           "openai/gpt-4.1-mini",
           "Qg8R",
           null
          ],
          [
           "openai/gpt-4.1-mini",
           "Qxf7",
           "44 cp"
          ],
          [
           "openai/gpt-4.1-mini",
           "Qg8",
           "Mate in 1"
          ],
          [
           "openai/gpt-4.1-mini",
           "Qg8",
           "Mate in 1"
          ],
          [
           "openai/gpt-4.1-mini",
           "Qh5",
           "-639 cp"
          ],
          [
           "openai/gpt-4.1-mini",
           "Qg8",
           "Mate in 1"
          ],
          [
           "openai/gpt-4.1-mini",
           "Qg8Rxg8",
           null
          ],
          [
           "openai/gpt-4.1-mini",
           "Qg8",
           "Mate in 1"
          ],
          [
           "openai/gpt-4.1-mini",
           "Qg8",
           "Mate in 1"
          ],
          [
           "openai/gpt-4.1-mini",
           "Qg8Rxg8",
           null
          ],
          [
           "openai/gpt-4.1-mini",
           "Nh5",
           null
          ],
          [
           "openai/gpt-4.1-mini",
           "Qxd7",
           "-551 cp"
          ],
          [
           "openai/gpt-4.1-mini",
           "Qxf7",
           "42 cp"
          ],
          [
           "openai/gpt-4.1-mini",
           "Qg8",
           "Mate in 1"
          ],
          [
           "openai/gpt-4.1-mini",
           "Qd8",
           null
          ],
          [
           "openai/gpt-4.1-mini",
           "Qg8Rxg8",
           null
          ],
          [
           "openai/gpt-4.1-mini",
           "Nhf7",
           "Mate in 3"
          ],
          [
           "openai/gpt-4.1-mini",
           "Qg8",
           "Mate in 1"
          ],
          [
           "openai/gpt-4.1-mini",
           "Qg8",
           "Mate in 1"
          ],
          [
           "openai/gpt-4.1-mini",
           "Qg8",
           "Mate in 1"
          ],
          [
           "openai/gpt-4.1-mini",
           "Nh5",
           null
          ],
          [
           "openai/gpt-4.1-mini",
           "Nhf7",
           "Mate in 3"
          ],
          [
           "openai/gpt-4.1-mini",
           "Qg8",
           "Mate in 1"
          ],
          [
           "openai/gpt-4.1-mini",
           "Qg8",
           "Mate in 1"
          ],
          [
           "openai/gpt-4.1-mini",
           "Qg8",
           "Mate in 1"
          ],
          [
           "openai/gpt-4.1-mini",
           "Qg8Rxg8",
           null
          ],
          [
           "openai/gpt-4.1-mini",
           "Nhf5",
           "-447 cp"
          ],
          [
           "openai/gpt-4.1-mini",
           "Qg8",
           "Mate in 1"
          ],
          [
           "openai/gpt-4.1-mini",
           "SE",
           null
          ],
          [
           "openai/gpt-4.1-mini",
           "Qg8",
           "Mate in 1"
          ],
          [
           "openai/gpt-4.1-mini",
           "Qf7",
           "35 cp"
          ],
          [
           "openai/gpt-4.1-mini",
           "Nhf7",
           "Mate in 3"
          ],
          [
           "openai/gpt-4.1-mini",
           "Qxf7",
           "39 cp"
          ],
          [
           "openai/gpt-4.1-mini",
           "Qxf7",
           "30 cp"
          ],
          [
           null,
           null,
           null
          ],
          [
           "=== Summary Statistics ===",
           null,
           null
          ],
          [
           "Average Normalized Value",
           null,
           "0.668"
          ],
          [
           "Standard Deviation",
           null,
           "0.398"
          ],
          [
           "Mean Absolute Error (from 0.5)",
           null,
           "0.385"
          ],
          [
           "Illegal Moves (%)",
           null,
           "19.00%"
          ],
          [
           "Mean Value (Legal Moves Only)",
           null,
           "0.825"
          ],
          [
           "openai/gpt-4.1-mini",
           "Nhf7e5",
           null
          ],
          [
           "openai/gpt-4.1-mini",
           "Nf7",
           "Mate in 3"
          ],
          [
           "openai/gpt-4.1-mini",
           "Qxf7",
           "29 cp"
          ],
          [
           "openai/gpt-4.1-mini",
           "Qg8",
           "Mate in 1"
          ],
          [
           "openai/gpt-4.1-mini",
           "Nhxf7",
           "Mate in 3"
          ],
          [
           "openai/gpt-4.1-mini",
           "Qg8Rxg8",
           null
          ],
          [
           "openai/gpt-4.1-mini",
           "Qxd8",
           null
          ],
          [
           "openai/gpt-4.1-mini",
           "Qxf7",
           "23 cp"
          ],
          [
           "openai/gpt-4.1-mini",
           "Nxf7",
           "Mate in 3"
          ],
          [
           "openai/gpt-4.1-mini",
           "Nhf7",
           "Mate in 3"
          ],
          [
           "openai/gpt-4.1-mini",
           "Nxg4",
           "-1 cp"
          ],
          [
           "openai/gpt-4.1-mini",
           "Qg8xg4",
           null
          ],
          [
           "openai/gpt-4.1-mini",
           "Qg8",
           "Mate in 1"
          ],
          [
           "openai/gpt-4.1-mini",
           "Qxf7",
           "32 cp"
          ],
          [
           "openai/gpt-4.1-mini",
           "Qg8",
           "Mate in 1"
          ],
          [
           "openai/gpt-4.1-mini",
           "Qg8",
           "Mate in 1"
          ],
          [
           "openai/gpt-4.1-mini",
           "Nf7",
           "Mate in 3"
          ],
          [
           "openai/gpt-4.1-mini",
           "Qg8",
           "Mate in 1"
          ],
          [
           "openai/gpt-4.1-mini",
           "Nxf7",
           "Mate in 3"
          ],
          [
           "openai/gpt-4.1-mini",
           "Qxf7",
           "30 cp"
          ],
          [
           "openai/gpt-4.1-mini",
           "Qg8",
           "Mate in 1"
          ],
          [
           "openai/gpt-4.1-mini",
           "Nf7",
           "Mate in 3"
          ],
          [
           "openai/gpt-4.1-mini",
           "Qg8Rxg8",
           null
          ],
          [
           "openai/gpt-4.1-mini",
           "Qg8",
           "Mate in 1"
          ],
          [
           "openai/gpt-4.1-mini",
           "Qg8",
           "Mate in 1"
          ],
          [
           "openai/gpt-4.1-mini",
           "Qg8",
           "Mate in 1"
          ],
          [
           "openai/gpt-4.1-mini",
           "Qg8",
           "Mate in 1"
          ],
          [
           "openai/gpt-4.1-mini",
           "Nhf5",
           "-438 cp"
          ],
          [
           "openai/gpt-4.1-mini",
           "Qg8",
           "Mate in 1"
          ],
          [
           "openai/gpt-4.1-mini",
           "Qxf7",
           "39 cp"
          ],
          [
           "openai/gpt-4.1-mini",
           "Qg8",
           "Mate in 1"
          ],
          [
           "openai/gpt-4.1-mini",
           "Qxf7",
           "28 cp"
          ],
          [
           "openai/gpt-4.1-mini",
           "Qg8",
           "Mate in 1"
          ],
          [
           "openai/gpt-4.1-mini",
           "Qxf7",
           "48 cp"
          ],
          [
           "openai/gpt-4.1-mini",
           "Qxf7",
           "47 cp"
          ],
          [
           "openai/gpt-4.1-mini",
           "Nhf5",
           "-452 cp"
          ],
          [
           "openai/gpt-4.1-mini",
           "Qg8",
           "Mate in 1"
          ],
          [
           "openai/gpt-4.1-mini",
           "Qg8",
           "Mate in 1"
          ],
          [
           "openai/gpt-4.1-mini",
           "Qg8",
           "Mate in 1"
          ],
          [
           "openai/gpt-4.1-mini",
           "SE",
           null
          ],
          [
           "openai/gpt-4.1-mini",
           "Qd8",
           null
          ],
          [
           "openai/gpt-4.1-mini",
           "Nf7",
           "Mate in 3"
          ],
          [
           "openai/gpt-4.1-mini",
           "Nxg4",
           "0 cp"
          ],
          [
           "openai/gpt-4.1-mini",
           "Nhf7",
           "Mate in 3"
          ],
          [
           "openai/gpt-4.1-mini",
           "SE",
           null
          ],
          [
           "openai/gpt-4.1-mini",
           "Qxf7",
           "35 cp"
          ],
          [
           "openai/gpt-4.1-mini",
           "Qg8Rxg8",
           null
          ],
          [
           "openai/gpt-4.1-mini",
           "Qg8",
           "Mate in 1"
          ],
          [
           "openai/gpt-4.1-mini",
           "Qg8",
           "Mate in 1"
          ],
          [
           "openai/gpt-4.1-mini",
           "Qd8",
           null
          ],
          [
           "openai/gpt-4.1-mini",
           "Nhf7",
           "Mate in 3"
          ],
          [
           "openai/gpt-4.1-mini",
           "Qg8",
           "Mate in 1"
          ],
          [
           "openai/gpt-4.1-mini",
           "Qg8",
           "Mate in 1"
          ],
          [
           "openai/gpt-4.1-mini",
           "Qg8",
           "Mate in 1"
          ],
          [
           "openai/gpt-4.1-mini",
           "Qxf7",
           "25 cp"
          ],
          [
           "openai/gpt-4.1-mini",
           "Qxf7",
           "49 cp"
          ],
          [
           "openai/gpt-4.1-mini",
           "Qg8",
           "Mate in 1"
          ],
          [
           "openai/gpt-4.1-mini",
           "Qg8R",
           null
          ],
          [
           "openai/gpt-4.1-mini",
           "Qg8",
           "Mate in 1"
          ],
          [
           "openai/gpt-4.1-mini",
           "Nhf7",
           "Mate in 3"
          ],
          [
           "openai/gpt-4.1-mini",
           "Qg8",
           "Mate in 1"
          ],
          [
           "openai/gpt-4.1-mini",
           "Nhf5",
           "-456 cp"
          ],
          [
           "openai/gpt-4.1-mini",
           "Qxf7",
           "41 cp"
          ],
          [
           "openai/gpt-4.1-mini",
           "Qg8Rxg8",
           null
          ],
          [
           "openai/gpt-4.1-mini",
           "Qxf7",
           "27 cp"
          ],
          [
           "openai/gpt-4.1-mini",
           "Qxf7",
           "24 cp"
          ],
          [
           "openai/gpt-4.1-mini",
           "Qg8Rxg8",
           null
          ],
          [
           "openai/gpt-4.1-mini",
           "Qxf7",
           "40 cp"
          ],
          [
           "openai/gpt-4.1-mini",
           "Qg8",
           "Mate in 1"
          ],
          [
           "openai/gpt-4.1-mini",
           "Qxd8",
           null
          ],
          [
           "openai/gpt-4.1-mini",
           "Qg8",
           "Mate in 1"
          ],
          [
           "openai/gpt-4.1-mini",
           "Qxf7",
           "39 cp"
          ],
          [
           "openai/gpt-4.1-mini",
           "Qg8",
           "Mate in 1"
          ],
          [
           "openai/gpt-4.1-mini",
           "Qxd8",
           null
          ],
          [
           "openai/gpt-4.1-mini",
           "Qg8Rxg8",
           null
          ],
          [
           "openai/gpt-4.1-mini",
           "Qg8",
           "Mate in 1"
          ],
          [
           "openai/gpt-4.1-mini",
           "Qxd8",
           null
          ],
          [
           "openai/gpt-4.1-mini",
           "Qxd8",
           null
          ],
          [
           "openai/gpt-4.1-mini",
           "Nhf7",
           "Mate in 3"
          ],
          [
           "openai/gpt-4.1-mini",
           "Qg8",
           "Mate in 1"
          ],
          [
           "openai/gpt-4.1-mini",
           "Qxf7",
           "22 cp"
          ],
          [
           "openai/gpt-4.1-mini",
           "Qxd7",
           "-562 cp"
          ],
          [
           "openai/gpt-4.1-mini",
           "Qg8Rxg8",
           null
          ],
          [
           "openai/gpt-4.1-mini",
           "Nxg4",
           "0 cp"
          ],
          [
           "openai/gpt-4.1-mini",
           "Qg8",
           "Mate in 1"
          ],
          [
           "openai/gpt-4.1-mini",
           "Qxf7",
           "23 cp"
          ],
          [
           "openai/gpt-4.1-mini",
           "Qxd8",
           null
          ],
          [
           "openai/gpt-4.1-mini",
           "Nxg4",
           "25 cp"
          ],
          [
           "openai/gpt-4.1-mini",
           "Qxd8",
           null
          ],
          [
           "openai/gpt-4.1-mini",
           "Qg8",
           "Mate in 1"
          ],
          [
           "openai/gpt-4.1-mini",
           "Qg8Rxg8",
           null
          ],
          [
           "openai/gpt-4.1-mini",
           "Nf7",
           "Mate in 3"
          ],
          [
           "openai/gpt-4.1-mini",
           "Qxf7",
           "24 cp"
          ],
          [
           "openai/gpt-4.1-mini",
           "Qg8",
           "Mate in 1"
          ],
          [
           "openai/gpt-4.1-mini",
           "Qxf7",
           "35 cp"
          ],
          [
           "openai/gpt-4.1-mini",
           "Qg8",
           "Mate in 1"
          ],
          [
           "openai/gpt-4.1-mini",
           "Qg8xg7",
           null
          ],
          [
           "openai/gpt-4.1-mini",
           "Nhf7",
           "Mate in 3"
          ],
          [
           "openai/gpt-4.1-mini",
           "Qg8",
           "Mate in 1"
          ],
          [
           "openai/gpt-4.1-mini",
           "Qg8Rxg8",
           null
          ],
          [
           null,
           null,
           null
          ],
          [
           "=== Summary Statistics ===",
           null,
           null
          ],
          [
           "Average Normalized Value",
           null,
           "0.611"
          ],
          [
           "Standard Deviation",
           null,
           "0.409"
          ],
          [
           "Mean Absolute Error (from 0.5)",
           null,
           "0.37"
          ],
          [
           "Illegal Moves (%)",
           null,
           "24.00%"
          ],
          [
           "Mean Value (Legal Moves Only)",
           null,
           "0.804"
          ]
         ],
         "hovertemplate": "Temperature=%{x}<br>Normalized Score=%{y}<br>Model=%{customdata[0]}<br>Move=%{customdata[1]}<br>Eval=%{customdata[2]}<extra></extra>",
         "legendgroup": "",
         "marker": {
          "color": "#636efa",
          "line": {
           "color": "DarkSlateGrey",
           "width": 0.5
          },
          "opacity": 0.6,
          "size": 6,
          "symbol": "circle"
         },
         "mode": "markers",
         "name": "",
         "showlegend": false,
         "type": "scattergl",
         "x": {
          "bdata": "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",
          "dtype": "f8"
         },
         "xaxis": "x",
         "y": {
          "bdata": "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",
          "dtype": "f8"
         },
         "yaxis": "y"
        }
       ],
       "layout": {
        "legend": {
         "tracegroupgap": 0
        },
        "template": {
         "data": {
          "bar": [
           {
            "error_x": {
             "color": "#2a3f5f"
            },
            "error_y": {
             "color": "#2a3f5f"
            },
            "marker": {
             "line": {
              "color": "white",
              "width": 0.5
             },
             "pattern": {
              "fillmode": "overlay",
              "size": 10,
              "solidity": 0.2
             }
            },
            "type": "bar"
           }
          ],
          "barpolar": [
           {
            "marker": {
             "line": {
              "color": "white",
              "width": 0.5
             },
             "pattern": {
              "fillmode": "overlay",
              "size": 10,
              "solidity": 0.2
             }
            },
            "type": "barpolar"
           }
          ],
          "carpet": [
           {
            "aaxis": {
             "endlinecolor": "#2a3f5f",
             "gridcolor": "#C8D4E3",
             "linecolor": "#C8D4E3",
             "minorgridcolor": "#C8D4E3",
             "startlinecolor": "#2a3f5f"
            },
            "baxis": {
             "endlinecolor": "#2a3f5f",
             "gridcolor": "#C8D4E3",
             "linecolor": "#C8D4E3",
             "minorgridcolor": "#C8D4E3",
             "startlinecolor": "#2a3f5f"
            },
            "type": "carpet"
           }
          ],
          "choropleth": [
           {
            "colorbar": {
             "outlinewidth": 0,
             "ticks": ""
            },
            "type": "choropleth"
           }
          ],
          "contour": [
           {
            "colorbar": {
             "outlinewidth": 0,
             "ticks": ""
            },
            "colorscale": [
             [
              0,
              "#0d0887"
             ],
             [
              0.1111111111111111,
              "#46039f"
             ],
             [
              0.2222222222222222,
              "#7201a8"
             ],
             [
              0.3333333333333333,
              "#9c179e"
             ],
             [
              0.4444444444444444,
              "#bd3786"
             ],
             [
              0.5555555555555556,
              "#d8576b"
             ],
             [
              0.6666666666666666,
              "#ed7953"
             ],
             [
              0.7777777777777778,
              "#fb9f3a"
             ],
             [
              0.8888888888888888,
              "#fdca26"
             ],
             [
              1,
              "#f0f921"
             ]
            ],
            "type": "contour"
           }
          ],
          "contourcarpet": [
           {
            "colorbar": {
             "outlinewidth": 0,
             "ticks": ""
            },
            "type": "contourcarpet"
           }
          ],
          "heatmap": [
           {
            "colorbar": {
             "outlinewidth": 0,
             "ticks": ""
            },
            "colorscale": [
             [
              0,
              "#0d0887"
             ],
             [
              0.1111111111111111,
              "#46039f"
             ],
             [
              0.2222222222222222,
              "#7201a8"
             ],
             [
              0.3333333333333333,
              "#9c179e"
             ],
             [
              0.4444444444444444,
              "#bd3786"
             ],
             [
              0.5555555555555556,
              "#d8576b"
             ],
             [
              0.6666666666666666,
              "#ed7953"
             ],
             [
              0.7777777777777778,
              "#fb9f3a"
             ],
             [
              0.8888888888888888,
              "#fdca26"
             ],
             [
              1,
              "#f0f921"
             ]
            ],
            "type": "heatmap"
           }
          ],
          "histogram": [
           {
            "marker": {
             "pattern": {
              "fillmode": "overlay",
              "size": 10,
              "solidity": 0.2
             }
            },
            "type": "histogram"
           }
          ],
          "histogram2d": [
           {
            "colorbar": {
             "outlinewidth": 0,
             "ticks": ""
            },
            "colorscale": [
             [
              0,
              "#0d0887"
             ],
             [
              0.1111111111111111,
              "#46039f"
             ],
             [
              0.2222222222222222,
              "#7201a8"
             ],
             [
              0.3333333333333333,
              "#9c179e"
             ],
             [
              0.4444444444444444,
              "#bd3786"
             ],
             [
              0.5555555555555556,
              "#d8576b"
             ],
             [
              0.6666666666666666,
              "#ed7953"
             ],
             [
              0.7777777777777778,
              "#fb9f3a"
             ],
             [
              0.8888888888888888,
              "#fdca26"
             ],
             [
              1,
              "#f0f921"
             ]
            ],
            "type": "histogram2d"
           }
          ],
          "histogram2dcontour": [
           {
            "colorbar": {
             "outlinewidth": 0,
             "ticks": ""
            },
            "colorscale": [
             [
              0,
              "#0d0887"
             ],
             [
              0.1111111111111111,
              "#46039f"
             ],
             [
              0.2222222222222222,
              "#7201a8"
             ],
             [
              0.3333333333333333,
              "#9c179e"
             ],
             [
              0.4444444444444444,
              "#bd3786"
             ],
             [
              0.5555555555555556,
              "#d8576b"
             ],
             [
              0.6666666666666666,
              "#ed7953"
             ],
             [
              0.7777777777777778,
              "#fb9f3a"
             ],
             [
              0.8888888888888888,
              "#fdca26"
             ],
             [
              1,
              "#f0f921"
             ]
            ],
            "type": "histogram2dcontour"
           }
          ],
          "mesh3d": [
           {
            "colorbar": {
             "outlinewidth": 0,
             "ticks": ""
            },
            "type": "mesh3d"
           }
          ],
          "parcoords": [
           {
            "line": {
             "colorbar": {
              "outlinewidth": 0,
              "ticks": ""
             }
            },
            "type": "parcoords"
           }
          ],
          "pie": [
           {
            "automargin": true,
            "type": "pie"
           }
          ],
          "scatter": [
           {
            "fillpattern": {
             "fillmode": "overlay",
             "size": 10,
             "solidity": 0.2
            },
            "type": "scatter"
           }
          ],
          "scatter3d": [
           {
            "line": {
             "colorbar": {
              "outlinewidth": 0,
              "ticks": ""
             }
            },
            "marker": {
             "colorbar": {
              "outlinewidth": 0,
              "ticks": ""
             }
            },
            "type": "scatter3d"
           }
          ],
          "scattercarpet": [
           {
            "marker": {
             "colorbar": {
              "outlinewidth": 0,
              "ticks": ""
             }
            },
            "type": "scattercarpet"
           }
          ],
          "scattergeo": [
           {
            "marker": {
             "colorbar": {
              "outlinewidth": 0,
              "ticks": ""
             }
            },
            "type": "scattergeo"
           }
          ],
          "scattergl": [
           {
            "marker": {
             "colorbar": {
              "outlinewidth": 0,
              "ticks": ""
             }
            },
            "type": "scattergl"
           }
          ],
          "scattermap": [
           {
            "marker": {
             "colorbar": {
              "outlinewidth": 0,
              "ticks": ""
             }
            },
            "type": "scattermap"
           }
          ],
          "scattermapbox": [
           {
            "marker": {
             "colorbar": {
              "outlinewidth": 0,
              "ticks": ""
             }
            },
            "type": "scattermapbox"
           }
          ],
          "scatterpolar": [
           {
            "marker": {
             "colorbar": {
              "outlinewidth": 0,
              "ticks": ""
             }
            },
            "type": "scatterpolar"
           }
          ],
          "scatterpolargl": [
           {
            "marker": {
             "colorbar": {
              "outlinewidth": 0,
              "ticks": ""
             }
            },
            "type": "scatterpolargl"
           }
          ],
          "scatterternary": [
           {
            "marker": {
             "colorbar": {
              "outlinewidth": 0,
              "ticks": ""
             }
            },
            "type": "scatterternary"
           }
          ],
          "surface": [
           {
            "colorbar": {
             "outlinewidth": 0,
             "ticks": ""
            },
            "colorscale": [
             [
              0,
              "#0d0887"
             ],
             [
              0.1111111111111111,
              "#46039f"
             ],
             [
              0.2222222222222222,
              "#7201a8"
             ],
             [
              0.3333333333333333,
              "#9c179e"
             ],
             [
              0.4444444444444444,
              "#bd3786"
             ],
             [
              0.5555555555555556,
              "#d8576b"
             ],
             [
              0.6666666666666666,
              "#ed7953"
             ],
             [
              0.7777777777777778,
              "#fb9f3a"
             ],
             [
              0.8888888888888888,
              "#fdca26"
             ],
             [
              1,
              "#f0f921"
             ]
            ],
            "type": "surface"
           }
          ],
          "table": [
           {
            "cells": {
             "fill": {
              "color": "#EBF0F8"
             },
             "line": {
              "color": "white"
             }
            },
            "header": {
             "fill": {
              "color": "#C8D4E3"
             },
             "line": {
              "color": "white"
             }
            },
            "type": "table"
           }
          ]
         },
         "layout": {
          "annotationdefaults": {
           "arrowcolor": "#2a3f5f",
           "arrowhead": 0,
           "arrowwidth": 1
          },
          "autotypenumbers": "strict",
          "coloraxis": {
           "colorbar": {
            "outlinewidth": 0,
            "ticks": ""
           }
          },
          "colorscale": {
           "diverging": [
            [
             0,
             "#8e0152"
            ],
            [
             0.1,
             "#c51b7d"
            ],
            [
             0.2,
             "#de77ae"
            ],
            [
             0.3,
             "#f1b6da"
            ],
            [
             0.4,
             "#fde0ef"
            ],
            [
             0.5,
             "#f7f7f7"
            ],
            [
             0.6,
             "#e6f5d0"
            ],
            [
             0.7,
             "#b8e186"
            ],
            [
             0.8,
             "#7fbc41"
            ],
            [
             0.9,
             "#4d9221"
            ],
            [
             1,
             "#276419"
            ]
           ],
           "sequential": [
            [
             0,
             "#0d0887"
            ],
            [
             0.1111111111111111,
             "#46039f"
            ],
            [
             0.2222222222222222,
             "#7201a8"
            ],
            [
             0.3333333333333333,
             "#9c179e"
            ],
            [
             0.4444444444444444,
             "#bd3786"
            ],
            [
             0.5555555555555556,
             "#d8576b"
            ],
            [
             0.6666666666666666,
             "#ed7953"
            ],
            [
             0.7777777777777778,
             "#fb9f3a"
            ],
            [
             0.8888888888888888,
             "#fdca26"
            ],
            [
             1,
             "#f0f921"
            ]
           ],
           "sequentialminus": [
            [
             0,
             "#0d0887"
            ],
            [
             0.1111111111111111,
             "#46039f"
            ],
            [
             0.2222222222222222,
             "#7201a8"
            ],
            [
             0.3333333333333333,
             "#9c179e"
            ],
            [
             0.4444444444444444,
             "#bd3786"
            ],
            [
             0.5555555555555556,
             "#d8576b"
            ],
            [
             0.6666666666666666,
             "#ed7953"
            ],
            [
             0.7777777777777778,
             "#fb9f3a"
            ],
            [
             0.8888888888888888,
             "#fdca26"
            ],
            [
             1,
             "#f0f921"
            ]
           ]
          },
          "colorway": [
           "#636efa",
           "#EF553B",
           "#00cc96",
           "#ab63fa",
           "#FFA15A",
           "#19d3f3",
           "#FF6692",
           "#B6E880",
           "#FF97FF",
           "#FECB52"
          ],
          "font": {
           "color": "#2a3f5f"
          },
          "geo": {
           "bgcolor": "white",
           "lakecolor": "white",
           "landcolor": "white",
           "showlakes": true,
           "showland": true,
           "subunitcolor": "#C8D4E3"
          },
          "hoverlabel": {
           "align": "left"
          },
          "hovermode": "closest",
          "mapbox": {
           "style": "light"
          },
          "paper_bgcolor": "white",
          "plot_bgcolor": "white",
          "polar": {
           "angularaxis": {
            "gridcolor": "#EBF0F8",
            "linecolor": "#EBF0F8",
            "ticks": ""
           },
           "bgcolor": "white",
           "radialaxis": {
            "gridcolor": "#EBF0F8",
            "linecolor": "#EBF0F8",
            "ticks": ""
           }
          },
          "scene": {
           "xaxis": {
            "backgroundcolor": "white",
            "gridcolor": "#DFE8F3",
            "gridwidth": 2,
            "linecolor": "#EBF0F8",
            "showbackground": true,
            "ticks": "",
            "zerolinecolor": "#EBF0F8"
           },
           "yaxis": {
            "backgroundcolor": "white",
            "gridcolor": "#DFE8F3",
            "gridwidth": 2,
            "linecolor": "#EBF0F8",
            "showbackground": true,
            "ticks": "",
            "zerolinecolor": "#EBF0F8"
           },
           "zaxis": {
            "backgroundcolor": "white",
            "gridcolor": "#DFE8F3",
            "gridwidth": 2,
            "linecolor": "#EBF0F8",
            "showbackground": true,
            "ticks": "",
            "zerolinecolor": "#EBF0F8"
           }
          },
          "shapedefaults": {
           "line": {
            "color": "#2a3f5f"
           }
          },
          "ternary": {
           "aaxis": {
            "gridcolor": "#DFE8F3",
            "linecolor": "#A2B1C6",
            "ticks": ""
           },
           "baxis": {
            "gridcolor": "#DFE8F3",
            "linecolor": "#A2B1C6",
            "ticks": ""
           },
           "bgcolor": "white",
           "caxis": {
            "gridcolor": "#DFE8F3",
            "linecolor": "#A2B1C6",
            "ticks": ""
           }
          },
          "title": {
           "x": 0.05
          },
          "xaxis": {
           "automargin": true,
           "gridcolor": "#EBF0F8",
           "linecolor": "#EBF0F8",
           "ticks": "",
           "title": {
            "standoff": 15
           },
           "zerolinecolor": "#EBF0F8",
           "zerolinewidth": 2
          },
          "yaxis": {
           "automargin": true,
           "gridcolor": "#EBF0F8",
           "linecolor": "#EBF0F8",
           "ticks": "",
           "title": {
            "standoff": 15
           },
           "zerolinecolor": "#EBF0F8",
           "zerolinewidth": 2
          }
         }
        },
        "title": {
         "text": "Scatter Plot of Normalized Score vs Temperature (with jitter)"
        },
        "xaxis": {
         "anchor": "y",
         "domain": [
          0,
          1
         ],
         "dtick": 0.1,
         "title": {
          "text": "Temperature"
         }
        },
        "yaxis": {
         "anchor": "x",
         "domain": [
          0,
          1
         ],
         "title": {
          "text": "Normalized Score"
         }
        }
       }
      }
     },
     "metadata": {},
     "output_type": "display_data"
    }
   ],
   "source": [
    "import pandas as pd\n",
    "import plotly.express as px\n",
    "import numpy as np\n",
    "\n",
    "files_with_temp = [\n",
    "    (\"res_MdLike_male_week01Best_0.0.csv\", 0.0),\n",
    "    (\"res_MdLike_male_week01Best_0.1.csv\", 0.1),\n",
    "    (\"res_MdLike_male_week01Best_0.2.csv\", 0.2),\n",
    "    (\"res_MdLike_male_week01Best_0.3.csv\", 0.3),\n",
    "    (\"res_MdLike_male_week01Best_0.4.csv\", 0.4),\n",
    "    (\"res_MdLike_male_week01Best_0.5.csv\", 0.5),\n",
    "    (\"res_MdLike_male_week01Best_0.6.csv\", 0.6),\n",
    "    (\"res_MdLike_male_week01Best_0.7.csv\", 0.7),\n",
    "    (\"res_MdLike_male_week01Best_0.8.csv\", 0.8),\n",
    "    (\"res_MdLike_male_week01Best_0.9.csv\", 0.9),\n",
    "    (\"res_MdLike_male_week01Best_1.csv\", 1),\n",
    "]\n",
    "\n",
    "dfs = []\n",
    "for file, temp in files_with_temp:\n",
    "    df = pd.read_csv(file)\n",
    "    df[\"temperature\"] = temp\n",
    "    dfs.append(df)\n",
    "\n",
    "combined_df = pd.concat(dfs, ignore_index=True)\n",
    "\n",
    "# Add small jitter to temperature so overlapping points are visible\n",
    "np.random.seed(42)  # for reproducibility\n",
    "combined_df[\"temp_jitter\"] = combined_df[\"temperature\"] + np.random.uniform(\n",
    "    -0.02, 0.02, size=len(combined_df)\n",
    ")\n",
    "\n",
    "fig = px.scatter(\n",
    "    combined_df,\n",
    "    x=\"temp_jitter\",\n",
    "    y=\"Normalized\",\n",
    "    opacity=0.6,\n",
    "    hover_data=[\"Model\", \"Move\", \"Eval\"],\n",
    "    title=\"Scatter Plot of Normalized Score vs Temperature (with jitter)\",\n",
    "    labels={\"temp_jitter\": \"Temperature\", \"Normalized\": \"Normalized Score\"},\n",
    ")\n",
    "\n",
    "fig.update_traces(marker=dict(size=6, line=dict(width=0.5, color=\"DarkSlateGrey\")))\n",
    "fig.update_layout(xaxis=dict(dtick=0.1), template=\"plotly_white\")\n",
    "\n",
    "fig.show()"
   ]
  }
 ],
 "metadata": {
  "kernelspec": {
   "display_name": "Python 3",
   "language": "python",
   "name": "python3"
  },
  "language_info": {
   "codemirror_mode": {
    "name": "ipython",
    "version": 3
   },
   "file_extension": ".py",
   "mimetype": "text/x-python",
   "name": "python",
   "nbconvert_exporter": "python",
   "pygments_lexer": "ipython3",
   "version": "3.13.7"
  }
 },
 "nbformat": 4,
 "nbformat_minor": 5
}
